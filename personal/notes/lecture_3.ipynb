{
 "cells": [
  {
   "cell_type": "markdown",
   "id": "7576202b",
   "metadata": {},
   "source": [
    "# MATH2504\n",
    "\n",
    "## Lecture 3"
   ]
  },
  {
   "cell_type": "markdown",
   "id": "d5738341",
   "metadata": {},
   "source": [
    "#### Defining Functions\n",
    "\n",
    "We can define standard functions, inline functions, or pipeline functions:"
   ]
  },
  {
   "cell_type": "code",
   "execution_count": 7,
   "id": "ba7a9630",
   "metadata": {},
   "outputs": [
    {
     "name": "stdout",
     "output_type": "stream",
     "text": [
      "func_times_2(2) = 4\n",
      "inline_times_2(2) = 4\n",
      "(inline_times_2 ∘ inline_times_2)(2) = 8\n"
     ]
    }
   ],
   "source": [
    "# Standard function\n",
    "function func_times_2(x)\n",
    "    return 2*x\n",
    "end\n",
    "\n",
    "@show func_times_2(2);\n",
    "\n",
    "# Inline function\n",
    "inline_times_2(x) = 2x;\n",
    "\n",
    "@show inline_times_2(2);\n",
    "\n",
    "# Functional composition\n",
    "@show (inline_times_2 ∘ inline_times_2)(2);\n"
   ]
  },
  {
   "cell_type": "code",
   "execution_count": 10,
   "id": "bffa3b91",
   "metadata": {},
   "outputs": [
    {
     "name": "stdout",
     "output_type": "stream",
     "text": [
      "Pipeline with inline function: [2, 4, 6]\n",
      "Pipeline with anonymous function: [2, 4, 6]\n"
     ]
    }
   ],
   "source": [
    "# Pipeline function\n",
    "a = [1, 2, 3] |> inline_times_2;\n",
    "b = [1, 2, 3] |> (x->2x);\n",
    "\n",
    "println(\"Pipeline with inline function: $a\");\n",
    "println(\"Pipeline with anonymous function: $a\");\n"
   ]
  },
  {
   "cell_type": "markdown",
   "id": "0a56a65d",
   "metadata": {},
   "source": [
    "#### Indexing\n",
    "\n",
    "We can select elements from items in Julia with the `[]` notation. \n",
    "- We can get and set values at index `i` for mutable types, but only set values for immutable types.\n",
    "- Indexing starts at 1 in Julia"
   ]
  },
  {
   "cell_type": "code",
   "execution_count": null,
   "id": "7d1dbe9b",
   "metadata": {},
   "outputs": [
    {
     "name": "stdout",
     "output_type": "stream",
     "text": [
      "Element at index 3 of Hello: `l`\n",
      "Setting element at index 3 to `k`\n",
      "Encountered error: MethodError(setindex!, (\"Hello\", 'k', 3), 0x0000000000006888)\n",
      "Element at index 1 of [1, 2, 3]: 1\n",
      "Setting element at index 1 to 2\n",
      "[2, 2, 3]"
     ]
    }
   ],
   "source": [
    "# Immmutable types\n",
    "str = \"Hello\";\n",
    "elem_3 = str[3];\n",
    "println(\"Element at index 3 of $str: `$elem_3`\")\n",
    "println(\"Setting element at index 3 to `k`\")\n",
    "try\n",
    "    str[3] = 'k'\n",
    "catch error\n",
    "    println(\"Encountered error: $error\")\n",
    "end\n",
    "\n",
    "# Mutable types\n",
    "arr_1 = [1, 2, 3];\n",
    "elem_1 = arr_1[1];\n",
    "println(\"Element at index 1 of $arr_1: $elem_1\")\n",
    "println(\"Setting element at index 1 to 2\")\n",
    "arr_1[1] = 2;\n",
    "print(arr_1);\n"
   ]
  },
  {
   "cell_type": "markdown",
   "id": "0a0c17b1",
   "metadata": {},
   "source": [
    "#### Adding to arrays\n",
    "\n",
    "We can define an array of a variable size and `push` elements to it\n"
   ]
  },
  {
   "cell_type": "code",
   "execution_count": 20,
   "id": "cffe471c",
   "metadata": {},
   "outputs": [
    {
     "name": "stdout",
     "output_type": "stream",
     "text": [
      "arr = [1, 2, 3, 4, 5, 6, 7, 8, 9, 10]\n"
     ]
    },
    {
     "data": {
      "text/plain": [
       "10-element Vector{Int64}:\n",
       "  1\n",
       "  2\n",
       "  3\n",
       "  4\n",
       "  5\n",
       "  6\n",
       "  7\n",
       "  8\n",
       "  9\n",
       " 10"
      ]
     },
     "metadata": {},
     "output_type": "display_data"
    }
   ],
   "source": [
    "arr = Int[];\n",
    "for i in 1:10\n",
    "    push!(arr, i);\n",
    "end\n",
    "\n",
    "@show arr"
   ]
  },
  {
   "cell_type": "markdown",
   "id": "f86781a2",
   "metadata": {},
   "source": [
    "#### Comprehensions\n",
    "\n",
    "Perform loops inside an array"
   ]
  },
  {
   "cell_type": "code",
   "execution_count": 22,
   "id": "aefc5265",
   "metadata": {},
   "outputs": [
    {
     "name": "stdout",
     "output_type": "stream",
     "text": [
      "[1, 4, 9, 16, 25, 36, 49, 64, 81, 100]\n"
     ]
    }
   ],
   "source": [
    "arr = [i^2 for i in 1:10]\n",
    "println(arr);"
   ]
  },
  {
   "cell_type": "code",
   "execution_count": 43,
   "id": "0e59017e",
   "metadata": {},
   "outputs": [
    {
     "ename": "UndefVarError",
     "evalue": "UndefVarError: `result` not defined in local scope\nSuggestion: check for an assignment to a local variable that shadows a global of the same name.",
     "output_type": "error",
     "traceback": [
      "UndefVarError: `result` not defined in local scope\n",
      "Suggestion: check for an assignment to a local variable that shadows a global of the same name.\n",
      "\n",
      "Stacktrace:\n",
      " [1] top-level scope\n",
      "   @ c:\\Users\\georg\\university\\MATH2504\\course-repo\\personal\\notes\\jl_notebook_cell_df34fa98e69747e1a8f8a730347b8e2f_X20sZmlsZQ==.jl:19"
     ]
    }
   ],
   "source": [
    "using Random\n",
    "\n",
    "operations = ['+', '-', '*']\n",
    "\n",
    "for _ in 1:10\n",
    "    num_1 = rand(1:200);\n",
    "    num_2 = rand(1:200);\n",
    "\n",
    "    global operations;\n",
    "    operation_idx = rand(1:3);\n",
    "\n",
    "    results = Int[]\n",
    "\n",
    "    if operations[operation_idx] == '+'\n",
    "        result = num_1 + num_2;\n",
    "        println(\"What is the sum of $num_1 and $num_2\")\n",
    "    \n",
    "    elseif operations[operation_idx] == '-'\n",
    "        result == num_1 - num_2;\n",
    "        println(\"What is $num_1 minus $num_2\");\n",
    "    \n",
    "    elseif operations[operation_idx] == '*'\n",
    "        result = num_1 * num_2;\n",
    "\n",
    "    end\n",
    "\n",
    "    answer = readline() # This wont work\n",
    "    if parse(Int, answer) == result\n",
    "        push(results, 1)\n",
    "    end\n",
    "\n",
    "end\n",
    "\n"
   ]
  }
 ],
 "metadata": {
  "kernelspec": {
   "display_name": "Julia 1.11.6",
   "language": "julia",
   "name": "julia-1.11"
  },
  "language_info": {
   "file_extension": ".jl",
   "mimetype": "application/julia",
   "name": "julia",
   "version": "1.11.6"
  }
 },
 "nbformat": 4,
 "nbformat_minor": 5
}
