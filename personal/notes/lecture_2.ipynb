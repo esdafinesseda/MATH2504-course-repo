{
 "cells": [
  {
   "cell_type": "markdown",
   "id": "9c83f7ef",
   "metadata": {},
   "source": [
    "# MATH2504\n",
    "\n",
    "## Lecture 2"
   ]
  },
  {
   "cell_type": "markdown",
   "id": "cdad1014",
   "metadata": {},
   "source": [
    "#### Primitive vs Non-Primitive Types\n",
    "\n",
    "_Primitive type_: a type with a fixed, simple memory layout without field. Typically represents low-level data like ints and bits. \n",
    "- `Int, Float, Boot, Chat`\n",
    "\n",
    "_Non-primitive type_: a composite type with one or more fields, used to model structured data data with a more complex layout.\n",
    "- `String, Array, Tuple`  "
   ]
  },
  {
   "cell_type": "code",
   "execution_count": 8,
   "id": "0e6a6bcb",
   "metadata": {},
   "outputs": [
    {
     "name": "stdout",
     "output_type": "stream",
     "text": [
      "String is primitive false\n",
      "Tuple is primitive false\n",
      "Int16 is primitive true\n",
      "Bool is primitive true\n",
      "Float64 is primitive true\n"
     ]
    }
   ],
   "source": [
    "type_tuple = (String, Tuple, Int16, Bool, Float64)\n",
    "\n",
    "for elem in type_tuple\n",
    "    println(elem, \" is primitive \", isprimitivetype(elem))\n",
    "end\n"
   ]
  },
  {
   "cell_type": "markdown",
   "id": "9e2cd99f",
   "metadata": {},
   "source": [
    "#### Multiple Dispatch\n",
    "\n",
    "The Julia compiler uses a method called _multiple dispatch_ to work out the 'best' method for two arguments. Given some function `f(a, b)`, Julia will use the types of `a` and `b` to determine the most appropriate `f`. \n",
    "\n",
    "For example, if we have `f(a, b) = a ^ b`, then:\n",
    "- If `a::Number` and `b::Number` the most appropriate method is standard exponentiation\n",
    "- If `a::String` and `b::Number` the most appropriate method is string concatenation "
   ]
  },
  {
   "cell_type": "code",
   "execution_count": null,
   "id": "c539e76c",
   "metadata": {},
   "outputs": [
    {
     "name": "stdout",
     "output_type": "stream",
     "text": [
      "8\n",
      "str str str \n"
     ]
    }
   ],
   "source": [
    "function multiple_dispatch(a, b)\n",
    "    println(a ^ b)\n",
    "end\n",
    "\n",
    "a_1::Number = 2\n",
    "b_1::Number = 2\n",
    "\n",
    "a_2::String = \"str \"\n",
    "b_2::Number = 3\n",
    "\n",
    "multiple_dispatch(a_1, b_2)\n",
    "multiple_dispatch(a_2, b_2)"
   ]
  },
  {
   "cell_type": "markdown",
   "id": "4b5f9cdc",
   "metadata": {},
   "source": [
    "#### Primitive vs Composite Type Manipulation\n",
    "\n",
    "For _primitive types_, if variable A references a value B, if the value B changes the value of A will remain the same.\n",
    "\n",
    "For _non-primitive types_ the value may change."
   ]
  },
  {
   "cell_type": "code",
   "execution_count": 2,
   "id": "e5d717fe",
   "metadata": {},
   "outputs": [
    {
     "name": "stdout",
     "output_type": "stream",
     "text": [
      "After changing the value of a1, the value of a2 is: 1\n",
      "After changing the value of v1, the value of v2 is: [100, 2, 3]\n"
     ]
    }
   ],
   "source": [
    "a1=1; a2=a1; a1=99;\n",
    "println(\"After changing the value of a1, the value of a2 is: \", a2)\n",
    "\n",
    "v1=[1, 2, 3]; v2=v1; v1[1] = 100;\n",
    "println(\"After changing the value of v1, the value of v2 is: \", v2)"
   ]
  },
  {
   "cell_type": "markdown",
   "id": "7d6e403f",
   "metadata": {},
   "source": [
    "#### Variable Switching\n",
    "\n",
    "In Julia, we can swap variable values without storing some `temp` using `a, b = b, a`."
   ]
  },
  {
   "cell_type": "code",
   "execution_count": 5,
   "id": "e78e4958",
   "metadata": {},
   "outputs": [
    {
     "name": "stdout",
     "output_type": "stream",
     "text": [
      "After swap (with temp), x equals 2 y equals 1\n",
      "After swap (without temp), a equals 2 b equals 1\n"
     ]
    }
   ],
   "source": [
    "x = 1\n",
    "y = 2\n",
    "\n",
    "temp = x\n",
    "x = y\n",
    "y = temp\n",
    "println(\"After swap (with temp), x equals \", x, \" y equals \", y)\n",
    "\n",
    "a = 1\n",
    "b = 2\n",
    "a, b = b, a\n",
    "println(\"After swap (without temp), a equals \", a, \" b equals \", b)\n",
    "\n"
   ]
  },
  {
   "cell_type": "markdown",
   "id": "db40575d",
   "metadata": {},
   "source": [
    "This can be very efficient, even for massive data swaps."
   ]
  },
  {
   "cell_type": "code",
   "execution_count": null,
   "id": "42c05cbe",
   "metadata": {},
   "outputs": [
    {
     "name": "stdout",
     "output_type": "stream",
     "text": [
      "  0.000005 seconds (1 allocation: 32 bytes)\n",
      "  0.004556 seconds (7 allocations: 15.259 MiB)\n"
     ]
    },
    {
     "data": {
      "text/plain": [
       "([0.8509345409174826 0.7540156854874512 … 0.2635518523876105 0.3368414650782674; 0.8703856382350124 0.22537721993737592 … 0.2995711044577831 0.8125624552660564; … ; 0.2504887400656045 0.3520963643254451 … 0.1382352451448976 0.5217866837199712; 0.8750934617079152 0.5859308922391817 … 0.7988638121015721 0.2575685894417703], [0.76541265756965 0.4670524546169663 … 0.4689286123476816 0.19613566704380658; 0.783750023348542 0.29176163770080465 … 0.9683331228676196 0.3817258979403261; … ; 0.7321454183887643 0.8916306460512353 … 0.9463672403264506 0.23315806397858319; 0.32400737636460375 0.9534569346329885 … 0.4597347308794124 0.827202142627669])"
      ]
     },
     "metadata": {},
     "output_type": "display_data"
    }
   ],
   "source": [
    "# Random 1000x1000 matrix\n",
    "m1 = rand(1000, 1000);\n",
    "m2 = rand(1000, 1000);\n",
    "\n",
    "@time m1, m2 = m2, m1\n",
    "\n",
    "# Without swapping\n",
    "@time m2, m1 = copy(m1), copy(m2);\n"
   ]
  },
  {
   "cell_type": "markdown",
   "id": "0020a7be",
   "metadata": {},
   "source": [
    "#### Macros\n",
    "\n",
    "Macros are are a special type of function that generate and transform code before it is run. That is _macros are evaluated at compilation_. This means they have access to more information, variable names for example."
   ]
  },
  {
   "cell_type": "code",
   "execution_count": 20,
   "id": "46875e65",
   "metadata": {},
   "outputs": [
    {
     "name": "stdout",
     "output_type": "stream",
     "text": [
      "hello\n",
      "s = \"hello\"\n"
     ]
    }
   ],
   "source": [
    "s = \"hello\";\n",
    "println(s);\n",
    "\n",
    "@show s;"
   ]
  },
  {
   "cell_type": "markdown",
   "id": "39e10d33",
   "metadata": {},
   "source": [
    "#### Boolean operations\n",
    "\n",
    "Julia uses:\n",
    "- `==` for EQUAL\n",
    "- `!=` for NOT EQUAL\n",
    "- `&&` for AND\n",
    "- `||` for OR\n",
    "\n",
    "\n",
    "Other operators exist as built in functions, for example:\n",
    "- `xor(a, b)` for XOR\n",
    "- etc.\n"
   ]
  },
  {
   "cell_type": "markdown",
   "id": "aaef61b2",
   "metadata": {},
   "source": [
    "#### Comparing composite types\n",
    "\n",
    "- `==` will do an abstract comparison: checks if the two values are mathematically or conceptually equal\n",
    "- `===` will do a strict comparison:\n",
    "    - For immutable objects it will check the type is the same as well: `1.0 === 1` should be `false`.\n",
    "    - For mutable objects it checks that the memory references are the same."
   ]
  },
  {
   "cell_type": "code",
   "execution_count": 41,
   "metadata": {},
   "outputs": [
    {
     "name": "stdout",
     "output_type": "stream",
     "text": [
      "v1 equals v2 with abstract comparison: true\n",
      "v1 equals v2 with strict comparison: false\n",
      "v1 equals v3 with strict comparison: true\n",
      "\n",
      "1.0 equals 1 with abstract comparison: true\n",
      "1.0 equals 1 with strict comparison: false\n"
     ]
    }
   ],
   "source": [
    "# Abstract comparison (checks the values of the composite type)\n",
    "\n",
    "v1 = [1, 2, 3]; v2 = [1, 2, 3]; v3 = v1;\n",
    "\n",
    "println(\"v1 equals v2 with abstract comparison: \", v1==v2)\n",
    "println(\"v1 equals v2 with strict comparison: \", v1===v2)\n",
    "println(\"v1 equals v3 with strict comparison: \", v1===v3)\n",
    "println()\n",
    "println(\"1.0 equals 1 with abstract comparison: \", 1.0 == 1)\n",
    "println(\"1.0 equals 1 with strict comparison: \", 1.0 === 1)\n"
   ]
  },
  {
   "cell_type": "markdown",
   "id": "b61ab494",
   "metadata": {},
   "source": [
    "#### Installing Packages\n",
    "\n",
    "You can install packages in the Julia terminal by:\n",
    "1. Pressing the `]` key\n",
    "2. Install it using `add <package_name>`"
   ]
  },
  {
   "cell_type": "markdown",
   "id": "fcdc7f48",
   "metadata": {},
   "source": []
  }
 ],
 "metadata": {
  "kernelspec": {
   "display_name": "Julia 1.11.6",
   "language": "julia",
   "name": "julia-1.11"
  },
  "language_info": {
   "file_extension": ".jl",
   "mimetype": "application/julia",
   "name": "julia",
   "version": "1.11.6"
  }
 },
 "nbformat": 4,
 "nbformat_minor": 5
}
