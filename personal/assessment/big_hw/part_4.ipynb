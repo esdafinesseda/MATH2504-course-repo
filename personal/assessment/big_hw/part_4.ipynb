{
 "cells": [
  {
   "cell_type": "markdown",
   "id": "b8342f9e",
   "metadata": {},
   "source": [
    "## Question 17: Perspective seminar (Dr. Megan Dawson).\n",
    "\n",
    "This question presents you with an additional 10 bonus points. \n",
    "\n",
    "Write a 1-4 paragraph summary of Megan's perspective seminar. The writeup should answer these questions without treating the questions directly. That is, don't write \"the answer to Q1 is...\" etc. Instead incorporate the answers in a flowing writeup report (like a blog post or letter). You may use first person and refer to the speaker as \"Dr. Dawson\", or \"Megan\" or similar. Present the writeup as part of your PDF file submission (as the first item in the submission).\n",
    "\n",
    "The writeup should address the following questions (in paragraph form):\n",
    "\n",
    "1. What was Mega's career path, and her relationship with engineering, software, mathematics, and statistics?\n",
    "\n",
    "2. Where does she currently work? What does she do in her job? How do you perceive her personal experience from her job?\n",
    "\n",
    "3. Discuss a few key tools that she spoke about during the talk, such as programming languages, mathematics, machine learning, statistical tools, platforms, and the like. Was this the first time that you heard about any of these tools?\n",
    "\n",
    "4. Have you picked up any tips from Megan's talk? Of these, which can perhaps be of use in your career down the road?\n",
    "\n",
    "5. Feel free to state anything else that you found interesting from the talk.\n",
    "\n"
   ]
  },
  {
   "cell_type": "markdown",
   "id": "25c77127",
   "metadata": {},
   "source": [
    "1. In response to an early passion for computers and mathematics, she studied pure mathematics at a university in Hungary. She later moved to Australia and began work at a company called _The Simulation Group_ which provides complex analysis and simulation for businesses. However, after the firm was acquired by Boston Consulting Group, she moved to _Integrated Logistics Company_. She continues to work as the resident seller and support person for the main simulation software used at _The Simulation Group_: _Anylogic_.\n",
    "\n",
    "2. Hello\n",
    "\n",
    "3. One of the main concepts she discussed was using differential equations to model systems, particularly in business and industry. This developed into agent based simulation where entities in a system are modelled both discretely and in the context of a conglomerate systems. Some key tools for simulation modelling that were mentioned include:\n",
    "- SimPy\n",
    "- Matlab\n",
    "- ExtendSim\n",
    "- AnyLogic\n",
    "- FlexSim\n",
    "Prior to this discussion I had only heard of Matlab and SimPy.\n",
    "\n",
    "4. The industry, particularly in Australia, is biased towards applied and computational mathematics rather than pure mathematics. It may be beneficial moving forward to diversify skills so I can apply mathematical foundations to a broader set of problems. \n",
    "\n",
    "5. \n",
    "\n",
    "\n",
    "\n",
    "\n"
   ]
  },
  {
   "cell_type": "markdown",
   "id": "23cf1853",
   "metadata": {},
   "source": []
  }
 ],
 "metadata": {
  "language_info": {
   "name": "python"
  }
 },
 "nbformat": 4,
 "nbformat_minor": 5
}
