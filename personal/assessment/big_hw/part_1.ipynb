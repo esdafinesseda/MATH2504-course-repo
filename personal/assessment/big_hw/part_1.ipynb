{
 "cells": [
  {
   "cell_type": "markdown",
   "id": "024f51af",
   "metadata": {},
   "source": [
    "# MATH2504 Programming of Simulation, Analysis, and Learning Systems\n",
    "\n",
    "## BigHW\n",
    "\n",
    "George Reid-Smith\n"
   ]
  },
  {
   "cell_type": "markdown",
   "id": "a71faf4b",
   "metadata": {},
   "source": [
    "### Question 1\n",
    "\n",
    "(a)\n",
    "$$\n",
    "A_n = \\begin{pmatrix}\n",
    "    1 & \\frac{1}{2}   & \\frac{1}{3} & \\frac{1}{4} & \\frac{1}{5} & \\frac{1}{6} & \\frac{1}{7} \\\\\n",
    "    0 & 1 & \\frac{1}{2} & \\frac{1}{3} & \\frac{1}{4} & \\frac{1}{5} & \\frac{1}{6} \\\\\n",
    "    \\vdots & \\ddots & 1 & \\frac{1}{2} & \\frac{1}{3} & \\frac{1}{4} & \\frac{1}{5} \\\\\n",
    "    \\vdots  & \\ddots & \\ddots & 1 & \\frac{1}{2} & \\frac{1}{3} & \\frac{1}{4}  \\\\\n",
    "    \\vdots & \\ddots & \\ddots & \\ddots & 1 & \\frac{1}{2} & \\frac{1}{3} \\\\\n",
    "    \\vdots & \\ddots & \\ddots & \\ddots & \\ddots & 1 & \\frac{1}{2} \\\\\n",
    "    \\vdots & \\ddots & \\ddots & \\ddots & \\ddots & \\ddots & 1  \\\\\n",
    "    0 & \\dots & \\dots & \\dots & \\dots & \\dots & 0\n",
    "\\end{pmatrix}\n",
    "$$\n",
    "\n",
    "(b)\n",
    "1. Python - used in machine learning and data science as well as traditional software development\n",
    "2. JavaScripts - used primarily in web application development\n",
    "3. Java - used in full-stack application development\n",
    "4. C - used for low-level system development including operating systems, drivers, and embedded software\n",
    "5. Julia - used primarily in computational science\n",
    "\n",
    "\n",
    "(c)\n",
    "<div class=\"UQ Image\">\n",
    "<img width=300px height=auto src=\"https://static.uq.net.au/v11/logos/corporate/uq-logo--reversed.svg\" />\n",
    "</div>"
   ]
  },
  {
   "cell_type": "markdown",
   "id": "30cab217",
   "metadata": {},
   "source": [
    "### Question 2"
   ]
  },
  {
   "cell_type": "code",
   "execution_count": null,
   "id": "c47dbfde",
   "metadata": {},
   "outputs": [
    {
     "data": {
      "text/plain": [
       "2-element Vector{Float64}:\n",
       " 2.0\n",
       " 3.0"
      ]
     },
     "metadata": {},
     "output_type": "display_data"
    }
   ],
   "source": [
    "function real_roots_of_quadratic(a::Number, b::Number, c::Number)\n",
    "\n",
    "    #Start by initializing an empty array\n",
    "    roots::Array{Float64} = []\n",
    "\n",
    "    #Compute the discriminant \n",
    "    Δ = b^2 - 4a*c #\\Delta + [TAB]\n",
    "\n",
    "    #Based on the sign of the discriminant return 0, 1, or 2 roots.\n",
    "    if Δ < 0 \n",
    "        roots = []\n",
    "    elseif Δ == 0\n",
    "        roots = [-b/(2a)]\n",
    "    else\n",
    "        roots = [-b + √Δ, -b - √Δ] / (2a) #\\sqrt + [TAB]\n",
    "    end\n",
    "    return roots \n",
    "end\n",
    "\n",
    "#Attempting on -x²+5x-6=0\n",
    "real_roots_of_quadratic(-1,5,-6)"
   ]
  },
  {
   "cell_type": "code",
   "execution_count": null,
   "id": "7158b6dc",
   "metadata": {},
   "outputs": [],
   "source": []
  },
  {
   "cell_type": "code",
   "execution_count": null,
   "id": "0b01346f",
   "metadata": {},
   "outputs": [
    {
     "name": "stdout",
     "output_type": "stream",
     "text": [
      "a: true\n",
      "a: true\n",
      "a: false\n"
     ]
    }
   ],
   "source": [
    "# 1. - yes (provided you provide numbers to the function)\n",
    "\n",
    "a = -1\n",
    "b = 1.23\n",
    "c = \"non number\"\n",
    "\n",
    "a_test = typeof(a) <: Number\n",
    "println(\"a: \", a_test)\n",
    "\n",
    "b_test = typeof(b) <: Number\n",
    "println(\"a: \", b_test)\n",
    "\n",
    "c_test = typeof(c) <: Number\n",
    "println(\"a: \", c_test)\n"
   ]
  },
  {
   "cell_type": "code",
   "execution_count": null,
   "id": "82b7d1b7",
   "metadata": {},
   "outputs": [
    {
     "name": "stdout",
     "output_type": "stream",
     "text": [
      "Caught an error: UndefVarError(:ab, Main)\n",
      "3*6 == 3b: true\n"
     ]
    }
   ],
   "source": [
    "# 2 - no - the Julia compiler will intepret `ab` as variable it. \n",
    "\n",
    "# Since you cannot use an integer as a varibale name it will interpret `2a` as the number 2 times the variable `a`.\n",
    "\n",
    "a = 3\n",
    "b = 6\n",
    "\n",
    "try\n",
    "    test_1 = a*b == ab\n",
    "    println(\"a*b == ab: \", test_1)\n",
    "\n",
    "catch e\n",
    "    println(\"Caught an error: \", e)\n",
    "\n",
    "end\n",
    "\n",
    "try\n",
    "    test_2 = 3*6 == 3b\n",
    "    println(\"3*6 == 3b: \", test_2)\n",
    "\n",
    "catch e\n",
    "    println(\"Caught an error: \", e)\n",
    "\n",
    "end\n",
    "\n",
    "\n"
   ]
  },
  {
   "cell_type": "code",
   "execution_count": null,
   "id": "336b6538",
   "metadata": {},
   "outputs": [
    {
     "ename": "Base.Meta.ParseError",
     "evalue": "ParseError:\n# Error @ c:\\Users\\a110576\\University\\2025_S2\\MATH2504\\course-repo\\personal\\assessment\\big_hw\\jl_notebook_cell_df34fa98e69747e1a8f8a730347b8e2f_X20sZmlsZQ==.jl:7:14\n    \r\n    elseif a = b\r\n#            ╙ ── unexpected `=`",
     "output_type": "error",
     "traceback": [
      "ParseError:\n",
      "# Error @ c:\\Users\\a110576\\University\\2025_S2\\MATH2504\\course-repo\\personal\\assessment\\big_hw\\jl_notebook_cell_df34fa98e69747e1a8f8a730347b8e2f_X20sZmlsZQ==.jl:7:14\n",
      "    \r\n",
      "    elseif a = b\r\n",
      "#            ╙ ── unexpected `=`\n",
      "\n",
      "Stacktrace:\n",
      " [1] top-level scope\n",
      "   @ c:\\Users\\a110576\\University\\2025_S2\\MATH2504\\course-repo\\personal\\assessment\\big_hw\\jl_notebook_cell_df34fa98e69747e1a8f8a730347b8e2f_X20sZmlsZQ==.jl:7"
     ]
    }
   ],
   "source": []
  },
  {
   "cell_type": "markdown",
   "id": "ac513be5",
   "metadata": {},
   "source": [
    "(a)\n",
    "1. Yes "
   ]
  },
  {
   "cell_type": "code",
   "execution_count": 18,
   "id": "da824d4b",
   "metadata": {},
   "outputs": [
    {
     "ename": "Base.Meta.ParseError",
     "evalue": "ParseError:\n# Error @ c:\\Users\\a110576\\University\\2025_S2\\MATH2504\\course-repo\\personal\\assessment\\big_hw\\jl_notebook_cell_df34fa98e69747e1a8f8a730347b8e2f_W6sZmlsZQ==.jl:12:14\n        roots = []\r\n    elseif Δ = 0\r\n#            ╙ ── unexpected `=`",
     "output_type": "error",
     "traceback": [
      "ParseError:\n",
      "# Error @ c:\\Users\\a110576\\University\\2025_S2\\MATH2504\\course-repo\\personal\\assessment\\big_hw\\jl_notebook_cell_df34fa98e69747e1a8f8a730347b8e2f_W6sZmlsZQ==.jl:12:14\n",
      "        roots = []\r\n",
      "    elseif Δ = 0\r\n",
      "#            ╙ ── unexpected `=`\n",
      "\n",
      "Stacktrace:\n",
      " [1] top-level scope\n",
      "   @ c:\\Users\\a110576\\University\\2025_S2\\MATH2504\\course-repo\\personal\\assessment\\big_hw\\jl_notebook_cell_df34fa98e69747e1a8f8a730347b8e2f_W6sZmlsZQ==.jl:12"
     ]
    }
   ],
   "source": [
    "function real_roots_of_quadratic(a::Number, b::Number, c::Number)\n",
    "\n",
    "    #Start by initializing an empty array\n",
    "    roots::Array{Float64} = []\n",
    "\n",
    "    #Compute the discriminant \n",
    "    Δ = b^2 - 4ac #\\Delta + [TAB]\n",
    "\n",
    "    #Based on the sign of the discriminant return 0, 1, or 2 roots.\n",
    "    if Δ < 0 \n",
    "        roots = []\n",
    "    elseif Δ = 0\n",
    "        roots = [-b/(2a)]\n",
    "    else\n",
    "        roots = [-b + √Δ, -b - √Δ] / (2a) #\\sqrt + [TAB]\n",
    "    end\n",
    "    return roots \n",
    "end\n",
    "\n",
    "#Attempting on -x²+5x-6=0\n",
    "real_roots_of_quadratic(-1,5,-6)"
   ]
  },
  {
   "cell_type": "code",
   "execution_count": null,
   "id": "030de776",
   "metadata": {},
   "outputs": [],
   "source": []
  }
 ],
 "metadata": {
  "kernelspec": {
   "display_name": "Julia 1.11.6",
   "language": "julia",
   "name": "julia-1.11"
  },
  "language_info": {
   "file_extension": ".jl",
   "mimetype": "application/julia",
   "name": "julia",
   "version": "1.11.6"
  }
 },
 "nbformat": 4,
 "nbformat_minor": 5
}
