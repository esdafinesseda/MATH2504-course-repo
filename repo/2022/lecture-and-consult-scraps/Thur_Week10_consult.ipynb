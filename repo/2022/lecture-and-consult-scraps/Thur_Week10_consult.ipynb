{
 "cells": [
  {
   "cell_type": "code",
   "execution_count": 1,
   "metadata": {},
   "outputs": [],
   "source": [
    "#You need to install the Parameters.jl package: https://github.com/mauro3/Parameters.jl\n",
    "#You need to install the Accessors.jl package: https://github.com/JuliaObjects/Accessors.jl\n",
    "using Parameters  \n",
    "using Accessors \n",
    "using LinearAlgebra\n",
    "using Random \n",
    "\n",
    "@with_kw struct NetworkParameters #The @with_kw macro comes from the Parameters.jl package and makes nice constructors\n",
    "    L::Int\n",
    "    α_vector::Vector{Float64} #This vector is a vector of α_i which can then be scaled\n",
    "    μ_vector::Vector{Float64} #This is the vector of service rates considered fixed\n",
    "    P::Matrix{Float64} #routing matrix\n",
    "    c_s::Float64 = 1.0 #The squared coefficient of variation of the service times with a default value of 1.0\n",
    "end\n",
    "\n",
    "############################\n",
    "# Three queues in tandem\n",
    "scenario1 = NetworkParameters(  L=3, \n",
    "                                α_vector = [0.5, 0, 0],\n",
    "                                μ_vector = ones(3),\n",
    "                                P = [0 1.0 0;\n",
    "                                     0 0 1.0;\n",
    "                                     0 0 0])\n",
    "\n",
    "############################\n",
    "# Three queues in tandem with option to return back to first queue\n",
    "scenario2 = @set scenario1.P  = [0 1.0 0; #The @set macro is from Accessors.jl and allows to easily make a \n",
    "                                 0 0 1.0; # modified copied of an (immutable) struct\n",
    "                                 0.3 0 0] \n",
    "\n",
    "############################\n",
    "# A ring of 5 queues\n",
    "scenario3 = NetworkParameters(  L=5, \n",
    "                                α_vector = ones(5),\n",
    "                                μ_vector = collect(1:5),\n",
    "                                P = [0  .8   0    0   0;\n",
    "                                     0   0   .8   0   0;\n",
    "                                     0   0   0    .8  0;\n",
    "                                     0   0   0    0   .8;\n",
    "                                     .8  0   0    0    0])\n",
    "\n",
    "############################\n",
    "# A large arbitrary network\n",
    "\n",
    "#Generate some random(arbitrary) matrix P\n",
    "Random.seed!(0)\n",
    "L = 100\n",
    "P = rand(L,L)\n",
    "P = P ./ sum(P, dims=2) #normalize rows by the sum\n",
    "P = P .* (0.2 .+ 0.7rand(L)) # multiply rows by factors in [0.2,0.9] \n",
    "\n",
    "scenario4 = NetworkParameters(  L=L, \n",
    "                                α_vector = ones(L),\n",
    "                                μ_vector = 0.5 .+ rand(L),\n",
    "                                P = P);"
   ]
  },
  {
   "cell_type": "code",
   "execution_count": 2,
   "metadata": {},
   "outputs": [
    {
     "data": {
      "text/plain": [
       "NetworkParameters\n",
       "  L: Int64 5\n",
       "  α_vector: Array{Float64}((5,)) [1.0, 1.0, 1.0, 1.0, 1.0]\n",
       "  μ_vector: Array{Float64}((5,)) [1.0, 2.0, 3.0, 4.0, 5.0]\n",
       "  P: Array{Float64}((5, 5)) [0.0 0.8 … 0.0 0.0; 0.0 0.0 … 0.0 0.0; … ; 0.0 0.0 … 0.0 0.8; 0.8 0.0 … 0.0 0.0]\n",
       "  c_s: Float64 1.0\n"
      ]
     },
     "execution_count": 2,
     "metadata": {},
     "output_type": "execute_result"
    }
   ],
   "source": [
    "scenario3"
   ]
  },
  {
   "cell_type": "code",
   "execution_count": 3,
   "metadata": {},
   "outputs": [
    {
     "name": "stdout",
     "output_type": "stream",
     "text": [
      "The maximal scalings for scenarios 1 to 4 are: [2.0, 1.4, 0.2, 0.216]\n"
     ]
    }
   ],
   "source": [
    "\"\"\"\n",
    "Compute the maximal value by which we can scale the α_vector and be stable.\n",
    "\"\"\"\n",
    "function maximal_alpha_scaling(net::NetworkParameters)\n",
    "    λ_base = (I - net.P') \\ net.α_vector #Solve the traffic equations\n",
    "    ρ_base = λ_base ./ net.μ_vector #Determine the load ρ  \n",
    "    return minimum(1 ./ ρ_base) #Return the maximal value by \n",
    "end\n",
    "\n",
    "max_scalings = round.(maximal_alpha_scaling.([scenario1, scenario2, scenario3, scenario4]),digits=3)\n",
    "println(\"The maximal scalings for scenarios 1 to 4 are: $max_scalings\")\n",
    "\n",
    "\"\"\"\n",
    "Use this function to adjust the network parameters to the desired ρ⋆ and c_s\n",
    "\"\"\"\n",
    "function set_scenario(net::NetworkParameters, ρ::Float64, c_s::Float64 = 1.0)\n",
    "    (ρ ≤ 0 || ρ ≥ 1) && error(\"ρ is out of range\")  \n",
    "    max_scaling = maximal_alpha_scaling(net)\n",
    "    net = @set net.α_vector = net.α_vector*max_scaling*ρ\n",
    "    net = @set net.c_s = c_s\n",
    "    return net\n",
    "end;\n"
   ]
  },
  {
   "cell_type": "code",
   "execution_count": 4,
   "metadata": {},
   "outputs": [
    {
     "data": {
      "text/plain": [
       "NetworkParameters\n",
       "  L: Int64 5\n",
       "  α_vector: Array{Float64}((5,)) [0.1799999999999999, 0.1799999999999999, 0.1799999999999999, 0.1799999999999999, 0.1799999999999999]\n",
       "  μ_vector: Array{Float64}((5,)) [1.0, 2.0, 3.0, 4.0, 5.0]\n",
       "  P: Array{Float64}((5, 5)) [0.0 0.8 … 0.0 0.0; 0.0 0.0 … 0.0 0.0; … ; 0.0 0.0 … 0.0 0.8; 0.8 0.0 … 0.0 0.0]\n",
       "  c_s: Float64 1.0\n"
      ]
     },
     "execution_count": 4,
     "metadata": {},
     "output_type": "execute_result"
    }
   ],
   "source": [
    "sc3_with_rho_09 = set_scenario(scenario3,0.9) #high load"
   ]
  },
  {
   "cell_type": "code",
   "execution_count": 6,
   "metadata": {},
   "outputs": [
    {
     "data": {
      "text/plain": [
       "NetworkParameters\n",
       "  L: Int64 5\n",
       "  α_vector: Array{Float64}((5,)) [0.03999999999999998, 0.03999999999999998, 0.03999999999999998, 0.03999999999999998, 0.03999999999999998]\n",
       "  μ_vector: Array{Float64}((5,)) [1.0, 2.0, 3.0, 4.0, 5.0]\n",
       "  P: Array{Float64}((5, 5)) [0.0 0.8 … 0.0 0.0; 0.0 0.0 … 0.0 0.0; … ; 0.0 0.0 … 0.0 0.8; 0.8 0.0 … 0.0 0.0]\n",
       "  c_s: Float64 1.0\n"
      ]
     },
     "execution_count": 6,
     "metadata": {},
     "output_type": "execute_result"
    }
   ],
   "source": [
    "sc3_with_rho_02 = set_scenario(scenario3,0.2) #quite low load"
   ]
  },
  {
   "cell_type": "code",
   "execution_count": 5,
   "metadata": {},
   "outputs": [
    {
     "data": {
      "text/plain": [
       "NetworkParameters\n",
       "  L: Int64 5\n",
       "  α_vector: Array{Float64}((5,)) [1.0, 1.0, 1.0, 1.0, 1.0]\n",
       "  μ_vector: Array{Float64}((5,)) [1.0, 2.0, 3.0, 4.0, 5.0]\n",
       "  P: Array{Float64}((5, 5)) [0.0 0.8 … 0.0 0.0; 0.0 0.0 … 0.0 0.0; … ; 0.0 0.0 … 0.0 0.8; 0.8 0.0 … 0.0 0.0]\n",
       "  c_s: Float64 1.0\n"
      ]
     },
     "execution_count": 5,
     "metadata": {},
     "output_type": "execute_result"
    }
   ],
   "source": [
    "scenario3"
   ]
  },
  {
   "cell_type": "code",
   "execution_count": 7,
   "metadata": {},
   "outputs": [
    {
     "data": {
      "text/plain": [
       "compute_ρ (generic function with 1 method)"
      ]
     },
     "execution_count": 7,
     "metadata": {},
     "output_type": "execute_result"
    }
   ],
   "source": [
    "function compute_ρ(net::NetworkParameters)\n",
    "    λ = (I - net.P') \\ net.α_vector #Solve the traffic equations\n",
    "    return λ ./ net.μ_vector #This is the vector of ρ values\n",
    "end"
   ]
  },
  {
   "cell_type": "code",
   "execution_count": 8,
   "metadata": {},
   "outputs": [
    {
     "data": {
      "text/plain": [
       "5-element Vector{Float64}:\n",
       " 5.000000000000003\n",
       " 2.5000000000000013\n",
       " 1.6666666666666672\n",
       " 1.2500000000000004\n",
       " 1.0000000000000004"
      ]
     },
     "execution_count": 8,
     "metadata": {},
     "output_type": "execute_result"
    }
   ],
   "source": [
    "compute_ρ(scenario3)"
   ]
  },
  {
   "cell_type": "code",
   "execution_count": 13,
   "metadata": {},
   "outputs": [
    {
     "data": {
      "text/plain": [
       "5-element Vector{Float64}:\n",
       " 0.9\n",
       " 0.45\n",
       " 0.3\n",
       " 0.22499999999999998\n",
       " 0.18"
      ]
     },
     "execution_count": 13,
     "metadata": {},
     "output_type": "execute_result"
    }
   ],
   "source": [
    "ρ_09 = compute_ρ(sc3_with_rho_09)"
   ]
  },
  {
   "cell_type": "code",
   "execution_count": 14,
   "metadata": {},
   "outputs": [
    {
     "data": {
      "text/plain": [
       "5-element Vector{Float64}:\n",
       " 0.2\n",
       " 0.1\n",
       " 0.06666666666666667\n",
       " 0.05\n",
       " 0.04"
      ]
     },
     "execution_count": 14,
     "metadata": {},
     "output_type": "execute_result"
    }
   ],
   "source": [
    "ρ_02 = compute_ρ(sc3_with_rho_02)"
   ]
  },
  {
   "cell_type": "code",
   "execution_count": 15,
   "metadata": {},
   "outputs": [
    {
     "data": {
      "text/plain": [
       "5-element Vector{Float64}:\n",
       " 9.000000000000002\n",
       " 0.8181818181818181\n",
       " 0.4285714285714286\n",
       " 0.29032258064516125\n",
       " 0.2195121951219512"
      ]
     },
     "execution_count": 15,
     "metadata": {},
     "output_type": "execute_result"
    }
   ],
   "source": [
    "mean_qs_09 = ρ_09 ./ (1 .- ρ_09)"
   ]
  },
  {
   "cell_type": "code",
   "execution_count": 17,
   "metadata": {},
   "outputs": [
    {
     "data": {
      "text/plain": [
       "10.756588022520361"
      ]
     },
     "execution_count": 17,
     "metadata": {},
     "output_type": "execute_result"
    }
   ],
   "source": [
    "total_mean_q_09 = sum(mean_qs_09)"
   ]
  },
  {
   "cell_type": "code",
   "execution_count": 18,
   "metadata": {},
   "outputs": [
    {
     "data": {
      "text/plain": [
       "5-element Vector{Float64}:\n",
       " 0.25\n",
       " 0.11111111111111112\n",
       " 0.07142857142857142\n",
       " 0.052631578947368425\n",
       " 0.04166666666666667"
      ]
     },
     "execution_count": 18,
     "metadata": {},
     "output_type": "execute_result"
    }
   ],
   "source": [
    "mean_qs_02 = ρ_02 ./ (1 .- ρ_02)"
   ]
  },
  {
   "cell_type": "code",
   "execution_count": 19,
   "metadata": {},
   "outputs": [
    {
     "data": {
      "text/plain": [
       "0.5268379281537177"
      ]
     },
     "execution_count": 19,
     "metadata": {},
     "output_type": "execute_result"
    }
   ],
   "source": [
    "total_mean_q_02 = sum(mean_qs_02)"
   ]
  },
  {
   "cell_type": "markdown",
   "metadata": {},
   "source": [
    "# In the practical this week... \n",
    "\n",
    "It is like having..."
   ]
  },
  {
   "cell_type": "code",
   "execution_count": 20,
   "metadata": {},
   "outputs": [
    {
     "data": {
      "text/plain": [
       "4×4 Matrix{Int64}:\n",
       " 0  1  0  0\n",
       " 0  0  1  0\n",
       " 0  0  0  1\n",
       " 0  0  0  0"
      ]
     },
     "execution_count": 20,
     "metadata": {},
     "output_type": "execute_result"
    }
   ],
   "source": [
    "P = [0 1 0 0;\n",
    "     0 0 1 0;\n",
    "     0 0 0 1;\n",
    "     0 0 0 0]"
   ]
  },
  {
   "cell_type": "code",
   "execution_count": null,
   "metadata": {},
   "outputs": [],
   "source": []
  }
 ],
 "metadata": {
  "kernelspec": {
   "display_name": "Julia 1.7.3",
   "language": "julia",
   "name": "julia-1.7"
  },
  "language_info": {
   "file_extension": ".jl",
   "mimetype": "application/julia",
   "name": "julia",
   "version": "1.7.3"
  }
 },
 "nbformat": 4,
 "nbformat_minor": 4
}
