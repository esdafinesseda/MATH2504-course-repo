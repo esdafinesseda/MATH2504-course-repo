{
 "cells": [
  {
   "cell_type": "markdown",
   "metadata": {},
   "source": [
    "# [MATH2504 Programming of Simulation, Analysis, and Learning Systems at The University of Queensland](https://courses.smp.uq.edu.au/MATH2504/)\n",
    "\n",
    "## Semester 2, 2022\n",
    "\n",
    "# Practical G: Towards project 2\n",
    "\n",
    "In this practical we work towards project 2 by considering design patterns used in a discrete event simulation engines. See also [Unit 6](https://courses.smp.uq.edu.au/MATH2504/2022/assessment_html/project2.html).\n"
   ]
  },
  {
   "cell_type": "markdown",
   "metadata": {},
   "source": [
    "**The code in the cell below is from Unit 6.** It can serve as a basis for complex discrete event simulations."
   ]
  },
  {
   "cell_type": "code",
   "execution_count": 1,
   "metadata": {},
   "outputs": [],
   "source": [
    "using DataStructures\n",
    "import Base: isless\n",
    "\n",
    "abstract type Event end\n",
    "abstract type State end\n",
    "\n",
    "#Captures an event and the time it takes place\n",
    "struct TimedEvent\n",
    "    event::Event\n",
    "    time::Float64\n",
    "end\n",
    "\n",
    "#Comparison of two timed events - this will allow us to use them in a heap/priority-queue\n",
    "isless(te1::TimedEvent, te2::TimedEvent) = te1.time < te2.time\n",
    "\n",
    "#This is an abstract function \n",
    "\"\"\"\n",
    "It will generally be called as \n",
    "       new_timed_events = process_event(time, state, event)\n",
    "It will generate 0 or more new timed events based on the current event\n",
    "\"\"\"\n",
    "function process_event end\n",
    "\n",
    "#Generic events that we can always use\n",
    "struct EndSimEvent <: Event end\n",
    "struct LogStateEvent <: Event end\n",
    "\n",
    "function process_event(time::Float64, state::State, es_event::EndSimEvent)\n",
    "    println(\"Ending simulation at time $time.\")\n",
    "    return []\n",
    "end\n",
    "\n",
    "function process_event(time::Float64, state::State, ls_event::LogStateEvent)\n",
    "    println(\"Logging state at time $time.\")\n",
    "    println(state)\n",
    "    return []\n",
    "end;\n",
    "\n",
    "\"\"\"\n",
    "The main simulation function gets an initial state and an initial event that gets things going.\n",
    "Optional arguments are the maximal time for the simulation, times for logging events, and a call back function.\n",
    "\"\"\"\n",
    "function do_sim(init_state::State, init_timed_event::TimedEvent\n",
    "                    ; \n",
    "                    max_time::Float64 = 10.0, \n",
    "                    log_times::Vector{Float64} = Float64[],\n",
    "                    call_back = (time, state) -> nothing)\n",
    "\n",
    "    #The event queue\n",
    "    priority_queue = BinaryMinHeap{TimedEvent}()\n",
    "\n",
    "    #Put the standard events in the queue\n",
    "    push!(priority_queue, init_timed_event)\n",
    "    push!(priority_queue, TimedEvent(EndSimEvent(), max_time))\n",
    "    for lt in log_times\n",
    "        push!(priority_queue,TimedEvent(LogStateEvent(), lt))\n",
    "    end\n",
    "\n",
    "    #initilize the state\n",
    "    state = deepcopy(init_state)\n",
    "    time = 0.0\n",
    "\n",
    "    call_back(time, state)\n",
    "\n",
    "    #The main discrete event simulation loop - SIMPLE!\n",
    "    while true\n",
    "        #Get the next event\n",
    "        timed_event = pop!(priority_queue)\n",
    "\n",
    "        #advance the time\n",
    "        time = timed_event.time\n",
    "\n",
    "        #Act on the event\n",
    "        new_timed_events = process_event(time, state, timed_event.event) \n",
    "\n",
    "        #if the event was an end of simulation then stop\n",
    "        isa(timed_event.event, EndSimEvent) && break \n",
    "\n",
    "        #The event may spawn 0 or more events which we put in the priority queue \n",
    "        for nte in new_timed_events\n",
    "            push!(priority_queue, nte)\n",
    "        end\n",
    "\n",
    "        call_back(time, state)\n",
    "    end\n",
    "end;"
   ]
  },
  {
   "cell_type": "markdown",
   "metadata": {},
   "source": [
    "In the Unit 6 lecture you see how to implement a simple M/D/1 queue based on the framework above. We'll now use this framework for a more complicated queueing system which is slightly closer to Project 2. We'll consider a **tandem queueing system** which is a sequence of queues where jobs arrive externally to the first queue and after service go to the second queue, and so fourth until exiting from the final queue and leaving the system.\n",
    "\n",
    "The systems is already coded, but as part of the practical we'll use the code to experiment. The code can help with Project 2 as well."
   ]
  },
  {
   "cell_type": "markdown",
   "metadata": {},
   "source": [
    "We also introduce an additional type, `TandemNetworkParameters` which is used to store the general parameters of the system. Nodes in the system are numbered 1,...,`num_nodes`. Each node has a service rate (inverse of the mean) from `μ_array` and has a squared coefficient of variation (SCV) from `scv_array`. We use Gamma random variables."
   ]
  },
  {
   "cell_type": "markdown",
   "metadata": {},
   "source": [
    "### SCV, Exponential, and Gamma random variables"
   ]
  },
  {
   "cell_type": "markdown",
   "metadata": {},
   "source": [
    "The SCV of a random variable is its variance divided by the mean squared. It is a normalized measure of the variability of the random variable. Exponential random variables have an SCV of $1$:"
   ]
  },
  {
   "cell_type": "code",
   "execution_count": 2,
   "metadata": {},
   "outputs": [
    {
     "data": {
      "text/plain": [
       "1.0"
      ]
     },
     "execution_count": 2,
     "metadata": {},
     "output_type": "execute_result"
    }
   ],
   "source": [
    "using Distributions\n",
    "\n",
    "dist = Exponential(22.3)\n",
    "scv(d)= var(d)/mean(d)^2\n",
    "scv(dist)"
   ]
  },
  {
   "cell_type": "code",
   "execution_count": 3,
   "metadata": {},
   "outputs": [
    {
     "data": {
      "text/plain": [
       "1.0"
      ]
     },
     "execution_count": 3,
     "metadata": {},
     "output_type": "execute_result"
    }
   ],
   "source": [
    "#Exponential is a special case of Gamma with shape = 1\n",
    "dist = Gamma(1,22.3)\n",
    "scv(dist)"
   ]
  },
  {
   "cell_type": "code",
   "execution_count": 4,
   "metadata": {},
   "outputs": [
    {
     "name": "stdout",
     "output_type": "stream",
     "text": [
      "search: \u001b[0m\u001b[1mG\u001b[22m\u001b[0m\u001b[1ma\u001b[22m\u001b[0m\u001b[1mm\u001b[22m\u001b[0m\u001b[1mm\u001b[22m\u001b[0m\u001b[1ma\u001b[22m Inverse\u001b[0m\u001b[1mG\u001b[22m\u001b[0m\u001b[1ma\u001b[22m\u001b[0m\u001b[1mm\u001b[22m\u001b[0m\u001b[1mm\u001b[22m\u001b[0m\u001b[1ma\u001b[22m\n",
      "\n"
     ]
    },
    {
     "data": {
      "text/latex": [
       "\\begin{verbatim}\n",
       "Gamma(α,θ)\n",
       "\\end{verbatim}\n",
       "The \\emph{Gamma distribution} with shape parameter \\texttt{α} and scale \\texttt{θ} has probability density function\n",
       "\n",
       "$$f(x; \\alpha, \\theta) = \\frac{x^{\\alpha-1} e^{-x/\\theta}}{\\Gamma(\\alpha) \\theta^\\alpha},\n",
       "\\quad x > 0$$\n",
       "\\begin{verbatim}\n",
       "Gamma()          # Gamma distribution with unit shape and unit scale, i.e. Gamma(1, 1)\n",
       "Gamma(α)         # Gamma distribution with shape α and unit scale, i.e. Gamma(α, 1)\n",
       "Gamma(α, θ)      # Gamma distribution with shape α and scale θ\n",
       "\n",
       "params(d)        # Get the parameters, i.e. (α, θ)\n",
       "shape(d)         # Get the shape parameter, i.e. α\n",
       "scale(d)         # Get the scale parameter, i.e. θ\n",
       "\\end{verbatim}\n",
       "External links\n",
       "\n",
       "\\begin{itemize}\n",
       "\\item \\href{http://en.wikipedia.org/wiki/Gamma_distribution}{Gamma distribution on Wikipedia}\n",
       "\n",
       "\\end{itemize}\n"
      ],
      "text/markdown": [
       "```\n",
       "Gamma(α,θ)\n",
       "```\n",
       "\n",
       "The *Gamma distribution* with shape parameter `α` and scale `θ` has probability density function\n",
       "\n",
       "$$\n",
       "f(x; \\alpha, \\theta) = \\frac{x^{\\alpha-1} e^{-x/\\theta}}{\\Gamma(\\alpha) \\theta^\\alpha},\n",
       "\\quad x > 0\n",
       "$$\n",
       "\n",
       "```julia\n",
       "Gamma()          # Gamma distribution with unit shape and unit scale, i.e. Gamma(1, 1)\n",
       "Gamma(α)         # Gamma distribution with shape α and unit scale, i.e. Gamma(α, 1)\n",
       "Gamma(α, θ)      # Gamma distribution with shape α and scale θ\n",
       "\n",
       "params(d)        # Get the parameters, i.e. (α, θ)\n",
       "shape(d)         # Get the shape parameter, i.e. α\n",
       "scale(d)         # Get the scale parameter, i.e. θ\n",
       "```\n",
       "\n",
       "External links\n",
       "\n",
       "  * [Gamma distribution on Wikipedia](http://en.wikipedia.org/wiki/Gamma_distribution)\n"
      ],
      "text/plain": [
       "\u001b[36m  Gamma(α,θ)\u001b[39m\n",
       "\n",
       "  The \u001b[4mGamma distribution\u001b[24m with shape parameter \u001b[36mα\u001b[39m and scale \u001b[36mθ\u001b[39m has probability\n",
       "  density function\n",
       "\n",
       "\u001b[35m  f(x; \\alpha, \\theta) = \\frac{x^{\\alpha-1} e^{-x/\\theta}}{\\Gamma(\\alpha) \\theta^\\alpha},\u001b[39m\n",
       "\u001b[35m\\quad x > 0\u001b[39m\n",
       "\n",
       "\u001b[36m  Gamma()          # Gamma distribution with unit shape and unit scale, i.e. Gamma(1, 1)\u001b[39m\n",
       "\u001b[36m  Gamma(α)         # Gamma distribution with shape α and unit scale, i.e. Gamma(α, 1)\u001b[39m\n",
       "\u001b[36m  Gamma(α, θ)      # Gamma distribution with shape α and scale θ\u001b[39m\n",
       "\u001b[36m  \u001b[39m\n",
       "\u001b[36m  params(d)        # Get the parameters, i.e. (α, θ)\u001b[39m\n",
       "\u001b[36m  shape(d)         # Get the shape parameter, i.e. α\u001b[39m\n",
       "\u001b[36m  scale(d)         # Get the scale parameter, i.e. θ\u001b[39m\n",
       "\n",
       "  External links\n",
       "\n",
       "    •  Gamma distribution on Wikipedia\n",
       "       (http://en.wikipedia.org/wiki/Gamma_distribution)"
      ]
     },
     "execution_count": 4,
     "metadata": {},
     "output_type": "execute_result"
    }
   ],
   "source": [
    "? Gamma #Note that sometimes the gamma distribution is parameterized not by scale but by rate (inverse of scale)"
   ]
  },
  {
   "cell_type": "code",
   "execution_count": 5,
   "metadata": {},
   "outputs": [
    {
     "data": {
      "text/plain": [
       "Gamma{Float64}(α=2.0, θ=3.0)"
      ]
     },
     "execution_count": 5,
     "metadata": {},
     "output_type": "execute_result"
    }
   ],
   "source": [
    "dist = Gamma(2,3) #Shape of 2 and scale of 3"
   ]
  },
  {
   "cell_type": "code",
   "execution_count": 6,
   "metadata": {},
   "outputs": [
    {
     "data": {
      "text/plain": [
       "6.0"
      ]
     },
     "execution_count": 6,
     "metadata": {},
     "output_type": "execute_result"
    }
   ],
   "source": [
    "mean(dist) #The mean is shape*scale "
   ]
  },
  {
   "cell_type": "code",
   "execution_count": 7,
   "metadata": {},
   "outputs": [
    {
     "data": {
      "text/plain": [
       "18.0"
      ]
     },
     "execution_count": 7,
     "metadata": {},
     "output_type": "execute_result"
    }
   ],
   "source": [
    "var(dist) #The variance is shape*scale^2"
   ]
  },
  {
   "cell_type": "markdown",
   "metadata": {},
   "source": [
    "Hence for a gamma distribution  SCV = 1/shape."
   ]
  },
  {
   "cell_type": "code",
   "execution_count": 8,
   "metadata": {},
   "outputs": [
    {
     "data": {
      "text/plain": [
       "10.0"
      ]
     },
     "execution_count": 8,
     "metadata": {},
     "output_type": "execute_result"
    }
   ],
   "source": [
    "dist = Gamma(0.1,3)\n",
    "round(scv(dist), digits = 5)"
   ]
  },
  {
   "cell_type": "code",
   "execution_count": 9,
   "metadata": {},
   "outputs": [
    {
     "name": "stdout",
     "output_type": "stream",
     "text": [
      "mean(dist) = 0.3333333333333333\n",
      "scv(dist) = 0.5\n"
     ]
    }
   ],
   "source": [
    "#This is convenient in the queueing context\n",
    "\n",
    "\"\"\"\n",
    "A convenience function to make a Gamma distribution with desired rate (inverse of shape) and SCV.\n",
    "\"\"\"\n",
    "rate_scv_gamma(desired_rate::Float64, desired_scv::Float64) = Gamma(1/desired_scv, desired_scv/desired_rate)\n",
    "\n",
    "dist = rate_scv_gamma(3., 0.5)\n",
    "@show mean(dist)\n",
    "@show scv(dist);"
   ]
  },
  {
   "cell_type": "code",
   "execution_count": 10,
   "metadata": {},
   "outputs": [
    {
     "data": {
      "text/plain": [
       "Gamma{Float64}(α=2.0, θ=0.16666666666666666)"
      ]
     },
     "execution_count": 10,
     "metadata": {},
     "output_type": "execute_result"
    }
   ],
   "source": [
    "dist"
   ]
  },
  {
   "cell_type": "markdown",
   "metadata": {},
   "source": [
    "# We now construct the tandem queueing network"
   ]
  },
  {
   "cell_type": "code",
   "execution_count": 11,
   "metadata": {},
   "outputs": [],
   "source": [
    "struct TandemNetworkParameters\n",
    "    num_nodes::Int              # The number of nodes (queues/servers) in the system\n",
    "    λ::Float64                  # The external arrival rate to the first queue\n",
    "    μ_array::Vector{Float64}    # The list of the rates of service in each of the queues.\n",
    "    scv_array::Vector{Float64}  # A list of the squared coefficients of service times.\n",
    "end"
   ]
  },
  {
   "cell_type": "code",
   "execution_count": 12,
   "metadata": {},
   "outputs": [],
   "source": [
    "mutable struct TandemQueueNetworkState <: State\n",
    "    queues::Vector{Int}             #A vector which indicates the number of customers in each queue\n",
    "    params::TandemNetworkParameters #The parameters of the tandem queueing system\n",
    "#     cumulative_arrivals::Vector{Int} #A count of the total number of arrivals to each queue\n",
    "end\n",
    " \n",
    "#External arrival to the firt queue\n",
    "struct ExternalArrivalEvent <: Event end\n",
    " \n",
    "struct EndOfServiceAtQueueEvent <: Event\n",
    "    q::Int #The index of the queue where service finished\n",
    "end"
   ]
  },
  {
   "cell_type": "code",
   "execution_count": 13,
   "metadata": {},
   "outputs": [
    {
     "data": {
      "text/plain": [
       "total_in_system (generic function with 1 method)"
      ]
     },
     "execution_count": 13,
     "metadata": {},
     "output_type": "execute_result"
    }
   ],
   "source": [
    "total_in_system(state::TandemQueueNetworkState) = sum(state.queues)"
   ]
  },
  {
   "cell_type": "markdown",
   "metadata": {},
   "source": [
    "These two functions help generate random variables."
   ]
  },
  {
   "cell_type": "code",
   "execution_count": 14,
   "metadata": {},
   "outputs": [],
   "source": [
    "next_arrival_duration(s::State) = rand(Exponential(1/s.params.λ))\n",
    "next_service_duration(s::State, q::Int) = rand(rate_scv_gamma(s.params.μ_array[q], s.params.scv_array[q]));"
   ]
  },
  {
   "cell_type": "markdown",
   "metadata": {},
   "source": [
    "This is the main logic of the simulation."
   ]
  },
  {
   "cell_type": "markdown",
   "metadata": {},
   "source": [
    "**Note:** There is a **BUG** in one of these two functions below and this will cause the theoretical and simulation results to **not** agree. See end of prac."
   ]
  },
  {
   "cell_type": "code",
   "execution_count": 23,
   "metadata": {},
   "outputs": [
    {
     "data": {
      "text/plain": [
       "process_event (generic function with 4 methods)"
      ]
     },
     "execution_count": 23,
     "metadata": {},
     "output_type": "execute_result"
    }
   ],
   "source": [
    "function process_event(time::Float64, state::State, arrival_event::ExternalArrivalEvent)\n",
    "    state.queues[1] += 1     #increase number in first queue\n",
    "    new_timed_events = TimedEvent[]\n",
    " \n",
    "    #prepare next arrival\n",
    "    push!(new_timed_events, TimedEvent(ExternalArrivalEvent(), time + next_arrival_duration(state)))\n",
    " \n",
    "    #if this is the only job on the server engage service\n",
    "    state.queues[1] == 1 && push!(new_timed_events,\n",
    "                                TimedEvent(EndOfServiceAtQueueEvent(1), time + next_service_duration(state,1)))\n",
    "    return new_timed_events\n",
    "end\n",
    " \n",
    "#Process an end of service event\n",
    "function process_event(time::Float64, state::State, eos_event::EndOfServiceAtQueueEvent)\n",
    "    q = eos_event.q\n",
    "    new_timed_events = TimedEvent[]\n",
    "    \n",
    "    state.queues[q] -= 1\n",
    "    @assert state.queues[q] ≥ 0\n",
    "    \n",
    "    #if another customer in the queue then start a new service\n",
    "    if state.queues[q] ≥ 1\n",
    "        st = next_service_duration(state, q)\n",
    "        push!(new_timed_events, TimedEvent(EndOfServiceAtQueueEvent(q), time + st)) \n",
    "    end\n",
    "    \n",
    "    #If there is a downstream queue\n",
    "    if q < state.params.num_nodes\n",
    "        state.queues[q+1] += 1 #move the job to the downstream queue\n",
    "        \n",
    "        #if the queue downstream was empty\n",
    "        if state.queues[q+1] == 1 \n",
    "            st = next_service_duration(state, q+1)\n",
    "            push!(new_timed_events, TimedEvent(EndOfServiceAtQueueEvent(q+1), time + st)) \n",
    "        end\n",
    "    end\n",
    "    \n",
    "    return new_timed_events\n",
    "end"
   ]
  },
  {
   "cell_type": "markdown",
   "metadata": {},
   "source": [
    "# Experimenting with the simulation"
   ]
  },
  {
   "cell_type": "markdown",
   "metadata": {},
   "source": [
    "We can now use the simulation code above to experiment."
   ]
  },
  {
   "cell_type": "markdown",
   "metadata": {},
   "source": [
    "## Long time horizon simulation"
   ]
  },
  {
   "cell_type": "code",
   "execution_count": 53,
   "metadata": {},
   "outputs": [
    {
     "data": {
      "text/plain": [
       "do_experiment_long (generic function with 1 method)"
      ]
     },
     "execution_count": 53,
     "metadata": {},
     "output_type": "execute_result"
    }
   ],
   "source": [
    "#This function runs the simulation and records a full trajectory\n",
    "function do_experiment_long(;n=5, warm_up_time = 1e5, \n",
    "                            max_time = 1e6, scv = 1.0, \n",
    "                            λ = 1.0, μ_possibilities = [1.5, 2.0, 3.0])\n",
    "    \n",
    "    init_queues = fill(0,n)\n",
    "    pars = TandemNetworkParameters(n, λ, rand(μ_possibilities,n), fill(scv,n))\n",
    "    initial_state = TandemQueueNetworkState(init_queues, pars)\n",
    "    \n",
    "    #These four local variables (local for do_experiment_long)\n",
    "    #Are avaialbe to record_stats() \n",
    "    \n",
    "    #Stats recorded\n",
    "    queues_integral = zeros(n)\n",
    "    cumulative_arrivals = zeros(Int,n)\n",
    "    \n",
    "    #Helpers from previous call\n",
    "    last_state = deepcopy(initial_state)  \n",
    "    last_time = 0.0\n",
    "    \n",
    "    function record_stats(time::Float64, state::TandemQueueNetworkState) \n",
    "        if time ≥ warm_up_time  #Use a warmup time\n",
    "            queues_integral += state.queues*(time-last_time) #recording integrals\n",
    "            diff_in_queues = last_state.queues - state.queues\n",
    "#             @show time, max.(diff_in_queues,0) #only keep cases where positive difference\n",
    "            cumulative_arrivals += max.(diff_in_queues,0) #only keep cases where positive difference\n",
    "        end\n",
    "        \n",
    "        last_time = time\n",
    "        last_state = deepcopy(state) #copy notice that state is mutable \n",
    "        return nothing\n",
    "    end\n",
    "\n",
    "    do_sim(initial_state, \n",
    "        TimedEvent(ExternalArrivalEvent(),0.0), max_time = max_time, call_back = record_stats)\n",
    "    queues_integral/(max_time-warm_up_time), cumulative_arrivals/(max_time-warm_up_time), pars\n",
    "end"
   ]
  },
  {
   "cell_type": "code",
   "execution_count": 55,
   "metadata": {},
   "outputs": [
    {
     "name": "stdout",
     "output_type": "stream",
     "text": [
      "Ending simulation at time 1.0e6.\n"
     ]
    }
   ],
   "source": [
    "using Random\n",
    "Random.seed!(1)\n",
    "queue_means, arrival_rates, pars = do_experiment_long()#warm_up_time =0.0, max_time=5.0);"
   ]
  },
  {
   "cell_type": "code",
   "execution_count": 56,
   "metadata": {},
   "outputs": [
    {
     "data": {
      "text/plain": [
       "5-element Vector{Float64}:\n",
       " 1.0014133333333333\n",
       " 1.0014144444444444\n",
       " 1.0014155555555555\n",
       " 1.0014166666666666\n",
       " 1.0014144444444444"
      ]
     },
     "execution_count": 56,
     "metadata": {},
     "output_type": "execute_result"
    }
   ],
   "source": [
    "rates"
   ]
  },
  {
   "cell_type": "code",
   "execution_count": 34,
   "metadata": {},
   "outputs": [],
   "source": [
    "#The load on each individual queue is the external arrival rate divided by the service rate (as long as <1)\n",
    "ρ_loads = round.(pars.λ ./ pars.μ_array,digits=8);"
   ]
  },
  {
   "cell_type": "markdown",
   "metadata": {},
   "source": [
    "If all nodes have SCV=1.0 and for all nodes the load is less then 1, then there is a theoretical mean from queueing theory:"
   ]
  },
  {
   "cell_type": "code",
   "execution_count": 35,
   "metadata": {},
   "outputs": [],
   "source": [
    "theor_mean(ρ) = round(ρ/(1-ρ),digits=3);"
   ]
  },
  {
   "cell_type": "code",
   "execution_count": 36,
   "metadata": {},
   "outputs": [],
   "source": [
    "theor_means = theor_mean.(ρ_loads);"
   ]
  },
  {
   "cell_type": "code",
   "execution_count": 37,
   "metadata": {},
   "outputs": [],
   "source": [
    "# import Pkg; Pkg.add(\"PrettyTables\")"
   ]
  },
  {
   "cell_type": "code",
   "execution_count": 38,
   "metadata": {},
   "outputs": [
    {
     "name": "stdout",
     "output_type": "stream",
     "text": [
      "┌──────────┬────────┬───────┐\n",
      "│\u001b[1m        ρ \u001b[0m│\u001b[1m Theory \u001b[0m│\u001b[1m   Sim \u001b[0m│\n",
      "├──────────┼────────┼───────┤\n",
      "│ 0.666667 │    2.0 │ 2.055 │\n",
      "│      0.5 │    1.0 │ 1.032 │\n",
      "│ 0.333333 │    0.5 │ 0.527 │\n",
      "│      0.5 │    1.0 │ 0.977 │\n",
      "│ 0.333333 │    0.5 │ 0.528 │\n",
      "└──────────┴────────┴───────┘\n"
     ]
    }
   ],
   "source": [
    "using PrettyTables\n",
    "pretty_table(hcat(ρ_loads, theor_means, round.(queue_means,digits=3) ), header = [\"ρ\", \"Theory\", \"Sim\"] )"
   ]
  },
  {
   "cell_type": "markdown",
   "metadata": {},
   "source": [
    "**Note:** You'll notice that the theoretical results and the simulation results **do not** agree. Even if you increase the simulation time that is still the case. There is a bug in the simulation code. Try to find it with inspection. It is a simple fix in one line. Once you fix it, if you run the simulation again, the theoretical and simulation results will agree."
   ]
  }
 ],
 "metadata": {
  "kernelspec": {
   "display_name": "Julia 1.7.3",
   "language": "julia",
   "name": "julia-1.7"
  },
  "language_info": {
   "file_extension": ".jl",
   "mimetype": "application/julia",
   "name": "julia",
   "version": "1.7.3"
  }
 },
 "nbformat": 4,
 "nbformat_minor": 4
}
