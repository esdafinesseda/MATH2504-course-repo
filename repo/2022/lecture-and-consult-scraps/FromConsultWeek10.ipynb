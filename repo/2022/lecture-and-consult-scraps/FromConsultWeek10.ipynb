{
 "cells": [
  {
   "cell_type": "code",
   "execution_count": 1,
   "metadata": {},
   "outputs": [],
   "source": [
    "#You need to install the Parameters.jl package: https://github.com/mauro3/Parameters.jl\n",
    "#You need to install the Accessors.jl package: https://github.com/JuliaObjects/Accessors.jl\n",
    "using Parameters  \n",
    "using Accessors \n",
    "using LinearAlgebra\n",
    "using Random \n",
    "\n",
    "@with_kw struct NetworkParameters #The @with_kw macro comes from the Parameters.jl package and makes nice constructors\n",
    "    L::Int\n",
    "    α_vector::Vector{Float64} #This vector is a vector of α_i which can then be scaled\n",
    "    μ_vector::Vector{Float64} #This is the vector of service rates considered fixed\n",
    "    P::Matrix{Float64} #routing matrix\n",
    "    c_s::Float64 = 1.0 #The squared coefficient of variation of the service times with a default value of 1.0\n",
    "end\n",
    "\n",
    "############################\n",
    "# Three queues in tandem\n",
    "scenario1 = NetworkParameters(  L=3, \n",
    "                                α_vector = [0.5, 0, 0],\n",
    "                                μ_vector = ones(3),\n",
    "                                P = [0 1.0 0;\n",
    "                                     0 0 1.0;\n",
    "                                     0 0 0])\n",
    "\n",
    "############################\n",
    "# Three queues in tandem with option to return back to first queue\n",
    "scenario2 = @set scenario1.P  = [0 1.0 0; #The @set macro is from Accessors.jl and allows to easily make a \n",
    "                                 0 0 1.0; # modified copied of an (immutable) struct\n",
    "                                 0.3 0 0] \n",
    "\n",
    "############################\n",
    "# A ring of 5 queues\n",
    "scenario3 = NetworkParameters(  L=5, \n",
    "                                α_vector = ones(5),\n",
    "                                μ_vector = collect(1:5),\n",
    "                                P = [0  .8   0    0   0;\n",
    "                                     0   0   .8   0   0;\n",
    "                                     0   0   0    .8  0;\n",
    "                                     0   0   0    0   .8;\n",
    "                                     .8  0   0    0    0])\n",
    "\n",
    "############################\n",
    "# A large arbitrary network\n",
    "\n",
    "#Generate some random(arbitrary) matrix P\n",
    "Random.seed!(0)\n",
    "L = 100\n",
    "P = rand(L,L)\n",
    "P = P ./ sum(P, dims=2) #normalize rows by the sum\n",
    "P = P .* (0.2 .+ 0.7rand(L)) # multiply rows by factors in [0.2,0.9] \n",
    "\n",
    "scenario4 = NetworkParameters(  L=L, \n",
    "                                α_vector = ones(L),\n",
    "                                μ_vector = 0.5 .+ rand(L),\n",
    "                                P = P);"
   ]
  },
  {
   "cell_type": "code",
   "execution_count": 2,
   "metadata": {},
   "outputs": [
    {
     "name": "stdout",
     "output_type": "stream",
     "text": [
      "The maximal scalings for scenarios 1 to 4 are: [2.0, 1.4, 0.2, 0.216]\n"
     ]
    }
   ],
   "source": [
    "\"\"\"\n",
    "Compute the maximal value by which we can scale the α_vector and be stable.\n",
    "\"\"\"\n",
    "function maximal_alpha_scaling(net::NetworkParameters)\n",
    "    λ_base = (I - net.P') \\ net.α_vector #Solve the traffic equations\n",
    "    ρ_base = λ_base ./ net.μ_vector #Determine the load ρ  \n",
    "    return minimum(1 ./ ρ_base) #Return the maximal value by \n",
    "end\n",
    "\n",
    "max_scalings = round.(maximal_alpha_scaling.([scenario1, scenario2, scenario3, scenario4]),digits=3)\n",
    "println(\"The maximal scalings for scenarios 1 to 4 are: $max_scalings\")\n",
    "\n",
    "\"\"\"\n",
    "Use this function to adjust the network parameters to the desired ρ and c_s\n",
    "\"\"\"\n",
    "function set_scenario(net::NetworkParameters, ρ::Float64, c_s::Float64 = 1.0)\n",
    "    (ρ ≤ 0 || ρ ≥ 1) && error(\"ρ is out of range\")  \n",
    "    max_scaling = maximal_alpha_scaling(net)\n",
    "    net = @set net.α_vector = net.α_vector*max_scaling*ρ\n",
    "    net = @set net.c_s = c_s\n",
    "    return net\n",
    "end;"
   ]
  },
  {
   "cell_type": "code",
   "execution_count": 3,
   "metadata": {},
   "outputs": [
    {
     "name": "stdout",
     "output_type": "stream",
     "text": [
      "ρ_star = 0.7000000000000002\n"
     ]
    }
   ],
   "source": [
    "#Adjust scenario 4 for a desired ρ and c_s, adjusted_net is the adjusted network\n",
    "adjusted_net = set_scenario(scenario4, 0.7, 2.4)\n",
    "\n",
    "#We can check by solving the traffic equations\n",
    "λ = (I - adjusted_net.P') \\ adjusted_net.α_vector #Solve the traffic equations\n",
    "ρ = λ ./ adjusted_net.μ_vector #This is the vector of ρ values\n",
    "ρ_star= maximum(ρ) #\\star + [TAB]\n",
    "@show ρ_star;"
   ]
  },
  {
   "cell_type": "code",
   "execution_count": 18,
   "metadata": {},
   "outputs": [],
   "source": [
    "adjusted_net_a = set_scenario(scenario4, 0.1, 2.4)\n",
    "adjusted_net_b = set_scenario(scenario4, 0.5, 2.4)\n",
    "adjusted_net_c = set_scenario(scenario4, 0.9, 2.4);\n",
    "adjusted_net_d = set_scenario(scenario4, 0.99, 2.4);\n"
   ]
  },
  {
   "cell_type": "code",
   "execution_count": 9,
   "metadata": {},
   "outputs": [
    {
     "data": {
      "text/plain": [
       "compute_ρ (generic function with 1 method)"
      ]
     },
     "execution_count": 9,
     "metadata": {},
     "output_type": "execute_result"
    }
   ],
   "source": [
    "function compute_ρ(net)\n",
    "    λ = (I - net.P') \\ net.α_vector #Solve the traffic equations\n",
    "    return λ ./ net.μ_vector #This is the vector of ρ values\n",
    "end"
   ]
  },
  {
   "cell_type": "code",
   "execution_count": 19,
   "metadata": {},
   "outputs": [
    {
     "data": {
      "text/plain": [
       "294.3404178890847"
      ]
     },
     "execution_count": 19,
     "metadata": {},
     "output_type": "execute_result"
    }
   ],
   "source": [
    "sum(compute_ρ(adjusted_net_d) ./ (1 .- compute_ρ(adjusted_net_d)))"
   ]
  },
  {
   "cell_type": "code",
   "execution_count": 14,
   "metadata": {},
   "outputs": [
    {
     "data": {
      "text/plain": [
       "0.9"
      ]
     },
     "execution_count": 14,
     "metadata": {},
     "output_type": "execute_result"
    }
   ],
   "source": [
    "maximum(ans)"
   ]
  },
  {
   "cell_type": "code",
   "execution_count": null,
   "metadata": {},
   "outputs": [],
   "source": []
  }
 ],
 "metadata": {
  "kernelspec": {
   "display_name": "Julia 1.7.3",
   "language": "julia",
   "name": "julia-1.7"
  },
  "language_info": {
   "file_extension": ".jl",
   "mimetype": "application/julia",
   "name": "julia",
   "version": "1.7.3"
  }
 },
 "nbformat": 4,
 "nbformat_minor": 4
}
