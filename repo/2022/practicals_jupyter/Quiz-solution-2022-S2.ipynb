{
 "cells": [
  {
   "cell_type": "markdown",
   "metadata": {},
   "source": [
    "# Solution to MATH2504 Quiz, S2, 2022"
   ]
  },
  {
   "cell_type": "markdown",
   "metadata": {},
   "source": [
    "See: https://courses.smp.uq.edu.au/MATH2504/2022/quiz/actual_quiz_2022.pdf"
   ]
  },
  {
   "cell_type": "markdown",
   "metadata": {},
   "source": [
    "# Question 1 Solution"
   ]
  },
  {
   "cell_type": "markdown",
   "metadata": {},
   "source": [
    "**1a:**\n",
    "\n",
    "Line 4: Change `==` to `!=`.\n",
    "\n",
    "Line 5: Change `true` to `false`\n",
    "\n",
    "Line 10: Change `false` to `true`\n"
   ]
  },
  {
   "cell_type": "markdown",
   "metadata": {},
   "source": [
    "**1b:** \n",
    "\n",
    "A fix is required: Line 3: Change `[1:end-1]` to `[2:end-1]`."
   ]
  },
  {
   "cell_type": "markdown",
   "metadata": {},
   "source": [
    "# Question 2 Solution"
   ]
  },
  {
   "cell_type": "markdown",
   "metadata": {},
   "source": [
    "**2a:**\n",
    "\n",
    "`my_fact(3)` : once\n",
    "\n",
    "`my_fact(2)` : twice\n",
    "\n",
    "`my_fact(1)` : three times\n",
    "\n",
    "`my_fact(0)` : didn't rech that line.\n",
    "\n",
    "So 3 times in total.\n"
   ]
  },
  {
   "cell_type": "markdown",
   "metadata": {},
   "source": [
    "**2b:**\n",
    "\n",
    "The missing statement should be `(z-1) * my_gamma(z-1)`.\n",
    "\n",
    "So for example `my_gamma(2.7)` executes `1.7*my_gamma(1.7)` which then evaluates to `1.7*0.7*gamma_in_01(0.7)`"
   ]
  },
  {
   "cell_type": "markdown",
   "metadata": {},
   "source": [
    "**2c:**\n",
    "\n",
    "The missing statement should be `z -=1` or `z = z -1`."
   ]
  },
  {
   "cell_type": "markdown",
   "metadata": {},
   "source": [
    "Note: This question has a problem when $z$ is an integer. So in the middle of the quiz after a student asked about it, we specified to assume that $z$ is not an integer."
   ]
  },
  {
   "cell_type": "code",
   "execution_count": 10,
   "metadata": {},
   "outputs": [
    {
     "data": {
      "text/plain": [
       "gamma_in_01 (generic function with 1 method)"
      ]
     },
     "execution_count": 10,
     "metadata": {},
     "output_type": "execute_result"
    }
   ],
   "source": [
    "function my_gamma_non_recursive(z::Float64)\n",
    "    z <= 0 && throw(ArgumentError(\"z must be positive\"))\n",
    "    g = gamma_in_01(z - floor(z))\n",
    "    while z > 1\n",
    "        g *= z-1\n",
    "        z -= 1\n",
    "    end\n",
    "    return g\n",
    "end\n",
    "\n",
    "using SpecialFunctions\n",
    "gamma_in_01(z) = (0 < z && z <=1) ? gamma(z) : throw(ArgumentError(\"z must be in (0,1]\"))"
   ]
  },
  {
   "cell_type": "code",
   "execution_count": 14,
   "metadata": {},
   "outputs": [
    {
     "data": {
      "text/plain": [
       "(1.0464858468535607, 1.0464858468535605)"
      ]
     },
     "execution_count": 14,
     "metadata": {},
     "output_type": "execute_result"
    }
   ],
   "source": [
    "my_gamma_non_recursive(2.1), gamma(2.1)"
   ]
  },
  {
   "cell_type": "code",
   "execution_count": 16,
   "metadata": {},
   "outputs": [
    {
     "ename": "LoadError",
     "evalue": "ArgumentError: z must be in (0,1]",
     "output_type": "error",
     "traceback": [
      "ArgumentError: z must be in (0,1]",
      "",
      "Stacktrace:",
      " [1] gamma_in_01",
      "   @ ./In[10]:12 [inlined]",
      " [2] my_gamma_non_recursive(z::Float64)",
      "   @ Main ./In[10]:3",
      " [3] top-level scope",
      "   @ In[16]:3",
      " [4] eval",
      "   @ ./boot.jl:360 [inlined]",
      " [5] include_string(mapexpr::typeof(REPL.softscope), mod::Module, code::String, filename::String)",
      "   @ Base ./loading.jl:1094"
     ]
    }
   ],
   "source": [
    "#As stated in the middle of the quiz: \n",
    "#For question 2c, please assume that z is not an integer. It is not a whole number.\n",
    "my_gamma_non_recursive(2.0)"
   ]
  },
  {
   "cell_type": "markdown",
   "metadata": {},
   "source": [
    "# Question 3 Solution"
   ]
  },
  {
   "cell_type": "markdown",
   "metadata": {},
   "source": [
    "**3a:**\n",
    "\n",
    "Instead of `false` have `d >= 10`."
   ]
  },
  {
   "cell_type": "markdown",
   "metadata": {},
   "source": [
    "**3b**: "
   ]
  },
  {
   "cell_type": "code",
   "execution_count": 8,
   "metadata": {},
   "outputs": [
    {
     "data": {
      "text/plain": [
       "0.847412109375"
      ]
     },
     "execution_count": 8,
     "metadata": {},
     "output_type": "execute_result"
    }
   ],
   "source": [
    "1-10^4/2^16"
   ]
  }
 ],
 "metadata": {
  "kernelspec": {
   "display_name": "Julia 1.6.0",
   "language": "julia",
   "name": "julia-1.6"
  },
  "language_info": {
   "file_extension": ".jl",
   "mimetype": "application/julia",
   "name": "julia",
   "version": "1.6.0"
  }
 },
 "nbformat": 4,
 "nbformat_minor": 4
}
