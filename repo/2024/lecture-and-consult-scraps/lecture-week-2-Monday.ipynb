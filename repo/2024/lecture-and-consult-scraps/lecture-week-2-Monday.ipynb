{
 "cells": [
  {
   "cell_type": "code",
   "execution_count": 11,
   "id": "c15f87e4-77d0-49d7-a999-2aa23b3f8adf",
   "metadata": {},
   "outputs": [
    {
     "name": "stdout",
     "output_type": "stream",
     "text": [
      "2 + 4 = "
     ]
    },
    {
     "name": "stdin",
     "output_type": "stream",
     "text": [
      "stdin>  q\n"
     ]
    },
    {
     "name": "stdout",
     "output_type": "stream",
     "text": [
      "bye bye\n"
     ]
    }
   ],
   "source": [
    "# my skeleton number quiz\n",
    "\n",
    "for _ in 1:5\n",
    "    # generate question\n",
    "    x, y = rand(1:10, 2)\n",
    "    correct_answer = x + y\n",
    "    \n",
    "    # print the question\n",
    "    print(\"$x + $y = \")\n",
    "    \n",
    "    # get user input\n",
    "    user_input = readline()\n",
    "    if user_input == \"q\"\n",
    "        println(\"bye bye\")\n",
    "        break\n",
    "    end\n",
    "    answer = parse(Int, user_input)\n",
    "    \n",
    "    # compare input and log stats\n",
    "    if answer == correct_answer\n",
    "    # if parse(Int, answer) == correct_answer\n",
    "    # if answer == \"$correct_answer\"\n",
    "    # if answer == string(correct_answer)\n",
    "        println(\"Good job\")\n",
    "    else\n",
    "        println(\"Not so good, the sum of $x and $y is $correct_answer (and not $answer)\")\n",
    "    end\n",
    "end"
   ]
  },
  {
   "cell_type": "code",
   "execution_count": 8,
   "id": "ad3a1ab8-78fe-42a5-a700-837cb30b9214",
   "metadata": {},
   "outputs": [
    {
     "data": {
      "text/plain": [
       "\"24\""
      ]
     },
     "execution_count": 8,
     "metadata": {},
     "output_type": "execute_result"
    }
   ],
   "source": [
    "string(24)"
   ]
  },
  {
   "cell_type": "code",
   "execution_count": 2,
   "id": "98830b10-8b98-4f7d-ab04-af43cfe8d27f",
   "metadata": {},
   "outputs": [
    {
     "data": {
      "text/plain": [
       "false"
      ]
     },
     "execution_count": 2,
     "metadata": {},
     "output_type": "execute_result"
    }
   ],
   "source": [
    "\"10\" == 10"
   ]
  },
  {
   "cell_type": "code",
   "execution_count": 3,
   "id": "b6d8dc46-47ca-45f1-aab0-835dd7de6ad9",
   "metadata": {},
   "outputs": [
    {
     "name": "stdin",
     "output_type": "stream",
     "text": [
      "stdin>  10\n"
     ]
    },
    {
     "data": {
      "text/plain": [
       "\"10\""
      ]
     },
     "execution_count": 3,
     "metadata": {},
     "output_type": "execute_result"
    }
   ],
   "source": [
    "test_answer = readline()"
   ]
  },
  {
   "cell_type": "code",
   "execution_count": 4,
   "id": "c3394973-0a21-4c08-be7c-fe0a46b6fab1",
   "metadata": {},
   "outputs": [
    {
     "data": {
      "text/plain": [
       "String"
      ]
     },
     "execution_count": 4,
     "metadata": {},
     "output_type": "execute_result"
    }
   ],
   "source": [
    "typeof(test_answer)"
   ]
  },
  {
   "cell_type": "code",
   "execution_count": 5,
   "id": "a42b3489-b3ff-46bd-a3d4-79e24c87129d",
   "metadata": {},
   "outputs": [
    {
     "name": "stdout",
     "output_type": "stream",
     "text": [
      "search: \u001b[0m\u001b[1mp\u001b[22m\u001b[0m\u001b[1ma\u001b[22m\u001b[0m\u001b[1mr\u001b[22m\u001b[0m\u001b[1ms\u001b[22m\u001b[0m\u001b[1me\u001b[22m try\u001b[0m\u001b[1mp\u001b[22m\u001b[0m\u001b[1ma\u001b[22m\u001b[0m\u001b[1mr\u001b[22m\u001b[0m\u001b[1ms\u001b[22m\u001b[0m\u001b[1me\u001b[22m \u001b[0m\u001b[1mp\u001b[22m\u001b[0m\u001b[1ma\u001b[22m\u001b[0m\u001b[1mr\u001b[22mtial\u001b[0m\u001b[1ms\u001b[22mortp\u001b[0m\u001b[1me\u001b[22mrm \u001b[0m\u001b[1mp\u001b[22m\u001b[0m\u001b[1ma\u001b[22m\u001b[0m\u001b[1mr\u001b[22mtial\u001b[0m\u001b[1ms\u001b[22mortp\u001b[0m\u001b[1me\u001b[22mrm! \u001b[0m\u001b[1mp\u001b[22m\u001b[0m\u001b[1ma\u001b[22mi\u001b[0m\u001b[1mr\u001b[22m\u001b[0m\u001b[1ms\u001b[22m ski\u001b[0m\u001b[1mp\u001b[22mch\u001b[0m\u001b[1ma\u001b[22m\u001b[0m\u001b[1mr\u001b[22m\u001b[0m\u001b[1ms\u001b[22m\n",
      "\n"
     ]
    },
    {
     "data": {
      "text/latex": [
       "\\begin{verbatim}\n",
       "parse(type, str; base)\n",
       "\\end{verbatim}\n",
       "Parse a string as a number. For \\texttt{Integer} types, a base can be specified (the default is 10). For floating-point types, the string is parsed as a decimal floating-point number.  \\texttt{Complex} types are parsed from decimal strings of the form \\texttt{\"R±Iim\"} as a \\texttt{Complex(R,I)} of the requested type; \\texttt{\"i\"} or \\texttt{\"j\"} can also be used instead of \\texttt{\"im\"}, and \\texttt{\"R\"} or \\texttt{\"Iim\"} are also permitted. If the string does not contain a valid number, an error is raised.\n",
       "\n",
       "\\begin{quote}\n",
       "\\textbf{compat}\n",
       "\n",
       "Julia 1.1\n",
       "\n",
       "\\texttt{parse(Bool, str)} requires at least Julia 1.1.\n",
       "\n",
       "\\end{quote}\n",
       "\\section{Examples}\n",
       "\\begin{verbatim}\n",
       "julia> parse(Int, \"1234\")\n",
       "1234\n",
       "\n",
       "julia> parse(Int, \"1234\", base = 5)\n",
       "194\n",
       "\n",
       "julia> parse(Int, \"afc\", base = 16)\n",
       "2812\n",
       "\n",
       "julia> parse(Float64, \"1.2e-3\")\n",
       "0.0012\n",
       "\n",
       "julia> parse(Complex{Float64}, \"3.2e-1 + 4.5im\")\n",
       "0.32 + 4.5im\n",
       "\\end{verbatim}\n",
       "\\rule{\\textwidth}{1pt}\n",
       "\\begin{verbatim}\n",
       "parse(::Type{Platform}, triplet::AbstractString)\n",
       "\\end{verbatim}\n",
       "Parses a string platform triplet back into a \\texttt{Platform} object.\n",
       "\n"
      ],
      "text/markdown": [
       "```\n",
       "parse(type, str; base)\n",
       "```\n",
       "\n",
       "Parse a string as a number. For `Integer` types, a base can be specified (the default is 10). For floating-point types, the string is parsed as a decimal floating-point number.  `Complex` types are parsed from decimal strings of the form `\"R±Iim\"` as a `Complex(R,I)` of the requested type; `\"i\"` or `\"j\"` can also be used instead of `\"im\"`, and `\"R\"` or `\"Iim\"` are also permitted. If the string does not contain a valid number, an error is raised.\n",
       "\n",
       "!!! compat \"Julia 1.1\"\n",
       "    `parse(Bool, str)` requires at least Julia 1.1.\n",
       "\n",
       "\n",
       "# Examples\n",
       "\n",
       "```jldoctest\n",
       "julia> parse(Int, \"1234\")\n",
       "1234\n",
       "\n",
       "julia> parse(Int, \"1234\", base = 5)\n",
       "194\n",
       "\n",
       "julia> parse(Int, \"afc\", base = 16)\n",
       "2812\n",
       "\n",
       "julia> parse(Float64, \"1.2e-3\")\n",
       "0.0012\n",
       "\n",
       "julia> parse(Complex{Float64}, \"3.2e-1 + 4.5im\")\n",
       "0.32 + 4.5im\n",
       "```\n",
       "\n",
       "---\n",
       "\n",
       "```\n",
       "parse(::Type{Platform}, triplet::AbstractString)\n",
       "```\n",
       "\n",
       "Parses a string platform triplet back into a `Platform` object.\n"
      ],
      "text/plain": [
       "\u001b[36m  parse(type, str; base)\u001b[39m\n",
       "\n",
       "  Parse a string as a number. For \u001b[36mInteger\u001b[39m types, a base can be specified (the\n",
       "  default is 10). For floating-point types, the string is parsed as a decimal\n",
       "  floating-point number. \u001b[36mComplex\u001b[39m types are parsed from decimal strings of the\n",
       "  form \u001b[36m\"R±Iim\"\u001b[39m as a \u001b[36mComplex(R,I)\u001b[39m of the requested type; \u001b[36m\"i\"\u001b[39m or \u001b[36m\"j\"\u001b[39m can also be\n",
       "  used instead of \u001b[36m\"im\"\u001b[39m, and \u001b[36m\"R\"\u001b[39m or \u001b[36m\"Iim\"\u001b[39m are also permitted. If the string\n",
       "  does not contain a valid number, an error is raised.\n",
       "\n",
       "\u001b[39m\u001b[1m  │ \u001b[22m\u001b[39m\u001b[1mJulia 1.1\u001b[22m\n",
       "\u001b[39m\u001b[1m  │\u001b[22m\n",
       "\u001b[39m\u001b[1m  │\u001b[22m  \u001b[36mparse(Bool, str)\u001b[39m requires at least Julia 1.1.\n",
       "\n",
       "\u001b[1m  Examples\u001b[22m\n",
       "\u001b[1m  ≡≡≡≡≡≡≡≡\u001b[22m\n",
       "\n",
       "\u001b[36m  julia> parse(Int, \"1234\")\u001b[39m\n",
       "\u001b[36m  1234\u001b[39m\n",
       "\u001b[36m  \u001b[39m\n",
       "\u001b[36m  julia> parse(Int, \"1234\", base = 5)\u001b[39m\n",
       "\u001b[36m  194\u001b[39m\n",
       "\u001b[36m  \u001b[39m\n",
       "\u001b[36m  julia> parse(Int, \"afc\", base = 16)\u001b[39m\n",
       "\u001b[36m  2812\u001b[39m\n",
       "\u001b[36m  \u001b[39m\n",
       "\u001b[36m  julia> parse(Float64, \"1.2e-3\")\u001b[39m\n",
       "\u001b[36m  0.0012\u001b[39m\n",
       "\u001b[36m  \u001b[39m\n",
       "\u001b[36m  julia> parse(Complex{Float64}, \"3.2e-1 + 4.5im\")\u001b[39m\n",
       "\u001b[36m  0.32 + 4.5im\u001b[39m\n",
       "\n",
       "  ────────────────────────────────────────────────────────────────────────────\n",
       "\n",
       "\u001b[36m  parse(::Type{Platform}, triplet::AbstractString)\u001b[39m\n",
       "\n",
       "  Parses a string platform triplet back into a \u001b[36mPlatform\u001b[39m object."
      ]
     },
     "execution_count": 5,
     "metadata": {},
     "output_type": "execute_result"
    }
   ],
   "source": [
    "?parse"
   ]
  },
  {
   "cell_type": "code",
   "execution_count": 6,
   "id": "7f910eda-a6e3-4eba-a78c-0515a58ddf79",
   "metadata": {},
   "outputs": [
    {
     "data": {
      "text/plain": [
       "10"
      ]
     },
     "execution_count": 6,
     "metadata": {},
     "output_type": "execute_result"
    }
   ],
   "source": [
    "parse(Int, \"10\")"
   ]
  },
  {
   "cell_type": "code",
   "execution_count": 7,
   "id": "fdd111d4-35e1-4e1f-af42-3f2a77484509",
   "metadata": {},
   "outputs": [
    {
     "ename": "LoadError",
     "evalue": "ArgumentError: invalid base 10 digit 'h' in \"hello\"",
     "output_type": "error",
     "traceback": [
      "ArgumentError: invalid base 10 digit 'h' in \"hello\"",
      "",
      "Stacktrace:",
      " [1] tryparse_internal(::Type{Int64}, s::String, startpos::Int64, endpos::Int64, base_::Int64, raise::Bool)",
      "   @ Base ./parse.jl:143",
      " [2] parse(::Type{Int64}, s::String; base::Nothing)",
      "   @ Base ./parse.jl:254",
      " [3] parse(::Type{Int64}, s::String)",
      "   @ Base ./parse.jl:253",
      " [4] top-level scope",
      "   @ In[7]:1"
     ]
    }
   ],
   "source": [
    "parse(Int, \"hello\")"
   ]
  },
  {
   "cell_type": "code",
   "execution_count": 13,
   "id": "5cc6b9de-f00f-43ff-a55e-ede9480a68c9",
   "metadata": {},
   "outputs": [
    {
     "data": {
      "text/plain": [
       "my_abs (generic function with 1 method)"
      ]
     },
     "execution_count": 13,
     "metadata": {},
     "output_type": "execute_result"
    }
   ],
   "source": [
    "function my_abs(x)\n",
    "    if x < 0\n",
    "        return -x\n",
    "    else\n",
    "        return x\n",
    "    end\n",
    "    println(\"I've got the answer to everything\")\n",
    "end"
   ]
  },
  {
   "cell_type": "code",
   "execution_count": 14,
   "id": "0b3abcd4-69a1-4569-8ad3-80f60496243d",
   "metadata": {},
   "outputs": [
    {
     "data": {
      "text/plain": [
       "my_age (generic function with 1 method)"
      ]
     },
     "execution_count": 14,
     "metadata": {},
     "output_type": "execute_result"
    }
   ],
   "source": [
    "function my_age()\n",
    "    return 50\n",
    "end"
   ]
  },
  {
   "cell_type": "code",
   "execution_count": 16,
   "id": "2ea158bd-6944-450c-8667-98e99f275251",
   "metadata": {},
   "outputs": [
    {
     "data": {
      "text/plain": [
       "100"
      ]
     },
     "execution_count": 16,
     "metadata": {},
     "output_type": "execute_result"
    }
   ],
   "source": [
    "my_age() + my_age()"
   ]
  },
  {
   "cell_type": "code",
   "execution_count": 20,
   "id": "6f238023-b112-45fc-83e2-37422e56ac70",
   "metadata": {},
   "outputs": [
    {
     "name": "stdout",
     "output_type": "stream",
     "text": [
      "i = 1,  j=1\n",
      "i = 1,  j=2\n",
      "i = 1,  j=3\n"
     ]
    }
   ],
   "source": [
    "for i in 1:3\n",
    "    for j in 1:3\n",
    "        println(\"i = $i,  j=$j\")\n",
    "    end\n",
    "    break\n",
    "end"
   ]
  },
  {
   "cell_type": "code",
   "execution_count": 21,
   "id": "303b1eaf-0910-48f8-8ef5-9605aa28f96b",
   "metadata": {},
   "outputs": [
    {
     "name": "stdout",
     "output_type": "stream",
     "text": [
      "4\n",
      "haha\n",
      "8\n",
      "haha\n"
     ]
    }
   ],
   "source": [
    "for i in 1:10\n",
    "    if i % 4 == 0 #if divisible by 4 (i.e. 0, 4, 8, 12,....) \n",
    "        println(i)\n",
    "    else\n",
    "        continue\n",
    "    end\n",
    "    println(\"haha\")\n",
    "end"
   ]
  },
  {
   "cell_type": "code",
   "execution_count": 23,
   "id": "cf13ceac-a17b-49aa-a5fe-92daae90f06c",
   "metadata": {},
   "outputs": [
    {
     "data": {
      "text/plain": [
       "Nothing"
      ]
     },
     "execution_count": 23,
     "metadata": {},
     "output_type": "execute_result"
    }
   ],
   "source": [
    "typeof(nothing)"
   ]
  },
  {
   "cell_type": "code",
   "execution_count": 24,
   "id": "67bdcf4e-a1ad-499c-ba4f-de1fc0099630",
   "metadata": {},
   "outputs": [
    {
     "data": {
      "text/plain": [
       "print_my_story (generic function with 1 method)"
      ]
     },
     "execution_count": 24,
     "metadata": {},
     "output_type": "execute_result"
    }
   ],
   "source": [
    "function print_my_story()\n",
    "    println(\"It is a tough one\")\n",
    "    return nothing\n",
    "end"
   ]
  },
  {
   "cell_type": "code",
   "execution_count": 25,
   "id": "80145064-fd8b-4d6a-9337-68671ad269f5",
   "metadata": {},
   "outputs": [
    {
     "name": "stdout",
     "output_type": "stream",
     "text": [
      "It is a tough one\n"
     ]
    }
   ],
   "source": [
    "print_my_story()"
   ]
  },
  {
   "cell_type": "code",
   "execution_count": 26,
   "id": "b5e84bb9-4e7d-4933-af42-43fbcb68f09d",
   "metadata": {},
   "outputs": [
    {
     "data": {
      "text/plain": [
       "my_computation (generic function with 1 method)"
      ]
     },
     "execution_count": 26,
     "metadata": {},
     "output_type": "execute_result"
    }
   ],
   "source": [
    "function my_computation(x)\n",
    "    println(x)\n",
    "end"
   ]
  },
  {
   "cell_type": "code",
   "execution_count": 27,
   "id": "c1618e92-ef77-4cd1-a96b-aecc0ed609a6",
   "metadata": {},
   "outputs": [
    {
     "name": "stdout",
     "output_type": "stream",
     "text": [
      "hello\n"
     ]
    }
   ],
   "source": [
    "my_computation(\"hello\")"
   ]
  },
  {
   "cell_type": "code",
   "execution_count": 28,
   "id": "bc64c025-6f71-4472-b164-c74b46b33b20",
   "metadata": {},
   "outputs": [
    {
     "name": "stdout",
     "output_type": "stream",
     "text": [
      "354\n"
     ]
    }
   ],
   "source": [
    "my_computation(354)"
   ]
  },
  {
   "cell_type": "code",
   "execution_count": 1,
   "id": "cc6555d9-c293-448e-9980-cd40586cbb85",
   "metadata": {},
   "outputs": [
    {
     "data": {
      "text/plain": [
       "my_computation (generic function with 1 method)"
      ]
     },
     "execution_count": 1,
     "metadata": {},
     "output_type": "execute_result"
    }
   ],
   "source": [
    "function my_computation(x::Int)\n",
    "    println(x)\n",
    "end"
   ]
  },
  {
   "cell_type": "code",
   "execution_count": 2,
   "id": "c9dccf0c-cf9c-4ac4-9143-9bdbbfaf98fa",
   "metadata": {},
   "outputs": [
    {
     "name": "stdout",
     "output_type": "stream",
     "text": [
      "22\n"
     ]
    }
   ],
   "source": [
    "my_computation(22)"
   ]
  },
  {
   "cell_type": "code",
   "execution_count": 3,
   "id": "eb62d661-2d43-4c76-b613-f7c03cbe1e93",
   "metadata": {},
   "outputs": [
    {
     "ename": "LoadError",
     "evalue": "MethodError: no method matching my_computation(::String)\n\n\u001b[0mClosest candidates are:\n\u001b[0m  my_computation(\u001b[91m::Int64\u001b[39m)\n\u001b[0m\u001b[90m   @\u001b[39m \u001b[35mMain\u001b[39m \u001b[90m\u001b[4mIn[1]:1\u001b[24m\u001b[39m\n",
     "output_type": "error",
     "traceback": [
      "MethodError: no method matching my_computation(::String)\n\n\u001b[0mClosest candidates are:\n\u001b[0m  my_computation(\u001b[91m::Int64\u001b[39m)\n\u001b[0m\u001b[90m   @\u001b[39m \u001b[35mMain\u001b[39m \u001b[90m\u001b[4mIn[1]:1\u001b[24m\u001b[39m\n",
      "",
      "Stacktrace:",
      " [1] top-level scope",
      "   @ In[3]:1"
     ]
    }
   ],
   "source": [
    "my_computation(\"hello\")"
   ]
  },
  {
   "cell_type": "code",
   "execution_count": 5,
   "id": "ee2aaa73-ba50-41a7-b780-3c4d65a05c33",
   "metadata": {},
   "outputs": [
    {
     "data": {
      "text/plain": [
       "my_computation (generic function with 2 methods)"
      ]
     },
     "execution_count": 5,
     "metadata": {},
     "output_type": "execute_result"
    }
   ],
   "source": [
    "function my_computation(x::String)\n",
    "    println(\"Computing the string: $x\")\n",
    "end"
   ]
  },
  {
   "cell_type": "code",
   "execution_count": 2,
   "id": "7c664583-d1c9-46b2-b62c-f9cb5e64e8a4",
   "metadata": {},
   "outputs": [
    {
     "ename": "LoadError",
     "evalue": "MethodError: no method matching my_computation(::Int64)\n\n\u001b[0mClosest candidates are:\n\u001b[0m  my_computation(\u001b[91m::String\u001b[39m)\n\u001b[0m\u001b[90m   @\u001b[39m \u001b[35mMain\u001b[39m \u001b[90m\u001b[4mIn[1]:1\u001b[24m\u001b[39m\n",
     "output_type": "error",
     "traceback": [
      "MethodError: no method matching my_computation(::Int64)\n\n\u001b[0mClosest candidates are:\n\u001b[0m  my_computation(\u001b[91m::String\u001b[39m)\n\u001b[0m\u001b[90m   @\u001b[39m \u001b[35mMain\u001b[39m \u001b[90m\u001b[4mIn[1]:1\u001b[24m\u001b[39m\n",
      "",
      "Stacktrace:",
      " [1] top-level scope",
      "   @ In[2]:1"
     ]
    }
   ],
   "source": [
    "my_computation(22)"
   ]
  },
  {
   "cell_type": "code",
   "execution_count": 6,
   "id": "c354a918-c449-49d3-8b5d-0bcf151801a7",
   "metadata": {},
   "outputs": [
    {
     "data": {
      "text/plain": [
       "my_computation (generic function with 2 methods)"
      ]
     },
     "execution_count": 6,
     "metadata": {},
     "output_type": "execute_result"
    }
   ],
   "source": [
    "function my_computation(x::Int)\n",
    "    println(\"Computing the integer $x\")\n",
    "end"
   ]
  },
  {
   "cell_type": "code",
   "execution_count": 4,
   "id": "47c6b6bf-4aef-44a0-bb1f-2f78ed36c9ad",
   "metadata": {},
   "outputs": [
    {
     "data": {
      "text/html": [
       "# 2 methods for generic function <b>my_computation</b> from \u001b[35mMain\u001b[39m:<ul><li> my_computation(x::<b>Int64</b>) in Main at In[3]:1</li> <li> my_computation(x::<b>String</b>) in Main at In[1]:1</li> </ul>"
      ],
      "text/plain": [
       "# 2 methods for generic function \"my_computation\" from \u001b[35mMain\u001b[39m:\n",
       " [1] my_computation(\u001b[90mx\u001b[39m::\u001b[1mInt64\u001b[22m)\n",
       "\u001b[90m     @\u001b[39m \u001b[90m\u001b[4mIn[3]:1\u001b[24m\u001b[39m\n",
       " [2] my_computation(\u001b[90mx\u001b[39m::\u001b[1mString\u001b[22m)\n",
       "\u001b[90m     @\u001b[39m \u001b[90m\u001b[4mIn[1]:1\u001b[24m\u001b[39m"
      ]
     },
     "execution_count": 4,
     "metadata": {},
     "output_type": "execute_result"
    }
   ],
   "source": [
    "methods(my_computation)"
   ]
  },
  {
   "cell_type": "code",
   "execution_count": 7,
   "id": "afe1aa8c-0bc3-488b-b8dd-3f43b9216bcb",
   "metadata": {},
   "outputs": [
    {
     "name": "stdout",
     "output_type": "stream",
     "text": [
      "Computing the integer 22\n"
     ]
    }
   ],
   "source": [
    "my_computation(22)"
   ]
  },
  {
   "cell_type": "code",
   "execution_count": 8,
   "id": "58620416-938e-42ae-b1ba-367c3329a3fd",
   "metadata": {},
   "outputs": [
    {
     "name": "stdout",
     "output_type": "stream",
     "text": [
      "Computing the string: 22\n"
     ]
    }
   ],
   "source": [
    "my_computation(\"22\")"
   ]
  },
  {
   "cell_type": "code",
   "execution_count": 9,
   "id": "eda9f85c-ee73-4e4e-b7cc-5731d9e1d959",
   "metadata": {},
   "outputs": [
    {
     "ename": "LoadError",
     "evalue": "MethodError: no method matching my_computation(::Complex{Int64})\n\n\u001b[0mClosest candidates are:\n\u001b[0m  my_computation(\u001b[91m::Int64\u001b[39m)\n\u001b[0m\u001b[90m   @\u001b[39m \u001b[35mMain\u001b[39m \u001b[90m\u001b[4mIn[6]:1\u001b[24m\u001b[39m\n\u001b[0m  my_computation(\u001b[91m::String\u001b[39m)\n\u001b[0m\u001b[90m   @\u001b[39m \u001b[35mMain\u001b[39m \u001b[90m\u001b[4mIn[5]:1\u001b[24m\u001b[39m\n",
     "output_type": "error",
     "traceback": [
      "MethodError: no method matching my_computation(::Complex{Int64})\n\n\u001b[0mClosest candidates are:\n\u001b[0m  my_computation(\u001b[91m::Int64\u001b[39m)\n\u001b[0m\u001b[90m   @\u001b[39m \u001b[35mMain\u001b[39m \u001b[90m\u001b[4mIn[6]:1\u001b[24m\u001b[39m\n\u001b[0m  my_computation(\u001b[91m::String\u001b[39m)\n\u001b[0m\u001b[90m   @\u001b[39m \u001b[35mMain\u001b[39m \u001b[90m\u001b[4mIn[5]:1\u001b[24m\u001b[39m\n",
      "",
      "Stacktrace:",
      " [1] top-level scope",
      "   @ In[9]:1"
     ]
    }
   ],
   "source": [
    "my_computation(22+3im)"
   ]
  },
  {
   "cell_type": "code",
   "execution_count": 14,
   "id": "7c7d82b6-6449-41ff-b371-b5b90c33d0b9",
   "metadata": {},
   "outputs": [
    {
     "data": {
      "text/plain": [
       "my_stuff (generic function with 1 method)"
      ]
     },
     "execution_count": 14,
     "metadata": {},
     "output_type": "execute_result"
    }
   ],
   "source": [
    "function my_stuff()\n",
    "    global x\n",
    "    println(x)\n",
    "end"
   ]
  },
  {
   "cell_type": "code",
   "execution_count": 11,
   "id": "f4c67979-b635-4736-b70a-d23a63194a61",
   "metadata": {},
   "outputs": [
    {
     "name": "stdout",
     "output_type": "stream",
     "text": [
      "22\n"
     ]
    }
   ],
   "source": [
    "my_stuff()"
   ]
  },
  {
   "cell_type": "code",
   "execution_count": 12,
   "id": "dbd69ca0-abad-44d0-b1dc-81032d582d9a",
   "metadata": {},
   "outputs": [
    {
     "data": {
      "text/plain": [
       "88"
      ]
     },
     "execution_count": 12,
     "metadata": {},
     "output_type": "execute_result"
    }
   ],
   "source": [
    "x = 88"
   ]
  },
  {
   "cell_type": "code",
   "execution_count": 15,
   "id": "7878ab6c-23ef-4825-994f-46f48ef55ff3",
   "metadata": {},
   "outputs": [
    {
     "name": "stdout",
     "output_type": "stream",
     "text": [
      "88\n"
     ]
    }
   ],
   "source": [
    "my_stuff()"
   ]
  },
  {
   "cell_type": "code",
   "execution_count": 16,
   "id": "8c622f79-d5b6-4fde-a350-bd42caa8499b",
   "metadata": {},
   "outputs": [
    {
     "data": {
      "text/plain": [
       "times_2 (generic function with 1 method)"
      ]
     },
     "execution_count": 16,
     "metadata": {},
     "output_type": "execute_result"
    }
   ],
   "source": [
    "times_2(x) = 2*x"
   ]
  },
  {
   "cell_type": "code",
   "execution_count": null,
   "id": "2f617b54-1ac1-4541-a978-8234fa04e5aa",
   "metadata": {},
   "outputs": [],
   "source": [
    "function times_2(x)\n",
    "    return 2*x\n",
    "end"
   ]
  }
 ],
 "metadata": {
  "kernelspec": {
   "display_name": "Julia 1.10.4",
   "language": "julia",
   "name": "julia-1.10"
  },
  "language_info": {
   "file_extension": ".jl",
   "mimetype": "application/julia",
   "name": "julia",
   "version": "1.10.4"
  }
 },
 "nbformat": 4,
 "nbformat_minor": 5
}
