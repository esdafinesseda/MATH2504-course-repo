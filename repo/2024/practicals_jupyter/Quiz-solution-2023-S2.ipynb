{
 "cells": [
  {
   "cell_type": "markdown",
   "metadata": {},
   "source": [
    "# Solution to MATH2504 Quiz, S2, 2023"
   ]
  },
  {
   "cell_type": "markdown",
   "metadata": {},
   "source": [
    "See: https://courses.smp.uq.edu.au/MATH2504/2023/quiz/actual_quiz_2023.pdf"
   ]
  },
  {
   "cell_type": "markdown",
   "metadata": {},
   "source": [
    "# Question 1 Solution"
   ]
  },
  {
   "cell_type": "markdown",
   "metadata": {},
   "source": [
    "**1a:**\n",
    "Line 4, replace `2` to be `1`.\n"
   ]
  },
  {
   "cell_type": "markdown",
   "metadata": {},
   "source": [
    "**1b:** \n",
    "The return value is `true` because with this function we check for descending order.\n"
   ]
  },
  {
   "cell_type": "markdown",
   "metadata": {},
   "source": [
    "**1c:** \n",
    "In line 3, `||` should be `&&`."
   ]
  },
  {
   "cell_type": "markdown",
   "metadata": {},
   "source": [
    "# Question 2 Solution"
   ]
  },
  {
   "cell_type": "markdown",
   "metadata": {},
   "source": [
    "**2a:**\n",
    "The expression should be `((i-1)*1000+1):(i*1000)`"
   ]
  },
  {
   "cell_type": "markdown",
   "metadata": {},
   "source": [
    "**2b:**\n",
    "The expression should be `(d*1000+1):end`\n",
    "\n"
   ]
  },
  {
   "cell_type": "markdown",
   "metadata": {},
   "source": [
    "**2c:**\n",
    "There is no modification needed because the loop won't execute and the last expression will be the whole array.\n"
   ]
  },
  {
   "cell_type": "code",
   "execution_count": 34,
   "metadata": {},
   "outputs": [
    {
     "name": "stdout",
     "output_type": "stream",
     "text": [
      "(i - 1) * 1000 + 1:i * 1000 = 1:1000\n",
      "(i - 1) * 1000 + 1:i * 1000 = 1001:2000\n",
      "(i - 1) * 1000 + 1:i * 1000 = 2001:3000\n",
      "d * 1000 + 1:n = 3001:3424\n"
     ]
    }
   ],
   "source": [
    "# here is a demo for verification\n",
    "n = 3424\n",
    "d = div(n, 1000)\n",
    "for i in 1:d\n",
    "    @show ((i-1)*1000+1):(i*1000)\n",
    "end\n",
    "@show (d*1000+1):n;"
   ]
  },
  {
   "cell_type": "code",
   "execution_count": 35,
   "metadata": {},
   "outputs": [
    {
     "name": "stdout",
     "output_type": "stream",
     "text": [
      "d * 1000 + 1:n = 1:424\n"
     ]
    }
   ],
   "source": [
    "# here is a demo for verification\n",
    "n = 424\n",
    "d = div(n, 1000)\n",
    "for i in 1:d\n",
    "    @show ((i-1)*1000+1):(i*1000)\n",
    "end\n",
    "@show (d*1000+1):n;"
   ]
  },
  {
   "cell_type": "markdown",
   "metadata": {},
   "source": [
    "# Question 3 Solution"
   ]
  },
  {
   "cell_type": "markdown",
   "metadata": {},
   "source": [
    "**3a:**\n",
    "\n",
    "`0x0280` is 0000 0010 1000 0000 in bits\n",
    "\n",
    "`0xA0` is 1010 0000 in bits\n",
    "\n",
    "We see the second pattern in the first so the result is `true`."
   ]
  },
  {
   "cell_type": "markdown",
   "metadata": {},
   "source": [
    "**3b**: \n",
    "This just checks if the 1 bit is in any of the 64 bits. The probability of it being `false` is $1/2^{64}$"
   ]
  },
  {
   "cell_type": "markdown",
   "metadata": {},
   "source": [
    "**3c**: \n",
    "Here is one solution, changing lines 2 and 3."
   ]
  },
  {
   "cell_type": "code",
   "execution_count": 1,
   "metadata": {},
   "outputs": [],
   "source": [
    "function has_bit_pattern(bits::UInt64, pattern::UInt8, num_bits)\n",
    "    for i in 0:(64-num_bits) #CHANGED\n",
    "        if UInt8((bits >> i) & (0xFF >> (8-num_bits))) == (pattern & (0xFF >> (8-num_bits)))#CHANGED (*)\n",
    "            return true\n",
    "        end\n",
    "    end\n",
    "    return false\n",
    "end;\n",
    "\n",
    "# Note that the changed line with (*) had an initial solution which was wrong."
   ]
  }
 ],
 "metadata": {
  "kernelspec": {
   "display_name": "Julia 1.9.1",
   "language": "julia",
   "name": "julia-1.9"
  },
  "language_info": {
   "file_extension": ".jl",
   "mimetype": "application/julia",
   "name": "julia",
   "version": "1.9.1"
  }
 },
 "nbformat": 4,
 "nbformat_minor": 4
}
