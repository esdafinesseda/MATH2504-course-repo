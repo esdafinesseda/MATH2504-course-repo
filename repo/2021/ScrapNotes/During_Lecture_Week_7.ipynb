{
 "cells": [
  {
   "cell_type": "code",
   "execution_count": 1,
   "metadata": {},
   "outputs": [
    {
     "ename": "LoadError",
     "evalue": "not good buddy",
     "output_type": "error",
     "traceback": [
      "not good buddy",
      "",
      "Stacktrace:",
      " [1] error(s::String)",
      "   @ Base ./error.jl:33",
      " [2] top-level scope",
      "   @ In[1]:1",
      " [3] eval",
      "   @ ./boot.jl:360 [inlined]",
      " [4] include_string(mapexpr::typeof(REPL.softscope), mod::Module, code::String, filename::String)",
      "   @ Base ./loading.jl:1094"
     ]
    }
   ],
   "source": [
    "error(\"not good buddy\")"
   ]
  },
  {
   "cell_type": "code",
   "execution_count": 4,
   "metadata": {},
   "outputs": [
    {
     "name": "stdout",
     "output_type": "stream",
     "text": [
      "data = [-1, -2, -3]\n",
      "s = 12\n"
     ]
    }
   ],
   "source": [
    "data = [1, 2, 3]\n",
    "s = 0\n",
    "β, γ = 2, 1\n",
    "\n",
    "for i in 1:length(data)\n",
    "#     global s    #This usage of the `global` keyword is not needed in Jupyter\n",
    "                #But elsewhere without it:\n",
    "                #ERROR: LoadError: UndefVarError: s not defined\n",
    "    s += β*data[i]\n",
    "    data[i] *= -1 #Note that we didn't need 'global' for data\n",
    "end\n",
    "#print(i)       #Would cause ERROR: LoadError: UndefVarError: i not defined\n",
    "@show data\n",
    "@show s;"
   ]
  },
  {
   "cell_type": "code",
   "execution_count": 5,
   "metadata": {},
   "outputs": [
    {
     "data": {
      "text/plain": [
       "6"
      ]
     },
     "execution_count": 5,
     "metadata": {},
     "output_type": "execute_result"
    }
   ],
   "source": [
    "sum([1,2,3])"
   ]
  },
  {
   "cell_type": "code",
   "execution_count": 6,
   "metadata": {},
   "outputs": [
    {
     "data": {
      "text/plain": [
       "sum (generic function with 14 methods)"
      ]
     },
     "execution_count": 6,
     "metadata": {},
     "output_type": "execute_result"
    }
   ],
   "source": [
    "sum"
   ]
  },
  {
   "cell_type": "code",
   "execution_count": 7,
   "metadata": {},
   "outputs": [
    {
     "data": {
      "text/plain": [
       "sum (generic function with 14 methods)"
      ]
     },
     "execution_count": 7,
     "metadata": {},
     "output_type": "execute_result"
    }
   ],
   "source": [
    "our_sum = sum"
   ]
  },
  {
   "cell_type": "code",
   "execution_count": 8,
   "metadata": {},
   "outputs": [
    {
     "data": {
      "text/plain": [
       "6"
      ]
     },
     "execution_count": 8,
     "metadata": {},
     "output_type": "execute_result"
    }
   ],
   "source": [
    "our_sum([1,2,3])"
   ]
  },
  {
   "cell_type": "code",
   "execution_count": 9,
   "metadata": {},
   "outputs": [
    {
     "ename": "LoadError",
     "evalue": "UndefVarError: i not defined",
     "output_type": "error",
     "traceback": [
      "UndefVarError: i not defined",
      "",
      "Stacktrace:",
      " [1] f()",
      "   @ Main ./In[9]:5",
      " [2] top-level scope",
      "   @ In[9]:7",
      " [3] eval",
      "   @ ./boot.jl:360 [inlined]",
      " [4] include_string(mapexpr::typeof(REPL.softscope), mod::Module, code::String, filename::String)",
      "   @ Base ./loading.jl:1094"
     ]
    }
   ],
   "source": [
    "function f()\n",
    "    for i = 1:3\n",
    "        # empty\n",
    "    end\n",
    "    return i\n",
    "end\n",
    "f()"
   ]
  },
  {
   "cell_type": "code",
   "execution_count": 10,
   "metadata": {},
   "outputs": [
    {
     "data": {
      "text/plain": [
       "2//3"
      ]
     },
     "execution_count": 10,
     "metadata": {},
     "output_type": "execute_result"
    }
   ],
   "source": [
    "2//3"
   ]
  },
  {
   "cell_type": "code",
   "execution_count": 11,
   "metadata": {},
   "outputs": [
    {
     "data": {
      "text/plain": [
       "0.6666666666666666"
      ]
     },
     "execution_count": 11,
     "metadata": {},
     "output_type": "execute_result"
    }
   ],
   "source": [
    "2/3"
   ]
  },
  {
   "cell_type": "code",
   "execution_count": 12,
   "metadata": {},
   "outputs": [
    {
     "data": {
      "text/plain": [
       "2//3"
      ]
     },
     "execution_count": 12,
     "metadata": {},
     "output_type": "execute_result"
    }
   ],
   "source": [
    "Int8(2)//Int8(3)"
   ]
  },
  {
   "cell_type": "code",
   "execution_count": 13,
   "metadata": {},
   "outputs": [
    {
     "data": {
      "text/plain": [
       "Rational{Int8}"
      ]
     },
     "execution_count": 13,
     "metadata": {},
     "output_type": "execute_result"
    }
   ],
   "source": [
    "typeof(ans)"
   ]
  },
  {
   "cell_type": "code",
   "execution_count": 14,
   "metadata": {},
   "outputs": [
    {
     "ename": "LoadError",
     "evalue": "MethodError: no method matching //(::Float64, ::Float64)\n\u001b[0mClosest candidates are:\n\u001b[0m  //(\u001b[91m::Complex\u001b[39m, ::Real) at rational.jl:77\n\u001b[0m  //(::Number, \u001b[91m::Complex\u001b[39m) at rational.jl:78\n\u001b[0m  //(\u001b[91m::AbstractArray\u001b[39m, ::Number) at rational.jl:81",
     "output_type": "error",
     "traceback": [
      "MethodError: no method matching //(::Float64, ::Float64)\n\u001b[0mClosest candidates are:\n\u001b[0m  //(\u001b[91m::Complex\u001b[39m, ::Real) at rational.jl:77\n\u001b[0m  //(::Number, \u001b[91m::Complex\u001b[39m) at rational.jl:78\n\u001b[0m  //(\u001b[91m::AbstractArray\u001b[39m, ::Number) at rational.jl:81",
      "",
      "Stacktrace:",
      " [1] top-level scope",
      "   @ In[14]:1",
      " [2] eval",
      "   @ ./boot.jl:360 [inlined]",
      " [3] include_string(mapexpr::typeof(REPL.softscope), mod::Module, code::String, filename::String)",
      "   @ Base ./loading.jl:1094"
     ]
    }
   ],
   "source": [
    "3.2//2.5"
   ]
  },
  {
   "cell_type": "code",
   "execution_count": 15,
   "metadata": {},
   "outputs": [
    {
     "data": {
      "text/plain": [
       "Float64"
      ]
     },
     "execution_count": 15,
     "metadata": {},
     "output_type": "execute_result"
    }
   ],
   "source": [
    "Float64"
   ]
  },
  {
   "cell_type": "code",
   "execution_count": 16,
   "metadata": {},
   "outputs": [
    {
     "data": {
      "text/plain": [
       "DataType"
      ]
     },
     "execution_count": 16,
     "metadata": {},
     "output_type": "execute_result"
    }
   ],
   "source": [
    "typeof(ans)"
   ]
  },
  {
   "cell_type": "code",
   "execution_count": 17,
   "metadata": {},
   "outputs": [
    {
     "data": {
      "text/plain": [
       ":hi_people"
      ]
     },
     "execution_count": 17,
     "metadata": {},
     "output_type": "execute_result"
    }
   ],
   "source": [
    ":hi_people"
   ]
  },
  {
   "cell_type": "code",
   "execution_count": 18,
   "metadata": {},
   "outputs": [
    {
     "data": {
      "text/plain": [
       "Real"
      ]
     },
     "execution_count": 18,
     "metadata": {},
     "output_type": "execute_result"
    }
   ],
   "source": [
    "Real"
   ]
  },
  {
   "cell_type": "code",
   "execution_count": 19,
   "metadata": {},
   "outputs": [
    {
     "data": {
      "text/plain": [
       "Complex"
      ]
     },
     "execution_count": 19,
     "metadata": {},
     "output_type": "execute_result"
    }
   ],
   "source": [
    "Complex"
   ]
  },
  {
   "cell_type": "code",
   "execution_count": 20,
   "metadata": {},
   "outputs": [
    {
     "data": {
      "text/plain": [
       "false"
      ]
     },
     "execution_count": 20,
     "metadata": {},
     "output_type": "execute_result"
    }
   ],
   "source": [
    "isconcretetype(Complex)"
   ]
  },
  {
   "cell_type": "code",
   "execution_count": 21,
   "metadata": {},
   "outputs": [
    {
     "data": {
      "text/plain": [
       "Complex{Int64}"
      ]
     },
     "execution_count": 21,
     "metadata": {},
     "output_type": "execute_result"
    }
   ],
   "source": [
    "Complex{Int}"
   ]
  },
  {
   "cell_type": "code",
   "execution_count": 22,
   "metadata": {},
   "outputs": [
    {
     "data": {
      "text/plain": [
       "ComplexF64 (alias for Complex{Float64})"
      ]
     },
     "execution_count": 22,
     "metadata": {},
     "output_type": "execute_result"
    }
   ],
   "source": [
    "Complex{Float64}"
   ]
  },
  {
   "cell_type": "code",
   "execution_count": 23,
   "metadata": {},
   "outputs": [
    {
     "data": {
      "text/plain": [
       "Complex{Bool}"
      ]
     },
     "execution_count": 23,
     "metadata": {},
     "output_type": "execute_result"
    }
   ],
   "source": [
    "Complex{Bool}"
   ]
  },
  {
   "cell_type": "code",
   "execution_count": 24,
   "metadata": {},
   "outputs": [
    {
     "data": {
      "text/plain": [
       "true"
      ]
     },
     "execution_count": 24,
     "metadata": {},
     "output_type": "execute_result"
    }
   ],
   "source": [
    "Int <: Real"
   ]
  },
  {
   "cell_type": "code",
   "execution_count": 25,
   "metadata": {},
   "outputs": [
    {
     "data": {
      "text/plain": [
       "false"
      ]
     },
     "execution_count": 25,
     "metadata": {},
     "output_type": "execute_result"
    }
   ],
   "source": [
    "Int <: Complex"
   ]
  },
  {
   "cell_type": "code",
   "execution_count": 26,
   "metadata": {},
   "outputs": [
    {
     "data": {
      "text/plain": [
       "true"
      ]
     },
     "execution_count": 26,
     "metadata": {},
     "output_type": "execute_result"
    }
   ],
   "source": [
    "String <: Any"
   ]
  },
  {
   "cell_type": "code",
   "execution_count": 27,
   "metadata": {},
   "outputs": [
    {
     "data": {
      "text/plain": [
       "4-element Vector{Any}:\n",
       " AbstractFloat\n",
       " AbstractIrrational\n",
       " Integer\n",
       " Rational"
      ]
     },
     "execution_count": 27,
     "metadata": {},
     "output_type": "execute_result"
    }
   ],
   "source": [
    "subtypes(Real)"
   ]
  },
  {
   "cell_type": "code",
   "execution_count": 28,
   "metadata": {},
   "outputs": [
    {
     "name": "stdout",
     "output_type": "stream",
     "text": [
      "Number: non-concrete, abstract\n",
      "-Complex: non-concrete, non-abstract\n",
      "-Real: non-concrete, abstract\n",
      "--AbstractFloat: non-concrete, abstract\n",
      "---BigFloat: concrete\n",
      "---Float16: concrete\n",
      "---Float32: concrete\n",
      "---Float64: concrete\n",
      "--AbstractIrrational: non-concrete, abstract\n",
      "---Irrational: non-concrete, non-abstract\n",
      "--Integer: non-concrete, abstract\n",
      "---Bool: concrete\n",
      "---Signed: non-concrete, abstract\n",
      "----BigInt: concrete\n",
      "----Int128: concrete\n",
      "----Int16: concrete\n",
      "----Int32: concrete\n",
      "----Int64: concrete\n",
      "----Int8: concrete\n",
      "---Unsigned: non-concrete, abstract\n",
      "----UInt128: concrete\n",
      "----UInt16: concrete\n",
      "----UInt32: concrete\n",
      "----UInt64: concrete\n",
      "----UInt8: concrete\n",
      "--Rational: non-concrete, non-abstract\n"
     ]
    }
   ],
   "source": [
    "using InteractiveUtils: subtypes\n",
    "\n",
    "function type_and_children(type, depth::Int = 0)\n",
    "    if !isconcretetype(type)\n",
    "        #Non-concrete\n",
    "        print(\"-\"^depth, type, \": non-concrete\")\n",
    "        #Types that are not concrete can be abstract or not\n",
    "        if isabstracttype(type) \n",
    "            println(\", abstract\")\n",
    "            for c in subtypes(type)\n",
    "                type_and_children(c,depth+1)\n",
    "            end\n",
    "        else\n",
    "             println(\", non-abstract\")\n",
    "             @assert isempty(subtypes(type))\n",
    "        end\n",
    "    else\n",
    "        #Concrete\n",
    "        @assert isempty(subtypes(type))\n",
    "        println(\"-\"^depth, type, \": concrete\")\n",
    "    end\n",
    "end\n",
    "\n",
    "type_and_children(Number)"
   ]
  },
  {
   "cell_type": "code",
   "execution_count": 29,
   "metadata": {},
   "outputs": [],
   "source": [
    "using Distributions"
   ]
  },
  {
   "cell_type": "code",
   "execution_count": 30,
   "metadata": {},
   "outputs": [
    {
     "data": {
      "text/plain": [
       "Distribution{Univariate, Continuous}"
      ]
     },
     "execution_count": 30,
     "metadata": {},
     "output_type": "execute_result"
    }
   ],
   "source": [
    "supertype(Normal)"
   ]
  },
  {
   "cell_type": "code",
   "execution_count": 31,
   "metadata": {},
   "outputs": [
    {
     "data": {
      "text/plain": [
       "Sampleable"
      ]
     },
     "execution_count": 31,
     "metadata": {},
     "output_type": "execute_result"
    }
   ],
   "source": [
    "supertype(Distribution)"
   ]
  },
  {
   "cell_type": "code",
   "execution_count": 32,
   "metadata": {},
   "outputs": [
    {
     "name": "stdout",
     "output_type": "stream",
     "text": [
      "Distribution: non-concrete, abstract\n",
      "-AbstractMixtureModel: non-concrete, abstract\n",
      "--MixtureModel: non-concrete, non-abstract\n",
      "--UnivariateGMM: non-concrete, non-abstract\n",
      "-AbstractMvNormal: non-concrete, abstract\n",
      "--MvNormal: non-concrete, non-abstract\n",
      "--MvNormalCanon: non-concrete, non-abstract\n",
      "-Arcsine: non-concrete, non-abstract\n",
      "-Bernoulli: non-concrete, non-abstract\n",
      "-Beta: non-concrete, non-abstract\n",
      "-BetaBinomial: non-concrete, non-abstract\n",
      "-BetaPrime: non-concrete, non-abstract\n",
      "-Binomial: non-concrete, non-abstract\n",
      "-Biweight: non-concrete, non-abstract\n",
      "-Cauchy: non-concrete, non-abstract\n",
      "-Chernoff: concrete\n",
      "-Chi: non-concrete, non-abstract\n",
      "-Chisq: non-concrete, non-abstract\n",
      "-Cosine: non-concrete, non-abstract\n",
      "-Dirac: non-concrete, non-abstract\n",
      "-Dirichlet: non-concrete, non-abstract\n",
      "-DirichletMultinomial: non-concrete, non-abstract\n",
      "-DiscreteNonParametric: non-concrete, non-abstract\n",
      "-DiscreteUniform: concrete\n",
      "-Distributions.AbstractMvLogNormal: non-concrete, abstract\n",
      "--MvLogNormal: non-concrete, non-abstract\n",
      "-Distributions.AbstractMvTDist: non-concrete, abstract\n",
      "--Distributions.GenericMvTDist: non-concrete, non-abstract\n",
      "-Distributions.EdgeworthAbstract: non-concrete, abstract\n",
      "--EdgeworthMean: non-concrete, non-abstract\n",
      "--EdgeworthSum: non-concrete, non-abstract\n",
      "--EdgeworthZ: non-concrete, non-abstract\n",
      "-Epanechnikov: non-concrete, non-abstract\n",
      "-Erlang: non-concrete, non-abstract\n",
      "-Exponential: non-concrete, non-abstract\n",
      "-FDist: non-concrete, non-abstract\n",
      "-Frechet: non-concrete, non-abstract\n",
      "-Gamma: non-concrete, non-abstract\n",
      "-GeneralizedExtremeValue: non-concrete, non-abstract\n",
      "-GeneralizedPareto: non-concrete, non-abstract\n",
      "-Geometric: non-concrete, non-abstract\n",
      "-Gumbel: non-concrete, non-abstract\n",
      "-Hypergeometric: concrete\n",
      "-InverseGamma: non-concrete, non-abstract\n",
      "-InverseGaussian: non-concrete, non-abstract\n",
      "-InverseWishart: non-concrete, non-abstract\n",
      "-KSDist: concrete\n",
      "-KSOneSided: concrete\n",
      "-Kolmogorov: concrete\n",
      "-LKJ: non-concrete, non-abstract\n",
      "-Laplace: non-concrete, non-abstract\n",
      "-Levy: non-concrete, non-abstract\n",
      "-LocationScale: non-concrete, non-abstract\n",
      "-LogNormal: non-concrete, non-abstract\n",
      "-Logistic: non-concrete, non-abstract\n",
      "-LogitNormal: non-concrete, non-abstract\n",
      "-MatrixBeta: non-concrete, non-abstract\n",
      "-MatrixFDist: non-concrete, non-abstract\n",
      "-MatrixNormal: non-concrete, non-abstract\n",
      "-MatrixReshaped: non-concrete, non-abstract\n",
      "-MatrixTDist: non-concrete, non-abstract\n",
      "-Multinomial: non-concrete, non-abstract\n",
      "-NegativeBinomial: non-concrete, non-abstract\n",
      "-NoncentralBeta: non-concrete, non-abstract\n",
      "-NoncentralChisq: non-concrete, non-abstract\n",
      "-NoncentralF: non-concrete, non-abstract\n",
      "-NoncentralHypergeometric: non-concrete, abstract\n",
      "--FisherNoncentralHypergeometric: non-concrete, non-abstract\n",
      "--WalleniusNoncentralHypergeometric: non-concrete, non-abstract\n",
      "-NoncentralT: non-concrete, non-abstract\n",
      "-Normal: non-concrete, non-abstract\n",
      "-NormalCanon: non-concrete, non-abstract\n",
      "-NormalInverseGaussian: non-concrete, non-abstract\n",
      "-PGeneralizedGaussian: non-concrete, non-abstract\n",
      "-Pareto: non-concrete, non-abstract\n",
      "-Poisson: non-concrete, non-abstract\n",
      "-PoissonBinomial: non-concrete, non-abstract\n",
      "-Product: non-concrete, non-abstract\n",
      "-Rayleigh: non-concrete, non-abstract\n",
      "-Semicircle: non-concrete, non-abstract\n",
      "-Skellam: non-concrete, non-abstract\n",
      "-SkewNormal: non-concrete, non-abstract\n",
      "-Soliton: concrete\n",
      "-StudentizedRange: non-concrete, non-abstract\n",
      "-SymTriangularDist: non-concrete, non-abstract\n",
      "-TDist: non-concrete, non-abstract\n",
      "-TriangularDist: non-concrete, non-abstract\n",
      "-Triweight: non-concrete, non-abstract\n",
      "-Truncated: non-concrete, non-abstract\n",
      "-Uniform: non-concrete, non-abstract\n",
      "-VonMises: non-concrete, non-abstract\n",
      "-VonMisesFisher: non-concrete, non-abstract\n",
      "-Weibull: non-concrete, non-abstract\n",
      "-Wishart: non-concrete, non-abstract\n"
     ]
    }
   ],
   "source": [
    "type_and_children(Distribution)"
   ]
  },
  {
   "cell_type": "code",
   "execution_count": 33,
   "metadata": {},
   "outputs": [
    {
     "data": {
      "text/plain": [
       "3-element Vector{Int64}:\n",
       " 1\n",
       " 2\n",
       " 3"
      ]
     },
     "execution_count": 33,
     "metadata": {},
     "output_type": "execute_result"
    }
   ],
   "source": [
    "array = [1,2,3]"
   ]
  },
  {
   "cell_type": "code",
   "execution_count": 34,
   "metadata": {},
   "outputs": [
    {
     "data": {
      "text/plain": [
       "3-element Vector{Int64}:\n",
       " 1\n",
       " 2\n",
       " 3"
      ]
     },
     "execution_count": 34,
     "metadata": {},
     "output_type": "execute_result"
    }
   ],
   "source": [
    "your_array = array"
   ]
  },
  {
   "cell_type": "code",
   "execution_count": 35,
   "metadata": {},
   "outputs": [
    {
     "data": {
      "text/plain": [
       "100"
      ]
     },
     "execution_count": 35,
     "metadata": {},
     "output_type": "execute_result"
    }
   ],
   "source": [
    "your_array[2] = 100"
   ]
  },
  {
   "cell_type": "code",
   "execution_count": 36,
   "metadata": {},
   "outputs": [
    {
     "data": {
      "text/plain": [
       "3-element Vector{Int64}:\n",
       "   1\n",
       " 100\n",
       "   3"
      ]
     },
     "execution_count": 36,
     "metadata": {},
     "output_type": "execute_result"
    }
   ],
   "source": [
    "array"
   ]
  },
  {
   "cell_type": "code",
   "execution_count": 37,
   "metadata": {},
   "outputs": [
    {
     "data": {
      "text/plain": [
       "Vector{Vector{Int64}} (alias for Array{Array{Int64, 1}, 1})"
      ]
     },
     "execution_count": 37,
     "metadata": {},
     "output_type": "execute_result"
    }
   ],
   "source": [
    "typeof([[1]])"
   ]
  },
  {
   "cell_type": "code",
   "execution_count": 38,
   "metadata": {},
   "outputs": [],
   "source": [
    "mutable struct MutablePerson\n",
    "    height::Float64\n",
    "    weight::Float64\n",
    "    name::String\n",
    "end"
   ]
  },
  {
   "cell_type": "code",
   "execution_count": 39,
   "metadata": {},
   "outputs": [
    {
     "data": {
      "text/plain": [
       "true"
      ]
     },
     "execution_count": 39,
     "metadata": {},
     "output_type": "execute_result"
    }
   ],
   "source": [
    "isconcretetype(MutablePerson)"
   ]
  },
  {
   "cell_type": "code",
   "execution_count": 40,
   "metadata": {},
   "outputs": [
    {
     "data": {
      "text/plain": [
       "Normal{Float64}(μ=0.0, σ=1.0)"
      ]
     },
     "execution_count": 40,
     "metadata": {},
     "output_type": "execute_result"
    }
   ],
   "source": [
    "Normal()"
   ]
  },
  {
   "cell_type": "code",
   "execution_count": 41,
   "metadata": {},
   "outputs": [
    {
     "data": {
      "text/plain": [
       "Normal{Float64}(μ=2.3, σ=1.5)"
      ]
     },
     "execution_count": 41,
     "metadata": {},
     "output_type": "execute_result"
    }
   ],
   "source": [
    "Normal(2.3,1.5)"
   ]
  },
  {
   "cell_type": "code",
   "execution_count": 42,
   "metadata": {},
   "outputs": [
    {
     "data": {
      "text/html": [
       "# 304 methods for generic function <b>show</b>:<ul><li> show(io::<b>IOContext</b>, S::<b>SparseArrays.AbstractSparseMatrixCSC</b>) in SparseArrays at <a href=\"file:///Users/julia/buildbot/worker/package_macos64/build/usr/share/julia/stdlib/v1.6/SparseArrays/src/sparsematrix.jl\" target=\"_blank\">/Applications/Julia-1.6.app/Contents/Resources/julia/share/julia/stdlib/v1.6/SparseArrays/src/sparsematrix.jl:297</a></li> <li> show(io::<b>IOContext</b>, x::<b>SparseArrays.AbstractSparseVector{Tv, Ti} where {Tv, Ti}</b>) in SparseArrays at <a href=\"file:///Users/julia/buildbot/worker/package_macos64/build/usr/share/julia/stdlib/v1.6/SparseArrays/src/sparsevector.jl\" target=\"_blank\">/Applications/Julia-1.6.app/Contents/Resources/julia/share/julia/stdlib/v1.6/SparseArrays/src/sparsevector.jl:887</a></li> <li> show(io::<b>IO</b>, iter::<b>Union{Base.KeySet, Base.ValueIterator}</b>) in Base at <a href=\"https://github.com/JuliaLang/julia/tree/f9720dc2ebd6cd9e3086365f281e62506444ef37/base/abstractdict.jl#L56\" target=\"_blank\">abstractdict.jl:56</a></li> <li> show(io::<b>IO</b>, ex::<b>Union{Core.GotoNode, Core.SSAValue, Expr, GlobalRef, Core.GotoIfNot, LineNumberNode, Core.PhiCNode, Core.PhiNode, QuoteNode, Core.ReturnNode, Core.Slot, Core.UpsilonNode}</b>) in Base at <a href=\"https://github.com/JuliaLang/julia/tree/f9720dc2ebd6cd9e3086365f281e62506444ef37/base/show.jl#L1184\" target=\"_blank\">show.jl:1184</a></li> <li> show(io::<b>IO</b>, cmds::<b>Union{Base.ErrOrCmds, Base.OrCmds}</b>) in Base at <a href=\"https://github.com/JuliaLang/julia/tree/f9720dc2ebd6cd9e3086365f281e62506444ef37/base/cmd.jl#L130\" target=\"_blank\">cmd.jl:130</a></li> <li> show(io::<b>IO</b>, x::<b>T</b>)<i> where T<:Union{Float16, Float32, Float64}</i> in Base.Ryu at <a href=\"https://github.com/JuliaLang/julia/tree/f9720dc2ebd6cd9e3086365f281e62506444ef37/base/ryu/Ryu.jl#L111\" target=\"_blank\">ryu/Ryu.jl:111</a></li> <li> show(io::<b>IO</b>, x::<b>T</b>, forceuntyped::<b>Bool</b>)<i> where T<:Union{Float16, Float32, Float64}</i> in Base.Ryu at <a href=\"https://github.com/JuliaLang/julia/tree/f9720dc2ebd6cd9e3086365f281e62506444ef37/base/ryu/Ryu.jl#L111\" target=\"_blank\">ryu/Ryu.jl:111</a></li> <li> show(io::<b>IO</b>, x::<b>T</b>, forceuntyped::<b>Bool</b>, fromprint::<b>Bool</b>)<i> where T<:Union{Float16, Float32, Float64}</i> in Base.Ryu at <a href=\"https://github.com/JuliaLang/julia/tree/f9720dc2ebd6cd9e3086365f281e62506444ef37/base/ryu/Ryu.jl#L111\" target=\"_blank\">ryu/Ryu.jl:111</a></li> <li> show(io::<b>IO</b>, x::<b>FillArrays.Eye{T, Axes, Axes} where {T, Axes, Axes}</b>) in FillArrays at <a href=\"file:///Users/uqjnazar/.julia/packages/FillArrays/5CbY2/src/FillArrays.jl\" target=\"_blank\">/Users/uqjnazar/.julia/packages/FillArrays/5CbY2/src/FillArrays.jl:645</a></li> <li> show(io::<b>IO</b>, h::<b>DataStructures.MutableBinaryHeap</b>) in DataStructures at <a href=\"file:///Users/uqjnazar/.julia/packages/DataStructures/ixwFs/src/heaps/mutable_binary_heap.jl\" target=\"_blank\">/Users/uqjnazar/.julia/packages/DataStructures/ixwFs/src/heaps/mutable_binary_heap.jl:194</a></li> <li> show(io::<b>IO</b>, x::<b>LinearAlgebra.Adjoint{var\"#s832\", var\"#s831\"} where {var\"#s832\", var\"#s831\"<:LinearAlgebra.Factorization}</b>) in LinearAlgebra at <a href=\"file:///Users/julia/buildbot/worker/package_macos64/build/usr/share/julia/stdlib/v1.6/LinearAlgebra/src/factorization.jl\" target=\"_blank\">/Applications/Julia-1.6.app/Contents/Resources/julia/share/julia/stdlib/v1.6/LinearAlgebra/src/factorization.jl:68</a></li> <li> show(io::<b>IO</b>, comp::<b>ChainRulesCore.Tangent{P, T} where T</b>)<i> where P</i> in ChainRulesCore at <a href=\"file:///Users/uqjnazar/.julia/packages/ChainRulesCore/GciYT/src/differentials/composite.jl\" target=\"_blank\">/Users/uqjnazar/.julia/packages/ChainRulesCore/GciYT/src/differentials/composite.jl:59</a></li> <li> show(io::<b>IO</b>, project::<b>ChainRulesCore.ProjectTo{T, D} where D<:NamedTuple</b>)<i> where T</i> in ChainRulesCore at <a href=\"file:///Users/uqjnazar/.julia/packages/ChainRulesCore/GciYT/src/projection.jl\" target=\"_blank\">/Users/uqjnazar/.julia/packages/ChainRulesCore/GciYT/src/projection.jl:23</a></li> <li> show(io::<b>IO</b>, S::<b>SharedArrays.SharedArray</b>) in SharedArrays at <a href=\"file:///Users/julia/buildbot/worker/package_macos64/build/usr/share/julia/stdlib/v1.6/SharedArrays/src/SharedArrays.jl\" target=\"_blank\">/Applications/Julia-1.6.app/Contents/Resources/julia/share/julia/stdlib/v1.6/SharedArrays/src/SharedArrays.jl:488</a></li> <li> show(io::<b>IO</b>, b::<b>Base.GenericIOBuffer</b>) in Base at <a href=\"https://github.com/JuliaLang/julia/tree/f9720dc2ebd6cd9e3086365f281e62506444ef37/base/iobuffer.jl#L148\" target=\"_blank\">iobuffer.jl:148</a></li> <li> show(io::<b>IO</b>, t::<b>Tuple</b>) in Base at <a href=\"https://github.com/JuliaLang/julia/tree/f9720dc2ebd6cd9e3086365f281e62506444ef37/base/show.jl#L1142\" target=\"_blank\">show.jl:1142</a></li> <li> show(io::<b>IO</b>, acc::<b>DataStructures.Accumulator{T, V}</b>)<i> where {T, V}</i> in DataStructures at <a href=\"file:///Users/uqjnazar/.julia/packages/DataStructures/ixwFs/src/accumulator.jl\" target=\"_blank\">/Users/uqjnazar/.julia/packages/DataStructures/ixwFs/src/accumulator.jl:238</a></li> <li> show(io::<b>IO</b>, g::<b>Base.Unicode.GraphemeIterator{S}</b>)<i> where S</i> in Base.Unicode at <a href=\"https://github.com/JuliaLang/julia/tree/f9720dc2ebd6cd9e3086365f281e62506444ef37/base/strings/unicode.jl#L702\" target=\"_blank\">strings/unicode.jl:702</a></li> <li> show(io::<b>IO</b>, d::<b>Wishart</b>) in Distributions at <a href=\"file:///Users/uqjnazar/.julia/packages/Distributions/fXTVC/src/matrix/wishart.jl\" target=\"_blank\">/Users/uqjnazar/.julia/packages/Distributions/fXTVC/src/matrix/wishart.jl:73</a></li> <li> show(io::<b>IO</b>, d::<b>VonMisesFisher</b>) in Distributions at <a href=\"file:///Users/uqjnazar/.julia/packages/Distributions/fXTVC/src/multivariate/vonmisesfisher.jl\" target=\"_blank\">/Users/uqjnazar/.julia/packages/Distributions/fXTVC/src/multivariate/vonmisesfisher.jl:42</a></li> <li> show(io::<b>IO</b>, d::<b>MvNormal</b>) in Distributions at <a href=\"file:///Users/uqjnazar/.julia/packages/Distributions/fXTVC/src/multivariate/mvnormal.jl\" target=\"_blank\">/Users/uqjnazar/.julia/packages/Distributions/fXTVC/src/multivariate/mvnormal.jl:231</a></li> <li> show(io::<b>IO</b>, x::<b>FillArrays.AbstractFill</b>) in FillArrays at <a href=\"file:///Users/uqjnazar/.julia/packages/FillArrays/5CbY2/src/FillArrays.jl\" target=\"_blank\">/Users/uqjnazar/.julia/packages/FillArrays/5CbY2/src/FillArrays.jl:635</a></li> <li> show(io::<b>IO</b>, n::<b>Unsigned</b>) in Base at <a href=\"https://github.com/JuliaLang/julia/tree/f9720dc2ebd6cd9e3086365f281e62506444ef37/base/show.jl#L970\" target=\"_blank\">show.jl:970</a></li> <li> show(io::<b>IO</b>, x::<b>ChainRulesCore.InplaceableThunk</b>) in ChainRulesCore at <a href=\"file:///Users/uqjnazar/.julia/packages/ChainRulesCore/GciYT/src/differentials/thunks.jl\" target=\"_blank\">/Users/uqjnazar/.julia/packages/ChainRulesCore/GciYT/src/differentials/thunks.jl:218</a></li> <li> show(io::<b>IO</b>, d::<b>Dates.DatePart{c}</b>)<i> where c</i> in Dates at <a href=\"file:///Users/julia/buildbot/worker/package_macos64/build/usr/share/julia/stdlib/v1.6/Dates/src/io.jl\" target=\"_blank\">/Applications/Julia-1.6.app/Contents/Resources/julia/share/julia/stdlib/v1.6/Dates/src/io.jl:106</a></li> <li> show(io::<b>IO</b>, p::<b>P</b>)<i> where P<:Dates.Period</i> in Dates at <a href=\"file:///Users/julia/buildbot/worker/package_macos64/build/usr/share/julia/stdlib/v1.6/Dates/src/periods.jl\" target=\"_blank\">/Applications/Julia-1.6.app/Contents/Resources/julia/share/julia/stdlib/v1.6/Dates/src/periods.jl:52</a></li> <li> show(io::<b>IO</b>, x::<b>LinearAlgebra.Transpose{var\"#s832\", var\"#s831\"} where {var\"#s832\", var\"#s831\"<:LinearAlgebra.Factorization}</b>) in LinearAlgebra at <a href=\"file:///Users/julia/buildbot/worker/package_macos64/build/usr/share/julia/stdlib/v1.6/LinearAlgebra/src/factorization.jl\" target=\"_blank\">/Applications/Julia-1.6.app/Contents/Resources/julia/share/julia/stdlib/v1.6/LinearAlgebra/src/factorization.jl:72</a></li> <li> show(io::<b>IO</b>, bc::<b>Base.Broadcast.Broadcasted{Style, Axes, F, Args} where {Axes, F, Args<:Tuple}</b>)<i> where Style</i> in Base.Broadcast at <a href=\"https://github.com/JuliaLang/julia/tree/f9720dc2ebd6cd9e3086365f281e62506444ef37/base/broadcast.jl#L185\" target=\"_blank\">broadcast.jl:185</a></li> <li> show(io::<b>IO</b>, stream::<b>Base.LibuvServer</b>) in Base at <a href=\"https://github.com/JuliaLang/julia/tree/f9720dc2ebd6cd9e3086365f281e62506444ef37/base/stream.jl#L260\" target=\"_blank\">stream.jl:260</a></li> <li> show(io::<b>IO</b>, ctx::<b>IOContext</b>) in Base at <a href=\"https://github.com/JuliaLang/julia/tree/f9720dc2ebd6cd9e3086365f281e62506444ef37/base/show.jl#L329\" target=\"_blank\">show.jl:329</a></li> <li> show(io::<b>IO</b>, d::<b>InverseWishart</b>) in Distributions at <a href=\"file:///Users/uqjnazar/.julia/packages/Distributions/fXTVC/src/matrix/inversewishart.jl\" target=\"_blank\">/Users/uqjnazar/.julia/packages/Distributions/fXTVC/src/matrix/inversewishart.jl:53</a></li> <li> show(io::<b>IO</b>, r::<b>UnitRange</b>) in Base at <a href=\"https://github.com/JuliaLang/julia/tree/f9720dc2ebd6cd9e3086365f281e62506444ef37/base/range.jl#L792\" target=\"_blank\">range.jl:792</a></li> <li> show(io::<b>IO</b>, ss::<b>StatsBase.SummaryStats</b>) in StatsBase at <a href=\"file:///Users/uqjnazar/.julia/packages/StatsBase/IiL4F/src/scalarstats.jl\" target=\"_blank\">/Users/uqjnazar/.julia/packages/StatsBase/IiL4F/src/scalarstats.jl:673</a></li> <li> show(io::<b>IO</b>, s::<b>OrderedCollections.OrderedSet</b>) in OrderedCollections at <a href=\"file:///Users/uqjnazar/.julia/packages/OrderedCollections/PRayh/src/ordered_set.jl\" target=\"_blank\">/Users/uqjnazar/.julia/packages/OrderedCollections/PRayh/src/ordered_set.jl:16</a></li> <li> show(io::<b>IO</b>, q::<b>DataStructures.Deque</b>) in DataStructures at <a href=\"file:///Users/uqjnazar/.julia/packages/DataStructures/ixwFs/src/deque.jl\" target=\"_blank\">/Users/uqjnazar/.julia/packages/DataStructures/ixwFs/src/deque.jl:157</a></li> <li> show(io::<b>IO</b>, FC::<b>SuiteSparse.CHOLMOD.FactorComponent</b>) in SuiteSparse.CHOLMOD at <a href=\"file:///Users/julia/buildbot/worker/package_macos64/build/usr/share/julia/stdlib/v1.6/SuiteSparse/src/cholmod.jl\" target=\"_blank\">/Applications/Julia-1.6.app/Contents/Resources/julia/share/julia/stdlib/v1.6/SuiteSparse/src/cholmod.jl:1129</a></li> <li> show(io::<b>IO</b>, i::<b>CartesianIndex</b>) in Base.IteratorsMD at <a href=\"https://github.com/JuliaLang/julia/tree/f9720dc2ebd6cd9e3086365f281e62506444ef37/base/multidimensional.jl#L86\" target=\"_blank\">multidimensional.jl:86</a></li> <li> show(io::<b>IO</b>, l::<b>DataStructures.LinkedList{T}</b>)<i> where T</i> in DataStructures at <a href=\"file:///Users/uqjnazar/.julia/packages/DataStructures/ixwFs/src/list.jl\" target=\"_blank\">/Users/uqjnazar/.julia/packages/DataStructures/ixwFs/src/list.jl:24</a></li> <li> show(io::<b>IO</b>, c::<b>AbstractChar</b>) in Base at <a href=\"https://github.com/JuliaLang/julia/tree/f9720dc2ebd6cd9e3086365f281e62506444ef37/base/char.jl#L260\" target=\"_blank\">char.jl:260</a></li> <li> show(io::<b>IO</b>, x::<b>Some</b>) in Base at <a href=\"https://github.com/JuliaLang/julia/tree/f9720dc2ebd6cd9e3086365f281e62506444ef37/base/some.jl#L40\" target=\"_blank\">some.jl:40</a></li> <li> show(io::<b>IO</b>, h::<b>StatsBase.AbstractHistogram</b>) in StatsBase at <a href=\"file:///Users/uqjnazar/.julia/packages/StatsBase/IiL4F/src/hist.jl\" target=\"_blank\">/Users/uqjnazar/.julia/packages/StatsBase/IiL4F/src/hist.jl:210</a></li> <li> show(io::<b>IO</b>, t::<b>Text</b>) in Base.Docs at <a href=\"https://github.com/JuliaLang/julia/tree/f9720dc2ebd6cd9e3086365f281e62506444ef37/base/docs/utils.jl#L73\" target=\"_blank\">docs/utils.jl:73</a></li> <li> show(io::<b>IO</b>, op::<b>Base.Broadcast.BroadcastFunction</b>) in Base.Broadcast at <a href=\"https://github.com/JuliaLang/julia/tree/f9720dc2ebd6cd9e3086365f281e62506444ef37/base/broadcast.jl#L1351\" target=\"_blank\">broadcast.jl:1351</a></li> <li> show(io::<b>IO</b>, S::<b>SparseArrays.AbstractSparseMatrixCSC</b>) in SparseArrays at <a href=\"file:///Users/julia/buildbot/worker/package_macos64/build/usr/share/julia/stdlib/v1.6/SparseArrays/src/sparsematrix.jl\" target=\"_blank\">/Applications/Julia-1.6.app/Contents/Resources/julia/share/julia/stdlib/v1.6/SparseArrays/src/sparsematrix.jl:233</a></li> <li> show(io::<b>IO</b>, d::<b>Truncated</b>) in Distributions at <a href=\"file:///Users/uqjnazar/.julia/packages/Distributions/fXTVC/src/truncate.jl\" target=\"_blank\">/Users/uqjnazar/.julia/packages/Distributions/fXTVC/src/truncate.jl:167</a></li> <li> show(io::<b>IO</b>, d::<b>DirichletMultinomial</b>) in Distributions at <a href=\"file:///Users/uqjnazar/.julia/packages/Distributions/fXTVC/src/multivariate/dirichletmultinomial.jl\" target=\"_blank\">/Users/uqjnazar/.julia/packages/Distributions/fXTVC/src/multivariate/dirichletmultinomial.jl:17</a></li> <li> show(io::<b>IO</b>, d::<b>MatrixTDist</b>) in Distributions at <a href=\"file:///Users/uqjnazar/.julia/packages/Distributions/fXTVC/src/matrix/matrixtdist.jl\" target=\"_blank\">/Users/uqjnazar/.julia/packages/Distributions/fXTVC/src/matrix/matrixtdist.jl:76</a></li> <li> show(io::<b>IO</b>, m::<b>DataStructures.SortedMultiDict{K, D, Ord}</b>)<i> where {K, D, Ord<:Base.Order.Ordering}</i> in DataStructures at <a href=\"file:///Users/uqjnazar/.julia/packages/DataStructures/ixwFs/src/sorted_multi_dict.jl\" target=\"_blank\">/Users/uqjnazar/.julia/packages/DataStructures/ixwFs/src/sorted_multi_dict.jl:460</a></li> <li> show(io::<b>IO</b>, B::<b>Base.Broadcast.BitMaskedBitArray</b>) in Base.Broadcast at <a href=\"https://github.com/JuliaLang/julia/tree/f9720dc2ebd6cd9e3086365f281e62506444ef37/base/broadcast.jl#L1183\" target=\"_blank\">broadcast.jl:1183</a></li> <li> show(io::<b>IO</b>, c::<b>ComposedFunction</b>) in Base at <a href=\"https://github.com/JuliaLang/julia/tree/f9720dc2ebd6cd9e3086365f281e62506444ef37/base/operators.jl#L944\" target=\"_blank\">operators.jl:944</a></li> <li> show(io::<b>IO</b>, x::<b>ChainRulesCore.Thunk</b>) in ChainRulesCore at <a href=\"file:///Users/uqjnazar/.julia/packages/ChainRulesCore/GciYT/src/differentials/thunks.jl\" target=\"_blank\">/Users/uqjnazar/.julia/packages/ChainRulesCore/GciYT/src/differentials/thunks.jl:194</a></li> <li> show(io::<b>IO</b>, e::<b>Base.Iterators.Enumerate</b>) in Base at <a href=\"https://github.com/JuliaLang/julia/tree/f9720dc2ebd6cd9e3086365f281e62506444ef37/base/show.jl#L2753\" target=\"_blank\">show.jl:2753</a></li> <li> show(io::<b>IO</b>, r::<b>Base.LogicalIndex</b>) in Base at <a href=\"https://github.com/JuliaLang/julia/tree/f9720dc2ebd6cd9e3086365f281e62506444ef37/base/multidimensional.jl#L734\" target=\"_blank\">multidimensional.jl:734</a></li> <li> show(io::<b>IO</b>, t::<b>NamedTuple</b>) in Base at <a href=\"https://github.com/JuliaLang/julia/tree/f9720dc2ebd6cd9e3086365f281e62506444ef37/base/namedtuple.jl#L139\" target=\"_blank\">namedtuple.jl:139</a></li> <li> show(io::<b>IO</b>, r::<b>LinRange</b>) in Base at <a href=\"https://github.com/JuliaLang/julia/tree/f9720dc2ebd6cd9e3086365f281e62506444ef37/base/range.jl#L447\" target=\"_blank\">range.jl:447</a></li> <li> show(io::<b>IO</b>, p::<b>Pair</b>) in Base at <a href=\"https://github.com/JuliaLang/julia/tree/f9720dc2ebd6cd9e3086365f281e62506444ef37/base/show.jl#L993\" target=\"_blank\">show.jl:993</a></li> <li> show(io::<b>IO</b>, d::<b>MatrixReshaped</b>) in Distributions at <a href=\"file:///Users/uqjnazar/.julia/packages/Distributions/fXTVC/src/matrix/matrixreshaped.jl\" target=\"_blank\">/Users/uqjnazar/.julia/packages/Distributions/fXTVC/src/matrix/matrixreshaped.jl:36</a></li> <li> show(io::<b>IO</b>, d::<b>Dates.Delim</b>) in Dates at <a href=\"file:///Users/julia/buildbot/worker/package_macos64/build/usr/share/julia/stdlib/v1.6/Dates/src/io.jl\" target=\"_blank\">/Applications/Julia-1.6.app/Contents/Resources/julia/share/julia/stdlib/v1.6/Dates/src/io.jl:281</a></li> <li> show(io::<b>IO</b>, x::<b>Irrational{sym}</b>)<i> where sym</i> in Base at <a href=\"https://github.com/JuliaLang/julia/tree/f9720dc2ebd6cd9e3086365f281e62506444ef37/base/irrationals.jl#L29\" target=\"_blank\">irrationals.jl:29</a></li> <li> show(io::<b>IO</b>, x::<b>Rational</b>) in Base at <a href=\"https://github.com/JuliaLang/julia/tree/f9720dc2ebd6cd9e3086365f281e62506444ef37/base/rational.jl#L83\" target=\"_blank\">rational.jl:83</a></li> <li> show(io::<b>IO</b>, d::<b>MatrixBeta</b>) in Distributions at <a href=\"file:///Users/uqjnazar/.julia/packages/Distributions/fXTVC/src/matrix/matrixbeta.jl\" target=\"_blank\">/Users/uqjnazar/.julia/packages/Distributions/fXTVC/src/matrix/matrixbeta.jl:52</a></li> <li> show(io::<b>IO</b>, M::<b>LinearAlgebra.Bidiagonal</b>) in LinearAlgebra at <a href=\"file:///Users/julia/buildbot/worker/package_macos64/build/usr/share/julia/stdlib/v1.6/LinearAlgebra/src/bidiag.jl\" target=\"_blank\">/Applications/Julia-1.6.app/Contents/Resources/julia/share/julia/stdlib/v1.6/LinearAlgebra/src/bidiag.jl:221</a></li> <li> show(io::<b>IO</b>, blk::<b>DataStructures.DequeBlock</b>) in DataStructures at <a href=\"file:///Users/uqjnazar/.julia/packages/DataStructures/ixwFs/src/deque.jl\" target=\"_blank\">/Users/uqjnazar/.julia/packages/DataStructures/ixwFs/src/deque.jl:47</a></li> <li> show(io::<b>IO</b>, s::<b>Base.SkipMissing</b>) in Base at <a href=\"https://github.com/JuliaLang/julia/tree/f9720dc2ebd6cd9e3086365f281e62506444ef37/base/missing.jl#L263\" target=\"_blank\">missing.jl:263</a></li> <li> show(io::<b>IO</b>, c::<b>Channel</b>) in Base at <a href=\"https://github.com/JuliaLang/julia/tree/f9720dc2ebd6cd9e3086365f281e62506444ef37/base/channels.jl#L444\" target=\"_blank\">channels.jl:444</a></li> <li> show(io::<b>IO</b>, D::<b>DataStructures.CircularDeque{T}</b>)<i> where T</i> in DataStructures at <a href=\"file:///Users/uqjnazar/.julia/packages/DataStructures/ixwFs/src/circ_deque.jl\" target=\"_blank\">/Users/uqjnazar/.julia/packages/DataStructures/ixwFs/src/circ_deque.jl:119</a></li> <li> show(io::<b>IO</b>, d::<b>VonMises</b>) in Distributions at <a href=\"file:///Users/uqjnazar/.julia/packages/Distributions/fXTVC/src/univariate/continuous/vonmises.jl\" target=\"_blank\">/Users/uqjnazar/.julia/packages/Distributions/fXTVC/src/univariate/continuous/vonmises.jl:37</a></li> <li> show(io::<b>IO</b>, f::<b>Printf.Spec</b>) in Printf at <a href=\"file:///Users/julia/buildbot/worker/package_macos64/build/usr/share/julia/stdlib/v1.6/Printf/src/Printf.jl\" target=\"_blank\">/Applications/Julia-1.6.app/Contents/Resources/julia/share/julia/stdlib/v1.6/Printf/src/Printf.jl:39</a></li> <li> show(io::<b>IO</b>, d::<b>MatrixNormal</b>) in Distributions at <a href=\"file:///Users/uqjnazar/.julia/packages/Distributions/fXTVC/src/matrix/matrixnormal.jl\" target=\"_blank\">/Users/uqjnazar/.julia/packages/Distributions/fXTVC/src/matrix/matrixnormal.jl:58</a></li> <li> show(io::<b>IO</b>, r::<b>Base.IdentityUnitRange</b>) in Base at <a href=\"https://github.com/JuliaLang/julia/tree/f9720dc2ebd6cd9e3086365f281e62506444ef37/base/indices.jl#L400\" target=\"_blank\">indices.jl:400</a></li> <li> show(io::<b>IO</b>, m::<b>DataStructures.SortedSet{K, Ord}</b>)<i> where {K, Ord<:Base.Order.Ordering}</i> in DataStructures at <a href=\"file:///Users/uqjnazar/.julia/packages/DataStructures/ixwFs/src/sorted_set.jl\" target=\"_blank\">/Users/uqjnazar/.julia/packages/DataStructures/ixwFs/src/sorted_set.jl:559</a></li> <li> show(io::<b>IO</b>, node::<b>DataStructures.ListNode</b>) in DataStructures at <a href=\"file:///Users/uqjnazar/.julia/packages/DataStructures/ixwFs/src/mutable_list.jl\" target=\"_blank\">/Users/uqjnazar/.julia/packages/DataStructures/ixwFs/src/mutable_list.jl:241</a></li> <li> show(io::<b>IO</b>, df::<b>Dates.DateFormat</b>) in Dates at <a href=\"file:///Users/julia/buildbot/worker/package_macos64/build/usr/share/julia/stdlib/v1.6/Dates/src/io.jl\" target=\"_blank\">/Applications/Julia-1.6.app/Contents/Resources/julia/share/julia/stdlib/v1.6/Dates/src/io.jl:424</a></li> <li> show(io::<b>IO</b>, r::<b>Base.OneTo</b>) in Base at <a href=\"https://github.com/JuliaLang/julia/tree/f9720dc2ebd6cd9e3086365f281e62506444ef37/base/range.jl#L793\" target=\"_blank\">range.jl:793</a></li> <li> show(io::<b>IO</b>, p::<b>Ptr</b>) in Base at <a href=\"https://github.com/JuliaLang/julia/tree/f9720dc2ebd6cd9e3086365f281e62506444ef37/base/show.jl#L973\" target=\"_blank\">show.jl:973</a></li> <li> show(io::<b>IO</b>, addr::<b>Sockets.InetAddr</b>) in Sockets at <a href=\"file:///Users/julia/buildbot/worker/package_macos64/build/usr/share/julia/stdlib/v1.6/Sockets/src/IPAddr.jl\" target=\"_blank\">/Applications/Julia-1.6.app/Contents/Resources/julia/share/julia/stdlib/v1.6/Sockets/src/IPAddr.jl:307</a></li> <li> show(io::<b>IO</b>, d::<b>MatrixFDist</b>) in Distributions at <a href=\"file:///Users/uqjnazar/.julia/packages/Distributions/fXTVC/src/matrix/matrixfdist.jl\" target=\"_blank\">/Users/uqjnazar/.julia/packages/Distributions/fXTVC/src/matrix/matrixfdist.jl:60</a></li> <li> show(io::<b>IO</b>, d::<b>LKJ</b>) in Distributions at <a href=\"file:///Users/uqjnazar/.julia/packages/Distributions/fXTVC/src/matrix/lkj.jl\" target=\"_blank\">/Users/uqjnazar/.julia/packages/Distributions/fXTVC/src/matrix/lkj.jl:45</a></li> <li> show(io::<b>IO</b>, d::<b>MvLogNormal</b>) in Distributions at <a href=\"file:///Users/uqjnazar/.julia/packages/Distributions/fXTVC/src/multivariate/mvlognormal.jl\" target=\"_blank\">/Users/uqjnazar/.julia/packages/Distributions/fXTVC/src/multivariate/mvlognormal.jl:238</a></li> <li> show(io::<b>IO</b>, l::<b>DataStructures.MutableLinkedList</b>) in DataStructures at <a href=\"file:///Users/uqjnazar/.julia/packages/DataStructures/ixwFs/src/mutable_list.jl\" target=\"_blank\">/Users/uqjnazar/.julia/packages/DataStructures/ixwFs/src/mutable_list.jl:246</a></li> <li> show(io::<b>IO</b>, x::<b>SparseArrays.AbstractSparseVector{Tv, Ti} where {Tv, Ti}</b>) in SparseArrays at <a href=\"file:///Users/julia/buildbot/worker/package_macos64/build/usr/share/julia/stdlib/v1.6/SparseArrays/src/sparsevector.jl\" target=\"_blank\">/Applications/Julia-1.6.app/Contents/Resources/julia/share/julia/stdlib/v1.6/SparseArrays/src/sparsevector.jl:886</a></li> <li> show(io::<b>IO</b>, r::<b>Base.Slice</b>) in Base at <a href=\"https://github.com/JuliaLang/julia/tree/f9720dc2ebd6cd9e3086365f281e62506444ef37/base/indices.jl#L369\" target=\"_blank\">indices.jl:369</a></li> <li> show(io::<b>IO</b>, r::<b>AbstractRange</b>) in Base at <a href=\"https://github.com/JuliaLang/julia/tree/f9720dc2ebd6cd9e3086365f281e62506444ef37/base/range.jl#L791\" target=\"_blank\">range.jl:791</a></li> <li> show(io::<b>IO</b>, s::<b>SubstitutionString</b>) in Base at <a href=\"https://github.com/JuliaLang/julia/tree/f9720dc2ebd6cd9e3086365f281e62506444ef37/base/regex.jl#L459\" target=\"_blank\">regex.jl:459</a></li> <li> show(io::<b>IO</b>, s::<b>AbstractString</b>) in Base at <a href=\"https://github.com/JuliaLang/julia/tree/f9720dc2ebd6cd9e3086365f281e62506444ef37/base/strings/io.jl#L182\" target=\"_blank\">strings/io.jl:182</a></li> <li> show(io::<b>IO</b>, m::<b>AbstractString</b>, x) in Base.Multimedia at <a href=\"https://github.com/JuliaLang/julia/tree/f9720dc2ebd6cd9e3086365f281e62506444ef37/base/multimedia.jl#L111\" target=\"_blank\">multimedia.jl:111</a></li> <li> show(io::<b>IO</b>, r::<b>Core.Compiler.UnitRange</b>) in Base at <a href=\"https://github.com/JuliaLang/julia/tree/f9720dc2ebd6cd9e3086365f281e62506444ef37/base/show.jl#L1053\" target=\"_blank\">show.jl:1053</a></li> <li> show(io::<b>IO</b>, d::<b>Dirichlet</b>) in Distributions at <a href=\"file:///Users/uqjnazar/.julia/packages/Distributions/fXTVC/src/multivariate/dirichlet.jl\" target=\"_blank\">/Users/uqjnazar/.julia/packages/Distributions/fXTVC/src/multivariate/dirichlet.jl:64</a></li> <li> show(io::<b>IO</b>, x::<b>Enum</b>) in Base.Enums at <a href=\"https://github.com/JuliaLang/julia/tree/f9720dc2ebd6cd9e3086365f281e62506444ef37/base/Enums.jl#L30\" target=\"_blank\">Enums.jl:30</a></li> <li> show(io::<b>IO</b>, F::<b>SuiteSparse.CHOLMOD.Factor</b>) in SuiteSparse.CHOLMOD at <a href=\"file:///Users/julia/buildbot/worker/package_macos64/build/usr/share/julia/stdlib/v1.6/SuiteSparse/src/cholmod.jl\" target=\"_blank\">/Applications/Julia-1.6.app/Contents/Resources/julia/share/julia/stdlib/v1.6/SuiteSparse/src/cholmod.jl:1124</a></li> <li> show(io::<b>IO</b>, X::<b>AbstractArray</b>) in Base at <a href=\"https://github.com/JuliaLang/julia/tree/f9720dc2ebd6cd9e3086365f281e62506444ef37/base/arrayshow.jl#L444\" target=\"_blank\">arrayshow.jl:444</a></li> <li> show(io::<b>IO</b>, z::<b>Base.Iterators.Zip</b>) in Base at <a href=\"https://github.com/JuliaLang/julia/tree/f9720dc2ebd6cd9e3086365f281e62506444ef37/base/show.jl#L2758\" target=\"_blank\">show.jl:2758</a></li> <li> show(io::<b>IO</b>, d::<b>MixtureModel</b>) in Distributions at <a href=\"file:///Users/uqjnazar/.julia/packages/Distributions/fXTVC/src/mixtures/mixturemodel.jl\" target=\"_blank\">/Users/uqjnazar/.julia/packages/Distributions/fXTVC/src/mixtures/mixturemodel.jl:257</a></li> <li> show(io::<b>IO</b>, s::<b>Set</b>) in Base at <a href=\"https://github.com/JuliaLang/julia/tree/f9720dc2ebd6cd9e3086365f281e62506444ef37/base/set.jl#L39\" target=\"_blank\">set.jl:39</a></li> <li> show(io::<b>IO</b>, x::<b>Missing</b>) in Base at <a href=\"https://github.com/JuliaLang/julia/tree/f9720dc2ebd6cd9e3086365f281e62506444ef37/base/missing.jl#L5\" target=\"_blank\">missing.jl:5</a></li> <li> show(io::<b>IO</b>, frame::<b>Base.StackTraces.StackFrame</b>) in Base.StackTraces at <a href=\"https://github.com/JuliaLang/julia/tree/f9720dc2ebd6cd9e3086365f281e62506444ef37/base/stacktraces.jl#L251\" target=\"_blank\">stacktraces.jl:251</a></li> <li> show(io::<b>IO</b>, rng::<b>Random.MersenneTwister</b>) in Random at <a href=\"file:///Users/julia/buildbot/worker/package_macos64/build/usr/share/julia/stdlib/v1.6/Random/src/RNGs.jl\" target=\"_blank\">/Applications/Julia-1.6.app/Contents/Resources/julia/share/julia/stdlib/v1.6/Random/src/RNGs.jl:179</a></li> <li> show(io::<b>IO</b>, ::<b>MIME{Symbol(\"text/markdown\")}</b>, md::<b>Markdown.MD</b>) in Markdown at <a href=\"file:///Users/julia/buildbot/worker/package_macos64/build/usr/share/julia/stdlib/v1.6/Markdown/src/render/plain.jl\" target=\"_blank\">/Applications/Julia-1.6.app/Contents/Resources/julia/share/julia/stdlib/v1.6/Markdown/src/render/plain.jl:140</a></li> <li> show(io::<b>IO</b>, ::<b>MIME{Symbol(\"text/markdown\")}</b>, ct::<b>StatsBase.CoefTable</b>) in StatsBase at <a href=\"file:///Users/uqjnazar/.julia/packages/StatsBase/IiL4F/src/statmodels.jl\" target=\"_blank\">/Users/uqjnazar/.julia/packages/StatsBase/IiL4F/src/statmodels.jl:574</a></li> <li> show(io::<b>IO</b>, ip::<b>Sockets.IPv4</b>) in Sockets at <a href=\"file:///Users/julia/buildbot/worker/package_macos64/build/usr/share/julia/stdlib/v1.6/Sockets/src/IPAddr.jl\" target=\"_blank\">/Applications/Julia-1.6.app/Contents/Resources/julia/share/julia/stdlib/v1.6/Sockets/src/IPAddr.jl:55</a></li> <li> show(io::<b>IO</b>, s::<b>Base.SecretBuffer</b>) in Base at <a href=\"https://github.com/JuliaLang/julia/tree/f9720dc2ebd6cd9e3086365f281e62506444ef37/base/secretbuffer.jl#L94\" target=\"_blank\">secretbuffer.jl:94</a></li> <li> show(io::<b>IO</b>, inferred::<b>Core.Compiler.InferenceResult</b>) in Base at <a href=\"https://github.com/JuliaLang/julia/tree/f9720dc2ebd6cd9e3086365f281e62506444ef37/base/show.jl#L2379\" target=\"_blank\">show.jl:2379</a></li> <li> show(io::<b>IO</b>, pkg::<b>Pkg.Types.PackageEntry</b>) in Pkg.Types at <a href=\"file:///Users/julia/buildbot/worker/package_macos64/build/usr/share/julia/stdlib/v1.6/Pkg/src/Types.jl\" target=\"_blank\">/Applications/Julia-1.6.app/Contents/Resources/julia/share/julia/stdlib/v1.6/Pkg/src/Types.jl:224</a></li> <li> show(io::<b>IO</b>, ms::<b>Base.MethodList</b>) in Base at <a href=\"https://github.com/JuliaLang/julia/tree/f9720dc2ebd6cd9e3086365f281e62506444ef37/base/methodshow.jl#L301\" target=\"_blank\">methodshow.jl:301</a></li> <li> show(io::<b>IO</b>, tex::<b>Markdown.LaTeX</b>) in Markdown at <a href=\"file:///Users/julia/buildbot/worker/package_macos64/build/usr/share/julia/stdlib/v1.6/Markdown/src/IPython/IPython.jl\" target=\"_blank\">/Applications/Julia-1.6.app/Contents/Resources/julia/share/julia/stdlib/v1.6/Markdown/src/IPython/IPython.jl:25</a></li> <li> show(io::<b>IO</b>, err::<b>MbedTLS.MbedException</b>) in MbedTLS at <a href=\"file:///Users/uqjnazar/.julia/packages/MbedTLS/4YY6E/src/error.jl\" target=\"_blank\">/Users/uqjnazar/.julia/packages/MbedTLS/4YY6E/src/error.jl:13</a></li> <li> show(io::<b>IO</b>, pkg::<b>Base.PkgId</b>) in Base at <a href=\"https://github.com/JuliaLang/julia/tree/f9720dc2ebd6cd9e3086365f281e62506444ef37/base/pkgid.jl#L26\" target=\"_blank\">pkgid.jl:26</a></li> <li> show(io::<b>IO</b>, info::<b>Base.Sys.CPUinfo</b>) in Base.Sys at <a href=\"https://github.com/JuliaLang/julia/tree/f9720dc2ebd6cd9e3086365f281e62506444ef37/base/sysinfo.jl#L173\" target=\"_blank\">sysinfo.jl:173</a></li> <li> show(io::<b>IO</b>, m::<b>Module</b>) in Base at <a href=\"https://github.com/JuliaLang/julia/tree/f9720dc2ebd6cd9e3086365f281e62506444ef37/base/show.jl#L1010\" target=\"_blank\">show.jl:1010</a></li> <li> show(io::<b>IO</b>, md::<b>Markdown.MD</b>) in Markdown at <a href=\"file:///Users/julia/buildbot/worker/package_macos64/build/usr/share/julia/stdlib/v1.6/Markdown/src/render/plain.jl\" target=\"_blank\">/Applications/Julia-1.6.app/Contents/Resources/julia/share/julia/stdlib/v1.6/Markdown/src/render/plain.jl:139</a></li> <li> show(io::<b>IO</b>, ce::<b>LibGit2.ConfigEntry</b>) in LibGit2 at <a href=\"file:///Users/julia/buildbot/worker/package_macos64/build/usr/share/julia/stdlib/v1.6/LibGit2/src/types.jl\" target=\"_blank\">/Applications/Julia-1.6.app/Contents/Resources/julia/share/julia/stdlib/v1.6/LibGit2/src/types.jl:907</a></li> <li> show(io::<b>IO</b>, ::<b>Nothing</b>) in Base at <a href=\"https://github.com/JuliaLang/julia/tree/f9720dc2ebd6cd9e3086365f281e62506444ef37/base/show.jl#L967\" target=\"_blank\">show.jl:967</a></li> <li> show(io::<b>IO</b>, stream::<b>Sockets.UDPSocket</b>) in Sockets at <a href=\"file:///Users/julia/buildbot/worker/package_macos64/build/usr/share/julia/stdlib/v1.6/Sockets/src/Sockets.jl\" target=\"_blank\">/Applications/Julia-1.6.app/Contents/Resources/julia/share/julia/stdlib/v1.6/Sockets/src/Sockets.jl:203</a></li> <li> show(io::<b>IO</b>, tn::<b>Core.TypeName</b>) in Base at <a href=\"https://github.com/JuliaLang/julia/tree/f9720dc2ebd6cd9e3086365f281e62506444ef37/base/show.jl#L961\" target=\"_blank\">show.jl:961</a></li> <li> show(io::<b>IO</b>, tag::<b>LibGit2.GitTag</b>) in LibGit2 at <a href=\"file:///Users/julia/buildbot/worker/package_macos64/build/usr/share/julia/stdlib/v1.6/LibGit2/src/tag.jl\" target=\"_blank\">/Applications/Julia-1.6.app/Contents/Resources/julia/share/julia/stdlib/v1.6/LibGit2/src/tag.jl:88</a></li> <li> show(io::<b>IO</b>, fh::<b>LibGit2.FetchHead</b>) in LibGit2 at <a href=\"file:///Users/julia/buildbot/worker/package_macos64/build/usr/share/julia/stdlib/v1.6/LibGit2/src/types.jl\" target=\"_blank\">/Applications/Julia-1.6.app/Contents/Resources/julia/share/julia/stdlib/v1.6/LibGit2/src/types.jl:883</a></li> <li> show(io::<b>IO</b>, info::<b>MbedTLS.MDInfo</b>) in MbedTLS at <a href=\"file:///Users/uqjnazar/.julia/packages/MbedTLS/4YY6E/src/md.jl\" target=\"_blank\">/Users/uqjnazar/.julia/packages/MbedTLS/4YY6E/src/md.jl:57</a></li> <li> show(io::<b>IO</b>, diff::<b>LibGit2.GitDiff</b>) in LibGit2 at <a href=\"file:///Users/julia/buildbot/worker/package_macos64/build/usr/share/julia/stdlib/v1.6/LibGit2/src/diff.jl\" target=\"_blank\">/Applications/Julia-1.6.app/Contents/Resources/julia/share/julia/stdlib/v1.6/LibGit2/src/diff.jl:138</a></li> <li> show(io::<b>IO</b>, diff_stat::<b>LibGit2.GitDiffStats</b>) in LibGit2 at <a href=\"file:///Users/julia/buildbot/worker/package_macos64/build/usr/share/julia/stdlib/v1.6/LibGit2/src/diff.jl\" target=\"_blank\">/Applications/Julia-1.6.app/Contents/Resources/julia/share/julia/stdlib/v1.6/LibGit2/src/diff.jl:131</a></li> <li> show(io::<b>IO</b>, p::<b>Base.BinaryPlatforms.Platform</b>) in Base.BinaryPlatforms at <a href=\"https://github.com/JuliaLang/julia/tree/f9720dc2ebd6cd9e3086365f281e62506444ef37/base/binaryplatforms.jl#L172\" target=\"_blank\">binaryplatforms.jl:172</a></li> <li> show(io::<b>IO</b>, hash::<b>Base.SHA1</b>) in Base at <a href=\"https://github.com/JuliaLang/julia/tree/f9720dc2ebd6cd9e3086365f281e62506444ef37/base/loading.jl#L108\" target=\"_blank\">loading.jl:108</a></li> <li> show(io::<b>IO</b>, rb::<b>LibGit2.GitRebase</b>) in LibGit2 at <a href=\"file:///Users/julia/buildbot/worker/package_macos64/build/usr/share/julia/stdlib/v1.6/LibGit2/src/rebase.jl\" target=\"_blank\">/Applications/Julia-1.6.app/Contents/Resources/julia/share/julia/stdlib/v1.6/LibGit2/src/rebase.jl:65</a></li> <li> show(io::<b>IO</b>, cmd::<b>Cmd</b>) in Base at <a href=\"https://github.com/JuliaLang/julia/tree/f9720dc2ebd6cd9e3086365f281e62506444ef37/base/cmd.jl#L111\" target=\"_blank\">cmd.jl:111</a></li> <li> show(io::<b>IO</b>, s::<b>REPL.LineEdit.PrefixSearchState</b>) in REPL.LineEdit at <a href=\"file:///Users/julia/buildbot/worker/package_macos64/build/usr/share/julia/stdlib/v1.6/REPL/src/LineEdit.jl\" target=\"_blank\">/Applications/Julia-1.6.app/Contents/Resources/julia/share/julia/stdlib/v1.6/REPL/src/LineEdit.jl:1779</a></li> <li> show(io::<b>IO</b>, x::<b>Dates.CompoundPeriod</b>) in Dates at <a href=\"file:///Users/julia/buildbot/worker/package_macos64/build/usr/share/julia/stdlib/v1.6/Dates/src/periods.jl\" target=\"_blank\">/Applications/Julia-1.6.app/Contents/Resources/julia/share/julia/stdlib/v1.6/Dates/src/periods.jl:348</a></li> <li> show(io::<b>IO</b>, n::<b>StatsBase.NoQuote</b>) in StatsBase at <a href=\"file:///Users/uqjnazar/.julia/packages/StatsBase/IiL4F/src/statmodels.jl\" target=\"_blank\">/Users/uqjnazar/.julia/packages/StatsBase/IiL4F/src/statmodels.jl:538</a></li> <li> show(io::<b>IO</b>, sig::<b>LibGit2.Signature</b>) in LibGit2 at <a href=\"file:///Users/julia/buildbot/worker/package_macos64/build/usr/share/julia/stdlib/v1.6/LibGit2/src/signature.jl\" target=\"_blank\">/Applications/Julia-1.6.app/Contents/Resources/julia/share/julia/stdlib/v1.6/LibGit2/src/signature.jl:58</a></li> <li> show(io::<b>IO</b>, a::<b>Pkg.Resolve.VersionWeight</b>) in Pkg.Resolve at <a href=\"file:///Users/julia/buildbot/worker/package_macos64/build/usr/share/julia/stdlib/v1.6/Pkg/src/Resolve/versionweights.jl\" target=\"_blank\">/Applications/Julia-1.6.app/Contents/Resources/julia/share/julia/stdlib/v1.6/Pkg/src/Resolve/versionweights.jl:36</a></li> <li> show(io::<b>IO</b>, level::<b>Base.CoreLogging.LogLevel</b>) in Base.CoreLogging at <a href=\"https://github.com/JuliaLang/julia/tree/f9720dc2ebd6cd9e3086365f281e62506444ef37/base/logging.jl#L142\" target=\"_blank\">logging.jl:142</a></li> <li> show(io::<b>IO</b>, fd::<b>RawFD</b>) in Base.Libc at <a href=\"https://github.com/JuliaLang/julia/tree/f9720dc2ebd6cd9e3086365f281e62506444ef37/base/libc.jl#L41\" target=\"_blank\">libc.jl:41</a></li> <li> show(io::<b>IO</b>, t::<b>Test.Pass</b>) in Test at <a href=\"file:///Users/julia/buildbot/worker/package_macos64/build/usr/share/julia/stdlib/v1.6/Test/src/Test.jl\" target=\"_blank\">/Applications/Julia-1.6.app/Contents/Resources/julia/share/julia/stdlib/v1.6/Test/src/Test.jl:92</a></li> <li> show(io::<b>IO</b>, code::<b>Core.Compiler.IRCode</b>) in Base.IRShow at <a href=\"https://github.com/JuliaLang/julia/tree/f9720dc2ebd6cd9e3086365f281e62506444ef37/base/compiler/ssair/show.jl#L327\" target=\"_blank\">compiler/ssair/show.jl:327</a></li> <li> show(io::<b>IO</b>, ::<b>SHA.SHA2_384_CTX</b>) in SHA at <a href=\"file:///Users/julia/buildbot/worker/package_macos64/build/usr/share/julia/stdlib/v1.6/SHA/src/types.jl\" target=\"_blank\">/Applications/Julia-1.6.app/Contents/Resources/julia/share/julia/stdlib/v1.6/SHA/src/types.jl:221</a></li> <li> show(io::<b>IO</b>, l::<b>Core.MethodInstance</b>) in Base at <a href=\"https://github.com/JuliaLang/julia/tree/f9720dc2ebd6cd9e3086365f281e62506444ef37/base/show.jl#L1037\" target=\"_blank\">show.jl:1037</a></li> <li> show(io::<b>IO</b>, ::<b>SHA.SHA3_224_CTX</b>) in SHA at <a href=\"file:///Users/julia/buildbot/worker/package_macos64/build/usr/share/julia/stdlib/v1.6/SHA/src/types.jl\" target=\"_blank\">/Applications/Julia-1.6.app/Contents/Resources/julia/share/julia/stdlib/v1.6/SHA/src/types.jl:223</a></li> <li> show(io::<b>IO</b>, ct::<b>StatsBase.CoefTable</b>) in StatsBase at <a href=\"file:///Users/uqjnazar/.julia/packages/StatsBase/IiL4F/src/statmodels.jl\" target=\"_blank\">/Users/uqjnazar/.julia/packages/StatsBase/IiL4F/src/statmodels.jl:540</a></li> <li> show(io::<b>IO</b>, x::<b>StatsBase.TestStat</b>) in StatsBase at <a href=\"file:///Users/uqjnazar/.julia/packages/StatsBase/IiL4F/src/statmodels.jl\" target=\"_blank\">/Users/uqjnazar/.julia/packages/StatsBase/IiL4F/src/statmodels.jl:507</a></li> <li> show(io::<b>IO</b>, t::<b>Dates.Time</b>) in Dates at <a href=\"file:///Users/julia/buildbot/worker/package_macos64/build/usr/share/julia/stdlib/v1.6/Dates/src/io.jl\" target=\"_blank\">/Applications/Julia-1.6.app/Contents/Resources/julia/share/julia/stdlib/v1.6/Dates/src/io.jl:57</a></li> <li> show(io::<b>IO</b>, opt::<b>Base.JLOptions</b>) in Base at <a href=\"https://github.com/JuliaLang/julia/tree/f9720dc2ebd6cd9e3086365f281e62506444ef37/base/options.jl#L59\" target=\"_blank\">options.jl:59</a></li> <li> show(io::<b>IO</b>, t::<b>Test.Error</b>) in Test at <a href=\"file:///Users/julia/buildbot/worker/package_macos64/build/usr/share/julia/stdlib/v1.6/Test/src/Test.jl\" target=\"_blank\">/Applications/Julia-1.6.app/Contents/Resources/julia/share/julia/stdlib/v1.6/Test/src/Test.jl:180</a></li> <li> show(io::<b>IO</b>, repo::<b>LibGit2.GitRepo</b>) in LibGit2 at <a href=\"file:///Users/julia/buildbot/worker/package_macos64/build/usr/share/julia/stdlib/v1.6/LibGit2/src/repository.jl\" target=\"_blank\">/Applications/Julia-1.6.app/Contents/Resources/julia/share/julia/stdlib/v1.6/LibGit2/src/repository.jl:515</a></li> <li> show(io::<b>IO</b>, s::<b>REPL.LineEdit.MIState</b>) in REPL.LineEdit at <a href=\"file:///Users/julia/buildbot/worker/package_macos64/build/usr/share/julia/stdlib/v1.6/REPL/src/LineEdit.jl\" target=\"_blank\">/Applications/Julia-1.6.app/Contents/Resources/julia/share/julia/stdlib/v1.6/REPL/src/LineEdit.jl:80</a></li> <li> show(io::<b>IO</b>, s::<b>Symbol</b>) in Base at <a href=\"https://github.com/JuliaLang/julia/tree/f9720dc2ebd6cd9e3086365f281e62506444ef37/base/show.jl#L1145\" target=\"_blank\">show.jl:1145</a></li> <li> show(io::<b>IO</b>, x::<b>BigInt</b>) in Base.GMP at <a href=\"https://github.com/JuliaLang/julia/tree/f9720dc2ebd6cd9e3086365f281e62506444ef37/base/gmp.jl#L680\" target=\"_blank\">gmp.jl:680</a></li> <li> show(io::<b>IO</b>, n::<b>Signed</b>) in Base at <a href=\"https://github.com/JuliaLang/julia/tree/f9720dc2ebd6cd9e3086365f281e62506444ef37/base/show.jl#L969\" target=\"_blank\">show.jl:969</a></li> <li> show(io::<b>IO</b>, p::<b>Base.Process</b>) in Base at <a href=\"https://github.com/JuliaLang/julia/tree/f9720dc2ebd6cd9e3086365f281e62506444ef37/base/process.jl#L634\" target=\"_blank\">process.jl:634</a></li> <li> show(io::<b>IO</b>, st::<b>Base.Filesystem.StatStruct</b>) in Base.Filesystem at <a href=\"https://github.com/JuliaLang/julia/tree/f9720dc2ebd6cd9e3086365f281e62506444ef37/base/stat.jl#L60\" target=\"_blank\">stat.jl:60</a></li> <li> show(io::<b>IO</b>, ::<b>SHA.SHA3_256_CTX</b>) in SHA at <a href=\"file:///Users/julia/buildbot/worker/package_macos64/build/usr/share/julia/stdlib/v1.6/SHA/src/types.jl\" target=\"_blank\">/Applications/Julia-1.6.app/Contents/Resources/julia/share/julia/stdlib/v1.6/SHA/src/types.jl:224</a></li> <li> show(io::<b>IO</b>, s::<b>Base.BufferStream</b>) in Base at <a href=\"https://github.com/JuliaLang/julia/tree/f9720dc2ebd6cd9e3086365f281e62506444ef37/base/stream.jl#L1328\" target=\"_blank\">stream.jl:1328</a></li> <li> show(io::<b>IO</b>, stream::<b>Base.LibuvStream</b>) in Base at <a href=\"https://github.com/JuliaLang/julia/tree/f9720dc2ebd6cd9e3086365f281e62506444ef37/base/stream.jl#L263\" target=\"_blank\">stream.jl:263</a></li> <li> show(io::<b>IO</b>, ::<b>SHA.SHA3_512_CTX</b>) in SHA at <a href=\"file:///Users/julia/buildbot/worker/package_macos64/build/usr/share/julia/stdlib/v1.6/SHA/src/types.jl\" target=\"_blank\">/Applications/Julia-1.6.app/Contents/Resources/julia/share/julia/stdlib/v1.6/SHA/src/types.jl:226</a></li> <li> show(io::<b>IO</b>, f::<b>Pkg.Resolve.Fixed</b>) in Pkg.Resolve at <a href=\"file:///Users/julia/buildbot/worker/package_macos64/build/usr/share/julia/stdlib/v1.6/Pkg/src/Resolve/Resolve.jl\" target=\"_blank\">/Applications/Julia-1.6.app/Contents/Resources/julia/share/julia/stdlib/v1.6/Pkg/src/Resolve/Resolve.jl:26</a></li> <li> show(io::<b>IO</b>, s::<b>Distributions.AliasTable</b>) in Distributions at <a href=\"file:///Users/uqjnazar/.julia/packages/Distributions/fXTVC/src/samplers/aliastable.jl\" target=\"_blank\">/Users/uqjnazar/.julia/packages/Distributions/fXTVC/src/samplers/aliastable.jl:23</a></li> <li> show(io::<b>IO</b>, ::<b>MIME{Symbol(\"text/csv\")}</b>, a) in DelimitedFiles at <a href=\"file:///Users/julia/buildbot/worker/package_macos64/build/usr/share/julia/stdlib/v1.6/DelimitedFiles/src/DelimitedFiles.jl\" target=\"_blank\">/Applications/Julia-1.6.app/Contents/Resources/julia/share/julia/stdlib/v1.6/DelimitedFiles/src/DelimitedFiles.jl:828</a></li> <li> show(io::<b>IO</b>, c::<b>LibGit2.GitCommit</b>) in LibGit2 at <a href=\"file:///Users/julia/buildbot/worker/package_macos64/build/usr/share/julia/stdlib/v1.6/LibGit2/src/commit.jl\" target=\"_blank\">/Applications/Julia-1.6.app/Contents/Resources/julia/share/julia/stdlib/v1.6/LibGit2/src/commit.jl:60</a></li> <li> show(io::<b>IO</b>, dt::<b>Dates.DateTime</b>) in Dates at <a href=\"file:///Users/julia/buildbot/worker/package_macos64/build/usr/share/julia/stdlib/v1.6/Dates/src/io.jl\" target=\"_blank\">/Applications/Julia-1.6.app/Contents/Resources/julia/share/julia/stdlib/v1.6/Dates/src/io.jl:615</a></li> <li> show(io::<b>IO</b>, ::<b>SHA.SHA1_CTX</b>) in SHA at <a href=\"file:///Users/julia/buildbot/worker/package_macos64/build/usr/share/julia/stdlib/v1.6/SHA/src/types.jl\" target=\"_blank\">/Applications/Julia-1.6.app/Contents/Resources/julia/share/julia/stdlib/v1.6/SHA/src/types.jl:218</a></li> <li> show(io::<b>IO</b>, ex::<b>Base.PrecompilableError</b>) in Base at <a href=\"https://github.com/JuliaLang/julia/tree/f9720dc2ebd6cd9e3086365f281e62506444ef37/base/loading.jl#L816\" target=\"_blank\">loading.jl:816</a></li> <li> show(io::<b>IO</b>, ::<b>SHA.SHA2_256_CTX</b>) in SHA at <a href=\"file:///Users/julia/buildbot/worker/package_macos64/build/usr/share/julia/stdlib/v1.6/SHA/src/types.jl\" target=\"_blank\">/Applications/Julia-1.6.app/Contents/Resources/julia/share/julia/stdlib/v1.6/SHA/src/types.jl:220</a></li> <li> show(io::<b>IO</b>, md::<b>MbedTLS.MD{false}</b>) in MbedTLS at <a href=\"file:///Users/uqjnazar/.julia/packages/MbedTLS/4YY6E/src/md.jl\" target=\"_blank\">/Users/uqjnazar/.julia/packages/MbedTLS/4YY6E/src/md.jl:65</a></li> <li> show(io::<b>IO</b>, s::<b>Pkg.Types.VersionSpec</b>) in Pkg.Types at <a href=\"file:///Users/julia/buildbot/worker/package_macos64/build/usr/share/julia/stdlib/v1.6/Pkg/src/versions.jl\" target=\"_blank\">/Applications/Julia-1.6.app/Contents/Resources/julia/share/julia/stdlib/v1.6/Pkg/src/versions.jl:281</a></li> <li> show(io::<b>IO</b>, cmds::<b>Base.AndCmds</b>) in Base at <a href=\"https://github.com/JuliaLang/julia/tree/f9720dc2ebd6cd9e3086365f281e62506444ef37/base/cmd.jl#L139\" target=\"_blank\">cmd.jl:139</a></li> <li> show(io::<b>IO</b>, tree::<b>LibGit2.GitTree</b>) in LibGit2 at <a href=\"file:///Users/julia/buildbot/worker/package_macos64/build/usr/share/julia/stdlib/v1.6/LibGit2/src/tree.jl\" target=\"_blank\">/Applications/Julia-1.6.app/Contents/Resources/julia/share/julia/stdlib/v1.6/LibGit2/src/tree.jl:149</a></li> <li> show(io::<b>IO</b>, m::<b>RegexMatch</b>) in Base at <a href=\"https://github.com/JuliaLang/julia/tree/f9720dc2ebd6cd9e3086365f281e62506444ef37/base/regex.jl#L156\" target=\"_blank\">regex.jl:156</a></li> <li> show(io::<b>IO</b>, ::<b>SHA.SHA3_384_CTX</b>) in SHA at <a href=\"file:///Users/julia/buildbot/worker/package_macos64/build/usr/share/julia/stdlib/v1.6/SHA/src/types.jl\" target=\"_blank\">/Applications/Julia-1.6.app/Contents/Resources/julia/share/julia/stdlib/v1.6/SHA/src/types.jl:225</a></li> <li> show(io::<b>IO</b>, dd::<b>LibGit2.DiffDelta</b>) in LibGit2 at <a href=\"file:///Users/julia/buildbot/worker/package_macos64/build/usr/share/julia/stdlib/v1.6/LibGit2/src/types.jl\" target=\"_blank\">/Applications/Julia-1.6.app/Contents/Resources/julia/share/julia/stdlib/v1.6/LibGit2/src/types.jl:554</a></li> <li> show(io::<b>IO</b>, pv::<b>StatsBase.PValue</b>) in StatsBase at <a href=\"file:///Users/uqjnazar/.julia/packages/StatsBase/IiL4F/src/statmodels.jl\" target=\"_blank\">/Users/uqjnazar/.julia/packages/StatsBase/IiL4F/src/statmodels.jl:491</a></li> <li> show(io::<b>IO</b>, cr::<b>Base.CmdRedirect</b>) in Base at <a href=\"https://github.com/JuliaLang/julia/tree/f9720dc2ebd6cd9e3086365f281e62506444ef37/base/cmd.jl#L180\" target=\"_blank\">cmd.jl:180</a></li> <li> show(io::<b>IO</b>, msg::<b>IJulia.Msg</b>) in IJulia at <a href=\"file:///Users/uqjnazar/.julia/packages/IJulia/e8kqU/src/msg.jl\" target=\"_blank\">/Users/uqjnazar/.julia/packages/IJulia/e8kqU/src/msg.jl:37</a></li> <li> show(io::<b>IO</b>, ref::<b>LibGit2.GitReference</b>) in LibGit2 at <a href=\"file:///Users/julia/buildbot/worker/package_macos64/build/usr/share/julia/stdlib/v1.6/LibGit2/src/reference.jl\" target=\"_blank\">/Applications/Julia-1.6.app/Contents/Resources/julia/share/julia/stdlib/v1.6/LibGit2/src/reference.jl:170</a></li> <li> show(io::<b>IO</b>, md::<b>MbedTLS.MD{true}</b>) in MbedTLS at <a href=\"file:///Users/uqjnazar/.julia/packages/MbedTLS/4YY6E/src/md.jl\" target=\"_blank\">/Users/uqjnazar/.julia/packages/MbedTLS/4YY6E/src/md.jl:61</a></li> <li> show(io::<b>IO</b>, x::<b>ChainRulesCore.NotImplemented</b>) in ChainRulesCore at <a href=\"file:///Users/uqjnazar/.julia/packages/ChainRulesCore/GciYT/src/differentials/notimplemented.jl\" target=\"_blank\">/Users/uqjnazar/.julia/packages/ChainRulesCore/GciYT/src/differentials/notimplemented.jl:59</a></li> <li> show(io::<b>IO</b>, cipher::<b>MbedTLS.Cipher</b>) in MbedTLS at <a href=\"file:///Users/uqjnazar/.julia/packages/MbedTLS/4YY6E/src/cipher.jl\" target=\"_blank\">/Users/uqjnazar/.julia/packages/MbedTLS/4YY6E/src/cipher.jl:184</a></li> <li> show(io::<b>IO</b>, s::<b>IOStream</b>) in Base at <a href=\"https://github.com/JuliaLang/julia/tree/f9720dc2ebd6cd9e3086365f281e62506444ef37/base/iostream.jl#L35\" target=\"_blank\">iostream.jl:35</a></li> <li> show(io::<b>IO</b>, opt::<b>Pkg.REPLMode.Option</b>) in Pkg.REPLMode at <a href=\"file:///Users/julia/buildbot/worker/package_macos64/build/usr/share/julia/stdlib/v1.6/Pkg/src/REPLMode/REPLMode.jl\" target=\"_blank\">/Applications/Julia-1.6.app/Contents/Resources/julia/share/julia/stdlib/v1.6/Pkg/src/REPLMode/REPLMode.jl:145</a></li> <li> show(io::<b>IO</b>, result::<b>LibGit2.GitDescribeResult</b>) in LibGit2 at <a href=\"file:///Users/julia/buildbot/worker/package_macos64/build/usr/share/julia/stdlib/v1.6/LibGit2/src/repository.jl\" target=\"_blank\">/Applications/Julia-1.6.app/Contents/Resources/julia/share/julia/stdlib/v1.6/LibGit2/src/repository.jl:341</a></li> <li> show(io::<b>IO</b>, t::<b>Test.Fail</b>) in Test at <a href=\"file:///Users/julia/buildbot/worker/package_macos64/build/usr/share/julia/stdlib/v1.6/Test/src/Test.jl\" target=\"_blank\">/Applications/Julia-1.6.app/Contents/Resources/julia/share/julia/stdlib/v1.6/Test/src/Test.jl:128</a></li> <li> show(io::<b>IO</b>, f::<b>Core.IntrinsicFunction</b>) in Base at <a href=\"https://github.com/JuliaLang/julia/tree/f9720dc2ebd6cd9e3086365f281e62506444ef37/base/show.jl#L470\" target=\"_blank\">show.jl:470</a></li> <li> show(io::<b>IO</b>, f::<b>Function</b>) in Base at <a href=\"https://github.com/JuliaLang/julia/tree/f9720dc2ebd6cd9e3086365f281e62506444ef37/base/show.jl#L467\" target=\"_blank\">show.jl:467</a></li> <li> show(io::<b>IO</b>, ie::<b>LibGit2.IndexEntry</b>) in LibGit2 at <a href=\"file:///Users/julia/buildbot/worker/package_macos64/build/usr/share/julia/stdlib/v1.6/LibGit2/src/types.jl\" target=\"_blank\">/Applications/Julia-1.6.app/Contents/Resources/julia/share/julia/stdlib/v1.6/LibGit2/src/types.jl:741</a></li> <li> show(io::<b>IO</b>, x::<b>REPL.LineEdit.Prompt</b>) in REPL.LineEdit at <a href=\"file:///Users/julia/buildbot/worker/package_macos64/build/usr/share/julia/stdlib/v1.6/REPL/src/LineEdit.jl\" target=\"_blank\">/Applications/Julia-1.6.app/Contents/Resources/julia/share/julia/stdlib/v1.6/REPL/src/LineEdit.jl:59</a></li> <li> show(io::<b>IO</b>, b::<b>BigFloat</b>) in Base.MPFR at <a href=\"https://github.com/JuliaLang/julia/tree/f9720dc2ebd6cd9e3086365f281e62506444ef37/base/mpfr.jl#L1002\" target=\"_blank\">mpfr.jl:1002</a></li> <li> show(io::<b>IO</b>, v::<b>VersionNumber</b>) in Base at <a href=\"https://github.com/JuliaLang/julia/tree/f9720dc2ebd6cd9e3086365f281e62506444ef37/base/version.jl#L86\" target=\"_blank\">version.jl:86</a></li> <li> show(io::<b>IO</b>, ex::<b>Test.TestSetException</b>) in Test at <a href=\"file:///Users/julia/buildbot/worker/package_macos64/build/usr/share/julia/stdlib/v1.6/Test/src/Test.jl\" target=\"_blank\">/Applications/Julia-1.6.app/Contents/Resources/julia/share/julia/stdlib/v1.6/Test/src/Test.jl:737</a></li> <li> show(io::<b>IO</b>, t::<b>Test.Broken</b>) in Test at <a href=\"file:///Users/julia/buildbot/worker/package_macos64/build/usr/share/julia/stdlib/v1.6/Test/src/Test.jl\" target=\"_blank\">/Applications/Julia-1.6.app/Contents/Resources/julia/share/julia/stdlib/v1.6/Test/src/Test.jl:221</a></li> <li> show(io::<b>IO</b>, id::<b>LibGit2.GitShortHash</b>) in LibGit2 at <a href=\"file:///Users/julia/buildbot/worker/package_macos64/build/usr/share/julia/stdlib/v1.6/LibGit2/src/oid.jl\" target=\"_blank\">/Applications/Julia-1.6.app/Contents/Resources/julia/share/julia/stdlib/v1.6/LibGit2/src/oid.jl:184</a></li> <li> show(io::<b>IO</b>, s::<b>DataStructures.IntSet</b>) in DataStructures at <a href=\"file:///Users/uqjnazar/.julia/packages/DataStructures/ixwFs/src/int_set.jl\" target=\"_blank\">/Users/uqjnazar/.julia/packages/DataStructures/ixwFs/src/int_set.jl:196</a></li> <li> show(io::<b>IO</b>, ::<b>MIME{Symbol(\"text/latex\")}</b>, md::<b>Markdown.MD</b>) in Markdown at <a href=\"file:///Users/julia/buildbot/worker/package_macos64/build/usr/share/julia/stdlib/v1.6/Markdown/src/render/latex.jl\" target=\"_blank\">/Applications/Julia-1.6.app/Contents/Resources/julia/share/julia/stdlib/v1.6/Markdown/src/render/latex.jl:174</a></li> <li> show(io::<b>IO</b>, manager::<b>Distributed.SSHManager</b>) in Distributed at <a href=\"file:///Users/julia/buildbot/worker/package_macos64/build/usr/share/julia/stdlib/v1.6/Distributed/src/managers.jl\" target=\"_blank\">/Applications/Julia-1.6.app/Contents/Resources/julia/share/julia/stdlib/v1.6/Distributed/src/managers.jl:181</a></li> <li> show(io::<b>IO</b>, mt::<b>Core.MethodTable</b>) in Base at <a href=\"https://github.com/JuliaLang/julia/tree/f9720dc2ebd6cd9e3086365f281e62506444ef37/base/methodshow.jl#L302\" target=\"_blank\">methodshow.jl:302</a></li> <li> show(io::<b>IO</b>, m::<b>Method</b>) in Base at <a href=\"https://github.com/JuliaLang/julia/tree/f9720dc2ebd6cd9e3086365f281e62506444ef37/base/methodshow.jl#L204\" target=\"_blank\">methodshow.jl:204</a></li> <li> show(io::<b>IO</b>, blame_hunk::<b>LibGit2.BlameHunk</b>) in LibGit2 at <a href=\"file:///Users/julia/buildbot/worker/package_macos64/build/usr/share/julia/stdlib/v1.6/LibGit2/src/blame.jl\" target=\"_blank\">/Applications/Julia-1.6.app/Contents/Resources/julia/share/julia/stdlib/v1.6/LibGit2/src/blame.jl:47</a></li> <li> show(io::<b>IO</b>, df::<b>Dates.DateFunction</b>) in Dates at <a href=\"file:///Users/julia/buildbot/worker/package_macos64/build/usr/share/julia/stdlib/v1.6/Dates/src/adjusters.jl\" target=\"_blank\">/Applications/Julia-1.6.app/Contents/Resources/julia/share/julia/stdlib/v1.6/Dates/src/adjusters.jl:196</a></li> <li> show(io::<b>IO</b>, err::<b>LibGit2.Error.GitError</b>) in LibGit2.Error at <a href=\"file:///Users/julia/buildbot/worker/package_macos64/build/usr/share/julia/stdlib/v1.6/LibGit2/src/error.jl\" target=\"_blank\">/Applications/Julia-1.6.app/Contents/Resources/julia/share/julia/stdlib/v1.6/LibGit2/src/error.jl:82</a></li> <li> show(io::<b>IO</b>, crt::<b>MbedTLS.CRT</b>) in MbedTLS at <a href=\"file:///Users/uqjnazar/.julia/packages/MbedTLS/4YY6E/src/x509_crt.jl\" target=\"_blank\">/Users/uqjnazar/.julia/packages/MbedTLS/4YY6E/src/x509_crt.jl:16</a></li> <li> show(io::<b>IO</b>, hdr::<b>Tar.Header</b>) in Tar at <a href=\"file:///Users/julia/buildbot/worker/package_macos64/build/usr/share/julia/stdlib/v1.6/Tar/src/header.jl\" target=\"_blank\">/Applications/Julia-1.6.app/Contents/Resources/julia/share/julia/stdlib/v1.6/Tar/src/header.jl:33</a></li> <li> show(io::<b>IO</b>, u::<b>Base.UUID</b>) in Base at <a href=\"https://github.com/JuliaLang/julia/tree/f9720dc2ebd6cd9e3086365f281e62506444ef37/base/uuid.jl#L99\" target=\"_blank\">uuid.jl:99</a></li> <li> show(io::<b>IO</b>, a::<b>Pkg.Resolve.FieldValue</b>) in Pkg.Resolve at <a href=\"file:///Users/julia/buildbot/worker/package_macos64/build/usr/share/julia/stdlib/v1.6/Pkg/src/Resolve/fieldvalues.jl\" target=\"_blank\">/Applications/Julia-1.6.app/Contents/Resources/julia/share/julia/stdlib/v1.6/Pkg/src/Resolve/fieldvalues.jl:25</a></li> <li> show(io::<b>IO</b>, b::<b>Base.Docs.Binding</b>) in Base.Docs at <a href=\"https://github.com/JuliaLang/julia/tree/f9720dc2ebd6cd9e3086365f281e62506444ef37/base/docs/bindings.jl#L35\" target=\"_blank\">docs/bindings.jl:35</a></li> <li> show(io::<b>IO</b>, t::<b>Test.LogTestFailure</b>) in Test at <a href=\"file:///Users/julia/buildbot/worker/package_macos64/build/usr/share/julia/stdlib/v1.6/Test/src/logging.jl\" target=\"_blank\">/Applications/Julia-1.6.app/Contents/Resources/julia/share/julia/stdlib/v1.6/Test/src/logging.jl:66</a></li> <li> show(io::<b>IO</b>, rbo::<b>LibGit2.RebaseOperation</b>) in LibGit2 at <a href=\"file:///Users/julia/buildbot/worker/package_macos64/build/usr/share/julia/stdlib/v1.6/LibGit2/src/types.jl\" target=\"_blank\">/Applications/Julia-1.6.app/Contents/Resources/julia/share/julia/stdlib/v1.6/LibGit2/src/types.jl:804</a></li> <li> show(io::<b>IO</b>, ::<b>SHA.SHA2_224_CTX</b>) in SHA at <a href=\"file:///Users/julia/buildbot/worker/package_macos64/build/usr/share/julia/stdlib/v1.6/SHA/src/types.jl\" target=\"_blank\">/Applications/Julia-1.6.app/Contents/Resources/julia/share/julia/stdlib/v1.6/SHA/src/types.jl:219</a></li> <li> show(io::<b>IO</b>, blob::<b>LibGit2.GitBlob</b>) in LibGit2 at <a href=\"file:///Users/julia/buildbot/worker/package_macos64/build/usr/share/julia/stdlib/v1.6/LibGit2/src/blob.jl\" target=\"_blank\">/Applications/Julia-1.6.app/Contents/Resources/julia/share/julia/stdlib/v1.6/LibGit2/src/blob.jl:76</a></li> <li> show(io::<b>IO</b>, rmt::<b>LibGit2.GitRemote</b>) in LibGit2 at <a href=\"file:///Users/julia/buildbot/worker/package_macos64/build/usr/share/julia/stdlib/v1.6/LibGit2/src/remote.jl\" target=\"_blank\">/Applications/Julia-1.6.app/Contents/Resources/julia/share/julia/stdlib/v1.6/LibGit2/src/remote.jl:341</a></li> <li> show(io::<b>IO</b>, ::<b>MIME{Symbol(\"text/html\")}</b>, m::<b>Method</b>) in Base at <a href=\"https://github.com/JuliaLang/julia/tree/f9720dc2ebd6cd9e3086365f281e62506444ef37/base/methodshow.jl#L354\" target=\"_blank\">methodshow.jl:354</a></li> <li> show(io::<b>IO</b>, mime::<b>MIME{Symbol(\"text/html\")}</b>, ms::<b>Base.MethodList</b>) in Base at <a href=\"https://github.com/JuliaLang/julia/tree/f9720dc2ebd6cd9e3086365f281e62506444ef37/base/methodshow.jl#L396\" target=\"_blank\">methodshow.jl:396</a></li> <li> show(io::<b>IO</b>, mime::<b>MIME{Symbol(\"text/html\")}</b>, mt::<b>Core.MethodTable</b>) in Base at <a href=\"https://github.com/JuliaLang/julia/tree/f9720dc2ebd6cd9e3086365f281e62506444ef37/base/methodshow.jl#L408\" target=\"_blank\">methodshow.jl:408</a></li> <li> show(io::<b>IO</b>, mime::<b>MIME{Symbol(\"text/html\")}</b>, mt::<b>AbstractVector{Method}</b>) in Base at <a href=\"https://github.com/JuliaLang/julia/tree/f9720dc2ebd6cd9e3086365f281e62506444ef37/base/methodshow.jl#L427\" target=\"_blank\">methodshow.jl:427</a></li> <li> show(io::<b>IO</b>, ::<b>MIME{Symbol(\"text/html\")}</b>, h::<b>HTML{var\"#s832\"} where var\"#s832\"<:Function</b>) in Base.Docs at <a href=\"https://github.com/JuliaLang/julia/tree/f9720dc2ebd6cd9e3086365f281e62506444ef37/base/docs/utils.jl#L35\" target=\"_blank\">docs/utils.jl:35</a></li> <li> show(io::<b>IO</b>, ::<b>MIME{Symbol(\"text/html\")}</b>, h::<b>HTML</b>) in Base.Docs at <a href=\"https://github.com/JuliaLang/julia/tree/f9720dc2ebd6cd9e3086365f281e62506444ef37/base/docs/utils.jl#L34\" target=\"_blank\">docs/utils.jl:34</a></li> <li> show(io::<b>IO</b>, ::<b>MIME{Symbol(\"text/html\")}</b>, md::<b>Markdown.MD</b>) in Markdown at <a href=\"file:///Users/julia/buildbot/worker/package_macos64/build/usr/share/julia/stdlib/v1.6/Markdown/src/render/html.jl\" target=\"_blank\">/Applications/Julia-1.6.app/Contents/Resources/julia/share/julia/stdlib/v1.6/Markdown/src/render/html.jl:187</a></li> <li> show(io::<b>IO</b>, tv::<b>TypeVar</b>) in Base at <a href=\"https://github.com/JuliaLang/julia/tree/f9720dc2ebd6cd9e3086365f281e62506444ef37/base/show.jl#L2298\" target=\"_blank\">show.jl:2298</a></li> <li> show(io::<b>IO</b>, dt::<b>Dates.Date</b>) in Dates at <a href=\"file:///Users/julia/buildbot/worker/package_macos64/build/usr/share/julia/stdlib/v1.6/Dates/src/io.jl\" target=\"_blank\">/Applications/Julia-1.6.app/Contents/Resources/julia/share/julia/stdlib/v1.6/Dates/src/io.jl:615</a></li> <li> show(io::<b>IO</b>, ::<b>SHA.SHA2_512_CTX</b>) in SHA at <a href=\"file:///Users/julia/buildbot/worker/package_macos64/build/usr/share/julia/stdlib/v1.6/SHA/src/types.jl\" target=\"_blank\">/Applications/Julia-1.6.app/Contents/Resources/julia/share/julia/stdlib/v1.6/SHA/src/types.jl:222</a></li> <li> show(io::<b>IO</b>, re::<b>Regex</b>) in Base at <a href=\"https://github.com/JuliaLang/julia/tree/f9720dc2ebd6cd9e3086365f281e62506444ef37/base/regex.jl#L118\" target=\"_blank\">regex.jl:118</a></li> <li> show(io::<b>IO</b>, ::<b>MIME{Symbol(\"text/plain\")}</b>, iter::<b>Union{Base.KeySet, Base.ValueIterator}</b>) in Base at <a href=\"https://github.com/JuliaLang/julia/tree/f9720dc2ebd6cd9e3086365f281e62506444ef37/base/show.jl#L49\" target=\"_blank\">show.jl:49</a></li> <li> show(io::<b>IO</b>, mime::<b>MIME{Symbol(\"text/plain\")}</b>, F::<b>Union{LinearAlgebra.QR, LinearAlgebra.QRCompactWY, LinearAlgebra.QRPivoted}</b>) in LinearAlgebra at <a href=\"file:///Users/julia/buildbot/worker/package_macos64/build/usr/share/julia/stdlib/v1.6/LinearAlgebra/src/qr.jl\" target=\"_blank\">/Applications/Julia-1.6.app/Contents/Resources/julia/share/julia/stdlib/v1.6/LinearAlgebra/src/qr.jl:410</a></li> <li> show(io::<b>IO</b>, mime::<b>MIME{Symbol(\"text/plain\")}</b>, F::<b>Union{LinearAlgebra.Eigen, LinearAlgebra.GeneralizedEigen}</b>) in LinearAlgebra at <a href=\"file:///Users/julia/buildbot/worker/package_macos64/build/usr/share/julia/stdlib/v1.6/LinearAlgebra/src/eigen.jl\" target=\"_blank\">/Applications/Julia-1.6.app/Contents/Resources/julia/share/julia/stdlib/v1.6/LinearAlgebra/src/eigen.jl:609</a></li> <li> show(io::<b>IO</b>, ::<b>MIME{Symbol(\"text/plain\")}</b>, x::<b>Union{FillArrays.AbstractFill, FillArrays.Eye{T, Axes, Axes} where {T, Axes, Axes}}</b>) in FillArrays at <a href=\"file:///Users/uqjnazar/.julia/packages/FillArrays/5CbY2/src/FillArrays.jl\" target=\"_blank\">/Users/uqjnazar/.julia/packages/FillArrays/5CbY2/src/FillArrays.jl:621</a></li> <li> show(io::<b>IO</b>, ::<b>MIME{Symbol(\"text/plain\")}</b>, x::<b>LinearAlgebra.Adjoint{var\"#s832\", var\"#s831\"} where {var\"#s832\", var\"#s831\"<:LinearAlgebra.Factorization}</b>) in LinearAlgebra at <a href=\"file:///Users/julia/buildbot/worker/package_macos64/build/usr/share/julia/stdlib/v1.6/LinearAlgebra/src/factorization.jl\" target=\"_blank\">/Applications/Julia-1.6.app/Contents/Resources/julia/share/julia/stdlib/v1.6/LinearAlgebra/src/factorization.jl:76</a></li> <li> show(io::<b>IO</b>, mime::<b>MIME{Symbol(\"text/plain\")}</b>, F::<b>LinearAlgebra.SVD{var\"#s832\", var\"#s831\", var\"#s830\"} where {var\"#s832\", var\"#s831\", var\"#s830\"<:AbstractArray}</b>) in LinearAlgebra at <a href=\"file:///Users/julia/buildbot/worker/package_macos64/build/usr/share/julia/stdlib/v1.6/LinearAlgebra/src/svd.jl\" target=\"_blank\">/Applications/Julia-1.6.app/Contents/Resources/julia/share/julia/stdlib/v1.6/LinearAlgebra/src/svd.jl:238</a></li> <li> show(io::<b>IO</b>, ::<b>MIME{Symbol(\"text/plain\")}</b>, c::<b>ComposedFunction</b>) in Base at <a href=\"https://github.com/JuliaLang/julia/tree/f9720dc2ebd6cd9e3086365f281e62506444ef37/base/show.jl#L47\" target=\"_blank\">show.jl:47</a></li> <li> show(io::<b>IO</b>, mime::<b>MIME{Symbol(\"text/plain\")}</b>, itr::<b>Missings.SkipMissings{V, T} where T</b>)<i> where V</i> in Missings at <a href=\"file:///Users/uqjnazar/.julia/packages/Missings/sx5js/src/Missings.jl\" target=\"_blank\">/Users/uqjnazar/.julia/packages/Missings/sx5js/src/Missings.jl:306</a></li> <li> show(io::<b>IO</b>, mime::<b>MIME{Symbol(\"text/plain\")}</b>, F::<b>SuiteSparse.SPQR.QRSparse</b>) in SuiteSparse.SPQR at <a href=\"file:///Users/julia/buildbot/worker/package_macos64/build/usr/share/julia/stdlib/v1.6/SuiteSparse/src/spqr.jl\" target=\"_blank\">/Applications/Julia-1.6.app/Contents/Resources/julia/share/julia/stdlib/v1.6/SuiteSparse/src/spqr.jl:350</a></li> <li> show(io::<b>IO</b>, ::<b>MIME{Symbol(\"text/plain\")}</b>, r::<b>LinRange</b>) in Base at <a href=\"https://github.com/JuliaLang/julia/tree/f9720dc2ebd6cd9e3086365f281e62506444ef37/base/show.jl#L13\" target=\"_blank\">show.jl:13</a></li> <li> show(io::<b>IO</b>, mime::<b>MIME{Symbol(\"text/plain\")}</b>, S::<b>SharedArrays.SharedArray</b>) in SharedArrays at <a href=\"file:///Users/julia/buildbot/worker/package_macos64/build/usr/share/julia/stdlib/v1.6/SharedArrays/src/SharedArrays.jl\" target=\"_blank\">/Applications/Julia-1.6.app/Contents/Resources/julia/share/julia/stdlib/v1.6/SharedArrays/src/SharedArrays.jl:496</a></li> <li> show(io::<b>IO</b>, mime::<b>MIME{Symbol(\"text/plain\")}</b>, C::<b>LinearAlgebra.CholeskyPivoted{var\"#s832\", var\"#s831\"} where {var\"#s832\", var\"#s831\"<:(AbstractMatrix{T} where T)}</b>) in LinearAlgebra at <a href=\"file:///Users/julia/buildbot/worker/package_macos64/build/usr/share/julia/stdlib/v1.6/LinearAlgebra/src/cholesky.jl\" target=\"_blank\">/Applications/Julia-1.6.app/Contents/Resources/julia/share/julia/stdlib/v1.6/LinearAlgebra/src/cholesky.jl:496</a></li> <li> show(io::<b>IO</b>, mime::<b>MIME{Symbol(\"text/plain\")}</b>, F::<b>LinearAlgebra.Schur</b>) in LinearAlgebra at <a href=\"file:///Users/julia/buildbot/worker/package_macos64/build/usr/share/julia/stdlib/v1.6/LinearAlgebra/src/schur.jl\" target=\"_blank\">/Applications/Julia-1.6.app/Contents/Resources/julia/share/julia/stdlib/v1.6/LinearAlgebra/src/schur.jl:200</a></li> <li> show(io::<b>IO</b>, mime::<b>MIME{Symbol(\"text/plain\")}</b>, F::<b>LinearAlgebra.GeneralizedSVD{var\"#s832\", var\"#s831\"} where {var\"#s832\", var\"#s831\"<:AbstractArray}</b>) in LinearAlgebra at <a href=\"file:///Users/julia/buildbot/worker/package_macos64/build/usr/share/julia/stdlib/v1.6/LinearAlgebra/src/svd.jl\" target=\"_blank\">/Applications/Julia-1.6.app/Contents/Resources/julia/share/julia/stdlib/v1.6/LinearAlgebra/src/svd.jl:475</a></li> <li> show(io::<b>IO</b>, ::<b>MIME{Symbol(\"text/plain\")}</b>, x::<b>Irrational{sym}</b>)<i> where sym</i> in Base at <a href=\"https://github.com/JuliaLang/julia/tree/f9720dc2ebd6cd9e3086365f281e62506444ef37/base/irrationals.jl#L31\" target=\"_blank\">irrationals.jl:31</a></li> <li> show(io::<b>IO</b>, ::<b>MIME{Symbol(\"text/plain\")}</b>, r::<b>AbstractRange</b>) in Base at <a href=\"https://github.com/JuliaLang/julia/tree/f9720dc2ebd6cd9e3086365f281e62506444ef37/base/show.jl#L11\" target=\"_blank\">show.jl:11</a></li> <li> show(io::<b>IO</b>, ::<b>MIME{Symbol(\"text/plain\")}</b>, x::<b>Dates.Period</b>) in Dates at <a href=\"file:///Users/julia/buildbot/worker/package_macos64/build/usr/share/julia/stdlib/v1.6/Dates/src/periods.jl\" target=\"_blank\">/Applications/Julia-1.6.app/Contents/Resources/julia/share/julia/stdlib/v1.6/Dates/src/periods.jl:51</a></li> <li> show(io::<b>IO</b>, ::<b>MIME{Symbol(\"text/plain\")}</b>, c::<b>Channel</b>) in Base at <a href=\"https://github.com/JuliaLang/julia/tree/f9720dc2ebd6cd9e3086365f281e62506444ef37/base/channels.jl#L446\" target=\"_blank\">channels.jl:446</a></li> <li> show(io::<b>IO</b>, ::<b>MIME{Symbol(\"text/plain\")}</b>, x::<b>LinearAlgebra.Transpose{var\"#s832\", var\"#s831\"} where {var\"#s832\", var\"#s831\"<:LinearAlgebra.Factorization}</b>) in LinearAlgebra at <a href=\"file:///Users/julia/buildbot/worker/package_macos64/build/usr/share/julia/stdlib/v1.6/LinearAlgebra/src/factorization.jl\" target=\"_blank\">/Applications/Julia-1.6.app/Contents/Resources/julia/share/julia/stdlib/v1.6/LinearAlgebra/src/factorization.jl:80</a></li> <li> show(io::<b>IO</b>, mime::<b>MIME{Symbol(\"text/plain\")}</b>, F::<b>LinearAlgebra.LDLt</b>) in LinearAlgebra at <a href=\"file:///Users/julia/buildbot/worker/package_macos64/build/usr/share/julia/stdlib/v1.6/LinearAlgebra/src/ldlt.jl\" target=\"_blank\">/Applications/Julia-1.6.app/Contents/Resources/julia/share/julia/stdlib/v1.6/LinearAlgebra/src/ldlt.jl:80</a></li> <li> show(io::<b>IO</b>, ::<b>MIME{Symbol(\"text/plain\")}</b>, J::<b>LinearAlgebra.UniformScaling</b>) in LinearAlgebra at <a href=\"file:///Users/julia/buildbot/worker/package_macos64/build/usr/share/julia/stdlib/v1.6/LinearAlgebra/src/uniformscaling.jl\" target=\"_blank\">/Applications/Julia-1.6.app/Contents/Resources/julia/share/julia/stdlib/v1.6/LinearAlgebra/src/uniformscaling.jl:113</a></li> <li> show(io::<b>IO</b>, mime::<b>MIME{Symbol(\"text/plain\")}</b>, F::<b>LinearAlgebra.Hessenberg</b>) in LinearAlgebra at <a href=\"file:///Users/julia/buildbot/worker/package_macos64/build/usr/share/julia/stdlib/v1.6/LinearAlgebra/src/hessenberg.jl\" target=\"_blank\">/Applications/Julia-1.6.app/Contents/Resources/julia/share/julia/stdlib/v1.6/LinearAlgebra/src/hessenberg.jl:424</a></li> <li> show(io::<b>IO</b>, ::<b>MIME{Symbol(\"text/plain\")}</b>, t::<b>AbstractDict{K, V}</b>)<i> where {K, V}</i> in Base at <a href=\"https://github.com/JuliaLang/julia/tree/f9720dc2ebd6cd9e3086365f281e62506444ef37/base/show.jl#L80\" target=\"_blank\">show.jl:80</a></li> <li> show(io::<b>IO</b>, ::<b>MIME{Symbol(\"text/plain\")}</b>, C::<b>LinearAlgebra.LQ</b>) in LinearAlgebra at <a href=\"file:///Users/julia/buildbot/worker/package_macos64/build/usr/share/julia/stdlib/v1.6/LinearAlgebra/src/lq.jl\" target=\"_blank\">/Applications/Julia-1.6.app/Contents/Resources/julia/share/julia/stdlib/v1.6/LinearAlgebra/src/lq.jl:144</a></li> <li> show(io::<b>IO</b>, ::<b>MIME{Symbol(\"text/plain\")}</b>, FC::<b>SuiteSparse.CHOLMOD.FactorComponent</b>) in SuiteSparse.CHOLMOD at <a href=\"file:///Users/julia/buildbot/worker/package_macos64/build/usr/share/julia/stdlib/v1.6/SuiteSparse/src/cholmod.jl\" target=\"_blank\">/Applications/Julia-1.6.app/Contents/Resources/julia/share/julia/stdlib/v1.6/SuiteSparse/src/cholmod.jl:1146</a></li> <li> show(io::<b>IO</b>, ::<b>MIME{Symbol(\"text/plain\")}</b>, t::<b>AbstractSet{T}</b>)<i> where T</i> in Base at <a href=\"https://github.com/JuliaLang/julia/tree/f9720dc2ebd6cd9e3086365f281e62506444ef37/base/show.jl#L152\" target=\"_blank\">show.jl:152</a></li> <li> show(io::<b>IO</b>, mime::<b>MIME{Symbol(\"text/plain\")}</b>, B::<b>LinearAlgebra.BunchKaufman</b>) in LinearAlgebra at <a href=\"file:///Users/julia/buildbot/worker/package_macos64/build/usr/share/julia/stdlib/v1.6/LinearAlgebra/src/bunchkaufman.jl\" target=\"_blank\">/Applications/Julia-1.6.app/Contents/Resources/julia/share/julia/stdlib/v1.6/LinearAlgebra/src/bunchkaufman.jl:328</a></li> <li> show(io::<b>IO</b>, mime::<b>MIME{Symbol(\"text/plain\")}</b>, C::<b>LinearAlgebra.Cholesky{var\"#s832\", var\"#s831\"} where {var\"#s832\", var\"#s831\"<:(AbstractMatrix{T} where T)}</b>) in LinearAlgebra at <a href=\"file:///Users/julia/buildbot/worker/package_macos64/build/usr/share/julia/stdlib/v1.6/LinearAlgebra/src/cholesky.jl\" target=\"_blank\">/Applications/Julia-1.6.app/Contents/Resources/julia/share/julia/stdlib/v1.6/LinearAlgebra/src/cholesky.jl:486</a></li> <li> show(io::<b>IO</b>, ::<b>MIME{Symbol(\"text/plain\")}</b>, c::<b>T</b>)<i> where T<:AbstractChar</i> in Base at <a href=\"https://github.com/JuliaLang/julia/tree/f9720dc2ebd6cd9e3086365f281e62506444ef37/base/char.jl#L296\" target=\"_blank\">char.jl:296</a></li> <li> show(io::<b>IO</b>, mime::<b>MIME{Symbol(\"text/plain\")}</b>, F::<b>LinearAlgebra.GeneralizedSchur</b>) in LinearAlgebra at <a href=\"file:///Users/julia/buildbot/worker/package_macos64/build/usr/share/julia/stdlib/v1.6/LinearAlgebra/src/schur.jl\" target=\"_blank\">/Applications/Julia-1.6.app/Contents/Resources/julia/share/julia/stdlib/v1.6/LinearAlgebra/src/schur.jl:362</a></li> <li> show(io::<b>IO</b>, mime::<b>MIME{Symbol(\"text/plain\")}</b>, r::<b>Core.Compiler.UnitRange</b>) in Base at <a href=\"https://github.com/JuliaLang/julia/tree/f9720dc2ebd6cd9e3086365f281e62506444ef37/base/show.jl#L1054\" target=\"_blank\">show.jl:1054</a></li> <li> show(io::<b>IO</b>, ::<b>MIME{Symbol(\"text/plain\")}</b>, op::<b>Base.Broadcast.BroadcastFunction</b>) in Base.Broadcast at <a href=\"https://github.com/JuliaLang/julia/tree/f9720dc2ebd6cd9e3086365f281e62506444ef37/base/broadcast.jl#L1357\" target=\"_blank\">broadcast.jl:1357</a></li> <li> show(io::<b>IO</b>, ::<b>MIME{Symbol(\"text/plain\")}</b>, f::<b>Function</b>) in Base at <a href=\"https://github.com/JuliaLang/julia/tree/f9720dc2ebd6cd9e3086365f281e62506444ef37/base/show.jl#L24\" target=\"_blank\">show.jl:24</a></li> <li> show(io::<b>IO</b>, ::<b>MIME{Symbol(\"text/plain\")}</b>, x::<b>Enum</b>) in Base.Enums at <a href=\"https://github.com/JuliaLang/julia/tree/f9720dc2ebd6cd9e3086365f281e62506444ef37/base/Enums.jl#L43\" target=\"_blank\">Enums.jl:43</a></li> <li> show(io::<b>IO</b>, ::<b>MIME{Symbol(\"text/plain\")}</b>, F::<b>SuiteSparse.CHOLMOD.Factor</b>) in SuiteSparse.CHOLMOD at <a href=\"file:///Users/julia/buildbot/worker/package_macos64/build/usr/share/julia/stdlib/v1.6/SuiteSparse/src/cholmod.jl\" target=\"_blank\">/Applications/Julia-1.6.app/Contents/Resources/julia/share/julia/stdlib/v1.6/SuiteSparse/src/cholmod.jl:1147</a></li> <li> show(io::<b>IO</b>, ::<b>MIME{Symbol(\"text/plain\")}</b>, S::<b>SparseArrays.AbstractSparseMatrixCSC</b>) in SparseArrays at <a href=\"file:///Users/julia/buildbot/worker/package_macos64/build/usr/share/julia/stdlib/v1.6/SparseArrays/src/sparsematrix.jl\" target=\"_blank\">/Applications/Julia-1.6.app/Contents/Resources/julia/share/julia/stdlib/v1.6/SparseArrays/src/sparsematrix.jl:222</a></li> <li> show(io::<b>IO</b>, ::<b>MIME{Symbol(\"text/plain\")}</b>, x::<b>SparseArrays.AbstractSparseVector{Tv, Ti} where {Tv, Ti}</b>) in SparseArrays at <a href=\"file:///Users/julia/buildbot/worker/package_macos64/build/usr/share/julia/stdlib/v1.6/SparseArrays/src/sparsevector.jl\" target=\"_blank\">/Applications/Julia-1.6.app/Contents/Resources/julia/share/julia/stdlib/v1.6/SparseArrays/src/sparsevector.jl:876</a></li> <li> show(io::<b>IO</b>, mime::<b>MIME{Symbol(\"text/plain\")}</b>, mt::<b>AbstractVector{Method}</b>) in Base at <a href=\"https://github.com/JuliaLang/julia/tree/f9720dc2ebd6cd9e3086365f281e62506444ef37/base/methodshow.jl#L411\" target=\"_blank\">methodshow.jl:411</a></li> <li> show(io::<b>IO</b>, ::<b>MIME{Symbol(\"text/plain\")}</b>, X::<b>AbstractArray</b>) in Base at <a href=\"https://github.com/JuliaLang/julia/tree/f9720dc2ebd6cd9e3086365f281e62506444ef37/base/arrayshow.jl#L332\" target=\"_blank\">arrayshow.jl:332</a></li> <li> show(io::<b>IO</b>, mime::<b>MIME{Symbol(\"text/plain\")}</b>, F::<b>SuiteSparse.UMFPACK.UmfpackLU</b>) in SuiteSparse.UMFPACK at <a href=\"file:///Users/julia/buildbot/worker/package_macos64/build/usr/share/julia/stdlib/v1.6/SuiteSparse/src/umfpack.jl\" target=\"_blank\">/Applications/Julia-1.6.app/Contents/Resources/julia/share/julia/stdlib/v1.6/SuiteSparse/src/umfpack.jl:252</a></li> <li> show(io::<b>IO</b>, mime::<b>MIME{Symbol(\"text/plain\")}</b>, F::<b>LinearAlgebra.LU</b>) in LinearAlgebra at <a href=\"file:///Users/julia/buildbot/worker/package_macos64/build/usr/share/julia/stdlib/v1.6/LinearAlgebra/src/lu.jl\" target=\"_blank\">/Applications/Julia-1.6.app/Contents/Resources/julia/share/julia/stdlib/v1.6/LinearAlgebra/src/lu.jl:327</a></li> <li> show(io::<b>IO</b>, ::<b>MIME{Symbol(\"text/plain\")}</b>, u::<b>UndefInitializer</b>) in Base at <a href=\"https://github.com/JuliaLang/julia/tree/f9720dc2ebd6cd9e3086365f281e62506444ef37/base/show.jl#L3\" target=\"_blank\">show.jl:3</a></li> <li> show(io::<b>IO</b>, ::<b>MIME{Symbol(\"text/plain\")}</b>, dt::<b>Dates.DateTime</b>) in Dates at <a href=\"file:///Users/julia/buildbot/worker/package_macos64/build/usr/share/julia/stdlib/v1.6/Dates/src/io.jl\" target=\"_blank\">/Applications/Julia-1.6.app/Contents/Resources/julia/share/julia/stdlib/v1.6/Dates/src/io.jl:613</a></li> <li> show(io::<b>IO</b>, ::<b>MIME{Symbol(\"text/plain\")}</b>, t::<b>Task</b>) in Base at <a href=\"https://github.com/JuliaLang/julia/tree/f9720dc2ebd6cd9e3086365f281e62506444ef37/base/show.jl#L205\" target=\"_blank\">show.jl:205</a></li> <li> show(io::<b>IO</b>, ::<b>MIME{Symbol(\"text/plain\")}</b>, t::<b>Dates.Time</b>) in Dates at <a href=\"file:///Users/julia/buildbot/worker/package_macos64/build/usr/share/julia/stdlib/v1.6/Dates/src/io.jl\" target=\"_blank\">/Applications/Julia-1.6.app/Contents/Resources/julia/share/julia/stdlib/v1.6/Dates/src/io.jl:54</a></li> <li> show(io::<b>IO</b>, ::<b>MIME{Symbol(\"text/plain\")}</b>, opt::<b>Base.JLOptions</b>) in Base at <a href=\"https://github.com/JuliaLang/julia/tree/f9720dc2ebd6cd9e3086365f281e62506444ef37/base/show.jl#L189\" target=\"_blank\">show.jl:189</a></li> <li> show(io::<b>IO</b>, ::<b>MIME{Symbol(\"text/plain\")}</b>, dt::<b>Dates.Date</b>) in Dates at <a href=\"file:///Users/julia/buildbot/worker/package_macos64/build/usr/share/julia/stdlib/v1.6/Dates/src/io.jl\" target=\"_blank\">/Applications/Julia-1.6.app/Contents/Resources/julia/share/julia/stdlib/v1.6/Dates/src/io.jl:613</a></li> <li> show(io::<b>IO</b>, ::<b>MIME{Symbol(\"text/plain\")}</b>, md::<b>Markdown.MD</b>) in Markdown at <a href=\"file:///Users/julia/buildbot/worker/package_macos64/build/usr/share/julia/stdlib/v1.6/Markdown/src/render/terminal/render.jl\" target=\"_blank\">/Applications/Julia-1.6.app/Contents/Resources/julia/share/julia/stdlib/v1.6/Markdown/src/render/terminal/render.jl:176</a></li> <li> show(io::<b>IO</b>, ::<b>MIME{Symbol(\"text/plain\")}</b>, ::<b>Core.TypeofBottom</b>) in Base at <a href=\"https://github.com/JuliaLang/julia/tree/f9720dc2ebd6cd9e3086365f281e62506444ef37/base/show.jl#L480\" target=\"_blank\">show.jl:480</a></li> <li> show(io::<b>IO</b>, m::<b>MIME{Symbol(\"text/plain\")}</b>, t::<b>Type{var\"#s832\"} where var\"#s832\"<:Enum</b>) in Base.Enums at <a href=\"https://github.com/JuliaLang/julia/tree/f9720dc2ebd6cd9e3086365f281e62506444ef37/base/Enums.jl#L50\" target=\"_blank\">Enums.jl:50</a></li> <li> show(io::<b>IO</b>, ::<b>MIME{Symbol(\"text/plain\")}</b>, x::<b>Type</b>) in Base at <a href=\"https://github.com/JuliaLang/julia/tree/f9720dc2ebd6cd9e3086365f281e62506444ef37/base/show.jl#L793\" target=\"_blank\">show.jl:793</a></li> <li> show(io::<b>IO</b>, ::<b>MIME{Symbol(\"text/plain\")}</b>, x) in Base.Multimedia at <a href=\"https://github.com/JuliaLang/julia/tree/f9720dc2ebd6cd9e3086365f281e62506444ef37/base/multimedia.jl#L47\" target=\"_blank\">multimedia.jl:47</a></li> <li> show(io::<b>IO</b>, ip::<b>Sockets.IPv6</b>) in Sockets at <a href=\"file:///Users/julia/buildbot/worker/package_macos64/build/usr/share/julia/stdlib/v1.6/Sockets/src/IPAddr.jl\" target=\"_blank\">/Applications/Julia-1.6.app/Contents/Resources/julia/share/julia/stdlib/v1.6/Sockets/src/IPAddr.jl:120</a></li> <li> show(io::<b>IO</b>, v::<b>Core.SimpleVector</b>) in Base at <a href=\"https://github.com/JuliaLang/julia/tree/f9720dc2ebd6cd9e3086365f281e62506444ef37/base/show.jl#L1143\" target=\"_blank\">show.jl:1143</a></li> <li> show(io::<b>IO</b>, err::<b>Sockets.DNSError</b>) in Sockets at <a href=\"file:///Users/julia/buildbot/worker/package_macos64/build/usr/share/julia/stdlib/v1.6/Sockets/src/addrinfo.jl\" target=\"_blank\">/Applications/Julia-1.6.app/Contents/Resources/julia/share/julia/stdlib/v1.6/Sockets/src/addrinfo.jl:15</a></li> <li> show(io::<b>IO</b>, ::<b>UndefInitializer</b>) in Base at <a href=\"https://github.com/JuliaLang/julia/tree/f9720dc2ebd6cd9e3086365f281e62506444ef37/base/show.jl#L2612\" target=\"_blank\">show.jl:2612</a></li> <li> show(io::<b>IO</b>, mi_info::<b>Core.Compiler.Timings.InferenceFrameInfo</b>) in Base at <a href=\"https://github.com/JuliaLang/julia/tree/f9720dc2ebd6cd9e3086365f281e62506444ef37/base/show.jl#L1056\" target=\"_blank\">show.jl:1056</a></li> <li> show(io::<b>IO</b>, b::<b>Bool</b>) in Base at <a href=\"https://github.com/JuliaLang/julia/tree/f9720dc2ebd6cd9e3086365f281e62506444ef37/base/show.jl#L968\" target=\"_blank\">show.jl:968</a></li> <li> show(io::<b>IO</b>, ip::<b>Base.InterpreterIP</b>) in Base at <a href=\"https://github.com/JuliaLang/julia/tree/f9720dc2ebd6cd9e3086365f281e62506444ef37/base/errorshow.jl#L890\" target=\"_blank\">errorshow.jl:890</a></li> <li> show(io::<b>IO</b>, pkg::<b>Pkg.Types.PackageSpec</b>) in Pkg.Types at <a href=\"file:///Users/julia/buildbot/worker/package_macos64/build/usr/share/julia/stdlib/v1.6/Pkg/src/Types.jl\" target=\"_blank\">/Applications/Julia-1.6.app/Contents/Resources/julia/share/julia/stdlib/v1.6/Pkg/src/Types.jl:112</a></li> <li> show(io::<b>IO</b>, r::<b>Pkg.Types.VersionRange</b>) in Pkg.Types at <a href=\"file:///Users/julia/buildbot/worker/package_macos64/build/usr/share/julia/stdlib/v1.6/Pkg/src/versions.jl\" target=\"_blank\">/Applications/Julia-1.6.app/Contents/Resources/julia/share/julia/stdlib/v1.6/Pkg/src/versions.jl:176</a></li> <li> show(io::<b>IO</b>, cfg::<b>Core.Compiler.CFG</b>) in Base.IRShow at <a href=\"https://github.com/JuliaLang/julia/tree/f9720dc2ebd6cd9e3086365f281e62506444ef37/base/compiler/ssair/show.jl#L15\" target=\"_blank\">compiler/ssair/show.jl:15</a></li> <li> show(io::<b>IO</b>, ::<b>MIME{Symbol(\"text/rst\")}</b>, md::<b>Markdown.MD</b>) in Markdown at <a href=\"file:///Users/julia/buildbot/worker/package_macos64/build/usr/share/julia/stdlib/v1.6/Markdown/src/render/rst.jl\" target=\"_blank\">/Applications/Julia-1.6.app/Contents/Resources/julia/share/julia/stdlib/v1.6/Markdown/src/render/rst.jl:145</a></li> <li> show(io::<b>IO</b>, ::<b>Core.Compiler.NativeInterpreter</b>) in Base at <a href=\"https://github.com/JuliaLang/julia/tree/f9720dc2ebd6cd9e3086365f281e62506444ef37/base/show.jl#L2389\" target=\"_blank\">show.jl:2389</a></li> <li> show(io::<b>IO</b>, df::<b>LibGit2.DiffFile</b>) in LibGit2 at <a href=\"file:///Users/julia/buildbot/worker/package_macos64/build/usr/share/julia/stdlib/v1.6/LibGit2/src/types.jl\" target=\"_blank\">/Applications/Julia-1.6.app/Contents/Resources/julia/share/julia/stdlib/v1.6/LibGit2/src/types.jl:521</a></li> <li> show(io::<b>IO</b>, manager::<b>Distributed.LocalManager</b>) in Distributed at <a href=\"file:///Users/julia/buildbot/worker/package_macos64/build/usr/share/julia/stdlib/v1.6/Distributed/src/managers.jl\" target=\"_blank\">/Applications/Julia-1.6.app/Contents/Resources/julia/share/julia/stdlib/v1.6/Distributed/src/managers.jl:446</a></li> <li> show(io::<b>IO</b>, ::<b>MIME{Symbol(\"text/tab-separated-values\")}</b>, a) in DelimitedFiles at <a href=\"file:///Users/julia/buildbot/worker/package_macos64/build/usr/share/julia/stdlib/v1.6/DelimitedFiles/src/DelimitedFiles.jl\" target=\"_blank\">/Applications/Julia-1.6.app/Contents/Resources/julia/share/julia/stdlib/v1.6/DelimitedFiles/src/DelimitedFiles.jl:829</a></li> <li> show(io::<b>IO</b>, ::<b>MIME{mime}</b>)<i> where mime</i> in Base.Multimedia at <a href=\"https://github.com/JuliaLang/julia/tree/f9720dc2ebd6cd9e3086365f281e62506444ef37/base/multimedia.jl#L50\" target=\"_blank\">multimedia.jl:50</a></li> <li> show(io::<b>IO</b>, tinf::<b>Core.Compiler.Timings.Timing</b>) in Base at <a href=\"https://github.com/JuliaLang/julia/tree/f9720dc2ebd6cd9e3086365f281e62506444ef37/base/show.jl#L1075\" target=\"_blank\">show.jl:1075</a></li> <li> show(io::<b>IO</b>, z::<b>Complex{Bool}</b>) in Base at <a href=\"https://github.com/JuliaLang/julia/tree/f9720dc2ebd6cd9e3086365f281e62506444ef37/base/complex.jl#L202\" target=\"_blank\">complex.jl:202</a></li> <li> show(io::<b>IO</b>, z::<b>Complex</b>) in Base at <a href=\"https://github.com/JuliaLang/julia/tree/f9720dc2ebd6cd9e3086365f281e62506444ef37/base/complex.jl#L182\" target=\"_blank\">complex.jl:182</a></li> <li> show(io::<b>IO</b>, s::<b>BitSet</b>) in Base at <a href=\"https://github.com/JuliaLang/julia/tree/f9720dc2ebd6cd9e3086365f281e62506444ef37/base/bitset.jl#L367\" target=\"_blank\">bitset.jl:367</a></li> <li> show(io::<b>IO</b>, id::<b>LibGit2.GitHash</b>) in LibGit2 at <a href=\"file:///Users/julia/buildbot/worker/package_macos64/build/usr/share/julia/stdlib/v1.6/LibGit2/src/oid.jl\" target=\"_blank\">/Applications/Julia-1.6.app/Contents/Resources/julia/share/julia/stdlib/v1.6/LibGit2/src/oid.jl:183</a></li> <li> show(io::<b>IO</b>, ::<b>Base.EnvDict</b>) in Base at <a href=\"https://github.com/JuliaLang/julia/tree/f9720dc2ebd6cd9e3086365f281e62506444ef37/base/env.jl#L140\" target=\"_blank\">env.jl:140</a></li> <li> show(io::<b>IO</b>, t::<b>AbstractDict{K, V}</b>)<i> where {K, V}</i> in Base at <a href=\"https://github.com/JuliaLang/julia/tree/f9720dc2ebd6cd9e3086365f281e62506444ef37/base/dict.jl#L24\" target=\"_blank\">dict.jl:24</a></li> <li> show(io::<b>IO</b>, idx::<b>LibGit2.GitIndex</b>) in LibGit2 at <a href=\"file:///Users/julia/buildbot/worker/package_macos64/build/usr/share/julia/stdlib/v1.6/LibGit2/src/index.jl\" target=\"_blank\">/Applications/Julia-1.6.app/Contents/Resources/julia/share/julia/stdlib/v1.6/LibGit2/src/index.jl:216</a></li> <li> show(io::<b>IO</b>, t::<b>Task</b>) in Base at <a href=\"https://github.com/JuliaLang/julia/tree/f9720dc2ebd6cd9e3086365f281e62506444ef37/base/task.jl#L90\" target=\"_blank\">task.jl:90</a></li> <li> show(io::<b>IO</b>, stream::<b>Pipe</b>) in Base at <a href=\"https://github.com/JuliaLang/julia/tree/f9720dc2ebd6cd9e3086365f281e62506444ef37/base/stream.jl#L715\" target=\"_blank\">stream.jl:715</a></li> <li> show(io::<b>IO</b>, src::<b>Core.CodeInfo</b>; <i>debuginfo</i>) in Base at <a href=\"https://github.com/JuliaLang/julia/tree/f9720dc2ebd6cd9e3086365f281e62506444ef37/base/show.jl#L2357\" target=\"_blank\">show.jl:2357</a></li> <li> show(io::<b>IO</b>, te::<b>LibGit2.GitTreeEntry</b>) in LibGit2 at <a href=\"file:///Users/julia/buildbot/worker/package_macos64/build/usr/share/julia/stdlib/v1.6/LibGit2/src/tree.jl\" target=\"_blank\">/Applications/Julia-1.6.app/Contents/Resources/julia/share/julia/stdlib/v1.6/LibGit2/src/tree.jl:142</a></li> <li> show(io::<b>IO</b>, Ω::<b>Soliton</b>) in Distributions at <a href=\"file:///Users/uqjnazar/.julia/packages/Distributions/fXTVC/src/univariate/discrete/soliton.jl\" target=\"_blank\">/Users/uqjnazar/.julia/packages/Distributions/fXTVC/src/univariate/discrete/soliton.jl:50</a></li> <li> show(io::<b>IO</b>, c::<b>MbedTLS.SSLConfig</b>) in MbedTLS at <a href=\"file:///Users/uqjnazar/.julia/packages/MbedTLS/4YY6E/src/ssl.jl\" target=\"_blank\">/Users/uqjnazar/.julia/packages/MbedTLS/4YY6E/src/ssl.jl:31</a></li> <li> show(io::<b>IO</b>, d::<b>DiscreteUniform</b>) in Distributions at <a href=\"file:///Users/uqjnazar/.julia/packages/Distributions/fXTVC/src/univariate/discrete/discreteuniform.jl\" target=\"_blank\">/Users/uqjnazar/.julia/packages/Distributions/fXTVC/src/univariate/discrete/discreteuniform.jl:47</a></li> <li> show(io::<b>IO</b>, d::<b>Distribution</b>) in Distributions at <a href=\"file:///Users/uqjnazar/.julia/packages/Distributions/fXTVC/src/show.jl\" target=\"_blank\">/Users/uqjnazar/.julia/packages/Distributions/fXTVC/src/show.jl:12</a></li> <li> show(io::<b>IO</b>, d::<b>Distribution</b>, pnames) in Distributions at <a href=\"file:///Users/uqjnazar/.julia/packages/Distributions/fXTVC/src/show.jl\" target=\"_blank\">/Users/uqjnazar/.julia/packages/Distributions/fXTVC/src/show.jl:18</a></li> <li> show(io::<b>IO</b>, ::<b>Core.TypeofBottom</b>) in Base at <a href=\"https://github.com/JuliaLang/julia/tree/f9720dc2ebd6cd9e3086365f281e62506444ef37/base/show.jl#L479\" target=\"_blank\">show.jl:479</a></li> <li> show(io::<b>IO</b>, x::<b>Type</b>) in Base at <a href=\"https://github.com/JuliaLang/julia/tree/f9720dc2ebd6cd9e3086365f281e62506444ef37/base/show.jl#L812\" target=\"_blank\">show.jl:812</a></li> <li> show(io::<b>IO</b>, x) in Base at <a href=\"https://github.com/JuliaLang/julia/tree/f9720dc2ebd6cd9e3086365f281e62506444ef37/base/show.jl#L390\" target=\"_blank\">show.jl:390</a></li> <li> show(x) in Base at <a href=\"https://github.com/JuliaLang/julia/tree/f9720dc2ebd6cd9e3086365f281e62506444ef37/base/show.jl#L392\" target=\"_blank\">show.jl:392</a></li> </ul>"
      ],
      "text/plain": [
       "# 304 methods for generic function \"show\":\n",
       "[1] show(io::IOContext, S::SparseArrays.AbstractSparseMatrixCSC) in SparseArrays at /Applications/Julia-1.6.app/Contents/Resources/julia/share/julia/stdlib/v1.6/SparseArrays/src/sparsematrix.jl:297\n",
       "[2] show(io::IOContext, x::SparseArrays.AbstractSparseVector{Tv, Ti} where {Tv, Ti}) in SparseArrays at /Applications/Julia-1.6.app/Contents/Resources/julia/share/julia/stdlib/v1.6/SparseArrays/src/sparsevector.jl:887\n",
       "[3] show(io::IO, iter::Union{Base.KeySet, Base.ValueIterator}) in Base at abstractdict.jl:56\n",
       "[4] show(io::IO, ex::Union{Core.GotoNode, Core.SSAValue, Expr, GlobalRef, Core.GotoIfNot, LineNumberNode, Core.PhiCNode, Core.PhiNode, QuoteNode, Core.ReturnNode, Core.Slot, Core.UpsilonNode}) in Base at show.jl:1184\n",
       "[5] show(io::IO, cmds::Union{Base.ErrOrCmds, Base.OrCmds}) in Base at cmd.jl:130\n",
       "[6] show(io::IO, x::T) where T<:Union{Float16, Float32, Float64} in Base.Ryu at ryu/Ryu.jl:111\n",
       "[7] show(io::IO, x::T, forceuntyped::Bool) where T<:Union{Float16, Float32, Float64} in Base.Ryu at ryu/Ryu.jl:111\n",
       "[8] show(io::IO, x::T, forceuntyped::Bool, fromprint::Bool) where T<:Union{Float16, Float32, Float64} in Base.Ryu at ryu/Ryu.jl:111\n",
       "[9] show(io::IO, x::FillArrays.Eye{T, Axes, Axes} where {T, Axes, Axes}) in FillArrays at /Users/uqjnazar/.julia/packages/FillArrays/5CbY2/src/FillArrays.jl:645\n",
       "[10] show(io::IO, h::DataStructures.MutableBinaryHeap) in DataStructures at /Users/uqjnazar/.julia/packages/DataStructures/ixwFs/src/heaps/mutable_binary_heap.jl:194\n",
       "[11] show(io::IO, x::LinearAlgebra.Adjoint{var\"#s832\", var\"#s831\"} where {var\"#s832\", var\"#s831\"<:LinearAlgebra.Factorization}) in LinearAlgebra at /Applications/Julia-1.6.app/Contents/Resources/julia/share/julia/stdlib/v1.6/LinearAlgebra/src/factorization.jl:68\n",
       "[12] show(io::IO, comp::ChainRulesCore.Tangent{P, T} where T) where P in ChainRulesCore at /Users/uqjnazar/.julia/packages/ChainRulesCore/GciYT/src/differentials/composite.jl:59\n",
       "[13] show(io::IO, project::ChainRulesCore.ProjectTo{T, D} where D<:NamedTuple) where T in ChainRulesCore at /Users/uqjnazar/.julia/packages/ChainRulesCore/GciYT/src/projection.jl:23\n",
       "[14] show(io::IO, S::SharedArrays.SharedArray) in SharedArrays at /Applications/Julia-1.6.app/Contents/Resources/julia/share/julia/stdlib/v1.6/SharedArrays/src/SharedArrays.jl:488\n",
       "[15] show(io::IO, b::Base.GenericIOBuffer) in Base at iobuffer.jl:148\n",
       "[16] show(io::IO, t::Tuple) in Base at show.jl:1142\n",
       "[17] show(io::IO, acc::DataStructures.Accumulator{T, V}) where {T, V} in DataStructures at /Users/uqjnazar/.julia/packages/DataStructures/ixwFs/src/accumulator.jl:238\n",
       "[18] show(io::IO, g::Base.Unicode.GraphemeIterator{S}) where S in Base.Unicode at strings/unicode.jl:702\n",
       "[19] show(io::IO, d::Wishart) in Distributions at /Users/uqjnazar/.julia/packages/Distributions/fXTVC/src/matrix/wishart.jl:73\n",
       "[20] show(io::IO, d::VonMisesFisher) in Distributions at /Users/uqjnazar/.julia/packages/Distributions/fXTVC/src/multivariate/vonmisesfisher.jl:42\n",
       "[21] show(io::IO, d::MvNormal) in Distributions at /Users/uqjnazar/.julia/packages/Distributions/fXTVC/src/multivariate/mvnormal.jl:231\n",
       "[22] show(io::IO, x::FillArrays.AbstractFill) in FillArrays at /Users/uqjnazar/.julia/packages/FillArrays/5CbY2/src/FillArrays.jl:635\n",
       "[23] show(io::IO, n::Unsigned) in Base at show.jl:970\n",
       "[24] show(io::IO, x::ChainRulesCore.InplaceableThunk) in ChainRulesCore at /Users/uqjnazar/.julia/packages/ChainRulesCore/GciYT/src/differentials/thunks.jl:218\n",
       "[25] show(io::IO, d::Dates.DatePart{c}) where c in Dates at /Applications/Julia-1.6.app/Contents/Resources/julia/share/julia/stdlib/v1.6/Dates/src/io.jl:106\n",
       "[26] show(io::IO, p::P) where P<:Dates.Period in Dates at /Applications/Julia-1.6.app/Contents/Resources/julia/share/julia/stdlib/v1.6/Dates/src/periods.jl:52\n",
       "[27] show(io::IO, x::LinearAlgebra.Transpose{var\"#s832\", var\"#s831\"} where {var\"#s832\", var\"#s831\"<:LinearAlgebra.Factorization}) in LinearAlgebra at /Applications/Julia-1.6.app/Contents/Resources/julia/share/julia/stdlib/v1.6/LinearAlgebra/src/factorization.jl:72\n",
       "[28] show(io::IO, bc::Base.Broadcast.Broadcasted{Style, Axes, F, Args} where {Axes, F, Args<:Tuple}) where Style in Base.Broadcast at broadcast.jl:185\n",
       "[29] show(io::IO, stream::Base.LibuvServer) in Base at stream.jl:260\n",
       "[30] show(io::IO, ctx::IOContext) in Base at show.jl:329\n",
       "[31] show(io::IO, d::InverseWishart) in Distributions at /Users/uqjnazar/.julia/packages/Distributions/fXTVC/src/matrix/inversewishart.jl:53\n",
       "[32] show(io::IO, r::UnitRange) in Base at range.jl:792\n",
       "[33] show(io::IO, ss::StatsBase.SummaryStats) in StatsBase at /Users/uqjnazar/.julia/packages/StatsBase/IiL4F/src/scalarstats.jl:673\n",
       "[34] show(io::IO, s::OrderedCollections.OrderedSet) in OrderedCollections at /Users/uqjnazar/.julia/packages/OrderedCollections/PRayh/src/ordered_set.jl:16\n",
       "[35] show(io::IO, q::DataStructures.Deque) in DataStructures at /Users/uqjnazar/.julia/packages/DataStructures/ixwFs/src/deque.jl:157\n",
       "[36] show(io::IO, FC::SuiteSparse.CHOLMOD.FactorComponent) in SuiteSparse.CHOLMOD at /Applications/Julia-1.6.app/Contents/Resources/julia/share/julia/stdlib/v1.6/SuiteSparse/src/cholmod.jl:1129\n",
       "[37] show(io::IO, i::CartesianIndex) in Base.IteratorsMD at multidimensional.jl:86\n",
       "[38] show(io::IO, l::DataStructures.LinkedList{T}) where T in DataStructures at /Users/uqjnazar/.julia/packages/DataStructures/ixwFs/src/list.jl:24\n",
       "[39] show(io::IO, c::AbstractChar) in Base at char.jl:260\n",
       "[40] show(io::IO, x::Some) in Base at some.jl:40\n",
       "[41] show(io::IO, h::StatsBase.AbstractHistogram) in StatsBase at /Users/uqjnazar/.julia/packages/StatsBase/IiL4F/src/hist.jl:210\n",
       "[42] show(io::IO, t::Text) in Base.Docs at docs/utils.jl:73\n",
       "[43] show(io::IO, op::Base.Broadcast.BroadcastFunction) in Base.Broadcast at broadcast.jl:1351\n",
       "[44] show(io::IO, S::SparseArrays.AbstractSparseMatrixCSC) in SparseArrays at /Applications/Julia-1.6.app/Contents/Resources/julia/share/julia/stdlib/v1.6/SparseArrays/src/sparsematrix.jl:233\n",
       "[45] show(io::IO, d::Truncated) in Distributions at /Users/uqjnazar/.julia/packages/Distributions/fXTVC/src/truncate.jl:167\n",
       "[46] show(io::IO, d::DirichletMultinomial) in Distributions at /Users/uqjnazar/.julia/packages/Distributions/fXTVC/src/multivariate/dirichletmultinomial.jl:17\n",
       "[47] show(io::IO, d::MatrixTDist) in Distributions at /Users/uqjnazar/.julia/packages/Distributions/fXTVC/src/matrix/matrixtdist.jl:76\n",
       "[48] show(io::IO, m::DataStructures.SortedMultiDict{K, D, Ord}) where {K, D, Ord<:Base.Order.Ordering} in DataStructures at /Users/uqjnazar/.julia/packages/DataStructures/ixwFs/src/sorted_multi_dict.jl:460\n",
       "[49] show(io::IO, B::Base.Broadcast.BitMaskedBitArray) in Base.Broadcast at broadcast.jl:1183\n",
       "[50] show(io::IO, c::ComposedFunction) in Base at operators.jl:944\n",
       "[51] show(io::IO, x::ChainRulesCore.Thunk) in ChainRulesCore at /Users/uqjnazar/.julia/packages/ChainRulesCore/GciYT/src/differentials/thunks.jl:194\n",
       "[52] show(io::IO, e::Base.Iterators.Enumerate) in Base at show.jl:2753\n",
       "[53] show(io::IO, r::Base.LogicalIndex) in Base at multidimensional.jl:734\n",
       "[54] show(io::IO, t::NamedTuple) in Base at namedtuple.jl:139\n",
       "[55] show(io::IO, r::LinRange) in Base at range.jl:447\n",
       "[56] show(io::IO, p::Pair) in Base at show.jl:993\n",
       "[57] show(io::IO, d::MatrixReshaped) in Distributions at /Users/uqjnazar/.julia/packages/Distributions/fXTVC/src/matrix/matrixreshaped.jl:36\n",
       "[58] show(io::IO, d::Dates.Delim) in Dates at /Applications/Julia-1.6.app/Contents/Resources/julia/share/julia/stdlib/v1.6/Dates/src/io.jl:281\n",
       "[59] show(io::IO, x::Irrational{sym}) where sym in Base at irrationals.jl:29\n",
       "[60] show(io::IO, x::Rational) in Base at rational.jl:83\n",
       "[61] show(io::IO, d::MatrixBeta) in Distributions at /Users/uqjnazar/.julia/packages/Distributions/fXTVC/src/matrix/matrixbeta.jl:52\n",
       "[62] show(io::IO, M::LinearAlgebra.Bidiagonal) in LinearAlgebra at /Applications/Julia-1.6.app/Contents/Resources/julia/share/julia/stdlib/v1.6/LinearAlgebra/src/bidiag.jl:221\n",
       "[63] show(io::IO, blk::DataStructures.DequeBlock) in DataStructures at /Users/uqjnazar/.julia/packages/DataStructures/ixwFs/src/deque.jl:47\n",
       "[64] show(io::IO, s::Base.SkipMissing) in Base at missing.jl:263\n",
       "[65] show(io::IO, c::Channel) in Base at channels.jl:444\n",
       "[66] show(io::IO, D::DataStructures.CircularDeque{T}) where T in DataStructures at /Users/uqjnazar/.julia/packages/DataStructures/ixwFs/src/circ_deque.jl:119\n",
       "[67] show(io::IO, d::VonMises) in Distributions at /Users/uqjnazar/.julia/packages/Distributions/fXTVC/src/univariate/continuous/vonmises.jl:37\n",
       "[68] show(io::IO, f::Printf.Spec) in Printf at /Applications/Julia-1.6.app/Contents/Resources/julia/share/julia/stdlib/v1.6/Printf/src/Printf.jl:39\n",
       "[69] show(io::IO, d::MatrixNormal) in Distributions at /Users/uqjnazar/.julia/packages/Distributions/fXTVC/src/matrix/matrixnormal.jl:58\n",
       "[70] show(io::IO, r::Base.IdentityUnitRange) in Base at indices.jl:400\n",
       "[71] show(io::IO, m::DataStructures.SortedSet{K, Ord}) where {K, Ord<:Base.Order.Ordering} in DataStructures at /Users/uqjnazar/.julia/packages/DataStructures/ixwFs/src/sorted_set.jl:559\n",
       "[72] show(io::IO, node::DataStructures.ListNode) in DataStructures at /Users/uqjnazar/.julia/packages/DataStructures/ixwFs/src/mutable_list.jl:241\n",
       "[73] show(io::IO, df::Dates.DateFormat) in Dates at /Applications/Julia-1.6.app/Contents/Resources/julia/share/julia/stdlib/v1.6/Dates/src/io.jl:424\n",
       "[74] show(io::IO, r::Base.OneTo) in Base at range.jl:793\n",
       "[75] show(io::IO, p::Ptr) in Base at show.jl:973\n",
       "[76] show(io::IO, addr::Sockets.InetAddr) in Sockets at /Applications/Julia-1.6.app/Contents/Resources/julia/share/julia/stdlib/v1.6/Sockets/src/IPAddr.jl:307\n",
       "[77] show(io::IO, d::MatrixFDist) in Distributions at /Users/uqjnazar/.julia/packages/Distributions/fXTVC/src/matrix/matrixfdist.jl:60\n",
       "[78] show(io::IO, d::LKJ) in Distributions at /Users/uqjnazar/.julia/packages/Distributions/fXTVC/src/matrix/lkj.jl:45\n",
       "[79] show(io::IO, d::MvLogNormal) in Distributions at /Users/uqjnazar/.julia/packages/Distributions/fXTVC/src/multivariate/mvlognormal.jl:238\n",
       "[80] show(io::IO, l::DataStructures.MutableLinkedList) in DataStructures at /Users/uqjnazar/.julia/packages/DataStructures/ixwFs/src/mutable_list.jl:246\n",
       "[81] show(io::IO, x::SparseArrays.AbstractSparseVector{Tv, Ti} where {Tv, Ti}) in SparseArrays at /Applications/Julia-1.6.app/Contents/Resources/julia/share/julia/stdlib/v1.6/SparseArrays/src/sparsevector.jl:886\n",
       "[82] show(io::IO, r::Base.Slice) in Base at indices.jl:369\n",
       "[83] show(io::IO, r::AbstractRange) in Base at range.jl:791\n",
       "[84] show(io::IO, s::SubstitutionString) in Base at regex.jl:459\n",
       "[85] show(io::IO, s::AbstractString) in Base at strings/io.jl:182\n",
       "[86] show(io::IO, m::AbstractString, x) in Base.Multimedia at multimedia.jl:111\n",
       "[87] show(io::IO, r::Core.Compiler.UnitRange) in Base at show.jl:1053\n",
       "[88] show(io::IO, d::Dirichlet) in Distributions at /Users/uqjnazar/.julia/packages/Distributions/fXTVC/src/multivariate/dirichlet.jl:64\n",
       "[89] show(io::IO, x::Enum) in Base.Enums at Enums.jl:30\n",
       "[90] show(io::IO, F::SuiteSparse.CHOLMOD.Factor) in SuiteSparse.CHOLMOD at /Applications/Julia-1.6.app/Contents/Resources/julia/share/julia/stdlib/v1.6/SuiteSparse/src/cholmod.jl:1124\n",
       "[91] show(io::IO, X::AbstractArray) in Base at arrayshow.jl:444\n",
       "[92] show(io::IO, z::Base.Iterators.Zip) in Base at show.jl:2758\n",
       "[93] show(io::IO, d::MixtureModel) in Distributions at /Users/uqjnazar/.julia/packages/Distributions/fXTVC/src/mixtures/mixturemodel.jl:257\n",
       "[94] show(io::IO, s::Set) in Base at set.jl:39\n",
       "[95] show(io::IO, x::Missing) in Base at missing.jl:5\n",
       "[96] show(io::IO, frame::Base.StackTraces.StackFrame) in Base.StackTraces at stacktraces.jl:251\n",
       "[97] show(io::IO, rng::Random.MersenneTwister) in Random at /Applications/Julia-1.6.app/Contents/Resources/julia/share/julia/stdlib/v1.6/Random/src/RNGs.jl:179\n",
       "[98] show(io::IO, ::MIME{Symbol(\"text/markdown\")}, md::Markdown.MD) in Markdown at /Applications/Julia-1.6.app/Contents/Resources/julia/share/julia/stdlib/v1.6/Markdown/src/render/plain.jl:140\n",
       "[99] show(io::IO, ::MIME{Symbol(\"text/markdown\")}, ct::StatsBase.CoefTable) in StatsBase at /Users/uqjnazar/.julia/packages/StatsBase/IiL4F/src/statmodels.jl:574\n",
       "[100] show(io::IO, ip::Sockets.IPv4) in Sockets at /Applications/Julia-1.6.app/Contents/Resources/julia/share/julia/stdlib/v1.6/Sockets/src/IPAddr.jl:55\n",
       "[101] show(io::IO, s::Base.SecretBuffer) in Base at secretbuffer.jl:94\n",
       "[102] show(io::IO, inferred::Core.Compiler.InferenceResult) in Base at show.jl:2379\n",
       "[103] show(io::IO, pkg::Pkg.Types.PackageEntry) in Pkg.Types at /Applications/Julia-1.6.app/Contents/Resources/julia/share/julia/stdlib/v1.6/Pkg/src/Types.jl:224\n",
       "[104] show(io::IO, ms::Base.MethodList) in Base at methodshow.jl:301\n",
       "[105] show(io::IO, tex::Markdown.LaTeX) in Markdown at /Applications/Julia-1.6.app/Contents/Resources/julia/share/julia/stdlib/v1.6/Markdown/src/IPython/IPython.jl:25\n",
       "[106] show(io::IO, err::MbedTLS.MbedException) in MbedTLS at /Users/uqjnazar/.julia/packages/MbedTLS/4YY6E/src/error.jl:13\n",
       "[107] show(io::IO, pkg::Base.PkgId) in Base at pkgid.jl:26\n",
       "[108] show(io::IO, info::Base.Sys.CPUinfo) in Base.Sys at sysinfo.jl:173\n",
       "[109] show(io::IO, m::Module) in Base at show.jl:1010\n",
       "[110] show(io::IO, md::Markdown.MD) in Markdown at /Applications/Julia-1.6.app/Contents/Resources/julia/share/julia/stdlib/v1.6/Markdown/src/render/plain.jl:139\n",
       "[111] show(io::IO, ce::LibGit2.ConfigEntry) in LibGit2 at /Applications/Julia-1.6.app/Contents/Resources/julia/share/julia/stdlib/v1.6/LibGit2/src/types.jl:907\n",
       "[112] show(io::IO, ::Nothing) in Base at show.jl:967\n",
       "[113] show(io::IO, stream::Sockets.UDPSocket) in Sockets at /Applications/Julia-1.6.app/Contents/Resources/julia/share/julia/stdlib/v1.6/Sockets/src/Sockets.jl:203\n",
       "[114] show(io::IO, tn::Core.TypeName) in Base at show.jl:961\n",
       "[115] show(io::IO, tag::LibGit2.GitTag) in LibGit2 at /Applications/Julia-1.6.app/Contents/Resources/julia/share/julia/stdlib/v1.6/LibGit2/src/tag.jl:88\n",
       "[116] show(io::IO, fh::LibGit2.FetchHead) in LibGit2 at /Applications/Julia-1.6.app/Contents/Resources/julia/share/julia/stdlib/v1.6/LibGit2/src/types.jl:883\n",
       "[117] show(io::IO, info::MbedTLS.MDInfo) in MbedTLS at /Users/uqjnazar/.julia/packages/MbedTLS/4YY6E/src/md.jl:57\n",
       "[118] show(io::IO, diff::LibGit2.GitDiff) in LibGit2 at /Applications/Julia-1.6.app/Contents/Resources/julia/share/julia/stdlib/v1.6/LibGit2/src/diff.jl:138\n",
       "[119] show(io::IO, diff_stat::LibGit2.GitDiffStats) in LibGit2 at /Applications/Julia-1.6.app/Contents/Resources/julia/share/julia/stdlib/v1.6/LibGit2/src/diff.jl:131\n",
       "[120] show(io::IO, p::Base.BinaryPlatforms.Platform) in Base.BinaryPlatforms at binaryplatforms.jl:172\n",
       "[121] show(io::IO, hash::Base.SHA1) in Base at loading.jl:108\n",
       "[122] show(io::IO, rb::LibGit2.GitRebase) in LibGit2 at /Applications/Julia-1.6.app/Contents/Resources/julia/share/julia/stdlib/v1.6/LibGit2/src/rebase.jl:65\n",
       "[123] show(io::IO, cmd::Cmd) in Base at cmd.jl:111\n",
       "[124] show(io::IO, s::REPL.LineEdit.PrefixSearchState) in REPL.LineEdit at /Applications/Julia-1.6.app/Contents/Resources/julia/share/julia/stdlib/v1.6/REPL/src/LineEdit.jl:1779\n",
       "[125] show(io::IO, x::Dates.CompoundPeriod) in Dates at /Applications/Julia-1.6.app/Contents/Resources/julia/share/julia/stdlib/v1.6/Dates/src/periods.jl:348\n",
       "[126] show(io::IO, n::StatsBase.NoQuote) in StatsBase at /Users/uqjnazar/.julia/packages/StatsBase/IiL4F/src/statmodels.jl:538\n",
       "[127] show(io::IO, sig::LibGit2.Signature) in LibGit2 at /Applications/Julia-1.6.app/Contents/Resources/julia/share/julia/stdlib/v1.6/LibGit2/src/signature.jl:58\n",
       "[128] show(io::IO, a::Pkg.Resolve.VersionWeight) in Pkg.Resolve at /Applications/Julia-1.6.app/Contents/Resources/julia/share/julia/stdlib/v1.6/Pkg/src/Resolve/versionweights.jl:36\n",
       "[129] show(io::IO, level::Base.CoreLogging.LogLevel) in Base.CoreLogging at logging.jl:142\n",
       "[130] show(io::IO, fd::RawFD) in Base.Libc at libc.jl:41\n",
       "[131] show(io::IO, t::Test.Pass) in Test at /Applications/Julia-1.6.app/Contents/Resources/julia/share/julia/stdlib/v1.6/Test/src/Test.jl:92\n",
       "[132] show(io::IO, code::Core.Compiler.IRCode) in Base.IRShow at compiler/ssair/show.jl:327\n",
       "[133] show(io::IO, ::SHA.SHA2_384_CTX) in SHA at /Applications/Julia-1.6.app/Contents/Resources/julia/share/julia/stdlib/v1.6/SHA/src/types.jl:221\n",
       "[134] show(io::IO, l::Core.MethodInstance) in Base at show.jl:1037\n",
       "[135] show(io::IO, ::SHA.SHA3_224_CTX) in SHA at /Applications/Julia-1.6.app/Contents/Resources/julia/share/julia/stdlib/v1.6/SHA/src/types.jl:223\n",
       "[136] show(io::IO, ct::StatsBase.CoefTable) in StatsBase at /Users/uqjnazar/.julia/packages/StatsBase/IiL4F/src/statmodels.jl:540\n",
       "[137] show(io::IO, x::StatsBase.TestStat) in StatsBase at /Users/uqjnazar/.julia/packages/StatsBase/IiL4F/src/statmodels.jl:507\n",
       "[138] show(io::IO, t::Dates.Time) in Dates at /Applications/Julia-1.6.app/Contents/Resources/julia/share/julia/stdlib/v1.6/Dates/src/io.jl:57\n",
       "[139] show(io::IO, opt::Base.JLOptions) in Base at options.jl:59\n",
       "[140] show(io::IO, t::Test.Error) in Test at /Applications/Julia-1.6.app/Contents/Resources/julia/share/julia/stdlib/v1.6/Test/src/Test.jl:180\n",
       "[141] show(io::IO, repo::LibGit2.GitRepo) in LibGit2 at /Applications/Julia-1.6.app/Contents/Resources/julia/share/julia/stdlib/v1.6/LibGit2/src/repository.jl:515\n",
       "[142] show(io::IO, s::REPL.LineEdit.MIState) in REPL.LineEdit at /Applications/Julia-1.6.app/Contents/Resources/julia/share/julia/stdlib/v1.6/REPL/src/LineEdit.jl:80\n",
       "[143] show(io::IO, s::Symbol) in Base at show.jl:1145\n",
       "[144] show(io::IO, x::BigInt) in Base.GMP at gmp.jl:680\n",
       "[145] show(io::IO, n::Signed) in Base at show.jl:969\n",
       "[146] show(io::IO, p::Base.Process) in Base at process.jl:634\n",
       "[147] show(io::IO, st::Base.Filesystem.StatStruct) in Base.Filesystem at stat.jl:60\n",
       "[148] show(io::IO, ::SHA.SHA3_256_CTX) in SHA at /Applications/Julia-1.6.app/Contents/Resources/julia/share/julia/stdlib/v1.6/SHA/src/types.jl:224\n",
       "[149] show(io::IO, s::Base.BufferStream) in Base at stream.jl:1328\n",
       "[150] show(io::IO, stream::Base.LibuvStream) in Base at stream.jl:263\n",
       "[151] show(io::IO, ::SHA.SHA3_512_CTX) in SHA at /Applications/Julia-1.6.app/Contents/Resources/julia/share/julia/stdlib/v1.6/SHA/src/types.jl:226\n",
       "[152] show(io::IO, f::Pkg.Resolve.Fixed) in Pkg.Resolve at /Applications/Julia-1.6.app/Contents/Resources/julia/share/julia/stdlib/v1.6/Pkg/src/Resolve/Resolve.jl:26\n",
       "[153] show(io::IO, s::Distributions.AliasTable) in Distributions at /Users/uqjnazar/.julia/packages/Distributions/fXTVC/src/samplers/aliastable.jl:23\n",
       "[154] show(io::IO, ::MIME{Symbol(\"text/csv\")}, a) in DelimitedFiles at /Applications/Julia-1.6.app/Contents/Resources/julia/share/julia/stdlib/v1.6/DelimitedFiles/src/DelimitedFiles.jl:828\n",
       "[155] show(io::IO, c::LibGit2.GitCommit) in LibGit2 at /Applications/Julia-1.6.app/Contents/Resources/julia/share/julia/stdlib/v1.6/LibGit2/src/commit.jl:60\n",
       "[156] show(io::IO, dt::Dates.DateTime) in Dates at /Applications/Julia-1.6.app/Contents/Resources/julia/share/julia/stdlib/v1.6/Dates/src/io.jl:615\n",
       "[157] show(io::IO, ::SHA.SHA1_CTX) in SHA at /Applications/Julia-1.6.app/Contents/Resources/julia/share/julia/stdlib/v1.6/SHA/src/types.jl:218\n",
       "[158] show(io::IO, ex::Base.PrecompilableError) in Base at loading.jl:816\n",
       "[159] show(io::IO, ::SHA.SHA2_256_CTX) in SHA at /Applications/Julia-1.6.app/Contents/Resources/julia/share/julia/stdlib/v1.6/SHA/src/types.jl:220\n",
       "[160] show(io::IO, md::MbedTLS.MD{false}) in MbedTLS at /Users/uqjnazar/.julia/packages/MbedTLS/4YY6E/src/md.jl:65\n",
       "[161] show(io::IO, s::Pkg.Types.VersionSpec) in Pkg.Types at /Applications/Julia-1.6.app/Contents/Resources/julia/share/julia/stdlib/v1.6/Pkg/src/versions.jl:281\n",
       "[162] show(io::IO, cmds::Base.AndCmds) in Base at cmd.jl:139\n",
       "[163] show(io::IO, tree::LibGit2.GitTree) in LibGit2 at /Applications/Julia-1.6.app/Contents/Resources/julia/share/julia/stdlib/v1.6/LibGit2/src/tree.jl:149\n",
       "[164] show(io::IO, m::RegexMatch) in Base at regex.jl:156\n",
       "[165] show(io::IO, ::SHA.SHA3_384_CTX) in SHA at /Applications/Julia-1.6.app/Contents/Resources/julia/share/julia/stdlib/v1.6/SHA/src/types.jl:225\n",
       "[166] show(io::IO, dd::LibGit2.DiffDelta) in LibGit2 at /Applications/Julia-1.6.app/Contents/Resources/julia/share/julia/stdlib/v1.6/LibGit2/src/types.jl:554\n",
       "[167] show(io::IO, pv::StatsBase.PValue) in StatsBase at /Users/uqjnazar/.julia/packages/StatsBase/IiL4F/src/statmodels.jl:491\n",
       "[168] show(io::IO, cr::Base.CmdRedirect) in Base at cmd.jl:180\n",
       "[169] show(io::IO, msg::IJulia.Msg) in IJulia at /Users/uqjnazar/.julia/packages/IJulia/e8kqU/src/msg.jl:37\n",
       "[170] show(io::IO, ref::LibGit2.GitReference) in LibGit2 at /Applications/Julia-1.6.app/Contents/Resources/julia/share/julia/stdlib/v1.6/LibGit2/src/reference.jl:170\n",
       "[171] show(io::IO, md::MbedTLS.MD{true}) in MbedTLS at /Users/uqjnazar/.julia/packages/MbedTLS/4YY6E/src/md.jl:61\n",
       "[172] show(io::IO, x::ChainRulesCore.NotImplemented) in ChainRulesCore at /Users/uqjnazar/.julia/packages/ChainRulesCore/GciYT/src/differentials/notimplemented.jl:59\n",
       "[173] show(io::IO, cipher::MbedTLS.Cipher) in MbedTLS at /Users/uqjnazar/.julia/packages/MbedTLS/4YY6E/src/cipher.jl:184\n",
       "[174] show(io::IO, s::IOStream) in Base at iostream.jl:35\n",
       "[175] show(io::IO, opt::Pkg.REPLMode.Option) in Pkg.REPLMode at /Applications/Julia-1.6.app/Contents/Resources/julia/share/julia/stdlib/v1.6/Pkg/src/REPLMode/REPLMode.jl:145\n",
       "[176] show(io::IO, result::LibGit2.GitDescribeResult) in LibGit2 at /Applications/Julia-1.6.app/Contents/Resources/julia/share/julia/stdlib/v1.6/LibGit2/src/repository.jl:341\n",
       "[177] show(io::IO, t::Test.Fail) in Test at /Applications/Julia-1.6.app/Contents/Resources/julia/share/julia/stdlib/v1.6/Test/src/Test.jl:128\n",
       "[178] show(io::IO, f::Core.IntrinsicFunction) in Base at show.jl:470\n",
       "[179] show(io::IO, f::Function) in Base at show.jl:467\n",
       "[180] show(io::IO, ie::LibGit2.IndexEntry) in LibGit2 at /Applications/Julia-1.6.app/Contents/Resources/julia/share/julia/stdlib/v1.6/LibGit2/src/types.jl:741\n",
       "[181] show(io::IO, x::REPL.LineEdit.Prompt) in REPL.LineEdit at /Applications/Julia-1.6.app/Contents/Resources/julia/share/julia/stdlib/v1.6/REPL/src/LineEdit.jl:59\n",
       "[182] show(io::IO, b::BigFloat) in Base.MPFR at mpfr.jl:1002\n",
       "[183] show(io::IO, v::VersionNumber) in Base at version.jl:86\n",
       "[184] show(io::IO, ex::Test.TestSetException) in Test at /Applications/Julia-1.6.app/Contents/Resources/julia/share/julia/stdlib/v1.6/Test/src/Test.jl:737\n",
       "[185] show(io::IO, t::Test.Broken) in Test at /Applications/Julia-1.6.app/Contents/Resources/julia/share/julia/stdlib/v1.6/Test/src/Test.jl:221\n",
       "[186] show(io::IO, id::LibGit2.GitShortHash) in LibGit2 at /Applications/Julia-1.6.app/Contents/Resources/julia/share/julia/stdlib/v1.6/LibGit2/src/oid.jl:184\n",
       "[187] show(io::IO, s::DataStructures.IntSet) in DataStructures at /Users/uqjnazar/.julia/packages/DataStructures/ixwFs/src/int_set.jl:196\n",
       "[188] show(io::IO, ::MIME{Symbol(\"text/latex\")}, md::Markdown.MD) in Markdown at /Applications/Julia-1.6.app/Contents/Resources/julia/share/julia/stdlib/v1.6/Markdown/src/render/latex.jl:174\n",
       "[189] show(io::IO, manager::Distributed.SSHManager) in Distributed at /Applications/Julia-1.6.app/Contents/Resources/julia/share/julia/stdlib/v1.6/Distributed/src/managers.jl:181\n",
       "[190] show(io::IO, mt::Core.MethodTable) in Base at methodshow.jl:302\n",
       "[191] show(io::IO, m::Method) in Base at methodshow.jl:204\n",
       "[192] show(io::IO, blame_hunk::LibGit2.BlameHunk) in LibGit2 at /Applications/Julia-1.6.app/Contents/Resources/julia/share/julia/stdlib/v1.6/LibGit2/src/blame.jl:47\n",
       "[193] show(io::IO, df::Dates.DateFunction) in Dates at /Applications/Julia-1.6.app/Contents/Resources/julia/share/julia/stdlib/v1.6/Dates/src/adjusters.jl:196\n",
       "[194] show(io::IO, err::LibGit2.Error.GitError) in LibGit2.Error at /Applications/Julia-1.6.app/Contents/Resources/julia/share/julia/stdlib/v1.6/LibGit2/src/error.jl:82\n",
       "[195] show(io::IO, crt::MbedTLS.CRT) in MbedTLS at /Users/uqjnazar/.julia/packages/MbedTLS/4YY6E/src/x509_crt.jl:16\n",
       "[196] show(io::IO, hdr::Tar.Header) in Tar at /Applications/Julia-1.6.app/Contents/Resources/julia/share/julia/stdlib/v1.6/Tar/src/header.jl:33\n",
       "[197] show(io::IO, u::Base.UUID) in Base at uuid.jl:99\n",
       "[198] show(io::IO, a::Pkg.Resolve.FieldValue) in Pkg.Resolve at /Applications/Julia-1.6.app/Contents/Resources/julia/share/julia/stdlib/v1.6/Pkg/src/Resolve/fieldvalues.jl:25\n",
       "[199] show(io::IO, b::Base.Docs.Binding) in Base.Docs at docs/bindings.jl:35\n",
       "[200] show(io::IO, t::Test.LogTestFailure) in Test at /Applications/Julia-1.6.app/Contents/Resources/julia/share/julia/stdlib/v1.6/Test/src/logging.jl:66\n",
       "[201] show(io::IO, rbo::LibGit2.RebaseOperation) in LibGit2 at /Applications/Julia-1.6.app/Contents/Resources/julia/share/julia/stdlib/v1.6/LibGit2/src/types.jl:804\n",
       "[202] show(io::IO, ::SHA.SHA2_224_CTX) in SHA at /Applications/Julia-1.6.app/Contents/Resources/julia/share/julia/stdlib/v1.6/SHA/src/types.jl:219\n",
       "[203] show(io::IO, blob::LibGit2.GitBlob) in LibGit2 at /Applications/Julia-1.6.app/Contents/Resources/julia/share/julia/stdlib/v1.6/LibGit2/src/blob.jl:76\n",
       "[204] show(io::IO, rmt::LibGit2.GitRemote) in LibGit2 at /Applications/Julia-1.6.app/Contents/Resources/julia/share/julia/stdlib/v1.6/LibGit2/src/remote.jl:341\n",
       "[205] show(io::IO, ::MIME{Symbol(\"text/html\")}, m::Method) in Base at methodshow.jl:354\n",
       "[206] show(io::IO, mime::MIME{Symbol(\"text/html\")}, ms::Base.MethodList) in Base at methodshow.jl:396\n",
       "[207] show(io::IO, mime::MIME{Symbol(\"text/html\")}, mt::Core.MethodTable) in Base at methodshow.jl:408\n",
       "[208] show(io::IO, mime::MIME{Symbol(\"text/html\")}, mt::AbstractVector{Method}) in Base at methodshow.jl:427\n",
       "[209] show(io::IO, ::MIME{Symbol(\"text/html\")}, h::HTML{var\"#s832\"} where var\"#s832\"<:Function) in Base.Docs at docs/utils.jl:35\n",
       "[210] show(io::IO, ::MIME{Symbol(\"text/html\")}, h::HTML) in Base.Docs at docs/utils.jl:34\n",
       "[211] show(io::IO, ::MIME{Symbol(\"text/html\")}, md::Markdown.MD) in Markdown at /Applications/Julia-1.6.app/Contents/Resources/julia/share/julia/stdlib/v1.6/Markdown/src/render/html.jl:187\n",
       "[212] show(io::IO, tv::TypeVar) in Base at show.jl:2298\n",
       "[213] show(io::IO, dt::Dates.Date) in Dates at /Applications/Julia-1.6.app/Contents/Resources/julia/share/julia/stdlib/v1.6/Dates/src/io.jl:615\n",
       "[214] show(io::IO, ::SHA.SHA2_512_CTX) in SHA at /Applications/Julia-1.6.app/Contents/Resources/julia/share/julia/stdlib/v1.6/SHA/src/types.jl:222\n",
       "[215] show(io::IO, re::Regex) in Base at regex.jl:118\n",
       "[216] show(io::IO, ::MIME{Symbol(\"text/plain\")}, iter::Union{Base.KeySet, Base.ValueIterator}) in Base at show.jl:49\n",
       "[217] show(io::IO, mime::MIME{Symbol(\"text/plain\")}, F::Union{LinearAlgebra.QR, LinearAlgebra.QRCompactWY, LinearAlgebra.QRPivoted}) in LinearAlgebra at /Applications/Julia-1.6.app/Contents/Resources/julia/share/julia/stdlib/v1.6/LinearAlgebra/src/qr.jl:410\n",
       "[218] show(io::IO, mime::MIME{Symbol(\"text/plain\")}, F::Union{LinearAlgebra.Eigen, LinearAlgebra.GeneralizedEigen}) in LinearAlgebra at /Applications/Julia-1.6.app/Contents/Resources/julia/share/julia/stdlib/v1.6/LinearAlgebra/src/eigen.jl:609\n",
       "[219] show(io::IO, ::MIME{Symbol(\"text/plain\")}, x::Union{FillArrays.AbstractFill, FillArrays.Eye{T, Axes, Axes} where {T, Axes, Axes}}) in FillArrays at /Users/uqjnazar/.julia/packages/FillArrays/5CbY2/src/FillArrays.jl:621\n",
       "[220] show(io::IO, ::MIME{Symbol(\"text/plain\")}, x::LinearAlgebra.Adjoint{var\"#s832\", var\"#s831\"} where {var\"#s832\", var\"#s831\"<:LinearAlgebra.Factorization}) in LinearAlgebra at /Applications/Julia-1.6.app/Contents/Resources/julia/share/julia/stdlib/v1.6/LinearAlgebra/src/factorization.jl:76\n",
       "[221] show(io::IO, mime::MIME{Symbol(\"text/plain\")}, F::LinearAlgebra.SVD{var\"#s832\", var\"#s831\", var\"#s830\"} where {var\"#s832\", var\"#s831\", var\"#s830\"<:AbstractArray}) in LinearAlgebra at /Applications/Julia-1.6.app/Contents/Resources/julia/share/julia/stdlib/v1.6/LinearAlgebra/src/svd.jl:238\n",
       "[222] show(io::IO, ::MIME{Symbol(\"text/plain\")}, c::ComposedFunction) in Base at show.jl:47\n",
       "[223] show(io::IO, mime::MIME{Symbol(\"text/plain\")}, itr::Missings.SkipMissings{V, T} where T) where V in Missings at /Users/uqjnazar/.julia/packages/Missings/sx5js/src/Missings.jl:306\n",
       "[224] show(io::IO, mime::MIME{Symbol(\"text/plain\")}, F::SuiteSparse.SPQR.QRSparse) in SuiteSparse.SPQR at /Applications/Julia-1.6.app/Contents/Resources/julia/share/julia/stdlib/v1.6/SuiteSparse/src/spqr.jl:350\n",
       "[225] show(io::IO, ::MIME{Symbol(\"text/plain\")}, r::LinRange) in Base at show.jl:13\n",
       "[226] show(io::IO, mime::MIME{Symbol(\"text/plain\")}, S::SharedArrays.SharedArray) in SharedArrays at /Applications/Julia-1.6.app/Contents/Resources/julia/share/julia/stdlib/v1.6/SharedArrays/src/SharedArrays.jl:496\n",
       "[227] show(io::IO, mime::MIME{Symbol(\"text/plain\")}, C::LinearAlgebra.CholeskyPivoted{var\"#s832\", var\"#s831\"} where {var\"#s832\", var\"#s831\"<:(AbstractMatrix{T} where T)}) in LinearAlgebra at /Applications/Julia-1.6.app/Contents/Resources/julia/share/julia/stdlib/v1.6/LinearAlgebra/src/cholesky.jl:496\n",
       "[228] show(io::IO, mime::MIME{Symbol(\"text/plain\")}, F::LinearAlgebra.Schur) in LinearAlgebra at /Applications/Julia-1.6.app/Contents/Resources/julia/share/julia/stdlib/v1.6/LinearAlgebra/src/schur.jl:200\n",
       "[229] show(io::IO, mime::MIME{Symbol(\"text/plain\")}, F::LinearAlgebra.GeneralizedSVD{var\"#s832\", var\"#s831\"} where {var\"#s832\", var\"#s831\"<:AbstractArray}) in LinearAlgebra at /Applications/Julia-1.6.app/Contents/Resources/julia/share/julia/stdlib/v1.6/LinearAlgebra/src/svd.jl:475\n",
       "[230] show(io::IO, ::MIME{Symbol(\"text/plain\")}, x::Irrational{sym}) where sym in Base at irrationals.jl:31\n",
       "[231] show(io::IO, ::MIME{Symbol(\"text/plain\")}, r::AbstractRange) in Base at show.jl:11\n",
       "[232] show(io::IO, ::MIME{Symbol(\"text/plain\")}, x::Dates.Period) in Dates at /Applications/Julia-1.6.app/Contents/Resources/julia/share/julia/stdlib/v1.6/Dates/src/periods.jl:51\n",
       "[233] show(io::IO, ::MIME{Symbol(\"text/plain\")}, c::Channel) in Base at channels.jl:446\n",
       "[234] show(io::IO, ::MIME{Symbol(\"text/plain\")}, x::LinearAlgebra.Transpose{var\"#s832\", var\"#s831\"} where {var\"#s832\", var\"#s831\"<:LinearAlgebra.Factorization}) in LinearAlgebra at /Applications/Julia-1.6.app/Contents/Resources/julia/share/julia/stdlib/v1.6/LinearAlgebra/src/factorization.jl:80\n",
       "[235] show(io::IO, mime::MIME{Symbol(\"text/plain\")}, F::LinearAlgebra.LDLt) in LinearAlgebra at /Applications/Julia-1.6.app/Contents/Resources/julia/share/julia/stdlib/v1.6/LinearAlgebra/src/ldlt.jl:80\n",
       "[236] show(io::IO, ::MIME{Symbol(\"text/plain\")}, J::LinearAlgebra.UniformScaling) in LinearAlgebra at /Applications/Julia-1.6.app/Contents/Resources/julia/share/julia/stdlib/v1.6/LinearAlgebra/src/uniformscaling.jl:113\n",
       "[237] show(io::IO, mime::MIME{Symbol(\"text/plain\")}, F::LinearAlgebra.Hessenberg) in LinearAlgebra at /Applications/Julia-1.6.app/Contents/Resources/julia/share/julia/stdlib/v1.6/LinearAlgebra/src/hessenberg.jl:424\n",
       "[238] show(io::IO, ::MIME{Symbol(\"text/plain\")}, t::AbstractDict{K, V}) where {K, V} in Base at show.jl:80\n",
       "[239] show(io::IO, ::MIME{Symbol(\"text/plain\")}, C::LinearAlgebra.LQ) in LinearAlgebra at /Applications/Julia-1.6.app/Contents/Resources/julia/share/julia/stdlib/v1.6/LinearAlgebra/src/lq.jl:144\n",
       "[240] show(io::IO, ::MIME{Symbol(\"text/plain\")}, FC::SuiteSparse.CHOLMOD.FactorComponent) in SuiteSparse.CHOLMOD at /Applications/Julia-1.6.app/Contents/Resources/julia/share/julia/stdlib/v1.6/SuiteSparse/src/cholmod.jl:1146\n",
       "[241] show(io::IO, ::MIME{Symbol(\"text/plain\")}, t::AbstractSet{T}) where T in Base at show.jl:152\n",
       "[242] show(io::IO, mime::MIME{Symbol(\"text/plain\")}, B::LinearAlgebra.BunchKaufman) in LinearAlgebra at /Applications/Julia-1.6.app/Contents/Resources/julia/share/julia/stdlib/v1.6/LinearAlgebra/src/bunchkaufman.jl:328\n",
       "[243] show(io::IO, mime::MIME{Symbol(\"text/plain\")}, C::LinearAlgebra.Cholesky{var\"#s832\", var\"#s831\"} where {var\"#s832\", var\"#s831\"<:(AbstractMatrix{T} where T)}) in LinearAlgebra at /Applications/Julia-1.6.app/Contents/Resources/julia/share/julia/stdlib/v1.6/LinearAlgebra/src/cholesky.jl:486\n",
       "[244] show(io::IO, ::MIME{Symbol(\"text/plain\")}, c::T) where T<:AbstractChar in Base at char.jl:296\n",
       "[245] show(io::IO, mime::MIME{Symbol(\"text/plain\")}, F::LinearAlgebra.GeneralizedSchur) in LinearAlgebra at /Applications/Julia-1.6.app/Contents/Resources/julia/share/julia/stdlib/v1.6/LinearAlgebra/src/schur.jl:362\n",
       "[246] show(io::IO, mime::MIME{Symbol(\"text/plain\")}, r::Core.Compiler.UnitRange) in Base at show.jl:1054\n",
       "[247] show(io::IO, ::MIME{Symbol(\"text/plain\")}, op::Base.Broadcast.BroadcastFunction) in Base.Broadcast at broadcast.jl:1357\n",
       "[248] show(io::IO, ::MIME{Symbol(\"text/plain\")}, f::Function) in Base at show.jl:24\n",
       "[249] show(io::IO, ::MIME{Symbol(\"text/plain\")}, x::Enum) in Base.Enums at Enums.jl:43\n",
       "[250] show(io::IO, ::MIME{Symbol(\"text/plain\")}, F::SuiteSparse.CHOLMOD.Factor) in SuiteSparse.CHOLMOD at /Applications/Julia-1.6.app/Contents/Resources/julia/share/julia/stdlib/v1.6/SuiteSparse/src/cholmod.jl:1147\n",
       "[251] show(io::IO, ::MIME{Symbol(\"text/plain\")}, S::SparseArrays.AbstractSparseMatrixCSC) in SparseArrays at /Applications/Julia-1.6.app/Contents/Resources/julia/share/julia/stdlib/v1.6/SparseArrays/src/sparsematrix.jl:222\n",
       "[252] show(io::IO, ::MIME{Symbol(\"text/plain\")}, x::SparseArrays.AbstractSparseVector{Tv, Ti} where {Tv, Ti}) in SparseArrays at /Applications/Julia-1.6.app/Contents/Resources/julia/share/julia/stdlib/v1.6/SparseArrays/src/sparsevector.jl:876\n",
       "[253] show(io::IO, mime::MIME{Symbol(\"text/plain\")}, mt::AbstractVector{Method}) in Base at methodshow.jl:411\n",
       "[254] show(io::IO, ::MIME{Symbol(\"text/plain\")}, X::AbstractArray) in Base at arrayshow.jl:332\n",
       "[255] show(io::IO, mime::MIME{Symbol(\"text/plain\")}, F::SuiteSparse.UMFPACK.UmfpackLU) in SuiteSparse.UMFPACK at /Applications/Julia-1.6.app/Contents/Resources/julia/share/julia/stdlib/v1.6/SuiteSparse/src/umfpack.jl:252\n",
       "[256] show(io::IO, mime::MIME{Symbol(\"text/plain\")}, F::LinearAlgebra.LU) in LinearAlgebra at /Applications/Julia-1.6.app/Contents/Resources/julia/share/julia/stdlib/v1.6/LinearAlgebra/src/lu.jl:327\n",
       "[257] show(io::IO, ::MIME{Symbol(\"text/plain\")}, u::UndefInitializer) in Base at show.jl:3\n",
       "[258] show(io::IO, ::MIME{Symbol(\"text/plain\")}, dt::Dates.DateTime) in Dates at /Applications/Julia-1.6.app/Contents/Resources/julia/share/julia/stdlib/v1.6/Dates/src/io.jl:613\n",
       "[259] show(io::IO, ::MIME{Symbol(\"text/plain\")}, t::Task) in Base at show.jl:205\n",
       "[260] show(io::IO, ::MIME{Symbol(\"text/plain\")}, t::Dates.Time) in Dates at /Applications/Julia-1.6.app/Contents/Resources/julia/share/julia/stdlib/v1.6/Dates/src/io.jl:54\n",
       "[261] show(io::IO, ::MIME{Symbol(\"text/plain\")}, opt::Base.JLOptions) in Base at show.jl:189\n",
       "[262] show(io::IO, ::MIME{Symbol(\"text/plain\")}, dt::Dates.Date) in Dates at /Applications/Julia-1.6.app/Contents/Resources/julia/share/julia/stdlib/v1.6/Dates/src/io.jl:613\n",
       "[263] show(io::IO, ::MIME{Symbol(\"text/plain\")}, md::Markdown.MD) in Markdown at /Applications/Julia-1.6.app/Contents/Resources/julia/share/julia/stdlib/v1.6/Markdown/src/render/terminal/render.jl:176\n",
       "[264] show(io::IO, ::MIME{Symbol(\"text/plain\")}, ::Core.TypeofBottom) in Base at show.jl:480\n",
       "[265] show(io::IO, m::MIME{Symbol(\"text/plain\")}, t::Type{var\"#s832\"} where var\"#s832\"<:Enum) in Base.Enums at Enums.jl:50\n",
       "[266] show(io::IO, ::MIME{Symbol(\"text/plain\")}, x::Type) in Base at show.jl:793\n",
       "[267] show(io::IO, ::MIME{Symbol(\"text/plain\")}, x) in Base.Multimedia at multimedia.jl:47\n",
       "[268] show(io::IO, ip::Sockets.IPv6) in Sockets at /Applications/Julia-1.6.app/Contents/Resources/julia/share/julia/stdlib/v1.6/Sockets/src/IPAddr.jl:120\n",
       "[269] show(io::IO, v::Core.SimpleVector) in Base at show.jl:1143\n",
       "[270] show(io::IO, err::Sockets.DNSError) in Sockets at /Applications/Julia-1.6.app/Contents/Resources/julia/share/julia/stdlib/v1.6/Sockets/src/addrinfo.jl:15\n",
       "[271] show(io::IO, ::UndefInitializer) in Base at show.jl:2612\n",
       "[272] show(io::IO, mi_info::Core.Compiler.Timings.InferenceFrameInfo) in Base at show.jl:1056\n",
       "[273] show(io::IO, b::Bool) in Base at show.jl:968\n",
       "[274] show(io::IO, ip::Base.InterpreterIP) in Base at errorshow.jl:890\n",
       "[275] show(io::IO, pkg::Pkg.Types.PackageSpec) in Pkg.Types at /Applications/Julia-1.6.app/Contents/Resources/julia/share/julia/stdlib/v1.6/Pkg/src/Types.jl:112\n",
       "[276] show(io::IO, r::Pkg.Types.VersionRange) in Pkg.Types at /Applications/Julia-1.6.app/Contents/Resources/julia/share/julia/stdlib/v1.6/Pkg/src/versions.jl:176\n",
       "[277] show(io::IO, cfg::Core.Compiler.CFG) in Base.IRShow at compiler/ssair/show.jl:15\n",
       "[278] show(io::IO, ::MIME{Symbol(\"text/rst\")}, md::Markdown.MD) in Markdown at /Applications/Julia-1.6.app/Contents/Resources/julia/share/julia/stdlib/v1.6/Markdown/src/render/rst.jl:145\n",
       "[279] show(io::IO, ::Core.Compiler.NativeInterpreter) in Base at show.jl:2389\n",
       "[280] show(io::IO, df::LibGit2.DiffFile) in LibGit2 at /Applications/Julia-1.6.app/Contents/Resources/julia/share/julia/stdlib/v1.6/LibGit2/src/types.jl:521\n",
       "[281] show(io::IO, manager::Distributed.LocalManager) in Distributed at /Applications/Julia-1.6.app/Contents/Resources/julia/share/julia/stdlib/v1.6/Distributed/src/managers.jl:446\n",
       "[282] show(io::IO, ::MIME{Symbol(\"text/tab-separated-values\")}, a) in DelimitedFiles at /Applications/Julia-1.6.app/Contents/Resources/julia/share/julia/stdlib/v1.6/DelimitedFiles/src/DelimitedFiles.jl:829\n",
       "[283] show(io::IO, ::MIME{mime}) where mime in Base.Multimedia at multimedia.jl:50\n",
       "[284] show(io::IO, tinf::Core.Compiler.Timings.Timing) in Base at show.jl:1075\n",
       "[285] show(io::IO, z::Complex{Bool}) in Base at complex.jl:202\n",
       "[286] show(io::IO, z::Complex) in Base at complex.jl:182\n",
       "[287] show(io::IO, s::BitSet) in Base at bitset.jl:367\n",
       "[288] show(io::IO, id::LibGit2.GitHash) in LibGit2 at /Applications/Julia-1.6.app/Contents/Resources/julia/share/julia/stdlib/v1.6/LibGit2/src/oid.jl:183\n",
       "[289] show(io::IO, ::Base.EnvDict) in Base at env.jl:140\n",
       "[290] show(io::IO, t::AbstractDict{K, V}) where {K, V} in Base at dict.jl:24\n",
       "[291] show(io::IO, idx::LibGit2.GitIndex) in LibGit2 at /Applications/Julia-1.6.app/Contents/Resources/julia/share/julia/stdlib/v1.6/LibGit2/src/index.jl:216\n",
       "[292] show(io::IO, t::Task) in Base at task.jl:90\n",
       "[293] show(io::IO, stream::Pipe) in Base at stream.jl:715\n",
       "[294] show(io::IO, src::Core.CodeInfo; debuginfo) in Base at show.jl:2357\n",
       "[295] show(io::IO, te::LibGit2.GitTreeEntry) in LibGit2 at /Applications/Julia-1.6.app/Contents/Resources/julia/share/julia/stdlib/v1.6/LibGit2/src/tree.jl:142\n",
       "[296] show(io::IO, Ω::Soliton) in Distributions at /Users/uqjnazar/.julia/packages/Distributions/fXTVC/src/univariate/discrete/soliton.jl:50\n",
       "[297] show(io::IO, c::MbedTLS.SSLConfig) in MbedTLS at /Users/uqjnazar/.julia/packages/MbedTLS/4YY6E/src/ssl.jl:31\n",
       "[298] show(io::IO, d::DiscreteUniform) in Distributions at /Users/uqjnazar/.julia/packages/Distributions/fXTVC/src/univariate/discrete/discreteuniform.jl:47\n",
       "[299] show(io::IO, d::Distribution) in Distributions at /Users/uqjnazar/.julia/packages/Distributions/fXTVC/src/show.jl:12\n",
       "[300] show(io::IO, d::Distribution, pnames) in Distributions at /Users/uqjnazar/.julia/packages/Distributions/fXTVC/src/show.jl:18\n",
       "[301] show(io::IO, ::Core.TypeofBottom) in Base at show.jl:479\n",
       "[302] show(io::IO, x::Type) in Base at show.jl:812\n",
       "[303] show(io::IO, x) in Base at show.jl:390\n",
       "[304] show(x) in Base at show.jl:392"
      ]
     },
     "execution_count": 42,
     "metadata": {},
     "output_type": "execute_result"
    }
   ],
   "source": [
    "methods(show)"
   ]
  },
  {
   "cell_type": "code",
   "execution_count": null,
   "metadata": {},
   "outputs": [],
   "source": []
  }
 ],
 "metadata": {
  "kernelspec": {
   "display_name": "Julia 1.6.0",
   "language": "julia",
   "name": "julia-1.6"
  },
  "language_info": {
   "file_extension": ".jl",
   "mimetype": "application/julia",
   "name": "julia",
   "version": "1.6.0"
  }
 },
 "nbformat": 4,
 "nbformat_minor": 4
}
