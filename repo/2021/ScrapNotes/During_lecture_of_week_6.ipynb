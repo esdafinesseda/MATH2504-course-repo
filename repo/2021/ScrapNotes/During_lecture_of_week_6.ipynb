{
 "cells": [
  {
   "cell_type": "code",
   "execution_count": 1,
   "metadata": {},
   "outputs": [
    {
     "data": {
      "text/plain": [
       "f (generic function with 1 method)"
      ]
     },
     "execution_count": 1,
     "metadata": {},
     "output_type": "execute_result"
    }
   ],
   "source": [
    "f(x) = x^2"
   ]
  },
  {
   "cell_type": "code",
   "execution_count": 2,
   "metadata": {},
   "outputs": [
    {
     "data": {
      "text/plain": [
       "f (generic function with 2 methods)"
      ]
     },
     "execution_count": 2,
     "metadata": {},
     "output_type": "execute_result"
    }
   ],
   "source": [
    "f(x::Int)::Int = x^2"
   ]
  },
  {
   "cell_type": "code",
   "execution_count": 3,
   "metadata": {},
   "outputs": [
    {
     "data": {
      "text/plain": [
       "f (generic function with 3 methods)"
      ]
     },
     "execution_count": 3,
     "metadata": {},
     "output_type": "execute_result"
    }
   ],
   "source": [
    "f(x::T) where T <: Number = x^2"
   ]
  },
  {
   "cell_type": "code",
   "execution_count": 6,
   "metadata": {},
   "outputs": [
    {
     "data": {
      "text/plain": [
       "f (generic function with 3 methods)"
      ]
     },
     "execution_count": 6,
     "metadata": {},
     "output_type": "execute_result"
    }
   ],
   "source": [
    "function f(x::T) where T <: Number \n",
    "    return x^2\n",
    "end"
   ]
  },
  {
   "cell_type": "code",
   "execution_count": 4,
   "metadata": {},
   "outputs": [
    {
     "data": {
      "text/html": [
       "# 3 methods for generic function <b>f</b>:<ul><li> f(x::<b>Int64</b>) in Main at In[2]:1</li> <li> f(x::<b>T</b>)<i> where T<:Number</i> in Main at In[3]:1</li> <li> f(x) in Main at In[1]:1</li> </ul>"
      ],
      "text/plain": [
       "# 3 methods for generic function \"f\":\n",
       "[1] f(x::Int64) in Main at In[2]:1\n",
       "[2] f(x::T) where T<:Number in Main at In[3]:1\n",
       "[3] f(x) in Main at In[1]:1"
      ]
     },
     "execution_count": 4,
     "metadata": {},
     "output_type": "execute_result"
    }
   ],
   "source": [
    "methods(f)"
   ]
  },
  {
   "cell_type": "code",
   "execution_count": 7,
   "metadata": {},
   "outputs": [
    {
     "data": {
      "text/html": [
       "f(x) in Main at In[1]:1"
      ],
      "text/plain": [
       "f(x) in Main at In[1]:1"
      ]
     },
     "execution_count": 7,
     "metadata": {},
     "output_type": "execute_result"
    }
   ],
   "source": [
    "@which f(\"hello \")"
   ]
  },
  {
   "cell_type": "code",
   "execution_count": 8,
   "metadata": {},
   "outputs": [
    {
     "data": {
      "text/html": [
       "f(x::<b>T</b>)<i> where T<:Number</i> in Main at In[6]:1"
      ],
      "text/plain": [
       "f(x::T) where T<:Number in Main at In[6]:1"
      ]
     },
     "execution_count": 8,
     "metadata": {},
     "output_type": "execute_result"
    }
   ],
   "source": [
    "@which f(2.3)"
   ]
  },
  {
   "cell_type": "code",
   "execution_count": 9,
   "metadata": {},
   "outputs": [
    {
     "data": {
      "text/html": [
       "f(x::<b>T</b>)<i> where T<:Number</i> in Main at In[6]:1"
      ],
      "text/plain": [
       "f(x::T) where T<:Number in Main at In[6]:1"
      ]
     },
     "execution_count": 9,
     "metadata": {},
     "output_type": "execute_result"
    }
   ],
   "source": [
    "@which f(true)"
   ]
  },
  {
   "cell_type": "code",
   "execution_count": 10,
   "metadata": {},
   "outputs": [
    {
     "data": {
      "text/plain": [
       "Bool"
      ]
     },
     "execution_count": 10,
     "metadata": {},
     "output_type": "execute_result"
    }
   ],
   "source": [
    "typeof(true)"
   ]
  },
  {
   "cell_type": "code",
   "execution_count": 11,
   "metadata": {},
   "outputs": [
    {
     "data": {
      "text/plain": [
       "Integer"
      ]
     },
     "execution_count": 11,
     "metadata": {},
     "output_type": "execute_result"
    }
   ],
   "source": [
    "supertype(Bool)"
   ]
  },
  {
   "cell_type": "code",
   "execution_count": 12,
   "metadata": {},
   "outputs": [
    {
     "data": {
      "text/html": [
       "f(x::<b>Int64</b>) in Main at In[2]:1"
      ],
      "text/plain": [
       "f(x::Int64) in Main at In[2]:1"
      ]
     },
     "execution_count": 12,
     "metadata": {},
     "output_type": "execute_result"
    }
   ],
   "source": [
    "@which f(24)"
   ]
  },
  {
   "cell_type": "code",
   "execution_count": 13,
   "metadata": {},
   "outputs": [
    {
     "data": {
      "text/html": [
       "# 70 methods for generic function <b>rand</b>:<ul><li> rand() in Random at <a href=\"file:///Users/julia/buildbot/worker/package_macos64/build/usr/share/julia/stdlib/v1.6/Random/src/Random.jl\" target=\"_blank\">/Applications/Julia-1.6.app/Contents/Resources/julia/share/julia/stdlib/v1.6/Random/src/Random.jl:256</a></li> <li> rand(dims::<b>Integer...</b>) in Random at <a href=\"file:///Users/julia/buildbot/worker/package_macos64/build/usr/share/julia/stdlib/v1.6/Random/src/Random.jl\" target=\"_blank\">/Applications/Julia-1.6.app/Contents/Resources/julia/share/julia/stdlib/v1.6/Random/src/Random.jl:277</a></li> <li> rand(rng::<b>Random.AbstractRNG</b>, sp::<b>Random.Masked</b>) in Random at <a href=\"file:///Users/julia/buildbot/worker/package_macos64/build/usr/share/julia/stdlib/v1.6/Random/src/Random.jl\" target=\"_blank\">/Applications/Julia-1.6.app/Contents/Resources/julia/share/julia/stdlib/v1.6/Random/src/Random.jl:234</a></li> <li> rand(rng::<b>Random.AbstractRNG</b>, sp::<b>Random.SamplerRangeFast{UInt32, T}</b>)<i> where T</i> in Random at <a href=\"file:///Users/julia/buildbot/worker/package_macos64/build/usr/share/julia/stdlib/v1.6/Random/src/generation.jl\" target=\"_blank\">/Applications/Julia-1.6.app/Contents/Resources/julia/share/julia/stdlib/v1.6/Random/src/generation.jl:220</a></li> <li> rand(rng::<b>Random.AbstractRNG</b>, sp::<b>Random.SamplerRangeFast{UInt64, T}</b>)<i> where T</i> in Random at <a href=\"file:///Users/julia/buildbot/worker/package_macos64/build/usr/share/julia/stdlib/v1.6/Random/src/generation.jl\" target=\"_blank\">/Applications/Julia-1.6.app/Contents/Resources/julia/share/julia/stdlib/v1.6/Random/src/generation.jl:227</a></li> <li> rand(rng::<b>Random.AbstractRNG</b>, sp::<b>Random.SamplerRangeFast{UInt128, T}</b>)<i> where T</i> in Random at <a href=\"file:///Users/julia/buildbot/worker/package_macos64/build/usr/share/julia/stdlib/v1.6/Random/src/generation.jl\" target=\"_blank\">/Applications/Julia-1.6.app/Contents/Resources/julia/share/julia/stdlib/v1.6/Random/src/generation.jl:234</a></li> <li> rand(rng::<b>Random.AbstractRNG</b>, ::<b>Random.UniformT{T}</b>)<i> where T</i> in Random at <a href=\"file:///Users/julia/buildbot/worker/package_macos64/build/usr/share/julia/stdlib/v1.6/Random/src/Random.jl\" target=\"_blank\">/Applications/Julia-1.6.app/Contents/Resources/julia/share/julia/stdlib/v1.6/Random/src/Random.jl:242</a></li> <li> rand(r::<b>Random.AbstractRNG</b>, ::<b>Random.SamplerTrivial{Random.UInt104{UInt128}, E} where E</b>) in Random at <a href=\"file:///Users/julia/buildbot/worker/package_macos64/build/usr/share/julia/stdlib/v1.6/Random/src/generation.jl\" target=\"_blank\">/Applications/Julia-1.6.app/Contents/Resources/julia/share/julia/stdlib/v1.6/Random/src/generation.jl:126</a></li> <li> rand(r::<b>Random.AbstractRNG</b>, ::<b>Random.SamplerTrivial{Random.UInt52{UInt64}, E} where E</b>) in Random at <a href=\"file:///Users/julia/buildbot/worker/package_macos64/build/usr/share/julia/stdlib/v1.6/Random/src/generation.jl\" target=\"_blank\">/Applications/Julia-1.6.app/Contents/Resources/julia/share/julia/stdlib/v1.6/Random/src/generation.jl:125</a></li> <li> rand(r::<b>Random.AbstractRNG</b>, ::<b>Random.SamplerTrivial{Random.UInt23{UInt32}, E} where E</b>) in Random at <a href=\"file:///Users/julia/buildbot/worker/package_macos64/build/usr/share/julia/stdlib/v1.6/Random/src/generation.jl\" target=\"_blank\">/Applications/Julia-1.6.app/Contents/Resources/julia/share/julia/stdlib/v1.6/Random/src/generation.jl:124</a></li> <li> rand(r::<b>Random.AbstractRNG</b>, ::<b>Random.SamplerTrivial{Random.UInt10{UInt16}, E} where E</b>) in Random at <a href=\"file:///Users/julia/buildbot/worker/package_macos64/build/usr/share/julia/stdlib/v1.6/Random/src/generation.jl\" target=\"_blank\">/Applications/Julia-1.6.app/Contents/Resources/julia/share/julia/stdlib/v1.6/Random/src/generation.jl:123</a></li> <li> rand(r::<b>Random.AbstractRNG</b>, ::<b>Random.SamplerTrivial{Random.UInt23Raw{UInt32}, E} where E</b>) in Random at <a href=\"file:///Users/julia/buildbot/worker/package_macos64/build/usr/share/julia/stdlib/v1.6/Random/src/generation.jl\" target=\"_blank\">/Applications/Julia-1.6.app/Contents/Resources/julia/share/julia/stdlib/v1.6/Random/src/generation.jl:112</a></li> <li> rand(r::<b>Random.AbstractRNG</b>, ::<b>Random.SamplerTrivial{Random.UInt10Raw{UInt16}, E} where E</b>) in Random at <a href=\"file:///Users/julia/buildbot/worker/package_macos64/build/usr/share/julia/stdlib/v1.6/Random/src/generation.jl\" target=\"_blank\">/Applications/Julia-1.6.app/Contents/Resources/julia/share/julia/stdlib/v1.6/Random/src/generation.jl:111</a></li> <li> rand(r::<b>Random.AbstractRNG</b>, ::<b>Random.SamplerTrivial{Random.CloseOpen01{Float64}, E} where E</b>) in Random at <a href=\"file:///Users/julia/buildbot/worker/package_macos64/build/usr/share/julia/stdlib/v1.6/Random/src/generation.jl\" target=\"_blank\">/Applications/Julia-1.6.app/Contents/Resources/julia/share/julia/stdlib/v1.6/Random/src/generation.jl:35</a></li> <li> rand(r::<b>Random.AbstractRNG</b>, ::<b>Random.SamplerTrivial{Random.CloseOpen01{Float32}, E} where E</b>) in Random at <a href=\"file:///Users/julia/buildbot/worker/package_macos64/build/usr/share/julia/stdlib/v1.6/Random/src/generation.jl\" target=\"_blank\">/Applications/Julia-1.6.app/Contents/Resources/julia/share/julia/stdlib/v1.6/Random/src/generation.jl:29</a></li> <li> rand(r::<b>Random.AbstractRNG</b>, ::<b>Random.SamplerTrivial{Random.CloseOpen01{Float16}, E} where E</b>) in Random at <a href=\"file:///Users/julia/buildbot/worker/package_macos64/build/usr/share/julia/stdlib/v1.6/Random/src/generation.jl\" target=\"_blank\">/Applications/Julia-1.6.app/Contents/Resources/julia/share/julia/stdlib/v1.6/Random/src/generation.jl:25</a></li> <li> rand(rng::<b>Random.AbstractRNG</b>, sp::<b>Random.SamplerTrivial{Tuple{A}, E} where E</b>)<i> where A</i> in Random at <a href=\"file:///Users/julia/buildbot/worker/package_macos64/build/usr/share/julia/stdlib/v1.6/Random/src/generation.jl\" target=\"_blank\">/Applications/Julia-1.6.app/Contents/Resources/julia/share/julia/stdlib/v1.6/Random/src/generation.jl:495</a></li> <li> rand(rng::<b>Random.AbstractRNG</b>, sp::<b>Random.SamplerRangeNDL{U, T}</b>)<i> where {U, T}</i> in Random at <a href=\"file:///Users/julia/buildbot/worker/package_macos64/build/usr/share/julia/stdlib/v1.6/Random/src/generation.jl\" target=\"_blank\">/Applications/Julia-1.6.app/Contents/Resources/julia/share/julia/stdlib/v1.6/Random/src/generation.jl:330</a></li> <li> rand(r::<b>Random.AbstractRNG</b>, ::<b>Random.SamplerType{Complex{T}}</b>)<i> where T<:Real</i> in Random at <a href=\"file:///Users/julia/buildbot/worker/package_macos64/build/usr/share/julia/stdlib/v1.6/Random/src/generation.jl\" target=\"_blank\">/Applications/Julia-1.6.app/Contents/Resources/julia/share/julia/stdlib/v1.6/Random/src/generation.jl:159</a></li> <li> rand(r::<b>Random.AbstractRNG</b>, ::<b>Random.SamplerType{T}</b>)<i> where T<:AbstractChar</i> in Random at <a href=\"file:///Users/julia/buildbot/worker/package_macos64/build/usr/share/julia/stdlib/v1.6/Random/src/generation.jl\" target=\"_blank\">/Applications/Julia-1.6.app/Contents/Resources/julia/share/julia/stdlib/v1.6/Random/src/generation.jl:165</a></li> <li> rand(rng::<b>Random.AbstractRNG</b>, X::<b>Tuple{Vararg{Int64, N}} where N</b>) in Random at <a href=\"file:///Users/julia/buildbot/worker/package_macos64/build/usr/share/julia/stdlib/v1.6/Random/src/Random.jl\" target=\"_blank\">/Applications/Julia-1.6.app/Contents/Resources/julia/share/julia/stdlib/v1.6/Random/src/Random.jl:255</a></li> <li> rand(rng::<b>Random.AbstractRNG</b>, sp::<b>Random.SamplerBigFloat{T}</b>)<i> where T<:Random.FloatInterval{BigFloat}</i> in Random at <a href=\"file:///Users/julia/buildbot/worker/package_macos64/build/usr/share/julia/stdlib/v1.6/Random/src/generation.jl\" target=\"_blank\">/Applications/Julia-1.6.app/Contents/Resources/julia/share/julia/stdlib/v1.6/Random/src/generation.jl:103</a></li> <li> rand(rng::<b>Random.AbstractRNG</b>, sp::<b>Random.SamplerRangeInt{T, UInt32}</b>)<i> where T<:Union{Int128, Int16, Int32, Int64, Int8, UInt128, UInt16, UInt32, UInt64, UInt8}</i> in Random at <a href=\"file:///Users/julia/buildbot/worker/package_macos64/build/usr/share/julia/stdlib/v1.6/Random/src/generation.jl\" target=\"_blank\">/Applications/Julia-1.6.app/Contents/Resources/julia/share/julia/stdlib/v1.6/Random/src/generation.jl:294</a></li> <li> rand(rng::<b>Random.AbstractRNG</b>, sp::<b>Random.SamplerRangeInt{T, UInt64}</b>)<i> where T<:Union{Int128, Int16, Int32, Int64, Int8, UInt128, UInt16, UInt32, UInt64, UInt8}</i> in Random at <a href=\"file:///Users/julia/buildbot/worker/package_macos64/build/usr/share/julia/stdlib/v1.6/Random/src/generation.jl\" target=\"_blank\">/Applications/Julia-1.6.app/Contents/Resources/julia/share/julia/stdlib/v1.6/Random/src/generation.jl:298</a></li> <li> rand(rng::<b>Random.AbstractRNG</b>, sp::<b>Random.SamplerRangeInt{T, UInt128}</b>)<i> where T<:Union{Int128, Int16, Int32, Int64, Int8, UInt128, UInt16, UInt32, UInt64, UInt8}</i> in Random at <a href=\"file:///Users/julia/buildbot/worker/package_macos64/build/usr/share/julia/stdlib/v1.6/Random/src/generation.jl\" target=\"_blank\">/Applications/Julia-1.6.app/Contents/Resources/julia/share/julia/stdlib/v1.6/Random/src/generation.jl:304</a></li> <li> rand(rng::<b>Random.AbstractRNG</b>, sp::<b>Random.LessThan</b>) in Random at <a href=\"file:///Users/julia/buildbot/worker/package_macos64/build/usr/share/julia/stdlib/v1.6/Random/src/Random.jl\" target=\"_blank\">/Applications/Julia-1.6.app/Contents/Resources/julia/share/julia/stdlib/v1.6/Random/src/Random.jl:222</a></li> <li> rand(rng::<b>Random.AbstractRNG</b>, sp::<b>Random.SamplerTag{var\"#s832\", var\"#s831\", E} where {var\"#s832\"<:Set, var\"#s831\"<:Random.Sampler, E}</b>) in Random at <a href=\"file:///Users/julia/buildbot/worker/package_macos64/build/usr/share/julia/stdlib/v1.6/Random/src/generation.jl\" target=\"_blank\">/Applications/Julia-1.6.app/Contents/Resources/julia/share/julia/stdlib/v1.6/Random/src/generation.jl:423</a></li> <li> rand(rng::<b>Random.AbstractRNG</b>, sp::<b>Random.SamplerSimple{var\"#s832\", var\"#s831\", E} where {var\"#s832\"<:AbstractArray, var\"#s831\"<:Random.Sampler, E}</b>) in Random at <a href=\"file:///Users/julia/buildbot/worker/package_macos64/build/usr/share/julia/stdlib/v1.6/Random/src/generation.jl\" target=\"_blank\">/Applications/Julia-1.6.app/Contents/Resources/julia/share/julia/stdlib/v1.6/Random/src/generation.jl:398</a></li> <li> rand(rng::<b>Random.AbstractRNG</b>, sp::<b>Random.SamplerSimple{var\"#s832\", var\"#s831\", E} where {var\"#s832\"<:Dict, var\"#s831\"<:Random.Sampler, E}</b>) in Random at <a href=\"file:///Users/julia/buildbot/worker/package_macos64/build/usr/share/julia/stdlib/v1.6/Random/src/generation.jl\" target=\"_blank\">/Applications/Julia-1.6.app/Contents/Resources/julia/share/julia/stdlib/v1.6/Random/src/generation.jl:411</a></li> <li> rand(rng::<b>Random.AbstractRNG</b>, sp::<b>Random.SamplerSimple{BitSet, var\"#s832\", E} where {var\"#s832\"<:Random.Sampler, E}</b>) in Random at <a href=\"file:///Users/julia/buildbot/worker/package_macos64/build/usr/share/julia/stdlib/v1.6/Random/src/generation.jl\" target=\"_blank\">/Applications/Julia-1.6.app/Contents/Resources/julia/share/julia/stdlib/v1.6/Random/src/generation.jl:432</a></li> <li> rand(rng::<b>Random.AbstractRNG</b>, sp::<b>Random.SamplerSimple{var\"#s832\", var\"#s831\", E} where {var\"#s832\"<:AbstractString, var\"#s831\"<:Random.Sampler, E}</b>) in Random at <a href=\"file:///Users/julia/buildbot/worker/package_macos64/build/usr/share/julia/stdlib/v1.6/Random/src/generation.jl\" target=\"_blank\">/Applications/Julia-1.6.app/Contents/Resources/julia/share/julia/stdlib/v1.6/Random/src/generation.jl:479</a></li> <li> rand(rng::<b>Random.AbstractRNG</b>, sp::<b>Random.SamplerSimple{Tuple{A, B}, S, E} where {S, E}</b>)<i> where {A, B}</i> in Random at <a href=\"file:///Users/julia/buildbot/worker/package_macos64/build/usr/share/julia/stdlib/v1.6/Random/src/generation.jl\" target=\"_blank\">/Applications/Julia-1.6.app/Contents/Resources/julia/share/julia/stdlib/v1.6/Random/src/generation.jl:503</a></li> <li> rand(rng::<b>Random.AbstractRNG</b>, sp::<b>Random.SamplerSimple{Tuple{A, B, C}, S, E} where {S, E}</b>)<i> where {A, B, C}</i> in Random at <a href=\"file:///Users/julia/buildbot/worker/package_macos64/build/usr/share/julia/stdlib/v1.6/Random/src/generation.jl\" target=\"_blank\">/Applications/Julia-1.6.app/Contents/Resources/julia/share/julia/stdlib/v1.6/Random/src/generation.jl:511</a></li> <li> rand(rng::<b>Random.AbstractRNG</b>, sp::<b>Random.SamplerSimple{T, S, E} where {S, E}</b>)<i> where T<:Tuple</i> in Random at <a href=\"file:///Users/julia/buildbot/worker/package_macos64/build/usr/share/julia/stdlib/v1.6/Random/src/generation.jl\" target=\"_blank\">/Applications/Julia-1.6.app/Contents/Resources/julia/share/julia/stdlib/v1.6/Random/src/generation.jl:531</a></li> <li> rand(rng::<b>Random.AbstractRNG</b>, ::<b>Type{X}</b>)<i> where X</i> in Random at <a href=\"file:///Users/julia/buildbot/worker/package_macos64/build/usr/share/julia/stdlib/v1.6/Random/src/Random.jl\" target=\"_blank\">/Applications/Julia-1.6.app/Contents/Resources/julia/share/julia/stdlib/v1.6/Random/src/Random.jl:256</a></li> <li> rand(r::<b>Random.AbstractRNG</b>, ::<b>Type{X}</b>, d::<b>Integer</b>, dims::<b>Integer...</b>)<i> where X</i> in Random at <a href=\"file:///Users/julia/buildbot/worker/package_macos64/build/usr/share/julia/stdlib/v1.6/Random/src/Random.jl\" target=\"_blank\">/Applications/Julia-1.6.app/Contents/Resources/julia/share/julia/stdlib/v1.6/Random/src/Random.jl:291</a></li> <li> rand(r::<b>Random.AbstractRNG</b>, ::<b>Type{X}</b>, dims::<b>Tuple{Vararg{Int64, N}} where N</b>)<i> where X</i> in Random at <a href=\"file:///Users/julia/buildbot/worker/package_macos64/build/usr/share/julia/stdlib/v1.6/Random/src/Random.jl\" target=\"_blank\">/Applications/Julia-1.6.app/Contents/Resources/julia/share/julia/stdlib/v1.6/Random/src/Random.jl:288</a></li> <li> rand(rng::<b>Random.AbstractRNG</b>, sp::<b>Random.SamplerBigInt</b>) in Random at <a href=\"file:///Users/julia/buildbot/worker/package_macos64/build/usr/share/julia/stdlib/v1.6/Random/src/generation.jl\" target=\"_blank\">/Applications/Julia-1.6.app/Contents/Resources/julia/share/julia/stdlib/v1.6/Random/src/generation.jl:370</a></li> <li> rand(::<b>Type{X}</b>)<i> where X</i> in Random at <a href=\"file:///Users/julia/buildbot/worker/package_macos64/build/usr/share/julia/stdlib/v1.6/Random/src/Random.jl\" target=\"_blank\">/Applications/Julia-1.6.app/Contents/Resources/julia/share/julia/stdlib/v1.6/Random/src/Random.jl:259</a></li> <li> rand(::<b>Type{X}</b>, dims::<b>Tuple{Vararg{Int64, N}} where N</b>)<i> where X</i> in Random at <a href=\"file:///Users/julia/buildbot/worker/package_macos64/build/usr/share/julia/stdlib/v1.6/Random/src/Random.jl\" target=\"_blank\">/Applications/Julia-1.6.app/Contents/Resources/julia/share/julia/stdlib/v1.6/Random/src/Random.jl:289</a></li> <li> rand(::<b>Type{X}</b>, d::<b>Integer</b>, dims::<b>Integer...</b>)<i> where X</i> in Random at <a href=\"file:///Users/julia/buildbot/worker/package_macos64/build/usr/share/julia/stdlib/v1.6/Random/src/Random.jl\" target=\"_blank\">/Applications/Julia-1.6.app/Contents/Resources/julia/share/julia/stdlib/v1.6/Random/src/Random.jl:292</a></li> <li> rand(::<b>Random._GLOBAL_RNG</b>, x::<b>Random.SamplerTrivial{Random.UInt52Raw{UInt64}, E} where E</b>) in Random at <a href=\"file:///Users/julia/buildbot/worker/package_macos64/build/usr/share/julia/stdlib/v1.6/Random/src/RNGs.jl\" target=\"_blank\">/Applications/Julia-1.6.app/Contents/Resources/julia/share/julia/stdlib/v1.6/Random/src/RNGs.jl:413</a></li> <li> rand(::<b>Random._GLOBAL_RNG</b>, x::<b>Random.SamplerTrivial{Random.UInt2x52Raw{UInt128}, E} where E</b>) in Random at <a href=\"file:///Users/julia/buildbot/worker/package_macos64/build/usr/share/julia/stdlib/v1.6/Random/src/RNGs.jl\" target=\"_blank\">/Applications/Julia-1.6.app/Contents/Resources/julia/share/julia/stdlib/v1.6/Random/src/RNGs.jl:413</a></li> <li> rand(::<b>Random._GLOBAL_RNG</b>, x::<b>Random.SamplerTrivial{Random.UInt104Raw{UInt128}, E} where E</b>) in Random at <a href=\"file:///Users/julia/buildbot/worker/package_macos64/build/usr/share/julia/stdlib/v1.6/Random/src/RNGs.jl\" target=\"_blank\">/Applications/Julia-1.6.app/Contents/Resources/julia/share/julia/stdlib/v1.6/Random/src/RNGs.jl:413</a></li> <li> rand(::<b>Random._GLOBAL_RNG</b>, x::<b>Random.SamplerTrivial{Random.CloseOpen12{Float64}, E} where E</b>) in Random at <a href=\"file:///Users/julia/buildbot/worker/package_macos64/build/usr/share/julia/stdlib/v1.6/Random/src/RNGs.jl\" target=\"_blank\">/Applications/Julia-1.6.app/Contents/Resources/julia/share/julia/stdlib/v1.6/Random/src/RNGs.jl:413</a></li> <li> rand(::<b>Random._GLOBAL_RNG</b>, x::<b>Union{Random.SamplerType{Int128}, Random.SamplerType{Int64}, Random.SamplerType{UInt128}, Random.SamplerType{UInt64}}</b>) in Random at <a href=\"file:///Users/julia/buildbot/worker/package_macos64/build/usr/share/julia/stdlib/v1.6/Random/src/RNGs.jl\" target=\"_blank\">/Applications/Julia-1.6.app/Contents/Resources/julia/share/julia/stdlib/v1.6/Random/src/RNGs.jl:413</a></li> <li> rand(::<b>Random._GLOBAL_RNG</b>, x::<b>Union{Random.SamplerType{Bool}, Random.SamplerType{Int16}, Random.SamplerType{Int32}, Random.SamplerType{Int8}, Random.SamplerType{UInt16}, Random.SamplerType{UInt32}, Random.SamplerType{UInt8}}</b>) in Random at <a href=\"file:///Users/julia/buildbot/worker/package_macos64/build/usr/share/julia/stdlib/v1.6/Random/src/RNGs.jl\" target=\"_blank\">/Applications/Julia-1.6.app/Contents/Resources/julia/share/julia/stdlib/v1.6/Random/src/RNGs.jl:413</a></li> <li> rand(::<b>Random._GLOBAL_RNG</b>, sp::<b>Union{Random.SamplerType{Bool}, Random.SamplerType{Int128}, Random.SamplerType{Int16}, Random.SamplerType{Int32}, Random.SamplerType{Int64}, Random.SamplerType{Int8}, Random.SamplerType{UInt128}, Random.SamplerType{UInt16}, Random.SamplerType{UInt32}, Random.SamplerType{UInt64}, Random.SamplerType{UInt8}}</b>) in Random at <a href=\"file:///Users/julia/buildbot/worker/package_macos64/build/usr/share/julia/stdlib/v1.6/Random/src/RNGs.jl\" target=\"_blank\">/Applications/Julia-1.6.app/Contents/Resources/julia/share/julia/stdlib/v1.6/Random/src/RNGs.jl:405</a></li> <li> rand(rng::<b>MbedTLS.CtrDrbg</b>, size::<b>Integer</b>) in MbedTLS at <a href=\"file:///Users/uqjnazar/.julia/packages/MbedTLS/4YY6E/src/ctr_drbg.jl\" target=\"_blank\">/Users/uqjnazar/.julia/packages/MbedTLS/4YY6E/src/ctr_drbg.jl:44</a></li> <li> rand(rd::<b>Random.RandomDevice</b>, ::<b>Random.SamplerType{Bool}</b>) in Random at <a href=\"file:///Users/julia/buildbot/worker/package_macos64/build/usr/share/julia/stdlib/v1.6/Random/src/RNGs.jl\" target=\"_blank\">/Applications/Julia-1.6.app/Contents/Resources/julia/share/julia/stdlib/v1.6/Random/src/RNGs.jl:28</a></li> <li> rand(rd::<b>Random.RandomDevice</b>, sp::<b>Union{Random.SamplerType{Bool}, Random.SamplerType{Int128}, Random.SamplerType{Int16}, Random.SamplerType{Int32}, Random.SamplerType{Int64}, Random.SamplerType{Int8}, Random.SamplerType{UInt128}, Random.SamplerType{UInt16}, Random.SamplerType{UInt32}, Random.SamplerType{UInt64}, Random.SamplerType{UInt8}}</b>) in Random at <a href=\"file:///Users/julia/buildbot/worker/package_macos64/build/usr/share/julia/stdlib/v1.6/Random/src/RNGs.jl\" target=\"_blank\">/Applications/Julia-1.6.app/Contents/Resources/julia/share/julia/stdlib/v1.6/Random/src/RNGs.jl:27</a></li> <li> rand(r::<b>Random.MersenneTwister</b>, x::<b>Random.SamplerTrivial{Random.UInt52Raw{UInt64}, E} where E</b>) in Random at <a href=\"file:///Users/julia/buildbot/worker/package_macos64/build/usr/share/julia/stdlib/v1.6/Random/src/RNGs.jl\" target=\"_blank\">/Applications/Julia-1.6.app/Contents/Resources/julia/share/julia/stdlib/v1.6/Random/src/RNGs.jl:442</a></li> <li> rand(r::<b>Random.AbstractRNG</b>, ::<b>Random.SamplerTrivial{Random.UInt52Raw{UInt64}, E} where E</b>) in Random at <a href=\"file:///Users/julia/buildbot/worker/package_macos64/build/usr/share/julia/stdlib/v1.6/Random/src/generation.jl\" target=\"_blank\">/Applications/Julia-1.6.app/Contents/Resources/julia/share/julia/stdlib/v1.6/Random/src/generation.jl:114</a></li> <li> rand(r::<b>Random.MersenneTwister</b>, ::<b>Random.SamplerTrivial{Random.UInt2x52Raw{UInt128}, E} where E</b>) in Random at <a href=\"file:///Users/julia/buildbot/worker/package_macos64/build/usr/share/julia/stdlib/v1.6/Random/src/RNGs.jl\" target=\"_blank\">/Applications/Julia-1.6.app/Contents/Resources/julia/share/julia/stdlib/v1.6/Random/src/RNGs.jl:447</a></li> <li> rand(r::<b>Random.MersenneTwister</b>, ::<b>Random.SamplerTrivial{Random.UInt104Raw{UInt128}, E} where E</b>) in Random at <a href=\"file:///Users/julia/buildbot/worker/package_macos64/build/usr/share/julia/stdlib/v1.6/Random/src/RNGs.jl\" target=\"_blank\">/Applications/Julia-1.6.app/Contents/Resources/julia/share/julia/stdlib/v1.6/Random/src/RNGs.jl:452</a></li> <li> rand(r::<b>Random.AbstractRNG</b>, ::<b>Random.SamplerTrivial{Random.UInt104Raw{UInt128}, E} where E</b>) in Random at <a href=\"file:///Users/julia/buildbot/worker/package_macos64/build/usr/share/julia/stdlib/v1.6/Random/src/generation.jl\" target=\"_blank\">/Applications/Julia-1.6.app/Contents/Resources/julia/share/julia/stdlib/v1.6/Random/src/generation.jl:120</a></li> <li> rand(r::<b>Random.AbstractRNG</b>, sp::<b>Random.SamplerTrivial{var\"#s832\", E} where {var\"#s832\"<:Random.UniformBits{T}, E}</b>)<i> where T</i> in Random at <a href=\"file:///Users/julia/buildbot/worker/package_macos64/build/usr/share/julia/stdlib/v1.6/Random/src/generation.jl\" target=\"_blank\">/Applications/Julia-1.6.app/Contents/Resources/julia/share/julia/stdlib/v1.6/Random/src/generation.jl:128</a></li> <li> rand(r::<b>Random.MersenneTwister</b>, sp::<b>Random.SamplerTrivial{Random.CloseOpen12{Float64}, E} where E</b>) in Random at <a href=\"file:///Users/julia/buildbot/worker/package_macos64/build/usr/share/julia/stdlib/v1.6/Random/src/RNGs.jl\" target=\"_blank\">/Applications/Julia-1.6.app/Contents/Resources/julia/share/julia/stdlib/v1.6/Random/src/RNGs.jl:459</a></li> <li> rand(r::<b>Random.AbstractRNG</b>, ::<b>Random.SamplerTrivial{Random.CloseOpen12{Float64}, E} where E</b>) in Random at <a href=\"file:///Users/julia/buildbot/worker/package_macos64/build/usr/share/julia/stdlib/v1.6/Random/src/generation.jl\" target=\"_blank\">/Applications/Julia-1.6.app/Contents/Resources/julia/share/julia/stdlib/v1.6/Random/src/generation.jl:32</a></li> <li> rand(rng::<b>Random.AbstractRNG</b>, sp::<b>Random.SamplerTrivial{var\"#s832\", E} where {var\"#s832\"<:Union{AbstractDict, AbstractSet}, E}</b>) in Random at <a href=\"file:///Users/julia/buildbot/worker/package_macos64/build/usr/share/julia/stdlib/v1.6/Random/src/generation.jl\" target=\"_blank\">/Applications/Julia-1.6.app/Contents/Resources/julia/share/julia/stdlib/v1.6/Random/src/generation.jl:459</a></li> <li> rand(r::<b>Random.MersenneTwister</b>, T::<b>Union{Random.SamplerType{Int128}, Random.SamplerType{Int64}, Random.SamplerType{UInt128}, Random.SamplerType{UInt64}}</b>) in Random at <a href=\"file:///Users/julia/buildbot/worker/package_macos64/build/usr/share/julia/stdlib/v1.6/Random/src/RNGs.jl\" target=\"_blank\">/Applications/Julia-1.6.app/Contents/Resources/julia/share/julia/stdlib/v1.6/Random/src/RNGs.jl:464</a></li> <li> rand(r::<b>Random.MersenneTwister</b>, T::<b>Union{Random.SamplerType{Bool}, Random.SamplerType{Int16}, Random.SamplerType{Int32}, Random.SamplerType{Int8}, Random.SamplerType{UInt16}, Random.SamplerType{UInt32}, Random.SamplerType{UInt8}}</b>) in Random at <a href=\"file:///Users/julia/buildbot/worker/package_macos64/build/usr/share/julia/stdlib/v1.6/Random/src/RNGs.jl\" target=\"_blank\">/Applications/Julia-1.6.app/Contents/Resources/julia/share/julia/stdlib/v1.6/Random/src/RNGs.jl:467</a></li> <li> rand(rng::<b>Random.AbstractRNG</b>) in Random at <a href=\"file:///Users/julia/buildbot/worker/package_macos64/build/usr/share/julia/stdlib/v1.6/Random/src/Random.jl\" target=\"_blank\">/Applications/Julia-1.6.app/Contents/Resources/julia/share/julia/stdlib/v1.6/Random/src/Random.jl:256</a></li> <li> rand(X, dims::<b>Tuple{Vararg{Int64, N}} where N</b>) in Random at <a href=\"file:///Users/julia/buildbot/worker/package_macos64/build/usr/share/julia/stdlib/v1.6/Random/src/Random.jl\" target=\"_blank\">/Applications/Julia-1.6.app/Contents/Resources/julia/share/julia/stdlib/v1.6/Random/src/Random.jl:280</a></li> <li> rand(r::<b>Random.AbstractRNG</b>, dims::<b>Integer...</b>) in Random at <a href=\"file:///Users/julia/buildbot/worker/package_macos64/build/usr/share/julia/stdlib/v1.6/Random/src/Random.jl\" target=\"_blank\">/Applications/Julia-1.6.app/Contents/Resources/julia/share/julia/stdlib/v1.6/Random/src/Random.jl:276</a></li> <li> rand(X, d::<b>Integer</b>, dims::<b>Integer...</b>) in Random at <a href=\"file:///Users/julia/buildbot/worker/package_macos64/build/usr/share/julia/stdlib/v1.6/Random/src/Random.jl\" target=\"_blank\">/Applications/Julia-1.6.app/Contents/Resources/julia/share/julia/stdlib/v1.6/Random/src/Random.jl:283</a></li> <li> rand(rng::<b>Random.AbstractRNG</b>, X) in Random at <a href=\"file:///Users/julia/buildbot/worker/package_macos64/build/usr/share/julia/stdlib/v1.6/Random/src/Random.jl\" target=\"_blank\">/Applications/Julia-1.6.app/Contents/Resources/julia/share/julia/stdlib/v1.6/Random/src/Random.jl:253</a></li> <li> rand(r::<b>Random.AbstractRNG</b>, X, d::<b>Integer</b>, dims::<b>Integer...</b>) in Random at <a href=\"file:///Users/julia/buildbot/worker/package_macos64/build/usr/share/julia/stdlib/v1.6/Random/src/Random.jl\" target=\"_blank\">/Applications/Julia-1.6.app/Contents/Resources/julia/share/julia/stdlib/v1.6/Random/src/Random.jl:282</a></li> <li> rand(r::<b>Random.AbstractRNG</b>, X, dims::<b>Tuple{Vararg{Int64, N}} where N</b>) in Random at <a href=\"file:///Users/julia/buildbot/worker/package_macos64/build/usr/share/julia/stdlib/v1.6/Random/src/Random.jl\" target=\"_blank\">/Applications/Julia-1.6.app/Contents/Resources/julia/share/julia/stdlib/v1.6/Random/src/Random.jl:279</a></li> <li> rand(X) in Random at <a href=\"file:///Users/julia/buildbot/worker/package_macos64/build/usr/share/julia/stdlib/v1.6/Random/src/Random.jl\" target=\"_blank\">/Applications/Julia-1.6.app/Contents/Resources/julia/share/julia/stdlib/v1.6/Random/src/Random.jl:258</a></li> </ul>"
      ],
      "text/plain": [
       "# 70 methods for generic function \"rand\":\n",
       "[1] rand() in Random at /Applications/Julia-1.6.app/Contents/Resources/julia/share/julia/stdlib/v1.6/Random/src/Random.jl:256\n",
       "[2] rand(dims::Integer...) in Random at /Applications/Julia-1.6.app/Contents/Resources/julia/share/julia/stdlib/v1.6/Random/src/Random.jl:277\n",
       "[3] rand(rng::Random.AbstractRNG, sp::Random.Masked) in Random at /Applications/Julia-1.6.app/Contents/Resources/julia/share/julia/stdlib/v1.6/Random/src/Random.jl:234\n",
       "[4] rand(rng::Random.AbstractRNG, sp::Random.SamplerRangeFast{UInt32, T}) where T in Random at /Applications/Julia-1.6.app/Contents/Resources/julia/share/julia/stdlib/v1.6/Random/src/generation.jl:220\n",
       "[5] rand(rng::Random.AbstractRNG, sp::Random.SamplerRangeFast{UInt64, T}) where T in Random at /Applications/Julia-1.6.app/Contents/Resources/julia/share/julia/stdlib/v1.6/Random/src/generation.jl:227\n",
       "[6] rand(rng::Random.AbstractRNG, sp::Random.SamplerRangeFast{UInt128, T}) where T in Random at /Applications/Julia-1.6.app/Contents/Resources/julia/share/julia/stdlib/v1.6/Random/src/generation.jl:234\n",
       "[7] rand(rng::Random.AbstractRNG, ::Random.UniformT{T}) where T in Random at /Applications/Julia-1.6.app/Contents/Resources/julia/share/julia/stdlib/v1.6/Random/src/Random.jl:242\n",
       "[8] rand(r::Random.AbstractRNG, ::Random.SamplerTrivial{Random.UInt104{UInt128}, E} where E) in Random at /Applications/Julia-1.6.app/Contents/Resources/julia/share/julia/stdlib/v1.6/Random/src/generation.jl:126\n",
       "[9] rand(r::Random.AbstractRNG, ::Random.SamplerTrivial{Random.UInt52{UInt64}, E} where E) in Random at /Applications/Julia-1.6.app/Contents/Resources/julia/share/julia/stdlib/v1.6/Random/src/generation.jl:125\n",
       "[10] rand(r::Random.AbstractRNG, ::Random.SamplerTrivial{Random.UInt23{UInt32}, E} where E) in Random at /Applications/Julia-1.6.app/Contents/Resources/julia/share/julia/stdlib/v1.6/Random/src/generation.jl:124\n",
       "[11] rand(r::Random.AbstractRNG, ::Random.SamplerTrivial{Random.UInt10{UInt16}, E} where E) in Random at /Applications/Julia-1.6.app/Contents/Resources/julia/share/julia/stdlib/v1.6/Random/src/generation.jl:123\n",
       "[12] rand(r::Random.AbstractRNG, ::Random.SamplerTrivial{Random.UInt23Raw{UInt32}, E} where E) in Random at /Applications/Julia-1.6.app/Contents/Resources/julia/share/julia/stdlib/v1.6/Random/src/generation.jl:112\n",
       "[13] rand(r::Random.AbstractRNG, ::Random.SamplerTrivial{Random.UInt10Raw{UInt16}, E} where E) in Random at /Applications/Julia-1.6.app/Contents/Resources/julia/share/julia/stdlib/v1.6/Random/src/generation.jl:111\n",
       "[14] rand(r::Random.AbstractRNG, ::Random.SamplerTrivial{Random.CloseOpen01{Float64}, E} where E) in Random at /Applications/Julia-1.6.app/Contents/Resources/julia/share/julia/stdlib/v1.6/Random/src/generation.jl:35\n",
       "[15] rand(r::Random.AbstractRNG, ::Random.SamplerTrivial{Random.CloseOpen01{Float32}, E} where E) in Random at /Applications/Julia-1.6.app/Contents/Resources/julia/share/julia/stdlib/v1.6/Random/src/generation.jl:29\n",
       "[16] rand(r::Random.AbstractRNG, ::Random.SamplerTrivial{Random.CloseOpen01{Float16}, E} where E) in Random at /Applications/Julia-1.6.app/Contents/Resources/julia/share/julia/stdlib/v1.6/Random/src/generation.jl:25\n",
       "[17] rand(rng::Random.AbstractRNG, sp::Random.SamplerTrivial{Tuple{A}, E} where E) where A in Random at /Applications/Julia-1.6.app/Contents/Resources/julia/share/julia/stdlib/v1.6/Random/src/generation.jl:495\n",
       "[18] rand(rng::Random.AbstractRNG, sp::Random.SamplerRangeNDL{U, T}) where {U, T} in Random at /Applications/Julia-1.6.app/Contents/Resources/julia/share/julia/stdlib/v1.6/Random/src/generation.jl:330\n",
       "[19] rand(r::Random.AbstractRNG, ::Random.SamplerType{Complex{T}}) where T<:Real in Random at /Applications/Julia-1.6.app/Contents/Resources/julia/share/julia/stdlib/v1.6/Random/src/generation.jl:159\n",
       "[20] rand(r::Random.AbstractRNG, ::Random.SamplerType{T}) where T<:AbstractChar in Random at /Applications/Julia-1.6.app/Contents/Resources/julia/share/julia/stdlib/v1.6/Random/src/generation.jl:165\n",
       "[21] rand(rng::Random.AbstractRNG, X::Tuple{Vararg{Int64, N}} where N) in Random at /Applications/Julia-1.6.app/Contents/Resources/julia/share/julia/stdlib/v1.6/Random/src/Random.jl:255\n",
       "[22] rand(rng::Random.AbstractRNG, sp::Random.SamplerBigFloat{T}) where T<:Random.FloatInterval{BigFloat} in Random at /Applications/Julia-1.6.app/Contents/Resources/julia/share/julia/stdlib/v1.6/Random/src/generation.jl:103\n",
       "[23] rand(rng::Random.AbstractRNG, sp::Random.SamplerRangeInt{T, UInt32}) where T<:Union{Int128, Int16, Int32, Int64, Int8, UInt128, UInt16, UInt32, UInt64, UInt8} in Random at /Applications/Julia-1.6.app/Contents/Resources/julia/share/julia/stdlib/v1.6/Random/src/generation.jl:294\n",
       "[24] rand(rng::Random.AbstractRNG, sp::Random.SamplerRangeInt{T, UInt64}) where T<:Union{Int128, Int16, Int32, Int64, Int8, UInt128, UInt16, UInt32, UInt64, UInt8} in Random at /Applications/Julia-1.6.app/Contents/Resources/julia/share/julia/stdlib/v1.6/Random/src/generation.jl:298\n",
       "[25] rand(rng::Random.AbstractRNG, sp::Random.SamplerRangeInt{T, UInt128}) where T<:Union{Int128, Int16, Int32, Int64, Int8, UInt128, UInt16, UInt32, UInt64, UInt8} in Random at /Applications/Julia-1.6.app/Contents/Resources/julia/share/julia/stdlib/v1.6/Random/src/generation.jl:304\n",
       "[26] rand(rng::Random.AbstractRNG, sp::Random.LessThan) in Random at /Applications/Julia-1.6.app/Contents/Resources/julia/share/julia/stdlib/v1.6/Random/src/Random.jl:222\n",
       "[27] rand(rng::Random.AbstractRNG, sp::Random.SamplerTag{var\"#s832\", var\"#s831\", E} where {var\"#s832\"<:Set, var\"#s831\"<:Random.Sampler, E}) in Random at /Applications/Julia-1.6.app/Contents/Resources/julia/share/julia/stdlib/v1.6/Random/src/generation.jl:423\n",
       "[28] rand(rng::Random.AbstractRNG, sp::Random.SamplerSimple{var\"#s832\", var\"#s831\", E} where {var\"#s832\"<:AbstractArray, var\"#s831\"<:Random.Sampler, E}) in Random at /Applications/Julia-1.6.app/Contents/Resources/julia/share/julia/stdlib/v1.6/Random/src/generation.jl:398\n",
       "[29] rand(rng::Random.AbstractRNG, sp::Random.SamplerSimple{var\"#s832\", var\"#s831\", E} where {var\"#s832\"<:Dict, var\"#s831\"<:Random.Sampler, E}) in Random at /Applications/Julia-1.6.app/Contents/Resources/julia/share/julia/stdlib/v1.6/Random/src/generation.jl:411\n",
       "[30] rand(rng::Random.AbstractRNG, sp::Random.SamplerSimple{BitSet, var\"#s832\", E} where {var\"#s832\"<:Random.Sampler, E}) in Random at /Applications/Julia-1.6.app/Contents/Resources/julia/share/julia/stdlib/v1.6/Random/src/generation.jl:432\n",
       "[31] rand(rng::Random.AbstractRNG, sp::Random.SamplerSimple{var\"#s832\", var\"#s831\", E} where {var\"#s832\"<:AbstractString, var\"#s831\"<:Random.Sampler, E}) in Random at /Applications/Julia-1.6.app/Contents/Resources/julia/share/julia/stdlib/v1.6/Random/src/generation.jl:479\n",
       "[32] rand(rng::Random.AbstractRNG, sp::Random.SamplerSimple{Tuple{A, B}, S, E} where {S, E}) where {A, B} in Random at /Applications/Julia-1.6.app/Contents/Resources/julia/share/julia/stdlib/v1.6/Random/src/generation.jl:503\n",
       "[33] rand(rng::Random.AbstractRNG, sp::Random.SamplerSimple{Tuple{A, B, C}, S, E} where {S, E}) where {A, B, C} in Random at /Applications/Julia-1.6.app/Contents/Resources/julia/share/julia/stdlib/v1.6/Random/src/generation.jl:511\n",
       "[34] rand(rng::Random.AbstractRNG, sp::Random.SamplerSimple{T, S, E} where {S, E}) where T<:Tuple in Random at /Applications/Julia-1.6.app/Contents/Resources/julia/share/julia/stdlib/v1.6/Random/src/generation.jl:531\n",
       "[35] rand(rng::Random.AbstractRNG, ::Type{X}) where X in Random at /Applications/Julia-1.6.app/Contents/Resources/julia/share/julia/stdlib/v1.6/Random/src/Random.jl:256\n",
       "[36] rand(r::Random.AbstractRNG, ::Type{X}, d::Integer, dims::Integer...) where X in Random at /Applications/Julia-1.6.app/Contents/Resources/julia/share/julia/stdlib/v1.6/Random/src/Random.jl:291\n",
       "[37] rand(r::Random.AbstractRNG, ::Type{X}, dims::Tuple{Vararg{Int64, N}} where N) where X in Random at /Applications/Julia-1.6.app/Contents/Resources/julia/share/julia/stdlib/v1.6/Random/src/Random.jl:288\n",
       "[38] rand(rng::Random.AbstractRNG, sp::Random.SamplerBigInt) in Random at /Applications/Julia-1.6.app/Contents/Resources/julia/share/julia/stdlib/v1.6/Random/src/generation.jl:370\n",
       "[39] rand(::Type{X}) where X in Random at /Applications/Julia-1.6.app/Contents/Resources/julia/share/julia/stdlib/v1.6/Random/src/Random.jl:259\n",
       "[40] rand(::Type{X}, dims::Tuple{Vararg{Int64, N}} where N) where X in Random at /Applications/Julia-1.6.app/Contents/Resources/julia/share/julia/stdlib/v1.6/Random/src/Random.jl:289\n",
       "[41] rand(::Type{X}, d::Integer, dims::Integer...) where X in Random at /Applications/Julia-1.6.app/Contents/Resources/julia/share/julia/stdlib/v1.6/Random/src/Random.jl:292\n",
       "[42] rand(::Random._GLOBAL_RNG, x::Random.SamplerTrivial{Random.UInt52Raw{UInt64}, E} where E) in Random at /Applications/Julia-1.6.app/Contents/Resources/julia/share/julia/stdlib/v1.6/Random/src/RNGs.jl:413\n",
       "[43] rand(::Random._GLOBAL_RNG, x::Random.SamplerTrivial{Random.UInt2x52Raw{UInt128}, E} where E) in Random at /Applications/Julia-1.6.app/Contents/Resources/julia/share/julia/stdlib/v1.6/Random/src/RNGs.jl:413\n",
       "[44] rand(::Random._GLOBAL_RNG, x::Random.SamplerTrivial{Random.UInt104Raw{UInt128}, E} where E) in Random at /Applications/Julia-1.6.app/Contents/Resources/julia/share/julia/stdlib/v1.6/Random/src/RNGs.jl:413\n",
       "[45] rand(::Random._GLOBAL_RNG, x::Random.SamplerTrivial{Random.CloseOpen12{Float64}, E} where E) in Random at /Applications/Julia-1.6.app/Contents/Resources/julia/share/julia/stdlib/v1.6/Random/src/RNGs.jl:413\n",
       "[46] rand(::Random._GLOBAL_RNG, x::Union{Random.SamplerType{Int128}, Random.SamplerType{Int64}, Random.SamplerType{UInt128}, Random.SamplerType{UInt64}}) in Random at /Applications/Julia-1.6.app/Contents/Resources/julia/share/julia/stdlib/v1.6/Random/src/RNGs.jl:413\n",
       "[47] rand(::Random._GLOBAL_RNG, x::Union{Random.SamplerType{Bool}, Random.SamplerType{Int16}, Random.SamplerType{Int32}, Random.SamplerType{Int8}, Random.SamplerType{UInt16}, Random.SamplerType{UInt32}, Random.SamplerType{UInt8}}) in Random at /Applications/Julia-1.6.app/Contents/Resources/julia/share/julia/stdlib/v1.6/Random/src/RNGs.jl:413\n",
       "[48] rand(::Random._GLOBAL_RNG, sp::Union{Random.SamplerType{Bool}, Random.SamplerType{Int128}, Random.SamplerType{Int16}, Random.SamplerType{Int32}, Random.SamplerType{Int64}, Random.SamplerType{Int8}, Random.SamplerType{UInt128}, Random.SamplerType{UInt16}, Random.SamplerType{UInt32}, Random.SamplerType{UInt64}, Random.SamplerType{UInt8}}) in Random at /Applications/Julia-1.6.app/Contents/Resources/julia/share/julia/stdlib/v1.6/Random/src/RNGs.jl:405\n",
       "[49] rand(rng::MbedTLS.CtrDrbg, size::Integer) in MbedTLS at /Users/uqjnazar/.julia/packages/MbedTLS/4YY6E/src/ctr_drbg.jl:44\n",
       "[50] rand(rd::Random.RandomDevice, ::Random.SamplerType{Bool}) in Random at /Applications/Julia-1.6.app/Contents/Resources/julia/share/julia/stdlib/v1.6/Random/src/RNGs.jl:28\n",
       "[51] rand(rd::Random.RandomDevice, sp::Union{Random.SamplerType{Bool}, Random.SamplerType{Int128}, Random.SamplerType{Int16}, Random.SamplerType{Int32}, Random.SamplerType{Int64}, Random.SamplerType{Int8}, Random.SamplerType{UInt128}, Random.SamplerType{UInt16}, Random.SamplerType{UInt32}, Random.SamplerType{UInt64}, Random.SamplerType{UInt8}}) in Random at /Applications/Julia-1.6.app/Contents/Resources/julia/share/julia/stdlib/v1.6/Random/src/RNGs.jl:27\n",
       "[52] rand(r::Random.MersenneTwister, x::Random.SamplerTrivial{Random.UInt52Raw{UInt64}, E} where E) in Random at /Applications/Julia-1.6.app/Contents/Resources/julia/share/julia/stdlib/v1.6/Random/src/RNGs.jl:442\n",
       "[53] rand(r::Random.AbstractRNG, ::Random.SamplerTrivial{Random.UInt52Raw{UInt64}, E} where E) in Random at /Applications/Julia-1.6.app/Contents/Resources/julia/share/julia/stdlib/v1.6/Random/src/generation.jl:114\n",
       "[54] rand(r::Random.MersenneTwister, ::Random.SamplerTrivial{Random.UInt2x52Raw{UInt128}, E} where E) in Random at /Applications/Julia-1.6.app/Contents/Resources/julia/share/julia/stdlib/v1.6/Random/src/RNGs.jl:447\n",
       "[55] rand(r::Random.MersenneTwister, ::Random.SamplerTrivial{Random.UInt104Raw{UInt128}, E} where E) in Random at /Applications/Julia-1.6.app/Contents/Resources/julia/share/julia/stdlib/v1.6/Random/src/RNGs.jl:452\n",
       "[56] rand(r::Random.AbstractRNG, ::Random.SamplerTrivial{Random.UInt104Raw{UInt128}, E} where E) in Random at /Applications/Julia-1.6.app/Contents/Resources/julia/share/julia/stdlib/v1.6/Random/src/generation.jl:120\n",
       "[57] rand(r::Random.AbstractRNG, sp::Random.SamplerTrivial{var\"#s832\", E} where {var\"#s832\"<:Random.UniformBits{T}, E}) where T in Random at /Applications/Julia-1.6.app/Contents/Resources/julia/share/julia/stdlib/v1.6/Random/src/generation.jl:128\n",
       "[58] rand(r::Random.MersenneTwister, sp::Random.SamplerTrivial{Random.CloseOpen12{Float64}, E} where E) in Random at /Applications/Julia-1.6.app/Contents/Resources/julia/share/julia/stdlib/v1.6/Random/src/RNGs.jl:459\n",
       "[59] rand(r::Random.AbstractRNG, ::Random.SamplerTrivial{Random.CloseOpen12{Float64}, E} where E) in Random at /Applications/Julia-1.6.app/Contents/Resources/julia/share/julia/stdlib/v1.6/Random/src/generation.jl:32\n",
       "[60] rand(rng::Random.AbstractRNG, sp::Random.SamplerTrivial{var\"#s832\", E} where {var\"#s832\"<:Union{AbstractDict, AbstractSet}, E}) in Random at /Applications/Julia-1.6.app/Contents/Resources/julia/share/julia/stdlib/v1.6/Random/src/generation.jl:459\n",
       "[61] rand(r::Random.MersenneTwister, T::Union{Random.SamplerType{Int128}, Random.SamplerType{Int64}, Random.SamplerType{UInt128}, Random.SamplerType{UInt64}}) in Random at /Applications/Julia-1.6.app/Contents/Resources/julia/share/julia/stdlib/v1.6/Random/src/RNGs.jl:464\n",
       "[62] rand(r::Random.MersenneTwister, T::Union{Random.SamplerType{Bool}, Random.SamplerType{Int16}, Random.SamplerType{Int32}, Random.SamplerType{Int8}, Random.SamplerType{UInt16}, Random.SamplerType{UInt32}, Random.SamplerType{UInt8}}) in Random at /Applications/Julia-1.6.app/Contents/Resources/julia/share/julia/stdlib/v1.6/Random/src/RNGs.jl:467\n",
       "[63] rand(rng::Random.AbstractRNG) in Random at /Applications/Julia-1.6.app/Contents/Resources/julia/share/julia/stdlib/v1.6/Random/src/Random.jl:256\n",
       "[64] rand(X, dims::Tuple{Vararg{Int64, N}} where N) in Random at /Applications/Julia-1.6.app/Contents/Resources/julia/share/julia/stdlib/v1.6/Random/src/Random.jl:280\n",
       "[65] rand(r::Random.AbstractRNG, dims::Integer...) in Random at /Applications/Julia-1.6.app/Contents/Resources/julia/share/julia/stdlib/v1.6/Random/src/Random.jl:276\n",
       "[66] rand(X, d::Integer, dims::Integer...) in Random at /Applications/Julia-1.6.app/Contents/Resources/julia/share/julia/stdlib/v1.6/Random/src/Random.jl:283\n",
       "[67] rand(rng::Random.AbstractRNG, X) in Random at /Applications/Julia-1.6.app/Contents/Resources/julia/share/julia/stdlib/v1.6/Random/src/Random.jl:253\n",
       "[68] rand(r::Random.AbstractRNG, X, d::Integer, dims::Integer...) in Random at /Applications/Julia-1.6.app/Contents/Resources/julia/share/julia/stdlib/v1.6/Random/src/Random.jl:282\n",
       "[69] rand(r::Random.AbstractRNG, X, dims::Tuple{Vararg{Int64, N}} where N) in Random at /Applications/Julia-1.6.app/Contents/Resources/julia/share/julia/stdlib/v1.6/Random/src/Random.jl:279\n",
       "[70] rand(X) in Random at /Applications/Julia-1.6.app/Contents/Resources/julia/share/julia/stdlib/v1.6/Random/src/Random.jl:258"
      ]
     },
     "execution_count": 13,
     "metadata": {},
     "output_type": "execute_result"
    }
   ],
   "source": [
    "methods(rand)"
   ]
  },
  {
   "cell_type": "code",
   "execution_count": 14,
   "metadata": {},
   "outputs": [],
   "source": [
    "using Distributions"
   ]
  },
  {
   "cell_type": "code",
   "execution_count": 15,
   "metadata": {},
   "outputs": [
    {
     "data": {
      "text/html": [
       "# 169 methods for generic function <b>rand</b>:<ul><li> rand() in Random at <a href=\"file:///Users/julia/buildbot/worker/package_macos64/build/usr/share/julia/stdlib/v1.6/Random/src/Random.jl\" target=\"_blank\">/Applications/Julia-1.6.app/Contents/Resources/julia/share/julia/stdlib/v1.6/Random/src/Random.jl:256</a></li> <li> rand(dims::<b>Integer...</b>) in Random at <a href=\"file:///Users/julia/buildbot/worker/package_macos64/build/usr/share/julia/stdlib/v1.6/Random/src/Random.jl\" target=\"_blank\">/Applications/Julia-1.6.app/Contents/Resources/julia/share/julia/stdlib/v1.6/Random/src/Random.jl:277</a></li> <li> rand(d::<b>UnivariateGMM</b>) in Distributions at <a href=\"file:///Users/uqjnazar/.julia/packages/Distributions/fXTVC/src/mixtures/unigmm.jl\" target=\"_blank\">/Users/uqjnazar/.julia/packages/Distributions/fXTVC/src/mixtures/unigmm.jl:28</a></li> <li> rand(d::<b>NoncentralF</b>) in Distributions at <a href=\"file:///Users/uqjnazar/.julia/packages/Distributions/fXTVC/src/univariate/continuous/noncentralf.jl\" target=\"_blank\">/Users/uqjnazar/.julia/packages/Distributions/fXTVC/src/univariate/continuous/noncentralf.jl:58</a></li> <li> rand(d::<b>NoncentralF</b>, n::<b>Int64</b>) in Distributions at <a href=\"file:///Users/uqjnazar/.julia/packages/Distributions/fXTVC/src/common.jl\" target=\"_blank\">/Users/uqjnazar/.julia/packages/Distributions/fXTVC/src/common.jl:176</a></li> <li> rand(rng::<b>Random.AbstractRNG</b>, d::<b>Frechet</b>) in Distributions at <a href=\"file:///Users/uqjnazar/.julia/packages/Distributions/fXTVC/src/univariate/continuous/frechet.jl\" target=\"_blank\">/Users/uqjnazar/.julia/packages/Distributions/fXTVC/src/univariate/continuous/frechet.jl:142</a></li> <li> rand(rng::<b>Random.AbstractRNG</b>, d::<b>NoncentralF</b>) in Distributions at <a href=\"file:///Users/uqjnazar/.julia/packages/Distributions/fXTVC/src/univariate/continuous/noncentralf.jl\" target=\"_blank\">/Users/uqjnazar/.julia/packages/Distributions/fXTVC/src/univariate/continuous/noncentralf.jl:50</a></li> <li> rand(rng::<b>Random.AbstractRNG</b>, d::<b>Skellam</b>) in Distributions at <a href=\"file:///Users/uqjnazar/.julia/packages/Distributions/fXTVC/src/univariate/discrete/skellam.jl\" target=\"_blank\">/Users/uqjnazar/.julia/packages/Distributions/fXTVC/src/univariate/discrete/skellam.jl:111</a></li> <li> rand(r::<b>Random.AbstractRNG</b>, ::<b>Random.SamplerTrivial{Random.UInt104{UInt128}, E} where E</b>) in Random at <a href=\"file:///Users/julia/buildbot/worker/package_macos64/build/usr/share/julia/stdlib/v1.6/Random/src/generation.jl\" target=\"_blank\">/Applications/Julia-1.6.app/Contents/Resources/julia/share/julia/stdlib/v1.6/Random/src/generation.jl:126</a></li> <li> rand(r::<b>Random.AbstractRNG</b>, ::<b>Random.SamplerTrivial{Random.UInt52{UInt64}, E} where E</b>) in Random at <a href=\"file:///Users/julia/buildbot/worker/package_macos64/build/usr/share/julia/stdlib/v1.6/Random/src/generation.jl\" target=\"_blank\">/Applications/Julia-1.6.app/Contents/Resources/julia/share/julia/stdlib/v1.6/Random/src/generation.jl:125</a></li> <li> rand(r::<b>Random.AbstractRNG</b>, ::<b>Random.SamplerTrivial{Random.UInt23{UInt32}, E} where E</b>) in Random at <a href=\"file:///Users/julia/buildbot/worker/package_macos64/build/usr/share/julia/stdlib/v1.6/Random/src/generation.jl\" target=\"_blank\">/Applications/Julia-1.6.app/Contents/Resources/julia/share/julia/stdlib/v1.6/Random/src/generation.jl:124</a></li> <li> rand(r::<b>Random.AbstractRNG</b>, ::<b>Random.SamplerTrivial{Random.UInt10{UInt16}, E} where E</b>) in Random at <a href=\"file:///Users/julia/buildbot/worker/package_macos64/build/usr/share/julia/stdlib/v1.6/Random/src/generation.jl\" target=\"_blank\">/Applications/Julia-1.6.app/Contents/Resources/julia/share/julia/stdlib/v1.6/Random/src/generation.jl:123</a></li> <li> rand(r::<b>Random.AbstractRNG</b>, ::<b>Random.SamplerTrivial{Random.UInt23Raw{UInt32}, E} where E</b>) in Random at <a href=\"file:///Users/julia/buildbot/worker/package_macos64/build/usr/share/julia/stdlib/v1.6/Random/src/generation.jl\" target=\"_blank\">/Applications/Julia-1.6.app/Contents/Resources/julia/share/julia/stdlib/v1.6/Random/src/generation.jl:112</a></li> <li> rand(r::<b>Random.AbstractRNG</b>, ::<b>Random.SamplerTrivial{Random.UInt10Raw{UInt16}, E} where E</b>) in Random at <a href=\"file:///Users/julia/buildbot/worker/package_macos64/build/usr/share/julia/stdlib/v1.6/Random/src/generation.jl\" target=\"_blank\">/Applications/Julia-1.6.app/Contents/Resources/julia/share/julia/stdlib/v1.6/Random/src/generation.jl:111</a></li> <li> rand(r::<b>Random.AbstractRNG</b>, ::<b>Random.SamplerTrivial{Random.CloseOpen01{Float64}, E} where E</b>) in Random at <a href=\"file:///Users/julia/buildbot/worker/package_macos64/build/usr/share/julia/stdlib/v1.6/Random/src/generation.jl\" target=\"_blank\">/Applications/Julia-1.6.app/Contents/Resources/julia/share/julia/stdlib/v1.6/Random/src/generation.jl:35</a></li> <li> rand(r::<b>Random.AbstractRNG</b>, ::<b>Random.SamplerTrivial{Random.CloseOpen01{Float32}, E} where E</b>) in Random at <a href=\"file:///Users/julia/buildbot/worker/package_macos64/build/usr/share/julia/stdlib/v1.6/Random/src/generation.jl\" target=\"_blank\">/Applications/Julia-1.6.app/Contents/Resources/julia/share/julia/stdlib/v1.6/Random/src/generation.jl:29</a></li> <li> rand(r::<b>Random.AbstractRNG</b>, ::<b>Random.SamplerTrivial{Random.CloseOpen01{Float16}, E} where E</b>) in Random at <a href=\"file:///Users/julia/buildbot/worker/package_macos64/build/usr/share/julia/stdlib/v1.6/Random/src/generation.jl\" target=\"_blank\">/Applications/Julia-1.6.app/Contents/Resources/julia/share/julia/stdlib/v1.6/Random/src/generation.jl:25</a></li> <li> rand(rng::<b>Random.AbstractRNG</b>, sp::<b>Random.SamplerTrivial{Tuple{A}, E} where E</b>)<i> where A</i> in Random at <a href=\"file:///Users/julia/buildbot/worker/package_macos64/build/usr/share/julia/stdlib/v1.6/Random/src/generation.jl\" target=\"_blank\">/Applications/Julia-1.6.app/Contents/Resources/julia/share/julia/stdlib/v1.6/Random/src/generation.jl:495</a></li> <li> rand(rng::<b>Random.AbstractRNG</b>, d::<b>Gamma</b>) in Distributions at <a href=\"file:///Users/uqjnazar/.julia/packages/Distributions/fXTVC/src/univariate/continuous/gamma.jl\" target=\"_blank\">/Users/uqjnazar/.julia/packages/Distributions/fXTVC/src/univariate/continuous/gamma.jl:90</a></li> <li> rand(rng::<b>Random.AbstractRNG</b>, X::<b>Tuple{Vararg{Int64, N}} where N</b>) in Random at <a href=\"file:///Users/julia/buildbot/worker/package_macos64/build/usr/share/julia/stdlib/v1.6/Random/src/Random.jl\" target=\"_blank\">/Applications/Julia-1.6.app/Contents/Resources/julia/share/julia/stdlib/v1.6/Random/src/Random.jl:255</a></li> <li> rand(rng::<b>Random.AbstractRNG</b>, sp::<b>Random.SamplerRangeInt{T, UInt32}</b>)<i> where T<:Union{Int128, Int16, Int32, Int64, Int8, UInt128, UInt16, UInt32, UInt64, UInt8}</i> in Random at <a href=\"file:///Users/julia/buildbot/worker/package_macos64/build/usr/share/julia/stdlib/v1.6/Random/src/generation.jl\" target=\"_blank\">/Applications/Julia-1.6.app/Contents/Resources/julia/share/julia/stdlib/v1.6/Random/src/generation.jl:294</a></li> <li> rand(rng::<b>Random.AbstractRNG</b>, sp::<b>Random.SamplerRangeInt{T, UInt64}</b>)<i> where T<:Union{Int128, Int16, Int32, Int64, Int8, UInt128, UInt16, UInt32, UInt64, UInt8}</i> in Random at <a href=\"file:///Users/julia/buildbot/worker/package_macos64/build/usr/share/julia/stdlib/v1.6/Random/src/generation.jl\" target=\"_blank\">/Applications/Julia-1.6.app/Contents/Resources/julia/share/julia/stdlib/v1.6/Random/src/generation.jl:298</a></li> <li> rand(rng::<b>Random.AbstractRNG</b>, sp::<b>Random.SamplerRangeInt{T, UInt128}</b>)<i> where T<:Union{Int128, Int16, Int32, Int64, Int8, UInt128, UInt16, UInt32, UInt64, UInt8}</i> in Random at <a href=\"file:///Users/julia/buildbot/worker/package_macos64/build/usr/share/julia/stdlib/v1.6/Random/src/generation.jl\" target=\"_blank\">/Applications/Julia-1.6.app/Contents/Resources/julia/share/julia/stdlib/v1.6/Random/src/generation.jl:304</a></li> <li> rand(rng::<b>Random.AbstractRNG</b>, d::<b>Chisq</b>) in Distributions at <a href=\"file:///Users/uqjnazar/.julia/packages/Distributions/fXTVC/src/univariate/continuous/chisq.jl\" target=\"_blank\">/Users/uqjnazar/.julia/packages/Distributions/fXTVC/src/univariate/continuous/chisq.jl:87</a></li> <li> rand(rng::<b>Random.AbstractRNG</b>, d::<b>InverseGamma</b>) in Distributions at <a href=\"file:///Users/uqjnazar/.julia/packages/Distributions/fXTVC/src/univariate/continuous/inversegamma.jl\" target=\"_blank\">/Users/uqjnazar/.julia/packages/Distributions/fXTVC/src/univariate/continuous/inversegamma.jl:119</a></li> <li> rand(rng::<b>Random.AbstractRNG</b>, d::<b>NoncentralT</b>) in Distributions at <a href=\"file:///Users/uqjnazar/.julia/packages/Distributions/fXTVC/src/univariate/continuous/noncentralt.jl\" target=\"_blank\">/Users/uqjnazar/.julia/packages/Distributions/fXTVC/src/univariate/continuous/noncentralt.jl:50</a></li> <li> rand(rng::<b>Random.AbstractRNG</b>, sp::<b>Random.SamplerRangeFast{UInt32, T}</b>)<i> where T</i> in Random at <a href=\"file:///Users/julia/buildbot/worker/package_macos64/build/usr/share/julia/stdlib/v1.6/Random/src/generation.jl\" target=\"_blank\">/Applications/Julia-1.6.app/Contents/Resources/julia/share/julia/stdlib/v1.6/Random/src/generation.jl:220</a></li> <li> rand(rng::<b>Random.AbstractRNG</b>, sp::<b>Random.SamplerRangeFast{UInt64, T}</b>)<i> where T</i> in Random at <a href=\"file:///Users/julia/buildbot/worker/package_macos64/build/usr/share/julia/stdlib/v1.6/Random/src/generation.jl\" target=\"_blank\">/Applications/Julia-1.6.app/Contents/Resources/julia/share/julia/stdlib/v1.6/Random/src/generation.jl:227</a></li> <li> rand(rng::<b>Random.AbstractRNG</b>, sp::<b>Random.SamplerRangeFast{UInt128, T}</b>)<i> where T</i> in Random at <a href=\"file:///Users/julia/buildbot/worker/package_macos64/build/usr/share/julia/stdlib/v1.6/Random/src/generation.jl\" target=\"_blank\">/Applications/Julia-1.6.app/Contents/Resources/julia/share/julia/stdlib/v1.6/Random/src/generation.jl:234</a></li> <li> rand(rng::<b>Random.AbstractRNG</b>, sp::<b>Random.Masked</b>) in Random at <a href=\"file:///Users/julia/buildbot/worker/package_macos64/build/usr/share/julia/stdlib/v1.6/Random/src/Random.jl\" target=\"_blank\">/Applications/Julia-1.6.app/Contents/Resources/julia/share/julia/stdlib/v1.6/Random/src/Random.jl:234</a></li> <li> rand(rng::<b>Random.AbstractRNG</b>, s::<b>Distributions.MixtureSampler{Univariate, VS, Sampler} where {VS, Sampler}</b>) in Distributions at <a href=\"file:///Users/uqjnazar/.julia/packages/Distributions/fXTVC/src/mixtures/mixturemodel.jl\" target=\"_blank\">/Users/uqjnazar/.julia/packages/Distributions/fXTVC/src/mixtures/mixturemodel.jl:457</a></li> <li> rand(rng::<b>Random.AbstractRNG</b>, cf::<b>NormalCanon</b>) in Distributions at <a href=\"file:///Users/uqjnazar/.julia/packages/Distributions/fXTVC/src/univariate/continuous/normalcanon.jl\" target=\"_blank\">/Users/uqjnazar/.julia/packages/Distributions/fXTVC/src/univariate/continuous/normalcanon.jl:78</a></li> <li> rand(rng::<b>Random.AbstractRNG</b>, d::<b>Geometric</b>) in Distributions at <a href=\"file:///Users/uqjnazar/.julia/packages/Distributions/fXTVC/src/univariate/discrete/geometric.jl\" target=\"_blank\">/Users/uqjnazar/.julia/packages/Distributions/fXTVC/src/univariate/discrete/geometric.jl:126</a></li> <li> rand(rng::<b>Random.AbstractRNG</b>, d::<b>Gumbel</b>) in Distributions at <a href=\"file:///Users/uqjnazar/.julia/packages/Distributions/fXTVC/src/univariate/continuous/gumbel.jl\" target=\"_blank\">/Users/uqjnazar/.julia/packages/Distributions/fXTVC/src/univariate/continuous/gumbel.jl:59</a></li> <li> rand(rng::<b>Random.AbstractRNG</b>, d::<b>Binomial</b>) in Distributions at <a href=\"file:///Users/uqjnazar/.julia/packages/Distributions/fXTVC/src/univariate/discrete/binomial.jl\" target=\"_blank\">/Users/uqjnazar/.julia/packages/Distributions/fXTVC/src/univariate/discrete/binomial.jl:113</a></li> <li> rand(rng::<b>Random.AbstractRNG</b>, d::<b>NormalInverseGaussian</b>) in Distributions at <a href=\"file:///Users/uqjnazar/.julia/packages/Distributions/fXTVC/src/univariate/continuous/normalinversegaussian.jl\" target=\"_blank\">/Users/uqjnazar/.julia/packages/Distributions/fXTVC/src/univariate/continuous/normalinversegaussian.jl:75</a></li> <li> rand(rng::<b>Random.AbstractRNG</b>, d::<b>Laplace</b>) in Distributions at <a href=\"file:///Users/uqjnazar/.julia/packages/Distributions/fXTVC/src/univariate/continuous/laplace.jl\" target=\"_blank\">/Users/uqjnazar/.julia/packages/Distributions/fXTVC/src/univariate/continuous/laplace.jl:111</a></li> <li> rand(rng::<b>Random.AbstractRNG</b>, d::<b>Beta{T}</b>)<i> where T</i> in Distributions at <a href=\"file:///Users/uqjnazar/.julia/packages/Distributions/fXTVC/src/univariate/continuous/beta.jl\" target=\"_blank\">/Users/uqjnazar/.julia/packages/Distributions/fXTVC/src/univariate/continuous/beta.jl:173</a></li> <li> rand(rng::<b>Random.AbstractRNG</b>, d::<b>Poisson</b>) in Distributions at <a href=\"file:///Users/uqjnazar/.julia/packages/Distributions/fXTVC/src/univariate/discrete/poisson.jl\" target=\"_blank\">/Users/uqjnazar/.julia/packages/Distributions/fXTVC/src/univariate/discrete/poisson.jl:139</a></li> <li> rand(rng::<b>Random.AbstractRNG</b>, d::<b>GeneralizedExtremeValue</b>) in Distributions at <a href=\"file:///Users/uqjnazar/.julia/packages/Distributions/fXTVC/src/univariate/continuous/generalizedextremevalue.jl\" target=\"_blank\">/Users/uqjnazar/.julia/packages/Distributions/fXTVC/src/univariate/continuous/generalizedextremevalue.jl:240</a></li> <li> rand(rng::<b>Random.AbstractRNG</b>, s::<b>Distributions.UnivariateGMMSampler</b>) in Distributions at <a href=\"file:///Users/uqjnazar/.julia/packages/Distributions/fXTVC/src/mixtures/unigmm.jl\" target=\"_blank\">/Users/uqjnazar/.julia/packages/Distributions/fXTVC/src/mixtures/unigmm.jl:41</a></li> <li> rand(rng::<b>Random.AbstractRNG</b>, s::<b>Distributions.GammaGDSampler</b>) in Distributions at <a href=\"file:///Users/uqjnazar/.julia/packages/Distributions/fXTVC/src/samplers/gamma.jl\" target=\"_blank\">/Users/uqjnazar/.julia/packages/Distributions/fXTVC/src/samplers/gamma.jl:78</a></li> <li> rand(rng::<b>Random.AbstractRNG</b>, sp::<b>Random.SamplerTag{var\"#s832\", var\"#s831\", E} where {var\"#s832\"<:Set, var\"#s831\"<:Random.Sampler, E}</b>) in Random at <a href=\"file:///Users/julia/buildbot/worker/package_macos64/build/usr/share/julia/stdlib/v1.6/Random/src/generation.jl\" target=\"_blank\">/Applications/Julia-1.6.app/Contents/Resources/julia/share/julia/stdlib/v1.6/Random/src/generation.jl:423</a></li> <li> rand(rng::<b>Random.AbstractRNG</b>, sampler::<b>Distributions.PoissonADSampler</b>) in Distributions at <a href=\"file:///Users/uqjnazar/.julia/packages/Distributions/fXTVC/src/samplers/poisson.jl\" target=\"_blank\">/Users/uqjnazar/.julia/packages/Distributions/fXTVC/src/samplers/poisson.jl:59</a></li> <li> rand(rng::<b>Random.AbstractRNG</b>, d::<b>SymTriangularDist</b>) in Distributions at <a href=\"file:///Users/uqjnazar/.julia/packages/Distributions/fXTVC/src/univariate/continuous/symtriangular.jl\" target=\"_blank\">/Users/uqjnazar/.julia/packages/Distributions/fXTVC/src/univariate/continuous/symtriangular.jl:129</a></li> <li> rand(rng::<b>Random.AbstractRNG</b>, d::<b>DiscreteNonParametric</b>) in Distributions at <a href=\"file:///Users/uqjnazar/.julia/packages/Distributions/fXTVC/src/univariate/discrete/discretenonparametric.jl\" target=\"_blank\">/Users/uqjnazar/.julia/packages/Distributions/fXTVC/src/univariate/discrete/discretenonparametric.jl:72</a></li> <li> rand(rng::<b>Random.AbstractRNG</b>, d::<b>BetaBinomial</b>) in Distributions at <a href=\"file:///Users/uqjnazar/.julia/packages/Distributions/fXTVC/src/univariate/discrete/betabinomial.jl\" target=\"_blank\">/Users/uqjnazar/.julia/packages/Distributions/fXTVC/src/univariate/discrete/betabinomial.jl:114</a></li> <li> rand(rng::<b>Random.AbstractRNG</b>, d::<b>BetaPrime</b>) in Distributions at <a href=\"file:///Users/uqjnazar/.julia/packages/Distributions/fXTVC/src/univariate/continuous/betaprime.jl\" target=\"_blank\">/Users/uqjnazar/.julia/packages/Distributions/fXTVC/src/univariate/continuous/betaprime.jl:113</a></li> <li> rand(rng::<b>Random.AbstractRNG</b>, d::<b>TDist</b>) in Distributions at <a href=\"file:///Users/uqjnazar/.julia/packages/Distributions/fXTVC/src/univariate/continuous/tdist.jl\" target=\"_blank\">/Users/uqjnazar/.julia/packages/Distributions/fXTVC/src/univariate/continuous/tdist.jl:81</a></li> <li> rand(rng::<b>Random.AbstractRNG</b>, d::<b>FDist</b>) in Distributions at <a href=\"file:///Users/uqjnazar/.julia/packages/Distributions/fXTVC/src/univariate/continuous/fdist.jl\" target=\"_blank\">/Users/uqjnazar/.julia/packages/Distributions/fXTVC/src/univariate/continuous/fdist.jl:103</a></li> <li> rand(rng::<b>Random.AbstractRNG</b>, s::<b>Distributions.BetaSampler</b>) in Distributions at <a href=\"file:///Users/uqjnazar/.julia/packages/Distributions/fXTVC/src/univariate/continuous/beta.jl\" target=\"_blank\">/Users/uqjnazar/.julia/packages/Distributions/fXTVC/src/univariate/continuous/beta.jl:144</a></li> <li> rand(rng::<b>Random.AbstractRNG</b>, d::<b>LogitNormal</b>) in Distributions at <a href=\"file:///Users/uqjnazar/.julia/packages/Distributions/fXTVC/src/univariate/continuous/logitnormal.jl\" target=\"_blank\">/Users/uqjnazar/.julia/packages/Distributions/fXTVC/src/univariate/continuous/logitnormal.jl:153</a></li> <li> rand(rng::<b>Random.AbstractRNG</b>, d::<b>SkewNormal</b>) in Distributions at <a href=\"file:///Users/uqjnazar/.julia/packages/Distributions/fXTVC/src/univariate/continuous/skewnormal.jl\" target=\"_blank\">/Users/uqjnazar/.julia/packages/Distributions/fXTVC/src/univariate/continuous/skewnormal.jl:63</a></li> <li> rand(rng::<b>Random.AbstractRNG</b>, d::<b>UnivariateGMM</b>) in Distributions at <a href=\"file:///Users/uqjnazar/.julia/packages/Distributions/fXTVC/src/mixtures/unigmm.jl\" target=\"_blank\">/Users/uqjnazar/.julia/packages/Distributions/fXTVC/src/mixtures/unigmm.jl:30</a></li> <li> rand(rng::<b>Random.AbstractRNG</b>, sp::<b>Random.SamplerRangeNDL{U, T}</b>)<i> where {U, T}</i> in Random at <a href=\"file:///Users/julia/buildbot/worker/package_macos64/build/usr/share/julia/stdlib/v1.6/Random/src/generation.jl\" target=\"_blank\">/Applications/Julia-1.6.app/Contents/Resources/julia/share/julia/stdlib/v1.6/Random/src/generation.jl:330</a></li> <li> rand(rng::<b>Random.AbstractRNG</b>, d::<b>LocationScale</b>) in Distributions at <a href=\"file:///Users/uqjnazar/.julia/packages/Distributions/fXTVC/src/univariate/locationscale.jl\" target=\"_blank\">/Users/uqjnazar/.julia/packages/Distributions/fXTVC/src/univariate/locationscale.jl:118</a></li> <li> rand(rng::<b>Random.AbstractRNG</b>, d::<b>Truncated{Normal{T}, Continuous, T1} where T1<:Real</b>)<i> where T<:Real</i> in Distributions at <a href=\"file:///Users/uqjnazar/.julia/packages/Distributions/fXTVC/src/truncated/normal.jl\" target=\"_blank\">/Users/uqjnazar/.julia/packages/Distributions/fXTVC/src/truncated/normal.jl:140</a></li> <li> rand(rng::<b>Random.AbstractRNG</b>, sp::<b>Random.LessThan</b>) in Random at <a href=\"file:///Users/julia/buildbot/worker/package_macos64/build/usr/share/julia/stdlib/v1.6/Random/src/Random.jl\" target=\"_blank\">/Applications/Julia-1.6.app/Contents/Resources/julia/share/julia/stdlib/v1.6/Random/src/Random.jl:222</a></li> <li> rand(rng::<b>Random.AbstractRNG</b>, d::<b>Levy</b>) in Distributions at <a href=\"file:///Users/uqjnazar/.julia/packages/Distributions/fXTVC/src/univariate/continuous/levy.jl\" target=\"_blank\">/Users/uqjnazar/.julia/packages/Distributions/fXTVC/src/univariate/continuous/levy.jl:103</a></li> <li> rand(rng::<b>Random.AbstractRNG</b>, d::<b>PGeneralizedGaussian</b>) in Distributions at <a href=\"file:///Users/uqjnazar/.julia/packages/Distributions/fXTVC/src/univariate/continuous/pgeneralizedgaussian.jl\" target=\"_blank\">/Users/uqjnazar/.julia/packages/Distributions/fXTVC/src/univariate/continuous/pgeneralizedgaussian.jl:123</a></li> <li> rand(rng::<b>Random.AbstractRNG</b>, s::<b>Distributions.CategoricalDirectSampler</b>) in Distributions at <a href=\"file:///Users/uqjnazar/.julia/packages/Distributions/fXTVC/src/samplers/categorical.jl\" target=\"_blank\">/Users/uqjnazar/.julia/packages/Distributions/fXTVC/src/samplers/categorical.jl:18</a></li> <li> rand(rng::<b>Random.AbstractRNG</b>, sp::<b>Random.SamplerSimple{var\"#s832\", var\"#s831\", E} where {var\"#s832\"<:AbstractArray, var\"#s831\"<:Random.Sampler, E}</b>) in Random at <a href=\"file:///Users/julia/buildbot/worker/package_macos64/build/usr/share/julia/stdlib/v1.6/Random/src/generation.jl\" target=\"_blank\">/Applications/Julia-1.6.app/Contents/Resources/julia/share/julia/stdlib/v1.6/Random/src/generation.jl:398</a></li> <li> rand(rng::<b>Random.AbstractRNG</b>, sp::<b>Random.SamplerSimple{var\"#s832\", var\"#s831\", E} where {var\"#s832\"<:Dict, var\"#s831\"<:Random.Sampler, E}</b>) in Random at <a href=\"file:///Users/julia/buildbot/worker/package_macos64/build/usr/share/julia/stdlib/v1.6/Random/src/generation.jl\" target=\"_blank\">/Applications/Julia-1.6.app/Contents/Resources/julia/share/julia/stdlib/v1.6/Random/src/generation.jl:411</a></li> <li> rand(rng::<b>Random.AbstractRNG</b>, sp::<b>Random.SamplerSimple{BitSet, var\"#s832\", E} where {var\"#s832\"<:Random.Sampler, E}</b>) in Random at <a href=\"file:///Users/julia/buildbot/worker/package_macos64/build/usr/share/julia/stdlib/v1.6/Random/src/generation.jl\" target=\"_blank\">/Applications/Julia-1.6.app/Contents/Resources/julia/share/julia/stdlib/v1.6/Random/src/generation.jl:432</a></li> <li> rand(rng::<b>Random.AbstractRNG</b>, sp::<b>Random.SamplerSimple{var\"#s832\", var\"#s831\", E} where {var\"#s832\"<:AbstractString, var\"#s831\"<:Random.Sampler, E}</b>) in Random at <a href=\"file:///Users/julia/buildbot/worker/package_macos64/build/usr/share/julia/stdlib/v1.6/Random/src/generation.jl\" target=\"_blank\">/Applications/Julia-1.6.app/Contents/Resources/julia/share/julia/stdlib/v1.6/Random/src/generation.jl:479</a></li> <li> rand(rng::<b>Random.AbstractRNG</b>, sp::<b>Random.SamplerSimple{Tuple{A, B}, S, E} where {S, E}</b>)<i> where {A, B}</i> in Random at <a href=\"file:///Users/julia/buildbot/worker/package_macos64/build/usr/share/julia/stdlib/v1.6/Random/src/generation.jl\" target=\"_blank\">/Applications/Julia-1.6.app/Contents/Resources/julia/share/julia/stdlib/v1.6/Random/src/generation.jl:503</a></li> <li> rand(rng::<b>Random.AbstractRNG</b>, sp::<b>Random.SamplerSimple{Tuple{A, B, C}, S, E} where {S, E}</b>)<i> where {A, B, C}</i> in Random at <a href=\"file:///Users/julia/buildbot/worker/package_macos64/build/usr/share/julia/stdlib/v1.6/Random/src/generation.jl\" target=\"_blank\">/Applications/Julia-1.6.app/Contents/Resources/julia/share/julia/stdlib/v1.6/Random/src/generation.jl:511</a></li> <li> rand(rng::<b>Random.AbstractRNG</b>, sp::<b>Random.SamplerSimple{T, S, E} where {S, E}</b>)<i> where T<:Tuple</i> in Random at <a href=\"file:///Users/julia/buildbot/worker/package_macos64/build/usr/share/julia/stdlib/v1.6/Random/src/generation.jl\" target=\"_blank\">/Applications/Julia-1.6.app/Contents/Resources/julia/share/julia/stdlib/v1.6/Random/src/generation.jl:531</a></li> <li> rand(rng::<b>Random.AbstractRNG</b>, d::<b>Chi</b>) in Distributions at <a href=\"file:///Users/uqjnazar/.julia/packages/Distributions/fXTVC/src/univariate/continuous/chi.jl\" target=\"_blank\">/Users/uqjnazar/.julia/packages/Distributions/fXTVC/src/univariate/continuous/chi.jl:96</a></li> <li> rand(rng::<b>Random.AbstractRNG</b>, d::<b>Bernoulli</b>) in Distributions at <a href=\"file:///Users/uqjnazar/.julia/packages/Distributions/fXTVC/src/univariate/discrete/bernoulli.jl\" target=\"_blank\">/Users/uqjnazar/.julia/packages/Distributions/fXTVC/src/univariate/discrete/bernoulli.jl:111</a></li> <li> rand(rng::<b>Random.AbstractRNG</b>, d::<b>NoncentralBeta</b>) in Distributions at <a href=\"file:///Users/uqjnazar/.julia/packages/Distributions/fXTVC/src/univariate/continuous/noncentralbeta.jl\" target=\"_blank\">/Users/uqjnazar/.julia/packages/Distributions/fXTVC/src/univariate/continuous/noncentralbeta.jl:43</a></li> <li> rand(rng::<b>Random.AbstractRNG</b>, d::<b>Rayleigh</b>) in Distributions at <a href=\"file:///Users/uqjnazar/.julia/packages/Distributions/fXTVC/src/univariate/continuous/rayleigh.jl\" target=\"_blank\">/Users/uqjnazar/.julia/packages/Distributions/fXTVC/src/univariate/continuous/rayleigh.jl:94</a></li> <li> rand(rng::<b>Random.AbstractRNG</b>, s::<b>Distributions.ChiSampler</b>) in Distributions at <a href=\"file:///Users/uqjnazar/.julia/packages/Distributions/fXTVC/src/univariate/continuous/chi.jl\" target=\"_blank\">/Users/uqjnazar/.julia/packages/Distributions/fXTVC/src/univariate/continuous/chi.jl:104</a></li> <li> rand(rng::<b>Random.AbstractRNG</b>, d::<b>Dirac</b>) in Distributions at <a href=\"file:///Users/uqjnazar/.julia/packages/Distributions/fXTVC/src/univariate/discrete/dirac.jl\" target=\"_blank\">/Users/uqjnazar/.julia/packages/Distributions/fXTVC/src/univariate/discrete/dirac.jl:57</a></li> <li> rand(rng::<b>Random.AbstractRNG</b>, d::<b>TriangularDist</b>) in Distributions at <a href=\"file:///Users/uqjnazar/.julia/packages/Distributions/fXTVC/src/univariate/continuous/triangular.jl\" target=\"_blank\">/Users/uqjnazar/.julia/packages/Distributions/fXTVC/src/univariate/continuous/triangular.jl:147</a></li> <li> rand(rng::<b>Random.AbstractRNG</b>, s::<b>Distributions.GammaIPSampler</b>) in Distributions at <a href=\"file:///Users/uqjnazar/.julia/packages/Distributions/fXTVC/src/samplers/gamma.jl\" target=\"_blank\">/Users/uqjnazar/.julia/packages/Distributions/fXTVC/src/samplers/gamma.jl:207</a></li> <li> rand(rng::<b>Random.AbstractRNG</b>, d::<b>Uniform</b>) in Distributions at <a href=\"file:///Users/uqjnazar/.julia/packages/Distributions/fXTVC/src/univariate/continuous/uniform.jl\" target=\"_blank\">/Users/uqjnazar/.julia/packages/Distributions/fXTVC/src/univariate/continuous/uniform.jl:112</a></li> <li> rand(rng::<b>Random.AbstractRNG</b>, d::<b>VonMises</b>) in Distributions at <a href=\"file:///Users/uqjnazar/.julia/packages/Distributions/fXTVC/src/univariate/continuous/vonmises.jl\" target=\"_blank\">/Users/uqjnazar/.julia/packages/Distributions/fXTVC/src/univariate/continuous/vonmises.jl:95</a></li> <li> rand(rng::<b>Random.AbstractRNG</b>, s::<b>Distributions.DiscreteNonParametricSampler</b>) in Distributions at <a href=\"file:///Users/uqjnazar/.julia/packages/Distributions/fXTVC/src/samplers/discretenonparametric.jl\" target=\"_blank\">/Users/uqjnazar/.julia/packages/Distributions/fXTVC/src/samplers/discretenonparametric.jl:22</a></li> <li> rand(rng::<b>Random.AbstractRNG</b>, d::<b>NegativeBinomial</b>) in Distributions at <a href=\"file:///Users/uqjnazar/.julia/packages/Distributions/fXTVC/src/univariate/discrete/negativebinomial.jl\" target=\"_blank\">/Users/uqjnazar/.julia/packages/Distributions/fXTVC/src/univariate/discrete/negativebinomial.jl:113</a></li> <li> rand(rng::<b>Random.AbstractRNG</b>, d::<b>Normal{T}</b>)<i> where T</i> in Distributions at <a href=\"file:///Users/uqjnazar/.julia/packages/Distributions/fXTVC/src/univariate/continuous/normal.jl\" target=\"_blank\">/Users/uqjnazar/.julia/packages/Distributions/fXTVC/src/univariate/continuous/normal.jl:243</a></li> <li> rand(rng::<b>Random.AbstractRNG</b>, d::<b>InverseGaussian</b>) in Distributions at <a href=\"file:///Users/uqjnazar/.julia/packages/Distributions/fXTVC/src/univariate/continuous/inversegaussian.jl\" target=\"_blank\">/Users/uqjnazar/.julia/packages/Distributions/fXTVC/src/univariate/continuous/inversegaussian.jl:153</a></li> <li> rand(rng::<b>Random.AbstractRNG</b>, s::<b>Distributions.PoissonCountSampler</b>) in Distributions at <a href=\"file:///Users/uqjnazar/.julia/packages/Distributions/fXTVC/src/samplers/poisson.jl\" target=\"_blank\">/Users/uqjnazar/.julia/packages/Distributions/fXTVC/src/samplers/poisson.jl:22</a></li> <li> rand(rng::<b>Random.AbstractRNG</b>, d::<b>Weibull</b>) in Distributions at <a href=\"file:///Users/uqjnazar/.julia/packages/Distributions/fXTVC/src/univariate/continuous/weibull.jl\" target=\"_blank\">/Users/uqjnazar/.julia/packages/Distributions/fXTVC/src/univariate/continuous/weibull.jl:141</a></li> <li> rand(rng::<b>Random.AbstractRNG</b>, d::<b>Pareto</b>) in Distributions at <a href=\"file:///Users/uqjnazar/.julia/packages/Distributions/fXTVC/src/univariate/continuous/pareto.jl\" target=\"_blank\">/Users/uqjnazar/.julia/packages/Distributions/fXTVC/src/univariate/continuous/pareto.jl:112</a></li> <li> rand(rng::<b>Random.AbstractRNG</b>, d::<b>Exponential</b>) in Distributions at <a href=\"file:///Users/uqjnazar/.julia/packages/Distributions/fXTVC/src/univariate/continuous/exponential.jl\" target=\"_blank\">/Users/uqjnazar/.julia/packages/Distributions/fXTVC/src/univariate/continuous/exponential.jl:96</a></li> <li> rand(rng::<b>Random.AbstractRNG</b>, d::<b>LogNormal</b>) in Distributions at <a href=\"file:///Users/uqjnazar/.julia/packages/Distributions/fXTVC/src/univariate/continuous/lognormal.jl\" target=\"_blank\">/Users/uqjnazar/.julia/packages/Distributions/fXTVC/src/univariate/continuous/lognormal.jl:154</a></li> <li> rand(rng::<b>Random.AbstractRNG</b>, ::<b>Random.UniformT{T}</b>)<i> where T</i> in Random at <a href=\"file:///Users/julia/buildbot/worker/package_macos64/build/usr/share/julia/stdlib/v1.6/Random/src/Random.jl\" target=\"_blank\">/Applications/Julia-1.6.app/Contents/Resources/julia/share/julia/stdlib/v1.6/Random/src/Random.jl:242</a></li> <li> rand(r::<b>Random.AbstractRNG</b>, ::<b>Random.SamplerType{Complex{T}}</b>)<i> where T<:Real</i> in Random at <a href=\"file:///Users/julia/buildbot/worker/package_macos64/build/usr/share/julia/stdlib/v1.6/Random/src/generation.jl\" target=\"_blank\">/Applications/Julia-1.6.app/Contents/Resources/julia/share/julia/stdlib/v1.6/Random/src/generation.jl:159</a></li> <li> rand(r::<b>Random.AbstractRNG</b>, ::<b>Random.SamplerType{T}</b>)<i> where T<:AbstractChar</i> in Random at <a href=\"file:///Users/julia/buildbot/worker/package_macos64/build/usr/share/julia/stdlib/v1.6/Random/src/generation.jl\" target=\"_blank\">/Applications/Julia-1.6.app/Contents/Resources/julia/share/julia/stdlib/v1.6/Random/src/generation.jl:165</a></li> <li> rand(rng::<b>Random.AbstractRNG</b>, d::<b>GeneralizedPareto</b>) in Distributions at <a href=\"file:///Users/uqjnazar/.julia/packages/Distributions/fXTVC/src/univariate/continuous/generalizedpareto.jl\" target=\"_blank\">/Users/uqjnazar/.julia/packages/Distributions/fXTVC/src/univariate/continuous/generalizedpareto.jl:175</a></li> <li> rand(rng::<b>Random.AbstractRNG</b>, sp::<b>Random.SamplerBigFloat{T}</b>)<i> where T<:Random.FloatInterval{BigFloat}</i> in Random at <a href=\"file:///Users/julia/buildbot/worker/package_macos64/build/usr/share/julia/stdlib/v1.6/Random/src/generation.jl\" target=\"_blank\">/Applications/Julia-1.6.app/Contents/Resources/julia/share/julia/stdlib/v1.6/Random/src/generation.jl:103</a></li> <li> rand(rng::<b>Random.AbstractRNG</b>, d::<b>MixtureModel{Univariate, VS, C, CT} where {VS<:ValueSupport, C<:Distribution, CT<:(Categorical{P, Ps} where {P<:Real, Ps<:AbstractVector{P}})}</b>) in Distributions at <a href=\"file:///Users/uqjnazar/.julia/packages/Distributions/fXTVC/src/mixtures/mixturemodel.jl\" target=\"_blank\">/Users/uqjnazar/.julia/packages/Distributions/fXTVC/src/mixtures/mixturemodel.jl:459</a></li> <li> rand(rng::<b>Random.AbstractRNG</b>, ::<b>Type{X}</b>)<i> where X</i> in Random at <a href=\"file:///Users/julia/buildbot/worker/package_macos64/build/usr/share/julia/stdlib/v1.6/Random/src/Random.jl\" target=\"_blank\">/Applications/Julia-1.6.app/Contents/Resources/julia/share/julia/stdlib/v1.6/Random/src/Random.jl:256</a></li> <li> rand(r::<b>Random.AbstractRNG</b>, ::<b>Type{X}</b>, d::<b>Integer</b>, dims::<b>Integer...</b>)<i> where X</i> in Random at <a href=\"file:///Users/julia/buildbot/worker/package_macos64/build/usr/share/julia/stdlib/v1.6/Random/src/Random.jl\" target=\"_blank\">/Applications/Julia-1.6.app/Contents/Resources/julia/share/julia/stdlib/v1.6/Random/src/Random.jl:291</a></li> <li> rand(r::<b>Random.AbstractRNG</b>, ::<b>Type{X}</b>, dims::<b>Tuple{Vararg{Int64, N}} where N</b>)<i> where X</i> in Random at <a href=\"file:///Users/julia/buildbot/worker/package_macos64/build/usr/share/julia/stdlib/v1.6/Random/src/Random.jl\" target=\"_blank\">/Applications/Julia-1.6.app/Contents/Resources/julia/share/julia/stdlib/v1.6/Random/src/Random.jl:288</a></li> <li> rand(rng::<b>Random.AbstractRNG</b>, s::<b>Distributions.GammaMTSampler</b>) in Distributions at <a href=\"file:///Users/uqjnazar/.julia/packages/Distributions/fXTVC/src/samplers/gamma.jl\" target=\"_blank\">/Users/uqjnazar/.julia/packages/Distributions/fXTVC/src/samplers/gamma.jl:178</a></li> <li> rand(rng::<b>Random.AbstractRNG</b>, s::<b>Distributions.GammaGSSampler</b>) in Distributions at <a href=\"file:///Users/uqjnazar/.julia/packages/Distributions/fXTVC/src/samplers/gamma.jl\" target=\"_blank\">/Users/uqjnazar/.julia/packages/Distributions/fXTVC/src/samplers/gamma.jl:141</a></li> <li> rand(rng::<b>Random.AbstractRNG</b>, d::<b>Chernoff</b>) in Distributions at <a href=\"file:///Users/uqjnazar/.julia/packages/Distributions/fXTVC/src/univariate/continuous/chernoff.jl\" target=\"_blank\">/Users/uqjnazar/.julia/packages/Distributions/fXTVC/src/univariate/continuous/chernoff.jl:231</a></li> <li> rand(rng::<b>Random.AbstractRNG</b>, s::<b>Distributions.AliasTable</b>) in Distributions at <a href=\"file:///Users/uqjnazar/.julia/packages/Distributions/fXTVC/src/samplers/aliastable.jl\" target=\"_blank\">/Users/uqjnazar/.julia/packages/Distributions/fXTVC/src/samplers/aliastable.jl:16</a></li> <li> rand(rng::<b>Random.AbstractRNG</b>, s::<b>Distributions.ExponentialLogUSampler</b>) in Distributions at <a href=\"file:///Users/uqjnazar/.julia/packages/Distributions/fXTVC/src/samplers/exponential.jl\" target=\"_blank\">/Users/uqjnazar/.julia/packages/Distributions/fXTVC/src/samplers/exponential.jl:11</a></li> <li> rand(rng::<b>Random.AbstractRNG</b>, d::<b>DiscreteUniform</b>) in Distributions at <a href=\"file:///Users/uqjnazar/.julia/packages/Distributions/fXTVC/src/univariate/discrete/discreteuniform.jl\" target=\"_blank\">/Users/uqjnazar/.julia/packages/Distributions/fXTVC/src/univariate/discrete/discreteuniform.jl:105</a></li> <li> rand(rng::<b>Random.AbstractRNG</b>, s::<b>Distributions.BinomialAliasSampler</b>) in Distributions at <a href=\"file:///Users/uqjnazar/.julia/packages/Distributions/fXTVC/src/samplers/binomial.jl\" target=\"_blank\">/Users/uqjnazar/.julia/packages/Distributions/fXTVC/src/samplers/binomial.jl:234</a></li> <li> rand(rng::<b>Random.AbstractRNG</b>, s::<b>Distributions.BinomialGeomSampler</b>) in Distributions at <a href=\"file:///Users/uqjnazar/.julia/packages/Distributions/fXTVC/src/samplers/binomial.jl\" target=\"_blank\">/Users/uqjnazar/.julia/packages/Distributions/fXTVC/src/samplers/binomial.jl:47</a></li> <li> rand(rng::<b>Random.AbstractRNG</b>, s::<b>Distributions.BinomialPolySampler</b>) in Distributions at <a href=\"file:///Users/uqjnazar/.julia/packages/Distributions/fXTVC/src/samplers/binomial.jl\" target=\"_blank\">/Users/uqjnazar/.julia/packages/Distributions/fXTVC/src/samplers/binomial.jl:263</a></li> <li> rand(rng::<b>Random.AbstractRNG</b>, s::<b>Distributions.BinomialTPESampler</b>) in Distributions at <a href=\"file:///Users/uqjnazar/.julia/packages/Distributions/fXTVC/src/samplers/binomial.jl\" target=\"_blank\">/Users/uqjnazar/.julia/packages/Distributions/fXTVC/src/samplers/binomial.jl:132</a></li> <li> rand(rng::<b>Random.AbstractRNG</b>, sp::<b>Random.SamplerBigInt</b>) in Random at <a href=\"file:///Users/julia/buildbot/worker/package_macos64/build/usr/share/julia/stdlib/v1.6/Random/src/generation.jl\" target=\"_blank\">/Applications/Julia-1.6.app/Contents/Resources/julia/share/julia/stdlib/v1.6/Random/src/generation.jl:370</a></li> <li> rand(rng::<b>Random.AbstractRNG</b>, d::<b>Kolmogorov</b>) in Distributions at <a href=\"file:///Users/uqjnazar/.julia/packages/Distributions/fXTVC/src/univariate/continuous/kolmogorov.jl\" target=\"_blank\">/Users/uqjnazar/.julia/packages/Distributions/fXTVC/src/univariate/continuous/kolmogorov.jl:109</a></li> <li> rand(rng::<b>Random.AbstractRNG</b>, d::<b>UnivariateDistribution{S} where S<:ValueSupport</b>) in Distributions at <a href=\"file:///Users/uqjnazar/.julia/packages/Distributions/fXTVC/src/univariates.jl\" target=\"_blank\">/Users/uqjnazar/.julia/packages/Distributions/fXTVC/src/univariates.jl:182</a></li> <li> rand(rng::<b>Random.AbstractRNG</b>, s::<b>Distributions.VonMisesSampler</b>) in Distributions at <a href=\"file:///Users/uqjnazar/.julia/packages/Distributions/fXTVC/src/samplers/vonmises.jl\" target=\"_blank\">/Users/uqjnazar/.julia/packages/Distributions/fXTVC/src/samplers/vonmises.jl:18</a></li> <li> rand(rng::<b>Random.AbstractRNG</b>, s::<b>Distributions.PoissBinAliasSampler</b>) in Distributions at <a href=\"file:///Users/uqjnazar/.julia/packages/Distributions/fXTVC/src/samplers/poissonbinomial.jl\" target=\"_blank\">/Users/uqjnazar/.julia/packages/Distributions/fXTVC/src/samplers/poissonbinomial.jl:7</a></li> <li> rand(rng::<b>Random.AbstractRNG</b>, s::<b>Distributions.ExponentialSampler</b>) in Distributions at <a href=\"file:///Users/uqjnazar/.julia/packages/Distributions/fXTVC/src/samplers/exponential.jl\" target=\"_blank\">/Users/uqjnazar/.julia/packages/Distributions/fXTVC/src/samplers/exponential.jl:5</a></li> <li> rand(rng::<b>Random.AbstractRNG</b>, s::<b>Sampleable{Matrixvariate, Continuous}</b>) in Distributions at <a href=\"file:///Users/uqjnazar/.julia/packages/Distributions/fXTVC/src/matrixvariates.jl\" target=\"_blank\">/Users/uqjnazar/.julia/packages/Distributions/fXTVC/src/matrixvariates.jl:139</a></li> <li> rand(rng::<b>Random.AbstractRNG</b>, s::<b>Sampleable{Matrixvariate, Continuous}</b>, dims::<b>Tuple{Vararg{Int64, N}} where N</b>) in Distributions at <a href=\"file:///Users/uqjnazar/.julia/packages/Distributions/fXTVC/src/matrixvariates.jl\" target=\"_blank\">/Users/uqjnazar/.julia/packages/Distributions/fXTVC/src/matrixvariates.jl:133</a></li> <li> rand(rng::<b>Random.AbstractRNG</b>, s::<b>Sampleable{Matrixvariate, S} where S<:ValueSupport</b>) in Distributions at <a href=\"file:///Users/uqjnazar/.julia/packages/Distributions/fXTVC/src/matrixvariates.jl\" target=\"_blank\">/Users/uqjnazar/.julia/packages/Distributions/fXTVC/src/matrixvariates.jl:137</a></li> <li> rand(rng::<b>Random.AbstractRNG</b>, s::<b>Sampleable{Matrixvariate, S} where S<:ValueSupport</b>, dims::<b>Tuple{Vararg{Int64, N}} where N</b>) in Distributions at <a href=\"file:///Users/uqjnazar/.julia/packages/Distributions/fXTVC/src/matrixvariates.jl\" target=\"_blank\">/Users/uqjnazar/.julia/packages/Distributions/fXTVC/src/matrixvariates.jl:131</a></li> <li> rand(rng::<b>Random.AbstractRNG</b>, s::<b>Sampleable{Multivariate, Continuous}</b>) in Distributions at <a href=\"file:///Users/uqjnazar/.julia/packages/Distributions/fXTVC/src/multivariates.jl\" target=\"_blank\">/Users/uqjnazar/.julia/packages/Distributions/fXTVC/src/multivariates.jl:82</a></li> <li> rand(rng::<b>Random.AbstractRNG</b>, s::<b>Sampleable{Multivariate, Continuous}</b>, dims::<b>Tuple{Vararg{Int64, N}} where N</b>) in Distributions at <a href=\"file:///Users/uqjnazar/.julia/packages/Distributions/fXTVC/src/multivariates.jl\" target=\"_blank\">/Users/uqjnazar/.julia/packages/Distributions/fXTVC/src/multivariates.jl:76</a></li> <li> rand(rng::<b>Random.AbstractRNG</b>, s::<b>Sampleable{Multivariate, S} where S<:ValueSupport</b>, dims::<b>Tuple{Vararg{Int64, N}} where N</b>) in Distributions at <a href=\"file:///Users/uqjnazar/.julia/packages/Distributions/fXTVC/src/multivariates.jl\" target=\"_blank\">/Users/uqjnazar/.julia/packages/Distributions/fXTVC/src/multivariates.jl:74</a></li> <li> rand(rng::<b>Random.AbstractRNG</b>, s::<b>Sampleable{Multivariate, Continuous}</b>, n::<b>Int64</b>) in Distributions at <a href=\"file:///Users/uqjnazar/.julia/packages/Distributions/fXTVC/src/multivariates.jl\" target=\"_blank\">/Users/uqjnazar/.julia/packages/Distributions/fXTVC/src/multivariates.jl:72</a></li> <li> rand(rng::<b>Random.AbstractRNG</b>, s::<b>Sampleable{Multivariate, S} where S<:ValueSupport</b>) in Distributions at <a href=\"file:///Users/uqjnazar/.julia/packages/Distributions/fXTVC/src/multivariates.jl\" target=\"_blank\">/Users/uqjnazar/.julia/packages/Distributions/fXTVC/src/multivariates.jl:80</a></li> <li> rand(rng::<b>Random.AbstractRNG</b>, s::<b>Sampleable{Multivariate, S} where S<:ValueSupport</b>, n::<b>Int64</b>) in Distributions at <a href=\"file:///Users/uqjnazar/.julia/packages/Distributions/fXTVC/src/multivariates.jl\" target=\"_blank\">/Users/uqjnazar/.julia/packages/Distributions/fXTVC/src/multivariates.jl:70</a></li> <li> rand(rng::<b>Random.AbstractRNG</b>, s::<b>Sampleable{Univariate, Continuous}</b>, dims::<b>Tuple{Vararg{Int64, N}} where N</b>) in Distributions at <a href=\"file:///Users/uqjnazar/.julia/packages/Distributions/fXTVC/src/univariates.jl\" target=\"_blank\">/Users/uqjnazar/.julia/packages/Distributions/fXTVC/src/univariates.jl:160</a></li> <li> rand(rng::<b>Random.AbstractRNG</b>, s::<b>Sampleable{Univariate, S} where S<:ValueSupport</b>, dims::<b>Tuple{Vararg{Int64, N}} where N</b>) in Distributions at <a href=\"file:///Users/uqjnazar/.julia/packages/Distributions/fXTVC/src/univariates.jl\" target=\"_blank\">/Users/uqjnazar/.julia/packages/Distributions/fXTVC/src/univariates.jl:158</a></li> <li> rand(rng::<b>Random.AbstractRNG</b>, s::<b>Sampleable</b>, dim1::<b>Int64</b>, moredims::<b>Int64...</b>) in Distributions at <a href=\"file:///Users/uqjnazar/.julia/packages/Distributions/fXTVC/src/genericrand.jl\" target=\"_blank\">/Users/uqjnazar/.julia/packages/Distributions/fXTVC/src/genericrand.jl:26</a></li> <li> rand(d::<b>NoncentralChisq</b>) in Distributions at <a href=\"file:///Users/uqjnazar/.julia/packages/Distributions/fXTVC/src/univariate/continuous/noncentralchisq.jl\" target=\"_blank\">/Users/uqjnazar/.julia/packages/Distributions/fXTVC/src/univariate/continuous/noncentralchisq.jl:79</a></li> <li> rand(d::<b>NoncentralChisq</b>, n::<b>Int64</b>) in Distributions at <a href=\"file:///Users/uqjnazar/.julia/packages/Distributions/fXTVC/src/common.jl\" target=\"_blank\">/Users/uqjnazar/.julia/packages/Distributions/fXTVC/src/common.jl:176</a></li> <li> rand(d::<b>NoncentralBeta</b>) in Distributions at <a href=\"file:///Users/uqjnazar/.julia/packages/Distributions/fXTVC/src/univariate/continuous/noncentralbeta.jl\" target=\"_blank\">/Users/uqjnazar/.julia/packages/Distributions/fXTVC/src/univariate/continuous/noncentralbeta.jl:36</a></li> <li> rand(d::<b>NoncentralBeta</b>, n::<b>Int64</b>) in Distributions at <a href=\"file:///Users/uqjnazar/.julia/packages/Distributions/fXTVC/src/common.jl\" target=\"_blank\">/Users/uqjnazar/.julia/packages/Distributions/fXTVC/src/common.jl:176</a></li> <li> rand(::<b>Type{X}</b>)<i> where X</i> in Random at <a href=\"file:///Users/julia/buildbot/worker/package_macos64/build/usr/share/julia/stdlib/v1.6/Random/src/Random.jl\" target=\"_blank\">/Applications/Julia-1.6.app/Contents/Resources/julia/share/julia/stdlib/v1.6/Random/src/Random.jl:259</a></li> <li> rand(::<b>Type{X}</b>, dims::<b>Tuple{Vararg{Int64, N}} where N</b>)<i> where X</i> in Random at <a href=\"file:///Users/julia/buildbot/worker/package_macos64/build/usr/share/julia/stdlib/v1.6/Random/src/Random.jl\" target=\"_blank\">/Applications/Julia-1.6.app/Contents/Resources/julia/share/julia/stdlib/v1.6/Random/src/Random.jl:289</a></li> <li> rand(::<b>Type{X}</b>, d::<b>Integer</b>, dims::<b>Integer...</b>)<i> where X</i> in Random at <a href=\"file:///Users/julia/buildbot/worker/package_macos64/build/usr/share/julia/stdlib/v1.6/Random/src/Random.jl\" target=\"_blank\">/Applications/Julia-1.6.app/Contents/Resources/julia/share/julia/stdlib/v1.6/Random/src/Random.jl:292</a></li> <li> rand(d::<b>Chernoff</b>) in Distributions at <a href=\"file:///Users/uqjnazar/.julia/packages/Distributions/fXTVC/src/univariate/continuous/chernoff.jl\" target=\"_blank\">/Users/uqjnazar/.julia/packages/Distributions/fXTVC/src/univariate/continuous/chernoff.jl:230</a></li> <li> rand(::<b>Random._GLOBAL_RNG</b>, x::<b>Random.SamplerTrivial{Random.UInt52Raw{UInt64}, E} where E</b>) in Random at <a href=\"file:///Users/julia/buildbot/worker/package_macos64/build/usr/share/julia/stdlib/v1.6/Random/src/RNGs.jl\" target=\"_blank\">/Applications/Julia-1.6.app/Contents/Resources/julia/share/julia/stdlib/v1.6/Random/src/RNGs.jl:413</a></li> <li> rand(::<b>Random._GLOBAL_RNG</b>, x::<b>Random.SamplerTrivial{Random.UInt2x52Raw{UInt128}, E} where E</b>) in Random at <a href=\"file:///Users/julia/buildbot/worker/package_macos64/build/usr/share/julia/stdlib/v1.6/Random/src/RNGs.jl\" target=\"_blank\">/Applications/Julia-1.6.app/Contents/Resources/julia/share/julia/stdlib/v1.6/Random/src/RNGs.jl:413</a></li> <li> rand(::<b>Random._GLOBAL_RNG</b>, x::<b>Random.SamplerTrivial{Random.UInt104Raw{UInt128}, E} where E</b>) in Random at <a href=\"file:///Users/julia/buildbot/worker/package_macos64/build/usr/share/julia/stdlib/v1.6/Random/src/RNGs.jl\" target=\"_blank\">/Applications/Julia-1.6.app/Contents/Resources/julia/share/julia/stdlib/v1.6/Random/src/RNGs.jl:413</a></li> <li> rand(::<b>Random._GLOBAL_RNG</b>, x::<b>Random.SamplerTrivial{Random.CloseOpen12{Float64}, E} where E</b>) in Random at <a href=\"file:///Users/julia/buildbot/worker/package_macos64/build/usr/share/julia/stdlib/v1.6/Random/src/RNGs.jl\" target=\"_blank\">/Applications/Julia-1.6.app/Contents/Resources/julia/share/julia/stdlib/v1.6/Random/src/RNGs.jl:413</a></li> <li> rand(::<b>Random._GLOBAL_RNG</b>, x::<b>Union{Random.SamplerType{Int128}, Random.SamplerType{Int64}, Random.SamplerType{UInt128}, Random.SamplerType{UInt64}}</b>) in Random at <a href=\"file:///Users/julia/buildbot/worker/package_macos64/build/usr/share/julia/stdlib/v1.6/Random/src/RNGs.jl\" target=\"_blank\">/Applications/Julia-1.6.app/Contents/Resources/julia/share/julia/stdlib/v1.6/Random/src/RNGs.jl:413</a></li> <li> rand(::<b>Random._GLOBAL_RNG</b>, x::<b>Union{Random.SamplerType{Bool}, Random.SamplerType{Int16}, Random.SamplerType{Int32}, Random.SamplerType{Int8}, Random.SamplerType{UInt16}, Random.SamplerType{UInt32}, Random.SamplerType{UInt8}}</b>) in Random at <a href=\"file:///Users/julia/buildbot/worker/package_macos64/build/usr/share/julia/stdlib/v1.6/Random/src/RNGs.jl\" target=\"_blank\">/Applications/Julia-1.6.app/Contents/Resources/julia/share/julia/stdlib/v1.6/Random/src/RNGs.jl:413</a></li> <li> rand(::<b>Random._GLOBAL_RNG</b>, sp::<b>Union{Random.SamplerType{Bool}, Random.SamplerType{Int128}, Random.SamplerType{Int16}, Random.SamplerType{Int32}, Random.SamplerType{Int64}, Random.SamplerType{Int8}, Random.SamplerType{UInt128}, Random.SamplerType{UInt16}, Random.SamplerType{UInt32}, Random.SamplerType{UInt64}, Random.SamplerType{UInt8}}</b>) in Random at <a href=\"file:///Users/julia/buildbot/worker/package_macos64/build/usr/share/julia/stdlib/v1.6/Random/src/RNGs.jl\" target=\"_blank\">/Applications/Julia-1.6.app/Contents/Resources/julia/share/julia/stdlib/v1.6/Random/src/RNGs.jl:405</a></li> <li> rand(rng::<b>MbedTLS.CtrDrbg</b>, size::<b>Integer</b>) in MbedTLS at <a href=\"file:///Users/uqjnazar/.julia/packages/MbedTLS/4YY6E/src/ctr_drbg.jl\" target=\"_blank\">/Users/uqjnazar/.julia/packages/MbedTLS/4YY6E/src/ctr_drbg.jl:44</a></li> <li> rand(rd::<b>Random.RandomDevice</b>, ::<b>Random.SamplerType{Bool}</b>) in Random at <a href=\"file:///Users/julia/buildbot/worker/package_macos64/build/usr/share/julia/stdlib/v1.6/Random/src/RNGs.jl\" target=\"_blank\">/Applications/Julia-1.6.app/Contents/Resources/julia/share/julia/stdlib/v1.6/Random/src/RNGs.jl:28</a></li> <li> rand(rd::<b>Random.RandomDevice</b>, sp::<b>Union{Random.SamplerType{Bool}, Random.SamplerType{Int128}, Random.SamplerType{Int16}, Random.SamplerType{Int32}, Random.SamplerType{Int64}, Random.SamplerType{Int8}, Random.SamplerType{UInt128}, Random.SamplerType{UInt16}, Random.SamplerType{UInt32}, Random.SamplerType{UInt64}, Random.SamplerType{UInt8}}</b>) in Random at <a href=\"file:///Users/julia/buildbot/worker/package_macos64/build/usr/share/julia/stdlib/v1.6/Random/src/RNGs.jl\" target=\"_blank\">/Applications/Julia-1.6.app/Contents/Resources/julia/share/julia/stdlib/v1.6/Random/src/RNGs.jl:27</a></li> <li> rand(r::<b>Random.MersenneTwister</b>, x::<b>Random.SamplerTrivial{Random.UInt52Raw{UInt64}, E} where E</b>) in Random at <a href=\"file:///Users/julia/buildbot/worker/package_macos64/build/usr/share/julia/stdlib/v1.6/Random/src/RNGs.jl\" target=\"_blank\">/Applications/Julia-1.6.app/Contents/Resources/julia/share/julia/stdlib/v1.6/Random/src/RNGs.jl:442</a></li> <li> rand(r::<b>Random.AbstractRNG</b>, ::<b>Random.SamplerTrivial{Random.UInt52Raw{UInt64}, E} where E</b>) in Random at <a href=\"file:///Users/julia/buildbot/worker/package_macos64/build/usr/share/julia/stdlib/v1.6/Random/src/generation.jl\" target=\"_blank\">/Applications/Julia-1.6.app/Contents/Resources/julia/share/julia/stdlib/v1.6/Random/src/generation.jl:114</a></li> <li> rand(r::<b>Random.MersenneTwister</b>, ::<b>Random.SamplerTrivial{Random.UInt2x52Raw{UInt128}, E} where E</b>) in Random at <a href=\"file:///Users/julia/buildbot/worker/package_macos64/build/usr/share/julia/stdlib/v1.6/Random/src/RNGs.jl\" target=\"_blank\">/Applications/Julia-1.6.app/Contents/Resources/julia/share/julia/stdlib/v1.6/Random/src/RNGs.jl:447</a></li> <li> rand(r::<b>Random.MersenneTwister</b>, ::<b>Random.SamplerTrivial{Random.UInt104Raw{UInt128}, E} where E</b>) in Random at <a href=\"file:///Users/julia/buildbot/worker/package_macos64/build/usr/share/julia/stdlib/v1.6/Random/src/RNGs.jl\" target=\"_blank\">/Applications/Julia-1.6.app/Contents/Resources/julia/share/julia/stdlib/v1.6/Random/src/RNGs.jl:452</a></li> <li> rand(r::<b>Random.AbstractRNG</b>, ::<b>Random.SamplerTrivial{Random.UInt104Raw{UInt128}, E} where E</b>) in Random at <a href=\"file:///Users/julia/buildbot/worker/package_macos64/build/usr/share/julia/stdlib/v1.6/Random/src/generation.jl\" target=\"_blank\">/Applications/Julia-1.6.app/Contents/Resources/julia/share/julia/stdlib/v1.6/Random/src/generation.jl:120</a></li> <li> rand(r::<b>Random.AbstractRNG</b>, sp::<b>Random.SamplerTrivial{var\"#s832\", E} where {var\"#s832\"<:Random.UniformBits{T}, E}</b>)<i> where T</i> in Random at <a href=\"file:///Users/julia/buildbot/worker/package_macos64/build/usr/share/julia/stdlib/v1.6/Random/src/generation.jl\" target=\"_blank\">/Applications/Julia-1.6.app/Contents/Resources/julia/share/julia/stdlib/v1.6/Random/src/generation.jl:128</a></li> <li> rand(r::<b>Random.MersenneTwister</b>, sp::<b>Random.SamplerTrivial{Random.CloseOpen12{Float64}, E} where E</b>) in Random at <a href=\"file:///Users/julia/buildbot/worker/package_macos64/build/usr/share/julia/stdlib/v1.6/Random/src/RNGs.jl\" target=\"_blank\">/Applications/Julia-1.6.app/Contents/Resources/julia/share/julia/stdlib/v1.6/Random/src/RNGs.jl:459</a></li> <li> rand(r::<b>Random.AbstractRNG</b>, ::<b>Random.SamplerTrivial{Random.CloseOpen12{Float64}, E} where E</b>) in Random at <a href=\"file:///Users/julia/buildbot/worker/package_macos64/build/usr/share/julia/stdlib/v1.6/Random/src/generation.jl\" target=\"_blank\">/Applications/Julia-1.6.app/Contents/Resources/julia/share/julia/stdlib/v1.6/Random/src/generation.jl:32</a></li> <li> rand(rng::<b>Random.AbstractRNG</b>, sp::<b>Random.SamplerTrivial{var\"#s832\", E} where {var\"#s832\"<:Union{AbstractDict, AbstractSet}, E}</b>) in Random at <a href=\"file:///Users/julia/buildbot/worker/package_macos64/build/usr/share/julia/stdlib/v1.6/Random/src/generation.jl\" target=\"_blank\">/Applications/Julia-1.6.app/Contents/Resources/julia/share/julia/stdlib/v1.6/Random/src/generation.jl:459</a></li> <li> rand(r::<b>Random.MersenneTwister</b>, T::<b>Union{Random.SamplerType{Int128}, Random.SamplerType{Int64}, Random.SamplerType{UInt128}, Random.SamplerType{UInt64}}</b>) in Random at <a href=\"file:///Users/julia/buildbot/worker/package_macos64/build/usr/share/julia/stdlib/v1.6/Random/src/RNGs.jl\" target=\"_blank\">/Applications/Julia-1.6.app/Contents/Resources/julia/share/julia/stdlib/v1.6/Random/src/RNGs.jl:464</a></li> <li> rand(r::<b>Random.MersenneTwister</b>, T::<b>Union{Random.SamplerType{Bool}, Random.SamplerType{Int16}, Random.SamplerType{Int32}, Random.SamplerType{Int8}, Random.SamplerType{UInt16}, Random.SamplerType{UInt32}, Random.SamplerType{UInt8}}</b>) in Random at <a href=\"file:///Users/julia/buildbot/worker/package_macos64/build/usr/share/julia/stdlib/v1.6/Random/src/RNGs.jl\" target=\"_blank\">/Applications/Julia-1.6.app/Contents/Resources/julia/share/julia/stdlib/v1.6/Random/src/RNGs.jl:467</a></li> <li> rand(rng::<b>Random.AbstractRNG</b>) in Random at <a href=\"file:///Users/julia/buildbot/worker/package_macos64/build/usr/share/julia/stdlib/v1.6/Random/src/Random.jl\" target=\"_blank\">/Applications/Julia-1.6.app/Contents/Resources/julia/share/julia/stdlib/v1.6/Random/src/Random.jl:256</a></li> <li> rand(r::<b>Random.AbstractRNG</b>, dims::<b>Integer...</b>) in Random at <a href=\"file:///Users/julia/buildbot/worker/package_macos64/build/usr/share/julia/stdlib/v1.6/Random/src/Random.jl\" target=\"_blank\">/Applications/Julia-1.6.app/Contents/Resources/julia/share/julia/stdlib/v1.6/Random/src/Random.jl:276</a></li> <li> rand(rng::<b>Random.AbstractRNG</b>, X) in Random at <a href=\"file:///Users/julia/buildbot/worker/package_macos64/build/usr/share/julia/stdlib/v1.6/Random/src/Random.jl\" target=\"_blank\">/Applications/Julia-1.6.app/Contents/Resources/julia/share/julia/stdlib/v1.6/Random/src/Random.jl:253</a></li> <li> rand(r::<b>Random.AbstractRNG</b>, X, d::<b>Integer</b>, dims::<b>Integer...</b>) in Random at <a href=\"file:///Users/julia/buildbot/worker/package_macos64/build/usr/share/julia/stdlib/v1.6/Random/src/Random.jl\" target=\"_blank\">/Applications/Julia-1.6.app/Contents/Resources/julia/share/julia/stdlib/v1.6/Random/src/Random.jl:282</a></li> <li> rand(r::<b>Random.AbstractRNG</b>, X, dims::<b>Tuple{Vararg{Int64, N}} where N</b>) in Random at <a href=\"file:///Users/julia/buildbot/worker/package_macos64/build/usr/share/julia/stdlib/v1.6/Random/src/Random.jl\" target=\"_blank\">/Applications/Julia-1.6.app/Contents/Resources/julia/share/julia/stdlib/v1.6/Random/src/Random.jl:279</a></li> <li> rand(d::<b>Hypergeometric</b>) in Distributions at <a href=\"file:///Users/uqjnazar/.julia/packages/Distributions/fXTVC/src/univariate/discrete/hypergeometric.jl\" target=\"_blank\">/Users/uqjnazar/.julia/packages/Distributions/fXTVC/src/univariate/discrete/hypergeometric.jl:90</a></li> <li> rand(d::<b>Hypergeometric</b>, n::<b>Int64</b>) in Distributions at <a href=\"file:///Users/uqjnazar/.julia/packages/Distributions/fXTVC/src/common.jl\" target=\"_blank\">/Users/uqjnazar/.julia/packages/Distributions/fXTVC/src/common.jl:176</a></li> <li> rand(s::<b>Sampleable{Multivariate, S} where S<:ValueSupport</b>, n::<b>Int64</b>) in Distributions at <a href=\"file:///Users/uqjnazar/.julia/packages/Distributions/fXTVC/src/multivariates.jl\" target=\"_blank\">/Users/uqjnazar/.julia/packages/Distributions/fXTVC/src/multivariates.jl:69</a></li> <li> rand(s::<b>Sampleable</b>) in Distributions at <a href=\"file:///Users/uqjnazar/.julia/packages/Distributions/fXTVC/src/genericrand.jl\" target=\"_blank\">/Users/uqjnazar/.julia/packages/Distributions/fXTVC/src/genericrand.jl:22</a></li> <li> rand(rng, ::<b>Random.AbstractRNG</b>, d::<b>Erlang</b>) in Distributions at <a href=\"file:///Users/uqjnazar/.julia/packages/Distributions/fXTVC/src/univariate/continuous/erlang.jl\" target=\"_blank\">/Users/uqjnazar/.julia/packages/Distributions/fXTVC/src/univariate/continuous/erlang.jl:84</a></li> <li> rand(s::<b>Sampleable</b>, dim1::<b>Int64</b>, moredims::<b>Int64...</b>) in Distributions at <a href=\"file:///Users/uqjnazar/.julia/packages/Distributions/fXTVC/src/genericrand.jl\" target=\"_blank\">/Users/uqjnazar/.julia/packages/Distributions/fXTVC/src/genericrand.jl:24</a></li> <li> rand(X, d::<b>Integer</b>, dims::<b>Integer...</b>) in Random at <a href=\"file:///Users/julia/buildbot/worker/package_macos64/build/usr/share/julia/stdlib/v1.6/Random/src/Random.jl\" target=\"_blank\">/Applications/Julia-1.6.app/Contents/Resources/julia/share/julia/stdlib/v1.6/Random/src/Random.jl:283</a></li> <li> rand(s::<b>Sampleable</b>, dims::<b>Tuple{Vararg{Int64, N}} where N</b>) in Distributions at <a href=\"file:///Users/uqjnazar/.julia/packages/Distributions/fXTVC/src/genericrand.jl\" target=\"_blank\">/Users/uqjnazar/.julia/packages/Distributions/fXTVC/src/genericrand.jl:23</a></li> <li> rand(X) in Random at <a href=\"file:///Users/julia/buildbot/worker/package_macos64/build/usr/share/julia/stdlib/v1.6/Random/src/Random.jl\" target=\"_blank\">/Applications/Julia-1.6.app/Contents/Resources/julia/share/julia/stdlib/v1.6/Random/src/Random.jl:258</a></li> <li> rand(X, dims::<b>Tuple{Vararg{Int64, N}} where N</b>) in Random at <a href=\"file:///Users/julia/buildbot/worker/package_macos64/build/usr/share/julia/stdlib/v1.6/Random/src/Random.jl\" target=\"_blank\">/Applications/Julia-1.6.app/Contents/Resources/julia/share/julia/stdlib/v1.6/Random/src/Random.jl:280</a></li> </ul>"
      ],
      "text/plain": [
       "# 169 methods for generic function \"rand\":\n",
       "[1] rand() in Random at /Applications/Julia-1.6.app/Contents/Resources/julia/share/julia/stdlib/v1.6/Random/src/Random.jl:256\n",
       "[2] rand(dims::Integer...) in Random at /Applications/Julia-1.6.app/Contents/Resources/julia/share/julia/stdlib/v1.6/Random/src/Random.jl:277\n",
       "[3] rand(d::UnivariateGMM) in Distributions at /Users/uqjnazar/.julia/packages/Distributions/fXTVC/src/mixtures/unigmm.jl:28\n",
       "[4] rand(d::NoncentralF) in Distributions at /Users/uqjnazar/.julia/packages/Distributions/fXTVC/src/univariate/continuous/noncentralf.jl:58\n",
       "[5] rand(d::NoncentralF, n::Int64) in Distributions at /Users/uqjnazar/.julia/packages/Distributions/fXTVC/src/common.jl:176\n",
       "[6] rand(rng::Random.AbstractRNG, d::Frechet) in Distributions at /Users/uqjnazar/.julia/packages/Distributions/fXTVC/src/univariate/continuous/frechet.jl:142\n",
       "[7] rand(rng::Random.AbstractRNG, d::NoncentralF) in Distributions at /Users/uqjnazar/.julia/packages/Distributions/fXTVC/src/univariate/continuous/noncentralf.jl:50\n",
       "[8] rand(rng::Random.AbstractRNG, d::Skellam) in Distributions at /Users/uqjnazar/.julia/packages/Distributions/fXTVC/src/univariate/discrete/skellam.jl:111\n",
       "[9] rand(r::Random.AbstractRNG, ::Random.SamplerTrivial{Random.UInt104{UInt128}, E} where E) in Random at /Applications/Julia-1.6.app/Contents/Resources/julia/share/julia/stdlib/v1.6/Random/src/generation.jl:126\n",
       "[10] rand(r::Random.AbstractRNG, ::Random.SamplerTrivial{Random.UInt52{UInt64}, E} where E) in Random at /Applications/Julia-1.6.app/Contents/Resources/julia/share/julia/stdlib/v1.6/Random/src/generation.jl:125\n",
       "[11] rand(r::Random.AbstractRNG, ::Random.SamplerTrivial{Random.UInt23{UInt32}, E} where E) in Random at /Applications/Julia-1.6.app/Contents/Resources/julia/share/julia/stdlib/v1.6/Random/src/generation.jl:124\n",
       "[12] rand(r::Random.AbstractRNG, ::Random.SamplerTrivial{Random.UInt10{UInt16}, E} where E) in Random at /Applications/Julia-1.6.app/Contents/Resources/julia/share/julia/stdlib/v1.6/Random/src/generation.jl:123\n",
       "[13] rand(r::Random.AbstractRNG, ::Random.SamplerTrivial{Random.UInt23Raw{UInt32}, E} where E) in Random at /Applications/Julia-1.6.app/Contents/Resources/julia/share/julia/stdlib/v1.6/Random/src/generation.jl:112\n",
       "[14] rand(r::Random.AbstractRNG, ::Random.SamplerTrivial{Random.UInt10Raw{UInt16}, E} where E) in Random at /Applications/Julia-1.6.app/Contents/Resources/julia/share/julia/stdlib/v1.6/Random/src/generation.jl:111\n",
       "[15] rand(r::Random.AbstractRNG, ::Random.SamplerTrivial{Random.CloseOpen01{Float64}, E} where E) in Random at /Applications/Julia-1.6.app/Contents/Resources/julia/share/julia/stdlib/v1.6/Random/src/generation.jl:35\n",
       "[16] rand(r::Random.AbstractRNG, ::Random.SamplerTrivial{Random.CloseOpen01{Float32}, E} where E) in Random at /Applications/Julia-1.6.app/Contents/Resources/julia/share/julia/stdlib/v1.6/Random/src/generation.jl:29\n",
       "[17] rand(r::Random.AbstractRNG, ::Random.SamplerTrivial{Random.CloseOpen01{Float16}, E} where E) in Random at /Applications/Julia-1.6.app/Contents/Resources/julia/share/julia/stdlib/v1.6/Random/src/generation.jl:25\n",
       "[18] rand(rng::Random.AbstractRNG, sp::Random.SamplerTrivial{Tuple{A}, E} where E) where A in Random at /Applications/Julia-1.6.app/Contents/Resources/julia/share/julia/stdlib/v1.6/Random/src/generation.jl:495\n",
       "[19] rand(rng::Random.AbstractRNG, d::Gamma) in Distributions at /Users/uqjnazar/.julia/packages/Distributions/fXTVC/src/univariate/continuous/gamma.jl:90\n",
       "[20] rand(rng::Random.AbstractRNG, X::Tuple{Vararg{Int64, N}} where N) in Random at /Applications/Julia-1.6.app/Contents/Resources/julia/share/julia/stdlib/v1.6/Random/src/Random.jl:255\n",
       "[21] rand(rng::Random.AbstractRNG, sp::Random.SamplerRangeInt{T, UInt32}) where T<:Union{Int128, Int16, Int32, Int64, Int8, UInt128, UInt16, UInt32, UInt64, UInt8} in Random at /Applications/Julia-1.6.app/Contents/Resources/julia/share/julia/stdlib/v1.6/Random/src/generation.jl:294\n",
       "[22] rand(rng::Random.AbstractRNG, sp::Random.SamplerRangeInt{T, UInt64}) where T<:Union{Int128, Int16, Int32, Int64, Int8, UInt128, UInt16, UInt32, UInt64, UInt8} in Random at /Applications/Julia-1.6.app/Contents/Resources/julia/share/julia/stdlib/v1.6/Random/src/generation.jl:298\n",
       "[23] rand(rng::Random.AbstractRNG, sp::Random.SamplerRangeInt{T, UInt128}) where T<:Union{Int128, Int16, Int32, Int64, Int8, UInt128, UInt16, UInt32, UInt64, UInt8} in Random at /Applications/Julia-1.6.app/Contents/Resources/julia/share/julia/stdlib/v1.6/Random/src/generation.jl:304\n",
       "[24] rand(rng::Random.AbstractRNG, d::Chisq) in Distributions at /Users/uqjnazar/.julia/packages/Distributions/fXTVC/src/univariate/continuous/chisq.jl:87\n",
       "[25] rand(rng::Random.AbstractRNG, d::InverseGamma) in Distributions at /Users/uqjnazar/.julia/packages/Distributions/fXTVC/src/univariate/continuous/inversegamma.jl:119\n",
       "[26] rand(rng::Random.AbstractRNG, d::NoncentralT) in Distributions at /Users/uqjnazar/.julia/packages/Distributions/fXTVC/src/univariate/continuous/noncentralt.jl:50\n",
       "[27] rand(rng::Random.AbstractRNG, sp::Random.SamplerRangeFast{UInt32, T}) where T in Random at /Applications/Julia-1.6.app/Contents/Resources/julia/share/julia/stdlib/v1.6/Random/src/generation.jl:220\n",
       "[28] rand(rng::Random.AbstractRNG, sp::Random.SamplerRangeFast{UInt64, T}) where T in Random at /Applications/Julia-1.6.app/Contents/Resources/julia/share/julia/stdlib/v1.6/Random/src/generation.jl:227\n",
       "[29] rand(rng::Random.AbstractRNG, sp::Random.SamplerRangeFast{UInt128, T}) where T in Random at /Applications/Julia-1.6.app/Contents/Resources/julia/share/julia/stdlib/v1.6/Random/src/generation.jl:234\n",
       "[30] rand(rng::Random.AbstractRNG, sp::Random.Masked) in Random at /Applications/Julia-1.6.app/Contents/Resources/julia/share/julia/stdlib/v1.6/Random/src/Random.jl:234\n",
       "[31] rand(rng::Random.AbstractRNG, s::Distributions.MixtureSampler{Univariate, VS, Sampler} where {VS, Sampler}) in Distributions at /Users/uqjnazar/.julia/packages/Distributions/fXTVC/src/mixtures/mixturemodel.jl:457\n",
       "[32] rand(rng::Random.AbstractRNG, cf::NormalCanon) in Distributions at /Users/uqjnazar/.julia/packages/Distributions/fXTVC/src/univariate/continuous/normalcanon.jl:78\n",
       "[33] rand(rng::Random.AbstractRNG, d::Geometric) in Distributions at /Users/uqjnazar/.julia/packages/Distributions/fXTVC/src/univariate/discrete/geometric.jl:126\n",
       "[34] rand(rng::Random.AbstractRNG, d::Gumbel) in Distributions at /Users/uqjnazar/.julia/packages/Distributions/fXTVC/src/univariate/continuous/gumbel.jl:59\n",
       "[35] rand(rng::Random.AbstractRNG, d::Binomial) in Distributions at /Users/uqjnazar/.julia/packages/Distributions/fXTVC/src/univariate/discrete/binomial.jl:113\n",
       "[36] rand(rng::Random.AbstractRNG, d::NormalInverseGaussian) in Distributions at /Users/uqjnazar/.julia/packages/Distributions/fXTVC/src/univariate/continuous/normalinversegaussian.jl:75\n",
       "[37] rand(rng::Random.AbstractRNG, d::Laplace) in Distributions at /Users/uqjnazar/.julia/packages/Distributions/fXTVC/src/univariate/continuous/laplace.jl:111\n",
       "[38] rand(rng::Random.AbstractRNG, d::Beta{T}) where T in Distributions at /Users/uqjnazar/.julia/packages/Distributions/fXTVC/src/univariate/continuous/beta.jl:173\n",
       "[39] rand(rng::Random.AbstractRNG, d::Poisson) in Distributions at /Users/uqjnazar/.julia/packages/Distributions/fXTVC/src/univariate/discrete/poisson.jl:139\n",
       "[40] rand(rng::Random.AbstractRNG, d::GeneralizedExtremeValue) in Distributions at /Users/uqjnazar/.julia/packages/Distributions/fXTVC/src/univariate/continuous/generalizedextremevalue.jl:240\n",
       "[41] rand(rng::Random.AbstractRNG, s::Distributions.UnivariateGMMSampler) in Distributions at /Users/uqjnazar/.julia/packages/Distributions/fXTVC/src/mixtures/unigmm.jl:41\n",
       "[42] rand(rng::Random.AbstractRNG, s::Distributions.GammaGDSampler) in Distributions at /Users/uqjnazar/.julia/packages/Distributions/fXTVC/src/samplers/gamma.jl:78\n",
       "[43] rand(rng::Random.AbstractRNG, sp::Random.SamplerTag{var\"#s832\", var\"#s831\", E} where {var\"#s832\"<:Set, var\"#s831\"<:Random.Sampler, E}) in Random at /Applications/Julia-1.6.app/Contents/Resources/julia/share/julia/stdlib/v1.6/Random/src/generation.jl:423\n",
       "[44] rand(rng::Random.AbstractRNG, sampler::Distributions.PoissonADSampler) in Distributions at /Users/uqjnazar/.julia/packages/Distributions/fXTVC/src/samplers/poisson.jl:59\n",
       "[45] rand(rng::Random.AbstractRNG, d::SymTriangularDist) in Distributions at /Users/uqjnazar/.julia/packages/Distributions/fXTVC/src/univariate/continuous/symtriangular.jl:129\n",
       "[46] rand(rng::Random.AbstractRNG, d::DiscreteNonParametric) in Distributions at /Users/uqjnazar/.julia/packages/Distributions/fXTVC/src/univariate/discrete/discretenonparametric.jl:72\n",
       "[47] rand(rng::Random.AbstractRNG, d::BetaBinomial) in Distributions at /Users/uqjnazar/.julia/packages/Distributions/fXTVC/src/univariate/discrete/betabinomial.jl:114\n",
       "[48] rand(rng::Random.AbstractRNG, d::BetaPrime) in Distributions at /Users/uqjnazar/.julia/packages/Distributions/fXTVC/src/univariate/continuous/betaprime.jl:113\n",
       "[49] rand(rng::Random.AbstractRNG, d::TDist) in Distributions at /Users/uqjnazar/.julia/packages/Distributions/fXTVC/src/univariate/continuous/tdist.jl:81\n",
       "[50] rand(rng::Random.AbstractRNG, d::FDist) in Distributions at /Users/uqjnazar/.julia/packages/Distributions/fXTVC/src/univariate/continuous/fdist.jl:103\n",
       "[51] rand(rng::Random.AbstractRNG, s::Distributions.BetaSampler) in Distributions at /Users/uqjnazar/.julia/packages/Distributions/fXTVC/src/univariate/continuous/beta.jl:144\n",
       "[52] rand(rng::Random.AbstractRNG, d::LogitNormal) in Distributions at /Users/uqjnazar/.julia/packages/Distributions/fXTVC/src/univariate/continuous/logitnormal.jl:153\n",
       "[53] rand(rng::Random.AbstractRNG, d::SkewNormal) in Distributions at /Users/uqjnazar/.julia/packages/Distributions/fXTVC/src/univariate/continuous/skewnormal.jl:63\n",
       "[54] rand(rng::Random.AbstractRNG, d::UnivariateGMM) in Distributions at /Users/uqjnazar/.julia/packages/Distributions/fXTVC/src/mixtures/unigmm.jl:30\n",
       "[55] rand(rng::Random.AbstractRNG, sp::Random.SamplerRangeNDL{U, T}) where {U, T} in Random at /Applications/Julia-1.6.app/Contents/Resources/julia/share/julia/stdlib/v1.6/Random/src/generation.jl:330\n",
       "[56] rand(rng::Random.AbstractRNG, d::LocationScale) in Distributions at /Users/uqjnazar/.julia/packages/Distributions/fXTVC/src/univariate/locationscale.jl:118\n",
       "[57] rand(rng::Random.AbstractRNG, d::Truncated{Normal{T}, Continuous, T1} where T1<:Real) where T<:Real in Distributions at /Users/uqjnazar/.julia/packages/Distributions/fXTVC/src/truncated/normal.jl:140\n",
       "[58] rand(rng::Random.AbstractRNG, sp::Random.LessThan) in Random at /Applications/Julia-1.6.app/Contents/Resources/julia/share/julia/stdlib/v1.6/Random/src/Random.jl:222\n",
       "[59] rand(rng::Random.AbstractRNG, d::Levy) in Distributions at /Users/uqjnazar/.julia/packages/Distributions/fXTVC/src/univariate/continuous/levy.jl:103\n",
       "[60] rand(rng::Random.AbstractRNG, d::PGeneralizedGaussian) in Distributions at /Users/uqjnazar/.julia/packages/Distributions/fXTVC/src/univariate/continuous/pgeneralizedgaussian.jl:123\n",
       "[61] rand(rng::Random.AbstractRNG, s::Distributions.CategoricalDirectSampler) in Distributions at /Users/uqjnazar/.julia/packages/Distributions/fXTVC/src/samplers/categorical.jl:18\n",
       "[62] rand(rng::Random.AbstractRNG, sp::Random.SamplerSimple{var\"#s832\", var\"#s831\", E} where {var\"#s832\"<:AbstractArray, var\"#s831\"<:Random.Sampler, E}) in Random at /Applications/Julia-1.6.app/Contents/Resources/julia/share/julia/stdlib/v1.6/Random/src/generation.jl:398\n",
       "[63] rand(rng::Random.AbstractRNG, sp::Random.SamplerSimple{var\"#s832\", var\"#s831\", E} where {var\"#s832\"<:Dict, var\"#s831\"<:Random.Sampler, E}) in Random at /Applications/Julia-1.6.app/Contents/Resources/julia/share/julia/stdlib/v1.6/Random/src/generation.jl:411\n",
       "[64] rand(rng::Random.AbstractRNG, sp::Random.SamplerSimple{BitSet, var\"#s832\", E} where {var\"#s832\"<:Random.Sampler, E}) in Random at /Applications/Julia-1.6.app/Contents/Resources/julia/share/julia/stdlib/v1.6/Random/src/generation.jl:432\n",
       "[65] rand(rng::Random.AbstractRNG, sp::Random.SamplerSimple{var\"#s832\", var\"#s831\", E} where {var\"#s832\"<:AbstractString, var\"#s831\"<:Random.Sampler, E}) in Random at /Applications/Julia-1.6.app/Contents/Resources/julia/share/julia/stdlib/v1.6/Random/src/generation.jl:479\n",
       "[66] rand(rng::Random.AbstractRNG, sp::Random.SamplerSimple{Tuple{A, B}, S, E} where {S, E}) where {A, B} in Random at /Applications/Julia-1.6.app/Contents/Resources/julia/share/julia/stdlib/v1.6/Random/src/generation.jl:503\n",
       "[67] rand(rng::Random.AbstractRNG, sp::Random.SamplerSimple{Tuple{A, B, C}, S, E} where {S, E}) where {A, B, C} in Random at /Applications/Julia-1.6.app/Contents/Resources/julia/share/julia/stdlib/v1.6/Random/src/generation.jl:511\n",
       "[68] rand(rng::Random.AbstractRNG, sp::Random.SamplerSimple{T, S, E} where {S, E}) where T<:Tuple in Random at /Applications/Julia-1.6.app/Contents/Resources/julia/share/julia/stdlib/v1.6/Random/src/generation.jl:531\n",
       "[69] rand(rng::Random.AbstractRNG, d::Chi) in Distributions at /Users/uqjnazar/.julia/packages/Distributions/fXTVC/src/univariate/continuous/chi.jl:96\n",
       "[70] rand(rng::Random.AbstractRNG, d::Bernoulli) in Distributions at /Users/uqjnazar/.julia/packages/Distributions/fXTVC/src/univariate/discrete/bernoulli.jl:111\n",
       "[71] rand(rng::Random.AbstractRNG, d::NoncentralBeta) in Distributions at /Users/uqjnazar/.julia/packages/Distributions/fXTVC/src/univariate/continuous/noncentralbeta.jl:43\n",
       "[72] rand(rng::Random.AbstractRNG, d::Rayleigh) in Distributions at /Users/uqjnazar/.julia/packages/Distributions/fXTVC/src/univariate/continuous/rayleigh.jl:94\n",
       "[73] rand(rng::Random.AbstractRNG, s::Distributions.ChiSampler) in Distributions at /Users/uqjnazar/.julia/packages/Distributions/fXTVC/src/univariate/continuous/chi.jl:104\n",
       "[74] rand(rng::Random.AbstractRNG, d::Dirac) in Distributions at /Users/uqjnazar/.julia/packages/Distributions/fXTVC/src/univariate/discrete/dirac.jl:57\n",
       "[75] rand(rng::Random.AbstractRNG, d::TriangularDist) in Distributions at /Users/uqjnazar/.julia/packages/Distributions/fXTVC/src/univariate/continuous/triangular.jl:147\n",
       "[76] rand(rng::Random.AbstractRNG, s::Distributions.GammaIPSampler) in Distributions at /Users/uqjnazar/.julia/packages/Distributions/fXTVC/src/samplers/gamma.jl:207\n",
       "[77] rand(rng::Random.AbstractRNG, d::Uniform) in Distributions at /Users/uqjnazar/.julia/packages/Distributions/fXTVC/src/univariate/continuous/uniform.jl:112\n",
       "[78] rand(rng::Random.AbstractRNG, d::VonMises) in Distributions at /Users/uqjnazar/.julia/packages/Distributions/fXTVC/src/univariate/continuous/vonmises.jl:95\n",
       "[79] rand(rng::Random.AbstractRNG, s::Distributions.DiscreteNonParametricSampler) in Distributions at /Users/uqjnazar/.julia/packages/Distributions/fXTVC/src/samplers/discretenonparametric.jl:22\n",
       "[80] rand(rng::Random.AbstractRNG, d::NegativeBinomial) in Distributions at /Users/uqjnazar/.julia/packages/Distributions/fXTVC/src/univariate/discrete/negativebinomial.jl:113\n",
       "[81] rand(rng::Random.AbstractRNG, d::Normal{T}) where T in Distributions at /Users/uqjnazar/.julia/packages/Distributions/fXTVC/src/univariate/continuous/normal.jl:243\n",
       "[82] rand(rng::Random.AbstractRNG, d::InverseGaussian) in Distributions at /Users/uqjnazar/.julia/packages/Distributions/fXTVC/src/univariate/continuous/inversegaussian.jl:153\n",
       "[83] rand(rng::Random.AbstractRNG, s::Distributions.PoissonCountSampler) in Distributions at /Users/uqjnazar/.julia/packages/Distributions/fXTVC/src/samplers/poisson.jl:22\n",
       "[84] rand(rng::Random.AbstractRNG, d::Weibull) in Distributions at /Users/uqjnazar/.julia/packages/Distributions/fXTVC/src/univariate/continuous/weibull.jl:141\n",
       "[85] rand(rng::Random.AbstractRNG, d::Pareto) in Distributions at /Users/uqjnazar/.julia/packages/Distributions/fXTVC/src/univariate/continuous/pareto.jl:112\n",
       "[86] rand(rng::Random.AbstractRNG, d::Exponential) in Distributions at /Users/uqjnazar/.julia/packages/Distributions/fXTVC/src/univariate/continuous/exponential.jl:96\n",
       "[87] rand(rng::Random.AbstractRNG, d::LogNormal) in Distributions at /Users/uqjnazar/.julia/packages/Distributions/fXTVC/src/univariate/continuous/lognormal.jl:154\n",
       "[88] rand(rng::Random.AbstractRNG, ::Random.UniformT{T}) where T in Random at /Applications/Julia-1.6.app/Contents/Resources/julia/share/julia/stdlib/v1.6/Random/src/Random.jl:242\n",
       "[89] rand(r::Random.AbstractRNG, ::Random.SamplerType{Complex{T}}) where T<:Real in Random at /Applications/Julia-1.6.app/Contents/Resources/julia/share/julia/stdlib/v1.6/Random/src/generation.jl:159\n",
       "[90] rand(r::Random.AbstractRNG, ::Random.SamplerType{T}) where T<:AbstractChar in Random at /Applications/Julia-1.6.app/Contents/Resources/julia/share/julia/stdlib/v1.6/Random/src/generation.jl:165\n",
       "[91] rand(rng::Random.AbstractRNG, d::GeneralizedPareto) in Distributions at /Users/uqjnazar/.julia/packages/Distributions/fXTVC/src/univariate/continuous/generalizedpareto.jl:175\n",
       "[92] rand(rng::Random.AbstractRNG, sp::Random.SamplerBigFloat{T}) where T<:Random.FloatInterval{BigFloat} in Random at /Applications/Julia-1.6.app/Contents/Resources/julia/share/julia/stdlib/v1.6/Random/src/generation.jl:103\n",
       "[93] rand(rng::Random.AbstractRNG, d::MixtureModel{Univariate, VS, C, CT} where {VS<:ValueSupport, C<:Distribution, CT<:(Categorical{P, Ps} where {P<:Real, Ps<:AbstractVector{P}})}) in Distributions at /Users/uqjnazar/.julia/packages/Distributions/fXTVC/src/mixtures/mixturemodel.jl:459\n",
       "[94] rand(rng::Random.AbstractRNG, ::Type{X}) where X in Random at /Applications/Julia-1.6.app/Contents/Resources/julia/share/julia/stdlib/v1.6/Random/src/Random.jl:256\n",
       "[95] rand(r::Random.AbstractRNG, ::Type{X}, d::Integer, dims::Integer...) where X in Random at /Applications/Julia-1.6.app/Contents/Resources/julia/share/julia/stdlib/v1.6/Random/src/Random.jl:291\n",
       "[96] rand(r::Random.AbstractRNG, ::Type{X}, dims::Tuple{Vararg{Int64, N}} where N) where X in Random at /Applications/Julia-1.6.app/Contents/Resources/julia/share/julia/stdlib/v1.6/Random/src/Random.jl:288\n",
       "[97] rand(rng::Random.AbstractRNG, s::Distributions.GammaMTSampler) in Distributions at /Users/uqjnazar/.julia/packages/Distributions/fXTVC/src/samplers/gamma.jl:178\n",
       "[98] rand(rng::Random.AbstractRNG, s::Distributions.GammaGSSampler) in Distributions at /Users/uqjnazar/.julia/packages/Distributions/fXTVC/src/samplers/gamma.jl:141\n",
       "[99] rand(rng::Random.AbstractRNG, d::Chernoff) in Distributions at /Users/uqjnazar/.julia/packages/Distributions/fXTVC/src/univariate/continuous/chernoff.jl:231\n",
       "[100] rand(rng::Random.AbstractRNG, s::Distributions.AliasTable) in Distributions at /Users/uqjnazar/.julia/packages/Distributions/fXTVC/src/samplers/aliastable.jl:16\n",
       "[101] rand(rng::Random.AbstractRNG, s::Distributions.ExponentialLogUSampler) in Distributions at /Users/uqjnazar/.julia/packages/Distributions/fXTVC/src/samplers/exponential.jl:11\n",
       "[102] rand(rng::Random.AbstractRNG, d::DiscreteUniform) in Distributions at /Users/uqjnazar/.julia/packages/Distributions/fXTVC/src/univariate/discrete/discreteuniform.jl:105\n",
       "[103] rand(rng::Random.AbstractRNG, s::Distributions.BinomialAliasSampler) in Distributions at /Users/uqjnazar/.julia/packages/Distributions/fXTVC/src/samplers/binomial.jl:234\n",
       "[104] rand(rng::Random.AbstractRNG, s::Distributions.BinomialGeomSampler) in Distributions at /Users/uqjnazar/.julia/packages/Distributions/fXTVC/src/samplers/binomial.jl:47\n",
       "[105] rand(rng::Random.AbstractRNG, s::Distributions.BinomialPolySampler) in Distributions at /Users/uqjnazar/.julia/packages/Distributions/fXTVC/src/samplers/binomial.jl:263\n",
       "[106] rand(rng::Random.AbstractRNG, s::Distributions.BinomialTPESampler) in Distributions at /Users/uqjnazar/.julia/packages/Distributions/fXTVC/src/samplers/binomial.jl:132\n",
       "[107] rand(rng::Random.AbstractRNG, sp::Random.SamplerBigInt) in Random at /Applications/Julia-1.6.app/Contents/Resources/julia/share/julia/stdlib/v1.6/Random/src/generation.jl:370\n",
       "[108] rand(rng::Random.AbstractRNG, d::Kolmogorov) in Distributions at /Users/uqjnazar/.julia/packages/Distributions/fXTVC/src/univariate/continuous/kolmogorov.jl:109\n",
       "[109] rand(rng::Random.AbstractRNG, d::UnivariateDistribution{S} where S<:ValueSupport) in Distributions at /Users/uqjnazar/.julia/packages/Distributions/fXTVC/src/univariates.jl:182\n",
       "[110] rand(rng::Random.AbstractRNG, s::Distributions.VonMisesSampler) in Distributions at /Users/uqjnazar/.julia/packages/Distributions/fXTVC/src/samplers/vonmises.jl:18\n",
       "[111] rand(rng::Random.AbstractRNG, s::Distributions.PoissBinAliasSampler) in Distributions at /Users/uqjnazar/.julia/packages/Distributions/fXTVC/src/samplers/poissonbinomial.jl:7\n",
       "[112] rand(rng::Random.AbstractRNG, s::Distributions.ExponentialSampler) in Distributions at /Users/uqjnazar/.julia/packages/Distributions/fXTVC/src/samplers/exponential.jl:5\n",
       "[113] rand(rng::Random.AbstractRNG, s::Sampleable{Matrixvariate, Continuous}) in Distributions at /Users/uqjnazar/.julia/packages/Distributions/fXTVC/src/matrixvariates.jl:139\n",
       "[114] rand(rng::Random.AbstractRNG, s::Sampleable{Matrixvariate, Continuous}, dims::Tuple{Vararg{Int64, N}} where N) in Distributions at /Users/uqjnazar/.julia/packages/Distributions/fXTVC/src/matrixvariates.jl:133\n",
       "[115] rand(rng::Random.AbstractRNG, s::Sampleable{Matrixvariate, S} where S<:ValueSupport) in Distributions at /Users/uqjnazar/.julia/packages/Distributions/fXTVC/src/matrixvariates.jl:137\n",
       "[116] rand(rng::Random.AbstractRNG, s::Sampleable{Matrixvariate, S} where S<:ValueSupport, dims::Tuple{Vararg{Int64, N}} where N) in Distributions at /Users/uqjnazar/.julia/packages/Distributions/fXTVC/src/matrixvariates.jl:131\n",
       "[117] rand(rng::Random.AbstractRNG, s::Sampleable{Multivariate, Continuous}) in Distributions at /Users/uqjnazar/.julia/packages/Distributions/fXTVC/src/multivariates.jl:82\n",
       "[118] rand(rng::Random.AbstractRNG, s::Sampleable{Multivariate, Continuous}, dims::Tuple{Vararg{Int64, N}} where N) in Distributions at /Users/uqjnazar/.julia/packages/Distributions/fXTVC/src/multivariates.jl:76\n",
       "[119] rand(rng::Random.AbstractRNG, s::Sampleable{Multivariate, S} where S<:ValueSupport, dims::Tuple{Vararg{Int64, N}} where N) in Distributions at /Users/uqjnazar/.julia/packages/Distributions/fXTVC/src/multivariates.jl:74\n",
       "[120] rand(rng::Random.AbstractRNG, s::Sampleable{Multivariate, Continuous}, n::Int64) in Distributions at /Users/uqjnazar/.julia/packages/Distributions/fXTVC/src/multivariates.jl:72\n",
       "[121] rand(rng::Random.AbstractRNG, s::Sampleable{Multivariate, S} where S<:ValueSupport) in Distributions at /Users/uqjnazar/.julia/packages/Distributions/fXTVC/src/multivariates.jl:80\n",
       "[122] rand(rng::Random.AbstractRNG, s::Sampleable{Multivariate, S} where S<:ValueSupport, n::Int64) in Distributions at /Users/uqjnazar/.julia/packages/Distributions/fXTVC/src/multivariates.jl:70\n",
       "[123] rand(rng::Random.AbstractRNG, s::Sampleable{Univariate, Continuous}, dims::Tuple{Vararg{Int64, N}} where N) in Distributions at /Users/uqjnazar/.julia/packages/Distributions/fXTVC/src/univariates.jl:160\n",
       "[124] rand(rng::Random.AbstractRNG, s::Sampleable{Univariate, S} where S<:ValueSupport, dims::Tuple{Vararg{Int64, N}} where N) in Distributions at /Users/uqjnazar/.julia/packages/Distributions/fXTVC/src/univariates.jl:158\n",
       "[125] rand(rng::Random.AbstractRNG, s::Sampleable, dim1::Int64, moredims::Int64...) in Distributions at /Users/uqjnazar/.julia/packages/Distributions/fXTVC/src/genericrand.jl:26\n",
       "[126] rand(d::NoncentralChisq) in Distributions at /Users/uqjnazar/.julia/packages/Distributions/fXTVC/src/univariate/continuous/noncentralchisq.jl:79\n",
       "[127] rand(d::NoncentralChisq, n::Int64) in Distributions at /Users/uqjnazar/.julia/packages/Distributions/fXTVC/src/common.jl:176\n",
       "[128] rand(d::NoncentralBeta) in Distributions at /Users/uqjnazar/.julia/packages/Distributions/fXTVC/src/univariate/continuous/noncentralbeta.jl:36\n",
       "[129] rand(d::NoncentralBeta, n::Int64) in Distributions at /Users/uqjnazar/.julia/packages/Distributions/fXTVC/src/common.jl:176\n",
       "[130] rand(::Type{X}) where X in Random at /Applications/Julia-1.6.app/Contents/Resources/julia/share/julia/stdlib/v1.6/Random/src/Random.jl:259\n",
       "[131] rand(::Type{X}, dims::Tuple{Vararg{Int64, N}} where N) where X in Random at /Applications/Julia-1.6.app/Contents/Resources/julia/share/julia/stdlib/v1.6/Random/src/Random.jl:289\n",
       "[132] rand(::Type{X}, d::Integer, dims::Integer...) where X in Random at /Applications/Julia-1.6.app/Contents/Resources/julia/share/julia/stdlib/v1.6/Random/src/Random.jl:292\n",
       "[133] rand(d::Chernoff) in Distributions at /Users/uqjnazar/.julia/packages/Distributions/fXTVC/src/univariate/continuous/chernoff.jl:230\n",
       "[134] rand(::Random._GLOBAL_RNG, x::Random.SamplerTrivial{Random.UInt52Raw{UInt64}, E} where E) in Random at /Applications/Julia-1.6.app/Contents/Resources/julia/share/julia/stdlib/v1.6/Random/src/RNGs.jl:413\n",
       "[135] rand(::Random._GLOBAL_RNG, x::Random.SamplerTrivial{Random.UInt2x52Raw{UInt128}, E} where E) in Random at /Applications/Julia-1.6.app/Contents/Resources/julia/share/julia/stdlib/v1.6/Random/src/RNGs.jl:413\n",
       "[136] rand(::Random._GLOBAL_RNG, x::Random.SamplerTrivial{Random.UInt104Raw{UInt128}, E} where E) in Random at /Applications/Julia-1.6.app/Contents/Resources/julia/share/julia/stdlib/v1.6/Random/src/RNGs.jl:413\n",
       "[137] rand(::Random._GLOBAL_RNG, x::Random.SamplerTrivial{Random.CloseOpen12{Float64}, E} where E) in Random at /Applications/Julia-1.6.app/Contents/Resources/julia/share/julia/stdlib/v1.6/Random/src/RNGs.jl:413\n",
       "[138] rand(::Random._GLOBAL_RNG, x::Union{Random.SamplerType{Int128}, Random.SamplerType{Int64}, Random.SamplerType{UInt128}, Random.SamplerType{UInt64}}) in Random at /Applications/Julia-1.6.app/Contents/Resources/julia/share/julia/stdlib/v1.6/Random/src/RNGs.jl:413\n",
       "[139] rand(::Random._GLOBAL_RNG, x::Union{Random.SamplerType{Bool}, Random.SamplerType{Int16}, Random.SamplerType{Int32}, Random.SamplerType{Int8}, Random.SamplerType{UInt16}, Random.SamplerType{UInt32}, Random.SamplerType{UInt8}}) in Random at /Applications/Julia-1.6.app/Contents/Resources/julia/share/julia/stdlib/v1.6/Random/src/RNGs.jl:413\n",
       "[140] rand(::Random._GLOBAL_RNG, sp::Union{Random.SamplerType{Bool}, Random.SamplerType{Int128}, Random.SamplerType{Int16}, Random.SamplerType{Int32}, Random.SamplerType{Int64}, Random.SamplerType{Int8}, Random.SamplerType{UInt128}, Random.SamplerType{UInt16}, Random.SamplerType{UInt32}, Random.SamplerType{UInt64}, Random.SamplerType{UInt8}}) in Random at /Applications/Julia-1.6.app/Contents/Resources/julia/share/julia/stdlib/v1.6/Random/src/RNGs.jl:405\n",
       "[141] rand(rng::MbedTLS.CtrDrbg, size::Integer) in MbedTLS at /Users/uqjnazar/.julia/packages/MbedTLS/4YY6E/src/ctr_drbg.jl:44\n",
       "[142] rand(rd::Random.RandomDevice, ::Random.SamplerType{Bool}) in Random at /Applications/Julia-1.6.app/Contents/Resources/julia/share/julia/stdlib/v1.6/Random/src/RNGs.jl:28\n",
       "[143] rand(rd::Random.RandomDevice, sp::Union{Random.SamplerType{Bool}, Random.SamplerType{Int128}, Random.SamplerType{Int16}, Random.SamplerType{Int32}, Random.SamplerType{Int64}, Random.SamplerType{Int8}, Random.SamplerType{UInt128}, Random.SamplerType{UInt16}, Random.SamplerType{UInt32}, Random.SamplerType{UInt64}, Random.SamplerType{UInt8}}) in Random at /Applications/Julia-1.6.app/Contents/Resources/julia/share/julia/stdlib/v1.6/Random/src/RNGs.jl:27\n",
       "[144] rand(r::Random.MersenneTwister, x::Random.SamplerTrivial{Random.UInt52Raw{UInt64}, E} where E) in Random at /Applications/Julia-1.6.app/Contents/Resources/julia/share/julia/stdlib/v1.6/Random/src/RNGs.jl:442\n",
       "[145] rand(r::Random.AbstractRNG, ::Random.SamplerTrivial{Random.UInt52Raw{UInt64}, E} where E) in Random at /Applications/Julia-1.6.app/Contents/Resources/julia/share/julia/stdlib/v1.6/Random/src/generation.jl:114\n",
       "[146] rand(r::Random.MersenneTwister, ::Random.SamplerTrivial{Random.UInt2x52Raw{UInt128}, E} where E) in Random at /Applications/Julia-1.6.app/Contents/Resources/julia/share/julia/stdlib/v1.6/Random/src/RNGs.jl:447\n",
       "[147] rand(r::Random.MersenneTwister, ::Random.SamplerTrivial{Random.UInt104Raw{UInt128}, E} where E) in Random at /Applications/Julia-1.6.app/Contents/Resources/julia/share/julia/stdlib/v1.6/Random/src/RNGs.jl:452\n",
       "[148] rand(r::Random.AbstractRNG, ::Random.SamplerTrivial{Random.UInt104Raw{UInt128}, E} where E) in Random at /Applications/Julia-1.6.app/Contents/Resources/julia/share/julia/stdlib/v1.6/Random/src/generation.jl:120\n",
       "[149] rand(r::Random.AbstractRNG, sp::Random.SamplerTrivial{var\"#s832\", E} where {var\"#s832\"<:Random.UniformBits{T}, E}) where T in Random at /Applications/Julia-1.6.app/Contents/Resources/julia/share/julia/stdlib/v1.6/Random/src/generation.jl:128\n",
       "[150] rand(r::Random.MersenneTwister, sp::Random.SamplerTrivial{Random.CloseOpen12{Float64}, E} where E) in Random at /Applications/Julia-1.6.app/Contents/Resources/julia/share/julia/stdlib/v1.6/Random/src/RNGs.jl:459\n",
       "[151] rand(r::Random.AbstractRNG, ::Random.SamplerTrivial{Random.CloseOpen12{Float64}, E} where E) in Random at /Applications/Julia-1.6.app/Contents/Resources/julia/share/julia/stdlib/v1.6/Random/src/generation.jl:32\n",
       "[152] rand(rng::Random.AbstractRNG, sp::Random.SamplerTrivial{var\"#s832\", E} where {var\"#s832\"<:Union{AbstractDict, AbstractSet}, E}) in Random at /Applications/Julia-1.6.app/Contents/Resources/julia/share/julia/stdlib/v1.6/Random/src/generation.jl:459\n",
       "[153] rand(r::Random.MersenneTwister, T::Union{Random.SamplerType{Int128}, Random.SamplerType{Int64}, Random.SamplerType{UInt128}, Random.SamplerType{UInt64}}) in Random at /Applications/Julia-1.6.app/Contents/Resources/julia/share/julia/stdlib/v1.6/Random/src/RNGs.jl:464\n",
       "[154] rand(r::Random.MersenneTwister, T::Union{Random.SamplerType{Bool}, Random.SamplerType{Int16}, Random.SamplerType{Int32}, Random.SamplerType{Int8}, Random.SamplerType{UInt16}, Random.SamplerType{UInt32}, Random.SamplerType{UInt8}}) in Random at /Applications/Julia-1.6.app/Contents/Resources/julia/share/julia/stdlib/v1.6/Random/src/RNGs.jl:467\n",
       "[155] rand(rng::Random.AbstractRNG) in Random at /Applications/Julia-1.6.app/Contents/Resources/julia/share/julia/stdlib/v1.6/Random/src/Random.jl:256\n",
       "[156] rand(r::Random.AbstractRNG, dims::Integer...) in Random at /Applications/Julia-1.6.app/Contents/Resources/julia/share/julia/stdlib/v1.6/Random/src/Random.jl:276\n",
       "[157] rand(rng::Random.AbstractRNG, X) in Random at /Applications/Julia-1.6.app/Contents/Resources/julia/share/julia/stdlib/v1.6/Random/src/Random.jl:253\n",
       "[158] rand(r::Random.AbstractRNG, X, d::Integer, dims::Integer...) in Random at /Applications/Julia-1.6.app/Contents/Resources/julia/share/julia/stdlib/v1.6/Random/src/Random.jl:282\n",
       "[159] rand(r::Random.AbstractRNG, X, dims::Tuple{Vararg{Int64, N}} where N) in Random at /Applications/Julia-1.6.app/Contents/Resources/julia/share/julia/stdlib/v1.6/Random/src/Random.jl:279\n",
       "[160] rand(d::Hypergeometric) in Distributions at /Users/uqjnazar/.julia/packages/Distributions/fXTVC/src/univariate/discrete/hypergeometric.jl:90\n",
       "[161] rand(d::Hypergeometric, n::Int64) in Distributions at /Users/uqjnazar/.julia/packages/Distributions/fXTVC/src/common.jl:176\n",
       "[162] rand(s::Sampleable{Multivariate, S} where S<:ValueSupport, n::Int64) in Distributions at /Users/uqjnazar/.julia/packages/Distributions/fXTVC/src/multivariates.jl:69\n",
       "[163] rand(s::Sampleable) in Distributions at /Users/uqjnazar/.julia/packages/Distributions/fXTVC/src/genericrand.jl:22\n",
       "[164] rand(rng, ::Random.AbstractRNG, d::Erlang) in Distributions at /Users/uqjnazar/.julia/packages/Distributions/fXTVC/src/univariate/continuous/erlang.jl:84\n",
       "[165] rand(s::Sampleable, dim1::Int64, moredims::Int64...) in Distributions at /Users/uqjnazar/.julia/packages/Distributions/fXTVC/src/genericrand.jl:24\n",
       "[166] rand(X, d::Integer, dims::Integer...) in Random at /Applications/Julia-1.6.app/Contents/Resources/julia/share/julia/stdlib/v1.6/Random/src/Random.jl:283\n",
       "[167] rand(s::Sampleable, dims::Tuple{Vararg{Int64, N}} where N) in Distributions at /Users/uqjnazar/.julia/packages/Distributions/fXTVC/src/genericrand.jl:23\n",
       "[168] rand(X) in Random at /Applications/Julia-1.6.app/Contents/Resources/julia/share/julia/stdlib/v1.6/Random/src/Random.jl:258\n",
       "[169] rand(X, dims::Tuple{Vararg{Int64, N}} where N) in Random at /Applications/Julia-1.6.app/Contents/Resources/julia/share/julia/stdlib/v1.6/Random/src/Random.jl:280"
      ]
     },
     "execution_count": 15,
     "metadata": {},
     "output_type": "execute_result"
    }
   ],
   "source": [
    "methods(rand)"
   ]
  },
  {
   "cell_type": "code",
   "execution_count": 1,
   "metadata": {},
   "outputs": [
    {
     "data": {
      "text/html": [
       "# 190 methods for generic function <b>+</b>:<ul><li> +(x::<b>T</b>, y::<b>T</b>)<i> where T<:Union{Int128, Int16, Int32, Int64, Int8, UInt128, UInt16, UInt32, UInt64, UInt8}</i> in Base at <a href=\"https://github.com/JuliaLang/julia/tree/f9720dc2ebd6cd9e3086365f281e62506444ef37/base/int.jl#L87\" target=\"_blank\">int.jl:87</a></li> <li> +(c::<b>Union{UInt16, UInt32, UInt64, UInt8}</b>, x::<b>BigInt</b>) in Base.GMP at <a href=\"https://github.com/JuliaLang/julia/tree/f9720dc2ebd6cd9e3086365f281e62506444ef37/base/gmp.jl#L528\" target=\"_blank\">gmp.jl:528</a></li> <li> +(c::<b>Union{Int16, Int32, Int64, Int8}</b>, x::<b>BigInt</b>) in Base.GMP at <a href=\"https://github.com/JuliaLang/julia/tree/f9720dc2ebd6cd9e3086365f281e62506444ef37/base/gmp.jl#L534\" target=\"_blank\">gmp.jl:534</a></li> <li> +(c::<b>Union{UInt16, UInt32, UInt64, UInt8}</b>, x::<b>BigFloat</b>) in Base.MPFR at <a href=\"https://github.com/JuliaLang/julia/tree/f9720dc2ebd6cd9e3086365f281e62506444ef37/base/mpfr.jl#L376\" target=\"_blank\">mpfr.jl:376</a></li> <li> +(c::<b>Union{Int16, Int32, Int64, Int8}</b>, x::<b>BigFloat</b>) in Base.MPFR at <a href=\"https://github.com/JuliaLang/julia/tree/f9720dc2ebd6cd9e3086365f281e62506444ef37/base/mpfr.jl#L384\" target=\"_blank\">mpfr.jl:384</a></li> <li> +(c::<b>Union{Float16, Float32, Float64}</b>, x::<b>BigFloat</b>) in Base.MPFR at <a href=\"https://github.com/JuliaLang/julia/tree/f9720dc2ebd6cd9e3086365f281e62506444ef37/base/mpfr.jl#L392\" target=\"_blank\">mpfr.jl:392</a></li> <li> +(x::<b>Union{Dates.CompoundPeriod, Dates.Period}</b>) in Dates at <a href=\"file:///Users/julia/buildbot/worker/package_macos64/build/usr/share/julia/stdlib/v1.6/Dates/src/periods.jl\" target=\"_blank\">/Applications/Julia-1.6.app/Contents/Resources/julia/share/julia/stdlib/v1.6/Dates/src/periods.jl:362</a></li> <li> +(Da::<b>LinearAlgebra.Diagonal</b>, Db::<b>LinearAlgebra.Diagonal</b>) in LinearAlgebra at <a href=\"file:///Users/julia/buildbot/worker/package_macos64/build/usr/share/julia/stdlib/v1.6/LinearAlgebra/src/diagonal.jl\" target=\"_blank\">/Applications/Julia-1.6.app/Contents/Resources/julia/share/julia/stdlib/v1.6/LinearAlgebra/src/diagonal.jl:156</a></li> <li> +(D::<b>LinearAlgebra.Diagonal</b>, S::<b>LinearAlgebra.Symmetric</b>) in LinearAlgebra at <a href=\"file:///Users/julia/buildbot/worker/package_macos64/build/usr/share/julia/stdlib/v1.6/LinearAlgebra/src/diagonal.jl\" target=\"_blank\">/Applications/Julia-1.6.app/Contents/Resources/julia/share/julia/stdlib/v1.6/LinearAlgebra/src/diagonal.jl:160</a></li> <li> +(D::<b>LinearAlgebra.Diagonal{var\"#s832\", V} where {var\"#s832\"<:Real, V<:AbstractVector{var\"#s832\"}}</b>, H::<b>LinearAlgebra.Hermitian</b>) in LinearAlgebra at <a href=\"file:///Users/julia/buildbot/worker/package_macos64/build/usr/share/julia/stdlib/v1.6/LinearAlgebra/src/diagonal.jl\" target=\"_blank\">/Applications/Julia-1.6.app/Contents/Resources/julia/share/julia/stdlib/v1.6/LinearAlgebra/src/diagonal.jl:166</a></li> <li> +(A::<b>LinearAlgebra.Diagonal</b>, B::<b>LinearAlgebra.Bidiagonal</b>) in LinearAlgebra at <a href=\"file:///Users/julia/buildbot/worker/package_macos64/build/usr/share/julia/stdlib/v1.6/LinearAlgebra/src/special.jl\" target=\"_blank\">/Applications/Julia-1.6.app/Contents/Resources/julia/share/julia/stdlib/v1.6/LinearAlgebra/src/special.jl:125</a></li> <li> +(A::<b>LinearAlgebra.Diagonal</b>, B::<b>LinearAlgebra.SymTridiagonal</b>) in LinearAlgebra at <a href=\"file:///Users/julia/buildbot/worker/package_macos64/build/usr/share/julia/stdlib/v1.6/LinearAlgebra/src/special.jl\" target=\"_blank\">/Applications/Julia-1.6.app/Contents/Resources/julia/share/julia/stdlib/v1.6/LinearAlgebra/src/special.jl:135</a></li> <li> +(A::<b>LinearAlgebra.Diagonal</b>, B::<b>LinearAlgebra.Tridiagonal</b>) in LinearAlgebra at <a href=\"file:///Users/julia/buildbot/worker/package_macos64/build/usr/share/julia/stdlib/v1.6/LinearAlgebra/src/special.jl\" target=\"_blank\">/Applications/Julia-1.6.app/Contents/Resources/julia/share/julia/stdlib/v1.6/LinearAlgebra/src/special.jl:163</a></li> <li> +(A::<b>LinearAlgebra.Diagonal{var\"#s832\", V} where {var\"#s832\"<:Number, V<:AbstractVector{var\"#s832\"}}</b>, B::<b>LinearAlgebra.UniformScaling</b>) in LinearAlgebra at <a href=\"file:///Users/julia/buildbot/worker/package_macos64/build/usr/share/julia/stdlib/v1.6/LinearAlgebra/src/special.jl\" target=\"_blank\">/Applications/Julia-1.6.app/Contents/Resources/julia/share/julia/stdlib/v1.6/LinearAlgebra/src/special.jl:241</a></li> <li> +(A::<b>LinearAlgebra.UnitUpperTriangular</b>, B::<b>LinearAlgebra.UpperTriangular</b>) in LinearAlgebra at <a href=\"file:///Users/julia/buildbot/worker/package_macos64/build/usr/share/julia/stdlib/v1.6/LinearAlgebra/src/triangular.jl\" target=\"_blank\">/Applications/Julia-1.6.app/Contents/Resources/julia/share/julia/stdlib/v1.6/LinearAlgebra/src/triangular.jl:652</a></li> <li> +(A::<b>LinearAlgebra.UnitUpperTriangular</b>, B::<b>LinearAlgebra.UnitUpperTriangular</b>) in LinearAlgebra at <a href=\"file:///Users/julia/buildbot/worker/package_macos64/build/usr/share/julia/stdlib/v1.6/LinearAlgebra/src/triangular.jl\" target=\"_blank\">/Applications/Julia-1.6.app/Contents/Resources/julia/share/julia/stdlib/v1.6/LinearAlgebra/src/triangular.jl:654</a></li> <li> +(UL::<b>LinearAlgebra.UnitUpperTriangular</b>, J::<b>LinearAlgebra.UniformScaling</b>) in LinearAlgebra at <a href=\"file:///Users/julia/buildbot/worker/package_macos64/build/usr/share/julia/stdlib/v1.6/LinearAlgebra/src/uniformscaling.jl\" target=\"_blank\">/Applications/Julia-1.6.app/Contents/Resources/julia/share/julia/stdlib/v1.6/LinearAlgebra/src/uniformscaling.jl:182</a></li> <li> +(A::<b>LinearAlgebra.UnitUpperTriangular</b>, B::<b>LinearAlgebra.Bidiagonal</b>) in LinearAlgebra at <a href=\"file:///Users/julia/buildbot/worker/package_macos64/build/usr/share/julia/stdlib/v1.6/LinearAlgebra/src/special.jl\" target=\"_blank\">/Applications/Julia-1.6.app/Contents/Resources/julia/share/julia/stdlib/v1.6/LinearAlgebra/src/special.jl:86</a></li> <li> +(y::<b>Dates.TimeType</b>, x::<b>StridedArray{var\"#s832\", N} where {var\"#s832\"<:Union{Dates.CompoundPeriod, Dates.Period}, N}</b>) in Dates at <a href=\"file:///Users/julia/buildbot/worker/package_macos64/build/usr/share/julia/stdlib/v1.6/Dates/src/deprecated.jl\" target=\"_blank\">/Applications/Julia-1.6.app/Contents/Resources/julia/share/julia/stdlib/v1.6/Dates/src/deprecated.jl:18</a></li> <li> +(r1::<b>LinRange{T}</b>, r2::<b>LinRange{T}</b>)<i> where T</i> in Base at <a href=\"https://github.com/JuliaLang/julia/tree/f9720dc2ebd6cd9e3086365f281e62506444ef37/base/range.jl#L1108\" target=\"_blank\">range.jl:1108</a></li> <li> +(A::<b>BitArray</b>, B::<b>BitArray</b>) in Base at <a href=\"https://github.com/JuliaLang/julia/tree/f9720dc2ebd6cd9e3086365f281e62506444ef37/base/bitarray.jl#L1127\" target=\"_blank\">bitarray.jl:1127</a></li> <li> +(r1::<b>OrdinalRange</b>, r2::<b>OrdinalRange</b>) in Base at <a href=\"https://github.com/JuliaLang/julia/tree/f9720dc2ebd6cd9e3086365f281e62506444ef37/base/range.jl#L1101\" target=\"_blank\">range.jl:1101</a></li> <li> +(A::<b>LinearAlgebra.UnitLowerTriangular</b>, B::<b>LinearAlgebra.LowerTriangular</b>) in LinearAlgebra at <a href=\"file:///Users/julia/buildbot/worker/package_macos64/build/usr/share/julia/stdlib/v1.6/LinearAlgebra/src/triangular.jl\" target=\"_blank\">/Applications/Julia-1.6.app/Contents/Resources/julia/share/julia/stdlib/v1.6/LinearAlgebra/src/triangular.jl:653</a></li> <li> +(A::<b>LinearAlgebra.UnitLowerTriangular</b>, B::<b>LinearAlgebra.UnitLowerTriangular</b>) in LinearAlgebra at <a href=\"file:///Users/julia/buildbot/worker/package_macos64/build/usr/share/julia/stdlib/v1.6/LinearAlgebra/src/triangular.jl\" target=\"_blank\">/Applications/Julia-1.6.app/Contents/Resources/julia/share/julia/stdlib/v1.6/LinearAlgebra/src/triangular.jl:655</a></li> <li> +(UL::<b>LinearAlgebra.UnitLowerTriangular</b>, J::<b>LinearAlgebra.UniformScaling</b>) in LinearAlgebra at <a href=\"file:///Users/julia/buildbot/worker/package_macos64/build/usr/share/julia/stdlib/v1.6/LinearAlgebra/src/uniformscaling.jl\" target=\"_blank\">/Applications/Julia-1.6.app/Contents/Resources/julia/share/julia/stdlib/v1.6/LinearAlgebra/src/uniformscaling.jl:182</a></li> <li> +(A::<b>LinearAlgebra.UnitLowerTriangular</b>, B::<b>LinearAlgebra.Bidiagonal</b>) in LinearAlgebra at <a href=\"file:///Users/julia/buildbot/worker/package_macos64/build/usr/share/julia/stdlib/v1.6/LinearAlgebra/src/special.jl\" target=\"_blank\">/Applications/Julia-1.6.app/Contents/Resources/julia/share/julia/stdlib/v1.6/LinearAlgebra/src/special.jl:86</a></li> <li> +(r::<b>AbstractRange{var\"#s832\"} where var\"#s832\"<:Dates.TimeType</b>, x::<b>Dates.Period</b>) in Dates at <a href=\"file:///Users/julia/buildbot/worker/package_macos64/build/usr/share/julia/stdlib/v1.6/Dates/src/ranges.jl\" target=\"_blank\">/Applications/Julia-1.6.app/Contents/Resources/julia/share/julia/stdlib/v1.6/Dates/src/ranges.jl:63</a></li> <li> +(A::<b>LinearAlgebra.Symmetric</b>, B::<b>LinearAlgebra.Symmetric</b>) in LinearAlgebra at <a href=\"file:///Users/julia/buildbot/worker/package_macos64/build/usr/share/julia/stdlib/v1.6/LinearAlgebra/src/symmetric.jl\" target=\"_blank\">/Applications/Julia-1.6.app/Contents/Resources/julia/share/julia/stdlib/v1.6/LinearAlgebra/src/symmetric.jl:469</a></li> <li> +(S::<b>LinearAlgebra.Symmetric</b>, D::<b>LinearAlgebra.Diagonal</b>) in LinearAlgebra at <a href=\"file:///Users/julia/buildbot/worker/package_macos64/build/usr/share/julia/stdlib/v1.6/LinearAlgebra/src/diagonal.jl\" target=\"_blank\">/Applications/Julia-1.6.app/Contents/Resources/julia/share/julia/stdlib/v1.6/LinearAlgebra/src/diagonal.jl:163</a></li> <li> +(A::<b>LinearAlgebra.Symmetric{var\"#s830\", var\"#s829\"} where {var\"#s830\", var\"#s829\"<:(SparseArrays.AbstractSparseMatrix{Tv, Ti} where {Tv, Ti})}</b>, B::<b>SparseArrays.AbstractSparseMatrix{Tv, Ti} where {Tv, Ti}</b>) in SparseArrays at <a href=\"file:///Users/julia/buildbot/worker/package_macos64/build/usr/share/julia/stdlib/v1.6/SparseArrays/src/linalg.jl\" target=\"_blank\">/Applications/Julia-1.6.app/Contents/Resources/julia/share/julia/stdlib/v1.6/SparseArrays/src/linalg.jl:15</a></li> <li> +(A::<b>LinearAlgebra.Symmetric</b>, B::<b>SparseArrays.AbstractSparseMatrix{Tv, Ti} where {Tv, Ti}</b>) in SparseArrays at <a href=\"file:///Users/julia/buildbot/worker/package_macos64/build/usr/share/julia/stdlib/v1.6/SparseArrays/src/linalg.jl\" target=\"_blank\">/Applications/Julia-1.6.app/Contents/Resources/julia/share/julia/stdlib/v1.6/SparseArrays/src/linalg.jl:18</a></li> <li> +(A::<b>LinearAlgebra.Symmetric{var\"#s824\", var\"#s823\"} where {var\"#s824\"<:Real, var\"#s823\"<:(SparseArrays.AbstractSparseMatrix{Tv, Ti} where {Tv, Ti})}</b>, B::<b>LinearAlgebra.Hermitian{var\"#s822\", var\"#s821\"} where {var\"#s822\", var\"#s821\"<:(SparseArrays.AbstractSparseMatrix{Tv, Ti} where {Tv, Ti})}</b>) in SparseArrays at <a href=\"file:///Users/julia/buildbot/worker/package_macos64/build/usr/share/julia/stdlib/v1.6/SparseArrays/src/linalg.jl\" target=\"_blank\">/Applications/Julia-1.6.app/Contents/Resources/julia/share/julia/stdlib/v1.6/SparseArrays/src/linalg.jl:25</a></li> <li> +(A::<b>LinearAlgebra.Symmetric{var\"#s831\", S} where {var\"#s831\"<:Real, S<:(AbstractMatrix{var\"#s832\"} where var\"#s832\"<:var\"#s831\")}</b>, B::<b>LinearAlgebra.Hermitian</b>) in LinearAlgebra at <a href=\"file:///Users/julia/buildbot/worker/package_macos64/build/usr/share/julia/stdlib/v1.6/LinearAlgebra/src/symmetric.jl\" target=\"_blank\">/Applications/Julia-1.6.app/Contents/Resources/julia/share/julia/stdlib/v1.6/LinearAlgebra/src/symmetric.jl:484</a></li> <li> +(A::<b>LinearAlgebra.Symmetric{var\"#s832\", var\"#s831\"} where {var\"#s832\", var\"#s831\"<:(SparseArrays.AbstractSparseMatrix{Tv, Ti} where {Tv, Ti})}</b>, B::<b>LinearAlgebra.Hermitian{var\"#s830\", var\"#s829\"} where {var\"#s830\", var\"#s829\"<:(SparseArrays.AbstractSparseMatrix{Tv, Ti} where {Tv, Ti})}</b>) in SparseArrays at <a href=\"file:///Users/julia/buildbot/worker/package_macos64/build/usr/share/julia/stdlib/v1.6/SparseArrays/src/linalg.jl\" target=\"_blank\">/Applications/Julia-1.6.app/Contents/Resources/julia/share/julia/stdlib/v1.6/SparseArrays/src/linalg.jl:23</a></li> <li> +(x::<b>AbstractIrrational</b>, y::<b>AbstractIrrational</b>) in Base at <a href=\"https://github.com/JuliaLang/julia/tree/f9720dc2ebd6cd9e3086365f281e62506444ef37/base/irrationals.jl#L156\" target=\"_blank\">irrationals.jl:156</a></li> <li> +(A::<b>LinearAlgebra.LowerTriangular</b>, B::<b>LinearAlgebra.LowerTriangular</b>) in LinearAlgebra at <a href=\"file:///Users/julia/buildbot/worker/package_macos64/build/usr/share/julia/stdlib/v1.6/LinearAlgebra/src/triangular.jl\" target=\"_blank\">/Applications/Julia-1.6.app/Contents/Resources/julia/share/julia/stdlib/v1.6/LinearAlgebra/src/triangular.jl:649</a></li> <li> +(A::<b>LinearAlgebra.LowerTriangular</b>, B::<b>LinearAlgebra.UnitLowerTriangular</b>) in LinearAlgebra at <a href=\"file:///Users/julia/buildbot/worker/package_macos64/build/usr/share/julia/stdlib/v1.6/LinearAlgebra/src/triangular.jl\" target=\"_blank\">/Applications/Julia-1.6.app/Contents/Resources/julia/share/julia/stdlib/v1.6/LinearAlgebra/src/triangular.jl:651</a></li> <li> +(A::<b>LinearAlgebra.LowerTriangular</b>, B::<b>LinearAlgebra.Bidiagonal</b>) in LinearAlgebra at <a href=\"file:///Users/julia/buildbot/worker/package_macos64/build/usr/share/julia/stdlib/v1.6/LinearAlgebra/src/special.jl\" target=\"_blank\">/Applications/Julia-1.6.app/Contents/Resources/julia/share/julia/stdlib/v1.6/LinearAlgebra/src/special.jl:86</a></li> <li> +(x::<b>Rational</b>, y::<b>Integer</b>) in Base at <a href=\"https://github.com/JuliaLang/julia/tree/f9720dc2ebd6cd9e3086365f281e62506444ef37/base/rational.jl#L288\" target=\"_blank\">rational.jl:288</a></li> <li> +(z::<b>Complex</b>, w::<b>Complex</b>) in Base at <a href=\"https://github.com/JuliaLang/julia/tree/f9720dc2ebd6cd9e3086365f281e62506444ef37/base/complex.jl#L275\" target=\"_blank\">complex.jl:275</a></li> <li> +(A::<b>LinearAlgebra.Bidiagonal</b>, B::<b>LinearAlgebra.Bidiagonal</b>) in LinearAlgebra at <a href=\"file:///Users/julia/buildbot/worker/package_macos64/build/usr/share/julia/stdlib/v1.6/LinearAlgebra/src/bidiag.jl\" target=\"_blank\">/Applications/Julia-1.6.app/Contents/Resources/julia/share/julia/stdlib/v1.6/LinearAlgebra/src/bidiag.jl:354</a></li> <li> +(A::<b>LinearAlgebra.Bidiagonal</b>, B::<b>LinearAlgebra.UpperTriangular</b>) in LinearAlgebra at <a href=\"file:///Users/julia/buildbot/worker/package_macos64/build/usr/share/julia/stdlib/v1.6/LinearAlgebra/src/special.jl\" target=\"_blank\">/Applications/Julia-1.6.app/Contents/Resources/julia/share/julia/stdlib/v1.6/LinearAlgebra/src/special.jl:94</a></li> <li> +(A::<b>LinearAlgebra.Bidiagonal</b>, B::<b>LinearAlgebra.UnitUpperTriangular</b>) in LinearAlgebra at <a href=\"file:///Users/julia/buildbot/worker/package_macos64/build/usr/share/julia/stdlib/v1.6/LinearAlgebra/src/special.jl\" target=\"_blank\">/Applications/Julia-1.6.app/Contents/Resources/julia/share/julia/stdlib/v1.6/LinearAlgebra/src/special.jl:94</a></li> <li> +(A::<b>LinearAlgebra.Bidiagonal</b>, B::<b>LinearAlgebra.LowerTriangular</b>) in LinearAlgebra at <a href=\"file:///Users/julia/buildbot/worker/package_macos64/build/usr/share/julia/stdlib/v1.6/LinearAlgebra/src/special.jl\" target=\"_blank\">/Applications/Julia-1.6.app/Contents/Resources/julia/share/julia/stdlib/v1.6/LinearAlgebra/src/special.jl:94</a></li> <li> +(A::<b>LinearAlgebra.Bidiagonal</b>, B::<b>LinearAlgebra.UnitLowerTriangular</b>) in LinearAlgebra at <a href=\"file:///Users/julia/buildbot/worker/package_macos64/build/usr/share/julia/stdlib/v1.6/LinearAlgebra/src/special.jl\" target=\"_blank\">/Applications/Julia-1.6.app/Contents/Resources/julia/share/julia/stdlib/v1.6/LinearAlgebra/src/special.jl:94</a></li> <li> +(A::<b>LinearAlgebra.Bidiagonal</b>, B::<b>LinearAlgebra.Diagonal</b>) in LinearAlgebra at <a href=\"file:///Users/julia/buildbot/worker/package_macos64/build/usr/share/julia/stdlib/v1.6/LinearAlgebra/src/special.jl\" target=\"_blank\">/Applications/Julia-1.6.app/Contents/Resources/julia/share/julia/stdlib/v1.6/LinearAlgebra/src/special.jl:115</a></li> <li> +(A::<b>LinearAlgebra.Bidiagonal</b>, B::<b>LinearAlgebra.Tridiagonal</b>) in LinearAlgebra at <a href=\"file:///Users/julia/buildbot/worker/package_macos64/build/usr/share/julia/stdlib/v1.6/LinearAlgebra/src/special.jl\" target=\"_blank\">/Applications/Julia-1.6.app/Contents/Resources/julia/share/julia/stdlib/v1.6/LinearAlgebra/src/special.jl:183</a></li> <li> +(A::<b>LinearAlgebra.Bidiagonal</b>, B::<b>LinearAlgebra.SymTridiagonal</b>) in LinearAlgebra at <a href=\"file:///Users/julia/buildbot/worker/package_macos64/build/usr/share/julia/stdlib/v1.6/LinearAlgebra/src/special.jl\" target=\"_blank\">/Applications/Julia-1.6.app/Contents/Resources/julia/share/julia/stdlib/v1.6/LinearAlgebra/src/special.jl:203</a></li> <li> +(A::<b>LinearAlgebra.Bidiagonal{var\"#s832\", V} where {var\"#s832\"<:Number, V<:AbstractVector{var\"#s832\"}}</b>, B::<b>LinearAlgebra.UniformScaling</b>) in LinearAlgebra at <a href=\"file:///Users/julia/buildbot/worker/package_macos64/build/usr/share/julia/stdlib/v1.6/LinearAlgebra/src/special.jl\" target=\"_blank\">/Applications/Julia-1.6.app/Contents/Resources/julia/share/julia/stdlib/v1.6/LinearAlgebra/src/special.jl:236</a></li> <li> +(A::<b>LinearAlgebra.UpperHessenberg</b>, B::<b>LinearAlgebra.UpperHessenberg</b>) in LinearAlgebra at <a href=\"file:///Users/julia/buildbot/worker/package_macos64/build/usr/share/julia/stdlib/v1.6/LinearAlgebra/src/hessenberg.jl\" target=\"_blank\">/Applications/Julia-1.6.app/Contents/Resources/julia/share/julia/stdlib/v1.6/LinearAlgebra/src/hessenberg.jl:101</a></li> <li> +(H::<b>LinearAlgebra.UpperHessenberg</b>, J::<b>LinearAlgebra.UniformScaling</b>) in LinearAlgebra at <a href=\"file:///Users/julia/buildbot/worker/package_macos64/build/usr/share/julia/stdlib/v1.6/LinearAlgebra/src/hessenberg.jl\" target=\"_blank\">/Applications/Julia-1.6.app/Contents/Resources/julia/share/julia/stdlib/v1.6/LinearAlgebra/src/hessenberg.jl:106</a></li> <li> +(x::<b>P</b>, y::<b>P</b>)<i> where P<:Dates.Period</i> in Dates at <a href=\"file:///Users/julia/buildbot/worker/package_macos64/build/usr/share/julia/stdlib/v1.6/Dates/src/periods.jl\" target=\"_blank\">/Applications/Julia-1.6.app/Contents/Resources/julia/share/julia/stdlib/v1.6/Dates/src/periods.jl:79</a></li> <li> +(x::<b>Dates.Period</b>, y::<b>Dates.Period</b>) in Dates at <a href=\"file:///Users/julia/buildbot/worker/package_macos64/build/usr/share/julia/stdlib/v1.6/Dates/src/periods.jl\" target=\"_blank\">/Applications/Julia-1.6.app/Contents/Resources/julia/share/julia/stdlib/v1.6/Dates/src/periods.jl:351</a></li> <li> +(y::<b>Dates.Period</b>, x::<b>Dates.CompoundPeriod</b>) in Dates at <a href=\"file:///Users/julia/buildbot/worker/package_macos64/build/usr/share/julia/stdlib/v1.6/Dates/src/periods.jl\" target=\"_blank\">/Applications/Julia-1.6.app/Contents/Resources/julia/share/julia/stdlib/v1.6/Dates/src/periods.jl:353</a></li> <li> +(y::<b>Dates.Period</b>, x::<b>Dates.TimeType</b>) in Dates at <a href=\"file:///Users/julia/buildbot/worker/package_macos64/build/usr/share/julia/stdlib/v1.6/Dates/src/arithmetic.jl\" target=\"_blank\">/Applications/Julia-1.6.app/Contents/Resources/julia/share/julia/stdlib/v1.6/Dates/src/arithmetic.jl:85</a></li> <li> +(x::<b>Dates.Period</b>, r::<b>AbstractRange{var\"#s832\"} where var\"#s832\"<:Dates.TimeType</b>) in Dates at <a href=\"file:///Users/julia/buildbot/worker/package_macos64/build/usr/share/julia/stdlib/v1.6/Dates/src/ranges.jl\" target=\"_blank\">/Applications/Julia-1.6.app/Contents/Resources/julia/share/julia/stdlib/v1.6/Dates/src/ranges.jl:62</a></li> <li> +(y::<b>Union{Dates.CompoundPeriod, Dates.Period}</b>, x::<b>AbstractArray{var\"#s832\", N} where {var\"#s832\"<:Dates.TimeType, N}</b>) in Dates at <a href=\"file:///Users/julia/buildbot/worker/package_macos64/build/usr/share/julia/stdlib/v1.6/Dates/src/deprecated.jl\" target=\"_blank\">/Applications/Julia-1.6.app/Contents/Resources/julia/share/julia/stdlib/v1.6/Dates/src/deprecated.jl:14</a></li> <li> +(A::<b>Array</b>, Bs::<b>Array...</b>) in Base at <a href=\"https://github.com/JuliaLang/julia/tree/f9720dc2ebd6cd9e3086365f281e62506444ef37/base/arraymath.jl#L43\" target=\"_blank\">arraymath.jl:43</a></li> <li> +(X::<b>StridedArray{var\"#s832\", N} where {var\"#s832\"<:Union{Dates.CompoundPeriod, Dates.Period}, N}</b>, Y::<b>StridedArray{var\"#s831\", N} where {var\"#s831\"<:Union{Dates.CompoundPeriod, Dates.Period}, N}</b>) in Dates at <a href=\"file:///Users/julia/buildbot/worker/package_macos64/build/usr/share/julia/stdlib/v1.6/Dates/src/deprecated.jl\" target=\"_blank\">/Applications/Julia-1.6.app/Contents/Resources/julia/share/julia/stdlib/v1.6/Dates/src/deprecated.jl:62</a></li> <li> +(A::<b>Array</b>, B::<b>SparseArrays.AbstractSparseMatrixCSC</b>) in SparseArrays at <a href=\"file:///Users/julia/buildbot/worker/package_macos64/build/usr/share/julia/stdlib/v1.6/SparseArrays/src/sparsematrix.jl\" target=\"_blank\">/Applications/Julia-1.6.app/Contents/Resources/julia/share/julia/stdlib/v1.6/SparseArrays/src/sparsematrix.jl:1745</a></li> <li> +(x::<b>StridedArray{var\"#s832\", N} where {var\"#s832\"<:Union{Dates.CompoundPeriod, Dates.Period}, N}</b>) in Dates at <a href=\"file:///Users/julia/buildbot/worker/package_macos64/build/usr/share/julia/stdlib/v1.6/Dates/src/deprecated.jl\" target=\"_blank\">/Applications/Julia-1.6.app/Contents/Resources/julia/share/julia/stdlib/v1.6/Dates/src/deprecated.jl:55</a></li> <li> +(x::<b>StridedArray{var\"#s832\", N} where {var\"#s832\"<:Union{Dates.CompoundPeriod, Dates.Period}, N}</b>, y::<b>Dates.TimeType</b>) in Dates at <a href=\"file:///Users/julia/buildbot/worker/package_macos64/build/usr/share/julia/stdlib/v1.6/Dates/src/deprecated.jl\" target=\"_blank\">/Applications/Julia-1.6.app/Contents/Resources/julia/share/julia/stdlib/v1.6/Dates/src/deprecated.jl:10</a></li> <li> +(x::<b>Base.TwicePrecision</b>, y::<b>Number</b>) in Base at <a href=\"https://github.com/JuliaLang/julia/tree/f9720dc2ebd6cd9e3086365f281e62506444ef37/base/twiceprecision.jl#L267\" target=\"_blank\">twiceprecision.jl:267</a></li> <li> +(x::<b>Base.TwicePrecision{T}</b>, y::<b>Base.TwicePrecision{T}</b>)<i> where T</i> in Base at <a href=\"https://github.com/JuliaLang/julia/tree/f9720dc2ebd6cd9e3086365f281e62506444ef37/base/twiceprecision.jl#L273\" target=\"_blank\">twiceprecision.jl:273</a></li> <li> +(x::<b>Base.TwicePrecision</b>, y::<b>Base.TwicePrecision</b>) in Base at <a href=\"https://github.com/JuliaLang/julia/tree/f9720dc2ebd6cd9e3086365f281e62506444ef37/base/twiceprecision.jl#L278\" target=\"_blank\">twiceprecision.jl:278</a></li> <li> +(A::<b>LinearAlgebra.Hermitian</b>, B::<b>LinearAlgebra.Hermitian</b>) in LinearAlgebra at <a href=\"file:///Users/julia/buildbot/worker/package_macos64/build/usr/share/julia/stdlib/v1.6/LinearAlgebra/src/symmetric.jl\" target=\"_blank\">/Applications/Julia-1.6.app/Contents/Resources/julia/share/julia/stdlib/v1.6/LinearAlgebra/src/symmetric.jl:469</a></li> <li> +(H::<b>LinearAlgebra.Hermitian</b>, D::<b>LinearAlgebra.Diagonal{var\"#s832\", V} where {var\"#s832\"<:Real, V<:AbstractVector{var\"#s832\"}}</b>) in LinearAlgebra at <a href=\"file:///Users/julia/buildbot/worker/package_macos64/build/usr/share/julia/stdlib/v1.6/LinearAlgebra/src/diagonal.jl\" target=\"_blank\">/Applications/Julia-1.6.app/Contents/Resources/julia/share/julia/stdlib/v1.6/LinearAlgebra/src/diagonal.jl:169</a></li> <li> +(A::<b>LinearAlgebra.Hermitian</b>, J::<b>LinearAlgebra.UniformScaling{var\"#s832\"} where var\"#s832\"<:Complex</b>) in LinearAlgebra at <a href=\"file:///Users/julia/buildbot/worker/package_macos64/build/usr/share/julia/stdlib/v1.6/LinearAlgebra/src/uniformscaling.jl\" target=\"_blank\">/Applications/Julia-1.6.app/Contents/Resources/julia/share/julia/stdlib/v1.6/LinearAlgebra/src/uniformscaling.jl:196</a></li> <li> +(A::<b>LinearAlgebra.Hermitian{var\"#s830\", var\"#s829\"} where {var\"#s830\", var\"#s829\"<:(SparseArrays.AbstractSparseMatrix{Tv, Ti} where {Tv, Ti})}</b>, B::<b>SparseArrays.AbstractSparseMatrix{Tv, Ti} where {Tv, Ti}</b>) in SparseArrays at <a href=\"file:///Users/julia/buildbot/worker/package_macos64/build/usr/share/julia/stdlib/v1.6/SparseArrays/src/linalg.jl\" target=\"_blank\">/Applications/Julia-1.6.app/Contents/Resources/julia/share/julia/stdlib/v1.6/SparseArrays/src/linalg.jl:15</a></li> <li> +(A::<b>LinearAlgebra.Hermitian</b>, B::<b>SparseArrays.AbstractSparseMatrix{Tv, Ti} where {Tv, Ti}</b>) in SparseArrays at <a href=\"file:///Users/julia/buildbot/worker/package_macos64/build/usr/share/julia/stdlib/v1.6/SparseArrays/src/linalg.jl\" target=\"_blank\">/Applications/Julia-1.6.app/Contents/Resources/julia/share/julia/stdlib/v1.6/SparseArrays/src/linalg.jl:18</a></li> <li> +(A::<b>LinearAlgebra.Hermitian{var\"#s820\", var\"#s819\"} where {var\"#s820\", var\"#s819\"<:(SparseArrays.AbstractSparseMatrix{Tv, Ti} where {Tv, Ti})}</b>, B::<b>LinearAlgebra.Symmetric{var\"#s818\", var\"#s817\"} where {var\"#s818\"<:Real, var\"#s817\"<:(SparseArrays.AbstractSparseMatrix{Tv, Ti} where {Tv, Ti})}</b>) in SparseArrays at <a href=\"file:///Users/julia/buildbot/worker/package_macos64/build/usr/share/julia/stdlib/v1.6/SparseArrays/src/linalg.jl\" target=\"_blank\">/Applications/Julia-1.6.app/Contents/Resources/julia/share/julia/stdlib/v1.6/SparseArrays/src/linalg.jl:26</a></li> <li> +(A::<b>LinearAlgebra.Hermitian</b>, B::<b>LinearAlgebra.Symmetric{var\"#s832\", S} where {var\"#s832\"<:Real, S<:(AbstractMatrix{var\"#s832\"} where var\"#s832\"<:var\"#s832\")}</b>) in LinearAlgebra at <a href=\"file:///Users/julia/buildbot/worker/package_macos64/build/usr/share/julia/stdlib/v1.6/LinearAlgebra/src/symmetric.jl\" target=\"_blank\">/Applications/Julia-1.6.app/Contents/Resources/julia/share/julia/stdlib/v1.6/LinearAlgebra/src/symmetric.jl:483</a></li> <li> +(A::<b>LinearAlgebra.Hermitian{var\"#s828\", var\"#s827\"} where {var\"#s828\", var\"#s827\"<:(SparseArrays.AbstractSparseMatrix{Tv, Ti} where {Tv, Ti})}</b>, B::<b>LinearAlgebra.Symmetric{var\"#s826\", var\"#s825\"} where {var\"#s826\", var\"#s825\"<:(SparseArrays.AbstractSparseMatrix{Tv, Ti} where {Tv, Ti})}</b>) in SparseArrays at <a href=\"file:///Users/julia/buildbot/worker/package_macos64/build/usr/share/julia/stdlib/v1.6/SparseArrays/src/linalg.jl\" target=\"_blank\">/Applications/Julia-1.6.app/Contents/Resources/julia/share/julia/stdlib/v1.6/SparseArrays/src/linalg.jl:24</a></li> <li> +(A::<b>LinearAlgebra.UpperTriangular</b>, B::<b>LinearAlgebra.UpperTriangular</b>) in LinearAlgebra at <a href=\"file:///Users/julia/buildbot/worker/package_macos64/build/usr/share/julia/stdlib/v1.6/LinearAlgebra/src/triangular.jl\" target=\"_blank\">/Applications/Julia-1.6.app/Contents/Resources/julia/share/julia/stdlib/v1.6/LinearAlgebra/src/triangular.jl:648</a></li> <li> +(A::<b>LinearAlgebra.UpperTriangular</b>, B::<b>LinearAlgebra.UnitUpperTriangular</b>) in LinearAlgebra at <a href=\"file:///Users/julia/buildbot/worker/package_macos64/build/usr/share/julia/stdlib/v1.6/LinearAlgebra/src/triangular.jl\" target=\"_blank\">/Applications/Julia-1.6.app/Contents/Resources/julia/share/julia/stdlib/v1.6/LinearAlgebra/src/triangular.jl:650</a></li> <li> +(A::<b>LinearAlgebra.AbstractTriangular</b>, B::<b>LinearAlgebra.AbstractTriangular</b>) in LinearAlgebra at <a href=\"file:///Users/julia/buildbot/worker/package_macos64/build/usr/share/julia/stdlib/v1.6/LinearAlgebra/src/triangular.jl\" target=\"_blank\">/Applications/Julia-1.6.app/Contents/Resources/julia/share/julia/stdlib/v1.6/LinearAlgebra/src/triangular.jl:656</a></li> <li> +(A::<b>LinearAlgebra.UpperTriangular</b>, B::<b>LinearAlgebra.Bidiagonal</b>) in LinearAlgebra at <a href=\"file:///Users/julia/buildbot/worker/package_macos64/build/usr/share/julia/stdlib/v1.6/LinearAlgebra/src/special.jl\" target=\"_blank\">/Applications/Julia-1.6.app/Contents/Resources/julia/share/julia/stdlib/v1.6/LinearAlgebra/src/special.jl:86</a></li> <li> +(J::<b>LinearAlgebra.UniformScaling</b>) in LinearAlgebra at <a href=\"file:///Users/julia/buildbot/worker/package_macos64/build/usr/share/julia/stdlib/v1.6/LinearAlgebra/src/uniformscaling.jl\" target=\"_blank\">/Applications/Julia-1.6.app/Contents/Resources/julia/share/julia/stdlib/v1.6/LinearAlgebra/src/uniformscaling.jl:150</a></li> <li> +(J::<b>LinearAlgebra.UniformScaling</b>, x::<b>Number</b>) in LinearAlgebra at <a href=\"file:///Users/julia/buildbot/worker/package_macos64/build/usr/share/julia/stdlib/v1.6/LinearAlgebra/src/uniformscaling.jl\" target=\"_blank\">/Applications/Julia-1.6.app/Contents/Resources/julia/share/julia/stdlib/v1.6/LinearAlgebra/src/uniformscaling.jl:145</a></li> <li> +(J1::<b>LinearAlgebra.UniformScaling</b>, J2::<b>LinearAlgebra.UniformScaling</b>) in LinearAlgebra at <a href=\"file:///Users/julia/buildbot/worker/package_macos64/build/usr/share/julia/stdlib/v1.6/LinearAlgebra/src/uniformscaling.jl\" target=\"_blank\">/Applications/Julia-1.6.app/Contents/Resources/julia/share/julia/stdlib/v1.6/LinearAlgebra/src/uniformscaling.jl:151</a></li> <li> +(J::<b>LinearAlgebra.UniformScaling</b>, B::<b>BitMatrix</b>) in LinearAlgebra at <a href=\"file:///Users/julia/buildbot/worker/package_macos64/build/usr/share/julia/stdlib/v1.6/LinearAlgebra/src/uniformscaling.jl\" target=\"_blank\">/Applications/Julia-1.6.app/Contents/Resources/julia/share/julia/stdlib/v1.6/LinearAlgebra/src/uniformscaling.jl:153</a></li> <li> +(J::<b>LinearAlgebra.UniformScaling</b>, F::<b>LinearAlgebra.Hessenberg</b>) in LinearAlgebra at <a href=\"file:///Users/julia/buildbot/worker/package_macos64/build/usr/share/julia/stdlib/v1.6/LinearAlgebra/src/hessenberg.jl\" target=\"_blank\">/Applications/Julia-1.6.app/Contents/Resources/julia/share/julia/stdlib/v1.6/LinearAlgebra/src/hessenberg.jl:560</a></li> <li> +(A::<b>LinearAlgebra.UniformScaling</b>, B::<b>LinearAlgebra.Tridiagonal{var\"#s832\", V} where {var\"#s832\"<:Number, V<:AbstractVector{var\"#s832\"}}</b>) in LinearAlgebra at <a href=\"file:///Users/julia/buildbot/worker/package_macos64/build/usr/share/julia/stdlib/v1.6/LinearAlgebra/src/special.jl\" target=\"_blank\">/Applications/Julia-1.6.app/Contents/Resources/julia/share/julia/stdlib/v1.6/LinearAlgebra/src/special.jl:245</a></li> <li> +(A::<b>LinearAlgebra.UniformScaling</b>, B::<b>LinearAlgebra.SymTridiagonal{var\"#s832\", V} where {var\"#s832\"<:Number, V<:AbstractVector{var\"#s832\"}}</b>) in LinearAlgebra at <a href=\"file:///Users/julia/buildbot/worker/package_macos64/build/usr/share/julia/stdlib/v1.6/LinearAlgebra/src/special.jl\" target=\"_blank\">/Applications/Julia-1.6.app/Contents/Resources/julia/share/julia/stdlib/v1.6/LinearAlgebra/src/special.jl:250</a></li> <li> +(A::<b>LinearAlgebra.UniformScaling</b>, B::<b>LinearAlgebra.Bidiagonal{var\"#s832\", V} where {var\"#s832\"<:Number, V<:AbstractVector{var\"#s832\"}}</b>) in LinearAlgebra at <a href=\"file:///Users/julia/buildbot/worker/package_macos64/build/usr/share/julia/stdlib/v1.6/LinearAlgebra/src/special.jl\" target=\"_blank\">/Applications/Julia-1.6.app/Contents/Resources/julia/share/julia/stdlib/v1.6/LinearAlgebra/src/special.jl:255</a></li> <li> +(A::<b>LinearAlgebra.UniformScaling</b>, B::<b>LinearAlgebra.Diagonal{var\"#s832\", V} where {var\"#s832\"<:Number, V<:AbstractVector{var\"#s832\"}}</b>) in LinearAlgebra at <a href=\"file:///Users/julia/buildbot/worker/package_macos64/build/usr/share/julia/stdlib/v1.6/LinearAlgebra/src/special.jl\" target=\"_blank\">/Applications/Julia-1.6.app/Contents/Resources/julia/share/julia/stdlib/v1.6/LinearAlgebra/src/special.jl:260</a></li> <li> +(J::<b>LinearAlgebra.UniformScaling</b>, A::<b>AbstractMatrix{T} where T</b>) in LinearAlgebra at <a href=\"file:///Users/julia/buildbot/worker/package_macos64/build/usr/share/julia/stdlib/v1.6/LinearAlgebra/src/uniformscaling.jl\" target=\"_blank\">/Applications/Julia-1.6.app/Contents/Resources/julia/share/julia/stdlib/v1.6/LinearAlgebra/src/uniformscaling.jl:154</a></li> <li> +(x::<b>Ptr</b>, y::<b>Integer</b>) in Base at <a href=\"https://github.com/JuliaLang/julia/tree/f9720dc2ebd6cd9e3086365f281e62506444ef37/base/pointer.jl#L159\" target=\"_blank\">pointer.jl:159</a></li> <li> +(F::<b>LinearAlgebra.Hessenberg</b>, J::<b>LinearAlgebra.UniformScaling</b>) in LinearAlgebra at <a href=\"file:///Users/julia/buildbot/worker/package_macos64/build/usr/share/julia/stdlib/v1.6/LinearAlgebra/src/hessenberg.jl\" target=\"_blank\">/Applications/Julia-1.6.app/Contents/Resources/julia/share/julia/stdlib/v1.6/LinearAlgebra/src/hessenberg.jl:559</a></li> <li> +(y::<b>AbstractFloat</b>, x::<b>Bool</b>) in Base at <a href=\"https://github.com/JuliaLang/julia/tree/f9720dc2ebd6cd9e3086365f281e62506444ef37/base/bool.jl#L102\" target=\"_blank\">bool.jl:102</a></li> <li> +(r1::<b>StepRangeLen{T, R, S} where S</b>, r2::<b>StepRangeLen{T, R, S} where S</b>)<i> where {R<:Base.TwicePrecision, T}</i> in Base at <a href=\"https://github.com/JuliaLang/julia/tree/f9720dc2ebd6cd9e3086365f281e62506444ef37/base/twiceprecision.jl#L574\" target=\"_blank\">twiceprecision.jl:574</a></li> <li> +(r1::<b>StepRangeLen{T, S, S1} where S1</b>, r2::<b>StepRangeLen{T, S, S1} where S1</b>)<i> where {T, S}</i> in Base at <a href=\"https://github.com/JuliaLang/julia/tree/f9720dc2ebd6cd9e3086365f281e62506444ef37/base/range.jl#L1124\" target=\"_blank\">range.jl:1124</a></li> <li> +(r1::<b>Union{LinRange, OrdinalRange, StepRangeLen}</b>, r2::<b>Union{LinRange, OrdinalRange, StepRangeLen}</b>) in Base at <a href=\"https://github.com/JuliaLang/julia/tree/f9720dc2ebd6cd9e3086365f281e62506444ef37/base/range.jl#L1117\" target=\"_blank\">range.jl:1117</a></li> <li> +(index1::<b>CartesianIndex{N}</b>, index2::<b>CartesianIndex{N}</b>)<i> where N</i> in Base.IteratorsMD at <a href=\"https://github.com/JuliaLang/julia/tree/f9720dc2ebd6cd9e3086365f281e62506444ef37/base/multidimensional.jl#L114\" target=\"_blank\">multidimensional.jl:114</a></li> <li> +(x::<b>Dates.Instant</b>) in Dates at <a href=\"file:///Users/julia/buildbot/worker/package_macos64/build/usr/share/julia/stdlib/v1.6/Dates/src/arithmetic.jl\" target=\"_blank\">/Applications/Julia-1.6.app/Contents/Resources/julia/share/julia/stdlib/v1.6/Dates/src/arithmetic.jl:4</a></li> <li> +(A::<b>LinearAlgebra.Tridiagonal</b>, B::<b>LinearAlgebra.Tridiagonal</b>) in LinearAlgebra at <a href=\"file:///Users/julia/buildbot/worker/package_macos64/build/usr/share/julia/stdlib/v1.6/LinearAlgebra/src/tridiag.jl\" target=\"_blank\">/Applications/Julia-1.6.app/Contents/Resources/julia/share/julia/stdlib/v1.6/LinearAlgebra/src/tridiag.jl:733</a></li> <li> +(A::<b>LinearAlgebra.Tridiagonal</b>, B::<b>LinearAlgebra.SymTridiagonal</b>) in LinearAlgebra at <a href=\"file:///Users/julia/buildbot/worker/package_macos64/build/usr/share/julia/stdlib/v1.6/LinearAlgebra/src/special.jl\" target=\"_blank\">/Applications/Julia-1.6.app/Contents/Resources/julia/share/julia/stdlib/v1.6/LinearAlgebra/src/special.jl:157</a></li> <li> +(A::<b>LinearAlgebra.Tridiagonal</b>, B::<b>LinearAlgebra.Diagonal</b>) in LinearAlgebra at <a href=\"file:///Users/julia/buildbot/worker/package_macos64/build/usr/share/julia/stdlib/v1.6/LinearAlgebra/src/special.jl\" target=\"_blank\">/Applications/Julia-1.6.app/Contents/Resources/julia/share/julia/stdlib/v1.6/LinearAlgebra/src/special.jl:173</a></li> <li> +(A::<b>LinearAlgebra.Tridiagonal</b>, B::<b>LinearAlgebra.Bidiagonal</b>) in LinearAlgebra at <a href=\"file:///Users/julia/buildbot/worker/package_macos64/build/usr/share/julia/stdlib/v1.6/LinearAlgebra/src/special.jl\" target=\"_blank\">/Applications/Julia-1.6.app/Contents/Resources/julia/share/julia/stdlib/v1.6/LinearAlgebra/src/special.jl:193</a></li> <li> +(A::<b>LinearAlgebra.Tridiagonal{var\"#s832\", V} where {var\"#s832\"<:Number, V<:AbstractVector{var\"#s832\"}}</b>, B::<b>LinearAlgebra.UniformScaling</b>) in LinearAlgebra at <a href=\"file:///Users/julia/buildbot/worker/package_macos64/build/usr/share/julia/stdlib/v1.6/LinearAlgebra/src/special.jl\" target=\"_blank\">/Applications/Julia-1.6.app/Contents/Resources/julia/share/julia/stdlib/v1.6/LinearAlgebra/src/special.jl:226</a></li> <li> +(x::<b>T</b>, y::<b>Integer</b>)<i> where T<:AbstractChar</i> in Base at <a href=\"https://github.com/JuliaLang/julia/tree/f9720dc2ebd6cd9e3086365f281e62506444ef37/base/char.jl#L223\" target=\"_blank\">char.jl:223</a></li> <li> +(A::<b>SparseArrays.AbstractSparseMatrix{Tv, Ti} where {Tv, Ti}</b>, B::<b>LinearAlgebra.Hermitian{var\"#s832\", var\"#s831\"} where {var\"#s832\", var\"#s831\"<:(SparseArrays.AbstractSparseMatrix{Tv, Ti} where {Tv, Ti})}</b>) in SparseArrays at <a href=\"file:///Users/julia/buildbot/worker/package_macos64/build/usr/share/julia/stdlib/v1.6/SparseArrays/src/linalg.jl\" target=\"_blank\">/Applications/Julia-1.6.app/Contents/Resources/julia/share/julia/stdlib/v1.6/SparseArrays/src/linalg.jl:14</a></li> <li> +(A::<b>SparseArrays.AbstractSparseMatrix{Tv, Ti} where {Tv, Ti}</b>, B::<b>LinearAlgebra.Hermitian</b>) in SparseArrays at <a href=\"file:///Users/julia/buildbot/worker/package_macos64/build/usr/share/julia/stdlib/v1.6/SparseArrays/src/linalg.jl\" target=\"_blank\">/Applications/Julia-1.6.app/Contents/Resources/julia/share/julia/stdlib/v1.6/SparseArrays/src/linalg.jl:17</a></li> <li> +(A::<b>SparseArrays.AbstractSparseMatrix{Tv, Ti} where {Tv, Ti}</b>, B::<b>LinearAlgebra.Symmetric{var\"#s832\", var\"#s831\"} where {var\"#s832\", var\"#s831\"<:(SparseArrays.AbstractSparseMatrix{Tv, Ti} where {Tv, Ti})}</b>) in SparseArrays at <a href=\"file:///Users/julia/buildbot/worker/package_macos64/build/usr/share/julia/stdlib/v1.6/SparseArrays/src/linalg.jl\" target=\"_blank\">/Applications/Julia-1.6.app/Contents/Resources/julia/share/julia/stdlib/v1.6/SparseArrays/src/linalg.jl:14</a></li> <li> +(A::<b>SparseArrays.AbstractSparseMatrix{Tv, Ti} where {Tv, Ti}</b>, B::<b>LinearAlgebra.Symmetric</b>) in SparseArrays at <a href=\"file:///Users/julia/buildbot/worker/package_macos64/build/usr/share/julia/stdlib/v1.6/SparseArrays/src/linalg.jl\" target=\"_blank\">/Applications/Julia-1.6.app/Contents/Resources/julia/share/julia/stdlib/v1.6/SparseArrays/src/linalg.jl:17</a></li> <li> +(x::<b>Dates.AbstractTime</b>, y::<b>Missing</b>) in Dates at <a href=\"file:///Users/julia/buildbot/worker/package_macos64/build/usr/share/julia/stdlib/v1.6/Dates/src/arithmetic.jl\" target=\"_blank\">/Applications/Julia-1.6.app/Contents/Resources/julia/share/julia/stdlib/v1.6/Dates/src/arithmetic.jl:88</a></li> <li> +(x::<b>AbstractArray{var\"#s832\", N} where {var\"#s832\"<:Dates.TimeType, N}</b>, y::<b>Union{Dates.CompoundPeriod, Dates.Period}</b>) in Dates at <a href=\"file:///Users/julia/buildbot/worker/package_macos64/build/usr/share/julia/stdlib/v1.6/Dates/src/deprecated.jl\" target=\"_blank\">/Applications/Julia-1.6.app/Contents/Resources/julia/share/julia/stdlib/v1.6/Dates/src/deprecated.jl:6</a></li> <li> +(A::<b>SparseArrays.AbstractSparseMatrixCSC</b>, B::<b>SparseArrays.AbstractSparseMatrixCSC</b>) in SparseArrays at <a href=\"file:///Users/julia/buildbot/worker/package_macos64/build/usr/share/julia/stdlib/v1.6/SparseArrays/src/sparsematrix.jl\" target=\"_blank\">/Applications/Julia-1.6.app/Contents/Resources/julia/share/julia/stdlib/v1.6/SparseArrays/src/sparsematrix.jl:1741</a></li> <li> +(x::<b>SparseArrays.AbstractSparseVector{Tv, Ti} where {Tv, Ti}</b>, y::<b>SparseArrays.AbstractSparseVector{Tv, Ti} where {Tv, Ti}</b>) in SparseArrays at <a href=\"file:///Users/julia/buildbot/worker/package_macos64/build/usr/share/julia/stdlib/v1.6/SparseArrays/src/sparsevector.jl\" target=\"_blank\">/Applications/Julia-1.6.app/Contents/Resources/julia/share/julia/stdlib/v1.6/SparseArrays/src/sparsevector.jl:1345</a></li> <li> +(A::<b>SparseArrays.AbstractSparseMatrixCSC</b>, B::<b>Array</b>) in SparseArrays at <a href=\"file:///Users/julia/buildbot/worker/package_macos64/build/usr/share/julia/stdlib/v1.6/SparseArrays/src/sparsematrix.jl\" target=\"_blank\">/Applications/Julia-1.6.app/Contents/Resources/julia/share/julia/stdlib/v1.6/SparseArrays/src/sparsematrix.jl:1744</a></li> <li> +(A::<b>SparseArrays.AbstractSparseMatrixCSC</b>, J::<b>LinearAlgebra.UniformScaling</b>) in SparseArrays at <a href=\"file:///Users/julia/buildbot/worker/package_macos64/build/usr/share/julia/stdlib/v1.6/SparseArrays/src/sparsematrix.jl\" target=\"_blank\">/Applications/Julia-1.6.app/Contents/Resources/julia/share/julia/stdlib/v1.6/SparseArrays/src/sparsematrix.jl:3797</a></li> <li> +(A::<b>LinearAlgebra.SymTridiagonal</b>, B::<b>LinearAlgebra.SymTridiagonal</b>) in LinearAlgebra at <a href=\"file:///Users/julia/buildbot/worker/package_macos64/build/usr/share/julia/stdlib/v1.6/LinearAlgebra/src/tridiag.jl\" target=\"_blank\">/Applications/Julia-1.6.app/Contents/Resources/julia/share/julia/stdlib/v1.6/LinearAlgebra/src/tridiag.jl:205</a></li> <li> +(A::<b>LinearAlgebra.SymTridiagonal</b>, B::<b>LinearAlgebra.Diagonal</b>) in LinearAlgebra at <a href=\"file:///Users/julia/buildbot/worker/package_macos64/build/usr/share/julia/stdlib/v1.6/LinearAlgebra/src/special.jl\" target=\"_blank\">/Applications/Julia-1.6.app/Contents/Resources/julia/share/julia/stdlib/v1.6/LinearAlgebra/src/special.jl:145</a></li> <li> +(A::<b>LinearAlgebra.SymTridiagonal</b>, B::<b>LinearAlgebra.Tridiagonal</b>) in LinearAlgebra at <a href=\"file:///Users/julia/buildbot/worker/package_macos64/build/usr/share/julia/stdlib/v1.6/LinearAlgebra/src/special.jl\" target=\"_blank\">/Applications/Julia-1.6.app/Contents/Resources/julia/share/julia/stdlib/v1.6/LinearAlgebra/src/special.jl:159</a></li> <li> +(A::<b>LinearAlgebra.SymTridiagonal</b>, B::<b>LinearAlgebra.Bidiagonal</b>) in LinearAlgebra at <a href=\"file:///Users/julia/buildbot/worker/package_macos64/build/usr/share/julia/stdlib/v1.6/LinearAlgebra/src/special.jl\" target=\"_blank\">/Applications/Julia-1.6.app/Contents/Resources/julia/share/julia/stdlib/v1.6/LinearAlgebra/src/special.jl:213</a></li> <li> +(A::<b>AbstractArray</b>, B::<b>AbstractArray</b>) in Base at <a href=\"https://github.com/JuliaLang/julia/tree/f9720dc2ebd6cd9e3086365f281e62506444ef37/base/arraymath.jl#L37\" target=\"_blank\">arraymath.jl:37</a></li> <li> +(A::<b>LinearAlgebra.SymTridiagonal{var\"#s832\", V} where {var\"#s832\"<:Number, V<:AbstractVector{var\"#s832\"}}</b>, B::<b>LinearAlgebra.UniformScaling</b>) in LinearAlgebra at <a href=\"file:///Users/julia/buildbot/worker/package_macos64/build/usr/share/julia/stdlib/v1.6/LinearAlgebra/src/special.jl\" target=\"_blank\">/Applications/Julia-1.6.app/Contents/Resources/julia/share/julia/stdlib/v1.6/LinearAlgebra/src/special.jl:231</a></li> <li> +(::<b>Missing</b>) in Base at <a href=\"https://github.com/JuliaLang/julia/tree/f9720dc2ebd6cd9e3086365f281e62506444ef37/base/missing.jl#L101\" target=\"_blank\">missing.jl:101</a></li> <li> +(::<b>Missing</b>, ::<b>Missing</b>) in Base at <a href=\"https://github.com/JuliaLang/julia/tree/f9720dc2ebd6cd9e3086365f281e62506444ef37/base/missing.jl#L115\" target=\"_blank\">missing.jl:115</a></li> <li> +(::<b>Missing</b>, ::<b>Number</b>) in Base at <a href=\"https://github.com/JuliaLang/julia/tree/f9720dc2ebd6cd9e3086365f281e62506444ef37/base/missing.jl#L116\" target=\"_blank\">missing.jl:116</a></li> <li> +(x::<b>Missing</b>, y::<b>Dates.AbstractTime</b>) in Dates at <a href=\"file:///Users/julia/buildbot/worker/package_macos64/build/usr/share/julia/stdlib/v1.6/Dates/src/arithmetic.jl\" target=\"_blank\">/Applications/Julia-1.6.app/Contents/Resources/julia/share/julia/stdlib/v1.6/Dates/src/arithmetic.jl:89</a></li> <li> +(x::<b>BigFloat</b>, y::<b>BigFloat</b>) in Base.MPFR at <a href=\"https://github.com/JuliaLang/julia/tree/f9720dc2ebd6cd9e3086365f281e62506444ef37/base/mpfr.jl#L364\" target=\"_blank\">mpfr.jl:364</a></li> <li> +(x::<b>BigFloat</b>, c::<b>Union{UInt16, UInt32, UInt64, UInt8}</b>) in Base.MPFR at <a href=\"https://github.com/JuliaLang/julia/tree/f9720dc2ebd6cd9e3086365f281e62506444ef37/base/mpfr.jl#L371\" target=\"_blank\">mpfr.jl:371</a></li> <li> +(x::<b>BigFloat</b>, c::<b>Union{Int16, Int32, Int64, Int8}</b>) in Base.MPFR at <a href=\"https://github.com/JuliaLang/julia/tree/f9720dc2ebd6cd9e3086365f281e62506444ef37/base/mpfr.jl#L379\" target=\"_blank\">mpfr.jl:379</a></li> <li> +(x::<b>BigFloat</b>, c::<b>Union{Float16, Float32, Float64}</b>) in Base.MPFR at <a href=\"https://github.com/JuliaLang/julia/tree/f9720dc2ebd6cd9e3086365f281e62506444ef37/base/mpfr.jl#L387\" target=\"_blank\">mpfr.jl:387</a></li> <li> +(x::<b>BigFloat</b>, c::<b>BigInt</b>) in Base.MPFR at <a href=\"https://github.com/JuliaLang/julia/tree/f9720dc2ebd6cd9e3086365f281e62506444ef37/base/mpfr.jl#L395\" target=\"_blank\">mpfr.jl:395</a></li> <li> +(a::<b>BigFloat</b>, b::<b>BigFloat</b>, c::<b>BigFloat</b>) in Base.MPFR at <a href=\"https://github.com/JuliaLang/julia/tree/f9720dc2ebd6cd9e3086365f281e62506444ef37/base/mpfr.jl#L536\" target=\"_blank\">mpfr.jl:536</a></li> <li> +(a::<b>BigFloat</b>, b::<b>BigFloat</b>, c::<b>BigFloat</b>, d::<b>BigFloat</b>) in Base.MPFR at <a href=\"https://github.com/JuliaLang/julia/tree/f9720dc2ebd6cd9e3086365f281e62506444ef37/base/mpfr.jl#L542\" target=\"_blank\">mpfr.jl:542</a></li> <li> +(a::<b>BigFloat</b>, b::<b>BigFloat</b>, c::<b>BigFloat</b>, d::<b>BigFloat</b>, e::<b>BigFloat</b>) in Base.MPFR at <a href=\"https://github.com/JuliaLang/julia/tree/f9720dc2ebd6cd9e3086365f281e62506444ef37/base/mpfr.jl#L549\" target=\"_blank\">mpfr.jl:549</a></li> <li> +(x::<b>BigInt</b>, y::<b>BigInt</b>) in Base.GMP at <a href=\"https://github.com/JuliaLang/julia/tree/f9720dc2ebd6cd9e3086365f281e62506444ef37/base/gmp.jl#L479\" target=\"_blank\">gmp.jl:479</a></li> <li> +(a::<b>BigInt</b>, b::<b>BigInt</b>, c::<b>BigInt</b>) in Base.GMP at <a href=\"https://github.com/JuliaLang/julia/tree/f9720dc2ebd6cd9e3086365f281e62506444ef37/base/gmp.jl#L519\" target=\"_blank\">gmp.jl:519</a></li> <li> +(a::<b>BigInt</b>, b::<b>BigInt</b>, c::<b>BigInt</b>, d::<b>BigInt</b>) in Base.GMP at <a href=\"https://github.com/JuliaLang/julia/tree/f9720dc2ebd6cd9e3086365f281e62506444ef37/base/gmp.jl#L520\" target=\"_blank\">gmp.jl:520</a></li> <li> +(a::<b>BigInt</b>, b::<b>BigInt</b>, c::<b>BigInt</b>, d::<b>BigInt</b>, e::<b>BigInt</b>) in Base.GMP at <a href=\"https://github.com/JuliaLang/julia/tree/f9720dc2ebd6cd9e3086365f281e62506444ef37/base/gmp.jl#L521\" target=\"_blank\">gmp.jl:521</a></li> <li> +(x::<b>BigInt</b>, c::<b>Union{UInt16, UInt32, UInt64, UInt8}</b>) in Base.GMP at <a href=\"https://github.com/JuliaLang/julia/tree/f9720dc2ebd6cd9e3086365f281e62506444ef37/base/gmp.jl#L527\" target=\"_blank\">gmp.jl:527</a></li> <li> +(x::<b>BigInt</b>, c::<b>Union{Int16, Int32, Int64, Int8}</b>) in Base.GMP at <a href=\"https://github.com/JuliaLang/julia/tree/f9720dc2ebd6cd9e3086365f281e62506444ef37/base/gmp.jl#L533\" target=\"_blank\">gmp.jl:533</a></li> <li> +(c::<b>BigInt</b>, x::<b>BigFloat</b>) in Base.MPFR at <a href=\"https://github.com/JuliaLang/julia/tree/f9720dc2ebd6cd9e3086365f281e62506444ef37/base/mpfr.jl#L400\" target=\"_blank\">mpfr.jl:400</a></li> <li> +(z::<b>Complex{Bool}</b>, x::<b>Bool</b>) in Base at <a href=\"https://github.com/JuliaLang/julia/tree/f9720dc2ebd6cd9e3086365f281e62506444ef37/base/complex.jl#L287\" target=\"_blank\">complex.jl:287</a></li> <li> +(z::<b>Complex</b>, x::<b>Bool</b>) in Base at <a href=\"https://github.com/JuliaLang/julia/tree/f9720dc2ebd6cd9e3086365f281e62506444ef37/base/complex.jl#L294\" target=\"_blank\">complex.jl:294</a></li> <li> +(z::<b>Complex{Bool}</b>, x::<b>Real</b>) in Base at <a href=\"https://github.com/JuliaLang/julia/tree/f9720dc2ebd6cd9e3086365f281e62506444ef37/base/complex.jl#L301\" target=\"_blank\">complex.jl:301</a></li> <li> +(z::<b>Complex</b>) in Base at <a href=\"https://github.com/JuliaLang/julia/tree/f9720dc2ebd6cd9e3086365f281e62506444ef37/base/complex.jl#L273\" target=\"_blank\">complex.jl:273</a></li> <li> +(z::<b>Complex</b>, x::<b>Real</b>) in Base at <a href=\"https://github.com/JuliaLang/julia/tree/f9720dc2ebd6cd9e3086365f281e62506444ef37/base/complex.jl#L313\" target=\"_blank\">complex.jl:313</a></li> <li> +(x::<b>Float32</b>, y::<b>Float32</b>) in Base at <a href=\"https://github.com/JuliaLang/julia/tree/f9720dc2ebd6cd9e3086365f281e62506444ef37/base/float.jl#L325\" target=\"_blank\">float.jl:325</a></li> <li> +(a::<b>Pkg.Resolve.VersionWeight</b>, b::<b>Pkg.Resolve.VersionWeight</b>) in Pkg.Resolve at <a href=\"file:///Users/julia/buildbot/worker/package_macos64/build/usr/share/julia/stdlib/v1.6/Pkg/src/Resolve/versionweights.jl\" target=\"_blank\">/Applications/Julia-1.6.app/Contents/Resources/julia/share/julia/stdlib/v1.6/Pkg/src/Resolve/versionweights.jl:22</a></li> <li> +(level::<b>Base.CoreLogging.LogLevel</b>, inc::<b>Integer</b>) in Base.CoreLogging at <a href=\"https://github.com/JuliaLang/julia/tree/f9720dc2ebd6cd9e3086365f281e62506444ef37/base/logging.jl#L131\" target=\"_blank\">logging.jl:131</a></li> <li> +(x::<b>Dates.CompoundPeriod</b>, y::<b>Dates.Period</b>) in Dates at <a href=\"file:///Users/julia/buildbot/worker/package_macos64/build/usr/share/julia/stdlib/v1.6/Dates/src/periods.jl\" target=\"_blank\">/Applications/Julia-1.6.app/Contents/Resources/julia/share/julia/stdlib/v1.6/Dates/src/periods.jl:352</a></li> <li> +(x::<b>Dates.CompoundPeriod</b>, y::<b>Dates.CompoundPeriod</b>) in Dates at <a href=\"file:///Users/julia/buildbot/worker/package_macos64/build/usr/share/julia/stdlib/v1.6/Dates/src/periods.jl\" target=\"_blank\">/Applications/Julia-1.6.app/Contents/Resources/julia/share/julia/stdlib/v1.6/Dates/src/periods.jl:354</a></li> <li> +(x::<b>Dates.CompoundPeriod</b>, y::<b>Dates.TimeType</b>) in Dates at <a href=\"file:///Users/julia/buildbot/worker/package_macos64/build/usr/share/julia/stdlib/v1.6/Dates/src/periods.jl\" target=\"_blank\">/Applications/Julia-1.6.app/Contents/Resources/julia/share/julia/stdlib/v1.6/Dates/src/periods.jl:382</a></li> <li> +(x::<b>Float64</b>, y::<b>Float64</b>) in Base at <a href=\"https://github.com/JuliaLang/julia/tree/f9720dc2ebd6cd9e3086365f281e62506444ef37/base/float.jl#L326\" target=\"_blank\">float.jl:326</a></li> <li> +(dt::<b>Dates.Date</b>, t::<b>Dates.Time</b>) in Dates at <a href=\"file:///Users/julia/buildbot/worker/package_macos64/build/usr/share/julia/stdlib/v1.6/Dates/src/arithmetic.jl\" target=\"_blank\">/Applications/Julia-1.6.app/Contents/Resources/julia/share/julia/stdlib/v1.6/Dates/src/arithmetic.jl:19</a></li> <li> +(dt::<b>Dates.Date</b>, y::<b>Dates.Year</b>) in Dates at <a href=\"file:///Users/julia/buildbot/worker/package_macos64/build/usr/share/julia/stdlib/v1.6/Dates/src/arithmetic.jl\" target=\"_blank\">/Applications/Julia-1.6.app/Contents/Resources/julia/share/julia/stdlib/v1.6/Dates/src/arithmetic.jl:27</a></li> <li> +(dt::<b>Dates.Date</b>, z::<b>Dates.Month</b>) in Dates at <a href=\"file:///Users/julia/buildbot/worker/package_macos64/build/usr/share/julia/stdlib/v1.6/Dates/src/arithmetic.jl\" target=\"_blank\">/Applications/Julia-1.6.app/Contents/Resources/julia/share/julia/stdlib/v1.6/Dates/src/arithmetic.jl:54</a></li> <li> +(x::<b>Dates.Date</b>, y::<b>Dates.Quarter</b>) in Dates at <a href=\"file:///Users/julia/buildbot/worker/package_macos64/build/usr/share/julia/stdlib/v1.6/Dates/src/arithmetic.jl\" target=\"_blank\">/Applications/Julia-1.6.app/Contents/Resources/julia/share/julia/stdlib/v1.6/Dates/src/arithmetic.jl:73</a></li> <li> +(x::<b>Dates.Date</b>, y::<b>Dates.Week</b>) in Dates at <a href=\"file:///Users/julia/buildbot/worker/package_macos64/build/usr/share/julia/stdlib/v1.6/Dates/src/arithmetic.jl\" target=\"_blank\">/Applications/Julia-1.6.app/Contents/Resources/julia/share/julia/stdlib/v1.6/Dates/src/arithmetic.jl:77</a></li> <li> +(x::<b>Dates.Date</b>, y::<b>Dates.Day</b>) in Dates at <a href=\"file:///Users/julia/buildbot/worker/package_macos64/build/usr/share/julia/stdlib/v1.6/Dates/src/arithmetic.jl\" target=\"_blank\">/Applications/Julia-1.6.app/Contents/Resources/julia/share/julia/stdlib/v1.6/Dates/src/arithmetic.jl:79</a></li> <li> +(x::<b>Rational{BigInt}</b>, y::<b>Rational{BigInt}</b>) in Base.GMP.MPQ at <a href=\"https://github.com/JuliaLang/julia/tree/f9720dc2ebd6cd9e3086365f281e62506444ef37/base/gmp.jl#L886\" target=\"_blank\">gmp.jl:886</a></li> <li> +(x::<b>Rational</b>) in Base at <a href=\"https://github.com/JuliaLang/julia/tree/f9720dc2ebd6cd9e3086365f281e62506444ef37/base/rational.jl#L267\" target=\"_blank\">rational.jl:267</a></li> <li> +(x::<b>Rational</b>, y::<b>Rational</b>) in Base at <a href=\"https://github.com/JuliaLang/julia/tree/f9720dc2ebd6cd9e3086365f281e62506444ef37/base/rational.jl#L283\" target=\"_blank\">rational.jl:283</a></li> <li> +(a::<b>Pkg.Resolve.FieldValue</b>, b::<b>Pkg.Resolve.FieldValue</b>) in Pkg.Resolve at <a href=\"file:///Users/julia/buildbot/worker/package_macos64/build/usr/share/julia/stdlib/v1.6/Pkg/src/Resolve/fieldvalues.jl\" target=\"_blank\">/Applications/Julia-1.6.app/Contents/Resources/julia/share/julia/stdlib/v1.6/Pkg/src/Resolve/fieldvalues.jl:43</a></li> <li> +(x::<b>Float16</b>, y::<b>Float16</b>) in Base at <a href=\"https://github.com/JuliaLang/julia/tree/f9720dc2ebd6cd9e3086365f281e62506444ef37/base/float.jl#L324\" target=\"_blank\">float.jl:324</a></li> <li> +(dt::<b>Dates.DateTime</b>, y::<b>Dates.Year</b>) in Dates at <a href=\"file:///Users/julia/buildbot/worker/package_macos64/build/usr/share/julia/stdlib/v1.6/Dates/src/arithmetic.jl\" target=\"_blank\">/Applications/Julia-1.6.app/Contents/Resources/julia/share/julia/stdlib/v1.6/Dates/src/arithmetic.jl:23</a></li> <li> +(dt::<b>Dates.DateTime</b>, z::<b>Dates.Month</b>) in Dates at <a href=\"file:///Users/julia/buildbot/worker/package_macos64/build/usr/share/julia/stdlib/v1.6/Dates/src/arithmetic.jl\" target=\"_blank\">/Applications/Julia-1.6.app/Contents/Resources/julia/share/julia/stdlib/v1.6/Dates/src/arithmetic.jl:47</a></li> <li> +(x::<b>Dates.DateTime</b>, y::<b>Dates.Quarter</b>) in Dates at <a href=\"file:///Users/julia/buildbot/worker/package_macos64/build/usr/share/julia/stdlib/v1.6/Dates/src/arithmetic.jl\" target=\"_blank\">/Applications/Julia-1.6.app/Contents/Resources/julia/share/julia/stdlib/v1.6/Dates/src/arithmetic.jl:75</a></li> <li> +(x::<b>Dates.DateTime</b>, y::<b>Dates.Period</b>) in Dates at <a href=\"file:///Users/julia/buildbot/worker/package_macos64/build/usr/share/julia/stdlib/v1.6/Dates/src/arithmetic.jl\" target=\"_blank\">/Applications/Julia-1.6.app/Contents/Resources/julia/share/julia/stdlib/v1.6/Dates/src/arithmetic.jl:81</a></li> <li> +(B::<b>BitMatrix</b>, J::<b>LinearAlgebra.UniformScaling</b>) in LinearAlgebra at <a href=\"file:///Users/julia/buildbot/worker/package_macos64/build/usr/share/julia/stdlib/v1.6/LinearAlgebra/src/uniformscaling.jl\" target=\"_blank\">/Applications/Julia-1.6.app/Contents/Resources/julia/share/julia/stdlib/v1.6/LinearAlgebra/src/uniformscaling.jl:152</a></li> <li> +(A::<b>AbstractMatrix{T} where T</b>, J::<b>LinearAlgebra.UniformScaling</b>) in LinearAlgebra at <a href=\"file:///Users/julia/buildbot/worker/package_macos64/build/usr/share/julia/stdlib/v1.6/LinearAlgebra/src/uniformscaling.jl\" target=\"_blank\">/Applications/Julia-1.6.app/Contents/Resources/julia/share/julia/stdlib/v1.6/LinearAlgebra/src/uniformscaling.jl:215</a></li> <li> +(x::<b>AbstractArray{var\"#s79\", N} where {var\"#s79\"<:Number, N}</b>) in Base at <a href=\"https://github.com/JuliaLang/julia/tree/f9720dc2ebd6cd9e3086365f281e62506444ef37/base/abstractarraymath.jl#L97\" target=\"_blank\">abstractarraymath.jl:97</a></li> <li> +(x::<b>Bool</b>) in Base at <a href=\"https://github.com/JuliaLang/julia/tree/f9720dc2ebd6cd9e3086365f281e62506444ef37/base/bool.jl#L89\" target=\"_blank\">bool.jl:89</a></li> <li> +(x::<b>Number</b>, y::<b>Base.TwicePrecision</b>) in Base at <a href=\"https://github.com/JuliaLang/julia/tree/f9720dc2ebd6cd9e3086365f281e62506444ef37/base/twiceprecision.jl#L271\" target=\"_blank\">twiceprecision.jl:271</a></li> <li> +(::<b>Number</b>, ::<b>Missing</b>) in Base at <a href=\"https://github.com/JuliaLang/julia/tree/f9720dc2ebd6cd9e3086365f281e62506444ef37/base/missing.jl#L117\" target=\"_blank\">missing.jl:117</a></li> <li> +(x::<b>Number</b>, J::<b>LinearAlgebra.UniformScaling</b>) in LinearAlgebra at <a href=\"file:///Users/julia/buildbot/worker/package_macos64/build/usr/share/julia/stdlib/v1.6/LinearAlgebra/src/uniformscaling.jl\" target=\"_blank\">/Applications/Julia-1.6.app/Contents/Resources/julia/share/julia/stdlib/v1.6/LinearAlgebra/src/uniformscaling.jl:146</a></li> <li> +(x::<b>Integer</b>, y::<b>Ptr</b>) in Base at <a href=\"https://github.com/JuliaLang/julia/tree/f9720dc2ebd6cd9e3086365f281e62506444ef37/base/pointer.jl#L161\" target=\"_blank\">pointer.jl:161</a></li> <li> +(y::<b>Integer</b>, x::<b>Rational</b>) in Base at <a href=\"https://github.com/JuliaLang/julia/tree/f9720dc2ebd6cd9e3086365f281e62506444ef37/base/rational.jl#L295\" target=\"_blank\">rational.jl:295</a></li> <li> +(x::<b>Integer</b>, y::<b>AbstractChar</b>) in Base at <a href=\"https://github.com/JuliaLang/julia/tree/f9720dc2ebd6cd9e3086365f281e62506444ef37/base/char.jl#L224\" target=\"_blank\">char.jl:224</a></li> <li> +(x::<b>Bool</b>, y::<b>Bool</b>) in Base at <a href=\"https://github.com/JuliaLang/julia/tree/f9720dc2ebd6cd9e3086365f281e62506444ef37/base/bool.jl#L92\" target=\"_blank\">bool.jl:92</a></li> <li> +(a::<b>Integer</b>, b::<b>Integer</b>) in Base at <a href=\"https://github.com/JuliaLang/julia/tree/f9720dc2ebd6cd9e3086365f281e62506444ef37/base/int.jl#L919\" target=\"_blank\">int.jl:919</a></li> <li> +(x::<b>Bool</b>, y::<b>T</b>)<i> where T<:AbstractFloat</i> in Base at <a href=\"https://github.com/JuliaLang/julia/tree/f9720dc2ebd6cd9e3086365f281e62506444ef37/base/bool.jl#L99\" target=\"_blank\">bool.jl:99</a></li> <li> +(x::<b>Bool</b>, z::<b>Complex{Bool}</b>) in Base at <a href=\"https://github.com/JuliaLang/julia/tree/f9720dc2ebd6cd9e3086365f281e62506444ef37/base/complex.jl#L286\" target=\"_blank\">complex.jl:286</a></li> <li> +(x::<b>Real</b>, z::<b>Complex{Bool}</b>) in Base at <a href=\"https://github.com/JuliaLang/julia/tree/f9720dc2ebd6cd9e3086365f281e62506444ef37/base/complex.jl#L300\" target=\"_blank\">complex.jl:300</a></li> <li> +(x::<b>Bool</b>, z::<b>Complex</b>) in Base at <a href=\"https://github.com/JuliaLang/julia/tree/f9720dc2ebd6cd9e3086365f281e62506444ef37/base/complex.jl#L293\" target=\"_blank\">complex.jl:293</a></li> <li> +(x::<b>Real</b>, z::<b>Complex</b>) in Base at <a href=\"https://github.com/JuliaLang/julia/tree/f9720dc2ebd6cd9e3086365f281e62506444ef37/base/complex.jl#L312\" target=\"_blank\">complex.jl:312</a></li> <li> +(x::<b>Number</b>) in Base at <a href=\"https://github.com/JuliaLang/julia/tree/f9720dc2ebd6cd9e3086365f281e62506444ef37/base/operators.jl#L515\" target=\"_blank\">operators.jl:515</a></li> <li> +(x::<b>T</b>, y::<b>T</b>)<i> where T<:Number</i> in Base at <a href=\"https://github.com/JuliaLang/julia/tree/f9720dc2ebd6cd9e3086365f281e62506444ef37/base/promotion.jl#L396\" target=\"_blank\">promotion.jl:396</a></li> <li> +(x::<b>Number</b>, y::<b>Number</b>) in Base at <a href=\"https://github.com/JuliaLang/julia/tree/f9720dc2ebd6cd9e3086365f281e62506444ef37/base/promotion.jl#L321\" target=\"_blank\">promotion.jl:321</a></li> <li> +(t::<b>Dates.Time</b>, dt::<b>Dates.Date</b>) in Dates at <a href=\"file:///Users/julia/buildbot/worker/package_macos64/build/usr/share/julia/stdlib/v1.6/Dates/src/arithmetic.jl\" target=\"_blank\">/Applications/Julia-1.6.app/Contents/Resources/julia/share/julia/stdlib/v1.6/Dates/src/arithmetic.jl:20</a></li> <li> +(x::<b>Dates.Time</b>, y::<b>Dates.TimePeriod</b>) in Dates at <a href=\"file:///Users/julia/buildbot/worker/package_macos64/build/usr/share/julia/stdlib/v1.6/Dates/src/arithmetic.jl\" target=\"_blank\">/Applications/Julia-1.6.app/Contents/Resources/julia/share/julia/stdlib/v1.6/Dates/src/arithmetic.jl:83</a></li> <li> +(x::<b>Dates.TimeType</b>) in Dates at <a href=\"file:///Users/julia/buildbot/worker/package_macos64/build/usr/share/julia/stdlib/v1.6/Dates/src/arithmetic.jl\" target=\"_blank\">/Applications/Julia-1.6.app/Contents/Resources/julia/share/julia/stdlib/v1.6/Dates/src/arithmetic.jl:8</a></li> <li> +(a::<b>Dates.TimeType</b>, b::<b>Dates.Period</b>, c::<b>Dates.Period</b>) in Dates at <a href=\"file:///Users/julia/buildbot/worker/package_macos64/build/usr/share/julia/stdlib/v1.6/Dates/src/periods.jl\" target=\"_blank\">/Applications/Julia-1.6.app/Contents/Resources/julia/share/julia/stdlib/v1.6/Dates/src/periods.jl:373</a></li> <li> +(a::<b>Dates.TimeType</b>, b::<b>Dates.Period</b>, c::<b>Dates.Period</b>, d::<b>Dates.Period...</b>) in Dates at <a href=\"file:///Users/julia/buildbot/worker/package_macos64/build/usr/share/julia/stdlib/v1.6/Dates/src/periods.jl\" target=\"_blank\">/Applications/Julia-1.6.app/Contents/Resources/julia/share/julia/stdlib/v1.6/Dates/src/periods.jl:374</a></li> <li> +(x::<b>Dates.TimeType</b>, y::<b>Dates.CompoundPeriod</b>) in Dates at <a href=\"file:///Users/julia/buildbot/worker/package_macos64/build/usr/share/julia/stdlib/v1.6/Dates/src/periods.jl\" target=\"_blank\">/Applications/Julia-1.6.app/Contents/Resources/julia/share/julia/stdlib/v1.6/Dates/src/periods.jl:376</a></li> <li> +(a, b, c, xs...) in Base at <a href=\"https://github.com/JuliaLang/julia/tree/f9720dc2ebd6cd9e3086365f281e62506444ef37/base/operators.jl#L560\" target=\"_blank\">operators.jl:560</a></li> </ul>"
      ],
      "text/plain": [
       "# 190 methods for generic function \"+\":\n",
       "[1] +(x::T, y::T) where T<:Union{Int128, Int16, Int32, Int64, Int8, UInt128, UInt16, UInt32, UInt64, UInt8} in Base at int.jl:87\n",
       "[2] +(c::Union{UInt16, UInt32, UInt64, UInt8}, x::BigInt) in Base.GMP at gmp.jl:528\n",
       "[3] +(c::Union{Int16, Int32, Int64, Int8}, x::BigInt) in Base.GMP at gmp.jl:534\n",
       "[4] +(c::Union{UInt16, UInt32, UInt64, UInt8}, x::BigFloat) in Base.MPFR at mpfr.jl:376\n",
       "[5] +(c::Union{Int16, Int32, Int64, Int8}, x::BigFloat) in Base.MPFR at mpfr.jl:384\n",
       "[6] +(c::Union{Float16, Float32, Float64}, x::BigFloat) in Base.MPFR at mpfr.jl:392\n",
       "[7] +(x::Union{Dates.CompoundPeriod, Dates.Period}) in Dates at /Applications/Julia-1.6.app/Contents/Resources/julia/share/julia/stdlib/v1.6/Dates/src/periods.jl:362\n",
       "[8] +(Da::LinearAlgebra.Diagonal, Db::LinearAlgebra.Diagonal) in LinearAlgebra at /Applications/Julia-1.6.app/Contents/Resources/julia/share/julia/stdlib/v1.6/LinearAlgebra/src/diagonal.jl:156\n",
       "[9] +(D::LinearAlgebra.Diagonal, S::LinearAlgebra.Symmetric) in LinearAlgebra at /Applications/Julia-1.6.app/Contents/Resources/julia/share/julia/stdlib/v1.6/LinearAlgebra/src/diagonal.jl:160\n",
       "[10] +(D::LinearAlgebra.Diagonal{var\"#s832\", V} where {var\"#s832\"<:Real, V<:AbstractVector{var\"#s832\"}}, H::LinearAlgebra.Hermitian) in LinearAlgebra at /Applications/Julia-1.6.app/Contents/Resources/julia/share/julia/stdlib/v1.6/LinearAlgebra/src/diagonal.jl:166\n",
       "[11] +(A::LinearAlgebra.Diagonal, B::LinearAlgebra.Bidiagonal) in LinearAlgebra at /Applications/Julia-1.6.app/Contents/Resources/julia/share/julia/stdlib/v1.6/LinearAlgebra/src/special.jl:125\n",
       "[12] +(A::LinearAlgebra.Diagonal, B::LinearAlgebra.SymTridiagonal) in LinearAlgebra at /Applications/Julia-1.6.app/Contents/Resources/julia/share/julia/stdlib/v1.6/LinearAlgebra/src/special.jl:135\n",
       "[13] +(A::LinearAlgebra.Diagonal, B::LinearAlgebra.Tridiagonal) in LinearAlgebra at /Applications/Julia-1.6.app/Contents/Resources/julia/share/julia/stdlib/v1.6/LinearAlgebra/src/special.jl:163\n",
       "[14] +(A::LinearAlgebra.Diagonal{var\"#s832\", V} where {var\"#s832\"<:Number, V<:AbstractVector{var\"#s832\"}}, B::LinearAlgebra.UniformScaling) in LinearAlgebra at /Applications/Julia-1.6.app/Contents/Resources/julia/share/julia/stdlib/v1.6/LinearAlgebra/src/special.jl:241\n",
       "[15] +(A::LinearAlgebra.UnitUpperTriangular, B::LinearAlgebra.UpperTriangular) in LinearAlgebra at /Applications/Julia-1.6.app/Contents/Resources/julia/share/julia/stdlib/v1.6/LinearAlgebra/src/triangular.jl:652\n",
       "[16] +(A::LinearAlgebra.UnitUpperTriangular, B::LinearAlgebra.UnitUpperTriangular) in LinearAlgebra at /Applications/Julia-1.6.app/Contents/Resources/julia/share/julia/stdlib/v1.6/LinearAlgebra/src/triangular.jl:654\n",
       "[17] +(UL::LinearAlgebra.UnitUpperTriangular, J::LinearAlgebra.UniformScaling) in LinearAlgebra at /Applications/Julia-1.6.app/Contents/Resources/julia/share/julia/stdlib/v1.6/LinearAlgebra/src/uniformscaling.jl:182\n",
       "[18] +(A::LinearAlgebra.UnitUpperTriangular, B::LinearAlgebra.Bidiagonal) in LinearAlgebra at /Applications/Julia-1.6.app/Contents/Resources/julia/share/julia/stdlib/v1.6/LinearAlgebra/src/special.jl:86\n",
       "[19] +(y::Dates.TimeType, x::StridedArray{var\"#s832\", N} where {var\"#s832\"<:Union{Dates.CompoundPeriod, Dates.Period}, N}) in Dates at /Applications/Julia-1.6.app/Contents/Resources/julia/share/julia/stdlib/v1.6/Dates/src/deprecated.jl:18\n",
       "[20] +(r1::LinRange{T}, r2::LinRange{T}) where T in Base at range.jl:1108\n",
       "[21] +(A::BitArray, B::BitArray) in Base at bitarray.jl:1127\n",
       "[22] +(r1::OrdinalRange, r2::OrdinalRange) in Base at range.jl:1101\n",
       "[23] +(A::LinearAlgebra.UnitLowerTriangular, B::LinearAlgebra.LowerTriangular) in LinearAlgebra at /Applications/Julia-1.6.app/Contents/Resources/julia/share/julia/stdlib/v1.6/LinearAlgebra/src/triangular.jl:653\n",
       "[24] +(A::LinearAlgebra.UnitLowerTriangular, B::LinearAlgebra.UnitLowerTriangular) in LinearAlgebra at /Applications/Julia-1.6.app/Contents/Resources/julia/share/julia/stdlib/v1.6/LinearAlgebra/src/triangular.jl:655\n",
       "[25] +(UL::LinearAlgebra.UnitLowerTriangular, J::LinearAlgebra.UniformScaling) in LinearAlgebra at /Applications/Julia-1.6.app/Contents/Resources/julia/share/julia/stdlib/v1.6/LinearAlgebra/src/uniformscaling.jl:182\n",
       "[26] +(A::LinearAlgebra.UnitLowerTriangular, B::LinearAlgebra.Bidiagonal) in LinearAlgebra at /Applications/Julia-1.6.app/Contents/Resources/julia/share/julia/stdlib/v1.6/LinearAlgebra/src/special.jl:86\n",
       "[27] +(r::AbstractRange{var\"#s832\"} where var\"#s832\"<:Dates.TimeType, x::Dates.Period) in Dates at /Applications/Julia-1.6.app/Contents/Resources/julia/share/julia/stdlib/v1.6/Dates/src/ranges.jl:63\n",
       "[28] +(A::LinearAlgebra.Symmetric, B::LinearAlgebra.Symmetric) in LinearAlgebra at /Applications/Julia-1.6.app/Contents/Resources/julia/share/julia/stdlib/v1.6/LinearAlgebra/src/symmetric.jl:469\n",
       "[29] +(S::LinearAlgebra.Symmetric, D::LinearAlgebra.Diagonal) in LinearAlgebra at /Applications/Julia-1.6.app/Contents/Resources/julia/share/julia/stdlib/v1.6/LinearAlgebra/src/diagonal.jl:163\n",
       "[30] +(A::LinearAlgebra.Symmetric{var\"#s830\", var\"#s829\"} where {var\"#s830\", var\"#s829\"<:(SparseArrays.AbstractSparseMatrix{Tv, Ti} where {Tv, Ti})}, B::SparseArrays.AbstractSparseMatrix{Tv, Ti} where {Tv, Ti}) in SparseArrays at /Applications/Julia-1.6.app/Contents/Resources/julia/share/julia/stdlib/v1.6/SparseArrays/src/linalg.jl:15\n",
       "[31] +(A::LinearAlgebra.Symmetric, B::SparseArrays.AbstractSparseMatrix{Tv, Ti} where {Tv, Ti}) in SparseArrays at /Applications/Julia-1.6.app/Contents/Resources/julia/share/julia/stdlib/v1.6/SparseArrays/src/linalg.jl:18\n",
       "[32] +(A::LinearAlgebra.Symmetric{var\"#s824\", var\"#s823\"} where {var\"#s824\"<:Real, var\"#s823\"<:(SparseArrays.AbstractSparseMatrix{Tv, Ti} where {Tv, Ti})}, B::LinearAlgebra.Hermitian{var\"#s822\", var\"#s821\"} where {var\"#s822\", var\"#s821\"<:(SparseArrays.AbstractSparseMatrix{Tv, Ti} where {Tv, Ti})}) in SparseArrays at /Applications/Julia-1.6.app/Contents/Resources/julia/share/julia/stdlib/v1.6/SparseArrays/src/linalg.jl:25\n",
       "[33] +(A::LinearAlgebra.Symmetric{var\"#s831\", S} where {var\"#s831\"<:Real, S<:(AbstractMatrix{var\"#s832\"} where var\"#s832\"<:var\"#s831\")}, B::LinearAlgebra.Hermitian) in LinearAlgebra at /Applications/Julia-1.6.app/Contents/Resources/julia/share/julia/stdlib/v1.6/LinearAlgebra/src/symmetric.jl:484\n",
       "[34] +(A::LinearAlgebra.Symmetric{var\"#s832\", var\"#s831\"} where {var\"#s832\", var\"#s831\"<:(SparseArrays.AbstractSparseMatrix{Tv, Ti} where {Tv, Ti})}, B::LinearAlgebra.Hermitian{var\"#s830\", var\"#s829\"} where {var\"#s830\", var\"#s829\"<:(SparseArrays.AbstractSparseMatrix{Tv, Ti} where {Tv, Ti})}) in SparseArrays at /Applications/Julia-1.6.app/Contents/Resources/julia/share/julia/stdlib/v1.6/SparseArrays/src/linalg.jl:23\n",
       "[35] +(x::AbstractIrrational, y::AbstractIrrational) in Base at irrationals.jl:156\n",
       "[36] +(A::LinearAlgebra.LowerTriangular, B::LinearAlgebra.LowerTriangular) in LinearAlgebra at /Applications/Julia-1.6.app/Contents/Resources/julia/share/julia/stdlib/v1.6/LinearAlgebra/src/triangular.jl:649\n",
       "[37] +(A::LinearAlgebra.LowerTriangular, B::LinearAlgebra.UnitLowerTriangular) in LinearAlgebra at /Applications/Julia-1.6.app/Contents/Resources/julia/share/julia/stdlib/v1.6/LinearAlgebra/src/triangular.jl:651\n",
       "[38] +(A::LinearAlgebra.LowerTriangular, B::LinearAlgebra.Bidiagonal) in LinearAlgebra at /Applications/Julia-1.6.app/Contents/Resources/julia/share/julia/stdlib/v1.6/LinearAlgebra/src/special.jl:86\n",
       "[39] +(x::Rational, y::Integer) in Base at rational.jl:288\n",
       "[40] +(z::Complex, w::Complex) in Base at complex.jl:275\n",
       "[41] +(A::LinearAlgebra.Bidiagonal, B::LinearAlgebra.Bidiagonal) in LinearAlgebra at /Applications/Julia-1.6.app/Contents/Resources/julia/share/julia/stdlib/v1.6/LinearAlgebra/src/bidiag.jl:354\n",
       "[42] +(A::LinearAlgebra.Bidiagonal, B::LinearAlgebra.UpperTriangular) in LinearAlgebra at /Applications/Julia-1.6.app/Contents/Resources/julia/share/julia/stdlib/v1.6/LinearAlgebra/src/special.jl:94\n",
       "[43] +(A::LinearAlgebra.Bidiagonal, B::LinearAlgebra.UnitUpperTriangular) in LinearAlgebra at /Applications/Julia-1.6.app/Contents/Resources/julia/share/julia/stdlib/v1.6/LinearAlgebra/src/special.jl:94\n",
       "[44] +(A::LinearAlgebra.Bidiagonal, B::LinearAlgebra.LowerTriangular) in LinearAlgebra at /Applications/Julia-1.6.app/Contents/Resources/julia/share/julia/stdlib/v1.6/LinearAlgebra/src/special.jl:94\n",
       "[45] +(A::LinearAlgebra.Bidiagonal, B::LinearAlgebra.UnitLowerTriangular) in LinearAlgebra at /Applications/Julia-1.6.app/Contents/Resources/julia/share/julia/stdlib/v1.6/LinearAlgebra/src/special.jl:94\n",
       "[46] +(A::LinearAlgebra.Bidiagonal, B::LinearAlgebra.Diagonal) in LinearAlgebra at /Applications/Julia-1.6.app/Contents/Resources/julia/share/julia/stdlib/v1.6/LinearAlgebra/src/special.jl:115\n",
       "[47] +(A::LinearAlgebra.Bidiagonal, B::LinearAlgebra.Tridiagonal) in LinearAlgebra at /Applications/Julia-1.6.app/Contents/Resources/julia/share/julia/stdlib/v1.6/LinearAlgebra/src/special.jl:183\n",
       "[48] +(A::LinearAlgebra.Bidiagonal, B::LinearAlgebra.SymTridiagonal) in LinearAlgebra at /Applications/Julia-1.6.app/Contents/Resources/julia/share/julia/stdlib/v1.6/LinearAlgebra/src/special.jl:203\n",
       "[49] +(A::LinearAlgebra.Bidiagonal{var\"#s832\", V} where {var\"#s832\"<:Number, V<:AbstractVector{var\"#s832\"}}, B::LinearAlgebra.UniformScaling) in LinearAlgebra at /Applications/Julia-1.6.app/Contents/Resources/julia/share/julia/stdlib/v1.6/LinearAlgebra/src/special.jl:236\n",
       "[50] +(A::LinearAlgebra.UpperHessenberg, B::LinearAlgebra.UpperHessenberg) in LinearAlgebra at /Applications/Julia-1.6.app/Contents/Resources/julia/share/julia/stdlib/v1.6/LinearAlgebra/src/hessenberg.jl:101\n",
       "[51] +(H::LinearAlgebra.UpperHessenberg, J::LinearAlgebra.UniformScaling) in LinearAlgebra at /Applications/Julia-1.6.app/Contents/Resources/julia/share/julia/stdlib/v1.6/LinearAlgebra/src/hessenberg.jl:106\n",
       "[52] +(x::P, y::P) where P<:Dates.Period in Dates at /Applications/Julia-1.6.app/Contents/Resources/julia/share/julia/stdlib/v1.6/Dates/src/periods.jl:79\n",
       "[53] +(x::Dates.Period, y::Dates.Period) in Dates at /Applications/Julia-1.6.app/Contents/Resources/julia/share/julia/stdlib/v1.6/Dates/src/periods.jl:351\n",
       "[54] +(y::Dates.Period, x::Dates.CompoundPeriod) in Dates at /Applications/Julia-1.6.app/Contents/Resources/julia/share/julia/stdlib/v1.6/Dates/src/periods.jl:353\n",
       "[55] +(y::Dates.Period, x::Dates.TimeType) in Dates at /Applications/Julia-1.6.app/Contents/Resources/julia/share/julia/stdlib/v1.6/Dates/src/arithmetic.jl:85\n",
       "[56] +(x::Dates.Period, r::AbstractRange{var\"#s832\"} where var\"#s832\"<:Dates.TimeType) in Dates at /Applications/Julia-1.6.app/Contents/Resources/julia/share/julia/stdlib/v1.6/Dates/src/ranges.jl:62\n",
       "[57] +(y::Union{Dates.CompoundPeriod, Dates.Period}, x::AbstractArray{var\"#s832\", N} where {var\"#s832\"<:Dates.TimeType, N}) in Dates at /Applications/Julia-1.6.app/Contents/Resources/julia/share/julia/stdlib/v1.6/Dates/src/deprecated.jl:14\n",
       "[58] +(A::Array, Bs::Array...) in Base at arraymath.jl:43\n",
       "[59] +(X::StridedArray{var\"#s832\", N} where {var\"#s832\"<:Union{Dates.CompoundPeriod, Dates.Period}, N}, Y::StridedArray{var\"#s831\", N} where {var\"#s831\"<:Union{Dates.CompoundPeriod, Dates.Period}, N}) in Dates at /Applications/Julia-1.6.app/Contents/Resources/julia/share/julia/stdlib/v1.6/Dates/src/deprecated.jl:62\n",
       "[60] +(A::Array, B::SparseArrays.AbstractSparseMatrixCSC) in SparseArrays at /Applications/Julia-1.6.app/Contents/Resources/julia/share/julia/stdlib/v1.6/SparseArrays/src/sparsematrix.jl:1745\n",
       "[61] +(x::StridedArray{var\"#s832\", N} where {var\"#s832\"<:Union{Dates.CompoundPeriod, Dates.Period}, N}) in Dates at /Applications/Julia-1.6.app/Contents/Resources/julia/share/julia/stdlib/v1.6/Dates/src/deprecated.jl:55\n",
       "[62] +(x::StridedArray{var\"#s832\", N} where {var\"#s832\"<:Union{Dates.CompoundPeriod, Dates.Period}, N}, y::Dates.TimeType) in Dates at /Applications/Julia-1.6.app/Contents/Resources/julia/share/julia/stdlib/v1.6/Dates/src/deprecated.jl:10\n",
       "[63] +(x::Base.TwicePrecision, y::Number) in Base at twiceprecision.jl:267\n",
       "[64] +(x::Base.TwicePrecision{T}, y::Base.TwicePrecision{T}) where T in Base at twiceprecision.jl:273\n",
       "[65] +(x::Base.TwicePrecision, y::Base.TwicePrecision) in Base at twiceprecision.jl:278\n",
       "[66] +(A::LinearAlgebra.Hermitian, B::LinearAlgebra.Hermitian) in LinearAlgebra at /Applications/Julia-1.6.app/Contents/Resources/julia/share/julia/stdlib/v1.6/LinearAlgebra/src/symmetric.jl:469\n",
       "[67] +(H::LinearAlgebra.Hermitian, D::LinearAlgebra.Diagonal{var\"#s832\", V} where {var\"#s832\"<:Real, V<:AbstractVector{var\"#s832\"}}) in LinearAlgebra at /Applications/Julia-1.6.app/Contents/Resources/julia/share/julia/stdlib/v1.6/LinearAlgebra/src/diagonal.jl:169\n",
       "[68] +(A::LinearAlgebra.Hermitian, J::LinearAlgebra.UniformScaling{var\"#s832\"} where var\"#s832\"<:Complex) in LinearAlgebra at /Applications/Julia-1.6.app/Contents/Resources/julia/share/julia/stdlib/v1.6/LinearAlgebra/src/uniformscaling.jl:196\n",
       "[69] +(A::LinearAlgebra.Hermitian{var\"#s830\", var\"#s829\"} where {var\"#s830\", var\"#s829\"<:(SparseArrays.AbstractSparseMatrix{Tv, Ti} where {Tv, Ti})}, B::SparseArrays.AbstractSparseMatrix{Tv, Ti} where {Tv, Ti}) in SparseArrays at /Applications/Julia-1.6.app/Contents/Resources/julia/share/julia/stdlib/v1.6/SparseArrays/src/linalg.jl:15\n",
       "[70] +(A::LinearAlgebra.Hermitian, B::SparseArrays.AbstractSparseMatrix{Tv, Ti} where {Tv, Ti}) in SparseArrays at /Applications/Julia-1.6.app/Contents/Resources/julia/share/julia/stdlib/v1.6/SparseArrays/src/linalg.jl:18\n",
       "[71] +(A::LinearAlgebra.Hermitian{var\"#s820\", var\"#s819\"} where {var\"#s820\", var\"#s819\"<:(SparseArrays.AbstractSparseMatrix{Tv, Ti} where {Tv, Ti})}, B::LinearAlgebra.Symmetric{var\"#s818\", var\"#s817\"} where {var\"#s818\"<:Real, var\"#s817\"<:(SparseArrays.AbstractSparseMatrix{Tv, Ti} where {Tv, Ti})}) in SparseArrays at /Applications/Julia-1.6.app/Contents/Resources/julia/share/julia/stdlib/v1.6/SparseArrays/src/linalg.jl:26\n",
       "[72] +(A::LinearAlgebra.Hermitian, B::LinearAlgebra.Symmetric{var\"#s832\", S} where {var\"#s832\"<:Real, S<:(AbstractMatrix{var\"#s832\"} where var\"#s832\"<:var\"#s832\")}) in LinearAlgebra at /Applications/Julia-1.6.app/Contents/Resources/julia/share/julia/stdlib/v1.6/LinearAlgebra/src/symmetric.jl:483\n",
       "[73] +(A::LinearAlgebra.Hermitian{var\"#s828\", var\"#s827\"} where {var\"#s828\", var\"#s827\"<:(SparseArrays.AbstractSparseMatrix{Tv, Ti} where {Tv, Ti})}, B::LinearAlgebra.Symmetric{var\"#s826\", var\"#s825\"} where {var\"#s826\", var\"#s825\"<:(SparseArrays.AbstractSparseMatrix{Tv, Ti} where {Tv, Ti})}) in SparseArrays at /Applications/Julia-1.6.app/Contents/Resources/julia/share/julia/stdlib/v1.6/SparseArrays/src/linalg.jl:24\n",
       "[74] +(A::LinearAlgebra.UpperTriangular, B::LinearAlgebra.UpperTriangular) in LinearAlgebra at /Applications/Julia-1.6.app/Contents/Resources/julia/share/julia/stdlib/v1.6/LinearAlgebra/src/triangular.jl:648\n",
       "[75] +(A::LinearAlgebra.UpperTriangular, B::LinearAlgebra.UnitUpperTriangular) in LinearAlgebra at /Applications/Julia-1.6.app/Contents/Resources/julia/share/julia/stdlib/v1.6/LinearAlgebra/src/triangular.jl:650\n",
       "[76] +(A::LinearAlgebra.AbstractTriangular, B::LinearAlgebra.AbstractTriangular) in LinearAlgebra at /Applications/Julia-1.6.app/Contents/Resources/julia/share/julia/stdlib/v1.6/LinearAlgebra/src/triangular.jl:656\n",
       "[77] +(A::LinearAlgebra.UpperTriangular, B::LinearAlgebra.Bidiagonal) in LinearAlgebra at /Applications/Julia-1.6.app/Contents/Resources/julia/share/julia/stdlib/v1.6/LinearAlgebra/src/special.jl:86\n",
       "[78] +(J::LinearAlgebra.UniformScaling) in LinearAlgebra at /Applications/Julia-1.6.app/Contents/Resources/julia/share/julia/stdlib/v1.6/LinearAlgebra/src/uniformscaling.jl:150\n",
       "[79] +(J::LinearAlgebra.UniformScaling, x::Number) in LinearAlgebra at /Applications/Julia-1.6.app/Contents/Resources/julia/share/julia/stdlib/v1.6/LinearAlgebra/src/uniformscaling.jl:145\n",
       "[80] +(J1::LinearAlgebra.UniformScaling, J2::LinearAlgebra.UniformScaling) in LinearAlgebra at /Applications/Julia-1.6.app/Contents/Resources/julia/share/julia/stdlib/v1.6/LinearAlgebra/src/uniformscaling.jl:151\n",
       "[81] +(J::LinearAlgebra.UniformScaling, B::BitMatrix) in LinearAlgebra at /Applications/Julia-1.6.app/Contents/Resources/julia/share/julia/stdlib/v1.6/LinearAlgebra/src/uniformscaling.jl:153\n",
       "[82] +(J::LinearAlgebra.UniformScaling, F::LinearAlgebra.Hessenberg) in LinearAlgebra at /Applications/Julia-1.6.app/Contents/Resources/julia/share/julia/stdlib/v1.6/LinearAlgebra/src/hessenberg.jl:560\n",
       "[83] +(A::LinearAlgebra.UniformScaling, B::LinearAlgebra.Tridiagonal{var\"#s832\", V} where {var\"#s832\"<:Number, V<:AbstractVector{var\"#s832\"}}) in LinearAlgebra at /Applications/Julia-1.6.app/Contents/Resources/julia/share/julia/stdlib/v1.6/LinearAlgebra/src/special.jl:245\n",
       "[84] +(A::LinearAlgebra.UniformScaling, B::LinearAlgebra.SymTridiagonal{var\"#s832\", V} where {var\"#s832\"<:Number, V<:AbstractVector{var\"#s832\"}}) in LinearAlgebra at /Applications/Julia-1.6.app/Contents/Resources/julia/share/julia/stdlib/v1.6/LinearAlgebra/src/special.jl:250\n",
       "[85] +(A::LinearAlgebra.UniformScaling, B::LinearAlgebra.Bidiagonal{var\"#s832\", V} where {var\"#s832\"<:Number, V<:AbstractVector{var\"#s832\"}}) in LinearAlgebra at /Applications/Julia-1.6.app/Contents/Resources/julia/share/julia/stdlib/v1.6/LinearAlgebra/src/special.jl:255\n",
       "[86] +(A::LinearAlgebra.UniformScaling, B::LinearAlgebra.Diagonal{var\"#s832\", V} where {var\"#s832\"<:Number, V<:AbstractVector{var\"#s832\"}}) in LinearAlgebra at /Applications/Julia-1.6.app/Contents/Resources/julia/share/julia/stdlib/v1.6/LinearAlgebra/src/special.jl:260\n",
       "[87] +(J::LinearAlgebra.UniformScaling, A::AbstractMatrix{T} where T) in LinearAlgebra at /Applications/Julia-1.6.app/Contents/Resources/julia/share/julia/stdlib/v1.6/LinearAlgebra/src/uniformscaling.jl:154\n",
       "[88] +(x::Ptr, y::Integer) in Base at pointer.jl:159\n",
       "[89] +(F::LinearAlgebra.Hessenberg, J::LinearAlgebra.UniformScaling) in LinearAlgebra at /Applications/Julia-1.6.app/Contents/Resources/julia/share/julia/stdlib/v1.6/LinearAlgebra/src/hessenberg.jl:559\n",
       "[90] +(y::AbstractFloat, x::Bool) in Base at bool.jl:102\n",
       "[91] +(r1::StepRangeLen{T, R, S} where S, r2::StepRangeLen{T, R, S} where S) where {R<:Base.TwicePrecision, T} in Base at twiceprecision.jl:574\n",
       "[92] +(r1::StepRangeLen{T, S, S1} where S1, r2::StepRangeLen{T, S, S1} where S1) where {T, S} in Base at range.jl:1124\n",
       "[93] +(r1::Union{LinRange, OrdinalRange, StepRangeLen}, r2::Union{LinRange, OrdinalRange, StepRangeLen}) in Base at range.jl:1117\n",
       "[94] +(index1::CartesianIndex{N}, index2::CartesianIndex{N}) where N in Base.IteratorsMD at multidimensional.jl:114\n",
       "[95] +(x::Dates.Instant) in Dates at /Applications/Julia-1.6.app/Contents/Resources/julia/share/julia/stdlib/v1.6/Dates/src/arithmetic.jl:4\n",
       "[96] +(A::LinearAlgebra.Tridiagonal, B::LinearAlgebra.Tridiagonal) in LinearAlgebra at /Applications/Julia-1.6.app/Contents/Resources/julia/share/julia/stdlib/v1.6/LinearAlgebra/src/tridiag.jl:733\n",
       "[97] +(A::LinearAlgebra.Tridiagonal, B::LinearAlgebra.SymTridiagonal) in LinearAlgebra at /Applications/Julia-1.6.app/Contents/Resources/julia/share/julia/stdlib/v1.6/LinearAlgebra/src/special.jl:157\n",
       "[98] +(A::LinearAlgebra.Tridiagonal, B::LinearAlgebra.Diagonal) in LinearAlgebra at /Applications/Julia-1.6.app/Contents/Resources/julia/share/julia/stdlib/v1.6/LinearAlgebra/src/special.jl:173\n",
       "[99] +(A::LinearAlgebra.Tridiagonal, B::LinearAlgebra.Bidiagonal) in LinearAlgebra at /Applications/Julia-1.6.app/Contents/Resources/julia/share/julia/stdlib/v1.6/LinearAlgebra/src/special.jl:193\n",
       "[100] +(A::LinearAlgebra.Tridiagonal{var\"#s832\", V} where {var\"#s832\"<:Number, V<:AbstractVector{var\"#s832\"}}, B::LinearAlgebra.UniformScaling) in LinearAlgebra at /Applications/Julia-1.6.app/Contents/Resources/julia/share/julia/stdlib/v1.6/LinearAlgebra/src/special.jl:226\n",
       "[101] +(x::T, y::Integer) where T<:AbstractChar in Base at char.jl:223\n",
       "[102] +(A::SparseArrays.AbstractSparseMatrix{Tv, Ti} where {Tv, Ti}, B::LinearAlgebra.Hermitian{var\"#s832\", var\"#s831\"} where {var\"#s832\", var\"#s831\"<:(SparseArrays.AbstractSparseMatrix{Tv, Ti} where {Tv, Ti})}) in SparseArrays at /Applications/Julia-1.6.app/Contents/Resources/julia/share/julia/stdlib/v1.6/SparseArrays/src/linalg.jl:14\n",
       "[103] +(A::SparseArrays.AbstractSparseMatrix{Tv, Ti} where {Tv, Ti}, B::LinearAlgebra.Hermitian) in SparseArrays at /Applications/Julia-1.6.app/Contents/Resources/julia/share/julia/stdlib/v1.6/SparseArrays/src/linalg.jl:17\n",
       "[104] +(A::SparseArrays.AbstractSparseMatrix{Tv, Ti} where {Tv, Ti}, B::LinearAlgebra.Symmetric{var\"#s832\", var\"#s831\"} where {var\"#s832\", var\"#s831\"<:(SparseArrays.AbstractSparseMatrix{Tv, Ti} where {Tv, Ti})}) in SparseArrays at /Applications/Julia-1.6.app/Contents/Resources/julia/share/julia/stdlib/v1.6/SparseArrays/src/linalg.jl:14\n",
       "[105] +(A::SparseArrays.AbstractSparseMatrix{Tv, Ti} where {Tv, Ti}, B::LinearAlgebra.Symmetric) in SparseArrays at /Applications/Julia-1.6.app/Contents/Resources/julia/share/julia/stdlib/v1.6/SparseArrays/src/linalg.jl:17\n",
       "[106] +(x::Dates.AbstractTime, y::Missing) in Dates at /Applications/Julia-1.6.app/Contents/Resources/julia/share/julia/stdlib/v1.6/Dates/src/arithmetic.jl:88\n",
       "[107] +(x::AbstractArray{var\"#s832\", N} where {var\"#s832\"<:Dates.TimeType, N}, y::Union{Dates.CompoundPeriod, Dates.Period}) in Dates at /Applications/Julia-1.6.app/Contents/Resources/julia/share/julia/stdlib/v1.6/Dates/src/deprecated.jl:6\n",
       "[108] +(A::SparseArrays.AbstractSparseMatrixCSC, B::SparseArrays.AbstractSparseMatrixCSC) in SparseArrays at /Applications/Julia-1.6.app/Contents/Resources/julia/share/julia/stdlib/v1.6/SparseArrays/src/sparsematrix.jl:1741\n",
       "[109] +(x::SparseArrays.AbstractSparseVector{Tv, Ti} where {Tv, Ti}, y::SparseArrays.AbstractSparseVector{Tv, Ti} where {Tv, Ti}) in SparseArrays at /Applications/Julia-1.6.app/Contents/Resources/julia/share/julia/stdlib/v1.6/SparseArrays/src/sparsevector.jl:1345\n",
       "[110] +(A::SparseArrays.AbstractSparseMatrixCSC, B::Array) in SparseArrays at /Applications/Julia-1.6.app/Contents/Resources/julia/share/julia/stdlib/v1.6/SparseArrays/src/sparsematrix.jl:1744\n",
       "[111] +(A::SparseArrays.AbstractSparseMatrixCSC, J::LinearAlgebra.UniformScaling) in SparseArrays at /Applications/Julia-1.6.app/Contents/Resources/julia/share/julia/stdlib/v1.6/SparseArrays/src/sparsematrix.jl:3797\n",
       "[112] +(A::LinearAlgebra.SymTridiagonal, B::LinearAlgebra.SymTridiagonal) in LinearAlgebra at /Applications/Julia-1.6.app/Contents/Resources/julia/share/julia/stdlib/v1.6/LinearAlgebra/src/tridiag.jl:205\n",
       "[113] +(A::LinearAlgebra.SymTridiagonal, B::LinearAlgebra.Diagonal) in LinearAlgebra at /Applications/Julia-1.6.app/Contents/Resources/julia/share/julia/stdlib/v1.6/LinearAlgebra/src/special.jl:145\n",
       "[114] +(A::LinearAlgebra.SymTridiagonal, B::LinearAlgebra.Tridiagonal) in LinearAlgebra at /Applications/Julia-1.6.app/Contents/Resources/julia/share/julia/stdlib/v1.6/LinearAlgebra/src/special.jl:159\n",
       "[115] +(A::LinearAlgebra.SymTridiagonal, B::LinearAlgebra.Bidiagonal) in LinearAlgebra at /Applications/Julia-1.6.app/Contents/Resources/julia/share/julia/stdlib/v1.6/LinearAlgebra/src/special.jl:213\n",
       "[116] +(A::AbstractArray, B::AbstractArray) in Base at arraymath.jl:37\n",
       "[117] +(A::LinearAlgebra.SymTridiagonal{var\"#s832\", V} where {var\"#s832\"<:Number, V<:AbstractVector{var\"#s832\"}}, B::LinearAlgebra.UniformScaling) in LinearAlgebra at /Applications/Julia-1.6.app/Contents/Resources/julia/share/julia/stdlib/v1.6/LinearAlgebra/src/special.jl:231\n",
       "[118] +(::Missing) in Base at missing.jl:101\n",
       "[119] +(::Missing, ::Missing) in Base at missing.jl:115\n",
       "[120] +(::Missing, ::Number) in Base at missing.jl:116\n",
       "[121] +(x::Missing, y::Dates.AbstractTime) in Dates at /Applications/Julia-1.6.app/Contents/Resources/julia/share/julia/stdlib/v1.6/Dates/src/arithmetic.jl:89\n",
       "[122] +(x::BigFloat, y::BigFloat) in Base.MPFR at mpfr.jl:364\n",
       "[123] +(x::BigFloat, c::Union{UInt16, UInt32, UInt64, UInt8}) in Base.MPFR at mpfr.jl:371\n",
       "[124] +(x::BigFloat, c::Union{Int16, Int32, Int64, Int8}) in Base.MPFR at mpfr.jl:379\n",
       "[125] +(x::BigFloat, c::Union{Float16, Float32, Float64}) in Base.MPFR at mpfr.jl:387\n",
       "[126] +(x::BigFloat, c::BigInt) in Base.MPFR at mpfr.jl:395\n",
       "[127] +(a::BigFloat, b::BigFloat, c::BigFloat) in Base.MPFR at mpfr.jl:536\n",
       "[128] +(a::BigFloat, b::BigFloat, c::BigFloat, d::BigFloat) in Base.MPFR at mpfr.jl:542\n",
       "[129] +(a::BigFloat, b::BigFloat, c::BigFloat, d::BigFloat, e::BigFloat) in Base.MPFR at mpfr.jl:549\n",
       "[130] +(x::BigInt, y::BigInt) in Base.GMP at gmp.jl:479\n",
       "[131] +(a::BigInt, b::BigInt, c::BigInt) in Base.GMP at gmp.jl:519\n",
       "[132] +(a::BigInt, b::BigInt, c::BigInt, d::BigInt) in Base.GMP at gmp.jl:520\n",
       "[133] +(a::BigInt, b::BigInt, c::BigInt, d::BigInt, e::BigInt) in Base.GMP at gmp.jl:521\n",
       "[134] +(x::BigInt, c::Union{UInt16, UInt32, UInt64, UInt8}) in Base.GMP at gmp.jl:527\n",
       "[135] +(x::BigInt, c::Union{Int16, Int32, Int64, Int8}) in Base.GMP at gmp.jl:533\n",
       "[136] +(c::BigInt, x::BigFloat) in Base.MPFR at mpfr.jl:400\n",
       "[137] +(z::Complex{Bool}, x::Bool) in Base at complex.jl:287\n",
       "[138] +(z::Complex, x::Bool) in Base at complex.jl:294\n",
       "[139] +(z::Complex{Bool}, x::Real) in Base at complex.jl:301\n",
       "[140] +(z::Complex) in Base at complex.jl:273\n",
       "[141] +(z::Complex, x::Real) in Base at complex.jl:313\n",
       "[142] +(x::Float32, y::Float32) in Base at float.jl:325\n",
       "[143] +(a::Pkg.Resolve.VersionWeight, b::Pkg.Resolve.VersionWeight) in Pkg.Resolve at /Applications/Julia-1.6.app/Contents/Resources/julia/share/julia/stdlib/v1.6/Pkg/src/Resolve/versionweights.jl:22\n",
       "[144] +(level::Base.CoreLogging.LogLevel, inc::Integer) in Base.CoreLogging at logging.jl:131\n",
       "[145] +(x::Dates.CompoundPeriod, y::Dates.Period) in Dates at /Applications/Julia-1.6.app/Contents/Resources/julia/share/julia/stdlib/v1.6/Dates/src/periods.jl:352\n",
       "[146] +(x::Dates.CompoundPeriod, y::Dates.CompoundPeriod) in Dates at /Applications/Julia-1.6.app/Contents/Resources/julia/share/julia/stdlib/v1.6/Dates/src/periods.jl:354\n",
       "[147] +(x::Dates.CompoundPeriod, y::Dates.TimeType) in Dates at /Applications/Julia-1.6.app/Contents/Resources/julia/share/julia/stdlib/v1.6/Dates/src/periods.jl:382\n",
       "[148] +(x::Float64, y::Float64) in Base at float.jl:326\n",
       "[149] +(dt::Dates.Date, t::Dates.Time) in Dates at /Applications/Julia-1.6.app/Contents/Resources/julia/share/julia/stdlib/v1.6/Dates/src/arithmetic.jl:19\n",
       "[150] +(dt::Dates.Date, y::Dates.Year) in Dates at /Applications/Julia-1.6.app/Contents/Resources/julia/share/julia/stdlib/v1.6/Dates/src/arithmetic.jl:27\n",
       "[151] +(dt::Dates.Date, z::Dates.Month) in Dates at /Applications/Julia-1.6.app/Contents/Resources/julia/share/julia/stdlib/v1.6/Dates/src/arithmetic.jl:54\n",
       "[152] +(x::Dates.Date, y::Dates.Quarter) in Dates at /Applications/Julia-1.6.app/Contents/Resources/julia/share/julia/stdlib/v1.6/Dates/src/arithmetic.jl:73\n",
       "[153] +(x::Dates.Date, y::Dates.Week) in Dates at /Applications/Julia-1.6.app/Contents/Resources/julia/share/julia/stdlib/v1.6/Dates/src/arithmetic.jl:77\n",
       "[154] +(x::Dates.Date, y::Dates.Day) in Dates at /Applications/Julia-1.6.app/Contents/Resources/julia/share/julia/stdlib/v1.6/Dates/src/arithmetic.jl:79\n",
       "[155] +(x::Rational{BigInt}, y::Rational{BigInt}) in Base.GMP.MPQ at gmp.jl:886\n",
       "[156] +(x::Rational) in Base at rational.jl:267\n",
       "[157] +(x::Rational, y::Rational) in Base at rational.jl:283\n",
       "[158] +(a::Pkg.Resolve.FieldValue, b::Pkg.Resolve.FieldValue) in Pkg.Resolve at /Applications/Julia-1.6.app/Contents/Resources/julia/share/julia/stdlib/v1.6/Pkg/src/Resolve/fieldvalues.jl:43\n",
       "[159] +(x::Float16, y::Float16) in Base at float.jl:324\n",
       "[160] +(dt::Dates.DateTime, y::Dates.Year) in Dates at /Applications/Julia-1.6.app/Contents/Resources/julia/share/julia/stdlib/v1.6/Dates/src/arithmetic.jl:23\n",
       "[161] +(dt::Dates.DateTime, z::Dates.Month) in Dates at /Applications/Julia-1.6.app/Contents/Resources/julia/share/julia/stdlib/v1.6/Dates/src/arithmetic.jl:47\n",
       "[162] +(x::Dates.DateTime, y::Dates.Quarter) in Dates at /Applications/Julia-1.6.app/Contents/Resources/julia/share/julia/stdlib/v1.6/Dates/src/arithmetic.jl:75\n",
       "[163] +(x::Dates.DateTime, y::Dates.Period) in Dates at /Applications/Julia-1.6.app/Contents/Resources/julia/share/julia/stdlib/v1.6/Dates/src/arithmetic.jl:81\n",
       "[164] +(B::BitMatrix, J::LinearAlgebra.UniformScaling) in LinearAlgebra at /Applications/Julia-1.6.app/Contents/Resources/julia/share/julia/stdlib/v1.6/LinearAlgebra/src/uniformscaling.jl:152\n",
       "[165] +(A::AbstractMatrix{T} where T, J::LinearAlgebra.UniformScaling) in LinearAlgebra at /Applications/Julia-1.6.app/Contents/Resources/julia/share/julia/stdlib/v1.6/LinearAlgebra/src/uniformscaling.jl:215\n",
       "[166] +(x::AbstractArray{var\"#s79\", N} where {var\"#s79\"<:Number, N}) in Base at abstractarraymath.jl:97\n",
       "[167] +(x::Bool) in Base at bool.jl:89\n",
       "[168] +(x::Number, y::Base.TwicePrecision) in Base at twiceprecision.jl:271\n",
       "[169] +(::Number, ::Missing) in Base at missing.jl:117\n",
       "[170] +(x::Number, J::LinearAlgebra.UniformScaling) in LinearAlgebra at /Applications/Julia-1.6.app/Contents/Resources/julia/share/julia/stdlib/v1.6/LinearAlgebra/src/uniformscaling.jl:146\n",
       "[171] +(x::Integer, y::Ptr) in Base at pointer.jl:161\n",
       "[172] +(y::Integer, x::Rational) in Base at rational.jl:295\n",
       "[173] +(x::Integer, y::AbstractChar) in Base at char.jl:224\n",
       "[174] +(x::Bool, y::Bool) in Base at bool.jl:92\n",
       "[175] +(a::Integer, b::Integer) in Base at int.jl:919\n",
       "[176] +(x::Bool, y::T) where T<:AbstractFloat in Base at bool.jl:99\n",
       "[177] +(x::Bool, z::Complex{Bool}) in Base at complex.jl:286\n",
       "[178] +(x::Real, z::Complex{Bool}) in Base at complex.jl:300\n",
       "[179] +(x::Bool, z::Complex) in Base at complex.jl:293\n",
       "[180] +(x::Real, z::Complex) in Base at complex.jl:312\n",
       "[181] +(x::Number) in Base at operators.jl:515\n",
       "[182] +(x::T, y::T) where T<:Number in Base at promotion.jl:396\n",
       "[183] +(x::Number, y::Number) in Base at promotion.jl:321\n",
       "[184] +(t::Dates.Time, dt::Dates.Date) in Dates at /Applications/Julia-1.6.app/Contents/Resources/julia/share/julia/stdlib/v1.6/Dates/src/arithmetic.jl:20\n",
       "[185] +(x::Dates.Time, y::Dates.TimePeriod) in Dates at /Applications/Julia-1.6.app/Contents/Resources/julia/share/julia/stdlib/v1.6/Dates/src/arithmetic.jl:83\n",
       "[186] +(x::Dates.TimeType) in Dates at /Applications/Julia-1.6.app/Contents/Resources/julia/share/julia/stdlib/v1.6/Dates/src/arithmetic.jl:8\n",
       "[187] +(a::Dates.TimeType, b::Dates.Period, c::Dates.Period) in Dates at /Applications/Julia-1.6.app/Contents/Resources/julia/share/julia/stdlib/v1.6/Dates/src/periods.jl:373\n",
       "[188] +(a::Dates.TimeType, b::Dates.Period, c::Dates.Period, d::Dates.Period...) in Dates at /Applications/Julia-1.6.app/Contents/Resources/julia/share/julia/stdlib/v1.6/Dates/src/periods.jl:374\n",
       "[189] +(x::Dates.TimeType, y::Dates.CompoundPeriod) in Dates at /Applications/Julia-1.6.app/Contents/Resources/julia/share/julia/stdlib/v1.6/Dates/src/periods.jl:376\n",
       "[190] +(a, b, c, xs...) in Base at operators.jl:560"
      ]
     },
     "execution_count": 1,
     "metadata": {},
     "output_type": "execute_result"
    }
   ],
   "source": [
    "methods(+)"
   ]
  },
  {
   "cell_type": "code",
   "execution_count": 2,
   "metadata": {},
   "outputs": [],
   "source": [
    "using Distributions"
   ]
  },
  {
   "cell_type": "code",
   "execution_count": 3,
   "metadata": {},
   "outputs": [
    {
     "data": {
      "text/html": [
       "# 271 methods for generic function <b>+</b>:<ul><li> +(x::<b>T</b>, y::<b>T</b>)<i> where T<:Union{Int128, Int16, Int32, Int64, Int8, UInt128, UInt16, UInt32, UInt64, UInt8}</i> in Base at <a href=\"https://github.com/JuliaLang/julia/tree/f9720dc2ebd6cd9e3086365f281e62506444ef37/base/int.jl#L87\" target=\"_blank\">int.jl:87</a></li> <li> +(c::<b>Union{UInt16, UInt32, UInt64, UInt8}</b>, x::<b>BigInt</b>) in Base.GMP at <a href=\"https://github.com/JuliaLang/julia/tree/f9720dc2ebd6cd9e3086365f281e62506444ef37/base/gmp.jl#L528\" target=\"_blank\">gmp.jl:528</a></li> <li> +(c::<b>Union{Int16, Int32, Int64, Int8}</b>, x::<b>BigInt</b>) in Base.GMP at <a href=\"https://github.com/JuliaLang/julia/tree/f9720dc2ebd6cd9e3086365f281e62506444ef37/base/gmp.jl#L534\" target=\"_blank\">gmp.jl:534</a></li> <li> +(c::<b>Union{UInt16, UInt32, UInt64, UInt8}</b>, x::<b>BigFloat</b>) in Base.MPFR at <a href=\"https://github.com/JuliaLang/julia/tree/f9720dc2ebd6cd9e3086365f281e62506444ef37/base/mpfr.jl#L376\" target=\"_blank\">mpfr.jl:376</a></li> <li> +(c::<b>Union{Int16, Int32, Int64, Int8}</b>, x::<b>BigFloat</b>) in Base.MPFR at <a href=\"https://github.com/JuliaLang/julia/tree/f9720dc2ebd6cd9e3086365f281e62506444ef37/base/mpfr.jl#L384\" target=\"_blank\">mpfr.jl:384</a></li> <li> +(c::<b>Union{Float16, Float32, Float64}</b>, x::<b>BigFloat</b>) in Base.MPFR at <a href=\"https://github.com/JuliaLang/julia/tree/f9720dc2ebd6cd9e3086365f281e62506444ef37/base/mpfr.jl#L392\" target=\"_blank\">mpfr.jl:392</a></li> <li> +(x::<b>Union{Dates.CompoundPeriod, Dates.Period}</b>) in Dates at <a href=\"file:///Users/julia/buildbot/worker/package_macos64/build/usr/share/julia/stdlib/v1.6/Dates/src/periods.jl\" target=\"_blank\">/Applications/Julia-1.6.app/Contents/Resources/julia/share/julia/stdlib/v1.6/Dates/src/periods.jl:362</a></li> <li> +(d::<b>MvNormal</b>, c::<b>AbstractVector{T} where T</b>) in Distributions at <a href=\"file:///Users/uqjnazar/.julia/packages/Distributions/fXTVC/src/multivariate/mvnormal.jl\" target=\"_blank\">/Users/uqjnazar/.julia/packages/Distributions/fXTVC/src/multivariate/mvnormal.jl:271</a></li> <li> +(a::<b>ChainRulesCore.Tangent{P, T} where T</b>, b::<b>ChainRulesCore.Tangent{P, T} where T</b>)<i> where P</i> in ChainRulesCore at <a href=\"file:///Users/uqjnazar/.julia/packages/ChainRulesCore/GciYT/src/differential_arithmetic.jl\" target=\"_blank\">/Users/uqjnazar/.julia/packages/ChainRulesCore/GciYT/src/differential_arithmetic.jl:145</a></li> <li> +(a::<b>ChainRulesCore.Tangent</b>, b::<b>ChainRulesCore.AbstractThunk</b>) in ChainRulesCore at <a href=\"file:///Users/uqjnazar/.julia/packages/ChainRulesCore/GciYT/src/differential_arithmetic.jl\" target=\"_blank\">/Users/uqjnazar/.julia/packages/ChainRulesCore/GciYT/src/differential_arithmetic.jl:139</a></li> <li> +(a::<b>ChainRulesCore.Tangent</b>, ::<b>ChainRulesCore.ZeroTangent</b>) in ChainRulesCore at <a href=\"file:///Users/uqjnazar/.julia/packages/ChainRulesCore/GciYT/src/differential_arithmetic.jl\" target=\"_blank\">/Users/uqjnazar/.julia/packages/ChainRulesCore/GciYT/src/differential_arithmetic.jl:116</a></li> <li> +(a::<b>ChainRulesCore.Tangent</b>, ::<b>ChainRulesCore.NoTangent</b>) in ChainRulesCore at <a href=\"file:///Users/uqjnazar/.julia/packages/ChainRulesCore/GciYT/src/differential_arithmetic.jl\" target=\"_blank\">/Users/uqjnazar/.julia/packages/ChainRulesCore/GciYT/src/differential_arithmetic.jl:76</a></li> <li> +(::<b>ChainRulesCore.Tangent</b>, x::<b>ChainRulesCore.NotImplemented</b>) in ChainRulesCore at <a href=\"file:///Users/uqjnazar/.julia/packages/ChainRulesCore/GciYT/src/differential_arithmetic.jl\" target=\"_blank\">/Users/uqjnazar/.julia/packages/ChainRulesCore/GciYT/src/differential_arithmetic.jl:26</a></li> <li> +(a::<b>ChainRulesCore.Tangent{P, T} where T</b>, b::<b>P</b>)<i> where P</i> in ChainRulesCore at <a href=\"file:///Users/uqjnazar/.julia/packages/ChainRulesCore/GciYT/src/differential_arithmetic.jl\" target=\"_blank\">/Users/uqjnazar/.julia/packages/ChainRulesCore/GciYT/src/differential_arithmetic.jl:162</a></li> <li> +(Da::<b>LinearAlgebra.Diagonal</b>, Db::<b>LinearAlgebra.Diagonal</b>) in LinearAlgebra at <a href=\"file:///Users/julia/buildbot/worker/package_macos64/build/usr/share/julia/stdlib/v1.6/LinearAlgebra/src/diagonal.jl\" target=\"_blank\">/Applications/Julia-1.6.app/Contents/Resources/julia/share/julia/stdlib/v1.6/LinearAlgebra/src/diagonal.jl:156</a></li> <li> +(D::<b>LinearAlgebra.Diagonal</b>, S::<b>LinearAlgebra.Symmetric</b>) in LinearAlgebra at <a href=\"file:///Users/julia/buildbot/worker/package_macos64/build/usr/share/julia/stdlib/v1.6/LinearAlgebra/src/diagonal.jl\" target=\"_blank\">/Applications/Julia-1.6.app/Contents/Resources/julia/share/julia/stdlib/v1.6/LinearAlgebra/src/diagonal.jl:160</a></li> <li> +(D::<b>LinearAlgebra.Diagonal{var\"#s832\", V} where {var\"#s832\"<:Real, V<:AbstractVector{var\"#s832\"}}</b>, H::<b>LinearAlgebra.Hermitian</b>) in LinearAlgebra at <a href=\"file:///Users/julia/buildbot/worker/package_macos64/build/usr/share/julia/stdlib/v1.6/LinearAlgebra/src/diagonal.jl\" target=\"_blank\">/Applications/Julia-1.6.app/Contents/Resources/julia/share/julia/stdlib/v1.6/LinearAlgebra/src/diagonal.jl:166</a></li> <li> +(A::<b>LinearAlgebra.Diagonal</b>, B::<b>LinearAlgebra.Bidiagonal</b>) in LinearAlgebra at <a href=\"file:///Users/julia/buildbot/worker/package_macos64/build/usr/share/julia/stdlib/v1.6/LinearAlgebra/src/special.jl\" target=\"_blank\">/Applications/Julia-1.6.app/Contents/Resources/julia/share/julia/stdlib/v1.6/LinearAlgebra/src/special.jl:125</a></li> <li> +(A::<b>LinearAlgebra.Diagonal</b>, B::<b>LinearAlgebra.SymTridiagonal</b>) in LinearAlgebra at <a href=\"file:///Users/julia/buildbot/worker/package_macos64/build/usr/share/julia/stdlib/v1.6/LinearAlgebra/src/special.jl\" target=\"_blank\">/Applications/Julia-1.6.app/Contents/Resources/julia/share/julia/stdlib/v1.6/LinearAlgebra/src/special.jl:135</a></li> <li> +(A::<b>LinearAlgebra.Diagonal</b>, B::<b>LinearAlgebra.Tridiagonal</b>) in LinearAlgebra at <a href=\"file:///Users/julia/buildbot/worker/package_macos64/build/usr/share/julia/stdlib/v1.6/LinearAlgebra/src/special.jl\" target=\"_blank\">/Applications/Julia-1.6.app/Contents/Resources/julia/share/julia/stdlib/v1.6/LinearAlgebra/src/special.jl:163</a></li> <li> +(A::<b>LinearAlgebra.Diagonal{var\"#s832\", V} where {var\"#s832\"<:Number, V<:AbstractVector{var\"#s832\"}}</b>, B::<b>LinearAlgebra.UniformScaling</b>) in LinearAlgebra at <a href=\"file:///Users/julia/buildbot/worker/package_macos64/build/usr/share/julia/stdlib/v1.6/LinearAlgebra/src/special.jl\" target=\"_blank\">/Applications/Julia-1.6.app/Contents/Resources/julia/share/julia/stdlib/v1.6/LinearAlgebra/src/special.jl:241</a></li> <li> +(a::<b>PDMats.AbstractPDMat</b>, b::<b>LinearAlgebra.UniformScaling</b>) in PDMats at <a href=\"file:///Users/uqjnazar/.julia/packages/PDMats/vgpB7/src/addition.jl\" target=\"_blank\">/Users/uqjnazar/.julia/packages/PDMats/vgpB7/src/addition.jl:42</a></li> <li> +(a::<b>PDMats.AbstractPDMat</b>, b::<b>Matrix{T} where T</b>) in PDMats at <a href=\"file:///Users/uqjnazar/.julia/packages/PDMats/vgpB7/src/generics.jl\" target=\"_blank\">/Users/uqjnazar/.julia/packages/PDMats/vgpB7/src/generics.jl:23</a></li> <li> +(A::<b>LinearAlgebra.UnitUpperTriangular</b>, B::<b>LinearAlgebra.UpperTriangular</b>) in LinearAlgebra at <a href=\"file:///Users/julia/buildbot/worker/package_macos64/build/usr/share/julia/stdlib/v1.6/LinearAlgebra/src/triangular.jl\" target=\"_blank\">/Applications/Julia-1.6.app/Contents/Resources/julia/share/julia/stdlib/v1.6/LinearAlgebra/src/triangular.jl:652</a></li> <li> +(A::<b>LinearAlgebra.UnitUpperTriangular</b>, B::<b>LinearAlgebra.UnitUpperTriangular</b>) in LinearAlgebra at <a href=\"file:///Users/julia/buildbot/worker/package_macos64/build/usr/share/julia/stdlib/v1.6/LinearAlgebra/src/triangular.jl\" target=\"_blank\">/Applications/Julia-1.6.app/Contents/Resources/julia/share/julia/stdlib/v1.6/LinearAlgebra/src/triangular.jl:654</a></li> <li> +(UL::<b>LinearAlgebra.UnitUpperTriangular</b>, J::<b>LinearAlgebra.UniformScaling</b>) in LinearAlgebra at <a href=\"file:///Users/julia/buildbot/worker/package_macos64/build/usr/share/julia/stdlib/v1.6/LinearAlgebra/src/uniformscaling.jl\" target=\"_blank\">/Applications/Julia-1.6.app/Contents/Resources/julia/share/julia/stdlib/v1.6/LinearAlgebra/src/uniformscaling.jl:182</a></li> <li> +(A::<b>LinearAlgebra.UnitUpperTriangular</b>, B::<b>LinearAlgebra.Bidiagonal</b>) in LinearAlgebra at <a href=\"file:///Users/julia/buildbot/worker/package_macos64/build/usr/share/julia/stdlib/v1.6/LinearAlgebra/src/special.jl\" target=\"_blank\">/Applications/Julia-1.6.app/Contents/Resources/julia/share/julia/stdlib/v1.6/LinearAlgebra/src/special.jl:86</a></li> <li> +(y::<b>Dates.TimeType</b>, x::<b>StridedArray{var\"#s832\", N} where {var\"#s832\"<:Union{Dates.CompoundPeriod, Dates.Period}, N}</b>) in Dates at <a href=\"file:///Users/julia/buildbot/worker/package_macos64/build/usr/share/julia/stdlib/v1.6/Dates/src/deprecated.jl\" target=\"_blank\">/Applications/Julia-1.6.app/Contents/Resources/julia/share/julia/stdlib/v1.6/Dates/src/deprecated.jl:18</a></li> <li> +(r1::<b>LinRange{T}</b>, r2::<b>LinRange{T}</b>)<i> where T</i> in Base at <a href=\"https://github.com/JuliaLang/julia/tree/f9720dc2ebd6cd9e3086365f281e62506444ef37/base/range.jl#L1108\" target=\"_blank\">range.jl:1108</a></li> <li> +(A::<b>BitArray</b>, B::<b>BitArray</b>) in Base at <a href=\"https://github.com/JuliaLang/julia/tree/f9720dc2ebd6cd9e3086365f281e62506444ef37/base/bitarray.jl#L1127\" target=\"_blank\">bitarray.jl:1127</a></li> <li> +(r1::<b>OrdinalRange</b>, r2::<b>OrdinalRange</b>) in Base at <a href=\"https://github.com/JuliaLang/julia/tree/f9720dc2ebd6cd9e3086365f281e62506444ef37/base/range.jl#L1101\" target=\"_blank\">range.jl:1101</a></li> <li> +(a::<b>PDMats.PDiagMat</b>, b::<b>PDMats.PDSparseMat</b>) in PDMats at <a href=\"file:///Users/uqjnazar/.julia/packages/PDMats/vgpB7/src/addition.jl\" target=\"_blank\">/Users/uqjnazar/.julia/packages/PDMats/vgpB7/src/addition.jl:22</a></li> <li> +(a::<b>PDMats.PDiagMat</b>, b::<b>PDMats.ScalMat</b>) in PDMats at <a href=\"file:///Users/uqjnazar/.julia/packages/PDMats/vgpB7/src/addition.jl\" target=\"_blank\">/Users/uqjnazar/.julia/packages/PDMats/vgpB7/src/addition.jl:20</a></li> <li> +(a::<b>PDMats.PDiagMat</b>, b::<b>PDMats.PDiagMat</b>) in PDMats at <a href=\"file:///Users/uqjnazar/.julia/packages/PDMats/vgpB7/src/addition.jl\" target=\"_blank\">/Users/uqjnazar/.julia/packages/PDMats/vgpB7/src/addition.jl:19</a></li> <li> +(a::<b>PDMats.PDiagMat</b>, b::<b>PDMats.PDMat</b>) in PDMats at <a href=\"file:///Users/uqjnazar/.julia/packages/PDMats/vgpB7/src/addition.jl\" target=\"_blank\">/Users/uqjnazar/.julia/packages/PDMats/vgpB7/src/addition.jl:18</a></li> <li> +(a::<b>PDMats.PDiagMat</b>, b::<b>PDMats.AbstractPDMat</b>) in PDMats at <a href=\"file:///Users/uqjnazar/.julia/packages/PDMats/vgpB7/src/addition.jl\" target=\"_blank\">/Users/uqjnazar/.julia/packages/PDMats/vgpB7/src/addition.jl:5</a></li> <li> +(A::<b>LinearAlgebra.UnitLowerTriangular</b>, B::<b>LinearAlgebra.LowerTriangular</b>) in LinearAlgebra at <a href=\"file:///Users/julia/buildbot/worker/package_macos64/build/usr/share/julia/stdlib/v1.6/LinearAlgebra/src/triangular.jl\" target=\"_blank\">/Applications/Julia-1.6.app/Contents/Resources/julia/share/julia/stdlib/v1.6/LinearAlgebra/src/triangular.jl:653</a></li> <li> +(A::<b>LinearAlgebra.UnitLowerTriangular</b>, B::<b>LinearAlgebra.UnitLowerTriangular</b>) in LinearAlgebra at <a href=\"file:///Users/julia/buildbot/worker/package_macos64/build/usr/share/julia/stdlib/v1.6/LinearAlgebra/src/triangular.jl\" target=\"_blank\">/Applications/Julia-1.6.app/Contents/Resources/julia/share/julia/stdlib/v1.6/LinearAlgebra/src/triangular.jl:655</a></li> <li> +(UL::<b>LinearAlgebra.UnitLowerTriangular</b>, J::<b>LinearAlgebra.UniformScaling</b>) in LinearAlgebra at <a href=\"file:///Users/julia/buildbot/worker/package_macos64/build/usr/share/julia/stdlib/v1.6/LinearAlgebra/src/uniformscaling.jl\" target=\"_blank\">/Applications/Julia-1.6.app/Contents/Resources/julia/share/julia/stdlib/v1.6/LinearAlgebra/src/uniformscaling.jl:182</a></li> <li> +(A::<b>LinearAlgebra.UnitLowerTriangular</b>, B::<b>LinearAlgebra.Bidiagonal</b>) in LinearAlgebra at <a href=\"file:///Users/julia/buildbot/worker/package_macos64/build/usr/share/julia/stdlib/v1.6/LinearAlgebra/src/special.jl\" target=\"_blank\">/Applications/Julia-1.6.app/Contents/Resources/julia/share/julia/stdlib/v1.6/LinearAlgebra/src/special.jl:86</a></li> <li> +(r::<b>AbstractRange{var\"#s832\"} where var\"#s832\"<:Dates.TimeType</b>, x::<b>Dates.Period</b>) in Dates at <a href=\"file:///Users/julia/buildbot/worker/package_macos64/build/usr/share/julia/stdlib/v1.6/Dates/src/ranges.jl\" target=\"_blank\">/Applications/Julia-1.6.app/Contents/Resources/julia/share/julia/stdlib/v1.6/Dates/src/ranges.jl:63</a></li> <li> +(a::<b>AbstractRange</b>, b::<b>FillArrays.Zeros</b>) in FillArrays at <a href=\"file:///Users/uqjnazar/.julia/packages/FillArrays/5CbY2/src/fillalgebra.jl\" target=\"_blank\">/Users/uqjnazar/.julia/packages/FillArrays/5CbY2/src/fillalgebra.jl:196</a></li> <li> +(a::<b>AbstractRange</b>, b::<b>FillArrays.AbstractFill</b>) in FillArrays at <a href=\"file:///Users/uqjnazar/.julia/packages/FillArrays/5CbY2/src/FillArrays.jl\" target=\"_blank\">/Users/uqjnazar/.julia/packages/FillArrays/5CbY2/src/FillArrays.jl:210</a></li> <li> +(A::<b>LinearAlgebra.Symmetric</b>, B::<b>LinearAlgebra.Symmetric</b>) in LinearAlgebra at <a href=\"file:///Users/julia/buildbot/worker/package_macos64/build/usr/share/julia/stdlib/v1.6/LinearAlgebra/src/symmetric.jl\" target=\"_blank\">/Applications/Julia-1.6.app/Contents/Resources/julia/share/julia/stdlib/v1.6/LinearAlgebra/src/symmetric.jl:469</a></li> <li> +(S::<b>LinearAlgebra.Symmetric</b>, D::<b>LinearAlgebra.Diagonal</b>) in LinearAlgebra at <a href=\"file:///Users/julia/buildbot/worker/package_macos64/build/usr/share/julia/stdlib/v1.6/LinearAlgebra/src/diagonal.jl\" target=\"_blank\">/Applications/Julia-1.6.app/Contents/Resources/julia/share/julia/stdlib/v1.6/LinearAlgebra/src/diagonal.jl:163</a></li> <li> +(A::<b>LinearAlgebra.Symmetric{var\"#s830\", var\"#s829\"} where {var\"#s830\", var\"#s829\"<:(SparseArrays.AbstractSparseMatrix{Tv, Ti} where {Tv, Ti})}</b>, B::<b>SparseArrays.AbstractSparseMatrix{Tv, Ti} where {Tv, Ti}</b>) in SparseArrays at <a href=\"file:///Users/julia/buildbot/worker/package_macos64/build/usr/share/julia/stdlib/v1.6/SparseArrays/src/linalg.jl\" target=\"_blank\">/Applications/Julia-1.6.app/Contents/Resources/julia/share/julia/stdlib/v1.6/SparseArrays/src/linalg.jl:15</a></li> <li> +(A::<b>LinearAlgebra.Symmetric</b>, B::<b>SparseArrays.AbstractSparseMatrix{Tv, Ti} where {Tv, Ti}</b>) in SparseArrays at <a href=\"file:///Users/julia/buildbot/worker/package_macos64/build/usr/share/julia/stdlib/v1.6/SparseArrays/src/linalg.jl\" target=\"_blank\">/Applications/Julia-1.6.app/Contents/Resources/julia/share/julia/stdlib/v1.6/SparseArrays/src/linalg.jl:18</a></li> <li> +(A::<b>LinearAlgebra.Symmetric{var\"#s824\", var\"#s823\"} where {var\"#s824\"<:Real, var\"#s823\"<:(SparseArrays.AbstractSparseMatrix{Tv, Ti} where {Tv, Ti})}</b>, B::<b>LinearAlgebra.Hermitian{var\"#s822\", var\"#s821\"} where {var\"#s822\", var\"#s821\"<:(SparseArrays.AbstractSparseMatrix{Tv, Ti} where {Tv, Ti})}</b>) in SparseArrays at <a href=\"file:///Users/julia/buildbot/worker/package_macos64/build/usr/share/julia/stdlib/v1.6/SparseArrays/src/linalg.jl\" target=\"_blank\">/Applications/Julia-1.6.app/Contents/Resources/julia/share/julia/stdlib/v1.6/SparseArrays/src/linalg.jl:25</a></li> <li> +(A::<b>LinearAlgebra.Symmetric{var\"#s831\", S} where {var\"#s831\"<:Real, S<:(AbstractMatrix{var\"#s832\"} where var\"#s832\"<:var\"#s831\")}</b>, B::<b>LinearAlgebra.Hermitian</b>) in LinearAlgebra at <a href=\"file:///Users/julia/buildbot/worker/package_macos64/build/usr/share/julia/stdlib/v1.6/LinearAlgebra/src/symmetric.jl\" target=\"_blank\">/Applications/Julia-1.6.app/Contents/Resources/julia/share/julia/stdlib/v1.6/LinearAlgebra/src/symmetric.jl:484</a></li> <li> +(A::<b>LinearAlgebra.Symmetric{var\"#s832\", var\"#s831\"} where {var\"#s832\", var\"#s831\"<:(SparseArrays.AbstractSparseMatrix{Tv, Ti} where {Tv, Ti})}</b>, B::<b>LinearAlgebra.Hermitian{var\"#s830\", var\"#s829\"} where {var\"#s830\", var\"#s829\"<:(SparseArrays.AbstractSparseMatrix{Tv, Ti} where {Tv, Ti})}</b>) in SparseArrays at <a href=\"file:///Users/julia/buildbot/worker/package_macos64/build/usr/share/julia/stdlib/v1.6/SparseArrays/src/linalg.jl\" target=\"_blank\">/Applications/Julia-1.6.app/Contents/Resources/julia/share/julia/stdlib/v1.6/SparseArrays/src/linalg.jl:23</a></li> <li> +(x::<b>AbstractIrrational</b>, y::<b>AbstractIrrational</b>) in Base at <a href=\"https://github.com/JuliaLang/julia/tree/f9720dc2ebd6cd9e3086365f281e62506444ef37/base/irrationals.jl#L156\" target=\"_blank\">irrationals.jl:156</a></li> <li> +(A::<b>LinearAlgebra.LowerTriangular</b>, B::<b>LinearAlgebra.LowerTriangular</b>) in LinearAlgebra at <a href=\"file:///Users/julia/buildbot/worker/package_macos64/build/usr/share/julia/stdlib/v1.6/LinearAlgebra/src/triangular.jl\" target=\"_blank\">/Applications/Julia-1.6.app/Contents/Resources/julia/share/julia/stdlib/v1.6/LinearAlgebra/src/triangular.jl:649</a></li> <li> +(A::<b>LinearAlgebra.LowerTriangular</b>, B::<b>LinearAlgebra.UnitLowerTriangular</b>) in LinearAlgebra at <a href=\"file:///Users/julia/buildbot/worker/package_macos64/build/usr/share/julia/stdlib/v1.6/LinearAlgebra/src/triangular.jl\" target=\"_blank\">/Applications/Julia-1.6.app/Contents/Resources/julia/share/julia/stdlib/v1.6/LinearAlgebra/src/triangular.jl:651</a></li> <li> +(A::<b>LinearAlgebra.LowerTriangular</b>, B::<b>LinearAlgebra.Bidiagonal</b>) in LinearAlgebra at <a href=\"file:///Users/julia/buildbot/worker/package_macos64/build/usr/share/julia/stdlib/v1.6/LinearAlgebra/src/special.jl\" target=\"_blank\">/Applications/Julia-1.6.app/Contents/Resources/julia/share/julia/stdlib/v1.6/LinearAlgebra/src/special.jl:86</a></li> <li> +(x::<b>Rational</b>, y::<b>Integer</b>) in Base at <a href=\"https://github.com/JuliaLang/julia/tree/f9720dc2ebd6cd9e3086365f281e62506444ef37/base/rational.jl#L288\" target=\"_blank\">rational.jl:288</a></li> <li> +(z::<b>Complex</b>, w::<b>Complex</b>) in Base at <a href=\"https://github.com/JuliaLang/julia/tree/f9720dc2ebd6cd9e3086365f281e62506444ef37/base/complex.jl#L275\" target=\"_blank\">complex.jl:275</a></li> <li> +(A::<b>LinearAlgebra.Bidiagonal</b>, B::<b>LinearAlgebra.Bidiagonal</b>) in LinearAlgebra at <a href=\"file:///Users/julia/buildbot/worker/package_macos64/build/usr/share/julia/stdlib/v1.6/LinearAlgebra/src/bidiag.jl\" target=\"_blank\">/Applications/Julia-1.6.app/Contents/Resources/julia/share/julia/stdlib/v1.6/LinearAlgebra/src/bidiag.jl:354</a></li> <li> +(A::<b>LinearAlgebra.Bidiagonal</b>, B::<b>LinearAlgebra.UpperTriangular</b>) in LinearAlgebra at <a href=\"file:///Users/julia/buildbot/worker/package_macos64/build/usr/share/julia/stdlib/v1.6/LinearAlgebra/src/special.jl\" target=\"_blank\">/Applications/Julia-1.6.app/Contents/Resources/julia/share/julia/stdlib/v1.6/LinearAlgebra/src/special.jl:94</a></li> <li> +(A::<b>LinearAlgebra.Bidiagonal</b>, B::<b>LinearAlgebra.UnitUpperTriangular</b>) in LinearAlgebra at <a href=\"file:///Users/julia/buildbot/worker/package_macos64/build/usr/share/julia/stdlib/v1.6/LinearAlgebra/src/special.jl\" target=\"_blank\">/Applications/Julia-1.6.app/Contents/Resources/julia/share/julia/stdlib/v1.6/LinearAlgebra/src/special.jl:94</a></li> <li> +(A::<b>LinearAlgebra.Bidiagonal</b>, B::<b>LinearAlgebra.LowerTriangular</b>) in LinearAlgebra at <a href=\"file:///Users/julia/buildbot/worker/package_macos64/build/usr/share/julia/stdlib/v1.6/LinearAlgebra/src/special.jl\" target=\"_blank\">/Applications/Julia-1.6.app/Contents/Resources/julia/share/julia/stdlib/v1.6/LinearAlgebra/src/special.jl:94</a></li> <li> +(A::<b>LinearAlgebra.Bidiagonal</b>, B::<b>LinearAlgebra.UnitLowerTriangular</b>) in LinearAlgebra at <a href=\"file:///Users/julia/buildbot/worker/package_macos64/build/usr/share/julia/stdlib/v1.6/LinearAlgebra/src/special.jl\" target=\"_blank\">/Applications/Julia-1.6.app/Contents/Resources/julia/share/julia/stdlib/v1.6/LinearAlgebra/src/special.jl:94</a></li> <li> +(A::<b>LinearAlgebra.Bidiagonal</b>, B::<b>LinearAlgebra.Diagonal</b>) in LinearAlgebra at <a href=\"file:///Users/julia/buildbot/worker/package_macos64/build/usr/share/julia/stdlib/v1.6/LinearAlgebra/src/special.jl\" target=\"_blank\">/Applications/Julia-1.6.app/Contents/Resources/julia/share/julia/stdlib/v1.6/LinearAlgebra/src/special.jl:115</a></li> <li> +(A::<b>LinearAlgebra.Bidiagonal</b>, B::<b>LinearAlgebra.Tridiagonal</b>) in LinearAlgebra at <a href=\"file:///Users/julia/buildbot/worker/package_macos64/build/usr/share/julia/stdlib/v1.6/LinearAlgebra/src/special.jl\" target=\"_blank\">/Applications/Julia-1.6.app/Contents/Resources/julia/share/julia/stdlib/v1.6/LinearAlgebra/src/special.jl:183</a></li> <li> +(A::<b>LinearAlgebra.Bidiagonal</b>, B::<b>LinearAlgebra.SymTridiagonal</b>) in LinearAlgebra at <a href=\"file:///Users/julia/buildbot/worker/package_macos64/build/usr/share/julia/stdlib/v1.6/LinearAlgebra/src/special.jl\" target=\"_blank\">/Applications/Julia-1.6.app/Contents/Resources/julia/share/julia/stdlib/v1.6/LinearAlgebra/src/special.jl:203</a></li> <li> +(A::<b>LinearAlgebra.Bidiagonal{var\"#s832\", V} where {var\"#s832\"<:Number, V<:AbstractVector{var\"#s832\"}}</b>, B::<b>LinearAlgebra.UniformScaling</b>) in LinearAlgebra at <a href=\"file:///Users/julia/buildbot/worker/package_macos64/build/usr/share/julia/stdlib/v1.6/LinearAlgebra/src/special.jl\" target=\"_blank\">/Applications/Julia-1.6.app/Contents/Resources/julia/share/julia/stdlib/v1.6/LinearAlgebra/src/special.jl:236</a></li> <li> +(d::<b>UnivariateDistribution{S} where S<:ValueSupport</b>, x::<b>Real</b>) in Distributions at <a href=\"file:///Users/uqjnazar/.julia/packages/Distributions/fXTVC/src/univariate/locationscale.jl\" target=\"_blank\">/Users/uqjnazar/.julia/packages/Distributions/fXTVC/src/univariate/locationscale.jl:124</a></li> <li> +(a::<b>FillArrays.Zeros{T, 1, Axes} where Axes</b>, b::<b>UnitRange</b>)<i> where T</i> in FillArrays at <a href=\"file:///Users/uqjnazar/.julia/packages/FillArrays/5CbY2/src/fillalgebra.jl\" target=\"_blank\">/Users/uqjnazar/.julia/packages/FillArrays/5CbY2/src/fillalgebra.jl:203</a></li> <li> +(a::<b>FillArrays.Zeros{T, 1, Axes} where Axes</b>, b::<b>AbstractRange</b>)<i> where T</i> in FillArrays at <a href=\"file:///Users/uqjnazar/.julia/packages/FillArrays/5CbY2/src/fillalgebra.jl\" target=\"_blank\">/Users/uqjnazar/.julia/packages/FillArrays/5CbY2/src/fillalgebra.jl:198</a></li> <li> +(a::<b>FillArrays.Zeros</b>) in FillArrays at <a href=\"file:///Users/uqjnazar/.julia/packages/FillArrays/5CbY2/src/fillalgebra.jl\" target=\"_blank\">/Users/uqjnazar/.julia/packages/FillArrays/5CbY2/src/fillalgebra.jl:159</a></li> <li> +(a::<b>FillArrays.Zeros{T, N, Axes} where {N, Axes}</b>, b::<b>FillArrays.Zeros{V, N, Axes} where {N, Axes}</b>)<i> where {T, V}</i> in FillArrays at <a href=\"file:///Users/uqjnazar/.julia/packages/FillArrays/5CbY2/src/fillalgebra.jl\" target=\"_blank\">/Users/uqjnazar/.julia/packages/FillArrays/5CbY2/src/fillalgebra.jl:163</a></li> <li> +(a::<b>FillArrays.Zeros</b>, b::<b>FillArrays.AbstractFill</b>) in FillArrays at <a href=\"file:///Users/uqjnazar/.julia/packages/FillArrays/5CbY2/src/fillalgebra.jl\" target=\"_blank\">/Users/uqjnazar/.julia/packages/FillArrays/5CbY2/src/fillalgebra.jl:175</a></li> <li> +(a::<b>FillArrays.Zeros{T, N, Axes} where Axes</b>, b::<b>AbstractArray{V, N}</b>)<i> where {T, V, N}</i> in FillArrays at <a href=\"file:///Users/uqjnazar/.julia/packages/FillArrays/5CbY2/src/fillalgebra.jl\" target=\"_blank\">/Users/uqjnazar/.julia/packages/FillArrays/5CbY2/src/fillalgebra.jl:180</a></li> <li> +(A::<b>LinearAlgebra.UpperHessenberg</b>, B::<b>LinearAlgebra.UpperHessenberg</b>) in LinearAlgebra at <a href=\"file:///Users/julia/buildbot/worker/package_macos64/build/usr/share/julia/stdlib/v1.6/LinearAlgebra/src/hessenberg.jl\" target=\"_blank\">/Applications/Julia-1.6.app/Contents/Resources/julia/share/julia/stdlib/v1.6/LinearAlgebra/src/hessenberg.jl:101</a></li> <li> +(H::<b>LinearAlgebra.UpperHessenberg</b>, J::<b>LinearAlgebra.UniformScaling</b>) in LinearAlgebra at <a href=\"file:///Users/julia/buildbot/worker/package_macos64/build/usr/share/julia/stdlib/v1.6/LinearAlgebra/src/hessenberg.jl\" target=\"_blank\">/Applications/Julia-1.6.app/Contents/Resources/julia/share/julia/stdlib/v1.6/LinearAlgebra/src/hessenberg.jl:106</a></li> <li> +(x::<b>P</b>, y::<b>P</b>)<i> where P<:Dates.Period</i> in Dates at <a href=\"file:///Users/julia/buildbot/worker/package_macos64/build/usr/share/julia/stdlib/v1.6/Dates/src/periods.jl\" target=\"_blank\">/Applications/Julia-1.6.app/Contents/Resources/julia/share/julia/stdlib/v1.6/Dates/src/periods.jl:79</a></li> <li> +(x::<b>Dates.Period</b>, y::<b>Dates.Period</b>) in Dates at <a href=\"file:///Users/julia/buildbot/worker/package_macos64/build/usr/share/julia/stdlib/v1.6/Dates/src/periods.jl\" target=\"_blank\">/Applications/Julia-1.6.app/Contents/Resources/julia/share/julia/stdlib/v1.6/Dates/src/periods.jl:351</a></li> <li> +(y::<b>Dates.Period</b>, x::<b>Dates.CompoundPeriod</b>) in Dates at <a href=\"file:///Users/julia/buildbot/worker/package_macos64/build/usr/share/julia/stdlib/v1.6/Dates/src/periods.jl\" target=\"_blank\">/Applications/Julia-1.6.app/Contents/Resources/julia/share/julia/stdlib/v1.6/Dates/src/periods.jl:353</a></li> <li> +(y::<b>Dates.Period</b>, x::<b>Dates.TimeType</b>) in Dates at <a href=\"file:///Users/julia/buildbot/worker/package_macos64/build/usr/share/julia/stdlib/v1.6/Dates/src/arithmetic.jl\" target=\"_blank\">/Applications/Julia-1.6.app/Contents/Resources/julia/share/julia/stdlib/v1.6/Dates/src/arithmetic.jl:85</a></li> <li> +(x::<b>Dates.Period</b>, r::<b>AbstractRange{var\"#s832\"} where var\"#s832\"<:Dates.TimeType</b>) in Dates at <a href=\"file:///Users/julia/buildbot/worker/package_macos64/build/usr/share/julia/stdlib/v1.6/Dates/src/ranges.jl\" target=\"_blank\">/Applications/Julia-1.6.app/Contents/Resources/julia/share/julia/stdlib/v1.6/Dates/src/ranges.jl:62</a></li> <li> +(y::<b>Union{Dates.CompoundPeriod, Dates.Period}</b>, x::<b>AbstractArray{var\"#s832\", N} where {var\"#s832\"<:Dates.TimeType, N}</b>) in Dates at <a href=\"file:///Users/julia/buildbot/worker/package_macos64/build/usr/share/julia/stdlib/v1.6/Dates/src/deprecated.jl\" target=\"_blank\">/Applications/Julia-1.6.app/Contents/Resources/julia/share/julia/stdlib/v1.6/Dates/src/deprecated.jl:14</a></li> <li> +(a::<b>PDMats.ScalMat</b>, b::<b>PDMats.PDSparseMat</b>) in PDMats at <a href=\"file:///Users/uqjnazar/.julia/packages/PDMats/vgpB7/src/addition.jl\" target=\"_blank\">/Users/uqjnazar/.julia/packages/PDMats/vgpB7/src/addition.jl:29</a></li> <li> +(a::<b>PDMats.ScalMat</b>, b::<b>PDMats.ScalMat</b>) in PDMats at <a href=\"file:///Users/uqjnazar/.julia/packages/PDMats/vgpB7/src/addition.jl\" target=\"_blank\">/Users/uqjnazar/.julia/packages/PDMats/vgpB7/src/addition.jl:27</a></li> <li> +(a::<b>PDMats.ScalMat</b>, b::<b>PDMats.PDiagMat</b>) in PDMats at <a href=\"file:///Users/uqjnazar/.julia/packages/PDMats/vgpB7/src/addition.jl\" target=\"_blank\">/Users/uqjnazar/.julia/packages/PDMats/vgpB7/src/addition.jl:26</a></li> <li> +(a::<b>PDMats.ScalMat</b>, b::<b>PDMats.PDMat</b>) in PDMats at <a href=\"file:///Users/uqjnazar/.julia/packages/PDMats/vgpB7/src/addition.jl\" target=\"_blank\">/Users/uqjnazar/.julia/packages/PDMats/vgpB7/src/addition.jl:25</a></li> <li> +(a::<b>PDMats.ScalMat</b>, b::<b>PDMats.AbstractPDMat</b>) in PDMats at <a href=\"file:///Users/uqjnazar/.julia/packages/PDMats/vgpB7/src/addition.jl\" target=\"_blank\">/Users/uqjnazar/.julia/packages/PDMats/vgpB7/src/addition.jl:6</a></li> <li> +(A::<b>Array</b>, Bs::<b>Array...</b>) in Base at <a href=\"https://github.com/JuliaLang/julia/tree/f9720dc2ebd6cd9e3086365f281e62506444ef37/base/arraymath.jl#L43\" target=\"_blank\">arraymath.jl:43</a></li> <li> +(X::<b>StridedArray{var\"#s832\", N} where {var\"#s832\"<:Union{Dates.CompoundPeriod, Dates.Period}, N}</b>, Y::<b>StridedArray{var\"#s831\", N} where {var\"#s831\"<:Union{Dates.CompoundPeriod, Dates.Period}, N}</b>) in Dates at <a href=\"file:///Users/julia/buildbot/worker/package_macos64/build/usr/share/julia/stdlib/v1.6/Dates/src/deprecated.jl\" target=\"_blank\">/Applications/Julia-1.6.app/Contents/Resources/julia/share/julia/stdlib/v1.6/Dates/src/deprecated.jl:62</a></li> <li> +(A::<b>Array</b>, B::<b>SparseArrays.AbstractSparseMatrixCSC</b>) in SparseArrays at <a href=\"file:///Users/julia/buildbot/worker/package_macos64/build/usr/share/julia/stdlib/v1.6/SparseArrays/src/sparsematrix.jl\" target=\"_blank\">/Applications/Julia-1.6.app/Contents/Resources/julia/share/julia/stdlib/v1.6/SparseArrays/src/sparsematrix.jl:1745</a></li> <li> +(a::<b>Matrix{T} where T</b>, b::<b>PDMats.AbstractPDMat</b>) in PDMats at <a href=\"file:///Users/uqjnazar/.julia/packages/PDMats/vgpB7/src/generics.jl\" target=\"_blank\">/Users/uqjnazar/.julia/packages/PDMats/vgpB7/src/generics.jl:22</a></li> <li> +(a::<b>Array{T, N}</b>, b::<b>FillArrays.Zeros{V, N, Axes} where Axes</b>)<i> where {T, V, N}</i> in FillArrays at <a href=\"file:///Users/uqjnazar/.julia/packages/FillArrays/5CbY2/src/fillalgebra.jl\" target=\"_blank\">/Users/uqjnazar/.julia/packages/FillArrays/5CbY2/src/fillalgebra.jl:184</a></li> <li> +(x::<b>StridedArray{var\"#s832\", N} where {var\"#s832\"<:Union{Dates.CompoundPeriod, Dates.Period}, N}</b>) in Dates at <a href=\"file:///Users/julia/buildbot/worker/package_macos64/build/usr/share/julia/stdlib/v1.6/Dates/src/deprecated.jl\" target=\"_blank\">/Applications/Julia-1.6.app/Contents/Resources/julia/share/julia/stdlib/v1.6/Dates/src/deprecated.jl:55</a></li> <li> +(x::<b>StridedArray{var\"#s832\", N} where {var\"#s832\"<:Union{Dates.CompoundPeriod, Dates.Period}, N}</b>, y::<b>Dates.TimeType</b>) in Dates at <a href=\"file:///Users/julia/buildbot/worker/package_macos64/build/usr/share/julia/stdlib/v1.6/Dates/src/deprecated.jl\" target=\"_blank\">/Applications/Julia-1.6.app/Contents/Resources/julia/share/julia/stdlib/v1.6/Dates/src/deprecated.jl:10</a></li> <li> +(x::<b>Base.TwicePrecision</b>, y::<b>Number</b>) in Base at <a href=\"https://github.com/JuliaLang/julia/tree/f9720dc2ebd6cd9e3086365f281e62506444ef37/base/twiceprecision.jl#L267\" target=\"_blank\">twiceprecision.jl:267</a></li> <li> +(x::<b>Base.TwicePrecision{T}</b>, y::<b>Base.TwicePrecision{T}</b>)<i> where T</i> in Base at <a href=\"https://github.com/JuliaLang/julia/tree/f9720dc2ebd6cd9e3086365f281e62506444ef37/base/twiceprecision.jl#L273\" target=\"_blank\">twiceprecision.jl:273</a></li> <li> +(x::<b>Base.TwicePrecision</b>, y::<b>Base.TwicePrecision</b>) in Base at <a href=\"https://github.com/JuliaLang/julia/tree/f9720dc2ebd6cd9e3086365f281e62506444ef37/base/twiceprecision.jl#L278\" target=\"_blank\">twiceprecision.jl:278</a></li> <li> +(a::<b>PDMats.PDMat</b>, b::<b>PDMats.PDSparseMat</b>) in PDMats at <a href=\"file:///Users/uqjnazar/.julia/packages/PDMats/vgpB7/src/addition.jl\" target=\"_blank\">/Users/uqjnazar/.julia/packages/PDMats/vgpB7/src/addition.jl:15</a></li> <li> +(a::<b>PDMats.PDMat</b>, b::<b>PDMats.ScalMat</b>) in PDMats at <a href=\"file:///Users/uqjnazar/.julia/packages/PDMats/vgpB7/src/addition.jl\" target=\"_blank\">/Users/uqjnazar/.julia/packages/PDMats/vgpB7/src/addition.jl:13</a></li> <li> +(a::<b>PDMats.PDMat</b>, b::<b>PDMats.PDiagMat</b>) in PDMats at <a href=\"file:///Users/uqjnazar/.julia/packages/PDMats/vgpB7/src/addition.jl\" target=\"_blank\">/Users/uqjnazar/.julia/packages/PDMats/vgpB7/src/addition.jl:12</a></li> <li> +(a::<b>PDMats.PDMat</b>, b::<b>PDMats.PDMat</b>) in PDMats at <a href=\"file:///Users/uqjnazar/.julia/packages/PDMats/vgpB7/src/addition.jl\" target=\"_blank\">/Users/uqjnazar/.julia/packages/PDMats/vgpB7/src/addition.jl:11</a></li> <li> +(a::<b>PDMats.PDMat</b>, b::<b>PDMats.AbstractPDMat</b>) in PDMats at <a href=\"file:///Users/uqjnazar/.julia/packages/PDMats/vgpB7/src/addition.jl\" target=\"_blank\">/Users/uqjnazar/.julia/packages/PDMats/vgpB7/src/addition.jl:4</a></li> <li> +(a::<b>Dict</b>, d::<b>ChainRulesCore.Tangent{P, T} where T</b>)<i> where P</i> in ChainRulesCore at <a href=\"file:///Users/uqjnazar/.julia/packages/ChainRulesCore/GciYT/src/differential_arithmetic.jl\" target=\"_blank\">/Users/uqjnazar/.julia/packages/ChainRulesCore/GciYT/src/differential_arithmetic.jl:161</a></li> <li> +(a::<b>ChainRulesCore.AbstractThunk</b>, b::<b>ChainRulesCore.Tangent</b>) in ChainRulesCore at <a href=\"file:///Users/uqjnazar/.julia/packages/ChainRulesCore/GciYT/src/differential_arithmetic.jl\" target=\"_blank\">/Users/uqjnazar/.julia/packages/ChainRulesCore/GciYT/src/differential_arithmetic.jl:138</a></li> <li> +(a::<b>ChainRulesCore.AbstractThunk</b>, b::<b>ChainRulesCore.AbstractThunk</b>) in ChainRulesCore at <a href=\"file:///Users/uqjnazar/.julia/packages/ChainRulesCore/GciYT/src/differential_arithmetic.jl\" target=\"_blank\">/Users/uqjnazar/.julia/packages/ChainRulesCore/GciYT/src/differential_arithmetic.jl:135</a></li> <li> +(a::<b>ChainRulesCore.AbstractThunk</b>, ::<b>ChainRulesCore.ZeroTangent</b>) in ChainRulesCore at <a href=\"file:///Users/uqjnazar/.julia/packages/ChainRulesCore/GciYT/src/differential_arithmetic.jl\" target=\"_blank\">/Users/uqjnazar/.julia/packages/ChainRulesCore/GciYT/src/differential_arithmetic.jl:116</a></li> <li> +(a::<b>ChainRulesCore.AbstractThunk</b>, ::<b>ChainRulesCore.NoTangent</b>) in ChainRulesCore at <a href=\"file:///Users/uqjnazar/.julia/packages/ChainRulesCore/GciYT/src/differential_arithmetic.jl\" target=\"_blank\">/Users/uqjnazar/.julia/packages/ChainRulesCore/GciYT/src/differential_arithmetic.jl:76</a></li> <li> +(::<b>ChainRulesCore.AbstractThunk</b>, x::<b>ChainRulesCore.NotImplemented</b>) in ChainRulesCore at <a href=\"file:///Users/uqjnazar/.julia/packages/ChainRulesCore/GciYT/src/differential_arithmetic.jl\" target=\"_blank\">/Users/uqjnazar/.julia/packages/ChainRulesCore/GciYT/src/differential_arithmetic.jl:26</a></li> <li> +(a::<b>ChainRulesCore.AbstractThunk</b>, b) in ChainRulesCore at <a href=\"file:///Users/uqjnazar/.julia/packages/ChainRulesCore/GciYT/src/differential_arithmetic.jl\" target=\"_blank\">/Users/uqjnazar/.julia/packages/ChainRulesCore/GciYT/src/differential_arithmetic.jl:138</a></li> <li> +(A::<b>LinearAlgebra.Hermitian</b>, B::<b>LinearAlgebra.Hermitian</b>) in LinearAlgebra at <a href=\"file:///Users/julia/buildbot/worker/package_macos64/build/usr/share/julia/stdlib/v1.6/LinearAlgebra/src/symmetric.jl\" target=\"_blank\">/Applications/Julia-1.6.app/Contents/Resources/julia/share/julia/stdlib/v1.6/LinearAlgebra/src/symmetric.jl:469</a></li> <li> +(H::<b>LinearAlgebra.Hermitian</b>, D::<b>LinearAlgebra.Diagonal{var\"#s832\", V} where {var\"#s832\"<:Real, V<:AbstractVector{var\"#s832\"}}</b>) in LinearAlgebra at <a href=\"file:///Users/julia/buildbot/worker/package_macos64/build/usr/share/julia/stdlib/v1.6/LinearAlgebra/src/diagonal.jl\" target=\"_blank\">/Applications/Julia-1.6.app/Contents/Resources/julia/share/julia/stdlib/v1.6/LinearAlgebra/src/diagonal.jl:169</a></li> <li> +(A::<b>LinearAlgebra.Hermitian</b>, J::<b>LinearAlgebra.UniformScaling{var\"#s832\"} where var\"#s832\"<:Complex</b>) in LinearAlgebra at <a href=\"file:///Users/julia/buildbot/worker/package_macos64/build/usr/share/julia/stdlib/v1.6/LinearAlgebra/src/uniformscaling.jl\" target=\"_blank\">/Applications/Julia-1.6.app/Contents/Resources/julia/share/julia/stdlib/v1.6/LinearAlgebra/src/uniformscaling.jl:196</a></li> <li> +(A::<b>LinearAlgebra.Hermitian{var\"#s830\", var\"#s829\"} where {var\"#s830\", var\"#s829\"<:(SparseArrays.AbstractSparseMatrix{Tv, Ti} where {Tv, Ti})}</b>, B::<b>SparseArrays.AbstractSparseMatrix{Tv, Ti} where {Tv, Ti}</b>) in SparseArrays at <a href=\"file:///Users/julia/buildbot/worker/package_macos64/build/usr/share/julia/stdlib/v1.6/SparseArrays/src/linalg.jl\" target=\"_blank\">/Applications/Julia-1.6.app/Contents/Resources/julia/share/julia/stdlib/v1.6/SparseArrays/src/linalg.jl:15</a></li> <li> +(A::<b>LinearAlgebra.Hermitian</b>, B::<b>SparseArrays.AbstractSparseMatrix{Tv, Ti} where {Tv, Ti}</b>) in SparseArrays at <a href=\"file:///Users/julia/buildbot/worker/package_macos64/build/usr/share/julia/stdlib/v1.6/SparseArrays/src/linalg.jl\" target=\"_blank\">/Applications/Julia-1.6.app/Contents/Resources/julia/share/julia/stdlib/v1.6/SparseArrays/src/linalg.jl:18</a></li> <li> +(A::<b>LinearAlgebra.Hermitian{var\"#s820\", var\"#s819\"} where {var\"#s820\", var\"#s819\"<:(SparseArrays.AbstractSparseMatrix{Tv, Ti} where {Tv, Ti})}</b>, B::<b>LinearAlgebra.Symmetric{var\"#s818\", var\"#s817\"} where {var\"#s818\"<:Real, var\"#s817\"<:(SparseArrays.AbstractSparseMatrix{Tv, Ti} where {Tv, Ti})}</b>) in SparseArrays at <a href=\"file:///Users/julia/buildbot/worker/package_macos64/build/usr/share/julia/stdlib/v1.6/SparseArrays/src/linalg.jl\" target=\"_blank\">/Applications/Julia-1.6.app/Contents/Resources/julia/share/julia/stdlib/v1.6/SparseArrays/src/linalg.jl:26</a></li> <li> +(A::<b>LinearAlgebra.Hermitian</b>, B::<b>LinearAlgebra.Symmetric{var\"#s832\", S} where {var\"#s832\"<:Real, S<:(AbstractMatrix{var\"#s832\"} where var\"#s832\"<:var\"#s832\")}</b>) in LinearAlgebra at <a href=\"file:///Users/julia/buildbot/worker/package_macos64/build/usr/share/julia/stdlib/v1.6/LinearAlgebra/src/symmetric.jl\" target=\"_blank\">/Applications/Julia-1.6.app/Contents/Resources/julia/share/julia/stdlib/v1.6/LinearAlgebra/src/symmetric.jl:483</a></li> <li> +(A::<b>LinearAlgebra.Hermitian{var\"#s828\", var\"#s827\"} where {var\"#s828\", var\"#s827\"<:(SparseArrays.AbstractSparseMatrix{Tv, Ti} where {Tv, Ti})}</b>, B::<b>LinearAlgebra.Symmetric{var\"#s826\", var\"#s825\"} where {var\"#s826\", var\"#s825\"<:(SparseArrays.AbstractSparseMatrix{Tv, Ti} where {Tv, Ti})}</b>) in SparseArrays at <a href=\"file:///Users/julia/buildbot/worker/package_macos64/build/usr/share/julia/stdlib/v1.6/SparseArrays/src/linalg.jl\" target=\"_blank\">/Applications/Julia-1.6.app/Contents/Resources/julia/share/julia/stdlib/v1.6/SparseArrays/src/linalg.jl:24</a></li> <li> +(A::<b>LinearAlgebra.UpperTriangular</b>, B::<b>LinearAlgebra.UpperTriangular</b>) in LinearAlgebra at <a href=\"file:///Users/julia/buildbot/worker/package_macos64/build/usr/share/julia/stdlib/v1.6/LinearAlgebra/src/triangular.jl\" target=\"_blank\">/Applications/Julia-1.6.app/Contents/Resources/julia/share/julia/stdlib/v1.6/LinearAlgebra/src/triangular.jl:648</a></li> <li> +(A::<b>LinearAlgebra.UpperTriangular</b>, B::<b>LinearAlgebra.UnitUpperTriangular</b>) in LinearAlgebra at <a href=\"file:///Users/julia/buildbot/worker/package_macos64/build/usr/share/julia/stdlib/v1.6/LinearAlgebra/src/triangular.jl\" target=\"_blank\">/Applications/Julia-1.6.app/Contents/Resources/julia/share/julia/stdlib/v1.6/LinearAlgebra/src/triangular.jl:650</a></li> <li> +(A::<b>LinearAlgebra.AbstractTriangular</b>, B::<b>LinearAlgebra.AbstractTriangular</b>) in LinearAlgebra at <a href=\"file:///Users/julia/buildbot/worker/package_macos64/build/usr/share/julia/stdlib/v1.6/LinearAlgebra/src/triangular.jl\" target=\"_blank\">/Applications/Julia-1.6.app/Contents/Resources/julia/share/julia/stdlib/v1.6/LinearAlgebra/src/triangular.jl:656</a></li> <li> +(A::<b>LinearAlgebra.UpperTriangular</b>, B::<b>LinearAlgebra.Bidiagonal</b>) in LinearAlgebra at <a href=\"file:///Users/julia/buildbot/worker/package_macos64/build/usr/share/julia/stdlib/v1.6/LinearAlgebra/src/special.jl\" target=\"_blank\">/Applications/Julia-1.6.app/Contents/Resources/julia/share/julia/stdlib/v1.6/LinearAlgebra/src/special.jl:86</a></li> <li> +(J::<b>LinearAlgebra.UniformScaling</b>) in LinearAlgebra at <a href=\"file:///Users/julia/buildbot/worker/package_macos64/build/usr/share/julia/stdlib/v1.6/LinearAlgebra/src/uniformscaling.jl\" target=\"_blank\">/Applications/Julia-1.6.app/Contents/Resources/julia/share/julia/stdlib/v1.6/LinearAlgebra/src/uniformscaling.jl:150</a></li> <li> +(J::<b>LinearAlgebra.UniformScaling</b>, x::<b>Number</b>) in LinearAlgebra at <a href=\"file:///Users/julia/buildbot/worker/package_macos64/build/usr/share/julia/stdlib/v1.6/LinearAlgebra/src/uniformscaling.jl\" target=\"_blank\">/Applications/Julia-1.6.app/Contents/Resources/julia/share/julia/stdlib/v1.6/LinearAlgebra/src/uniformscaling.jl:145</a></li> <li> +(J1::<b>LinearAlgebra.UniformScaling</b>, J2::<b>LinearAlgebra.UniformScaling</b>) in LinearAlgebra at <a href=\"file:///Users/julia/buildbot/worker/package_macos64/build/usr/share/julia/stdlib/v1.6/LinearAlgebra/src/uniformscaling.jl\" target=\"_blank\">/Applications/Julia-1.6.app/Contents/Resources/julia/share/julia/stdlib/v1.6/LinearAlgebra/src/uniformscaling.jl:151</a></li> <li> +(J::<b>LinearAlgebra.UniformScaling</b>, B::<b>BitMatrix</b>) in LinearAlgebra at <a href=\"file:///Users/julia/buildbot/worker/package_macos64/build/usr/share/julia/stdlib/v1.6/LinearAlgebra/src/uniformscaling.jl\" target=\"_blank\">/Applications/Julia-1.6.app/Contents/Resources/julia/share/julia/stdlib/v1.6/LinearAlgebra/src/uniformscaling.jl:153</a></li> <li> +(J::<b>LinearAlgebra.UniformScaling</b>, F::<b>LinearAlgebra.Hessenberg</b>) in LinearAlgebra at <a href=\"file:///Users/julia/buildbot/worker/package_macos64/build/usr/share/julia/stdlib/v1.6/LinearAlgebra/src/hessenberg.jl\" target=\"_blank\">/Applications/Julia-1.6.app/Contents/Resources/julia/share/julia/stdlib/v1.6/LinearAlgebra/src/hessenberg.jl:560</a></li> <li> +(A::<b>LinearAlgebra.UniformScaling</b>, B::<b>LinearAlgebra.Tridiagonal{var\"#s832\", V} where {var\"#s832\"<:Number, V<:AbstractVector{var\"#s832\"}}</b>) in LinearAlgebra at <a href=\"file:///Users/julia/buildbot/worker/package_macos64/build/usr/share/julia/stdlib/v1.6/LinearAlgebra/src/special.jl\" target=\"_blank\">/Applications/Julia-1.6.app/Contents/Resources/julia/share/julia/stdlib/v1.6/LinearAlgebra/src/special.jl:245</a></li> <li> +(A::<b>LinearAlgebra.UniformScaling</b>, B::<b>LinearAlgebra.SymTridiagonal{var\"#s832\", V} where {var\"#s832\"<:Number, V<:AbstractVector{var\"#s832\"}}</b>) in LinearAlgebra at <a href=\"file:///Users/julia/buildbot/worker/package_macos64/build/usr/share/julia/stdlib/v1.6/LinearAlgebra/src/special.jl\" target=\"_blank\">/Applications/Julia-1.6.app/Contents/Resources/julia/share/julia/stdlib/v1.6/LinearAlgebra/src/special.jl:250</a></li> <li> +(A::<b>LinearAlgebra.UniformScaling</b>, B::<b>LinearAlgebra.Bidiagonal{var\"#s832\", V} where {var\"#s832\"<:Number, V<:AbstractVector{var\"#s832\"}}</b>) in LinearAlgebra at <a href=\"file:///Users/julia/buildbot/worker/package_macos64/build/usr/share/julia/stdlib/v1.6/LinearAlgebra/src/special.jl\" target=\"_blank\">/Applications/Julia-1.6.app/Contents/Resources/julia/share/julia/stdlib/v1.6/LinearAlgebra/src/special.jl:255</a></li> <li> +(A::<b>LinearAlgebra.UniformScaling</b>, B::<b>LinearAlgebra.Diagonal{var\"#s832\", V} where {var\"#s832\"<:Number, V<:AbstractVector{var\"#s832\"}}</b>) in LinearAlgebra at <a href=\"file:///Users/julia/buildbot/worker/package_macos64/build/usr/share/julia/stdlib/v1.6/LinearAlgebra/src/special.jl\" target=\"_blank\">/Applications/Julia-1.6.app/Contents/Resources/julia/share/julia/stdlib/v1.6/LinearAlgebra/src/special.jl:260</a></li> <li> +(a::<b>LinearAlgebra.UniformScaling</b>, b::<b>PDMats.AbstractPDMat</b>) in PDMats at <a href=\"file:///Users/uqjnazar/.julia/packages/PDMats/vgpB7/src/addition.jl\" target=\"_blank\">/Users/uqjnazar/.julia/packages/PDMats/vgpB7/src/addition.jl:43</a></li> <li> +(J::<b>LinearAlgebra.UniformScaling</b>, A::<b>AbstractMatrix{T} where T</b>) in LinearAlgebra at <a href=\"file:///Users/julia/buildbot/worker/package_macos64/build/usr/share/julia/stdlib/v1.6/LinearAlgebra/src/uniformscaling.jl\" target=\"_blank\">/Applications/Julia-1.6.app/Contents/Resources/julia/share/julia/stdlib/v1.6/LinearAlgebra/src/uniformscaling.jl:154</a></li> <li> +(x::<b>Ptr</b>, y::<b>Integer</b>) in Base at <a href=\"https://github.com/JuliaLang/julia/tree/f9720dc2ebd6cd9e3086365f281e62506444ef37/base/pointer.jl#L159\" target=\"_blank\">pointer.jl:159</a></li> <li> +(a::<b>FillArrays.Fill{T, 1, Axes} where Axes</b>, b::<b>UnitRange</b>)<i> where T</i> in FillArrays at <a href=\"file:///Users/uqjnazar/.julia/packages/FillArrays/5CbY2/src/FillArrays.jl\" target=\"_blank\">/Users/uqjnazar/.julia/packages/FillArrays/5CbY2/src/FillArrays.jl:205</a></li> <li> +(a::<b>FillArrays.Fill{T, 1, Axes} where Axes</b>, b::<b>AbstractRange</b>)<i> where T</i> in FillArrays at <a href=\"file:///Users/uqjnazar/.julia/packages/FillArrays/5CbY2/src/FillArrays.jl\" target=\"_blank\">/Users/uqjnazar/.julia/packages/FillArrays/5CbY2/src/FillArrays.jl:200</a></li> <li> +(a::<b>FillArrays.AbstractFill</b>) in FillArrays at <a href=\"file:///Users/uqjnazar/.julia/packages/FillArrays/5CbY2/src/FillArrays.jl\" target=\"_blank\">/Users/uqjnazar/.julia/packages/FillArrays/5CbY2/src/FillArrays.jl:190</a></li> <li> +(a::<b>FillArrays.AbstractFill{T, N, Axes} where {N, Axes}</b>, b::<b>FillArrays.Zeros{V, N, Axes} where {N, Axes}</b>)<i> where {T, V}</i> in FillArrays at <a href=\"file:///Users/uqjnazar/.julia/packages/FillArrays/5CbY2/src/fillalgebra.jl\" target=\"_blank\">/Users/uqjnazar/.julia/packages/FillArrays/5CbY2/src/fillalgebra.jl:171</a></li> <li> +(a::<b>FillArrays.AbstractFill{T, N, Axes} where Axes</b>, b::<b>FillArrays.AbstractFill{V, N, Axes} where Axes</b>)<i> where {T, V, N}</i> in FillArrays at <a href=\"file:///Users/uqjnazar/.julia/packages/FillArrays/5CbY2/src/FillArrays.jl\" target=\"_blank\">/Users/uqjnazar/.julia/packages/FillArrays/5CbY2/src/FillArrays.jl:194</a></li> <li> +(F::<b>LinearAlgebra.Hessenberg</b>, J::<b>LinearAlgebra.UniformScaling</b>) in LinearAlgebra at <a href=\"file:///Users/julia/buildbot/worker/package_macos64/build/usr/share/julia/stdlib/v1.6/LinearAlgebra/src/hessenberg.jl\" target=\"_blank\">/Applications/Julia-1.6.app/Contents/Resources/julia/share/julia/stdlib/v1.6/LinearAlgebra/src/hessenberg.jl:559</a></li> <li> +(y::<b>AbstractFloat</b>, x::<b>Bool</b>) in Base at <a href=\"https://github.com/JuliaLang/julia/tree/f9720dc2ebd6cd9e3086365f281e62506444ef37/base/bool.jl#L102\" target=\"_blank\">bool.jl:102</a></li> <li> +(r1::<b>StepRangeLen{T, R, S} where S</b>, r2::<b>StepRangeLen{T, R, S} where S</b>)<i> where {R<:Base.TwicePrecision, T}</i> in Base at <a href=\"https://github.com/JuliaLang/julia/tree/f9720dc2ebd6cd9e3086365f281e62506444ef37/base/twiceprecision.jl#L574\" target=\"_blank\">twiceprecision.jl:574</a></li> <li> +(r1::<b>StepRangeLen{T, S, S1} where S1</b>, r2::<b>StepRangeLen{T, S, S1} where S1</b>)<i> where {T, S}</i> in Base at <a href=\"https://github.com/JuliaLang/julia/tree/f9720dc2ebd6cd9e3086365f281e62506444ef37/base/range.jl#L1124\" target=\"_blank\">range.jl:1124</a></li> <li> +(r1::<b>Union{LinRange, OrdinalRange, StepRangeLen}</b>, r2::<b>Union{LinRange, OrdinalRange, StepRangeLen}</b>) in Base at <a href=\"https://github.com/JuliaLang/julia/tree/f9720dc2ebd6cd9e3086365f281e62506444ef37/base/range.jl#L1117\" target=\"_blank\">range.jl:1117</a></li> <li> +(index1::<b>CartesianIndex{N}</b>, index2::<b>CartesianIndex{N}</b>)<i> where N</i> in Base.IteratorsMD at <a href=\"https://github.com/JuliaLang/julia/tree/f9720dc2ebd6cd9e3086365f281e62506444ef37/base/multidimensional.jl#L114\" target=\"_blank\">multidimensional.jl:114</a></li> <li> +(x::<b>Dates.Instant</b>) in Dates at <a href=\"file:///Users/julia/buildbot/worker/package_macos64/build/usr/share/julia/stdlib/v1.6/Dates/src/arithmetic.jl\" target=\"_blank\">/Applications/Julia-1.6.app/Contents/Resources/julia/share/julia/stdlib/v1.6/Dates/src/arithmetic.jl:4</a></li> <li> +(A::<b>LinearAlgebra.Tridiagonal</b>, B::<b>LinearAlgebra.Tridiagonal</b>) in LinearAlgebra at <a href=\"file:///Users/julia/buildbot/worker/package_macos64/build/usr/share/julia/stdlib/v1.6/LinearAlgebra/src/tridiag.jl\" target=\"_blank\">/Applications/Julia-1.6.app/Contents/Resources/julia/share/julia/stdlib/v1.6/LinearAlgebra/src/tridiag.jl:733</a></li> <li> +(A::<b>LinearAlgebra.Tridiagonal</b>, B::<b>LinearAlgebra.SymTridiagonal</b>) in LinearAlgebra at <a href=\"file:///Users/julia/buildbot/worker/package_macos64/build/usr/share/julia/stdlib/v1.6/LinearAlgebra/src/special.jl\" target=\"_blank\">/Applications/Julia-1.6.app/Contents/Resources/julia/share/julia/stdlib/v1.6/LinearAlgebra/src/special.jl:157</a></li> <li> +(A::<b>LinearAlgebra.Tridiagonal</b>, B::<b>LinearAlgebra.Diagonal</b>) in LinearAlgebra at <a href=\"file:///Users/julia/buildbot/worker/package_macos64/build/usr/share/julia/stdlib/v1.6/LinearAlgebra/src/special.jl\" target=\"_blank\">/Applications/Julia-1.6.app/Contents/Resources/julia/share/julia/stdlib/v1.6/LinearAlgebra/src/special.jl:173</a></li> <li> +(A::<b>LinearAlgebra.Tridiagonal</b>, B::<b>LinearAlgebra.Bidiagonal</b>) in LinearAlgebra at <a href=\"file:///Users/julia/buildbot/worker/package_macos64/build/usr/share/julia/stdlib/v1.6/LinearAlgebra/src/special.jl\" target=\"_blank\">/Applications/Julia-1.6.app/Contents/Resources/julia/share/julia/stdlib/v1.6/LinearAlgebra/src/special.jl:193</a></li> <li> +(A::<b>LinearAlgebra.Tridiagonal{var\"#s832\", V} where {var\"#s832\"<:Number, V<:AbstractVector{var\"#s832\"}}</b>, B::<b>LinearAlgebra.UniformScaling</b>) in LinearAlgebra at <a href=\"file:///Users/julia/buildbot/worker/package_macos64/build/usr/share/julia/stdlib/v1.6/LinearAlgebra/src/special.jl\" target=\"_blank\">/Applications/Julia-1.6.app/Contents/Resources/julia/share/julia/stdlib/v1.6/LinearAlgebra/src/special.jl:226</a></li> <li> +(x::<b>T</b>, y::<b>Integer</b>)<i> where T<:AbstractChar</i> in Base at <a href=\"https://github.com/JuliaLang/julia/tree/f9720dc2ebd6cd9e3086365f281e62506444ef37/base/char.jl#L223\" target=\"_blank\">char.jl:223</a></li> <li> +(A::<b>SparseArrays.AbstractSparseMatrix{Tv, Ti} where {Tv, Ti}</b>, B::<b>LinearAlgebra.Hermitian{var\"#s832\", var\"#s831\"} where {var\"#s832\", var\"#s831\"<:(SparseArrays.AbstractSparseMatrix{Tv, Ti} where {Tv, Ti})}</b>) in SparseArrays at <a href=\"file:///Users/julia/buildbot/worker/package_macos64/build/usr/share/julia/stdlib/v1.6/SparseArrays/src/linalg.jl\" target=\"_blank\">/Applications/Julia-1.6.app/Contents/Resources/julia/share/julia/stdlib/v1.6/SparseArrays/src/linalg.jl:14</a></li> <li> +(A::<b>SparseArrays.AbstractSparseMatrix{Tv, Ti} where {Tv, Ti}</b>, B::<b>LinearAlgebra.Hermitian</b>) in SparseArrays at <a href=\"file:///Users/julia/buildbot/worker/package_macos64/build/usr/share/julia/stdlib/v1.6/SparseArrays/src/linalg.jl\" target=\"_blank\">/Applications/Julia-1.6.app/Contents/Resources/julia/share/julia/stdlib/v1.6/SparseArrays/src/linalg.jl:17</a></li> <li> +(A::<b>SparseArrays.AbstractSparseMatrix{Tv, Ti} where {Tv, Ti}</b>, B::<b>LinearAlgebra.Symmetric{var\"#s832\", var\"#s831\"} where {var\"#s832\", var\"#s831\"<:(SparseArrays.AbstractSparseMatrix{Tv, Ti} where {Tv, Ti})}</b>) in SparseArrays at <a href=\"file:///Users/julia/buildbot/worker/package_macos64/build/usr/share/julia/stdlib/v1.6/SparseArrays/src/linalg.jl\" target=\"_blank\">/Applications/Julia-1.6.app/Contents/Resources/julia/share/julia/stdlib/v1.6/SparseArrays/src/linalg.jl:14</a></li> <li> +(A::<b>SparseArrays.AbstractSparseMatrix{Tv, Ti} where {Tv, Ti}</b>, B::<b>LinearAlgebra.Symmetric</b>) in SparseArrays at <a href=\"file:///Users/julia/buildbot/worker/package_macos64/build/usr/share/julia/stdlib/v1.6/SparseArrays/src/linalg.jl\" target=\"_blank\">/Applications/Julia-1.6.app/Contents/Resources/julia/share/julia/stdlib/v1.6/SparseArrays/src/linalg.jl:17</a></li> <li> +(x::<b>Dates.AbstractTime</b>, y::<b>Missing</b>) in Dates at <a href=\"file:///Users/julia/buildbot/worker/package_macos64/build/usr/share/julia/stdlib/v1.6/Dates/src/arithmetic.jl\" target=\"_blank\">/Applications/Julia-1.6.app/Contents/Resources/julia/share/julia/stdlib/v1.6/Dates/src/arithmetic.jl:88</a></li> <li> +(a::<b>PDMats.PDSparseMat</b>, b::<b>PDMats.PDSparseMat</b>) in PDMats at <a href=\"file:///Users/uqjnazar/.julia/packages/PDMats/vgpB7/src/addition.jl\" target=\"_blank\">/Users/uqjnazar/.julia/packages/PDMats/vgpB7/src/addition.jl:36</a></li> <li> +(a::<b>PDMats.PDSparseMat</b>, b::<b>PDMats.ScalMat</b>) in PDMats at <a href=\"file:///Users/uqjnazar/.julia/packages/PDMats/vgpB7/src/addition.jl\" target=\"_blank\">/Users/uqjnazar/.julia/packages/PDMats/vgpB7/src/addition.jl:35</a></li> <li> +(a::<b>PDMats.PDSparseMat</b>, b::<b>PDMats.PDiagMat</b>) in PDMats at <a href=\"file:///Users/uqjnazar/.julia/packages/PDMats/vgpB7/src/addition.jl\" target=\"_blank\">/Users/uqjnazar/.julia/packages/PDMats/vgpB7/src/addition.jl:34</a></li> <li> +(a::<b>PDMats.PDSparseMat</b>, b::<b>PDMats.PDMat</b>) in PDMats at <a href=\"file:///Users/uqjnazar/.julia/packages/PDMats/vgpB7/src/addition.jl\" target=\"_blank\">/Users/uqjnazar/.julia/packages/PDMats/vgpB7/src/addition.jl:33</a></li> <li> +(a::<b>PDMats.PDSparseMat</b>, b::<b>PDMats.AbstractPDMat</b>) in PDMats at <a href=\"file:///Users/uqjnazar/.julia/packages/PDMats/vgpB7/src/addition.jl\" target=\"_blank\">/Users/uqjnazar/.julia/packages/PDMats/vgpB7/src/addition.jl:8</a></li> <li> +(x::<b>AbstractArray{var\"#s832\", N} where {var\"#s832\"<:Dates.TimeType, N}</b>, y::<b>Union{Dates.CompoundPeriod, Dates.Period}</b>) in Dates at <a href=\"file:///Users/julia/buildbot/worker/package_macos64/build/usr/share/julia/stdlib/v1.6/Dates/src/deprecated.jl\" target=\"_blank\">/Applications/Julia-1.6.app/Contents/Resources/julia/share/julia/stdlib/v1.6/Dates/src/deprecated.jl:6</a></li> <li> +(c::<b>AbstractVector{T} where T</b>, d::<b>MvNormal</b>) in Distributions at <a href=\"file:///Users/uqjnazar/.julia/packages/Distributions/fXTVC/src/multivariate/mvnormal.jl\" target=\"_blank\">/Users/uqjnazar/.julia/packages/Distributions/fXTVC/src/multivariate/mvnormal.jl:273</a></li> <li> +(A::<b>SparseArrays.AbstractSparseMatrixCSC</b>, B::<b>SparseArrays.AbstractSparseMatrixCSC</b>) in SparseArrays at <a href=\"file:///Users/julia/buildbot/worker/package_macos64/build/usr/share/julia/stdlib/v1.6/SparseArrays/src/sparsematrix.jl\" target=\"_blank\">/Applications/Julia-1.6.app/Contents/Resources/julia/share/julia/stdlib/v1.6/SparseArrays/src/sparsematrix.jl:1741</a></li> <li> +(x::<b>SparseArrays.AbstractSparseVector{Tv, Ti} where {Tv, Ti}</b>, y::<b>SparseArrays.AbstractSparseVector{Tv, Ti} where {Tv, Ti}</b>) in SparseArrays at <a href=\"file:///Users/julia/buildbot/worker/package_macos64/build/usr/share/julia/stdlib/v1.6/SparseArrays/src/sparsevector.jl\" target=\"_blank\">/Applications/Julia-1.6.app/Contents/Resources/julia/share/julia/stdlib/v1.6/SparseArrays/src/sparsevector.jl:1345</a></li> <li> +(A::<b>SparseArrays.AbstractSparseMatrixCSC</b>, B::<b>Array</b>) in SparseArrays at <a href=\"file:///Users/julia/buildbot/worker/package_macos64/build/usr/share/julia/stdlib/v1.6/SparseArrays/src/sparsematrix.jl\" target=\"_blank\">/Applications/Julia-1.6.app/Contents/Resources/julia/share/julia/stdlib/v1.6/SparseArrays/src/sparsematrix.jl:1744</a></li> <li> +(A::<b>SparseArrays.AbstractSparseMatrixCSC</b>, J::<b>LinearAlgebra.UniformScaling</b>) in SparseArrays at <a href=\"file:///Users/julia/buildbot/worker/package_macos64/build/usr/share/julia/stdlib/v1.6/SparseArrays/src/sparsematrix.jl\" target=\"_blank\">/Applications/Julia-1.6.app/Contents/Resources/julia/share/julia/stdlib/v1.6/SparseArrays/src/sparsematrix.jl:3797</a></li> <li> +(A::<b>LinearAlgebra.SymTridiagonal</b>, B::<b>LinearAlgebra.SymTridiagonal</b>) in LinearAlgebra at <a href=\"file:///Users/julia/buildbot/worker/package_macos64/build/usr/share/julia/stdlib/v1.6/LinearAlgebra/src/tridiag.jl\" target=\"_blank\">/Applications/Julia-1.6.app/Contents/Resources/julia/share/julia/stdlib/v1.6/LinearAlgebra/src/tridiag.jl:205</a></li> <li> +(A::<b>LinearAlgebra.SymTridiagonal</b>, B::<b>LinearAlgebra.Diagonal</b>) in LinearAlgebra at <a href=\"file:///Users/julia/buildbot/worker/package_macos64/build/usr/share/julia/stdlib/v1.6/LinearAlgebra/src/special.jl\" target=\"_blank\">/Applications/Julia-1.6.app/Contents/Resources/julia/share/julia/stdlib/v1.6/LinearAlgebra/src/special.jl:145</a></li> <li> +(A::<b>LinearAlgebra.SymTridiagonal</b>, B::<b>LinearAlgebra.Tridiagonal</b>) in LinearAlgebra at <a href=\"file:///Users/julia/buildbot/worker/package_macos64/build/usr/share/julia/stdlib/v1.6/LinearAlgebra/src/special.jl\" target=\"_blank\">/Applications/Julia-1.6.app/Contents/Resources/julia/share/julia/stdlib/v1.6/LinearAlgebra/src/special.jl:159</a></li> <li> +(A::<b>LinearAlgebra.SymTridiagonal</b>, B::<b>LinearAlgebra.Bidiagonal</b>) in LinearAlgebra at <a href=\"file:///Users/julia/buildbot/worker/package_macos64/build/usr/share/julia/stdlib/v1.6/LinearAlgebra/src/special.jl\" target=\"_blank\">/Applications/Julia-1.6.app/Contents/Resources/julia/share/julia/stdlib/v1.6/LinearAlgebra/src/special.jl:213</a></li> <li> +(A::<b>AbstractArray</b>, B::<b>AbstractArray</b>) in Base at <a href=\"https://github.com/JuliaLang/julia/tree/f9720dc2ebd6cd9e3086365f281e62506444ef37/base/arraymath.jl#L37\" target=\"_blank\">arraymath.jl:37</a></li> <li> +(A::<b>LinearAlgebra.SymTridiagonal{var\"#s832\", V} where {var\"#s832\"<:Number, V<:AbstractVector{var\"#s832\"}}</b>, B::<b>LinearAlgebra.UniformScaling</b>) in LinearAlgebra at <a href=\"file:///Users/julia/buildbot/worker/package_macos64/build/usr/share/julia/stdlib/v1.6/LinearAlgebra/src/special.jl\" target=\"_blank\">/Applications/Julia-1.6.app/Contents/Resources/julia/share/julia/stdlib/v1.6/LinearAlgebra/src/special.jl:231</a></li> <li> +(p::<b>SpecialFunctions.SimplePoly{S}</b>, q::<b>SpecialFunctions.SimplePoly{T}</b>)<i> where {S, T}</i> in SpecialFunctions at <a href=\"file:///Users/uqjnazar/.julia/packages/SpecialFunctions/Bm58S/src/expint.jl\" target=\"_blank\">/Users/uqjnazar/.julia/packages/SpecialFunctions/Bm58S/src/expint.jl:11</a></li> <li> +(::<b>Missing</b>) in Base at <a href=\"https://github.com/JuliaLang/julia/tree/f9720dc2ebd6cd9e3086365f281e62506444ef37/base/missing.jl#L101\" target=\"_blank\">missing.jl:101</a></li> <li> +(::<b>Missing</b>, ::<b>Missing</b>) in Base at <a href=\"https://github.com/JuliaLang/julia/tree/f9720dc2ebd6cd9e3086365f281e62506444ef37/base/missing.jl#L115\" target=\"_blank\">missing.jl:115</a></li> <li> +(::<b>Missing</b>, ::<b>Number</b>) in Base at <a href=\"https://github.com/JuliaLang/julia/tree/f9720dc2ebd6cd9e3086365f281e62506444ef37/base/missing.jl#L116\" target=\"_blank\">missing.jl:116</a></li> <li> +(x::<b>Missing</b>, y::<b>Dates.AbstractTime</b>) in Dates at <a href=\"file:///Users/julia/buildbot/worker/package_macos64/build/usr/share/julia/stdlib/v1.6/Dates/src/arithmetic.jl\" target=\"_blank\">/Applications/Julia-1.6.app/Contents/Resources/julia/share/julia/stdlib/v1.6/Dates/src/arithmetic.jl:89</a></li> <li> +(x::<b>BigFloat</b>, y::<b>BigFloat</b>) in Base.MPFR at <a href=\"https://github.com/JuliaLang/julia/tree/f9720dc2ebd6cd9e3086365f281e62506444ef37/base/mpfr.jl#L364\" target=\"_blank\">mpfr.jl:364</a></li> <li> +(x::<b>BigFloat</b>, c::<b>Union{UInt16, UInt32, UInt64, UInt8}</b>) in Base.MPFR at <a href=\"https://github.com/JuliaLang/julia/tree/f9720dc2ebd6cd9e3086365f281e62506444ef37/base/mpfr.jl#L371\" target=\"_blank\">mpfr.jl:371</a></li> <li> +(x::<b>BigFloat</b>, c::<b>Union{Int16, Int32, Int64, Int8}</b>) in Base.MPFR at <a href=\"https://github.com/JuliaLang/julia/tree/f9720dc2ebd6cd9e3086365f281e62506444ef37/base/mpfr.jl#L379\" target=\"_blank\">mpfr.jl:379</a></li> <li> +(x::<b>BigFloat</b>, c::<b>Union{Float16, Float32, Float64}</b>) in Base.MPFR at <a href=\"https://github.com/JuliaLang/julia/tree/f9720dc2ebd6cd9e3086365f281e62506444ef37/base/mpfr.jl#L387\" target=\"_blank\">mpfr.jl:387</a></li> <li> +(x::<b>BigFloat</b>, c::<b>BigInt</b>) in Base.MPFR at <a href=\"https://github.com/JuliaLang/julia/tree/f9720dc2ebd6cd9e3086365f281e62506444ef37/base/mpfr.jl#L395\" target=\"_blank\">mpfr.jl:395</a></li> <li> +(a::<b>BigFloat</b>, b::<b>BigFloat</b>, c::<b>BigFloat</b>) in Base.MPFR at <a href=\"https://github.com/JuliaLang/julia/tree/f9720dc2ebd6cd9e3086365f281e62506444ef37/base/mpfr.jl#L536\" target=\"_blank\">mpfr.jl:536</a></li> <li> +(a::<b>BigFloat</b>, b::<b>BigFloat</b>, c::<b>BigFloat</b>, d::<b>BigFloat</b>) in Base.MPFR at <a href=\"https://github.com/JuliaLang/julia/tree/f9720dc2ebd6cd9e3086365f281e62506444ef37/base/mpfr.jl#L542\" target=\"_blank\">mpfr.jl:542</a></li> <li> +(a::<b>BigFloat</b>, b::<b>BigFloat</b>, c::<b>BigFloat</b>, d::<b>BigFloat</b>, e::<b>BigFloat</b>) in Base.MPFR at <a href=\"https://github.com/JuliaLang/julia/tree/f9720dc2ebd6cd9e3086365f281e62506444ef37/base/mpfr.jl#L549\" target=\"_blank\">mpfr.jl:549</a></li> <li> +(x::<b>BigInt</b>, y::<b>BigInt</b>) in Base.GMP at <a href=\"https://github.com/JuliaLang/julia/tree/f9720dc2ebd6cd9e3086365f281e62506444ef37/base/gmp.jl#L479\" target=\"_blank\">gmp.jl:479</a></li> <li> +(a::<b>BigInt</b>, b::<b>BigInt</b>, c::<b>BigInt</b>) in Base.GMP at <a href=\"https://github.com/JuliaLang/julia/tree/f9720dc2ebd6cd9e3086365f281e62506444ef37/base/gmp.jl#L519\" target=\"_blank\">gmp.jl:519</a></li> <li> +(a::<b>BigInt</b>, b::<b>BigInt</b>, c::<b>BigInt</b>, d::<b>BigInt</b>) in Base.GMP at <a href=\"https://github.com/JuliaLang/julia/tree/f9720dc2ebd6cd9e3086365f281e62506444ef37/base/gmp.jl#L520\" target=\"_blank\">gmp.jl:520</a></li> <li> +(a::<b>BigInt</b>, b::<b>BigInt</b>, c::<b>BigInt</b>, d::<b>BigInt</b>, e::<b>BigInt</b>) in Base.GMP at <a href=\"https://github.com/JuliaLang/julia/tree/f9720dc2ebd6cd9e3086365f281e62506444ef37/base/gmp.jl#L521\" target=\"_blank\">gmp.jl:521</a></li> <li> +(x::<b>BigInt</b>, c::<b>Union{UInt16, UInt32, UInt64, UInt8}</b>) in Base.GMP at <a href=\"https://github.com/JuliaLang/julia/tree/f9720dc2ebd6cd9e3086365f281e62506444ef37/base/gmp.jl#L527\" target=\"_blank\">gmp.jl:527</a></li> <li> +(x::<b>BigInt</b>, c::<b>Union{Int16, Int32, Int64, Int8}</b>) in Base.GMP at <a href=\"https://github.com/JuliaLang/julia/tree/f9720dc2ebd6cd9e3086365f281e62506444ef37/base/gmp.jl#L533\" target=\"_blank\">gmp.jl:533</a></li> <li> +(c::<b>BigInt</b>, x::<b>BigFloat</b>) in Base.MPFR at <a href=\"https://github.com/JuliaLang/julia/tree/f9720dc2ebd6cd9e3086365f281e62506444ef37/base/mpfr.jl#L400\" target=\"_blank\">mpfr.jl:400</a></li> <li> +(z::<b>Complex{Bool}</b>, x::<b>Bool</b>) in Base at <a href=\"https://github.com/JuliaLang/julia/tree/f9720dc2ebd6cd9e3086365f281e62506444ef37/base/complex.jl#L287\" target=\"_blank\">complex.jl:287</a></li> <li> +(z::<b>Complex</b>, x::<b>Bool</b>) in Base at <a href=\"https://github.com/JuliaLang/julia/tree/f9720dc2ebd6cd9e3086365f281e62506444ef37/base/complex.jl#L294\" target=\"_blank\">complex.jl:294</a></li> <li> +(z::<b>Complex{Bool}</b>, x::<b>Real</b>) in Base at <a href=\"https://github.com/JuliaLang/julia/tree/f9720dc2ebd6cd9e3086365f281e62506444ef37/base/complex.jl#L301\" target=\"_blank\">complex.jl:301</a></li> <li> +(z::<b>Complex</b>) in Base at <a href=\"https://github.com/JuliaLang/julia/tree/f9720dc2ebd6cd9e3086365f281e62506444ef37/base/complex.jl#L273\" target=\"_blank\">complex.jl:273</a></li> <li> +(z::<b>Complex</b>, x::<b>Real</b>) in Base at <a href=\"https://github.com/JuliaLang/julia/tree/f9720dc2ebd6cd9e3086365f281e62506444ef37/base/complex.jl#L313\" target=\"_blank\">complex.jl:313</a></li> <li> +(x::<b>Float32</b>, y::<b>Float32</b>) in Base at <a href=\"https://github.com/JuliaLang/julia/tree/f9720dc2ebd6cd9e3086365f281e62506444ef37/base/float.jl#L325\" target=\"_blank\">float.jl:325</a></li> <li> +(a::<b>Pkg.Resolve.VersionWeight</b>, b::<b>Pkg.Resolve.VersionWeight</b>) in Pkg.Resolve at <a href=\"file:///Users/julia/buildbot/worker/package_macos64/build/usr/share/julia/stdlib/v1.6/Pkg/src/Resolve/versionweights.jl\" target=\"_blank\">/Applications/Julia-1.6.app/Contents/Resources/julia/share/julia/stdlib/v1.6/Pkg/src/Resolve/versionweights.jl:22</a></li> <li> +(level::<b>Base.CoreLogging.LogLevel</b>, inc::<b>Integer</b>) in Base.CoreLogging at <a href=\"https://github.com/JuliaLang/julia/tree/f9720dc2ebd6cd9e3086365f281e62506444ef37/base/logging.jl#L131\" target=\"_blank\">logging.jl:131</a></li> <li> +(::<b>ChainRulesCore.ZeroTangent</b>, b::<b>ChainRulesCore.Tangent</b>) in ChainRulesCore at <a href=\"file:///Users/uqjnazar/.julia/packages/ChainRulesCore/GciYT/src/differential_arithmetic.jl\" target=\"_blank\">/Users/uqjnazar/.julia/packages/ChainRulesCore/GciYT/src/differential_arithmetic.jl:115</a></li> <li> +(::<b>ChainRulesCore.ZeroTangent</b>, b::<b>ChainRulesCore.AbstractThunk</b>) in ChainRulesCore at <a href=\"file:///Users/uqjnazar/.julia/packages/ChainRulesCore/GciYT/src/differential_arithmetic.jl\" target=\"_blank\">/Users/uqjnazar/.julia/packages/ChainRulesCore/GciYT/src/differential_arithmetic.jl:115</a></li> <li> +(::<b>ChainRulesCore.ZeroTangent</b>, ::<b>ChainRulesCore.ZeroTangent</b>) in ChainRulesCore at <a href=\"file:///Users/uqjnazar/.julia/packages/ChainRulesCore/GciYT/src/differential_arithmetic.jl\" target=\"_blank\">/Users/uqjnazar/.julia/packages/ChainRulesCore/GciYT/src/differential_arithmetic.jl:109</a></li> <li> +(::<b>ChainRulesCore.ZeroTangent</b>, ::<b>ChainRulesCore.NoTangent</b>) in ChainRulesCore at <a href=\"file:///Users/uqjnazar/.julia/packages/ChainRulesCore/GciYT/src/differential_arithmetic.jl\" target=\"_blank\">/Users/uqjnazar/.julia/packages/ChainRulesCore/GciYT/src/differential_arithmetic.jl:90</a></li> <li> +(::<b>ChainRulesCore.ZeroTangent</b>, x::<b>ChainRulesCore.NotImplemented</b>) in ChainRulesCore at <a href=\"file:///Users/uqjnazar/.julia/packages/ChainRulesCore/GciYT/src/differential_arithmetic.jl\" target=\"_blank\">/Users/uqjnazar/.julia/packages/ChainRulesCore/GciYT/src/differential_arithmetic.jl:20</a></li> <li> +(::<b>ChainRulesCore.ZeroTangent</b>, b) in ChainRulesCore at <a href=\"file:///Users/uqjnazar/.julia/packages/ChainRulesCore/GciYT/src/differential_arithmetic.jl\" target=\"_blank\">/Users/uqjnazar/.julia/packages/ChainRulesCore/GciYT/src/differential_arithmetic.jl:115</a></li> <li> +(x::<b>Dates.CompoundPeriod</b>, y::<b>Dates.Period</b>) in Dates at <a href=\"file:///Users/julia/buildbot/worker/package_macos64/build/usr/share/julia/stdlib/v1.6/Dates/src/periods.jl\" target=\"_blank\">/Applications/Julia-1.6.app/Contents/Resources/julia/share/julia/stdlib/v1.6/Dates/src/periods.jl:352</a></li> <li> +(x::<b>Dates.CompoundPeriod</b>, y::<b>Dates.CompoundPeriod</b>) in Dates at <a href=\"file:///Users/julia/buildbot/worker/package_macos64/build/usr/share/julia/stdlib/v1.6/Dates/src/periods.jl\" target=\"_blank\">/Applications/Julia-1.6.app/Contents/Resources/julia/share/julia/stdlib/v1.6/Dates/src/periods.jl:354</a></li> <li> +(x::<b>Dates.CompoundPeriod</b>, y::<b>Dates.TimeType</b>) in Dates at <a href=\"file:///Users/julia/buildbot/worker/package_macos64/build/usr/share/julia/stdlib/v1.6/Dates/src/periods.jl\" target=\"_blank\">/Applications/Julia-1.6.app/Contents/Resources/julia/share/julia/stdlib/v1.6/Dates/src/periods.jl:382</a></li> <li> +(x::<b>Float64</b>, y::<b>Float64</b>) in Base at <a href=\"https://github.com/JuliaLang/julia/tree/f9720dc2ebd6cd9e3086365f281e62506444ef37/base/float.jl#L326\" target=\"_blank\">float.jl:326</a></li> <li> +(dt::<b>Dates.Date</b>, t::<b>Dates.Time</b>) in Dates at <a href=\"file:///Users/julia/buildbot/worker/package_macos64/build/usr/share/julia/stdlib/v1.6/Dates/src/arithmetic.jl\" target=\"_blank\">/Applications/Julia-1.6.app/Contents/Resources/julia/share/julia/stdlib/v1.6/Dates/src/arithmetic.jl:19</a></li> <li> +(dt::<b>Dates.Date</b>, y::<b>Dates.Year</b>) in Dates at <a href=\"file:///Users/julia/buildbot/worker/package_macos64/build/usr/share/julia/stdlib/v1.6/Dates/src/arithmetic.jl\" target=\"_blank\">/Applications/Julia-1.6.app/Contents/Resources/julia/share/julia/stdlib/v1.6/Dates/src/arithmetic.jl:27</a></li> <li> +(dt::<b>Dates.Date</b>, z::<b>Dates.Month</b>) in Dates at <a href=\"file:///Users/julia/buildbot/worker/package_macos64/build/usr/share/julia/stdlib/v1.6/Dates/src/arithmetic.jl\" target=\"_blank\">/Applications/Julia-1.6.app/Contents/Resources/julia/share/julia/stdlib/v1.6/Dates/src/arithmetic.jl:54</a></li> <li> +(x::<b>Dates.Date</b>, y::<b>Dates.Quarter</b>) in Dates at <a href=\"file:///Users/julia/buildbot/worker/package_macos64/build/usr/share/julia/stdlib/v1.6/Dates/src/arithmetic.jl\" target=\"_blank\">/Applications/Julia-1.6.app/Contents/Resources/julia/share/julia/stdlib/v1.6/Dates/src/arithmetic.jl:73</a></li> <li> +(x::<b>Dates.Date</b>, y::<b>Dates.Week</b>) in Dates at <a href=\"file:///Users/julia/buildbot/worker/package_macos64/build/usr/share/julia/stdlib/v1.6/Dates/src/arithmetic.jl\" target=\"_blank\">/Applications/Julia-1.6.app/Contents/Resources/julia/share/julia/stdlib/v1.6/Dates/src/arithmetic.jl:77</a></li> <li> +(x::<b>Dates.Date</b>, y::<b>Dates.Day</b>) in Dates at <a href=\"file:///Users/julia/buildbot/worker/package_macos64/build/usr/share/julia/stdlib/v1.6/Dates/src/arithmetic.jl\" target=\"_blank\">/Applications/Julia-1.6.app/Contents/Resources/julia/share/julia/stdlib/v1.6/Dates/src/arithmetic.jl:79</a></li> <li> +(x::<b>Rational{BigInt}</b>, y::<b>Rational{BigInt}</b>) in Base.GMP.MPQ at <a href=\"https://github.com/JuliaLang/julia/tree/f9720dc2ebd6cd9e3086365f281e62506444ef37/base/gmp.jl#L886\" target=\"_blank\">gmp.jl:886</a></li> <li> +(x::<b>Rational</b>) in Base at <a href=\"https://github.com/JuliaLang/julia/tree/f9720dc2ebd6cd9e3086365f281e62506444ef37/base/rational.jl#L267\" target=\"_blank\">rational.jl:267</a></li> <li> +(x::<b>Rational</b>, y::<b>Rational</b>) in Base at <a href=\"https://github.com/JuliaLang/julia/tree/f9720dc2ebd6cd9e3086365f281e62506444ef37/base/rational.jl#L283\" target=\"_blank\">rational.jl:283</a></li> <li> +(a::<b>Pkg.Resolve.FieldValue</b>, b::<b>Pkg.Resolve.FieldValue</b>) in Pkg.Resolve at <a href=\"file:///Users/julia/buildbot/worker/package_macos64/build/usr/share/julia/stdlib/v1.6/Pkg/src/Resolve/fieldvalues.jl\" target=\"_blank\">/Applications/Julia-1.6.app/Contents/Resources/julia/share/julia/stdlib/v1.6/Pkg/src/Resolve/fieldvalues.jl:43</a></li> <li> +(x::<b>Float16</b>, y::<b>Float16</b>) in Base at <a href=\"https://github.com/JuliaLang/julia/tree/f9720dc2ebd6cd9e3086365f281e62506444ef37/base/float.jl#L324\" target=\"_blank\">float.jl:324</a></li> <li> +(dt::<b>Dates.DateTime</b>, y::<b>Dates.Year</b>) in Dates at <a href=\"file:///Users/julia/buildbot/worker/package_macos64/build/usr/share/julia/stdlib/v1.6/Dates/src/arithmetic.jl\" target=\"_blank\">/Applications/Julia-1.6.app/Contents/Resources/julia/share/julia/stdlib/v1.6/Dates/src/arithmetic.jl:23</a></li> <li> +(dt::<b>Dates.DateTime</b>, z::<b>Dates.Month</b>) in Dates at <a href=\"file:///Users/julia/buildbot/worker/package_macos64/build/usr/share/julia/stdlib/v1.6/Dates/src/arithmetic.jl\" target=\"_blank\">/Applications/Julia-1.6.app/Contents/Resources/julia/share/julia/stdlib/v1.6/Dates/src/arithmetic.jl:47</a></li> <li> +(x::<b>Dates.DateTime</b>, y::<b>Dates.Quarter</b>) in Dates at <a href=\"file:///Users/julia/buildbot/worker/package_macos64/build/usr/share/julia/stdlib/v1.6/Dates/src/arithmetic.jl\" target=\"_blank\">/Applications/Julia-1.6.app/Contents/Resources/julia/share/julia/stdlib/v1.6/Dates/src/arithmetic.jl:75</a></li> <li> +(x::<b>Dates.DateTime</b>, y::<b>Dates.Period</b>) in Dates at <a href=\"file:///Users/julia/buildbot/worker/package_macos64/build/usr/share/julia/stdlib/v1.6/Dates/src/arithmetic.jl\" target=\"_blank\">/Applications/Julia-1.6.app/Contents/Resources/julia/share/julia/stdlib/v1.6/Dates/src/arithmetic.jl:81</a></li> <li> +(B::<b>BitMatrix</b>, J::<b>LinearAlgebra.UniformScaling</b>) in LinearAlgebra at <a href=\"file:///Users/julia/buildbot/worker/package_macos64/build/usr/share/julia/stdlib/v1.6/LinearAlgebra/src/uniformscaling.jl\" target=\"_blank\">/Applications/Julia-1.6.app/Contents/Resources/julia/share/julia/stdlib/v1.6/LinearAlgebra/src/uniformscaling.jl:152</a></li> <li> +(A::<b>AbstractMatrix{T} where T</b>, J::<b>LinearAlgebra.UniformScaling</b>) in LinearAlgebra at <a href=\"file:///Users/julia/buildbot/worker/package_macos64/build/usr/share/julia/stdlib/v1.6/LinearAlgebra/src/uniformscaling.jl\" target=\"_blank\">/Applications/Julia-1.6.app/Contents/Resources/julia/share/julia/stdlib/v1.6/LinearAlgebra/src/uniformscaling.jl:215</a></li> <li> +(x::<b>AbstractArray{var\"#s79\", N} where {var\"#s79\"<:Number, N}</b>) in Base at <a href=\"https://github.com/JuliaLang/julia/tree/f9720dc2ebd6cd9e3086365f281e62506444ef37/base/abstractarraymath.jl#L97\" target=\"_blank\">abstractarraymath.jl:97</a></li> <li> +(x::<b>Bool</b>) in Base at <a href=\"https://github.com/JuliaLang/julia/tree/f9720dc2ebd6cd9e3086365f281e62506444ef37/base/bool.jl#L89\" target=\"_blank\">bool.jl:89</a></li> <li> +(x::<b>Number</b>, y::<b>Base.TwicePrecision</b>) in Base at <a href=\"https://github.com/JuliaLang/julia/tree/f9720dc2ebd6cd9e3086365f281e62506444ef37/base/twiceprecision.jl#L271\" target=\"_blank\">twiceprecision.jl:271</a></li> <li> +(::<b>Number</b>, ::<b>Missing</b>) in Base at <a href=\"https://github.com/JuliaLang/julia/tree/f9720dc2ebd6cd9e3086365f281e62506444ef37/base/missing.jl#L117\" target=\"_blank\">missing.jl:117</a></li> <li> +(x::<b>Number</b>, J::<b>LinearAlgebra.UniformScaling</b>) in LinearAlgebra at <a href=\"file:///Users/julia/buildbot/worker/package_macos64/build/usr/share/julia/stdlib/v1.6/LinearAlgebra/src/uniformscaling.jl\" target=\"_blank\">/Applications/Julia-1.6.app/Contents/Resources/julia/share/julia/stdlib/v1.6/LinearAlgebra/src/uniformscaling.jl:146</a></li> <li> +(x::<b>Integer</b>, y::<b>Ptr</b>) in Base at <a href=\"https://github.com/JuliaLang/julia/tree/f9720dc2ebd6cd9e3086365f281e62506444ef37/base/pointer.jl#L161\" target=\"_blank\">pointer.jl:161</a></li> <li> +(y::<b>Integer</b>, x::<b>Rational</b>) in Base at <a href=\"https://github.com/JuliaLang/julia/tree/f9720dc2ebd6cd9e3086365f281e62506444ef37/base/rational.jl#L295\" target=\"_blank\">rational.jl:295</a></li> <li> +(x::<b>Integer</b>, y::<b>AbstractChar</b>) in Base at <a href=\"https://github.com/JuliaLang/julia/tree/f9720dc2ebd6cd9e3086365f281e62506444ef37/base/char.jl#L224\" target=\"_blank\">char.jl:224</a></li> <li> +(x::<b>Real</b>, d::<b>UnivariateDistribution{S} where S<:ValueSupport</b>) in Distributions at <a href=\"file:///Users/uqjnazar/.julia/packages/Distributions/fXTVC/src/univariate/locationscale.jl\" target=\"_blank\">/Users/uqjnazar/.julia/packages/Distributions/fXTVC/src/univariate/locationscale.jl:125</a></li> <li> +(x::<b>Bool</b>, y::<b>Bool</b>) in Base at <a href=\"https://github.com/JuliaLang/julia/tree/f9720dc2ebd6cd9e3086365f281e62506444ef37/base/bool.jl#L92\" target=\"_blank\">bool.jl:92</a></li> <li> +(a::<b>Integer</b>, b::<b>Integer</b>) in Base at <a href=\"https://github.com/JuliaLang/julia/tree/f9720dc2ebd6cd9e3086365f281e62506444ef37/base/int.jl#L919\" target=\"_blank\">int.jl:919</a></li> <li> +(x::<b>Bool</b>, y::<b>T</b>)<i> where T<:AbstractFloat</i> in Base at <a href=\"https://github.com/JuliaLang/julia/tree/f9720dc2ebd6cd9e3086365f281e62506444ef37/base/bool.jl#L99\" target=\"_blank\">bool.jl:99</a></li> <li> +(x::<b>Bool</b>, z::<b>Complex{Bool}</b>) in Base at <a href=\"https://github.com/JuliaLang/julia/tree/f9720dc2ebd6cd9e3086365f281e62506444ef37/base/complex.jl#L286\" target=\"_blank\">complex.jl:286</a></li> <li> +(x::<b>Real</b>, z::<b>Complex{Bool}</b>) in Base at <a href=\"https://github.com/JuliaLang/julia/tree/f9720dc2ebd6cd9e3086365f281e62506444ef37/base/complex.jl#L300\" target=\"_blank\">complex.jl:300</a></li> <li> +(x::<b>Bool</b>, z::<b>Complex</b>) in Base at <a href=\"https://github.com/JuliaLang/julia/tree/f9720dc2ebd6cd9e3086365f281e62506444ef37/base/complex.jl#L293\" target=\"_blank\">complex.jl:293</a></li> <li> +(x::<b>Real</b>, z::<b>Complex</b>) in Base at <a href=\"https://github.com/JuliaLang/julia/tree/f9720dc2ebd6cd9e3086365f281e62506444ef37/base/complex.jl#L312\" target=\"_blank\">complex.jl:312</a></li> <li> +(x::<b>Number</b>) in Base at <a href=\"https://github.com/JuliaLang/julia/tree/f9720dc2ebd6cd9e3086365f281e62506444ef37/base/operators.jl#L515\" target=\"_blank\">operators.jl:515</a></li> <li> +(x::<b>T</b>, y::<b>T</b>)<i> where T<:Number</i> in Base at <a href=\"https://github.com/JuliaLang/julia/tree/f9720dc2ebd6cd9e3086365f281e62506444ef37/base/promotion.jl#L396\" target=\"_blank\">promotion.jl:396</a></li> <li> +(x::<b>Number</b>, y::<b>Number</b>) in Base at <a href=\"https://github.com/JuliaLang/julia/tree/f9720dc2ebd6cd9e3086365f281e62506444ef37/base/promotion.jl#L321\" target=\"_blank\">promotion.jl:321</a></li> <li> +(::<b>ChainRulesCore.NoTangent</b>, ::<b>ChainRulesCore.ZeroTangent</b>) in ChainRulesCore at <a href=\"file:///Users/uqjnazar/.julia/packages/ChainRulesCore/GciYT/src/differential_arithmetic.jl\" target=\"_blank\">/Users/uqjnazar/.julia/packages/ChainRulesCore/GciYT/src/differential_arithmetic.jl:89</a></li> <li> +(::<b>ChainRulesCore.NoTangent</b>, b::<b>ChainRulesCore.Tangent</b>) in ChainRulesCore at <a href=\"file:///Users/uqjnazar/.julia/packages/ChainRulesCore/GciYT/src/differential_arithmetic.jl\" target=\"_blank\">/Users/uqjnazar/.julia/packages/ChainRulesCore/GciYT/src/differential_arithmetic.jl:75</a></li> <li> +(::<b>ChainRulesCore.NoTangent</b>, b::<b>ChainRulesCore.AbstractThunk</b>) in ChainRulesCore at <a href=\"file:///Users/uqjnazar/.julia/packages/ChainRulesCore/GciYT/src/differential_arithmetic.jl\" target=\"_blank\">/Users/uqjnazar/.julia/packages/ChainRulesCore/GciYT/src/differential_arithmetic.jl:75</a></li> <li> +(::<b>ChainRulesCore.NoTangent</b>, ::<b>ChainRulesCore.NoTangent</b>) in ChainRulesCore at <a href=\"file:///Users/uqjnazar/.julia/packages/ChainRulesCore/GciYT/src/differential_arithmetic.jl\" target=\"_blank\">/Users/uqjnazar/.julia/packages/ChainRulesCore/GciYT/src/differential_arithmetic.jl:69</a></li> <li> +(::<b>ChainRulesCore.NoTangent</b>, x::<b>ChainRulesCore.NotImplemented</b>) in ChainRulesCore at <a href=\"file:///Users/uqjnazar/.julia/packages/ChainRulesCore/GciYT/src/differential_arithmetic.jl\" target=\"_blank\">/Users/uqjnazar/.julia/packages/ChainRulesCore/GciYT/src/differential_arithmetic.jl:26</a></li> <li> +(::<b>ChainRulesCore.NoTangent</b>, b) in ChainRulesCore at <a href=\"file:///Users/uqjnazar/.julia/packages/ChainRulesCore/GciYT/src/differential_arithmetic.jl\" target=\"_blank\">/Users/uqjnazar/.julia/packages/ChainRulesCore/GciYT/src/differential_arithmetic.jl:75</a></li> <li> +(t::<b>Dates.Time</b>, dt::<b>Dates.Date</b>) in Dates at <a href=\"file:///Users/julia/buildbot/worker/package_macos64/build/usr/share/julia/stdlib/v1.6/Dates/src/arithmetic.jl\" target=\"_blank\">/Applications/Julia-1.6.app/Contents/Resources/julia/share/julia/stdlib/v1.6/Dates/src/arithmetic.jl:20</a></li> <li> +(x::<b>Dates.Time</b>, y::<b>Dates.TimePeriod</b>) in Dates at <a href=\"file:///Users/julia/buildbot/worker/package_macos64/build/usr/share/julia/stdlib/v1.6/Dates/src/arithmetic.jl\" target=\"_blank\">/Applications/Julia-1.6.app/Contents/Resources/julia/share/julia/stdlib/v1.6/Dates/src/arithmetic.jl:83</a></li> <li> +(x::<b>Dates.TimeType</b>) in Dates at <a href=\"file:///Users/julia/buildbot/worker/package_macos64/build/usr/share/julia/stdlib/v1.6/Dates/src/arithmetic.jl\" target=\"_blank\">/Applications/Julia-1.6.app/Contents/Resources/julia/share/julia/stdlib/v1.6/Dates/src/arithmetic.jl:8</a></li> <li> +(a::<b>Dates.TimeType</b>, b::<b>Dates.Period</b>, c::<b>Dates.Period</b>) in Dates at <a href=\"file:///Users/julia/buildbot/worker/package_macos64/build/usr/share/julia/stdlib/v1.6/Dates/src/periods.jl\" target=\"_blank\">/Applications/Julia-1.6.app/Contents/Resources/julia/share/julia/stdlib/v1.6/Dates/src/periods.jl:373</a></li> <li> +(a::<b>Dates.TimeType</b>, b::<b>Dates.Period</b>, c::<b>Dates.Period</b>, d::<b>Dates.Period...</b>) in Dates at <a href=\"file:///Users/julia/buildbot/worker/package_macos64/build/usr/share/julia/stdlib/v1.6/Dates/src/periods.jl\" target=\"_blank\">/Applications/Julia-1.6.app/Contents/Resources/julia/share/julia/stdlib/v1.6/Dates/src/periods.jl:374</a></li> <li> +(x::<b>Dates.TimeType</b>, y::<b>Dates.CompoundPeriod</b>) in Dates at <a href=\"file:///Users/julia/buildbot/worker/package_macos64/build/usr/share/julia/stdlib/v1.6/Dates/src/periods.jl\" target=\"_blank\">/Applications/Julia-1.6.app/Contents/Resources/julia/share/julia/stdlib/v1.6/Dates/src/periods.jl:376</a></li> <li> +(x::<b>ChainRulesCore.NotImplemented</b>) in ChainRulesCore at <a href=\"file:///Users/uqjnazar/.julia/packages/ChainRulesCore/GciYT/src/differential_arithmetic.jl\" target=\"_blank\">/Users/uqjnazar/.julia/packages/ChainRulesCore/GciYT/src/differential_arithmetic.jl:52</a></li> <li> +(x::<b>ChainRulesCore.NotImplemented</b>, ::<b>ChainRulesCore.Tangent</b>) in ChainRulesCore at <a href=\"file:///Users/uqjnazar/.julia/packages/ChainRulesCore/GciYT/src/differential_arithmetic.jl\" target=\"_blank\">/Users/uqjnazar/.julia/packages/ChainRulesCore/GciYT/src/differential_arithmetic.jl:25</a></li> <li> +(x::<b>ChainRulesCore.NotImplemented</b>, ::<b>ChainRulesCore.AbstractThunk</b>) in ChainRulesCore at <a href=\"file:///Users/uqjnazar/.julia/packages/ChainRulesCore/GciYT/src/differential_arithmetic.jl\" target=\"_blank\">/Users/uqjnazar/.julia/packages/ChainRulesCore/GciYT/src/differential_arithmetic.jl:25</a></li> <li> +(x::<b>ChainRulesCore.NotImplemented</b>, ::<b>ChainRulesCore.NoTangent</b>) in ChainRulesCore at <a href=\"file:///Users/uqjnazar/.julia/packages/ChainRulesCore/GciYT/src/differential_arithmetic.jl\" target=\"_blank\">/Users/uqjnazar/.julia/packages/ChainRulesCore/GciYT/src/differential_arithmetic.jl:25</a></li> <li> +(x::<b>ChainRulesCore.NotImplemented</b>, ::<b>ChainRulesCore.NotImplemented</b>) in ChainRulesCore at <a href=\"file:///Users/uqjnazar/.julia/packages/ChainRulesCore/GciYT/src/differential_arithmetic.jl\" target=\"_blank\">/Users/uqjnazar/.julia/packages/ChainRulesCore/GciYT/src/differential_arithmetic.jl:21</a></li> <li> +(x::<b>ChainRulesCore.NotImplemented</b>, ::<b>ChainRulesCore.ZeroTangent</b>) in ChainRulesCore at <a href=\"file:///Users/uqjnazar/.julia/packages/ChainRulesCore/GciYT/src/differential_arithmetic.jl\" target=\"_blank\">/Users/uqjnazar/.julia/packages/ChainRulesCore/GciYT/src/differential_arithmetic.jl:19</a></li> <li> +(x::<b>ChainRulesCore.NotImplemented</b>, ::<b>Any</b>) in ChainRulesCore at <a href=\"file:///Users/uqjnazar/.julia/packages/ChainRulesCore/GciYT/src/differential_arithmetic.jl\" target=\"_blank\">/Users/uqjnazar/.julia/packages/ChainRulesCore/GciYT/src/differential_arithmetic.jl:25</a></li> <li> +(x::<b>ChainRulesCore.AbstractTangent</b>) in ChainRulesCore at <a href=\"file:///Users/uqjnazar/.julia/packages/ChainRulesCore/GciYT/src/differentials/abstract_differential.jl\" target=\"_blank\">/Users/uqjnazar/.julia/packages/ChainRulesCore/GciYT/src/differentials/abstract_differential.jl:38</a></li> <li> +(a::<b>P</b>, d::<b>ChainRulesCore.Tangent{P, T} where T</b>)<i> where P</i> in ChainRulesCore at <a href=\"file:///Users/uqjnazar/.julia/packages/ChainRulesCore/GciYT/src/differential_arithmetic.jl\" target=\"_blank\">/Users/uqjnazar/.julia/packages/ChainRulesCore/GciYT/src/differential_arithmetic.jl:149</a></li> <li> +(a, b::<b>ChainRulesCore.AbstractThunk</b>) in ChainRulesCore at <a href=\"file:///Users/uqjnazar/.julia/packages/ChainRulesCore/GciYT/src/differential_arithmetic.jl\" target=\"_blank\">/Users/uqjnazar/.julia/packages/ChainRulesCore/GciYT/src/differential_arithmetic.jl:139</a></li> <li> +(a, ::<b>ChainRulesCore.ZeroTangent</b>) in ChainRulesCore at <a href=\"file:///Users/uqjnazar/.julia/packages/ChainRulesCore/GciYT/src/differential_arithmetic.jl\" target=\"_blank\">/Users/uqjnazar/.julia/packages/ChainRulesCore/GciYT/src/differential_arithmetic.jl:116</a></li> <li> +(a, ::<b>ChainRulesCore.NoTangent</b>) in ChainRulesCore at <a href=\"file:///Users/uqjnazar/.julia/packages/ChainRulesCore/GciYT/src/differential_arithmetic.jl\" target=\"_blank\">/Users/uqjnazar/.julia/packages/ChainRulesCore/GciYT/src/differential_arithmetic.jl:76</a></li> <li> +(::<b>Any</b>, x::<b>ChainRulesCore.NotImplemented</b>) in ChainRulesCore at <a href=\"file:///Users/uqjnazar/.julia/packages/ChainRulesCore/GciYT/src/differential_arithmetic.jl\" target=\"_blank\">/Users/uqjnazar/.julia/packages/ChainRulesCore/GciYT/src/differential_arithmetic.jl:26</a></li> <li> +(a, b, c, xs...) in Base at <a href=\"https://github.com/JuliaLang/julia/tree/f9720dc2ebd6cd9e3086365f281e62506444ef37/base/operators.jl#L560\" target=\"_blank\">operators.jl:560</a></li> </ul>"
      ],
      "text/plain": [
       "# 271 methods for generic function \"+\":\n",
       "[1] +(x::T, y::T) where T<:Union{Int128, Int16, Int32, Int64, Int8, UInt128, UInt16, UInt32, UInt64, UInt8} in Base at int.jl:87\n",
       "[2] +(c::Union{UInt16, UInt32, UInt64, UInt8}, x::BigInt) in Base.GMP at gmp.jl:528\n",
       "[3] +(c::Union{Int16, Int32, Int64, Int8}, x::BigInt) in Base.GMP at gmp.jl:534\n",
       "[4] +(c::Union{UInt16, UInt32, UInt64, UInt8}, x::BigFloat) in Base.MPFR at mpfr.jl:376\n",
       "[5] +(c::Union{Int16, Int32, Int64, Int8}, x::BigFloat) in Base.MPFR at mpfr.jl:384\n",
       "[6] +(c::Union{Float16, Float32, Float64}, x::BigFloat) in Base.MPFR at mpfr.jl:392\n",
       "[7] +(x::Union{Dates.CompoundPeriod, Dates.Period}) in Dates at /Applications/Julia-1.6.app/Contents/Resources/julia/share/julia/stdlib/v1.6/Dates/src/periods.jl:362\n",
       "[8] +(d::MvNormal, c::AbstractVector{T} where T) in Distributions at /Users/uqjnazar/.julia/packages/Distributions/fXTVC/src/multivariate/mvnormal.jl:271\n",
       "[9] +(a::ChainRulesCore.Tangent{P, T} where T, b::ChainRulesCore.Tangent{P, T} where T) where P in ChainRulesCore at /Users/uqjnazar/.julia/packages/ChainRulesCore/GciYT/src/differential_arithmetic.jl:145\n",
       "[10] +(a::ChainRulesCore.Tangent, b::ChainRulesCore.AbstractThunk) in ChainRulesCore at /Users/uqjnazar/.julia/packages/ChainRulesCore/GciYT/src/differential_arithmetic.jl:139\n",
       "[11] +(a::ChainRulesCore.Tangent, ::ChainRulesCore.ZeroTangent) in ChainRulesCore at /Users/uqjnazar/.julia/packages/ChainRulesCore/GciYT/src/differential_arithmetic.jl:116\n",
       "[12] +(a::ChainRulesCore.Tangent, ::ChainRulesCore.NoTangent) in ChainRulesCore at /Users/uqjnazar/.julia/packages/ChainRulesCore/GciYT/src/differential_arithmetic.jl:76\n",
       "[13] +(::ChainRulesCore.Tangent, x::ChainRulesCore.NotImplemented) in ChainRulesCore at /Users/uqjnazar/.julia/packages/ChainRulesCore/GciYT/src/differential_arithmetic.jl:26\n",
       "[14] +(a::ChainRulesCore.Tangent{P, T} where T, b::P) where P in ChainRulesCore at /Users/uqjnazar/.julia/packages/ChainRulesCore/GciYT/src/differential_arithmetic.jl:162\n",
       "[15] +(Da::LinearAlgebra.Diagonal, Db::LinearAlgebra.Diagonal) in LinearAlgebra at /Applications/Julia-1.6.app/Contents/Resources/julia/share/julia/stdlib/v1.6/LinearAlgebra/src/diagonal.jl:156\n",
       "[16] +(D::LinearAlgebra.Diagonal, S::LinearAlgebra.Symmetric) in LinearAlgebra at /Applications/Julia-1.6.app/Contents/Resources/julia/share/julia/stdlib/v1.6/LinearAlgebra/src/diagonal.jl:160\n",
       "[17] +(D::LinearAlgebra.Diagonal{var\"#s832\", V} where {var\"#s832\"<:Real, V<:AbstractVector{var\"#s832\"}}, H::LinearAlgebra.Hermitian) in LinearAlgebra at /Applications/Julia-1.6.app/Contents/Resources/julia/share/julia/stdlib/v1.6/LinearAlgebra/src/diagonal.jl:166\n",
       "[18] +(A::LinearAlgebra.Diagonal, B::LinearAlgebra.Bidiagonal) in LinearAlgebra at /Applications/Julia-1.6.app/Contents/Resources/julia/share/julia/stdlib/v1.6/LinearAlgebra/src/special.jl:125\n",
       "[19] +(A::LinearAlgebra.Diagonal, B::LinearAlgebra.SymTridiagonal) in LinearAlgebra at /Applications/Julia-1.6.app/Contents/Resources/julia/share/julia/stdlib/v1.6/LinearAlgebra/src/special.jl:135\n",
       "[20] +(A::LinearAlgebra.Diagonal, B::LinearAlgebra.Tridiagonal) in LinearAlgebra at /Applications/Julia-1.6.app/Contents/Resources/julia/share/julia/stdlib/v1.6/LinearAlgebra/src/special.jl:163\n",
       "[21] +(A::LinearAlgebra.Diagonal{var\"#s832\", V} where {var\"#s832\"<:Number, V<:AbstractVector{var\"#s832\"}}, B::LinearAlgebra.UniformScaling) in LinearAlgebra at /Applications/Julia-1.6.app/Contents/Resources/julia/share/julia/stdlib/v1.6/LinearAlgebra/src/special.jl:241\n",
       "[22] +(a::PDMats.AbstractPDMat, b::LinearAlgebra.UniformScaling) in PDMats at /Users/uqjnazar/.julia/packages/PDMats/vgpB7/src/addition.jl:42\n",
       "[23] +(a::PDMats.AbstractPDMat, b::Matrix{T} where T) in PDMats at /Users/uqjnazar/.julia/packages/PDMats/vgpB7/src/generics.jl:23\n",
       "[24] +(A::LinearAlgebra.UnitUpperTriangular, B::LinearAlgebra.UpperTriangular) in LinearAlgebra at /Applications/Julia-1.6.app/Contents/Resources/julia/share/julia/stdlib/v1.6/LinearAlgebra/src/triangular.jl:652\n",
       "[25] +(A::LinearAlgebra.UnitUpperTriangular, B::LinearAlgebra.UnitUpperTriangular) in LinearAlgebra at /Applications/Julia-1.6.app/Contents/Resources/julia/share/julia/stdlib/v1.6/LinearAlgebra/src/triangular.jl:654\n",
       "[26] +(UL::LinearAlgebra.UnitUpperTriangular, J::LinearAlgebra.UniformScaling) in LinearAlgebra at /Applications/Julia-1.6.app/Contents/Resources/julia/share/julia/stdlib/v1.6/LinearAlgebra/src/uniformscaling.jl:182\n",
       "[27] +(A::LinearAlgebra.UnitUpperTriangular, B::LinearAlgebra.Bidiagonal) in LinearAlgebra at /Applications/Julia-1.6.app/Contents/Resources/julia/share/julia/stdlib/v1.6/LinearAlgebra/src/special.jl:86\n",
       "[28] +(y::Dates.TimeType, x::StridedArray{var\"#s832\", N} where {var\"#s832\"<:Union{Dates.CompoundPeriod, Dates.Period}, N}) in Dates at /Applications/Julia-1.6.app/Contents/Resources/julia/share/julia/stdlib/v1.6/Dates/src/deprecated.jl:18\n",
       "[29] +(r1::LinRange{T}, r2::LinRange{T}) where T in Base at range.jl:1108\n",
       "[30] +(A::BitArray, B::BitArray) in Base at bitarray.jl:1127\n",
       "[31] +(r1::OrdinalRange, r2::OrdinalRange) in Base at range.jl:1101\n",
       "[32] +(a::PDMats.PDiagMat, b::PDMats.PDSparseMat) in PDMats at /Users/uqjnazar/.julia/packages/PDMats/vgpB7/src/addition.jl:22\n",
       "[33] +(a::PDMats.PDiagMat, b::PDMats.ScalMat) in PDMats at /Users/uqjnazar/.julia/packages/PDMats/vgpB7/src/addition.jl:20\n",
       "[34] +(a::PDMats.PDiagMat, b::PDMats.PDiagMat) in PDMats at /Users/uqjnazar/.julia/packages/PDMats/vgpB7/src/addition.jl:19\n",
       "[35] +(a::PDMats.PDiagMat, b::PDMats.PDMat) in PDMats at /Users/uqjnazar/.julia/packages/PDMats/vgpB7/src/addition.jl:18\n",
       "[36] +(a::PDMats.PDiagMat, b::PDMats.AbstractPDMat) in PDMats at /Users/uqjnazar/.julia/packages/PDMats/vgpB7/src/addition.jl:5\n",
       "[37] +(A::LinearAlgebra.UnitLowerTriangular, B::LinearAlgebra.LowerTriangular) in LinearAlgebra at /Applications/Julia-1.6.app/Contents/Resources/julia/share/julia/stdlib/v1.6/LinearAlgebra/src/triangular.jl:653\n",
       "[38] +(A::LinearAlgebra.UnitLowerTriangular, B::LinearAlgebra.UnitLowerTriangular) in LinearAlgebra at /Applications/Julia-1.6.app/Contents/Resources/julia/share/julia/stdlib/v1.6/LinearAlgebra/src/triangular.jl:655\n",
       "[39] +(UL::LinearAlgebra.UnitLowerTriangular, J::LinearAlgebra.UniformScaling) in LinearAlgebra at /Applications/Julia-1.6.app/Contents/Resources/julia/share/julia/stdlib/v1.6/LinearAlgebra/src/uniformscaling.jl:182\n",
       "[40] +(A::LinearAlgebra.UnitLowerTriangular, B::LinearAlgebra.Bidiagonal) in LinearAlgebra at /Applications/Julia-1.6.app/Contents/Resources/julia/share/julia/stdlib/v1.6/LinearAlgebra/src/special.jl:86\n",
       "[41] +(r::AbstractRange{var\"#s832\"} where var\"#s832\"<:Dates.TimeType, x::Dates.Period) in Dates at /Applications/Julia-1.6.app/Contents/Resources/julia/share/julia/stdlib/v1.6/Dates/src/ranges.jl:63\n",
       "[42] +(a::AbstractRange, b::FillArrays.Zeros) in FillArrays at /Users/uqjnazar/.julia/packages/FillArrays/5CbY2/src/fillalgebra.jl:196\n",
       "[43] +(a::AbstractRange, b::FillArrays.AbstractFill) in FillArrays at /Users/uqjnazar/.julia/packages/FillArrays/5CbY2/src/FillArrays.jl:210\n",
       "[44] +(A::LinearAlgebra.Symmetric, B::LinearAlgebra.Symmetric) in LinearAlgebra at /Applications/Julia-1.6.app/Contents/Resources/julia/share/julia/stdlib/v1.6/LinearAlgebra/src/symmetric.jl:469\n",
       "[45] +(S::LinearAlgebra.Symmetric, D::LinearAlgebra.Diagonal) in LinearAlgebra at /Applications/Julia-1.6.app/Contents/Resources/julia/share/julia/stdlib/v1.6/LinearAlgebra/src/diagonal.jl:163\n",
       "[46] +(A::LinearAlgebra.Symmetric{var\"#s830\", var\"#s829\"} where {var\"#s830\", var\"#s829\"<:(SparseArrays.AbstractSparseMatrix{Tv, Ti} where {Tv, Ti})}, B::SparseArrays.AbstractSparseMatrix{Tv, Ti} where {Tv, Ti}) in SparseArrays at /Applications/Julia-1.6.app/Contents/Resources/julia/share/julia/stdlib/v1.6/SparseArrays/src/linalg.jl:15\n",
       "[47] +(A::LinearAlgebra.Symmetric, B::SparseArrays.AbstractSparseMatrix{Tv, Ti} where {Tv, Ti}) in SparseArrays at /Applications/Julia-1.6.app/Contents/Resources/julia/share/julia/stdlib/v1.6/SparseArrays/src/linalg.jl:18\n",
       "[48] +(A::LinearAlgebra.Symmetric{var\"#s824\", var\"#s823\"} where {var\"#s824\"<:Real, var\"#s823\"<:(SparseArrays.AbstractSparseMatrix{Tv, Ti} where {Tv, Ti})}, B::LinearAlgebra.Hermitian{var\"#s822\", var\"#s821\"} where {var\"#s822\", var\"#s821\"<:(SparseArrays.AbstractSparseMatrix{Tv, Ti} where {Tv, Ti})}) in SparseArrays at /Applications/Julia-1.6.app/Contents/Resources/julia/share/julia/stdlib/v1.6/SparseArrays/src/linalg.jl:25\n",
       "[49] +(A::LinearAlgebra.Symmetric{var\"#s831\", S} where {var\"#s831\"<:Real, S<:(AbstractMatrix{var\"#s832\"} where var\"#s832\"<:var\"#s831\")}, B::LinearAlgebra.Hermitian) in LinearAlgebra at /Applications/Julia-1.6.app/Contents/Resources/julia/share/julia/stdlib/v1.6/LinearAlgebra/src/symmetric.jl:484\n",
       "[50] +(A::LinearAlgebra.Symmetric{var\"#s832\", var\"#s831\"} where {var\"#s832\", var\"#s831\"<:(SparseArrays.AbstractSparseMatrix{Tv, Ti} where {Tv, Ti})}, B::LinearAlgebra.Hermitian{var\"#s830\", var\"#s829\"} where {var\"#s830\", var\"#s829\"<:(SparseArrays.AbstractSparseMatrix{Tv, Ti} where {Tv, Ti})}) in SparseArrays at /Applications/Julia-1.6.app/Contents/Resources/julia/share/julia/stdlib/v1.6/SparseArrays/src/linalg.jl:23\n",
       "[51] +(x::AbstractIrrational, y::AbstractIrrational) in Base at irrationals.jl:156\n",
       "[52] +(A::LinearAlgebra.LowerTriangular, B::LinearAlgebra.LowerTriangular) in LinearAlgebra at /Applications/Julia-1.6.app/Contents/Resources/julia/share/julia/stdlib/v1.6/LinearAlgebra/src/triangular.jl:649\n",
       "[53] +(A::LinearAlgebra.LowerTriangular, B::LinearAlgebra.UnitLowerTriangular) in LinearAlgebra at /Applications/Julia-1.6.app/Contents/Resources/julia/share/julia/stdlib/v1.6/LinearAlgebra/src/triangular.jl:651\n",
       "[54] +(A::LinearAlgebra.LowerTriangular, B::LinearAlgebra.Bidiagonal) in LinearAlgebra at /Applications/Julia-1.6.app/Contents/Resources/julia/share/julia/stdlib/v1.6/LinearAlgebra/src/special.jl:86\n",
       "[55] +(x::Rational, y::Integer) in Base at rational.jl:288\n",
       "[56] +(z::Complex, w::Complex) in Base at complex.jl:275\n",
       "[57] +(A::LinearAlgebra.Bidiagonal, B::LinearAlgebra.Bidiagonal) in LinearAlgebra at /Applications/Julia-1.6.app/Contents/Resources/julia/share/julia/stdlib/v1.6/LinearAlgebra/src/bidiag.jl:354\n",
       "[58] +(A::LinearAlgebra.Bidiagonal, B::LinearAlgebra.UpperTriangular) in LinearAlgebra at /Applications/Julia-1.6.app/Contents/Resources/julia/share/julia/stdlib/v1.6/LinearAlgebra/src/special.jl:94\n",
       "[59] +(A::LinearAlgebra.Bidiagonal, B::LinearAlgebra.UnitUpperTriangular) in LinearAlgebra at /Applications/Julia-1.6.app/Contents/Resources/julia/share/julia/stdlib/v1.6/LinearAlgebra/src/special.jl:94\n",
       "[60] +(A::LinearAlgebra.Bidiagonal, B::LinearAlgebra.LowerTriangular) in LinearAlgebra at /Applications/Julia-1.6.app/Contents/Resources/julia/share/julia/stdlib/v1.6/LinearAlgebra/src/special.jl:94\n",
       "[61] +(A::LinearAlgebra.Bidiagonal, B::LinearAlgebra.UnitLowerTriangular) in LinearAlgebra at /Applications/Julia-1.6.app/Contents/Resources/julia/share/julia/stdlib/v1.6/LinearAlgebra/src/special.jl:94\n",
       "[62] +(A::LinearAlgebra.Bidiagonal, B::LinearAlgebra.Diagonal) in LinearAlgebra at /Applications/Julia-1.6.app/Contents/Resources/julia/share/julia/stdlib/v1.6/LinearAlgebra/src/special.jl:115\n",
       "[63] +(A::LinearAlgebra.Bidiagonal, B::LinearAlgebra.Tridiagonal) in LinearAlgebra at /Applications/Julia-1.6.app/Contents/Resources/julia/share/julia/stdlib/v1.6/LinearAlgebra/src/special.jl:183\n",
       "[64] +(A::LinearAlgebra.Bidiagonal, B::LinearAlgebra.SymTridiagonal) in LinearAlgebra at /Applications/Julia-1.6.app/Contents/Resources/julia/share/julia/stdlib/v1.6/LinearAlgebra/src/special.jl:203\n",
       "[65] +(A::LinearAlgebra.Bidiagonal{var\"#s832\", V} where {var\"#s832\"<:Number, V<:AbstractVector{var\"#s832\"}}, B::LinearAlgebra.UniformScaling) in LinearAlgebra at /Applications/Julia-1.6.app/Contents/Resources/julia/share/julia/stdlib/v1.6/LinearAlgebra/src/special.jl:236\n",
       "[66] +(d::UnivariateDistribution{S} where S<:ValueSupport, x::Real) in Distributions at /Users/uqjnazar/.julia/packages/Distributions/fXTVC/src/univariate/locationscale.jl:124\n",
       "[67] +(a::FillArrays.Zeros{T, 1, Axes} where Axes, b::UnitRange) where T in FillArrays at /Users/uqjnazar/.julia/packages/FillArrays/5CbY2/src/fillalgebra.jl:203\n",
       "[68] +(a::FillArrays.Zeros{T, 1, Axes} where Axes, b::AbstractRange) where T in FillArrays at /Users/uqjnazar/.julia/packages/FillArrays/5CbY2/src/fillalgebra.jl:198\n",
       "[69] +(a::FillArrays.Zeros) in FillArrays at /Users/uqjnazar/.julia/packages/FillArrays/5CbY2/src/fillalgebra.jl:159\n",
       "[70] +(a::FillArrays.Zeros{T, N, Axes} where {N, Axes}, b::FillArrays.Zeros{V, N, Axes} where {N, Axes}) where {T, V} in FillArrays at /Users/uqjnazar/.julia/packages/FillArrays/5CbY2/src/fillalgebra.jl:163\n",
       "[71] +(a::FillArrays.Zeros, b::FillArrays.AbstractFill) in FillArrays at /Users/uqjnazar/.julia/packages/FillArrays/5CbY2/src/fillalgebra.jl:175\n",
       "[72] +(a::FillArrays.Zeros{T, N, Axes} where Axes, b::AbstractArray{V, N}) where {T, V, N} in FillArrays at /Users/uqjnazar/.julia/packages/FillArrays/5CbY2/src/fillalgebra.jl:180\n",
       "[73] +(A::LinearAlgebra.UpperHessenberg, B::LinearAlgebra.UpperHessenberg) in LinearAlgebra at /Applications/Julia-1.6.app/Contents/Resources/julia/share/julia/stdlib/v1.6/LinearAlgebra/src/hessenberg.jl:101\n",
       "[74] +(H::LinearAlgebra.UpperHessenberg, J::LinearAlgebra.UniformScaling) in LinearAlgebra at /Applications/Julia-1.6.app/Contents/Resources/julia/share/julia/stdlib/v1.6/LinearAlgebra/src/hessenberg.jl:106\n",
       "[75] +(x::P, y::P) where P<:Dates.Period in Dates at /Applications/Julia-1.6.app/Contents/Resources/julia/share/julia/stdlib/v1.6/Dates/src/periods.jl:79\n",
       "[76] +(x::Dates.Period, y::Dates.Period) in Dates at /Applications/Julia-1.6.app/Contents/Resources/julia/share/julia/stdlib/v1.6/Dates/src/periods.jl:351\n",
       "[77] +(y::Dates.Period, x::Dates.CompoundPeriod) in Dates at /Applications/Julia-1.6.app/Contents/Resources/julia/share/julia/stdlib/v1.6/Dates/src/periods.jl:353\n",
       "[78] +(y::Dates.Period, x::Dates.TimeType) in Dates at /Applications/Julia-1.6.app/Contents/Resources/julia/share/julia/stdlib/v1.6/Dates/src/arithmetic.jl:85\n",
       "[79] +(x::Dates.Period, r::AbstractRange{var\"#s832\"} where var\"#s832\"<:Dates.TimeType) in Dates at /Applications/Julia-1.6.app/Contents/Resources/julia/share/julia/stdlib/v1.6/Dates/src/ranges.jl:62\n",
       "[80] +(y::Union{Dates.CompoundPeriod, Dates.Period}, x::AbstractArray{var\"#s832\", N} where {var\"#s832\"<:Dates.TimeType, N}) in Dates at /Applications/Julia-1.6.app/Contents/Resources/julia/share/julia/stdlib/v1.6/Dates/src/deprecated.jl:14\n",
       "[81] +(a::PDMats.ScalMat, b::PDMats.PDSparseMat) in PDMats at /Users/uqjnazar/.julia/packages/PDMats/vgpB7/src/addition.jl:29\n",
       "[82] +(a::PDMats.ScalMat, b::PDMats.ScalMat) in PDMats at /Users/uqjnazar/.julia/packages/PDMats/vgpB7/src/addition.jl:27\n",
       "[83] +(a::PDMats.ScalMat, b::PDMats.PDiagMat) in PDMats at /Users/uqjnazar/.julia/packages/PDMats/vgpB7/src/addition.jl:26\n",
       "[84] +(a::PDMats.ScalMat, b::PDMats.PDMat) in PDMats at /Users/uqjnazar/.julia/packages/PDMats/vgpB7/src/addition.jl:25\n",
       "[85] +(a::PDMats.ScalMat, b::PDMats.AbstractPDMat) in PDMats at /Users/uqjnazar/.julia/packages/PDMats/vgpB7/src/addition.jl:6\n",
       "[86] +(A::Array, Bs::Array...) in Base at arraymath.jl:43\n",
       "[87] +(X::StridedArray{var\"#s832\", N} where {var\"#s832\"<:Union{Dates.CompoundPeriod, Dates.Period}, N}, Y::StridedArray{var\"#s831\", N} where {var\"#s831\"<:Union{Dates.CompoundPeriod, Dates.Period}, N}) in Dates at /Applications/Julia-1.6.app/Contents/Resources/julia/share/julia/stdlib/v1.6/Dates/src/deprecated.jl:62\n",
       "[88] +(A::Array, B::SparseArrays.AbstractSparseMatrixCSC) in SparseArrays at /Applications/Julia-1.6.app/Contents/Resources/julia/share/julia/stdlib/v1.6/SparseArrays/src/sparsematrix.jl:1745\n",
       "[89] +(a::Matrix{T} where T, b::PDMats.AbstractPDMat) in PDMats at /Users/uqjnazar/.julia/packages/PDMats/vgpB7/src/generics.jl:22\n",
       "[90] +(a::Array{T, N}, b::FillArrays.Zeros{V, N, Axes} where Axes) where {T, V, N} in FillArrays at /Users/uqjnazar/.julia/packages/FillArrays/5CbY2/src/fillalgebra.jl:184\n",
       "[91] +(x::StridedArray{var\"#s832\", N} where {var\"#s832\"<:Union{Dates.CompoundPeriod, Dates.Period}, N}) in Dates at /Applications/Julia-1.6.app/Contents/Resources/julia/share/julia/stdlib/v1.6/Dates/src/deprecated.jl:55\n",
       "[92] +(x::StridedArray{var\"#s832\", N} where {var\"#s832\"<:Union{Dates.CompoundPeriod, Dates.Period}, N}, y::Dates.TimeType) in Dates at /Applications/Julia-1.6.app/Contents/Resources/julia/share/julia/stdlib/v1.6/Dates/src/deprecated.jl:10\n",
       "[93] +(x::Base.TwicePrecision, y::Number) in Base at twiceprecision.jl:267\n",
       "[94] +(x::Base.TwicePrecision{T}, y::Base.TwicePrecision{T}) where T in Base at twiceprecision.jl:273\n",
       "[95] +(x::Base.TwicePrecision, y::Base.TwicePrecision) in Base at twiceprecision.jl:278\n",
       "[96] +(a::PDMats.PDMat, b::PDMats.PDSparseMat) in PDMats at /Users/uqjnazar/.julia/packages/PDMats/vgpB7/src/addition.jl:15\n",
       "[97] +(a::PDMats.PDMat, b::PDMats.ScalMat) in PDMats at /Users/uqjnazar/.julia/packages/PDMats/vgpB7/src/addition.jl:13\n",
       "[98] +(a::PDMats.PDMat, b::PDMats.PDiagMat) in PDMats at /Users/uqjnazar/.julia/packages/PDMats/vgpB7/src/addition.jl:12\n",
       "[99] +(a::PDMats.PDMat, b::PDMats.PDMat) in PDMats at /Users/uqjnazar/.julia/packages/PDMats/vgpB7/src/addition.jl:11\n",
       "[100] +(a::PDMats.PDMat, b::PDMats.AbstractPDMat) in PDMats at /Users/uqjnazar/.julia/packages/PDMats/vgpB7/src/addition.jl:4\n",
       "[101] +(a::Dict, d::ChainRulesCore.Tangent{P, T} where T) where P in ChainRulesCore at /Users/uqjnazar/.julia/packages/ChainRulesCore/GciYT/src/differential_arithmetic.jl:161\n",
       "[102] +(a::ChainRulesCore.AbstractThunk, b::ChainRulesCore.Tangent) in ChainRulesCore at /Users/uqjnazar/.julia/packages/ChainRulesCore/GciYT/src/differential_arithmetic.jl:138\n",
       "[103] +(a::ChainRulesCore.AbstractThunk, b::ChainRulesCore.AbstractThunk) in ChainRulesCore at /Users/uqjnazar/.julia/packages/ChainRulesCore/GciYT/src/differential_arithmetic.jl:135\n",
       "[104] +(a::ChainRulesCore.AbstractThunk, ::ChainRulesCore.ZeroTangent) in ChainRulesCore at /Users/uqjnazar/.julia/packages/ChainRulesCore/GciYT/src/differential_arithmetic.jl:116\n",
       "[105] +(a::ChainRulesCore.AbstractThunk, ::ChainRulesCore.NoTangent) in ChainRulesCore at /Users/uqjnazar/.julia/packages/ChainRulesCore/GciYT/src/differential_arithmetic.jl:76\n",
       "[106] +(::ChainRulesCore.AbstractThunk, x::ChainRulesCore.NotImplemented) in ChainRulesCore at /Users/uqjnazar/.julia/packages/ChainRulesCore/GciYT/src/differential_arithmetic.jl:26\n",
       "[107] +(a::ChainRulesCore.AbstractThunk, b) in ChainRulesCore at /Users/uqjnazar/.julia/packages/ChainRulesCore/GciYT/src/differential_arithmetic.jl:138\n",
       "[108] +(A::LinearAlgebra.Hermitian, B::LinearAlgebra.Hermitian) in LinearAlgebra at /Applications/Julia-1.6.app/Contents/Resources/julia/share/julia/stdlib/v1.6/LinearAlgebra/src/symmetric.jl:469\n",
       "[109] +(H::LinearAlgebra.Hermitian, D::LinearAlgebra.Diagonal{var\"#s832\", V} where {var\"#s832\"<:Real, V<:AbstractVector{var\"#s832\"}}) in LinearAlgebra at /Applications/Julia-1.6.app/Contents/Resources/julia/share/julia/stdlib/v1.6/LinearAlgebra/src/diagonal.jl:169\n",
       "[110] +(A::LinearAlgebra.Hermitian, J::LinearAlgebra.UniformScaling{var\"#s832\"} where var\"#s832\"<:Complex) in LinearAlgebra at /Applications/Julia-1.6.app/Contents/Resources/julia/share/julia/stdlib/v1.6/LinearAlgebra/src/uniformscaling.jl:196\n",
       "[111] +(A::LinearAlgebra.Hermitian{var\"#s830\", var\"#s829\"} where {var\"#s830\", var\"#s829\"<:(SparseArrays.AbstractSparseMatrix{Tv, Ti} where {Tv, Ti})}, B::SparseArrays.AbstractSparseMatrix{Tv, Ti} where {Tv, Ti}) in SparseArrays at /Applications/Julia-1.6.app/Contents/Resources/julia/share/julia/stdlib/v1.6/SparseArrays/src/linalg.jl:15\n",
       "[112] +(A::LinearAlgebra.Hermitian, B::SparseArrays.AbstractSparseMatrix{Tv, Ti} where {Tv, Ti}) in SparseArrays at /Applications/Julia-1.6.app/Contents/Resources/julia/share/julia/stdlib/v1.6/SparseArrays/src/linalg.jl:18\n",
       "[113] +(A::LinearAlgebra.Hermitian{var\"#s820\", var\"#s819\"} where {var\"#s820\", var\"#s819\"<:(SparseArrays.AbstractSparseMatrix{Tv, Ti} where {Tv, Ti})}, B::LinearAlgebra.Symmetric{var\"#s818\", var\"#s817\"} where {var\"#s818\"<:Real, var\"#s817\"<:(SparseArrays.AbstractSparseMatrix{Tv, Ti} where {Tv, Ti})}) in SparseArrays at /Applications/Julia-1.6.app/Contents/Resources/julia/share/julia/stdlib/v1.6/SparseArrays/src/linalg.jl:26\n",
       "[114] +(A::LinearAlgebra.Hermitian, B::LinearAlgebra.Symmetric{var\"#s832\", S} where {var\"#s832\"<:Real, S<:(AbstractMatrix{var\"#s832\"} where var\"#s832\"<:var\"#s832\")}) in LinearAlgebra at /Applications/Julia-1.6.app/Contents/Resources/julia/share/julia/stdlib/v1.6/LinearAlgebra/src/symmetric.jl:483\n",
       "[115] +(A::LinearAlgebra.Hermitian{var\"#s828\", var\"#s827\"} where {var\"#s828\", var\"#s827\"<:(SparseArrays.AbstractSparseMatrix{Tv, Ti} where {Tv, Ti})}, B::LinearAlgebra.Symmetric{var\"#s826\", var\"#s825\"} where {var\"#s826\", var\"#s825\"<:(SparseArrays.AbstractSparseMatrix{Tv, Ti} where {Tv, Ti})}) in SparseArrays at /Applications/Julia-1.6.app/Contents/Resources/julia/share/julia/stdlib/v1.6/SparseArrays/src/linalg.jl:24\n",
       "[116] +(A::LinearAlgebra.UpperTriangular, B::LinearAlgebra.UpperTriangular) in LinearAlgebra at /Applications/Julia-1.6.app/Contents/Resources/julia/share/julia/stdlib/v1.6/LinearAlgebra/src/triangular.jl:648\n",
       "[117] +(A::LinearAlgebra.UpperTriangular, B::LinearAlgebra.UnitUpperTriangular) in LinearAlgebra at /Applications/Julia-1.6.app/Contents/Resources/julia/share/julia/stdlib/v1.6/LinearAlgebra/src/triangular.jl:650\n",
       "[118] +(A::LinearAlgebra.AbstractTriangular, B::LinearAlgebra.AbstractTriangular) in LinearAlgebra at /Applications/Julia-1.6.app/Contents/Resources/julia/share/julia/stdlib/v1.6/LinearAlgebra/src/triangular.jl:656\n",
       "[119] +(A::LinearAlgebra.UpperTriangular, B::LinearAlgebra.Bidiagonal) in LinearAlgebra at /Applications/Julia-1.6.app/Contents/Resources/julia/share/julia/stdlib/v1.6/LinearAlgebra/src/special.jl:86\n",
       "[120] +(J::LinearAlgebra.UniformScaling) in LinearAlgebra at /Applications/Julia-1.6.app/Contents/Resources/julia/share/julia/stdlib/v1.6/LinearAlgebra/src/uniformscaling.jl:150\n",
       "[121] +(J::LinearAlgebra.UniformScaling, x::Number) in LinearAlgebra at /Applications/Julia-1.6.app/Contents/Resources/julia/share/julia/stdlib/v1.6/LinearAlgebra/src/uniformscaling.jl:145\n",
       "[122] +(J1::LinearAlgebra.UniformScaling, J2::LinearAlgebra.UniformScaling) in LinearAlgebra at /Applications/Julia-1.6.app/Contents/Resources/julia/share/julia/stdlib/v1.6/LinearAlgebra/src/uniformscaling.jl:151\n",
       "[123] +(J::LinearAlgebra.UniformScaling, B::BitMatrix) in LinearAlgebra at /Applications/Julia-1.6.app/Contents/Resources/julia/share/julia/stdlib/v1.6/LinearAlgebra/src/uniformscaling.jl:153\n",
       "[124] +(J::LinearAlgebra.UniformScaling, F::LinearAlgebra.Hessenberg) in LinearAlgebra at /Applications/Julia-1.6.app/Contents/Resources/julia/share/julia/stdlib/v1.6/LinearAlgebra/src/hessenberg.jl:560\n",
       "[125] +(A::LinearAlgebra.UniformScaling, B::LinearAlgebra.Tridiagonal{var\"#s832\", V} where {var\"#s832\"<:Number, V<:AbstractVector{var\"#s832\"}}) in LinearAlgebra at /Applications/Julia-1.6.app/Contents/Resources/julia/share/julia/stdlib/v1.6/LinearAlgebra/src/special.jl:245\n",
       "[126] +(A::LinearAlgebra.UniformScaling, B::LinearAlgebra.SymTridiagonal{var\"#s832\", V} where {var\"#s832\"<:Number, V<:AbstractVector{var\"#s832\"}}) in LinearAlgebra at /Applications/Julia-1.6.app/Contents/Resources/julia/share/julia/stdlib/v1.6/LinearAlgebra/src/special.jl:250\n",
       "[127] +(A::LinearAlgebra.UniformScaling, B::LinearAlgebra.Bidiagonal{var\"#s832\", V} where {var\"#s832\"<:Number, V<:AbstractVector{var\"#s832\"}}) in LinearAlgebra at /Applications/Julia-1.6.app/Contents/Resources/julia/share/julia/stdlib/v1.6/LinearAlgebra/src/special.jl:255\n",
       "[128] +(A::LinearAlgebra.UniformScaling, B::LinearAlgebra.Diagonal{var\"#s832\", V} where {var\"#s832\"<:Number, V<:AbstractVector{var\"#s832\"}}) in LinearAlgebra at /Applications/Julia-1.6.app/Contents/Resources/julia/share/julia/stdlib/v1.6/LinearAlgebra/src/special.jl:260\n",
       "[129] +(a::LinearAlgebra.UniformScaling, b::PDMats.AbstractPDMat) in PDMats at /Users/uqjnazar/.julia/packages/PDMats/vgpB7/src/addition.jl:43\n",
       "[130] +(J::LinearAlgebra.UniformScaling, A::AbstractMatrix{T} where T) in LinearAlgebra at /Applications/Julia-1.6.app/Contents/Resources/julia/share/julia/stdlib/v1.6/LinearAlgebra/src/uniformscaling.jl:154\n",
       "[131] +(x::Ptr, y::Integer) in Base at pointer.jl:159\n",
       "[132] +(a::FillArrays.Fill{T, 1, Axes} where Axes, b::UnitRange) where T in FillArrays at /Users/uqjnazar/.julia/packages/FillArrays/5CbY2/src/FillArrays.jl:205\n",
       "[133] +(a::FillArrays.Fill{T, 1, Axes} where Axes, b::AbstractRange) where T in FillArrays at /Users/uqjnazar/.julia/packages/FillArrays/5CbY2/src/FillArrays.jl:200\n",
       "[134] +(a::FillArrays.AbstractFill) in FillArrays at /Users/uqjnazar/.julia/packages/FillArrays/5CbY2/src/FillArrays.jl:190\n",
       "[135] +(a::FillArrays.AbstractFill{T, N, Axes} where {N, Axes}, b::FillArrays.Zeros{V, N, Axes} where {N, Axes}) where {T, V} in FillArrays at /Users/uqjnazar/.julia/packages/FillArrays/5CbY2/src/fillalgebra.jl:171\n",
       "[136] +(a::FillArrays.AbstractFill{T, N, Axes} where Axes, b::FillArrays.AbstractFill{V, N, Axes} where Axes) where {T, V, N} in FillArrays at /Users/uqjnazar/.julia/packages/FillArrays/5CbY2/src/FillArrays.jl:194\n",
       "[137] +(F::LinearAlgebra.Hessenberg, J::LinearAlgebra.UniformScaling) in LinearAlgebra at /Applications/Julia-1.6.app/Contents/Resources/julia/share/julia/stdlib/v1.6/LinearAlgebra/src/hessenberg.jl:559\n",
       "[138] +(y::AbstractFloat, x::Bool) in Base at bool.jl:102\n",
       "[139] +(r1::StepRangeLen{T, R, S} where S, r2::StepRangeLen{T, R, S} where S) where {R<:Base.TwicePrecision, T} in Base at twiceprecision.jl:574\n",
       "[140] +(r1::StepRangeLen{T, S, S1} where S1, r2::StepRangeLen{T, S, S1} where S1) where {T, S} in Base at range.jl:1124\n",
       "[141] +(r1::Union{LinRange, OrdinalRange, StepRangeLen}, r2::Union{LinRange, OrdinalRange, StepRangeLen}) in Base at range.jl:1117\n",
       "[142] +(index1::CartesianIndex{N}, index2::CartesianIndex{N}) where N in Base.IteratorsMD at multidimensional.jl:114\n",
       "[143] +(x::Dates.Instant) in Dates at /Applications/Julia-1.6.app/Contents/Resources/julia/share/julia/stdlib/v1.6/Dates/src/arithmetic.jl:4\n",
       "[144] +(A::LinearAlgebra.Tridiagonal, B::LinearAlgebra.Tridiagonal) in LinearAlgebra at /Applications/Julia-1.6.app/Contents/Resources/julia/share/julia/stdlib/v1.6/LinearAlgebra/src/tridiag.jl:733\n",
       "[145] +(A::LinearAlgebra.Tridiagonal, B::LinearAlgebra.SymTridiagonal) in LinearAlgebra at /Applications/Julia-1.6.app/Contents/Resources/julia/share/julia/stdlib/v1.6/LinearAlgebra/src/special.jl:157\n",
       "[146] +(A::LinearAlgebra.Tridiagonal, B::LinearAlgebra.Diagonal) in LinearAlgebra at /Applications/Julia-1.6.app/Contents/Resources/julia/share/julia/stdlib/v1.6/LinearAlgebra/src/special.jl:173\n",
       "[147] +(A::LinearAlgebra.Tridiagonal, B::LinearAlgebra.Bidiagonal) in LinearAlgebra at /Applications/Julia-1.6.app/Contents/Resources/julia/share/julia/stdlib/v1.6/LinearAlgebra/src/special.jl:193\n",
       "[148] +(A::LinearAlgebra.Tridiagonal{var\"#s832\", V} where {var\"#s832\"<:Number, V<:AbstractVector{var\"#s832\"}}, B::LinearAlgebra.UniformScaling) in LinearAlgebra at /Applications/Julia-1.6.app/Contents/Resources/julia/share/julia/stdlib/v1.6/LinearAlgebra/src/special.jl:226\n",
       "[149] +(x::T, y::Integer) where T<:AbstractChar in Base at char.jl:223\n",
       "[150] +(A::SparseArrays.AbstractSparseMatrix{Tv, Ti} where {Tv, Ti}, B::LinearAlgebra.Hermitian{var\"#s832\", var\"#s831\"} where {var\"#s832\", var\"#s831\"<:(SparseArrays.AbstractSparseMatrix{Tv, Ti} where {Tv, Ti})}) in SparseArrays at /Applications/Julia-1.6.app/Contents/Resources/julia/share/julia/stdlib/v1.6/SparseArrays/src/linalg.jl:14\n",
       "[151] +(A::SparseArrays.AbstractSparseMatrix{Tv, Ti} where {Tv, Ti}, B::LinearAlgebra.Hermitian) in SparseArrays at /Applications/Julia-1.6.app/Contents/Resources/julia/share/julia/stdlib/v1.6/SparseArrays/src/linalg.jl:17\n",
       "[152] +(A::SparseArrays.AbstractSparseMatrix{Tv, Ti} where {Tv, Ti}, B::LinearAlgebra.Symmetric{var\"#s832\", var\"#s831\"} where {var\"#s832\", var\"#s831\"<:(SparseArrays.AbstractSparseMatrix{Tv, Ti} where {Tv, Ti})}) in SparseArrays at /Applications/Julia-1.6.app/Contents/Resources/julia/share/julia/stdlib/v1.6/SparseArrays/src/linalg.jl:14\n",
       "[153] +(A::SparseArrays.AbstractSparseMatrix{Tv, Ti} where {Tv, Ti}, B::LinearAlgebra.Symmetric) in SparseArrays at /Applications/Julia-1.6.app/Contents/Resources/julia/share/julia/stdlib/v1.6/SparseArrays/src/linalg.jl:17\n",
       "[154] +(x::Dates.AbstractTime, y::Missing) in Dates at /Applications/Julia-1.6.app/Contents/Resources/julia/share/julia/stdlib/v1.6/Dates/src/arithmetic.jl:88\n",
       "[155] +(a::PDMats.PDSparseMat, b::PDMats.PDSparseMat) in PDMats at /Users/uqjnazar/.julia/packages/PDMats/vgpB7/src/addition.jl:36\n",
       "[156] +(a::PDMats.PDSparseMat, b::PDMats.ScalMat) in PDMats at /Users/uqjnazar/.julia/packages/PDMats/vgpB7/src/addition.jl:35\n",
       "[157] +(a::PDMats.PDSparseMat, b::PDMats.PDiagMat) in PDMats at /Users/uqjnazar/.julia/packages/PDMats/vgpB7/src/addition.jl:34\n",
       "[158] +(a::PDMats.PDSparseMat, b::PDMats.PDMat) in PDMats at /Users/uqjnazar/.julia/packages/PDMats/vgpB7/src/addition.jl:33\n",
       "[159] +(a::PDMats.PDSparseMat, b::PDMats.AbstractPDMat) in PDMats at /Users/uqjnazar/.julia/packages/PDMats/vgpB7/src/addition.jl:8\n",
       "[160] +(x::AbstractArray{var\"#s832\", N} where {var\"#s832\"<:Dates.TimeType, N}, y::Union{Dates.CompoundPeriod, Dates.Period}) in Dates at /Applications/Julia-1.6.app/Contents/Resources/julia/share/julia/stdlib/v1.6/Dates/src/deprecated.jl:6\n",
       "[161] +(c::AbstractVector{T} where T, d::MvNormal) in Distributions at /Users/uqjnazar/.julia/packages/Distributions/fXTVC/src/multivariate/mvnormal.jl:273\n",
       "[162] +(A::SparseArrays.AbstractSparseMatrixCSC, B::SparseArrays.AbstractSparseMatrixCSC) in SparseArrays at /Applications/Julia-1.6.app/Contents/Resources/julia/share/julia/stdlib/v1.6/SparseArrays/src/sparsematrix.jl:1741\n",
       "[163] +(x::SparseArrays.AbstractSparseVector{Tv, Ti} where {Tv, Ti}, y::SparseArrays.AbstractSparseVector{Tv, Ti} where {Tv, Ti}) in SparseArrays at /Applications/Julia-1.6.app/Contents/Resources/julia/share/julia/stdlib/v1.6/SparseArrays/src/sparsevector.jl:1345\n",
       "[164] +(A::SparseArrays.AbstractSparseMatrixCSC, B::Array) in SparseArrays at /Applications/Julia-1.6.app/Contents/Resources/julia/share/julia/stdlib/v1.6/SparseArrays/src/sparsematrix.jl:1744\n",
       "[165] +(A::SparseArrays.AbstractSparseMatrixCSC, J::LinearAlgebra.UniformScaling) in SparseArrays at /Applications/Julia-1.6.app/Contents/Resources/julia/share/julia/stdlib/v1.6/SparseArrays/src/sparsematrix.jl:3797\n",
       "[166] +(A::LinearAlgebra.SymTridiagonal, B::LinearAlgebra.SymTridiagonal) in LinearAlgebra at /Applications/Julia-1.6.app/Contents/Resources/julia/share/julia/stdlib/v1.6/LinearAlgebra/src/tridiag.jl:205\n",
       "[167] +(A::LinearAlgebra.SymTridiagonal, B::LinearAlgebra.Diagonal) in LinearAlgebra at /Applications/Julia-1.6.app/Contents/Resources/julia/share/julia/stdlib/v1.6/LinearAlgebra/src/special.jl:145\n",
       "[168] +(A::LinearAlgebra.SymTridiagonal, B::LinearAlgebra.Tridiagonal) in LinearAlgebra at /Applications/Julia-1.6.app/Contents/Resources/julia/share/julia/stdlib/v1.6/LinearAlgebra/src/special.jl:159\n",
       "[169] +(A::LinearAlgebra.SymTridiagonal, B::LinearAlgebra.Bidiagonal) in LinearAlgebra at /Applications/Julia-1.6.app/Contents/Resources/julia/share/julia/stdlib/v1.6/LinearAlgebra/src/special.jl:213\n",
       "[170] +(A::AbstractArray, B::AbstractArray) in Base at arraymath.jl:37\n",
       "[171] +(A::LinearAlgebra.SymTridiagonal{var\"#s832\", V} where {var\"#s832\"<:Number, V<:AbstractVector{var\"#s832\"}}, B::LinearAlgebra.UniformScaling) in LinearAlgebra at /Applications/Julia-1.6.app/Contents/Resources/julia/share/julia/stdlib/v1.6/LinearAlgebra/src/special.jl:231\n",
       "[172] +(p::SpecialFunctions.SimplePoly{S}, q::SpecialFunctions.SimplePoly{T}) where {S, T} in SpecialFunctions at /Users/uqjnazar/.julia/packages/SpecialFunctions/Bm58S/src/expint.jl:11\n",
       "[173] +(::Missing) in Base at missing.jl:101\n",
       "[174] +(::Missing, ::Missing) in Base at missing.jl:115\n",
       "[175] +(::Missing, ::Number) in Base at missing.jl:116\n",
       "[176] +(x::Missing, y::Dates.AbstractTime) in Dates at /Applications/Julia-1.6.app/Contents/Resources/julia/share/julia/stdlib/v1.6/Dates/src/arithmetic.jl:89\n",
       "[177] +(x::BigFloat, y::BigFloat) in Base.MPFR at mpfr.jl:364\n",
       "[178] +(x::BigFloat, c::Union{UInt16, UInt32, UInt64, UInt8}) in Base.MPFR at mpfr.jl:371\n",
       "[179] +(x::BigFloat, c::Union{Int16, Int32, Int64, Int8}) in Base.MPFR at mpfr.jl:379\n",
       "[180] +(x::BigFloat, c::Union{Float16, Float32, Float64}) in Base.MPFR at mpfr.jl:387\n",
       "[181] +(x::BigFloat, c::BigInt) in Base.MPFR at mpfr.jl:395\n",
       "[182] +(a::BigFloat, b::BigFloat, c::BigFloat) in Base.MPFR at mpfr.jl:536\n",
       "[183] +(a::BigFloat, b::BigFloat, c::BigFloat, d::BigFloat) in Base.MPFR at mpfr.jl:542\n",
       "[184] +(a::BigFloat, b::BigFloat, c::BigFloat, d::BigFloat, e::BigFloat) in Base.MPFR at mpfr.jl:549\n",
       "[185] +(x::BigInt, y::BigInt) in Base.GMP at gmp.jl:479\n",
       "[186] +(a::BigInt, b::BigInt, c::BigInt) in Base.GMP at gmp.jl:519\n",
       "[187] +(a::BigInt, b::BigInt, c::BigInt, d::BigInt) in Base.GMP at gmp.jl:520\n",
       "[188] +(a::BigInt, b::BigInt, c::BigInt, d::BigInt, e::BigInt) in Base.GMP at gmp.jl:521\n",
       "[189] +(x::BigInt, c::Union{UInt16, UInt32, UInt64, UInt8}) in Base.GMP at gmp.jl:527\n",
       "[190] +(x::BigInt, c::Union{Int16, Int32, Int64, Int8}) in Base.GMP at gmp.jl:533\n",
       "[191] +(c::BigInt, x::BigFloat) in Base.MPFR at mpfr.jl:400\n",
       "[192] +(z::Complex{Bool}, x::Bool) in Base at complex.jl:287\n",
       "[193] +(z::Complex, x::Bool) in Base at complex.jl:294\n",
       "[194] +(z::Complex{Bool}, x::Real) in Base at complex.jl:301\n",
       "[195] +(z::Complex) in Base at complex.jl:273\n",
       "[196] +(z::Complex, x::Real) in Base at complex.jl:313\n",
       "[197] +(x::Float32, y::Float32) in Base at float.jl:325\n",
       "[198] +(a::Pkg.Resolve.VersionWeight, b::Pkg.Resolve.VersionWeight) in Pkg.Resolve at /Applications/Julia-1.6.app/Contents/Resources/julia/share/julia/stdlib/v1.6/Pkg/src/Resolve/versionweights.jl:22\n",
       "[199] +(level::Base.CoreLogging.LogLevel, inc::Integer) in Base.CoreLogging at logging.jl:131\n",
       "[200] +(::ChainRulesCore.ZeroTangent, b::ChainRulesCore.Tangent) in ChainRulesCore at /Users/uqjnazar/.julia/packages/ChainRulesCore/GciYT/src/differential_arithmetic.jl:115\n",
       "[201] +(::ChainRulesCore.ZeroTangent, b::ChainRulesCore.AbstractThunk) in ChainRulesCore at /Users/uqjnazar/.julia/packages/ChainRulesCore/GciYT/src/differential_arithmetic.jl:115\n",
       "[202] +(::ChainRulesCore.ZeroTangent, ::ChainRulesCore.ZeroTangent) in ChainRulesCore at /Users/uqjnazar/.julia/packages/ChainRulesCore/GciYT/src/differential_arithmetic.jl:109\n",
       "[203] +(::ChainRulesCore.ZeroTangent, ::ChainRulesCore.NoTangent) in ChainRulesCore at /Users/uqjnazar/.julia/packages/ChainRulesCore/GciYT/src/differential_arithmetic.jl:90\n",
       "[204] +(::ChainRulesCore.ZeroTangent, x::ChainRulesCore.NotImplemented) in ChainRulesCore at /Users/uqjnazar/.julia/packages/ChainRulesCore/GciYT/src/differential_arithmetic.jl:20\n",
       "[205] +(::ChainRulesCore.ZeroTangent, b) in ChainRulesCore at /Users/uqjnazar/.julia/packages/ChainRulesCore/GciYT/src/differential_arithmetic.jl:115\n",
       "[206] +(x::Dates.CompoundPeriod, y::Dates.Period) in Dates at /Applications/Julia-1.6.app/Contents/Resources/julia/share/julia/stdlib/v1.6/Dates/src/periods.jl:352\n",
       "[207] +(x::Dates.CompoundPeriod, y::Dates.CompoundPeriod) in Dates at /Applications/Julia-1.6.app/Contents/Resources/julia/share/julia/stdlib/v1.6/Dates/src/periods.jl:354\n",
       "[208] +(x::Dates.CompoundPeriod, y::Dates.TimeType) in Dates at /Applications/Julia-1.6.app/Contents/Resources/julia/share/julia/stdlib/v1.6/Dates/src/periods.jl:382\n",
       "[209] +(x::Float64, y::Float64) in Base at float.jl:326\n",
       "[210] +(dt::Dates.Date, t::Dates.Time) in Dates at /Applications/Julia-1.6.app/Contents/Resources/julia/share/julia/stdlib/v1.6/Dates/src/arithmetic.jl:19\n",
       "[211] +(dt::Dates.Date, y::Dates.Year) in Dates at /Applications/Julia-1.6.app/Contents/Resources/julia/share/julia/stdlib/v1.6/Dates/src/arithmetic.jl:27\n",
       "[212] +(dt::Dates.Date, z::Dates.Month) in Dates at /Applications/Julia-1.6.app/Contents/Resources/julia/share/julia/stdlib/v1.6/Dates/src/arithmetic.jl:54\n",
       "[213] +(x::Dates.Date, y::Dates.Quarter) in Dates at /Applications/Julia-1.6.app/Contents/Resources/julia/share/julia/stdlib/v1.6/Dates/src/arithmetic.jl:73\n",
       "[214] +(x::Dates.Date, y::Dates.Week) in Dates at /Applications/Julia-1.6.app/Contents/Resources/julia/share/julia/stdlib/v1.6/Dates/src/arithmetic.jl:77\n",
       "[215] +(x::Dates.Date, y::Dates.Day) in Dates at /Applications/Julia-1.6.app/Contents/Resources/julia/share/julia/stdlib/v1.6/Dates/src/arithmetic.jl:79\n",
       "[216] +(x::Rational{BigInt}, y::Rational{BigInt}) in Base.GMP.MPQ at gmp.jl:886\n",
       "[217] +(x::Rational) in Base at rational.jl:267\n",
       "[218] +(x::Rational, y::Rational) in Base at rational.jl:283\n",
       "[219] +(a::Pkg.Resolve.FieldValue, b::Pkg.Resolve.FieldValue) in Pkg.Resolve at /Applications/Julia-1.6.app/Contents/Resources/julia/share/julia/stdlib/v1.6/Pkg/src/Resolve/fieldvalues.jl:43\n",
       "[220] +(x::Float16, y::Float16) in Base at float.jl:324\n",
       "[221] +(dt::Dates.DateTime, y::Dates.Year) in Dates at /Applications/Julia-1.6.app/Contents/Resources/julia/share/julia/stdlib/v1.6/Dates/src/arithmetic.jl:23\n",
       "[222] +(dt::Dates.DateTime, z::Dates.Month) in Dates at /Applications/Julia-1.6.app/Contents/Resources/julia/share/julia/stdlib/v1.6/Dates/src/arithmetic.jl:47\n",
       "[223] +(x::Dates.DateTime, y::Dates.Quarter) in Dates at /Applications/Julia-1.6.app/Contents/Resources/julia/share/julia/stdlib/v1.6/Dates/src/arithmetic.jl:75\n",
       "[224] +(x::Dates.DateTime, y::Dates.Period) in Dates at /Applications/Julia-1.6.app/Contents/Resources/julia/share/julia/stdlib/v1.6/Dates/src/arithmetic.jl:81\n",
       "[225] +(B::BitMatrix, J::LinearAlgebra.UniformScaling) in LinearAlgebra at /Applications/Julia-1.6.app/Contents/Resources/julia/share/julia/stdlib/v1.6/LinearAlgebra/src/uniformscaling.jl:152\n",
       "[226] +(A::AbstractMatrix{T} where T, J::LinearAlgebra.UniformScaling) in LinearAlgebra at /Applications/Julia-1.6.app/Contents/Resources/julia/share/julia/stdlib/v1.6/LinearAlgebra/src/uniformscaling.jl:215\n",
       "[227] +(x::AbstractArray{var\"#s79\", N} where {var\"#s79\"<:Number, N}) in Base at abstractarraymath.jl:97\n",
       "[228] +(x::Bool) in Base at bool.jl:89\n",
       "[229] +(x::Number, y::Base.TwicePrecision) in Base at twiceprecision.jl:271\n",
       "[230] +(::Number, ::Missing) in Base at missing.jl:117\n",
       "[231] +(x::Number, J::LinearAlgebra.UniformScaling) in LinearAlgebra at /Applications/Julia-1.6.app/Contents/Resources/julia/share/julia/stdlib/v1.6/LinearAlgebra/src/uniformscaling.jl:146\n",
       "[232] +(x::Integer, y::Ptr) in Base at pointer.jl:161\n",
       "[233] +(y::Integer, x::Rational) in Base at rational.jl:295\n",
       "[234] +(x::Integer, y::AbstractChar) in Base at char.jl:224\n",
       "[235] +(x::Real, d::UnivariateDistribution{S} where S<:ValueSupport) in Distributions at /Users/uqjnazar/.julia/packages/Distributions/fXTVC/src/univariate/locationscale.jl:125\n",
       "[236] +(x::Bool, y::Bool) in Base at bool.jl:92\n",
       "[237] +(a::Integer, b::Integer) in Base at int.jl:919\n",
       "[238] +(x::Bool, y::T) where T<:AbstractFloat in Base at bool.jl:99\n",
       "[239] +(x::Bool, z::Complex{Bool}) in Base at complex.jl:286\n",
       "[240] +(x::Real, z::Complex{Bool}) in Base at complex.jl:300\n",
       "[241] +(x::Bool, z::Complex) in Base at complex.jl:293\n",
       "[242] +(x::Real, z::Complex) in Base at complex.jl:312\n",
       "[243] +(x::Number) in Base at operators.jl:515\n",
       "[244] +(x::T, y::T) where T<:Number in Base at promotion.jl:396\n",
       "[245] +(x::Number, y::Number) in Base at promotion.jl:321\n",
       "[246] +(::ChainRulesCore.NoTangent, ::ChainRulesCore.ZeroTangent) in ChainRulesCore at /Users/uqjnazar/.julia/packages/ChainRulesCore/GciYT/src/differential_arithmetic.jl:89\n",
       "[247] +(::ChainRulesCore.NoTangent, b::ChainRulesCore.Tangent) in ChainRulesCore at /Users/uqjnazar/.julia/packages/ChainRulesCore/GciYT/src/differential_arithmetic.jl:75\n",
       "[248] +(::ChainRulesCore.NoTangent, b::ChainRulesCore.AbstractThunk) in ChainRulesCore at /Users/uqjnazar/.julia/packages/ChainRulesCore/GciYT/src/differential_arithmetic.jl:75\n",
       "[249] +(::ChainRulesCore.NoTangent, ::ChainRulesCore.NoTangent) in ChainRulesCore at /Users/uqjnazar/.julia/packages/ChainRulesCore/GciYT/src/differential_arithmetic.jl:69\n",
       "[250] +(::ChainRulesCore.NoTangent, x::ChainRulesCore.NotImplemented) in ChainRulesCore at /Users/uqjnazar/.julia/packages/ChainRulesCore/GciYT/src/differential_arithmetic.jl:26\n",
       "[251] +(::ChainRulesCore.NoTangent, b) in ChainRulesCore at /Users/uqjnazar/.julia/packages/ChainRulesCore/GciYT/src/differential_arithmetic.jl:75\n",
       "[252] +(t::Dates.Time, dt::Dates.Date) in Dates at /Applications/Julia-1.6.app/Contents/Resources/julia/share/julia/stdlib/v1.6/Dates/src/arithmetic.jl:20\n",
       "[253] +(x::Dates.Time, y::Dates.TimePeriod) in Dates at /Applications/Julia-1.6.app/Contents/Resources/julia/share/julia/stdlib/v1.6/Dates/src/arithmetic.jl:83\n",
       "[254] +(x::Dates.TimeType) in Dates at /Applications/Julia-1.6.app/Contents/Resources/julia/share/julia/stdlib/v1.6/Dates/src/arithmetic.jl:8\n",
       "[255] +(a::Dates.TimeType, b::Dates.Period, c::Dates.Period) in Dates at /Applications/Julia-1.6.app/Contents/Resources/julia/share/julia/stdlib/v1.6/Dates/src/periods.jl:373\n",
       "[256] +(a::Dates.TimeType, b::Dates.Period, c::Dates.Period, d::Dates.Period...) in Dates at /Applications/Julia-1.6.app/Contents/Resources/julia/share/julia/stdlib/v1.6/Dates/src/periods.jl:374\n",
       "[257] +(x::Dates.TimeType, y::Dates.CompoundPeriod) in Dates at /Applications/Julia-1.6.app/Contents/Resources/julia/share/julia/stdlib/v1.6/Dates/src/periods.jl:376\n",
       "[258] +(x::ChainRulesCore.NotImplemented) in ChainRulesCore at /Users/uqjnazar/.julia/packages/ChainRulesCore/GciYT/src/differential_arithmetic.jl:52\n",
       "[259] +(x::ChainRulesCore.NotImplemented, ::ChainRulesCore.Tangent) in ChainRulesCore at /Users/uqjnazar/.julia/packages/ChainRulesCore/GciYT/src/differential_arithmetic.jl:25\n",
       "[260] +(x::ChainRulesCore.NotImplemented, ::ChainRulesCore.AbstractThunk) in ChainRulesCore at /Users/uqjnazar/.julia/packages/ChainRulesCore/GciYT/src/differential_arithmetic.jl:25\n",
       "[261] +(x::ChainRulesCore.NotImplemented, ::ChainRulesCore.NoTangent) in ChainRulesCore at /Users/uqjnazar/.julia/packages/ChainRulesCore/GciYT/src/differential_arithmetic.jl:25\n",
       "[262] +(x::ChainRulesCore.NotImplemented, ::ChainRulesCore.NotImplemented) in ChainRulesCore at /Users/uqjnazar/.julia/packages/ChainRulesCore/GciYT/src/differential_arithmetic.jl:21\n",
       "[263] +(x::ChainRulesCore.NotImplemented, ::ChainRulesCore.ZeroTangent) in ChainRulesCore at /Users/uqjnazar/.julia/packages/ChainRulesCore/GciYT/src/differential_arithmetic.jl:19\n",
       "[264] +(x::ChainRulesCore.NotImplemented, ::Any) in ChainRulesCore at /Users/uqjnazar/.julia/packages/ChainRulesCore/GciYT/src/differential_arithmetic.jl:25\n",
       "[265] +(x::ChainRulesCore.AbstractTangent) in ChainRulesCore at /Users/uqjnazar/.julia/packages/ChainRulesCore/GciYT/src/differentials/abstract_differential.jl:38\n",
       "[266] +(a::P, d::ChainRulesCore.Tangent{P, T} where T) where P in ChainRulesCore at /Users/uqjnazar/.julia/packages/ChainRulesCore/GciYT/src/differential_arithmetic.jl:149\n",
       "[267] +(a, b::ChainRulesCore.AbstractThunk) in ChainRulesCore at /Users/uqjnazar/.julia/packages/ChainRulesCore/GciYT/src/differential_arithmetic.jl:139\n",
       "[268] +(a, ::ChainRulesCore.ZeroTangent) in ChainRulesCore at /Users/uqjnazar/.julia/packages/ChainRulesCore/GciYT/src/differential_arithmetic.jl:116\n",
       "[269] +(a, ::ChainRulesCore.NoTangent) in ChainRulesCore at /Users/uqjnazar/.julia/packages/ChainRulesCore/GciYT/src/differential_arithmetic.jl:76\n",
       "[270] +(::Any, x::ChainRulesCore.NotImplemented) in ChainRulesCore at /Users/uqjnazar/.julia/packages/ChainRulesCore/GciYT/src/differential_arithmetic.jl:26\n",
       "[271] +(a, b, c, xs...) in Base at operators.jl:560"
      ]
     },
     "execution_count": 3,
     "metadata": {},
     "output_type": "execute_result"
    }
   ],
   "source": [
    "methods(+)"
   ]
  },
  {
   "cell_type": "code",
   "execution_count": 4,
   "metadata": {},
   "outputs": [],
   "source": [
    "nothing"
   ]
  },
  {
   "cell_type": "code",
   "execution_count": 5,
   "metadata": {},
   "outputs": [
    {
     "data": {
      "text/plain": [
       "Nothing"
      ]
     },
     "execution_count": 5,
     "metadata": {},
     "output_type": "execute_result"
    }
   ],
   "source": [
    "typeof(nothing)"
   ]
  },
  {
   "cell_type": "code",
   "execution_count": 6,
   "metadata": {},
   "outputs": [
    {
     "data": {
      "text/plain": [
       "my_f (generic function with 1 method)"
      ]
     },
     "execution_count": 6,
     "metadata": {},
     "output_type": "execute_result"
    }
   ],
   "source": [
    "my_f(x,y,z) = x + y + z"
   ]
  },
  {
   "cell_type": "code",
   "execution_count": 7,
   "metadata": {},
   "outputs": [
    {
     "ename": "LoadError",
     "evalue": "MethodError: no method matching my_f(::Vector{Int64})\n\u001b[0mClosest candidates are:\n\u001b[0m  my_f(::Any, \u001b[91m::Any\u001b[39m, \u001b[91m::Any\u001b[39m) at In[6]:1",
     "output_type": "error",
     "traceback": [
      "MethodError: no method matching my_f(::Vector{Int64})\n\u001b[0mClosest candidates are:\n\u001b[0m  my_f(::Any, \u001b[91m::Any\u001b[39m, \u001b[91m::Any\u001b[39m) at In[6]:1",
      "",
      "Stacktrace:",
      " [1] top-level scope",
      "   @ In[7]:2",
      " [2] eval",
      "   @ ./boot.jl:360 [inlined]",
      " [3] include_string(mapexpr::typeof(REPL.softscope), mod::Module, code::String, filename::String)",
      "   @ Base ./loading.jl:1094"
     ]
    }
   ],
   "source": [
    "data = [1,2,3]\n",
    "my_f(data)"
   ]
  },
  {
   "cell_type": "code",
   "execution_count": 8,
   "metadata": {},
   "outputs": [
    {
     "data": {
      "text/plain": [
       "6"
      ]
     },
     "execution_count": 8,
     "metadata": {},
     "output_type": "execute_result"
    }
   ],
   "source": [
    "my_f(data...)"
   ]
  },
  {
   "cell_type": "code",
   "execution_count": 9,
   "metadata": {},
   "outputs": [
    {
     "name": "stdout",
     "output_type": "stream",
     "text": [
      "search: \u001b[0m\u001b[1mm\u001b[22m\u001b[0m\u001b[1mi\u001b[22m\u001b[0m\u001b[1mn\u001b[22m \u001b[0m\u001b[1mm\u001b[22m\u001b[0m\u001b[1mi\u001b[22m\u001b[0m\u001b[1mn\u001b[22mmax \u001b[0m\u001b[1mm\u001b[22m\u001b[0m\u001b[1mi\u001b[22m\u001b[0m\u001b[1mn\u001b[22mimum \u001b[0m\u001b[1mm\u001b[22m\u001b[0m\u001b[1mi\u001b[22m\u001b[0m\u001b[1mn\u001b[22mimum! arg\u001b[0m\u001b[1mm\u001b[22m\u001b[0m\u001b[1mi\u001b[22m\u001b[0m\u001b[1mn\u001b[22m \u001b[0m\u001b[1mM\u001b[22ma\u001b[0m\u001b[1mi\u001b[22m\u001b[0m\u001b[1mn\u001b[22m type\u001b[0m\u001b[1mm\u001b[22m\u001b[0m\u001b[1mi\u001b[22m\u001b[0m\u001b[1mn\u001b[22m find\u001b[0m\u001b[1mm\u001b[22m\u001b[0m\u001b[1mi\u001b[22m\u001b[0m\u001b[1mn\u001b[22m find\u001b[0m\u001b[1mm\u001b[22m\u001b[0m\u001b[1mi\u001b[22m\u001b[0m\u001b[1mn\u001b[22m!\n",
      "\n"
     ]
    },
    {
     "data": {
      "text/latex": [
       "\\begin{verbatim}\n",
       "min(x, y, ...)\n",
       "\\end{verbatim}\n",
       "Return the minimum of the arguments. See also the \\href{@ref}{\\texttt{minimum}} function to take the minimum element from a collection.\n",
       "\n",
       "\\section{Examples}\n",
       "\\begin{verbatim}\n",
       "julia> min(2, 5, 1)\n",
       "1\n",
       "\\end{verbatim}\n"
      ],
      "text/markdown": [
       "```\n",
       "min(x, y, ...)\n",
       "```\n",
       "\n",
       "Return the minimum of the arguments. See also the [`minimum`](@ref) function to take the minimum element from a collection.\n",
       "\n",
       "# Examples\n",
       "\n",
       "```jldoctest\n",
       "julia> min(2, 5, 1)\n",
       "1\n",
       "```\n"
      ],
      "text/plain": [
       "\u001b[36m  min(x, y, ...)\u001b[39m\n",
       "\n",
       "  Return the minimum of the arguments. See also the \u001b[36mminimum\u001b[39m function to take\n",
       "  the minimum element from a collection.\n",
       "\n",
       "\u001b[1m  Examples\u001b[22m\n",
       "\u001b[1m  ≡≡≡≡≡≡≡≡≡≡\u001b[22m\n",
       "\n",
       "\u001b[36m  julia> min(2, 5, 1)\u001b[39m\n",
       "\u001b[36m  1\u001b[39m"
      ]
     },
     "execution_count": 9,
     "metadata": {},
     "output_type": "execute_result"
    }
   ],
   "source": [
    "?min  #different from minimum"
   ]
  },
  {
   "cell_type": "code",
   "execution_count": 12,
   "metadata": {},
   "outputs": [
    {
     "data": {
      "text/plain": [
       "-1"
      ]
     },
     "execution_count": 12,
     "metadata": {},
     "output_type": "execute_result"
    }
   ],
   "source": [
    "min(2,3,-1)"
   ]
  },
  {
   "cell_type": "code",
   "execution_count": 18,
   "metadata": {},
   "outputs": [
    {
     "data": {
      "text/plain": [
       "my_min (generic function with 1 method)"
      ]
     },
     "execution_count": 18,
     "metadata": {},
     "output_type": "execute_result"
    }
   ],
   "source": [
    "my_min(data) = begin\n",
    "    @show length(data) #for debug\n",
    "    min(data...)\n",
    "end"
   ]
  },
  {
   "cell_type": "code",
   "execution_count": 14,
   "metadata": {},
   "outputs": [
    {
     "data": {
      "text/plain": [
       "3-element Vector{Int64}:\n",
       " 1\n",
       " 2\n",
       " 3"
      ]
     },
     "execution_count": 14,
     "metadata": {},
     "output_type": "execute_result"
    }
   ],
   "source": [
    "data"
   ]
  },
  {
   "cell_type": "code",
   "execution_count": 15,
   "metadata": {},
   "outputs": [
    {
     "ename": "LoadError",
     "evalue": "MethodError: no method matching min(::Vector{Int64})\n\u001b[0mClosest candidates are:\n\u001b[0m  min(::Any, \u001b[91m::Missing\u001b[39m) at missing.jl:127\n\u001b[0m  min(::Any, \u001b[91m::Any\u001b[39m) at operators.jl:433\n\u001b[0m  min(::Any, \u001b[91m::Any\u001b[39m, \u001b[91m::Any\u001b[39m, \u001b[91m::Any...\u001b[39m) at operators.jl:560\n\u001b[0m  ...",
     "output_type": "error",
     "traceback": [
      "MethodError: no method matching min(::Vector{Int64})\n\u001b[0mClosest candidates are:\n\u001b[0m  min(::Any, \u001b[91m::Missing\u001b[39m) at missing.jl:127\n\u001b[0m  min(::Any, \u001b[91m::Any\u001b[39m) at operators.jl:433\n\u001b[0m  min(::Any, \u001b[91m::Any\u001b[39m, \u001b[91m::Any\u001b[39m, \u001b[91m::Any...\u001b[39m) at operators.jl:560\n\u001b[0m  ...",
      "",
      "Stacktrace:",
      " [1] top-level scope",
      "   @ In[15]:1",
      " [2] eval",
      "   @ ./boot.jl:360 [inlined]",
      " [3] include_string(mapexpr::typeof(REPL.softscope), mod::Module, code::String, filename::String)",
      "   @ Base ./loading.jl:1094"
     ]
    }
   ],
   "source": [
    "min(data) #system min doesn't work on an array (use minimum)"
   ]
  },
  {
   "cell_type": "code",
   "execution_count": 19,
   "metadata": {},
   "outputs": [
    {
     "name": "stdout",
     "output_type": "stream",
     "text": [
      "length(data) = 3\n"
     ]
    },
    {
     "data": {
      "text/plain": [
       "1"
      ]
     },
     "execution_count": 19,
     "metadata": {},
     "output_type": "execute_result"
    }
   ],
   "source": [
    "my_min(data)"
   ]
  },
  {
   "cell_type": "code",
   "execution_count": 23,
   "metadata": {},
   "outputs": [
    {
     "name": "stdout",
     "output_type": "stream",
     "text": [
      "Zeros of the function f(x): [-0.19999999999999998, 0.5]\n"
     ]
    }
   ],
   "source": [
    "using Roots\n",
    "\n",
    "function polynomialGenerator(a...)\n",
    "    n = length(a)-1\n",
    "    poly(x) = sum(a[i+1]*x^i for i in 0:n)\n",
    "    return poly\n",
    "end\n",
    "\n",
    "polynomial = polynomialGenerator(1,3,-10)\n",
    "zero_vals = find_zeros(polynomial,-10,10)\n",
    "println(\"Zeros of the function f(x): \", zero_vals)"
   ]
  },
  {
   "cell_type": "code",
   "execution_count": 24,
   "metadata": {},
   "outputs": [
    {
     "data": {
      "text/plain": [
       "my_density (generic function with 3 methods)"
      ]
     },
     "execution_count": 24,
     "metadata": {},
     "output_type": "execute_result"
    }
   ],
   "source": [
    "my_density(x::Float64, μ::Float64 = 0.0, σ::Float64 = 1.0) = exp(-(x-μ)^2/(2σ^2) ) / (σ*√(2π)) "
   ]
  },
  {
   "cell_type": "code",
   "execution_count": 25,
   "metadata": {},
   "outputs": [
    {
     "data": {
      "text/html": [
       "# 3 methods for generic function <b>my_density</b>:<ul><li> my_density(x::<b>Float64</b>) in Main at In[24]:1</li> <li> my_density(x::<b>Float64</b>, μ::<b>Float64</b>) in Main at In[24]:1</li> <li> my_density(x::<b>Float64</b>, μ::<b>Float64</b>, σ::<b>Float64</b>) in Main at In[24]:1</li> </ul>"
      ],
      "text/plain": [
       "# 3 methods for generic function \"my_density\":\n",
       "[1] my_density(x::Float64) in Main at In[24]:1\n",
       "[2] my_density(x::Float64, μ::Float64) in Main at In[24]:1\n",
       "[3] my_density(x::Float64, μ::Float64, σ::Float64) in Main at In[24]:1"
      ]
     },
     "execution_count": 25,
     "metadata": {},
     "output_type": "execute_result"
    }
   ],
   "source": [
    "methods(my_density)"
   ]
  },
  {
   "cell_type": "code",
   "execution_count": 26,
   "metadata": {},
   "outputs": [
    {
     "data": {
      "text/plain": [
       "Normal{Float64}(μ=0.0, σ=1.0)"
      ]
     },
     "execution_count": 26,
     "metadata": {},
     "output_type": "execute_result"
    }
   ],
   "source": [
    "Normal()"
   ]
  },
  {
   "cell_type": "code",
   "execution_count": null,
   "metadata": {},
   "outputs": [],
   "source": [
    "using Distributions\n",
    "x = 1.5\n",
    "@show pdf(Normal(),x), my_density(x)\n",
    "@show pdf(Normal(0.5),x), my_density(x,0.5);"
   ]
  },
  {
   "cell_type": "code",
   "execution_count": 27,
   "metadata": {},
   "outputs": [
    {
     "data": {
      "text/plain": [
       "my_density (generic function with 3 methods)"
      ]
     },
     "execution_count": 27,
     "metadata": {},
     "output_type": "execute_result"
    }
   ],
   "source": [
    "my_density(x::Float64 ; μ::Float64 = 0.0, σ::Float64 = 1.0) = exp(-(x-μ)^2/(2σ^2) ) / (σ*√(2π)) "
   ]
  },
  {
   "cell_type": "code",
   "execution_count": 28,
   "metadata": {},
   "outputs": [
    {
     "data": {
      "text/plain": [
       "0.07521855391129509"
      ]
     },
     "execution_count": 28,
     "metadata": {},
     "output_type": "execute_result"
    }
   ],
   "source": [
    "my_density(2.5;σ = 5.3,μ=2.3)"
   ]
  },
  {
   "cell_type": "code",
   "execution_count": 29,
   "metadata": {},
   "outputs": [
    {
     "data": {
      "text/plain": [
       "0.07521855391129509"
      ]
     },
     "execution_count": 29,
     "metadata": {},
     "output_type": "execute_result"
    }
   ],
   "source": [
    "my_density(2.5;μ=2.3,σ = 5.3)"
   ]
  },
  {
   "cell_type": "code",
   "execution_count": 30,
   "metadata": {},
   "outputs": [
    {
     "data": {
      "text/plain": [
       "0.07521855391129509"
      ]
     },
     "execution_count": 30,
     "metadata": {},
     "output_type": "execute_result"
    }
   ],
   "source": [
    "my_density(2.5, μ=2.3,σ = 5.3)"
   ]
  },
  {
   "cell_type": "code",
   "execution_count": 34,
   "metadata": {},
   "outputs": [
    {
     "name": "stdout",
     "output_type": "stream",
     "text": [
      "Base.Iterators.Pairs{Symbol, Any, Tuple{Symbol, Symbol, Symbol}, NamedTuple{(:a, :b, :c), Tuple{Int64, String, Symbol}}}(:a => 1, :b => \"two\", :c => :three)\n",
      "arg = Pair{Symbol, Any}(:a, 1)\n",
      "arg = Pair{Symbol, Any}(:b, \"two\")\n",
      "arg = Pair{Symbol, Any}(:c, :three)\n"
     ]
    }
   ],
   "source": [
    "function my_very_flexible_function(x::Number;kwargs...)\n",
    "    println(kwargs)\n",
    "    for arg in kwargs\n",
    "        @show arg\n",
    "    end\n",
    "end\n",
    "\n",
    "my_very_flexible_function(2.5,a=1,b=\"two\",c=:three)"
   ]
  },
  {
   "cell_type": "code",
   "execution_count": 35,
   "metadata": {},
   "outputs": [
    {
     "name": "stdout",
     "output_type": "stream",
     "text": [
      "search: \u001b[0m\u001b[1mf\u001b[22m\u001b[0m\u001b[1mi\u001b[22m\u001b[0m\u001b[1ml\u001b[22m\u001b[0m\u001b[1mt\u001b[22m\u001b[0m\u001b[1me\u001b[22m\u001b[0m\u001b[1mr\u001b[22m \u001b[0m\u001b[1mf\u001b[22m\u001b[0m\u001b[1mi\u001b[22m\u001b[0m\u001b[1ml\u001b[22m\u001b[0m\u001b[1mt\u001b[22m\u001b[0m\u001b[1me\u001b[22m\u001b[0m\u001b[1mr\u001b[22m! \u001b[0m\u001b[1mf\u001b[22m\u001b[0m\u001b[1mi\u001b[22me\u001b[0m\u001b[1ml\u001b[22md\u001b[0m\u001b[1mt\u001b[22myp\u001b[0m\u001b[1me\u001b[22m \u001b[0m\u001b[1mf\u001b[22m\u001b[0m\u001b[1mi\u001b[22me\u001b[0m\u001b[1ml\u001b[22md\u001b[0m\u001b[1mt\u001b[22myp\u001b[0m\u001b[1me\u001b[22ms\n",
      "\n"
     ]
    },
    {
     "data": {
      "text/latex": [
       "\\begin{verbatim}\n",
       "filter(f, a)\n",
       "\\end{verbatim}\n",
       "Return a copy of collection \\texttt{a}, removing elements for which \\texttt{f} is \\texttt{false}. The function \\texttt{f} is passed one argument.\n",
       "\n",
       "\\begin{quote}\n",
       "\\textbf{compat}\n",
       "\n",
       "Julia 1.4\n",
       "\n",
       "Support for \\texttt{a} as a tuple requires at least Julia 1.4.\n",
       "\n",
       "\\end{quote}\n",
       "\\section{Examples}\n",
       "\\begin{verbatim}\n",
       "julia> a = 1:10\n",
       "1:10\n",
       "\n",
       "julia> filter(isodd, a)\n",
       "5-element Vector{Int64}:\n",
       " 1\n",
       " 3\n",
       " 5\n",
       " 7\n",
       " 9\n",
       "\\end{verbatim}\n",
       "\\rule{\\textwidth}{1pt}\n",
       "\\begin{verbatim}\n",
       "filter(f, d::AbstractDict)\n",
       "\\end{verbatim}\n",
       "Return a copy of \\texttt{d}, removing elements for which \\texttt{f} is \\texttt{false}. The function \\texttt{f} is passed \\texttt{key=>value} pairs.\n",
       "\n",
       "\\section{Examples}\n",
       "\\begin{verbatim}\n",
       "julia> d = Dict(1=>\"a\", 2=>\"b\")\n",
       "Dict{Int64, String} with 2 entries:\n",
       "  2 => \"b\"\n",
       "  1 => \"a\"\n",
       "\n",
       "julia> filter(p->isodd(p.first), d)\n",
       "Dict{Int64, String} with 1 entry:\n",
       "  1 => \"a\"\n",
       "\\end{verbatim}\n",
       "\\rule{\\textwidth}{1pt}\n",
       "\\begin{verbatim}\n",
       "filter(f, itr::SkipMissing{<:AbstractArray})\n",
       "\\end{verbatim}\n",
       "Return a vector similar to the array wrapped by the given \\texttt{SkipMissing} iterator but with all missing elements and those for which \\texttt{f} returns \\texttt{false} removed.\n",
       "\n",
       "\\begin{quote}\n",
       "\\textbf{compat}\n",
       "\n",
       "Julia 1.2\n",
       "\n",
       "This method requires Julia 1.2 or later.\n",
       "\n",
       "\\end{quote}\n",
       "\\section{Examples}\n",
       "\\begin{verbatim}\n",
       "julia> x = [1 2; missing 4]\n",
       "2×2 Matrix{Union{Missing, Int64}}:\n",
       " 1         2\n",
       "  missing  4\n",
       "\n",
       "julia> filter(isodd, skipmissing(x))\n",
       "1-element Vector{Int64}:\n",
       " 1\n",
       "\\end{verbatim}\n"
      ],
      "text/markdown": [
       "```\n",
       "filter(f, a)\n",
       "```\n",
       "\n",
       "Return a copy of collection `a`, removing elements for which `f` is `false`. The function `f` is passed one argument.\n",
       "\n",
       "!!! compat \"Julia 1.4\"\n",
       "    Support for `a` as a tuple requires at least Julia 1.4.\n",
       "\n",
       "\n",
       "# Examples\n",
       "\n",
       "```jldoctest\n",
       "julia> a = 1:10\n",
       "1:10\n",
       "\n",
       "julia> filter(isodd, a)\n",
       "5-element Vector{Int64}:\n",
       " 1\n",
       " 3\n",
       " 5\n",
       " 7\n",
       " 9\n",
       "```\n",
       "\n",
       "---\n",
       "\n",
       "```\n",
       "filter(f, d::AbstractDict)\n",
       "```\n",
       "\n",
       "Return a copy of `d`, removing elements for which `f` is `false`. The function `f` is passed `key=>value` pairs.\n",
       "\n",
       "# Examples\n",
       "\n",
       "```jldoctest\n",
       "julia> d = Dict(1=>\"a\", 2=>\"b\")\n",
       "Dict{Int64, String} with 2 entries:\n",
       "  2 => \"b\"\n",
       "  1 => \"a\"\n",
       "\n",
       "julia> filter(p->isodd(p.first), d)\n",
       "Dict{Int64, String} with 1 entry:\n",
       "  1 => \"a\"\n",
       "```\n",
       "\n",
       "---\n",
       "\n",
       "```\n",
       "filter(f, itr::SkipMissing{<:AbstractArray})\n",
       "```\n",
       "\n",
       "Return a vector similar to the array wrapped by the given `SkipMissing` iterator but with all missing elements and those for which `f` returns `false` removed.\n",
       "\n",
       "!!! compat \"Julia 1.2\"\n",
       "    This method requires Julia 1.2 or later.\n",
       "\n",
       "\n",
       "# Examples\n",
       "\n",
       "```jldoctest\n",
       "julia> x = [1 2; missing 4]\n",
       "2×2 Matrix{Union{Missing, Int64}}:\n",
       " 1         2\n",
       "  missing  4\n",
       "\n",
       "julia> filter(isodd, skipmissing(x))\n",
       "1-element Vector{Int64}:\n",
       " 1\n",
       "```\n"
      ],
      "text/plain": [
       "\u001b[36m  filter(f, a)\u001b[39m\n",
       "\n",
       "  Return a copy of collection \u001b[36ma\u001b[39m, removing elements for which \u001b[36mf\u001b[39m is \u001b[36mfalse\u001b[39m. The\n",
       "  function \u001b[36mf\u001b[39m is passed one argument.\n",
       "\n",
       "\u001b[39m\u001b[1m  │ \u001b[22m\u001b[39m\u001b[1mJulia 1.4\u001b[22m\n",
       "\u001b[39m\u001b[1m  │\u001b[22m\n",
       "\u001b[39m\u001b[1m  │\u001b[22m  Support for \u001b[36ma\u001b[39m as a tuple requires at least Julia 1.4.\n",
       "\n",
       "\u001b[1m  Examples\u001b[22m\n",
       "\u001b[1m  ≡≡≡≡≡≡≡≡≡≡\u001b[22m\n",
       "\n",
       "\u001b[36m  julia> a = 1:10\u001b[39m\n",
       "\u001b[36m  1:10\u001b[39m\n",
       "\u001b[36m  \u001b[39m\n",
       "\u001b[36m  julia> filter(isodd, a)\u001b[39m\n",
       "\u001b[36m  5-element Vector{Int64}:\u001b[39m\n",
       "\u001b[36m   1\u001b[39m\n",
       "\u001b[36m   3\u001b[39m\n",
       "\u001b[36m   5\u001b[39m\n",
       "\u001b[36m   7\u001b[39m\n",
       "\u001b[36m   9\u001b[39m\n",
       "\n",
       "  ────────────────────────────────────────────────────────────────────────────\n",
       "\n",
       "\u001b[36m  filter(f, d::AbstractDict)\u001b[39m\n",
       "\n",
       "  Return a copy of \u001b[36md\u001b[39m, removing elements for which \u001b[36mf\u001b[39m is \u001b[36mfalse\u001b[39m. The function \u001b[36mf\u001b[39m\n",
       "  is passed \u001b[36mkey=>value\u001b[39m pairs.\n",
       "\n",
       "\u001b[1m  Examples\u001b[22m\n",
       "\u001b[1m  ≡≡≡≡≡≡≡≡≡≡\u001b[22m\n",
       "\n",
       "\u001b[36m  julia> d = Dict(1=>\"a\", 2=>\"b\")\u001b[39m\n",
       "\u001b[36m  Dict{Int64, String} with 2 entries:\u001b[39m\n",
       "\u001b[36m    2 => \"b\"\u001b[39m\n",
       "\u001b[36m    1 => \"a\"\u001b[39m\n",
       "\u001b[36m  \u001b[39m\n",
       "\u001b[36m  julia> filter(p->isodd(p.first), d)\u001b[39m\n",
       "\u001b[36m  Dict{Int64, String} with 1 entry:\u001b[39m\n",
       "\u001b[36m    1 => \"a\"\u001b[39m\n",
       "\n",
       "  ────────────────────────────────────────────────────────────────────────────\n",
       "\n",
       "\u001b[36m  filter(f, itr::SkipMissing{<:AbstractArray})\u001b[39m\n",
       "\n",
       "  Return a vector similar to the array wrapped by the given \u001b[36mSkipMissing\u001b[39m\n",
       "  iterator but with all missing elements and those for which \u001b[36mf\u001b[39m returns \u001b[36mfalse\u001b[39m\n",
       "  removed.\n",
       "\n",
       "\u001b[39m\u001b[1m  │ \u001b[22m\u001b[39m\u001b[1mJulia 1.2\u001b[22m\n",
       "\u001b[39m\u001b[1m  │\u001b[22m\n",
       "\u001b[39m\u001b[1m  │\u001b[22m  This method requires Julia 1.2 or later.\n",
       "\n",
       "\u001b[1m  Examples\u001b[22m\n",
       "\u001b[1m  ≡≡≡≡≡≡≡≡≡≡\u001b[22m\n",
       "\n",
       "\u001b[36m  julia> x = [1 2; missing 4]\u001b[39m\n",
       "\u001b[36m  2×2 Matrix{Union{Missing, Int64}}:\u001b[39m\n",
       "\u001b[36m   1         2\u001b[39m\n",
       "\u001b[36m    missing  4\u001b[39m\n",
       "\u001b[36m  \u001b[39m\n",
       "\u001b[36m  julia> filter(isodd, skipmissing(x))\u001b[39m\n",
       "\u001b[36m  1-element Vector{Int64}:\u001b[39m\n",
       "\u001b[36m   1\u001b[39m"
      ]
     },
     "execution_count": 35,
     "metadata": {},
     "output_type": "execute_result"
    }
   ],
   "source": [
    "? filter"
   ]
  },
  {
   "cell_type": "code",
   "execution_count": 37,
   "metadata": {},
   "outputs": [
    {
     "data": {
      "text/plain": [
       "Float64[]"
      ]
     },
     "execution_count": 37,
     "metadata": {},
     "output_type": "execute_result"
    }
   ],
   "source": [
    "filter(rand(10)) do x \n",
    "                    return false\n",
    "end"
   ]
  },
  {
   "cell_type": "code",
   "execution_count": 38,
   "metadata": {},
   "outputs": [
    {
     "name": "stdout",
     "output_type": "stream",
     "text": [
      "search: \u001b[0m\u001b[1mb\u001b[22m\u001b[0m\u001b[1mr\u001b[22m\u001b[0m\u001b[1mo\u001b[22m\u001b[0m\u001b[1ma\u001b[22m\u001b[0m\u001b[1md\u001b[22m\u001b[0m\u001b[1mc\u001b[22m\u001b[0m\u001b[1ma\u001b[22m\u001b[0m\u001b[1ms\u001b[22m\u001b[0m\u001b[1mt\u001b[22m \u001b[0m\u001b[1mb\u001b[22m\u001b[0m\u001b[1mr\u001b[22m\u001b[0m\u001b[1mo\u001b[22m\u001b[0m\u001b[1ma\u001b[22m\u001b[0m\u001b[1md\u001b[22m\u001b[0m\u001b[1mc\u001b[22m\u001b[0m\u001b[1ma\u001b[22m\u001b[0m\u001b[1ms\u001b[22m\u001b[0m\u001b[1mt\u001b[22m! \u001b[0m\u001b[1mB\u001b[22m\u001b[0m\u001b[1mr\u001b[22m\u001b[0m\u001b[1mo\u001b[22m\u001b[0m\u001b[1ma\u001b[22m\u001b[0m\u001b[1md\u001b[22m\u001b[0m\u001b[1mc\u001b[22m\u001b[0m\u001b[1ma\u001b[22m\u001b[0m\u001b[1ms\u001b[22m\u001b[0m\u001b[1mt\u001b[22m\n",
      "\n"
     ]
    },
    {
     "data": {
      "text/latex": [
       "\\begin{verbatim}\n",
       "broadcast(f, As...)\n",
       "\\end{verbatim}\n",
       "Broadcast the function \\texttt{f} over the arrays, tuples, collections, \\href{@ref}{\\texttt{Ref}}s and/or scalars \\texttt{As}.\n",
       "\n",
       "Broadcasting applies the function \\texttt{f} over the elements of the container arguments and the scalars themselves in \\texttt{As}. Singleton and missing dimensions are expanded to match the extents of the other arguments by virtually repeating the value. By default, only a limited number of types are considered scalars, including \\texttt{Number}s, \\texttt{String}s, \\texttt{Symbol}s, \\texttt{Type}s, \\texttt{Function}s and some common singletons like \\href{@ref}{\\texttt{missing}} and \\href{@ref}{\\texttt{nothing}}. All other arguments are iterated over or indexed into elementwise.\n",
       "\n",
       "The resulting container type is established by the following rules:\n",
       "\n",
       "\\begin{itemize}\n",
       "\\item If all the arguments are scalars or zero-dimensional arrays, it returns an unwrapped scalar.\n",
       "\n",
       "\n",
       "\\item If at least one argument is a tuple and all others are scalars or zero-dimensional arrays, it returns a tuple.\n",
       "\n",
       "\n",
       "\\item All other combinations of arguments default to returning an \\texttt{Array}, but custom container types can define their own implementation and promotion-like rules to customize the result when they appear as arguments.\n",
       "\n",
       "\\end{itemize}\n",
       "A special syntax exists for broadcasting: \\texttt{f.(args...)} is equivalent to \\texttt{broadcast(f, args...)}, and nested \\texttt{f.(g.(args...))} calls are fused into a single broadcast loop.\n",
       "\n",
       "\\section{Examples}\n",
       "\\begin{verbatim}\n",
       "julia> A = [1, 2, 3, 4, 5]\n",
       "5-element Vector{Int64}:\n",
       " 1\n",
       " 2\n",
       " 3\n",
       " 4\n",
       " 5\n",
       "\n",
       "julia> B = [1 2; 3 4; 5 6; 7 8; 9 10]\n",
       "5×2 Matrix{Int64}:\n",
       " 1   2\n",
       " 3   4\n",
       " 5   6\n",
       " 7   8\n",
       " 9  10\n",
       "\n",
       "julia> broadcast(+, A, B)\n",
       "5×2 Matrix{Int64}:\n",
       "  2   3\n",
       "  5   6\n",
       "  8   9\n",
       " 11  12\n",
       " 14  15\n",
       "\n",
       "julia> parse.(Int, [\"1\", \"2\"])\n",
       "2-element Vector{Int64}:\n",
       " 1\n",
       " 2\n",
       "\n",
       "julia> abs.((1, -2))\n",
       "(1, 2)\n",
       "\n",
       "julia> broadcast(+, 1.0, (0, -2.0))\n",
       "(1.0, -1.0)\n",
       "\n",
       "julia> (+).([[0,2], [1,3]], Ref{Vector{Int}}([1,-1]))\n",
       "2-element Vector{Vector{Int64}}:\n",
       " [1, 1]\n",
       " [2, 2]\n",
       "\n",
       "julia> string.((\"one\",\"two\",\"three\",\"four\"), \": \", 1:4)\n",
       "4-element Vector{String}:\n",
       " \"one: 1\"\n",
       " \"two: 2\"\n",
       " \"three: 3\"\n",
       " \"four: 4\"\n",
       "\n",
       "\\end{verbatim}\n"
      ],
      "text/markdown": [
       "```\n",
       "broadcast(f, As...)\n",
       "```\n",
       "\n",
       "Broadcast the function `f` over the arrays, tuples, collections, [`Ref`](@ref)s and/or scalars `As`.\n",
       "\n",
       "Broadcasting applies the function `f` over the elements of the container arguments and the scalars themselves in `As`. Singleton and missing dimensions are expanded to match the extents of the other arguments by virtually repeating the value. By default, only a limited number of types are considered scalars, including `Number`s, `String`s, `Symbol`s, `Type`s, `Function`s and some common singletons like [`missing`](@ref) and [`nothing`](@ref). All other arguments are iterated over or indexed into elementwise.\n",
       "\n",
       "The resulting container type is established by the following rules:\n",
       "\n",
       "  * If all the arguments are scalars or zero-dimensional arrays, it returns an unwrapped scalar.\n",
       "  * If at least one argument is a tuple and all others are scalars or zero-dimensional arrays, it returns a tuple.\n",
       "  * All other combinations of arguments default to returning an `Array`, but custom container types can define their own implementation and promotion-like rules to customize the result when they appear as arguments.\n",
       "\n",
       "A special syntax exists for broadcasting: `f.(args...)` is equivalent to `broadcast(f, args...)`, and nested `f.(g.(args...))` calls are fused into a single broadcast loop.\n",
       "\n",
       "# Examples\n",
       "\n",
       "```jldoctest\n",
       "julia> A = [1, 2, 3, 4, 5]\n",
       "5-element Vector{Int64}:\n",
       " 1\n",
       " 2\n",
       " 3\n",
       " 4\n",
       " 5\n",
       "\n",
       "julia> B = [1 2; 3 4; 5 6; 7 8; 9 10]\n",
       "5×2 Matrix{Int64}:\n",
       " 1   2\n",
       " 3   4\n",
       " 5   6\n",
       " 7   8\n",
       " 9  10\n",
       "\n",
       "julia> broadcast(+, A, B)\n",
       "5×2 Matrix{Int64}:\n",
       "  2   3\n",
       "  5   6\n",
       "  8   9\n",
       " 11  12\n",
       " 14  15\n",
       "\n",
       "julia> parse.(Int, [\"1\", \"2\"])\n",
       "2-element Vector{Int64}:\n",
       " 1\n",
       " 2\n",
       "\n",
       "julia> abs.((1, -2))\n",
       "(1, 2)\n",
       "\n",
       "julia> broadcast(+, 1.0, (0, -2.0))\n",
       "(1.0, -1.0)\n",
       "\n",
       "julia> (+).([[0,2], [1,3]], Ref{Vector{Int}}([1,-1]))\n",
       "2-element Vector{Vector{Int64}}:\n",
       " [1, 1]\n",
       " [2, 2]\n",
       "\n",
       "julia> string.((\"one\",\"two\",\"three\",\"four\"), \": \", 1:4)\n",
       "4-element Vector{String}:\n",
       " \"one: 1\"\n",
       " \"two: 2\"\n",
       " \"three: 3\"\n",
       " \"four: 4\"\n",
       "\n",
       "```\n"
      ],
      "text/plain": [
       "\u001b[36m  broadcast(f, As...)\u001b[39m\n",
       "\n",
       "  Broadcast the function \u001b[36mf\u001b[39m over the arrays, tuples, collections, \u001b[36mRef\u001b[39ms and/or\n",
       "  scalars \u001b[36mAs\u001b[39m.\n",
       "\n",
       "  Broadcasting applies the function \u001b[36mf\u001b[39m over the elements of the container\n",
       "  arguments and the scalars themselves in \u001b[36mAs\u001b[39m. Singleton and missing dimensions\n",
       "  are expanded to match the extents of the other arguments by virtually\n",
       "  repeating the value. By default, only a limited number of types are\n",
       "  considered scalars, including \u001b[36mNumber\u001b[39ms, \u001b[36mString\u001b[39ms, \u001b[36mSymbol\u001b[39ms, \u001b[36mType\u001b[39ms, \u001b[36mFunction\u001b[39ms\n",
       "  and some common singletons like \u001b[36mmissing\u001b[39m and \u001b[36mnothing\u001b[39m. All other arguments are\n",
       "  iterated over or indexed into elementwise.\n",
       "\n",
       "  The resulting container type is established by the following rules:\n",
       "\n",
       "    •  If all the arguments are scalars or zero-dimensional arrays, it\n",
       "       returns an unwrapped scalar.\n",
       "\n",
       "    •  If at least one argument is a tuple and all others are scalars or\n",
       "       zero-dimensional arrays, it returns a tuple.\n",
       "\n",
       "    •  All other combinations of arguments default to returning an \u001b[36mArray\u001b[39m, but\n",
       "       custom container types can define their own implementation and\n",
       "       promotion-like rules to customize the result when they appear as\n",
       "       arguments.\n",
       "\n",
       "  A special syntax exists for broadcasting: \u001b[36mf.(args...)\u001b[39m is equivalent to\n",
       "  \u001b[36mbroadcast(f, args...)\u001b[39m, and nested \u001b[36mf.(g.(args...))\u001b[39m calls are fused into a\n",
       "  single broadcast loop.\n",
       "\n",
       "\u001b[1m  Examples\u001b[22m\n",
       "\u001b[1m  ≡≡≡≡≡≡≡≡≡≡\u001b[22m\n",
       "\n",
       "\u001b[36m  julia> A = [1, 2, 3, 4, 5]\u001b[39m\n",
       "\u001b[36m  5-element Vector{Int64}:\u001b[39m\n",
       "\u001b[36m   1\u001b[39m\n",
       "\u001b[36m   2\u001b[39m\n",
       "\u001b[36m   3\u001b[39m\n",
       "\u001b[36m   4\u001b[39m\n",
       "\u001b[36m   5\u001b[39m\n",
       "\u001b[36m  \u001b[39m\n",
       "\u001b[36m  julia> B = [1 2; 3 4; 5 6; 7 8; 9 10]\u001b[39m\n",
       "\u001b[36m  5×2 Matrix{Int64}:\u001b[39m\n",
       "\u001b[36m   1   2\u001b[39m\n",
       "\u001b[36m   3   4\u001b[39m\n",
       "\u001b[36m   5   6\u001b[39m\n",
       "\u001b[36m   7   8\u001b[39m\n",
       "\u001b[36m   9  10\u001b[39m\n",
       "\u001b[36m  \u001b[39m\n",
       "\u001b[36m  julia> broadcast(+, A, B)\u001b[39m\n",
       "\u001b[36m  5×2 Matrix{Int64}:\u001b[39m\n",
       "\u001b[36m    2   3\u001b[39m\n",
       "\u001b[36m    5   6\u001b[39m\n",
       "\u001b[36m    8   9\u001b[39m\n",
       "\u001b[36m   11  12\u001b[39m\n",
       "\u001b[36m   14  15\u001b[39m\n",
       "\u001b[36m  \u001b[39m\n",
       "\u001b[36m  julia> parse.(Int, [\"1\", \"2\"])\u001b[39m\n",
       "\u001b[36m  2-element Vector{Int64}:\u001b[39m\n",
       "\u001b[36m   1\u001b[39m\n",
       "\u001b[36m   2\u001b[39m\n",
       "\u001b[36m  \u001b[39m\n",
       "\u001b[36m  julia> abs.((1, -2))\u001b[39m\n",
       "\u001b[36m  (1, 2)\u001b[39m\n",
       "\u001b[36m  \u001b[39m\n",
       "\u001b[36m  julia> broadcast(+, 1.0, (0, -2.0))\u001b[39m\n",
       "\u001b[36m  (1.0, -1.0)\u001b[39m\n",
       "\u001b[36m  \u001b[39m\n",
       "\u001b[36m  julia> (+).([[0,2], [1,3]], Ref{Vector{Int}}([1,-1]))\u001b[39m\n",
       "\u001b[36m  2-element Vector{Vector{Int64}}:\u001b[39m\n",
       "\u001b[36m   [1, 1]\u001b[39m\n",
       "\u001b[36m   [2, 2]\u001b[39m\n",
       "\u001b[36m  \u001b[39m\n",
       "\u001b[36m  julia> string.((\"one\",\"two\",\"three\",\"four\"), \": \", 1:4)\u001b[39m\n",
       "\u001b[36m  4-element Vector{String}:\u001b[39m\n",
       "\u001b[36m   \"one: 1\"\u001b[39m\n",
       "\u001b[36m   \"two: 2\"\u001b[39m\n",
       "\u001b[36m   \"three: 3\"\u001b[39m\n",
       "\u001b[36m   \"four: 4\"\u001b[39m\n",
       "\u001b[36m  \u001b[39m"
      ]
     },
     "execution_count": 38,
     "metadata": {},
     "output_type": "execute_result"
    }
   ],
   "source": [
    "? broadcast"
   ]
  },
  {
   "cell_type": "code",
   "execution_count": 39,
   "metadata": {},
   "outputs": [
    {
     "name": "stdout",
     "output_type": "stream",
     "text": [
      "search: \u001b[0m\u001b[1mm\u001b[22m\u001b[0m\u001b[1ma\u001b[22m\u001b[0m\u001b[1mp\u001b[22m \u001b[0m\u001b[1mm\u001b[22m\u001b[0m\u001b[1ma\u001b[22m\u001b[0m\u001b[1mp\u001b[22m! \u001b[0m\u001b[1mm\u001b[22m\u001b[0m\u001b[1ma\u001b[22m\u001b[0m\u001b[1mp\u001b[22mfoldr \u001b[0m\u001b[1mm\u001b[22m\u001b[0m\u001b[1ma\u001b[22m\u001b[0m\u001b[1mp\u001b[22mfoldl \u001b[0m\u001b[1mm\u001b[22m\u001b[0m\u001b[1ma\u001b[22m\u001b[0m\u001b[1mp\u001b[22mslices \u001b[0m\u001b[1mm\u001b[22m\u001b[0m\u001b[1ma\u001b[22m\u001b[0m\u001b[1mp\u001b[22mreduce async\u001b[0m\u001b[1mm\u001b[22m\u001b[0m\u001b[1ma\u001b[22m\u001b[0m\u001b[1mp\u001b[22m async\u001b[0m\u001b[1mm\u001b[22m\u001b[0m\u001b[1ma\u001b[22m\u001b[0m\u001b[1mp\u001b[22m!\n",
      "\n"
     ]
    },
    {
     "data": {
      "text/latex": [
       "\\begin{verbatim}\n",
       "map(f, c...) -> collection\n",
       "\\end{verbatim}\n",
       "Transform collection \\texttt{c} by applying \\texttt{f} to each element. For multiple collection arguments, apply \\texttt{f} elementwise.\n",
       "\n",
       "See also: \\href{@ref}{\\texttt{mapslices}}\n",
       "\n",
       "\\section{Examples}\n",
       "\\begin{verbatim}\n",
       "julia> map(x -> x * 2, [1, 2, 3])\n",
       "3-element Vector{Int64}:\n",
       " 2\n",
       " 4\n",
       " 6\n",
       "\n",
       "julia> map(+, [1, 2, 3], [10, 20, 30])\n",
       "3-element Vector{Int64}:\n",
       " 11\n",
       " 22\n",
       " 33\n",
       "\\end{verbatim}\n"
      ],
      "text/markdown": [
       "```\n",
       "map(f, c...) -> collection\n",
       "```\n",
       "\n",
       "Transform collection `c` by applying `f` to each element. For multiple collection arguments, apply `f` elementwise.\n",
       "\n",
       "See also: [`mapslices`](@ref)\n",
       "\n",
       "# Examples\n",
       "\n",
       "```jldoctest\n",
       "julia> map(x -> x * 2, [1, 2, 3])\n",
       "3-element Vector{Int64}:\n",
       " 2\n",
       " 4\n",
       " 6\n",
       "\n",
       "julia> map(+, [1, 2, 3], [10, 20, 30])\n",
       "3-element Vector{Int64}:\n",
       " 11\n",
       " 22\n",
       " 33\n",
       "```\n"
      ],
      "text/plain": [
       "\u001b[36m  map(f, c...) -> collection\u001b[39m\n",
       "\n",
       "  Transform collection \u001b[36mc\u001b[39m by applying \u001b[36mf\u001b[39m to each element. For multiple\n",
       "  collection arguments, apply \u001b[36mf\u001b[39m elementwise.\n",
       "\n",
       "  See also: \u001b[36mmapslices\u001b[39m\n",
       "\n",
       "\u001b[1m  Examples\u001b[22m\n",
       "\u001b[1m  ≡≡≡≡≡≡≡≡≡≡\u001b[22m\n",
       "\n",
       "\u001b[36m  julia> map(x -> x * 2, [1, 2, 3])\u001b[39m\n",
       "\u001b[36m  3-element Vector{Int64}:\u001b[39m\n",
       "\u001b[36m   2\u001b[39m\n",
       "\u001b[36m   4\u001b[39m\n",
       "\u001b[36m   6\u001b[39m\n",
       "\u001b[36m  \u001b[39m\n",
       "\u001b[36m  julia> map(+, [1, 2, 3], [10, 20, 30])\u001b[39m\n",
       "\u001b[36m  3-element Vector{Int64}:\u001b[39m\n",
       "\u001b[36m   11\u001b[39m\n",
       "\u001b[36m   22\u001b[39m\n",
       "\u001b[36m   33\u001b[39m"
      ]
     },
     "execution_count": 39,
     "metadata": {},
     "output_type": "execute_result"
    }
   ],
   "source": [
    "? map"
   ]
  },
  {
   "cell_type": "code",
   "execution_count": 41,
   "metadata": {},
   "outputs": [
    {
     "ename": "LoadError",
     "evalue": "AssertionError: 2 + 3 == 6",
     "output_type": "error",
     "traceback": [
      "AssertionError: 2 + 3 == 6",
      "",
      "Stacktrace:",
      " [1] top-level scope",
      "   @ In[41]:1",
      " [2] eval",
      "   @ ./boot.jl:360 [inlined]",
      " [3] include_string(mapexpr::typeof(REPL.softscope), mod::Module, code::String, filename::String)",
      "   @ Base ./loading.jl:1094"
     ]
    }
   ],
   "source": [
    "@assert 2+3 == 6"
   ]
  },
  {
   "cell_type": "code",
   "execution_count": null,
   "metadata": {},
   "outputs": [],
   "source": []
  }
 ],
 "metadata": {
  "kernelspec": {
   "display_name": "Julia 1.6.0",
   "language": "julia",
   "name": "julia-1.6"
  },
  "language_info": {
   "file_extension": ".jl",
   "mimetype": "application/julia",
   "name": "julia",
   "version": "1.6.0"
  }
 },
 "nbformat": 4,
 "nbformat_minor": 4
}
