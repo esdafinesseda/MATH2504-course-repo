{
 "cells": [
  {
   "cell_type": "code",
   "execution_count": 1,
   "metadata": {},
   "outputs": [],
   "source": [
    "struct Person\n",
    "    name::String\n",
    "    age::Int\n",
    "    \n",
    "    #Define a consturctor here (inner constructor uses the \"new\" keyword/function)\n",
    "    function Person(name_::String)\n",
    "         return new(name_,44) #new here uses the \"default inner constructor\"\n",
    "    end\n",
    "end\n",
    "\n",
    "#Define a consturctor here (outer constructor)\n"
   ]
  },
  {
   "cell_type": "code",
   "execution_count": 2,
   "metadata": {},
   "outputs": [
    {
     "ename": "LoadError",
     "evalue": "MethodError: no method matching Person(::String, ::Int64)\n\u001b[0mClosest candidates are:\n\u001b[0m  Person(::String) at In[1]:6",
     "output_type": "error",
     "traceback": [
      "MethodError: no method matching Person(::String, ::Int64)\n\u001b[0mClosest candidates are:\n\u001b[0m  Person(::String) at In[1]:6",
      "",
      "Stacktrace:",
      " [1] top-level scope",
      "   @ In[2]:1",
      " [2] eval",
      "   @ ./boot.jl:360 [inlined]",
      " [3] include_string(mapexpr::typeof(REPL.softscope), mod::Module, code::String, filename::String)",
      "   @ Base ./loading.jl:1094"
     ]
    }
   ],
   "source": [
    "Person(\"Rong\",12) #Default constructor doesn't exist because I defined my own inner"
   ]
  },
  {
   "cell_type": "code",
   "execution_count": 3,
   "metadata": {},
   "outputs": [
    {
     "data": {
      "text/plain": [
       "Person(\"Rong\", 44)"
      ]
     },
     "execution_count": 3,
     "metadata": {},
     "output_type": "execute_result"
    }
   ],
   "source": [
    "Person(\"Rong\")"
   ]
  },
  {
   "cell_type": "code",
   "execution_count": 8,
   "metadata": {},
   "outputs": [
    {
     "data": {
      "text/html": [
       "Person(name::<b>String</b>, age::<b>Int64</b>) in Main at In[7]:2"
      ],
      "text/plain": [
       "Person(name::String, age::Int64) in Main at In[7]:2"
      ]
     },
     "execution_count": 8,
     "metadata": {},
     "output_type": "execute_result"
    }
   ],
   "source": [
    "@which Person(\"Rong\", 12)"
   ]
  },
  {
   "cell_type": "code",
   "execution_count": 4,
   "metadata": {},
   "outputs": [
    {
     "data": {
      "text/plain": [
       "Person(\"Rong\", 12)"
      ]
     },
     "execution_count": 4,
     "metadata": {},
     "output_type": "execute_result"
    }
   ],
   "source": [
    "Person(\"Rong\", 12)"
   ]
  },
  {
   "cell_type": "code",
   "execution_count": 6,
   "metadata": {},
   "outputs": [
    {
     "ename": "LoadError",
     "evalue": "MethodError: no method matching Person(::String)\n\u001b[0mClosest candidates are:\n\u001b[0m  Person(::String, \u001b[91m::Int64\u001b[39m) at In[1]:2\n\u001b[0m  Person(::Any, \u001b[91m::Any\u001b[39m) at In[1]:2",
     "output_type": "error",
     "traceback": [
      "MethodError: no method matching Person(::String)\n\u001b[0mClosest candidates are:\n\u001b[0m  Person(::String, \u001b[91m::Int64\u001b[39m) at In[1]:2\n\u001b[0m  Person(::Any, \u001b[91m::Any\u001b[39m) at In[1]:2",
      "",
      "Stacktrace:",
      " [1] top-level scope",
      "   @ In[6]:1",
      " [2] eval",
      "   @ ./boot.jl:360 [inlined]",
      " [3] include_string(mapexpr::typeof(REPL.softscope), mod::Module, code::String, filename::String)",
      "   @ Base ./loading.jl:1094"
     ]
    }
   ],
   "source": [
    "Person(\"Rong\")"
   ]
  },
  {
   "cell_type": "code",
   "execution_count": null,
   "metadata": {},
   "outputs": [],
   "source": []
  }
 ],
 "metadata": {
  "kernelspec": {
   "display_name": "Julia 1.6.0",
   "language": "julia",
   "name": "julia-1.6"
  },
  "language_info": {
   "file_extension": ".jl",
   "mimetype": "application/julia",
   "name": "julia",
   "version": "1.6.0"
  }
 },
 "nbformat": 4,
 "nbformat_minor": 4
}
