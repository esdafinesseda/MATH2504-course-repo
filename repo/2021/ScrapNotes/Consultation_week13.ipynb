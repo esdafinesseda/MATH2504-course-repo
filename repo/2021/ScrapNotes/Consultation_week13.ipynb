{
 "cells": [
  {
   "cell_type": "code",
   "execution_count": 1,
   "metadata": {},
   "outputs": [],
   "source": [
    "using CSV, DataFrames"
   ]
  },
  {
   "cell_type": "code",
   "execution_count": 10,
   "metadata": {},
   "outputs": [
    {
     "data": {
      "text/plain": [
       "5-element Vector{String}:\n",
       " \"Variable1, Variable2, Variable3\"\n",
       " \"A, ,23\"\n",
       " \"B,12,15\"\n",
       " \",11,17.3\"\n",
       " \"A,      ,12.3\""
      ]
     },
     "execution_count": 10,
     "metadata": {},
     "output_type": "execute_result"
    }
   ],
   "source": [
    "readlines(\"data1.csv\")"
   ]
  },
  {
   "cell_type": "code",
   "execution_count": 23,
   "metadata": {},
   "outputs": [
    {
     "data": {
      "text/html": [
       "<div class=\"data-frame\"><p>4 rows × 4 columns</p><table class=\"data-frame\"><thead><tr><th></th><th>Variable1</th><th> Variable2</th><th> Variable3</th><th> Variable4</th></tr><tr><th></th><th title=\"Union{Missing, String1}\">String1?</th><th title=\"Union{Missing, Int64}\">Int64?</th><th title=\"Float64\">Float64</th><th title=\"Union{Missing, String15}\">String15?</th></tr></thead><tbody><tr><th>1</th><td>A</td><td><em>missing</em></td><td>23.0</td><td> 12.3</td></tr><tr><th>2</th><td>B</td><td>12</td><td>15.0</td><td>     15.7</td></tr><tr><th>3</th><td><em>missing</em></td><td>11</td><td>17.3</td><td><em>missing</em></td></tr><tr><th>4</th><td>A</td><td><em>missing</em></td><td>12.3</td><td> 18.2</td></tr></tbody></table></div>"
      ],
      "text/latex": [
       "\\begin{tabular}{r|cccc}\n",
       "\t& Variable1 &  Variable2 &  Variable3 &  Variable4\\\\\n",
       "\t\\hline\n",
       "\t& String1? & Int64? & Float64 & String15?\\\\\n",
       "\t\\hline\n",
       "\t1 & A & \\emph{missing} & 23.0 &  12.3 \\\\\n",
       "\t2 & B & 12 & 15.0 &      15.7 \\\\\n",
       "\t3 & \\emph{missing} & 11 & 17.3 & \\emph{missing} \\\\\n",
       "\t4 & A & \\emph{missing} & 12.3 &  18.2 \\\\\n",
       "\\end{tabular}\n"
      ],
      "text/plain": [
       "\u001b[1m4×4 DataFrame\u001b[0m\n",
       "\u001b[1m Row \u001b[0m│\u001b[1m Variable1 \u001b[0m\u001b[1m  Variable2 \u001b[0m\u001b[1m  Variable3 \u001b[0m\u001b[1m  Variable4 \u001b[0m\n",
       "\u001b[1m     \u001b[0m│\u001b[90m String1?  \u001b[0m\u001b[90m Int64?     \u001b[0m\u001b[90m Float64    \u001b[0m\u001b[90m String15?  \u001b[0m\n",
       "─────┼───────────────────────────────────────────────\n",
       "   1 │ A         \u001b[90m    missing \u001b[0m       23.0   12.3\n",
       "   2 │ B                  12        15.0       15.7\n",
       "   3 │\u001b[90m missing   \u001b[0m         11        17.3 \u001b[90m missing    \u001b[0m\n",
       "   4 │ A         \u001b[90m    missing \u001b[0m       12.3   18.2"
      ]
     },
     "execution_count": 23,
     "metadata": {},
     "output_type": "execute_result"
    }
   ],
   "source": [
    "df = CSV.read(\"data1.csv\", DataFrame, missingstring = [\"\", \" \",\"      \"])"
   ]
  },
  {
   "cell_type": "code",
   "execution_count": 27,
   "metadata": {},
   "outputs": [
    {
     "data": {
      "text/plain": [
       "4-element Vector{String}:\n",
       " \"Variable1\"\n",
       " \" Variable2\"\n",
       " \" Variable3\"\n",
       " \" Variable4\""
      ]
     },
     "execution_count": 27,
     "metadata": {},
     "output_type": "execute_result"
    }
   ],
   "source": [
    "names(df)"
   ]
  },
  {
   "cell_type": "code",
   "execution_count": 30,
   "metadata": {},
   "outputs": [
    {
     "data": {
      "text/plain": [
       "4-element Vector{Union{Missing, String15}}:\n",
       " \" 12.3\"\n",
       " \"     15.7\"\n",
       " missing\n",
       " \" 18.2\""
      ]
     },
     "execution_count": 30,
     "metadata": {},
     "output_type": "execute_result"
    }
   ],
   "source": [
    "df[:,\" Variable4\"]"
   ]
  },
  {
   "cell_type": "code",
   "execution_count": 31,
   "metadata": {},
   "outputs": [
    {
     "data": {
      "text/html": [
       "<div class=\"data-frame\"><p>4 rows × 4 columns</p><table class=\"data-frame\"><thead><tr><th></th><th>Variable1</th><th> Variable2</th><th> Variable3</th><th>Variable4</th></tr><tr><th></th><th title=\"Union{Missing, String1}\">String1?</th><th title=\"Union{Missing, Int64}\">Int64?</th><th title=\"Float64\">Float64</th><th title=\"Union{Missing, String15}\">String15?</th></tr></thead><tbody><tr><th>1</th><td>A</td><td><em>missing</em></td><td>23.0</td><td> 12.3</td></tr><tr><th>2</th><td>B</td><td>12</td><td>15.0</td><td>     15.7</td></tr><tr><th>3</th><td><em>missing</em></td><td>11</td><td>17.3</td><td><em>missing</em></td></tr><tr><th>4</th><td>A</td><td><em>missing</em></td><td>12.3</td><td> 18.2</td></tr></tbody></table></div>"
      ],
      "text/latex": [
       "\\begin{tabular}{r|cccc}\n",
       "\t& Variable1 &  Variable2 &  Variable3 & Variable4\\\\\n",
       "\t\\hline\n",
       "\t& String1? & Int64? & Float64 & String15?\\\\\n",
       "\t\\hline\n",
       "\t1 & A & \\emph{missing} & 23.0 &  12.3 \\\\\n",
       "\t2 & B & 12 & 15.0 &      15.7 \\\\\n",
       "\t3 & \\emph{missing} & 11 & 17.3 & \\emph{missing} \\\\\n",
       "\t4 & A & \\emph{missing} & 12.3 &  18.2 \\\\\n",
       "\\end{tabular}\n"
      ],
      "text/plain": [
       "\u001b[1m4×4 DataFrame\u001b[0m\n",
       "\u001b[1m Row \u001b[0m│\u001b[1m Variable1 \u001b[0m\u001b[1m  Variable2 \u001b[0m\u001b[1m  Variable3 \u001b[0m\u001b[1m Variable4 \u001b[0m\n",
       "\u001b[1m     \u001b[0m│\u001b[90m String1?  \u001b[0m\u001b[90m Int64?     \u001b[0m\u001b[90m Float64    \u001b[0m\u001b[90m String15? \u001b[0m\n",
       "─────┼──────────────────────────────────────────────\n",
       "   1 │ A         \u001b[90m    missing \u001b[0m       23.0   12.3\n",
       "   2 │ B                  12        15.0       15.7\n",
       "   3 │\u001b[90m missing   \u001b[0m         11        17.3 \u001b[90m missing   \u001b[0m\n",
       "   4 │ A         \u001b[90m    missing \u001b[0m       12.3   18.2"
      ]
     },
     "execution_count": 31,
     "metadata": {},
     "output_type": "execute_result"
    }
   ],
   "source": [
    "rename!(df, \" Variable4\" => \"Variable4\")"
   ]
  },
  {
   "cell_type": "code",
   "execution_count": 32,
   "metadata": {},
   "outputs": [
    {
     "data": {
      "text/plain": [
       "4-element Vector{String}:\n",
       " \"Variable1\"\n",
       " \" Variable2\"\n",
       " \" Variable3\"\n",
       " \"Variable4\""
      ]
     },
     "execution_count": 32,
     "metadata": {},
     "output_type": "execute_result"
    }
   ],
   "source": [
    "names(df)"
   ]
  },
  {
   "cell_type": "code",
   "execution_count": 33,
   "metadata": {},
   "outputs": [
    {
     "data": {
      "text/plain": [
       "\"     15.7\""
      ]
     },
     "execution_count": 33,
     "metadata": {},
     "output_type": "execute_result"
    }
   ],
   "source": [
    "df.Variable4[2]"
   ]
  },
  {
   "cell_type": "code",
   "execution_count": 34,
   "metadata": {},
   "outputs": [
    {
     "data": {
      "text/plain": [
       "15.7"
      ]
     },
     "execution_count": 34,
     "metadata": {},
     "output_type": "execute_result"
    }
   ],
   "source": [
    "parse(Float64,df.Variable4[2])"
   ]
  },
  {
   "cell_type": "code",
   "execution_count": 35,
   "metadata": {},
   "outputs": [
    {
     "data": {
      "text/plain": [
       "Float64"
      ]
     },
     "execution_count": 35,
     "metadata": {},
     "output_type": "execute_result"
    }
   ],
   "source": [
    "typeof(ans)"
   ]
  },
  {
   "cell_type": "code",
   "execution_count": 28,
   "metadata": {},
   "outputs": [
    {
     "ename": "LoadError",
     "evalue": "ArgumentError: column name :Variable4 not found in the data frame; existing most similar names are: : Variable4, :Variable1, : Variable2 and : Variable3",
     "output_type": "error",
     "traceback": [
      "ArgumentError: column name :Variable4 not found in the data frame; existing most similar names are: : Variable4, :Variable1, : Variable2 and : Variable3",
      "",
      "Stacktrace:",
      " [1] lookupname",
      "   @ ~/.julia/packages/DataFrames/vuMM8/src/other/index.jl:291 [inlined]",
      " [2] getindex",
      "   @ ~/.julia/packages/DataFrames/vuMM8/src/other/index.jl:297 [inlined]",
      " [3] getindex(df::DataFrame, #unused#::typeof(!), col_ind::Symbol)",
      "   @ DataFrames ~/.julia/packages/DataFrames/vuMM8/src/dataframe/dataframe.jl:513",
      " [4] getproperty(df::DataFrame, col_ind::Symbol)",
      "   @ DataFrames ~/.julia/packages/DataFrames/vuMM8/src/abstractdataframe/abstractdataframe.jl:356",
      " [5] top-level scope",
      "   @ In[28]:1",
      " [6] eval",
      "   @ ./boot.jl:360 [inlined]",
      " [7] include_string(mapexpr::typeof(REPL.softscope), mod::Module, code::String, filename::String)",
      "   @ Base ./loading.jl:1094"
     ]
    }
   ],
   "source": [
    "df. Variable4"
   ]
  },
  {
   "cell_type": "code",
   "execution_count": 20,
   "metadata": {},
   "outputs": [
    {
     "data": {
      "text/html": [
       "<div class=\"data-frame\"><p>4 rows × 3 columns</p><table class=\"data-frame\"><thead><tr><th></th><th>Variable1</th><th> Variable2</th><th> Variable3</th></tr><tr><th></th><th title=\"Bool\">Bool</th><th title=\"Bool\">Bool</th><th title=\"Bool\">Bool</th></tr></thead><tbody><tr><th>1</th><td>0</td><td>1</td><td>0</td></tr><tr><th>2</th><td>0</td><td>0</td><td>0</td></tr><tr><th>3</th><td>1</td><td>0</td><td>0</td></tr><tr><th>4</th><td>0</td><td>1</td><td>0</td></tr></tbody></table></div>"
      ],
      "text/latex": [
       "\\begin{tabular}{r|ccc}\n",
       "\t& Variable1 &  Variable2 &  Variable3\\\\\n",
       "\t\\hline\n",
       "\t& Bool & Bool & Bool\\\\\n",
       "\t\\hline\n",
       "\t1 & 0 & 1 & 0 \\\\\n",
       "\t2 & 0 & 0 & 0 \\\\\n",
       "\t3 & 1 & 0 & 0 \\\\\n",
       "\t4 & 0 & 1 & 0 \\\\\n",
       "\\end{tabular}\n"
      ],
      "text/plain": [
       "\u001b[1m4×3 DataFrame\u001b[0m\n",
       "\u001b[1m Row \u001b[0m│\u001b[1m Variable1 \u001b[0m\u001b[1m  Variable2 \u001b[0m\u001b[1m  Variable3 \u001b[0m\n",
       "\u001b[1m     \u001b[0m│\u001b[90m Bool      \u001b[0m\u001b[90m Bool       \u001b[0m\u001b[90m Bool       \u001b[0m\n",
       "─────┼───────────────────────────────────\n",
       "   1 │     false        true       false\n",
       "   2 │     false       false       false\n",
       "   3 │      true       false       false\n",
       "   4 │     false        true       false"
      ]
     },
     "execution_count": 20,
     "metadata": {},
     "output_type": "execute_result"
    }
   ],
   "source": [
    "ismissing.(df)"
   ]
  },
  {
   "cell_type": "code",
   "execution_count": 22,
   "metadata": {},
   "outputs": [
    {
     "data": {
      "text/plain": [
       "4-element PooledArrays.PooledVector{Union{Missing, String1}, UInt32, Vector{UInt32}}:\n",
       " \"A\"\n",
       " \"B\"\n",
       " missing\n",
       " \"A\""
      ]
     },
     "execution_count": 22,
     "metadata": {},
     "output_type": "execute_result"
    }
   ],
   "source": [
    "df.Variable1"
   ]
  },
  {
   "cell_type": "code",
   "execution_count": 36,
   "metadata": {},
   "outputs": [
    {
     "data": {
      "text/plain": [
       "\"/Users/uqjnazar/git/mine/ProgrammingCourse-with-Julia-SimulationAnalysisAndLearningSystems/ScrapNotes\""
      ]
     },
     "execution_count": 36,
     "metadata": {},
     "output_type": "execute_result"
    }
   ],
   "source": [
    "pwd()"
   ]
  },
  {
   "cell_type": "code",
   "execution_count": 49,
   "metadata": {},
   "outputs": [
    {
     "data": {
      "text/html": [
       "<div class=\"data-frame\"><p>34,857 rows × 21 columns (omitted printing of 14 columns)</p><table class=\"data-frame\"><thead><tr><th></th><th>Suburb</th><th>Address</th><th>Rooms</th><th>Type</th><th>Price</th><th>Method</th><th>SellerG</th></tr><tr><th></th><th title=\"String31\">String31</th><th title=\"String31\">String31</th><th title=\"Int64\">Int64</th><th title=\"String1\">String1</th><th title=\"String15\">String15</th><th title=\"String3\">String3</th><th title=\"String31\">String31</th></tr></thead><tbody><tr><th>1</th><td>Abbotsford</td><td>68 Studley St</td><td>2</td><td>h</td><td></td><td>SS</td><td>Jellis</td></tr><tr><th>2</th><td>Abbotsford</td><td>85 Turner St</td><td>2</td><td>h</td><td>1480000</td><td>S</td><td>Biggin</td></tr><tr><th>3</th><td>Abbotsford</td><td>25 Bloomburg St</td><td>2</td><td>h</td><td>1035000</td><td>S</td><td>Biggin</td></tr><tr><th>4</th><td>Abbotsford</td><td>18/659 Victoria St</td><td>3</td><td>u</td><td></td><td>VB</td><td>Rounds</td></tr><tr><th>5</th><td>Abbotsford</td><td>5 Charles St</td><td>3</td><td>h</td><td>1465000</td><td>SP</td><td>Biggin</td></tr><tr><th>6</th><td>Abbotsford</td><td>40 Federation La</td><td>3</td><td>h</td><td>850000</td><td>PI</td><td>Biggin</td></tr><tr><th>7</th><td>Abbotsford</td><td>55a Park St</td><td>4</td><td>h</td><td>1600000</td><td>VB</td><td>Nelson</td></tr><tr><th>8</th><td>Abbotsford</td><td>16 Maugie St</td><td>4</td><td>h</td><td></td><td>SN</td><td>Nelson</td></tr><tr><th>9</th><td>Abbotsford</td><td>53 Turner St</td><td>2</td><td>h</td><td></td><td>S</td><td>Biggin</td></tr><tr><th>10</th><td>Abbotsford</td><td>99 Turner St</td><td>2</td><td>h</td><td></td><td>S</td><td>Collins</td></tr><tr><th>11</th><td>Abbotsford</td><td>129 Charles St</td><td>2</td><td>h</td><td>941000</td><td>S</td><td>Jellis</td></tr><tr><th>12</th><td>Abbotsford</td><td>124 Yarra St</td><td>3</td><td>h</td><td>1876000</td><td>S</td><td>Nelson</td></tr><tr><th>13</th><td>Abbotsford</td><td>121/56 Nicholson St</td><td>2</td><td>u</td><td></td><td>PI</td><td>Biggin</td></tr><tr><th>14</th><td>Abbotsford</td><td>17 Raphael St</td><td>4</td><td>h</td><td></td><td>W</td><td>Biggin</td></tr><tr><th>15</th><td>Abbotsford</td><td>98 Charles St</td><td>2</td><td>h</td><td>1636000</td><td>S</td><td>Nelson</td></tr><tr><th>16</th><td>Abbotsford</td><td>217 Langridge St</td><td>3</td><td>h</td><td>1000000</td><td>S</td><td>Jellis</td></tr><tr><th>17</th><td>Abbotsford</td><td>18a Mollison St</td><td>2</td><td>t</td><td>745000</td><td>S</td><td>Jellis</td></tr><tr><th>18</th><td>Abbotsford</td><td>6/241 Nicholson St</td><td>1</td><td>u</td><td>300000</td><td>S</td><td>Biggin</td></tr><tr><th>19</th><td>Abbotsford</td><td>10 Valiant St</td><td>2</td><td>h</td><td>1097000</td><td>S</td><td>Biggin</td></tr><tr><th>20</th><td>Abbotsford</td><td>403/609 Victoria St</td><td>2</td><td>u</td><td>542000</td><td>S</td><td>Dingle</td></tr><tr><th>21</th><td>Abbotsford</td><td>2 Rich St</td><td>2</td><td>h</td><td></td><td>SP</td><td>Biggin</td></tr><tr><th>22</th><td>Abbotsford</td><td>25/84 Trenerry Cr</td><td>2</td><td>u</td><td>760000</td><td>SP</td><td>Biggin</td></tr><tr><th>23</th><td>Abbotsford</td><td>106/119 Turner St</td><td>1</td><td>u</td><td>481000</td><td>SP</td><td>Purplebricks</td></tr><tr><th>24</th><td>Abbotsford</td><td>411/8 Grosvenor St</td><td>2</td><td>u</td><td>700000</td><td>VB</td><td>Jellis</td></tr><tr><th>25</th><td>Abbotsford</td><td>40 Nicholson St</td><td>3</td><td>h</td><td>1350000</td><td>VB</td><td>Nelson</td></tr><tr><th>26</th><td>Abbotsford</td><td>123/56 Nicholson St</td><td>2</td><td>u</td><td>750000</td><td>S</td><td>Biggin</td></tr><tr><th>27</th><td>Abbotsford</td><td>22 Park St</td><td>4</td><td>h</td><td>1985000</td><td>S</td><td>Biggin</td></tr><tr><th>28</th><td>Abbotsford</td><td>13/84 Trenerry Cr</td><td>1</td><td>u</td><td>500000</td><td>S</td><td>Biggin</td></tr><tr><th>29</th><td>Abbotsford</td><td>45 William St</td><td>2</td><td>h</td><td>1172500</td><td>S</td><td>Biggin</td></tr><tr><th>30</th><td>Abbotsford</td><td>7/20 Abbotsford St</td><td>1</td><td>u</td><td>441000</td><td>SP</td><td>Greg</td></tr><tr><th>&vellip;</th><td>&vellip;</td><td>&vellip;</td><td>&vellip;</td><td>&vellip;</td><td>&vellip;</td><td>&vellip;</td><td>&vellip;</td></tr></tbody></table></div>"
      ],
      "text/latex": [
       "\\begin{tabular}{r|cccccccc}\n",
       "\t& Suburb & Address & Rooms & Type & Price & Method & SellerG & \\\\\n",
       "\t\\hline\n",
       "\t& String31 & String31 & Int64 & String1 & String15 & String3 & String31 & \\\\\n",
       "\t\\hline\n",
       "\t1 & Abbotsford & 68 Studley St & 2 & h &  & SS & Jellis & $\\dots$ \\\\\n",
       "\t2 & Abbotsford & 85 Turner St & 2 & h & 1480000 & S & Biggin & $\\dots$ \\\\\n",
       "\t3 & Abbotsford & 25 Bloomburg St & 2 & h & 1035000 & S & Biggin & $\\dots$ \\\\\n",
       "\t4 & Abbotsford & 18/659 Victoria St & 3 & u &  & VB & Rounds & $\\dots$ \\\\\n",
       "\t5 & Abbotsford & 5 Charles St & 3 & h & 1465000 & SP & Biggin & $\\dots$ \\\\\n",
       "\t6 & Abbotsford & 40 Federation La & 3 & h & 850000 & PI & Biggin & $\\dots$ \\\\\n",
       "\t7 & Abbotsford & 55a Park St & 4 & h & 1600000 & VB & Nelson & $\\dots$ \\\\\n",
       "\t8 & Abbotsford & 16 Maugie St & 4 & h &  & SN & Nelson & $\\dots$ \\\\\n",
       "\t9 & Abbotsford & 53 Turner St & 2 & h &  & S & Biggin & $\\dots$ \\\\\n",
       "\t10 & Abbotsford & 99 Turner St & 2 & h &  & S & Collins & $\\dots$ \\\\\n",
       "\t11 & Abbotsford & 129 Charles St & 2 & h & 941000 & S & Jellis & $\\dots$ \\\\\n",
       "\t12 & Abbotsford & 124 Yarra St & 3 & h & 1876000 & S & Nelson & $\\dots$ \\\\\n",
       "\t13 & Abbotsford & 121/56 Nicholson St & 2 & u &  & PI & Biggin & $\\dots$ \\\\\n",
       "\t14 & Abbotsford & 17 Raphael St & 4 & h &  & W & Biggin & $\\dots$ \\\\\n",
       "\t15 & Abbotsford & 98 Charles St & 2 & h & 1636000 & S & Nelson & $\\dots$ \\\\\n",
       "\t16 & Abbotsford & 217 Langridge St & 3 & h & 1000000 & S & Jellis & $\\dots$ \\\\\n",
       "\t17 & Abbotsford & 18a Mollison St & 2 & t & 745000 & S & Jellis & $\\dots$ \\\\\n",
       "\t18 & Abbotsford & 6/241 Nicholson St & 1 & u & 300000 & S & Biggin & $\\dots$ \\\\\n",
       "\t19 & Abbotsford & 10 Valiant St & 2 & h & 1097000 & S & Biggin & $\\dots$ \\\\\n",
       "\t20 & Abbotsford & 403/609 Victoria St & 2 & u & 542000 & S & Dingle & $\\dots$ \\\\\n",
       "\t21 & Abbotsford & 2 Rich St & 2 & h &  & SP & Biggin & $\\dots$ \\\\\n",
       "\t22 & Abbotsford & 25/84 Trenerry Cr & 2 & u & 760000 & SP & Biggin & $\\dots$ \\\\\n",
       "\t23 & Abbotsford & 106/119 Turner St & 1 & u & 481000 & SP & Purplebricks & $\\dots$ \\\\\n",
       "\t24 & Abbotsford & 411/8 Grosvenor St & 2 & u & 700000 & VB & Jellis & $\\dots$ \\\\\n",
       "\t25 & Abbotsford & 40 Nicholson St & 3 & h & 1350000 & VB & Nelson & $\\dots$ \\\\\n",
       "\t26 & Abbotsford & 123/56 Nicholson St & 2 & u & 750000 & S & Biggin & $\\dots$ \\\\\n",
       "\t27 & Abbotsford & 22 Park St & 4 & h & 1985000 & S & Biggin & $\\dots$ \\\\\n",
       "\t28 & Abbotsford & 13/84 Trenerry Cr & 1 & u & 500000 & S & Biggin & $\\dots$ \\\\\n",
       "\t29 & Abbotsford & 45 William St & 2 & h & 1172500 & S & Biggin & $\\dots$ \\\\\n",
       "\t30 & Abbotsford & 7/20 Abbotsford St & 1 & u & 441000 & SP & Greg & $\\dots$ \\\\\n",
       "\t$\\dots$ & $\\dots$ & $\\dots$ & $\\dots$ & $\\dots$ & $\\dots$ & $\\dots$ & $\\dots$ &  \\\\\n",
       "\\end{tabular}\n"
      ],
      "text/plain": [
       "\u001b[1m34857×21 DataFrame\u001b[0m\n",
       "\u001b[1m   Row \u001b[0m│\u001b[1m Suburb             \u001b[0m\u001b[1m Address             \u001b[0m\u001b[1m Rooms \u001b[0m\u001b[1m Type    \u001b[0m\u001b[1m Price    \u001b[0m\u001b[1m Me\u001b[0m ⋯\n",
       "\u001b[1m       \u001b[0m│\u001b[90m String31           \u001b[0m\u001b[90m String31            \u001b[0m\u001b[90m Int64 \u001b[0m\u001b[90m String1 \u001b[0m\u001b[90m String15 \u001b[0m\u001b[90m St\u001b[0m ⋯\n",
       "───────┼────────────────────────────────────────────────────────────────────────\n",
       "     1 │ Abbotsford          68 Studley St            2  h                  SS ⋯\n",
       "     2 │ Abbotsford          85 Turner St             2  h        1480000   S\n",
       "     3 │ Abbotsford          25 Bloomburg St          2  h        1035000   S\n",
       "     4 │ Abbotsford          18/659 Victoria St       3  u                  VB\n",
       "     5 │ Abbotsford          5 Charles St             3  h        1465000   SP ⋯\n",
       "     6 │ Abbotsford          40 Federation La         3  h        850000    PI\n",
       "     7 │ Abbotsford          55a Park St              4  h        1600000   VB\n",
       "     8 │ Abbotsford          16 Maugie St             4  h                  SN\n",
       "     9 │ Abbotsford          53 Turner St             2  h                  S  ⋯\n",
       "    10 │ Abbotsford          99 Turner St             2  h                  S\n",
       "    11 │ Abbotsford          129 Charles St           2  h        941000    S\n",
       "   ⋮   │         ⋮                    ⋮             ⋮       ⋮        ⋮         ⋱\n",
       " 34848 │ Wollert             27 Birchmore Rd          3  h        500000    PI\n",
       " 34849 │ Wollert             16 Gunther Wy            4  h        621000    S  ⋯\n",
       " 34850 │ Wollert             35 Kingscote Wy          3  h        570000    SP\n",
       " 34851 │ Wollert             15 Rockgarden Wy         3  h                  SP\n",
       " 34852 │ Yarraville          78 Bayview Rd            3  h        1101000   S\n",
       " 34853 │ Yarraville          13 Burns St              4  h        1480000   PI ⋯\n",
       " 34854 │ Yarraville          29A Murray St            2  h        888000    SP\n",
       " 34855 │ Yarraville          147A Severn St           2  t        705000    S\n",
       " 34856 │ Yarraville          12/37 Stephen St         3  h        1140000   SP\n",
       " 34857 │ Yarraville          3 Tarrengower St         2  h        1020000   PI ⋯\n",
       "\u001b[36m                                               16 columns and 34836 rows omitted\u001b[0m"
      ]
     },
     "execution_count": 49,
     "metadata": {},
     "output_type": "execute_result"
    }
   ],
   "source": [
    "df = CSV.read(\"../data/Melbourne_housing_FULL.csv\", DataFrame,missingstring = [\"N/A\", \"#N/A\"])"
   ]
  },
  {
   "cell_type": "code",
   "execution_count": 47,
   "metadata": {},
   "outputs": [
    {
     "data": {
      "text/plain": [
       "34857-element PooledArrays.PooledVector{String7, UInt32, Vector{UInt32}}:\n",
       " \"2.5\"\n",
       " \"2.5\"\n",
       " \"2.5\"\n",
       " \"2.5\"\n",
       " \"2.5\"\n",
       " \"2.5\"\n",
       " \"2.5\"\n",
       " \"2.5\"\n",
       " \"2.5\"\n",
       " \"2.5\"\n",
       " \"2.5\"\n",
       " \"2.5\"\n",
       " \"2.5\"\n",
       " ⋮\n",
       " \"4.6\"\n",
       " \"25.5\"\n",
       " \"25.5\"\n",
       " \"25.5\"\n",
       " \"25.5\"\n",
       " \"25.5\"\n",
       " \"6.3\"\n",
       " \"6.3\"\n",
       " \"6.3\"\n",
       " \"6.3\"\n",
       " \"6.3\"\n",
       " \"6.3\""
      ]
     },
     "execution_count": 47,
     "metadata": {},
     "output_type": "execute_result"
    }
   ],
   "source": [
    "df.Distance"
   ]
  },
  {
   "cell_type": "code",
   "execution_count": 50,
   "metadata": {},
   "outputs": [
    {
     "data": {
      "text/plain": [
       "1"
      ]
     },
     "execution_count": 50,
     "metadata": {},
     "output_type": "execute_result"
    }
   ],
   "source": [
    "ismissing.(df.Distance) |> sum"
   ]
  },
  {
   "cell_type": "code",
   "execution_count": 51,
   "metadata": {},
   "outputs": [
    {
     "data": {
      "text/plain": [
       "34857"
      ]
     },
     "execution_count": 51,
     "metadata": {},
     "output_type": "execute_result"
    }
   ],
   "source": [
    "length(df.Distance)"
   ]
  },
  {
   "cell_type": "code",
   "execution_count": 59,
   "metadata": {},
   "outputs": [
    {
     "data": {
      "text/plain": [
       "1"
      ]
     },
     "execution_count": 59,
     "metadata": {},
     "output_type": "execute_result"
    }
   ],
   "source": [
    "ismissing.(df.Distance) |> sum"
   ]
  },
  {
   "cell_type": "code",
   "execution_count": 55,
   "metadata": {},
   "outputs": [
    {
     "ename": "LoadError",
     "evalue": "MethodError: no method matching dropmissing(::Float64)\n\u001b[0mClosest candidates are:\n\u001b[0m  dropmissing(\u001b[91m::AbstractDataFrame\u001b[39m) at /Users/uqjnazar/.julia/packages/DataFrames/vuMM8/src/abstractdataframe/abstractdataframe.jl:858\n\u001b[0m  dropmissing(\u001b[91m::AbstractDataFrame\u001b[39m, \u001b[91m::Union{Colon, Regex, AbstractString, Signed, Symbol, Unsigned, AbstractVector{T} where T, All, Between, Cols, InvertedIndex}\u001b[39m; view, disallowmissing) at /Users/uqjnazar/.julia/packages/DataFrames/vuMM8/src/abstractdataframe/abstractdataframe.jl:858",
     "output_type": "error",
     "traceback": [
      "MethodError: no method matching dropmissing(::Float64)\n\u001b[0mClosest candidates are:\n\u001b[0m  dropmissing(\u001b[91m::AbstractDataFrame\u001b[39m) at /Users/uqjnazar/.julia/packages/DataFrames/vuMM8/src/abstractdataframe/abstractdataframe.jl:858\n\u001b[0m  dropmissing(\u001b[91m::AbstractDataFrame\u001b[39m, \u001b[91m::Union{Colon, Regex, AbstractString, Signed, Symbol, Unsigned, AbstractVector{T} where T, All, Between, Cols, InvertedIndex}\u001b[39m; view, disallowmissing) at /Users/uqjnazar/.julia/packages/DataFrames/vuMM8/src/abstractdataframe/abstractdataframe.jl:858",
      "",
      "Stacktrace:",
      " [1] _broadcast_getindex_evalf",
      "   @ ./broadcast.jl:648 [inlined]",
      " [2] _broadcast_getindex",
      "   @ ./broadcast.jl:621 [inlined]",
      " [3] getindex",
      "   @ ./broadcast.jl:575 [inlined]",
      " [4] copy",
      "   @ ./broadcast.jl:922 [inlined]",
      " [5] materialize(bc::Base.Broadcast.Broadcasted{Base.Broadcast.DefaultArrayStyle{1}, Nothing, typeof(dropmissing), Tuple{SentinelArrays.SentinelVector{Float64, Float64, Missing, Vector{Float64}}}})",
      "   @ Base.Broadcast ./broadcast.jl:883",
      " [6] top-level scope",
      "   @ In[55]:1",
      " [7] eval",
      "   @ ./boot.jl:360 [inlined]",
      " [8] include_string(mapexpr::typeof(REPL.softscope), mod::Module, code::String, filename::String)",
      "   @ Base ./loading.jl:1094"
     ]
    }
   ],
   "source": [
    "length(dropmissing.(df.Distance))"
   ]
  },
  {
   "cell_type": "code",
   "execution_count": 65,
   "metadata": {},
   "outputs": [],
   "source": [
    "using Statistics"
   ]
  },
  {
   "cell_type": "code",
   "execution_count": 67,
   "metadata": {},
   "outputs": [
    {
     "data": {
      "text/plain": [
       "missing"
      ]
     },
     "execution_count": 67,
     "metadata": {},
     "output_type": "execute_result"
    }
   ],
   "source": [
    "mean(df.Distance)"
   ]
  },
  {
   "cell_type": "code",
   "execution_count": 66,
   "metadata": {},
   "outputs": [
    {
     "data": {
      "text/plain": [
       "11.184929423916575"
      ]
     },
     "execution_count": 66,
     "metadata": {},
     "output_type": "execute_result"
    }
   ],
   "source": [
    "mean(skipmissing(df.Distance))"
   ]
  },
  {
   "cell_type": "code",
   "execution_count": 68,
   "metadata": {},
   "outputs": [
    {
     "data": {
      "text/plain": [
       "g (generic function with 1 method)"
      ]
     },
     "execution_count": 68,
     "metadata": {},
     "output_type": "execute_result"
    }
   ],
   "source": [
    "f(x) = x^2\n",
    "g(x) = abs(x+1)"
   ]
  },
  {
   "cell_type": "code",
   "execution_count": 69,
   "metadata": {},
   "outputs": [
    {
     "data": {
      "text/plain": [
       "5"
      ]
     },
     "execution_count": 69,
     "metadata": {},
     "output_type": "execute_result"
    }
   ],
   "source": [
    "g(f(2))"
   ]
  },
  {
   "cell_type": "code",
   "execution_count": 70,
   "metadata": {},
   "outputs": [
    {
     "data": {
      "text/plain": [
       "5"
      ]
     },
     "execution_count": 70,
     "metadata": {},
     "output_type": "execute_result"
    }
   ],
   "source": [
    "f(2) |> g # just like g(f(2))"
   ]
  },
  {
   "cell_type": "code",
   "execution_count": 73,
   "metadata": {},
   "outputs": [
    {
     "data": {
      "text/plain": [
       "3-element Vector{Int64}:\n",
       " 1\n",
       " 2\n",
       " 3"
      ]
     },
     "execution_count": 73,
     "metadata": {},
     "output_type": "execute_result"
    }
   ],
   "source": [
    "array =[1,2,3]"
   ]
  },
  {
   "cell_type": "code",
   "execution_count": 74,
   "metadata": {},
   "outputs": [
    {
     "name": "stdout",
     "output_type": "stream",
     "text": [
      "[1, 2, 3]\n"
     ]
    }
   ],
   "source": [
    "println(array)"
   ]
  },
  {
   "cell_type": "code",
   "execution_count": 75,
   "metadata": {},
   "outputs": [
    {
     "name": "stdout",
     "output_type": "stream",
     "text": [
      "[1, 2, 3]\n"
     ]
    }
   ],
   "source": [
    "array |> println"
   ]
  },
  {
   "cell_type": "code",
   "execution_count": 79,
   "metadata": {},
   "outputs": [
    {
     "name": "stdout",
     "output_type": "stream",
     "text": [
      "search: \u001b[0m\u001b[1mp\u001b[22m\u001b[0m\u001b[1ma\u001b[22m\u001b[0m\u001b[1mr\u001b[22m\u001b[0m\u001b[1ms\u001b[22m\u001b[0m\u001b[1me\u001b[22m try\u001b[0m\u001b[1mp\u001b[22m\u001b[0m\u001b[1ma\u001b[22m\u001b[0m\u001b[1mr\u001b[22m\u001b[0m\u001b[1ms\u001b[22m\u001b[0m\u001b[1me\u001b[22m \u001b[0m\u001b[1mp\u001b[22m\u001b[0m\u001b[1ma\u001b[22m\u001b[0m\u001b[1mr\u001b[22mtial\u001b[0m\u001b[1ms\u001b[22mortp\u001b[0m\u001b[1me\u001b[22mrm \u001b[0m\u001b[1mp\u001b[22m\u001b[0m\u001b[1ma\u001b[22m\u001b[0m\u001b[1mr\u001b[22mtial\u001b[0m\u001b[1ms\u001b[22mortp\u001b[0m\u001b[1me\u001b[22mrm! \u001b[0m\u001b[1mp\u001b[22m\u001b[0m\u001b[1ma\u001b[22mi\u001b[0m\u001b[1mr\u001b[22m\u001b[0m\u001b[1ms\u001b[22m ski\u001b[0m\u001b[1mp\u001b[22mch\u001b[0m\u001b[1ma\u001b[22m\u001b[0m\u001b[1mr\u001b[22m\u001b[0m\u001b[1ms\u001b[22m\n",
      "\n"
     ]
    },
    {
     "data": {
      "text/latex": [
       "\\begin{verbatim}\n",
       "parse(type, str; base)\n",
       "\\end{verbatim}\n",
       "Parse a string as a number. For \\texttt{Integer} types, a base can be specified (the default is 10). For floating-point types, the string is parsed as a decimal floating-point number.  \\texttt{Complex} types are parsed from decimal strings of the form \\texttt{\"R±Iim\"} as a \\texttt{Complex(R,I)} of the requested type; \\texttt{\"i\"} or \\texttt{\"j\"} can also be used instead of \\texttt{\"im\"}, and \\texttt{\"R\"} or \\texttt{\"Iim\"} are also permitted. If the string does not contain a valid number, an error is raised.\n",
       "\n",
       "\\begin{quote}\n",
       "\\textbf{compat}\n",
       "\n",
       "Julia 1.1\n",
       "\n",
       "\\texttt{parse(Bool, str)} requires at least Julia 1.1.\n",
       "\n",
       "\\end{quote}\n",
       "\\section{Examples}\n",
       "\\begin{verbatim}\n",
       "julia> parse(Int, \"1234\")\n",
       "1234\n",
       "\n",
       "julia> parse(Int, \"1234\", base = 5)\n",
       "194\n",
       "\n",
       "julia> parse(Int, \"afc\", base = 16)\n",
       "2812\n",
       "\n",
       "julia> parse(Float64, \"1.2e-3\")\n",
       "0.0012\n",
       "\n",
       "julia> parse(Complex{Float64}, \"3.2e-1 + 4.5im\")\n",
       "0.32 + 4.5im\n",
       "\\end{verbatim}\n",
       "\\rule{\\textwidth}{1pt}\n",
       "\\begin{verbatim}\n",
       "parse(::Type{Platform}, triplet::AbstractString)\n",
       "\\end{verbatim}\n",
       "Parses a string platform triplet back into a \\texttt{Platform} object.\n",
       "\n"
      ],
      "text/markdown": [
       "```\n",
       "parse(type, str; base)\n",
       "```\n",
       "\n",
       "Parse a string as a number. For `Integer` types, a base can be specified (the default is 10). For floating-point types, the string is parsed as a decimal floating-point number.  `Complex` types are parsed from decimal strings of the form `\"R±Iim\"` as a `Complex(R,I)` of the requested type; `\"i\"` or `\"j\"` can also be used instead of `\"im\"`, and `\"R\"` or `\"Iim\"` are also permitted. If the string does not contain a valid number, an error is raised.\n",
       "\n",
       "!!! compat \"Julia 1.1\"\n",
       "    `parse(Bool, str)` requires at least Julia 1.1.\n",
       "\n",
       "\n",
       "# Examples\n",
       "\n",
       "```jldoctest\n",
       "julia> parse(Int, \"1234\")\n",
       "1234\n",
       "\n",
       "julia> parse(Int, \"1234\", base = 5)\n",
       "194\n",
       "\n",
       "julia> parse(Int, \"afc\", base = 16)\n",
       "2812\n",
       "\n",
       "julia> parse(Float64, \"1.2e-3\")\n",
       "0.0012\n",
       "\n",
       "julia> parse(Complex{Float64}, \"3.2e-1 + 4.5im\")\n",
       "0.32 + 4.5im\n",
       "```\n",
       "\n",
       "---\n",
       "\n",
       "```\n",
       "parse(::Type{Platform}, triplet::AbstractString)\n",
       "```\n",
       "\n",
       "Parses a string platform triplet back into a `Platform` object.\n"
      ],
      "text/plain": [
       "\u001b[36m  parse(type, str; base)\u001b[39m\n",
       "\n",
       "  Parse a string as a number. For \u001b[36mInteger\u001b[39m types, a base can be specified (the\n",
       "  default is 10). For floating-point types, the string is parsed as a decimal\n",
       "  floating-point number. \u001b[36mComplex\u001b[39m types are parsed from decimal strings of the\n",
       "  form \u001b[36m\"R±Iim\"\u001b[39m as a \u001b[36mComplex(R,I)\u001b[39m of the requested type; \u001b[36m\"i\"\u001b[39m or \u001b[36m\"j\"\u001b[39m can also be\n",
       "  used instead of \u001b[36m\"im\"\u001b[39m, and \u001b[36m\"R\"\u001b[39m or \u001b[36m\"Iim\"\u001b[39m are also permitted. If the string\n",
       "  does not contain a valid number, an error is raised.\n",
       "\n",
       "\u001b[39m\u001b[1m  │ \u001b[22m\u001b[39m\u001b[1mJulia 1.1\u001b[22m\n",
       "\u001b[39m\u001b[1m  │\u001b[22m\n",
       "\u001b[39m\u001b[1m  │\u001b[22m  \u001b[36mparse(Bool, str)\u001b[39m requires at least Julia 1.1.\n",
       "\n",
       "\u001b[1m  Examples\u001b[22m\n",
       "\u001b[1m  ≡≡≡≡≡≡≡≡≡≡\u001b[22m\n",
       "\n",
       "\u001b[36m  julia> parse(Int, \"1234\")\u001b[39m\n",
       "\u001b[36m  1234\u001b[39m\n",
       "\u001b[36m  \u001b[39m\n",
       "\u001b[36m  julia> parse(Int, \"1234\", base = 5)\u001b[39m\n",
       "\u001b[36m  194\u001b[39m\n",
       "\u001b[36m  \u001b[39m\n",
       "\u001b[36m  julia> parse(Int, \"afc\", base = 16)\u001b[39m\n",
       "\u001b[36m  2812\u001b[39m\n",
       "\u001b[36m  \u001b[39m\n",
       "\u001b[36m  julia> parse(Float64, \"1.2e-3\")\u001b[39m\n",
       "\u001b[36m  0.0012\u001b[39m\n",
       "\u001b[36m  \u001b[39m\n",
       "\u001b[36m  julia> parse(Complex{Float64}, \"3.2e-1 + 4.5im\")\u001b[39m\n",
       "\u001b[36m  0.32 + 4.5im\u001b[39m\n",
       "\n",
       "  ────────────────────────────────────────────────────────────────────────────\n",
       "\n",
       "\u001b[36m  parse(::Type{Platform}, triplet::AbstractString)\u001b[39m\n",
       "\n",
       "  Parses a string platform triplet back into a \u001b[36mPlatform\u001b[39m object."
      ]
     },
     "execution_count": 79,
     "metadata": {},
     "output_type": "execute_result"
    }
   ],
   "source": [
    "?parse"
   ]
  },
  {
   "cell_type": "code",
   "execution_count": 81,
   "metadata": {},
   "outputs": [
    {
     "data": {
      "text/plain": [
       "Float64"
      ]
     },
     "execution_count": 81,
     "metadata": {},
     "output_type": "execute_result"
    }
   ],
   "source": [
    "df.Distance[1] |> typeof"
   ]
  },
  {
   "cell_type": "code",
   "execution_count": 78,
   "metadata": {},
   "outputs": [
    {
     "ename": "LoadError",
     "evalue": "MethodError: no method matching parse(::Type{Float64}, ::Float64)\n\u001b[0mClosest candidates are:\n\u001b[0m  parse(::Type{T}, \u001b[91m::AbstractString\u001b[39m; kwargs...) where T<:Real at parse.jl:379",
     "output_type": "error",
     "traceback": [
      "MethodError: no method matching parse(::Type{Float64}, ::Float64)\n\u001b[0mClosest candidates are:\n\u001b[0m  parse(::Type{T}, \u001b[91m::AbstractString\u001b[39m; kwargs...) where T<:Real at parse.jl:379",
      "",
      "Stacktrace:",
      " [1] _broadcast_getindex_evalf",
      "   @ ./broadcast.jl:648 [inlined]",
      " [2] _broadcast_getindex",
      "   @ ./broadcast.jl:631 [inlined]",
      " [3] getindex",
      "   @ ./broadcast.jl:575 [inlined]",
      " [4] copy",
      "   @ ./broadcast.jl:898 [inlined]",
      " [5] materialize(bc::Base.Broadcast.Broadcasted{Base.Broadcast.DefaultArrayStyle{0}, Nothing, typeof(parse), Tuple{Base.RefValue{Type{Float64}}, Float64}})",
      "   @ Base.Broadcast ./broadcast.jl:883",
      " [6] top-level scope",
      "   @ In[78]:1",
      " [7] eval",
      "   @ ./boot.jl:360 [inlined]",
      " [8] include_string(mapexpr::typeof(REPL.softscope), mod::Module, code::String, filename::String)",
      "   @ Base ./loading.jl:1094"
     ]
    }
   ],
   "source": [
    "parse.(Float64, df.Distance[1])"
   ]
  },
  {
   "cell_type": "code",
   "execution_count": 86,
   "metadata": {},
   "outputs": [
    {
     "data": {
      "text/html": [
       "<div class=\"data-frame\"><p>34,857 rows × 1 columns</p><table class=\"data-frame\"><thead><tr><th></th><th>Distance</th></tr><tr><th></th><th title=\"Union{Missing, Float64}\">Float64?</th></tr></thead><tbody><tr><th>1</th><td>2.5</td></tr><tr><th>2</th><td>2.5</td></tr><tr><th>3</th><td>2.5</td></tr><tr><th>4</th><td>2.5</td></tr><tr><th>5</th><td>2.5</td></tr><tr><th>6</th><td>2.5</td></tr><tr><th>7</th><td>2.5</td></tr><tr><th>8</th><td>2.5</td></tr><tr><th>9</th><td>2.5</td></tr><tr><th>10</th><td>2.5</td></tr><tr><th>11</th><td>2.5</td></tr><tr><th>12</th><td>2.5</td></tr><tr><th>13</th><td>2.5</td></tr><tr><th>14</th><td>2.5</td></tr><tr><th>15</th><td>2.5</td></tr><tr><th>16</th><td>2.5</td></tr><tr><th>17</th><td>2.5</td></tr><tr><th>18</th><td>2.5</td></tr><tr><th>19</th><td>2.5</td></tr><tr><th>20</th><td>2.5</td></tr><tr><th>21</th><td>2.5</td></tr><tr><th>22</th><td>2.5</td></tr><tr><th>23</th><td>2.5</td></tr><tr><th>24</th><td>2.5</td></tr><tr><th>25</th><td>2.5</td></tr><tr><th>26</th><td>2.5</td></tr><tr><th>27</th><td>2.5</td></tr><tr><th>28</th><td>2.5</td></tr><tr><th>29</th><td>2.5</td></tr><tr><th>30</th><td>2.5</td></tr><tr><th>&vellip;</th><td>&vellip;</td></tr></tbody></table></div>"
      ],
      "text/latex": [
       "\\begin{tabular}{r|c}\n",
       "\t& Distance\\\\\n",
       "\t\\hline\n",
       "\t& Float64?\\\\\n",
       "\t\\hline\n",
       "\t1 & 2.5 \\\\\n",
       "\t2 & 2.5 \\\\\n",
       "\t3 & 2.5 \\\\\n",
       "\t4 & 2.5 \\\\\n",
       "\t5 & 2.5 \\\\\n",
       "\t6 & 2.5 \\\\\n",
       "\t7 & 2.5 \\\\\n",
       "\t8 & 2.5 \\\\\n",
       "\t9 & 2.5 \\\\\n",
       "\t10 & 2.5 \\\\\n",
       "\t11 & 2.5 \\\\\n",
       "\t12 & 2.5 \\\\\n",
       "\t13 & 2.5 \\\\\n",
       "\t14 & 2.5 \\\\\n",
       "\t15 & 2.5 \\\\\n",
       "\t16 & 2.5 \\\\\n",
       "\t17 & 2.5 \\\\\n",
       "\t18 & 2.5 \\\\\n",
       "\t19 & 2.5 \\\\\n",
       "\t20 & 2.5 \\\\\n",
       "\t21 & 2.5 \\\\\n",
       "\t22 & 2.5 \\\\\n",
       "\t23 & 2.5 \\\\\n",
       "\t24 & 2.5 \\\\\n",
       "\t25 & 2.5 \\\\\n",
       "\t26 & 2.5 \\\\\n",
       "\t27 & 2.5 \\\\\n",
       "\t28 & 2.5 \\\\\n",
       "\t29 & 2.5 \\\\\n",
       "\t30 & 2.5 \\\\\n",
       "\t$\\dots$ & $\\dots$ \\\\\n",
       "\\end{tabular}\n"
      ],
      "text/plain": [
       "\u001b[1m34857×1 DataFrame\u001b[0m\n",
       "\u001b[1m   Row \u001b[0m│\u001b[1m Distance \u001b[0m\n",
       "\u001b[1m       \u001b[0m│\u001b[90m Float64? \u001b[0m\n",
       "───────┼──────────\n",
       "     1 │      2.5\n",
       "     2 │      2.5\n",
       "     3 │      2.5\n",
       "     4 │      2.5\n",
       "     5 │      2.5\n",
       "     6 │      2.5\n",
       "     7 │      2.5\n",
       "     8 │      2.5\n",
       "     9 │      2.5\n",
       "    10 │      2.5\n",
       "    11 │      2.5\n",
       "   ⋮   │    ⋮\n",
       " 34848 │     25.5\n",
       " 34849 │     25.5\n",
       " 34850 │     25.5\n",
       " 34851 │     25.5\n",
       " 34852 │      6.3\n",
       " 34853 │      6.3\n",
       " 34854 │      6.3\n",
       " 34855 │      6.3\n",
       " 34856 │      6.3\n",
       " 34857 │      6.3\n",
       "\u001b[36m34836 rows omitted\u001b[0m"
      ]
     },
     "execution_count": 86,
     "metadata": {},
     "output_type": "execute_result"
    }
   ],
   "source": [
    "df[:,[:Distance]]"
   ]
  },
  {
   "cell_type": "code",
   "execution_count": 91,
   "metadata": {},
   "outputs": [
    {
     "data": {
      "text/plain": [
       "34857×1 Matrix{Union{Missing, Float64}}:\n",
       "  2.5\n",
       "  2.5\n",
       "  2.5\n",
       "  2.5\n",
       "  2.5\n",
       "  2.5\n",
       "  2.5\n",
       "  2.5\n",
       "  2.5\n",
       "  2.5\n",
       "  2.5\n",
       "  2.5\n",
       "  2.5\n",
       "  ⋮\n",
       "  4.6\n",
       " 25.5\n",
       " 25.5\n",
       " 25.5\n",
       " 25.5\n",
       " 25.5\n",
       "  6.3\n",
       "  6.3\n",
       "  6.3\n",
       "  6.3\n",
       "  6.3\n",
       "  6.3"
      ]
     },
     "execution_count": 91,
     "metadata": {},
     "output_type": "execute_result"
    }
   ],
   "source": [
    "df[:,[:Distance]] |> Tables.Matrix |> float"
   ]
  },
  {
   "cell_type": "code",
   "execution_count": 92,
   "metadata": {},
   "outputs": [
    {
     "data": {
      "text/html": [
       "<div class=\"data-frame\"><p>34,857 rows × 21 columns (omitted printing of 14 columns)</p><table class=\"data-frame\"><thead><tr><th></th><th>Suburb</th><th>Address</th><th>Rooms</th><th>Type</th><th>Price</th><th>Method</th><th>SellerG</th></tr><tr><th></th><th title=\"String31\">String31</th><th title=\"String31\">String31</th><th title=\"Int64\">Int64</th><th title=\"String1\">String1</th><th title=\"String15\">String15</th><th title=\"String3\">String3</th><th title=\"String31\">String31</th></tr></thead><tbody><tr><th>1</th><td>Abbotsford</td><td>68 Studley St</td><td>2</td><td>h</td><td></td><td>SS</td><td>Jellis</td></tr><tr><th>2</th><td>Abbotsford</td><td>85 Turner St</td><td>2</td><td>h</td><td>1480000</td><td>S</td><td>Biggin</td></tr><tr><th>3</th><td>Abbotsford</td><td>25 Bloomburg St</td><td>2</td><td>h</td><td>1035000</td><td>S</td><td>Biggin</td></tr><tr><th>4</th><td>Abbotsford</td><td>18/659 Victoria St</td><td>3</td><td>u</td><td></td><td>VB</td><td>Rounds</td></tr><tr><th>5</th><td>Abbotsford</td><td>5 Charles St</td><td>3</td><td>h</td><td>1465000</td><td>SP</td><td>Biggin</td></tr><tr><th>6</th><td>Abbotsford</td><td>40 Federation La</td><td>3</td><td>h</td><td>850000</td><td>PI</td><td>Biggin</td></tr><tr><th>7</th><td>Abbotsford</td><td>55a Park St</td><td>4</td><td>h</td><td>1600000</td><td>VB</td><td>Nelson</td></tr><tr><th>8</th><td>Abbotsford</td><td>16 Maugie St</td><td>4</td><td>h</td><td></td><td>SN</td><td>Nelson</td></tr><tr><th>9</th><td>Abbotsford</td><td>53 Turner St</td><td>2</td><td>h</td><td></td><td>S</td><td>Biggin</td></tr><tr><th>10</th><td>Abbotsford</td><td>99 Turner St</td><td>2</td><td>h</td><td></td><td>S</td><td>Collins</td></tr><tr><th>11</th><td>Abbotsford</td><td>129 Charles St</td><td>2</td><td>h</td><td>941000</td><td>S</td><td>Jellis</td></tr><tr><th>12</th><td>Abbotsford</td><td>124 Yarra St</td><td>3</td><td>h</td><td>1876000</td><td>S</td><td>Nelson</td></tr><tr><th>13</th><td>Abbotsford</td><td>121/56 Nicholson St</td><td>2</td><td>u</td><td></td><td>PI</td><td>Biggin</td></tr><tr><th>14</th><td>Abbotsford</td><td>17 Raphael St</td><td>4</td><td>h</td><td></td><td>W</td><td>Biggin</td></tr><tr><th>15</th><td>Abbotsford</td><td>98 Charles St</td><td>2</td><td>h</td><td>1636000</td><td>S</td><td>Nelson</td></tr><tr><th>16</th><td>Abbotsford</td><td>217 Langridge St</td><td>3</td><td>h</td><td>1000000</td><td>S</td><td>Jellis</td></tr><tr><th>17</th><td>Abbotsford</td><td>18a Mollison St</td><td>2</td><td>t</td><td>745000</td><td>S</td><td>Jellis</td></tr><tr><th>18</th><td>Abbotsford</td><td>6/241 Nicholson St</td><td>1</td><td>u</td><td>300000</td><td>S</td><td>Biggin</td></tr><tr><th>19</th><td>Abbotsford</td><td>10 Valiant St</td><td>2</td><td>h</td><td>1097000</td><td>S</td><td>Biggin</td></tr><tr><th>20</th><td>Abbotsford</td><td>403/609 Victoria St</td><td>2</td><td>u</td><td>542000</td><td>S</td><td>Dingle</td></tr><tr><th>21</th><td>Abbotsford</td><td>2 Rich St</td><td>2</td><td>h</td><td></td><td>SP</td><td>Biggin</td></tr><tr><th>22</th><td>Abbotsford</td><td>25/84 Trenerry Cr</td><td>2</td><td>u</td><td>760000</td><td>SP</td><td>Biggin</td></tr><tr><th>23</th><td>Abbotsford</td><td>106/119 Turner St</td><td>1</td><td>u</td><td>481000</td><td>SP</td><td>Purplebricks</td></tr><tr><th>24</th><td>Abbotsford</td><td>411/8 Grosvenor St</td><td>2</td><td>u</td><td>700000</td><td>VB</td><td>Jellis</td></tr><tr><th>25</th><td>Abbotsford</td><td>40 Nicholson St</td><td>3</td><td>h</td><td>1350000</td><td>VB</td><td>Nelson</td></tr><tr><th>26</th><td>Abbotsford</td><td>123/56 Nicholson St</td><td>2</td><td>u</td><td>750000</td><td>S</td><td>Biggin</td></tr><tr><th>27</th><td>Abbotsford</td><td>22 Park St</td><td>4</td><td>h</td><td>1985000</td><td>S</td><td>Biggin</td></tr><tr><th>28</th><td>Abbotsford</td><td>13/84 Trenerry Cr</td><td>1</td><td>u</td><td>500000</td><td>S</td><td>Biggin</td></tr><tr><th>29</th><td>Abbotsford</td><td>45 William St</td><td>2</td><td>h</td><td>1172500</td><td>S</td><td>Biggin</td></tr><tr><th>30</th><td>Abbotsford</td><td>7/20 Abbotsford St</td><td>1</td><td>u</td><td>441000</td><td>SP</td><td>Greg</td></tr><tr><th>&vellip;</th><td>&vellip;</td><td>&vellip;</td><td>&vellip;</td><td>&vellip;</td><td>&vellip;</td><td>&vellip;</td><td>&vellip;</td></tr></tbody></table></div>"
      ],
      "text/latex": [
       "\\begin{tabular}{r|cccccccc}\n",
       "\t& Suburb & Address & Rooms & Type & Price & Method & SellerG & \\\\\n",
       "\t\\hline\n",
       "\t& String31 & String31 & Int64 & String1 & String15 & String3 & String31 & \\\\\n",
       "\t\\hline\n",
       "\t1 & Abbotsford & 68 Studley St & 2 & h &  & SS & Jellis & $\\dots$ \\\\\n",
       "\t2 & Abbotsford & 85 Turner St & 2 & h & 1480000 & S & Biggin & $\\dots$ \\\\\n",
       "\t3 & Abbotsford & 25 Bloomburg St & 2 & h & 1035000 & S & Biggin & $\\dots$ \\\\\n",
       "\t4 & Abbotsford & 18/659 Victoria St & 3 & u &  & VB & Rounds & $\\dots$ \\\\\n",
       "\t5 & Abbotsford & 5 Charles St & 3 & h & 1465000 & SP & Biggin & $\\dots$ \\\\\n",
       "\t6 & Abbotsford & 40 Federation La & 3 & h & 850000 & PI & Biggin & $\\dots$ \\\\\n",
       "\t7 & Abbotsford & 55a Park St & 4 & h & 1600000 & VB & Nelson & $\\dots$ \\\\\n",
       "\t8 & Abbotsford & 16 Maugie St & 4 & h &  & SN & Nelson & $\\dots$ \\\\\n",
       "\t9 & Abbotsford & 53 Turner St & 2 & h &  & S & Biggin & $\\dots$ \\\\\n",
       "\t10 & Abbotsford & 99 Turner St & 2 & h &  & S & Collins & $\\dots$ \\\\\n",
       "\t11 & Abbotsford & 129 Charles St & 2 & h & 941000 & S & Jellis & $\\dots$ \\\\\n",
       "\t12 & Abbotsford & 124 Yarra St & 3 & h & 1876000 & S & Nelson & $\\dots$ \\\\\n",
       "\t13 & Abbotsford & 121/56 Nicholson St & 2 & u &  & PI & Biggin & $\\dots$ \\\\\n",
       "\t14 & Abbotsford & 17 Raphael St & 4 & h &  & W & Biggin & $\\dots$ \\\\\n",
       "\t15 & Abbotsford & 98 Charles St & 2 & h & 1636000 & S & Nelson & $\\dots$ \\\\\n",
       "\t16 & Abbotsford & 217 Langridge St & 3 & h & 1000000 & S & Jellis & $\\dots$ \\\\\n",
       "\t17 & Abbotsford & 18a Mollison St & 2 & t & 745000 & S & Jellis & $\\dots$ \\\\\n",
       "\t18 & Abbotsford & 6/241 Nicholson St & 1 & u & 300000 & S & Biggin & $\\dots$ \\\\\n",
       "\t19 & Abbotsford & 10 Valiant St & 2 & h & 1097000 & S & Biggin & $\\dots$ \\\\\n",
       "\t20 & Abbotsford & 403/609 Victoria St & 2 & u & 542000 & S & Dingle & $\\dots$ \\\\\n",
       "\t21 & Abbotsford & 2 Rich St & 2 & h &  & SP & Biggin & $\\dots$ \\\\\n",
       "\t22 & Abbotsford & 25/84 Trenerry Cr & 2 & u & 760000 & SP & Biggin & $\\dots$ \\\\\n",
       "\t23 & Abbotsford & 106/119 Turner St & 1 & u & 481000 & SP & Purplebricks & $\\dots$ \\\\\n",
       "\t24 & Abbotsford & 411/8 Grosvenor St & 2 & u & 700000 & VB & Jellis & $\\dots$ \\\\\n",
       "\t25 & Abbotsford & 40 Nicholson St & 3 & h & 1350000 & VB & Nelson & $\\dots$ \\\\\n",
       "\t26 & Abbotsford & 123/56 Nicholson St & 2 & u & 750000 & S & Biggin & $\\dots$ \\\\\n",
       "\t27 & Abbotsford & 22 Park St & 4 & h & 1985000 & S & Biggin & $\\dots$ \\\\\n",
       "\t28 & Abbotsford & 13/84 Trenerry Cr & 1 & u & 500000 & S & Biggin & $\\dots$ \\\\\n",
       "\t29 & Abbotsford & 45 William St & 2 & h & 1172500 & S & Biggin & $\\dots$ \\\\\n",
       "\t30 & Abbotsford & 7/20 Abbotsford St & 1 & u & 441000 & SP & Greg & $\\dots$ \\\\\n",
       "\t$\\dots$ & $\\dots$ & $\\dots$ & $\\dots$ & $\\dots$ & $\\dots$ & $\\dots$ & $\\dots$ &  \\\\\n",
       "\\end{tabular}\n"
      ],
      "text/plain": [
       "\u001b[1m34857×21 DataFrame\u001b[0m\n",
       "\u001b[1m   Row \u001b[0m│\u001b[1m Suburb             \u001b[0m\u001b[1m Address             \u001b[0m\u001b[1m Rooms \u001b[0m\u001b[1m Type    \u001b[0m\u001b[1m Price    \u001b[0m\u001b[1m Me\u001b[0m ⋯\n",
       "\u001b[1m       \u001b[0m│\u001b[90m String31           \u001b[0m\u001b[90m String31            \u001b[0m\u001b[90m Int64 \u001b[0m\u001b[90m String1 \u001b[0m\u001b[90m String15 \u001b[0m\u001b[90m St\u001b[0m ⋯\n",
       "───────┼────────────────────────────────────────────────────────────────────────\n",
       "     1 │ Abbotsford          68 Studley St            2  h                  SS ⋯\n",
       "     2 │ Abbotsford          85 Turner St             2  h        1480000   S\n",
       "     3 │ Abbotsford          25 Bloomburg St          2  h        1035000   S\n",
       "     4 │ Abbotsford          18/659 Victoria St       3  u                  VB\n",
       "     5 │ Abbotsford          5 Charles St             3  h        1465000   SP ⋯\n",
       "     6 │ Abbotsford          40 Federation La         3  h        850000    PI\n",
       "     7 │ Abbotsford          55a Park St              4  h        1600000   VB\n",
       "     8 │ Abbotsford          16 Maugie St             4  h                  SN\n",
       "     9 │ Abbotsford          53 Turner St             2  h                  S  ⋯\n",
       "    10 │ Abbotsford          99 Turner St             2  h                  S\n",
       "    11 │ Abbotsford          129 Charles St           2  h        941000    S\n",
       "   ⋮   │         ⋮                    ⋮             ⋮       ⋮        ⋮         ⋱\n",
       " 34848 │ Wollert             27 Birchmore Rd          3  h        500000    PI\n",
       " 34849 │ Wollert             16 Gunther Wy            4  h        621000    S  ⋯\n",
       " 34850 │ Wollert             35 Kingscote Wy          3  h        570000    SP\n",
       " 34851 │ Wollert             15 Rockgarden Wy         3  h                  SP\n",
       " 34852 │ Yarraville          78 Bayview Rd            3  h        1101000   S\n",
       " 34853 │ Yarraville          13 Burns St              4  h        1480000   PI ⋯\n",
       " 34854 │ Yarraville          29A Murray St            2  h        888000    SP\n",
       " 34855 │ Yarraville          147A Severn St           2  t        705000    S\n",
       " 34856 │ Yarraville          12/37 Stephen St         3  h        1140000   SP\n",
       " 34857 │ Yarraville          3 Tarrengower St         2  h        1020000   PI ⋯\n",
       "\u001b[36m                                               16 columns and 34836 rows omitted\u001b[0m"
      ]
     },
     "execution_count": 92,
     "metadata": {},
     "output_type": "execute_result"
    }
   ],
   "source": [
    "df"
   ]
  },
  {
   "cell_type": "code",
   "execution_count": 99,
   "metadata": {},
   "outputs": [
    {
     "data": {
      "text/plain": [
       "transform_row (generic function with 1 method)"
      ]
     },
     "execution_count": 99,
     "metadata": {},
     "output_type": "execute_result"
    }
   ],
   "source": [
    "#Say I want a dataframe that just has the subburb string and distance to city\n",
    "\n",
    "function transform_row(df::DataFrame, row_index::Int)\n",
    "     (df[row_index, :Suburb], \n",
    "      isa(df[row_index, :Distance], String) ?  \n",
    "                        parse(Float64, df[row_index, :Distance]) \n",
    "                        : \n",
    "        df[row_index, :Distance]\n",
    "      )\n",
    "end"
   ]
  },
  {
   "cell_type": "code",
   "execution_count": 106,
   "metadata": {},
   "outputs": [
    {
     "name": "stdout",
     "output_type": "stream",
     "text": [
      "size(df) = (34857, 21)\n"
     ]
    }
   ],
   "source": [
    "@show size(df)\n",
    "n,d = size(df)\n",
    "for i in 1:n\n",
    "    new_row = transform_row(df,n)\n",
    "end"
   ]
  },
  {
   "cell_type": "code",
   "execution_count": 109,
   "metadata": {},
   "outputs": [
    {
     "data": {
      "text/plain": [
       "3-element Vector{String1}:\n",
       " \"h\"\n",
       " \"u\"\n",
       " \"t\""
      ]
     },
     "execution_count": 109,
     "metadata": {},
     "output_type": "execute_result"
    }
   ],
   "source": [
    "df.Type |> unique"
   ]
  },
  {
   "cell_type": "code",
   "execution_count": 110,
   "metadata": {},
   "outputs": [],
   "source": [
    "using StatsBase"
   ]
  },
  {
   "cell_type": "code",
   "execution_count": 111,
   "metadata": {},
   "outputs": [
    {
     "ename": "LoadError",
     "evalue": "MethodError: no method matching counts(::PooledArrays.PooledVector{String1, UInt32, Vector{UInt32}})\n\u001b[0mClosest candidates are:\n\u001b[0m  counts(\u001b[91m::AbstractArray{T, N} where {T<:Integer, N}\u001b[39m) at /Users/uqjnazar/.julia/packages/StatsBase/Q76Ni/src/counts.jl:85\n\u001b[0m  counts(\u001b[91m::AbstractArray{T, N} where {T<:Integer, N}\u001b[39m, \u001b[91m::UnitRange{T} where T<:Integer\u001b[39m) at /Users/uqjnazar/.julia/packages/StatsBase/Q76Ni/src/counts.jl:79\n\u001b[0m  counts(\u001b[91m::AbstractArray{T, N} where {T<:Integer, N}\u001b[39m, \u001b[91m::UnitRange{T} where T<:Integer\u001b[39m, \u001b[91m::AbstractWeights\u001b[39m) at /Users/uqjnazar/.julia/packages/StatsBase/Q76Ni/src/counts.jl:81\n\u001b[0m  ...",
     "output_type": "error",
     "traceback": [
      "MethodError: no method matching counts(::PooledArrays.PooledVector{String1, UInt32, Vector{UInt32}})\n\u001b[0mClosest candidates are:\n\u001b[0m  counts(\u001b[91m::AbstractArray{T, N} where {T<:Integer, N}\u001b[39m) at /Users/uqjnazar/.julia/packages/StatsBase/Q76Ni/src/counts.jl:85\n\u001b[0m  counts(\u001b[91m::AbstractArray{T, N} where {T<:Integer, N}\u001b[39m, \u001b[91m::UnitRange{T} where T<:Integer\u001b[39m) at /Users/uqjnazar/.julia/packages/StatsBase/Q76Ni/src/counts.jl:79\n\u001b[0m  counts(\u001b[91m::AbstractArray{T, N} where {T<:Integer, N}\u001b[39m, \u001b[91m::UnitRange{T} where T<:Integer\u001b[39m, \u001b[91m::AbstractWeights\u001b[39m) at /Users/uqjnazar/.julia/packages/StatsBase/Q76Ni/src/counts.jl:81\n\u001b[0m  ...",
      "",
      "Stacktrace:",
      " [1] top-level scope",
      "   @ In[111]:1",
      " [2] eval",
      "   @ ./boot.jl:360 [inlined]",
      " [3] include_string(mapexpr::typeof(REPL.softscope), mod::Module, code::String, filename::String)",
      "   @ Base ./loading.jl:1094"
     ]
    }
   ],
   "source": [
    "counts(df.Type)"
   ]
  },
  {
   "cell_type": "code",
   "execution_count": 112,
   "metadata": {},
   "outputs": [],
   "source": [
    "using SplitApplyCombine\n"
   ]
  },
  {
   "cell_type": "code",
   "execution_count": 113,
   "metadata": {},
   "outputs": [
    {
     "data": {
      "text/plain": [
       "3-element Dictionaries.Dictionary{String1, Int64}\n",
       " \"h\" │ 23980\n",
       " \"u\" │ 7297\n",
       " \"t\" │ 3580"
      ]
     },
     "execution_count": 113,
     "metadata": {},
     "output_type": "execute_result"
    }
   ],
   "source": [
    "groupcount(df.Type)"
   ]
  },
  {
   "cell_type": "code",
   "execution_count": 115,
   "metadata": {},
   "outputs": [
    {
     "ename": "LoadError",
     "evalue": "ArgumentError: Package plots not found in current path:\n- Run `import Pkg; Pkg.add(\"plots\")` to install the plots package.\n",
     "output_type": "error",
     "traceback": [
      "ArgumentError: Package plots not found in current path:\n- Run `import Pkg; Pkg.add(\"plots\")` to install the plots package.\n",
      "",
      "Stacktrace:",
      " [1] require(into::Module, mod::Symbol)",
      "   @ Base ./loading.jl:871",
      " [2] eval",
      "   @ ./boot.jl:360 [inlined]",
      " [3] include_string(mapexpr::typeof(REPL.softscope), mod::Module, code::String, filename::String)",
      "   @ Base ./loading.jl:1094"
     ]
    }
   ],
   "source": [
    "using plots\n",
    "stem([1,2,3],[4,5,6])"
   ]
  },
  {
   "cell_type": "code",
   "execution_count": 120,
   "metadata": {},
   "outputs": [
    {
     "name": "stderr",
     "output_type": "stream",
     "text": [
      "\u001b[32m\u001b[1m    Updating\u001b[22m\u001b[39m registry at `~/.julia/registries/General`\n",
      "\u001b[32m\u001b[1m   Resolving\u001b[22m\u001b[39m package versions...\n",
      "\u001b[32m\u001b[1m    Updating\u001b[22m\u001b[39m `~/git/mine/ProgrammingCourse-with-Julia-SimulationAnalysisAndLearningSystems/Project.toml`\n",
      " \u001b[90m [324d7699] \u001b[39m\u001b[92m+ CategoricalArrays v0.10.1\u001b[39m\n",
      "\u001b[32m\u001b[1m  No Changes\u001b[22m\u001b[39m to `~/git/mine/ProgrammingCourse-with-Julia-SimulationAnalysisAndLearningSystems/Manifest.toml`\n"
     ]
    }
   ],
   "source": [
    "import Pkg; Pkg.add(\"CategoricalArrays\")"
   ]
  },
  {
   "cell_type": "code",
   "execution_count": 121,
   "metadata": {},
   "outputs": [
    {
     "data": {
      "text/plain": [
       "3-element Dictionaries.Dictionary{String1, Int64}\n",
       " \"h\" │ 23980\n",
       " \"u\" │ 7297\n",
       " \"t\" │ 3580"
      ]
     },
     "execution_count": 121,
     "metadata": {},
     "output_type": "execute_result"
    }
   ],
   "source": [
    "using CSV, CategoricalArrays, StatsPlots\n",
    "grp_counts = groupcount(df.Type)"
   ]
  },
  {
   "cell_type": "code",
   "execution_count": 124,
   "metadata": {},
   "outputs": [
    {
     "ename": "LoadError",
     "evalue": "MethodError: no method matching grouped_xy(::Matrix{Int64}, ::Matrix{Int64})\n\nYou might have used a 2d row vector where a 1d column vector was required.\nNote the difference between 1d column vector [1,2,3] and 2d row vector [1 2 3].\nYou can convert to a column vector with the vec() function.\n\u001b[0mClosest candidates are:\n\u001b[0m  grouped_xy(\u001b[91m::AbstractVector{T} where T\u001b[39m, ::AbstractArray) at /Users/uqjnazar/.julia/packages/StatsPlots/djYkc/src/bar.jl:7\n\u001b[0m  grouped_xy(::AbstractArray) at /Users/uqjnazar/.julia/packages/StatsPlots/djYkc/src/bar.jl:8",
     "output_type": "error",
     "traceback": [
      "MethodError: no method matching grouped_xy(::Matrix{Int64}, ::Matrix{Int64})\n\nYou might have used a 2d row vector where a 1d column vector was required.\nNote the difference between 1d column vector [1,2,3] and 2d row vector [1 2 3].\nYou can convert to a column vector with the vec() function.\n\u001b[0mClosest candidates are:\n\u001b[0m  grouped_xy(\u001b[91m::AbstractVector{T} where T\u001b[39m, ::AbstractArray) at /Users/uqjnazar/.julia/packages/StatsPlots/djYkc/src/bar.jl:7\n\u001b[0m  grouped_xy(::AbstractArray) at /Users/uqjnazar/.julia/packages/StatsPlots/djYkc/src/bar.jl:8",
      "",
      "Stacktrace:",
      "  [1] macro expansion",
      "    @ ~/.julia/packages/StatsPlots/djYkc/src/bar.jl:11 [inlined]",
      "  [2] apply_recipe(plotattributes::AbstractDict{Symbol, Any}, g::StatsPlots.GroupedBar)",
      "    @ StatsPlots ~/.julia/packages/RecipesBase/3fzVq/src/RecipesBase.jl:283",
      "  [3] _process_userrecipes!(plt::Any, plotattributes::Any, args::Any)",
      "    @ RecipesPipeline ~/.julia/packages/RecipesPipeline/Bxu2O/src/user_recipe.jl:36",
      "  [4] recipe_pipeline!(plt::Any, plotattributes::Any, args::Any)",
      "    @ RecipesPipeline ~/.julia/packages/RecipesPipeline/Bxu2O/src/RecipesPipeline.jl:70",
      "  [5] _plot!(plt::Plots.Plot, plotattributes::Any, args::Any)",
      "    @ Plots ~/.julia/packages/Plots/5kcBO/src/plot.jl:208",
      "  [6] plot(args::Any; kw::Any)",
      "    @ Plots ~/.julia/packages/Plots/5kcBO/src/plot.jl:91",
      "  [7] plot",
      "    @ ~/.julia/packages/Plots/5kcBO/src/plot.jl:85 [inlined]",
      "  [8] groupedbar(::Matrix{Int64}, ::Vararg{Matrix{Int64}, N} where N; kw::Base.Iterators.Pairs{Union{}, Union{}, Tuple{}, NamedTuple{(), Tuple{}}})",
      "    @ StatsPlots ~/.julia/packages/RecipesBase/3fzVq/src/RecipesBase.jl:358",
      "  [9] groupedbar(::Matrix{Int64}, ::Vararg{Matrix{Int64}, N} where N)",
      "    @ StatsPlots ~/.julia/packages/RecipesBase/3fzVq/src/RecipesBase.jl:358",
      " [10] top-level scope",
      "    @ In[124]:1",
      " [11] eval",
      "    @ ./boot.jl:360 [inlined]",
      " [12] include_string(mapexpr::typeof(REPL.softscope), mod::Module, code::String, filename::String)",
      "    @ Base ./loading.jl:1094"
     ]
    }
   ],
   "source": [
    "groupedbar([1 2 3],[10 20 30])"
   ]
  },
  {
   "cell_type": "code",
   "execution_count": 127,
   "metadata": {},
   "outputs": [
    {
     "data": {
      "image/svg+xml": [
       "<?xml version=\"1.0\" encoding=\"utf-8\"?>\n",
       "<svg xmlns=\"http://www.w3.org/2000/svg\" xmlns:xlink=\"http://www.w3.org/1999/xlink\" width=\"800\" height=\"400\" viewBox=\"0 0 3200 1600\">\n",
       "<defs>\n",
       "  <clipPath id=\"clip880\">\n",
       "    <rect x=\"0\" y=\"0\" width=\"3200\" height=\"1600\"/>\n",
       "  </clipPath>\n",
       "</defs>\n",
       "<path clip-path=\"url(#clip880)\" d=\"\n",
       "M0 1600 L3200 1600 L3200 0 L0 0  Z\n",
       "  \" fill=\"#ffffff\" fill-rule=\"evenodd\" fill-opacity=\"1\"/>\n",
       "<defs>\n",
       "  <clipPath id=\"clip881\">\n",
       "    <rect x=\"640\" y=\"0\" width=\"2241\" height=\"1600\"/>\n",
       "  </clipPath>\n",
       "</defs>\n",
       "<path clip-path=\"url(#clip880)\" d=\"\n",
       "M171.565 1443.7 L1552.76 1443.7 L1552.76 47.2441 L171.565 47.2441  Z\n",
       "  \" fill=\"#ffffff\" fill-rule=\"evenodd\" fill-opacity=\"1\"/>\n",
       "<defs>\n",
       "  <clipPath id=\"clip882\">\n",
       "    <rect x=\"171\" y=\"47\" width=\"1382\" height=\"1397\"/>\n",
       "  </clipPath>\n",
       "</defs>\n",
       "<polyline clip-path=\"url(#clip882)\" style=\"stroke:#000000; stroke-linecap:butt; stroke-linejoin:round; stroke-width:2; stroke-opacity:0.1; fill:none\" points=\"\n",
       "  349.971,1443.7 349.971,47.2441 \n",
       "  \"/>\n",
       "<polyline clip-path=\"url(#clip882)\" style=\"stroke:#000000; stroke-linecap:butt; stroke-linejoin:round; stroke-width:2; stroke-opacity:0.1; fill:none\" points=\"\n",
       "  606.066,1443.7 606.066,47.2441 \n",
       "  \"/>\n",
       "<polyline clip-path=\"url(#clip882)\" style=\"stroke:#000000; stroke-linecap:butt; stroke-linejoin:round; stroke-width:2; stroke-opacity:0.1; fill:none\" points=\"\n",
       "  862.161,1443.7 862.161,47.2441 \n",
       "  \"/>\n",
       "<polyline clip-path=\"url(#clip882)\" style=\"stroke:#000000; stroke-linecap:butt; stroke-linejoin:round; stroke-width:2; stroke-opacity:0.1; fill:none\" points=\"\n",
       "  1118.26,1443.7 1118.26,47.2441 \n",
       "  \"/>\n",
       "<polyline clip-path=\"url(#clip882)\" style=\"stroke:#000000; stroke-linecap:butt; stroke-linejoin:round; stroke-width:2; stroke-opacity:0.1; fill:none\" points=\"\n",
       "  1374.35,1443.7 1374.35,47.2441 \n",
       "  \"/>\n",
       "<polyline clip-path=\"url(#clip880)\" style=\"stroke:#000000; stroke-linecap:butt; stroke-linejoin:round; stroke-width:4; stroke-opacity:1; fill:none\" points=\"\n",
       "  171.565,1443.7 1552.76,1443.7 \n",
       "  \"/>\n",
       "<polyline clip-path=\"url(#clip880)\" style=\"stroke:#000000; stroke-linecap:butt; stroke-linejoin:round; stroke-width:4; stroke-opacity:1; fill:none\" points=\"\n",
       "  349.971,1443.7 349.971,1424.8 \n",
       "  \"/>\n",
       "<polyline clip-path=\"url(#clip880)\" style=\"stroke:#000000; stroke-linecap:butt; stroke-linejoin:round; stroke-width:4; stroke-opacity:1; fill:none\" points=\"\n",
       "  606.066,1443.7 606.066,1424.8 \n",
       "  \"/>\n",
       "<polyline clip-path=\"url(#clip880)\" style=\"stroke:#000000; stroke-linecap:butt; stroke-linejoin:round; stroke-width:4; stroke-opacity:1; fill:none\" points=\"\n",
       "  862.161,1443.7 862.161,1424.8 \n",
       "  \"/>\n",
       "<polyline clip-path=\"url(#clip880)\" style=\"stroke:#000000; stroke-linecap:butt; stroke-linejoin:round; stroke-width:4; stroke-opacity:1; fill:none\" points=\"\n",
       "  1118.26,1443.7 1118.26,1424.8 \n",
       "  \"/>\n",
       "<polyline clip-path=\"url(#clip880)\" style=\"stroke:#000000; stroke-linecap:butt; stroke-linejoin:round; stroke-width:4; stroke-opacity:1; fill:none\" points=\"\n",
       "  1374.35,1443.7 1374.35,1424.8 \n",
       "  \"/>\n",
       "<path clip-path=\"url(#clip880)\" d=\"M299.381 1508.56 L315.7 1508.56 L315.7 1512.5 L293.756 1512.5 L293.756 1508.56 Q296.418 1505.81 301.001 1501.18 Q305.608 1496.53 306.788 1495.19 Q309.034 1492.66 309.913 1490.93 Q310.816 1489.17 310.816 1487.48 Q310.816 1484.72 308.872 1482.99 Q306.95 1481.25 303.849 1481.25 Q301.65 1481.25 299.196 1482.01 Q296.765 1482.78 293.988 1484.33 L293.988 1479.61 Q296.812 1478.47 299.265 1477.89 Q301.719 1477.31 303.756 1477.31 Q309.126 1477.31 312.321 1480 Q315.515 1482.69 315.515 1487.18 Q315.515 1489.31 314.705 1491.23 Q313.918 1493.12 311.812 1495.72 Q311.233 1496.39 308.131 1499.61 Q305.029 1502.8 299.381 1508.56 Z\" fill=\"#000000\" fill-rule=\"evenodd\" fill-opacity=\"1\" /><path clip-path=\"url(#clip880)\" d=\"M335.515 1481.02 Q331.904 1481.02 330.075 1484.58 Q328.27 1488.12 328.27 1495.25 Q328.27 1502.36 330.075 1505.93 Q331.904 1509.47 335.515 1509.47 Q339.149 1509.47 340.955 1505.93 Q342.784 1502.36 342.784 1495.25 Q342.784 1488.12 340.955 1484.58 Q339.149 1481.02 335.515 1481.02 M335.515 1477.31 Q341.325 1477.31 344.381 1481.92 Q347.459 1486.5 347.459 1495.25 Q347.459 1503.98 344.381 1508.59 Q341.325 1513.17 335.515 1513.17 Q329.705 1513.17 326.626 1508.59 Q323.571 1503.98 323.571 1495.25 Q323.571 1486.5 326.626 1481.92 Q329.705 1477.31 335.515 1477.31 Z\" fill=\"#000000\" fill-rule=\"evenodd\" fill-opacity=\"1\" /><path clip-path=\"url(#clip880)\" d=\"M356.487 1508.56 L364.126 1508.56 L364.126 1482.2 L355.816 1483.87 L355.816 1479.61 L364.08 1477.94 L368.756 1477.94 L368.756 1508.56 L376.395 1508.56 L376.395 1512.5 L356.487 1512.5 L356.487 1508.56 Z\" fill=\"#000000\" fill-rule=\"evenodd\" fill-opacity=\"1\" /><path clip-path=\"url(#clip880)\" d=\"M389.867 1508.56 L406.186 1508.56 L406.186 1512.5 L384.242 1512.5 L384.242 1508.56 Q386.904 1505.81 391.487 1501.18 Q396.093 1496.53 397.274 1495.19 Q399.519 1492.66 400.399 1490.93 Q401.302 1489.17 401.302 1487.48 Q401.302 1484.72 399.357 1482.99 Q397.436 1481.25 394.334 1481.25 Q392.135 1481.25 389.681 1482.01 Q387.251 1482.78 384.473 1484.33 L384.473 1479.61 Q387.297 1478.47 389.751 1477.89 Q392.205 1477.31 394.242 1477.31 Q399.612 1477.31 402.806 1480 Q406.001 1482.69 406.001 1487.18 Q406.001 1489.31 405.191 1491.23 Q404.404 1493.12 402.297 1495.72 Q401.718 1496.39 398.617 1499.61 Q395.515 1502.8 389.867 1508.56 Z\" fill=\"#000000\" fill-rule=\"evenodd\" fill-opacity=\"1\" /><path clip-path=\"url(#clip880)\" d=\"M555.001 1508.56 L571.321 1508.56 L571.321 1512.5 L549.376 1512.5 L549.376 1508.56 Q552.038 1505.81 556.622 1501.18 Q561.228 1496.53 562.409 1495.19 Q564.654 1492.66 565.534 1490.93 Q566.436 1489.17 566.436 1487.48 Q566.436 1484.72 564.492 1482.99 Q562.571 1481.25 559.469 1481.25 Q557.27 1481.25 554.816 1482.01 Q552.386 1482.78 549.608 1484.33 L549.608 1479.61 Q552.432 1478.47 554.886 1477.89 Q557.339 1477.31 559.376 1477.31 Q564.747 1477.31 567.941 1480 Q571.135 1482.69 571.135 1487.18 Q571.135 1489.31 570.325 1491.23 Q569.538 1493.12 567.432 1495.72 Q566.853 1496.39 563.751 1499.61 Q560.649 1502.8 555.001 1508.56 Z\" fill=\"#000000\" fill-rule=\"evenodd\" fill-opacity=\"1\" /><path clip-path=\"url(#clip880)\" d=\"M591.135 1481.02 Q587.524 1481.02 585.696 1484.58 Q583.89 1488.12 583.89 1495.25 Q583.89 1502.36 585.696 1505.93 Q587.524 1509.47 591.135 1509.47 Q594.77 1509.47 596.575 1505.93 Q598.404 1502.36 598.404 1495.25 Q598.404 1488.12 596.575 1484.58 Q594.77 1481.02 591.135 1481.02 M591.135 1477.31 Q596.945 1477.31 600.001 1481.92 Q603.08 1486.5 603.08 1495.25 Q603.08 1503.98 600.001 1508.59 Q596.945 1513.17 591.135 1513.17 Q585.325 1513.17 582.246 1508.59 Q579.191 1503.98 579.191 1495.25 Q579.191 1486.5 582.246 1481.92 Q585.325 1477.31 591.135 1477.31 Z\" fill=\"#000000\" fill-rule=\"evenodd\" fill-opacity=\"1\" /><path clip-path=\"url(#clip880)\" d=\"M612.107 1508.56 L619.746 1508.56 L619.746 1482.2 L611.436 1483.87 L611.436 1479.61 L619.7 1477.94 L624.376 1477.94 L624.376 1508.56 L632.015 1508.56 L632.015 1512.5 L612.107 1512.5 L612.107 1508.56 Z\" fill=\"#000000\" fill-rule=\"evenodd\" fill-opacity=\"1\" /><path clip-path=\"url(#clip880)\" d=\"M655.626 1493.87 Q658.982 1494.58 660.857 1496.85 Q662.755 1499.12 662.755 1502.45 Q662.755 1507.57 659.237 1510.37 Q655.718 1513.17 649.237 1513.17 Q647.061 1513.17 644.746 1512.73 Q642.454 1512.31 640.001 1511.46 L640.001 1506.94 Q641.945 1508.08 644.26 1508.66 Q646.575 1509.24 649.098 1509.24 Q653.496 1509.24 655.788 1507.5 Q658.103 1505.76 658.103 1502.45 Q658.103 1499.4 655.95 1497.69 Q653.82 1495.95 650.001 1495.95 L645.973 1495.95 L645.973 1492.11 L650.186 1492.11 Q653.635 1492.11 655.464 1490.74 Q657.292 1489.35 657.292 1486.76 Q657.292 1484.1 655.394 1482.69 Q653.519 1481.25 650.001 1481.25 Q648.079 1481.25 645.88 1481.67 Q643.681 1482.08 641.042 1482.96 L641.042 1478.8 Q643.704 1478.06 646.019 1477.69 Q648.357 1477.31 650.417 1477.31 Q655.741 1477.31 658.843 1479.75 Q661.945 1482.15 661.945 1486.27 Q661.945 1489.14 660.302 1491.13 Q658.658 1493.1 655.626 1493.87 Z\" fill=\"#000000\" fill-rule=\"evenodd\" fill-opacity=\"1\" /><path clip-path=\"url(#clip880)\" d=\"M810.529 1508.56 L826.848 1508.56 L826.848 1512.5 L804.904 1512.5 L804.904 1508.56 Q807.566 1505.81 812.149 1501.18 Q816.756 1496.53 817.936 1495.19 Q820.182 1492.66 821.061 1490.93 Q821.964 1489.17 821.964 1487.48 Q821.964 1484.72 820.02 1482.99 Q818.098 1481.25 814.996 1481.25 Q812.797 1481.25 810.344 1482.01 Q807.913 1482.78 805.135 1484.33 L805.135 1479.61 Q807.959 1478.47 810.413 1477.89 Q812.867 1477.31 814.904 1477.31 Q820.274 1477.31 823.469 1480 Q826.663 1482.69 826.663 1487.18 Q826.663 1489.31 825.853 1491.23 Q825.066 1493.12 822.959 1495.72 Q822.381 1496.39 819.279 1499.61 Q816.177 1502.8 810.529 1508.56 Z\" fill=\"#000000\" fill-rule=\"evenodd\" fill-opacity=\"1\" /><path clip-path=\"url(#clip880)\" d=\"M846.663 1481.02 Q843.052 1481.02 841.223 1484.58 Q839.418 1488.12 839.418 1495.25 Q839.418 1502.36 841.223 1505.93 Q843.052 1509.47 846.663 1509.47 Q850.297 1509.47 852.103 1505.93 Q853.931 1502.36 853.931 1495.25 Q853.931 1488.12 852.103 1484.58 Q850.297 1481.02 846.663 1481.02 M846.663 1477.31 Q852.473 1477.31 855.529 1481.92 Q858.607 1486.5 858.607 1495.25 Q858.607 1503.98 855.529 1508.59 Q852.473 1513.17 846.663 1513.17 Q840.853 1513.17 837.774 1508.59 Q834.719 1503.98 834.719 1495.25 Q834.719 1486.5 837.774 1481.92 Q840.853 1477.31 846.663 1477.31 Z\" fill=\"#000000\" fill-rule=\"evenodd\" fill-opacity=\"1\" /><path clip-path=\"url(#clip880)\" d=\"M867.635 1508.56 L875.274 1508.56 L875.274 1482.2 L866.964 1483.87 L866.964 1479.61 L875.228 1477.94 L879.904 1477.94 L879.904 1508.56 L887.542 1508.56 L887.542 1512.5 L867.635 1512.5 L867.635 1508.56 Z\" fill=\"#000000\" fill-rule=\"evenodd\" fill-opacity=\"1\" /><path clip-path=\"url(#clip880)\" d=\"M909.834 1482.01 L898.028 1500.46 L909.834 1500.46 L909.834 1482.01 M908.607 1477.94 L914.487 1477.94 L914.487 1500.46 L919.417 1500.46 L919.417 1504.35 L914.487 1504.35 L914.487 1512.5 L909.834 1512.5 L909.834 1504.35 L894.232 1504.35 L894.232 1499.84 L908.607 1477.94 Z\" fill=\"#000000\" fill-rule=\"evenodd\" fill-opacity=\"1\" /><path clip-path=\"url(#clip880)\" d=\"M1067.36 1508.56 L1083.68 1508.56 L1083.68 1512.5 L1061.74 1512.5 L1061.74 1508.56 Q1064.4 1505.81 1068.98 1501.18 Q1073.59 1496.53 1074.77 1495.19 Q1077.02 1492.66 1077.9 1490.93 Q1078.8 1489.17 1078.8 1487.48 Q1078.8 1484.72 1076.86 1482.99 Q1074.93 1481.25 1071.83 1481.25 Q1069.63 1481.25 1067.18 1482.01 Q1064.75 1482.78 1061.97 1484.33 L1061.97 1479.61 Q1064.79 1478.47 1067.25 1477.89 Q1069.7 1477.31 1071.74 1477.31 Q1077.11 1477.31 1080.3 1480 Q1083.5 1482.69 1083.5 1487.18 Q1083.5 1489.31 1082.69 1491.23 Q1081.9 1493.12 1079.79 1495.72 Q1079.22 1496.39 1076.11 1499.61 Q1073.01 1502.8 1067.36 1508.56 Z\" fill=\"#000000\" fill-rule=\"evenodd\" fill-opacity=\"1\" /><path clip-path=\"url(#clip880)\" d=\"M1103.5 1481.02 Q1099.89 1481.02 1098.06 1484.58 Q1096.25 1488.12 1096.25 1495.25 Q1096.25 1502.36 1098.06 1505.93 Q1099.89 1509.47 1103.5 1509.47 Q1107.13 1509.47 1108.94 1505.93 Q1110.77 1502.36 1110.77 1495.25 Q1110.77 1488.12 1108.94 1484.58 Q1107.13 1481.02 1103.5 1481.02 M1103.5 1477.31 Q1109.31 1477.31 1112.36 1481.92 Q1115.44 1486.5 1115.44 1495.25 Q1115.44 1503.98 1112.36 1508.59 Q1109.31 1513.17 1103.5 1513.17 Q1097.69 1513.17 1094.61 1508.59 Q1091.55 1503.98 1091.55 1495.25 Q1091.55 1486.5 1094.61 1481.92 Q1097.69 1477.31 1103.5 1477.31 Z\" fill=\"#000000\" fill-rule=\"evenodd\" fill-opacity=\"1\" /><path clip-path=\"url(#clip880)\" d=\"M1124.47 1508.56 L1132.11 1508.56 L1132.11 1482.2 L1123.8 1483.87 L1123.8 1479.61 L1132.06 1477.94 L1136.74 1477.94 L1136.74 1508.56 L1144.38 1508.56 L1144.38 1512.5 L1124.47 1512.5 L1124.47 1508.56 Z\" fill=\"#000000\" fill-rule=\"evenodd\" fill-opacity=\"1\" /><path clip-path=\"url(#clip880)\" d=\"M1153.87 1477.94 L1172.22 1477.94 L1172.22 1481.88 L1158.15 1481.88 L1158.15 1490.35 Q1159.17 1490 1160.19 1489.84 Q1161.21 1489.65 1162.22 1489.65 Q1168.01 1489.65 1171.39 1492.82 Q1174.77 1496 1174.77 1501.41 Q1174.77 1506.99 1171.3 1510.09 Q1167.83 1513.17 1161.51 1513.17 Q1159.33 1513.17 1157.06 1512.8 Q1154.82 1512.43 1152.41 1511.69 L1152.41 1506.99 Q1154.49 1508.12 1156.72 1508.68 Q1158.94 1509.24 1161.41 1509.24 Q1165.42 1509.24 1167.76 1507.13 Q1170.1 1505.02 1170.1 1501.41 Q1170.1 1497.8 1167.76 1495.69 Q1165.42 1493.59 1161.41 1493.59 Q1159.54 1493.59 1157.66 1494 Q1155.81 1494.42 1153.87 1495.3 L1153.87 1477.94 Z\" fill=\"#000000\" fill-rule=\"evenodd\" fill-opacity=\"1\" /><path clip-path=\"url(#clip880)\" d=\"M1322.88 1508.56 L1339.2 1508.56 L1339.2 1512.5 L1317.26 1512.5 L1317.26 1508.56 Q1319.92 1505.81 1324.5 1501.18 Q1329.11 1496.53 1330.29 1495.19 Q1332.53 1492.66 1333.41 1490.93 Q1334.32 1489.17 1334.32 1487.48 Q1334.32 1484.72 1332.37 1482.99 Q1330.45 1481.25 1327.35 1481.25 Q1325.15 1481.25 1322.7 1482.01 Q1320.26 1482.78 1317.49 1484.33 L1317.49 1479.61 Q1320.31 1478.47 1322.76 1477.89 Q1325.22 1477.31 1327.26 1477.31 Q1332.63 1477.31 1335.82 1480 Q1339.01 1482.69 1339.01 1487.18 Q1339.01 1489.31 1338.2 1491.23 Q1337.42 1493.12 1335.31 1495.72 Q1334.73 1496.39 1331.63 1499.61 Q1328.53 1502.8 1322.88 1508.56 Z\" fill=\"#000000\" fill-rule=\"evenodd\" fill-opacity=\"1\" /><path clip-path=\"url(#clip880)\" d=\"M1359.01 1481.02 Q1355.4 1481.02 1353.57 1484.58 Q1351.77 1488.12 1351.77 1495.25 Q1351.77 1502.36 1353.57 1505.93 Q1355.4 1509.47 1359.01 1509.47 Q1362.65 1509.47 1364.45 1505.93 Q1366.28 1502.36 1366.28 1495.25 Q1366.28 1488.12 1364.45 1484.58 Q1362.65 1481.02 1359.01 1481.02 M1359.01 1477.31 Q1364.82 1477.31 1367.88 1481.92 Q1370.96 1486.5 1370.96 1495.25 Q1370.96 1503.98 1367.88 1508.59 Q1364.82 1513.17 1359.01 1513.17 Q1353.2 1513.17 1350.13 1508.59 Q1347.07 1503.98 1347.07 1495.25 Q1347.07 1486.5 1350.13 1481.92 Q1353.2 1477.31 1359.01 1477.31 Z\" fill=\"#000000\" fill-rule=\"evenodd\" fill-opacity=\"1\" /><path clip-path=\"url(#clip880)\" d=\"M1379.99 1508.56 L1387.63 1508.56 L1387.63 1482.2 L1379.32 1483.87 L1379.32 1479.61 L1387.58 1477.94 L1392.26 1477.94 L1392.26 1508.56 L1399.89 1508.56 L1399.89 1512.5 L1379.99 1512.5 L1379.99 1508.56 Z\" fill=\"#000000\" fill-rule=\"evenodd\" fill-opacity=\"1\" /><path clip-path=\"url(#clip880)\" d=\"M1419.92 1493.36 Q1416.77 1493.36 1414.92 1495.51 Q1413.09 1497.66 1413.09 1501.41 Q1413.09 1505.14 1414.92 1507.31 Q1416.77 1509.47 1419.92 1509.47 Q1423.07 1509.47 1424.89 1507.31 Q1426.75 1505.14 1426.75 1501.41 Q1426.75 1497.66 1424.89 1495.51 Q1423.07 1493.36 1419.92 1493.36 M1429.2 1478.7 L1429.2 1482.96 Q1427.44 1482.13 1425.63 1481.69 Q1423.85 1481.25 1422.09 1481.25 Q1417.46 1481.25 1415.01 1484.37 Q1412.58 1487.5 1412.23 1493.82 Q1413.6 1491.81 1415.66 1490.74 Q1417.72 1489.65 1420.19 1489.65 Q1425.4 1489.65 1428.41 1492.82 Q1431.44 1495.97 1431.44 1501.41 Q1431.44 1506.74 1428.3 1509.95 Q1425.15 1513.17 1419.92 1513.17 Q1413.92 1513.17 1410.75 1508.59 Q1407.58 1503.98 1407.58 1495.25 Q1407.58 1487.06 1411.47 1482.2 Q1415.36 1477.31 1421.91 1477.31 Q1423.67 1477.31 1425.45 1477.66 Q1427.25 1478.01 1429.2 1478.7 Z\" fill=\"#000000\" fill-rule=\"evenodd\" fill-opacity=\"1\" /><path clip-path=\"url(#clip880)\" d=\"M793.093 1553.04 L799.999 1553.04 L813.176 1572.59 L826.258 1553.04 L833.165 1553.04 L816.359 1577.93 L816.359 1600.56 L809.898 1600.56 L809.898 1577.93 L793.093 1553.04 Z\" fill=\"#000000\" fill-rule=\"evenodd\" fill-opacity=\"1\" /><path clip-path=\"url(#clip880)\" d=\"M861.015 1581.28 L861.015 1584.14 L834.088 1584.14 Q834.47 1590.19 837.716 1593.37 Q840.995 1596.52 846.819 1596.52 Q850.193 1596.52 853.344 1595.69 Q856.527 1594.87 859.646 1593.21 L859.646 1598.75 Q856.495 1600.09 853.185 1600.79 Q849.875 1601.49 846.469 1601.49 Q837.939 1601.49 832.942 1596.52 Q827.977 1591.56 827.977 1583.09 Q827.977 1574.34 832.687 1569.21 Q837.43 1564.06 845.451 1564.06 Q852.644 1564.06 856.813 1568.7 Q861.015 1573.32 861.015 1581.28 M855.158 1579.56 Q855.095 1574.75 852.453 1571.89 Q849.843 1569.02 845.514 1569.02 Q840.613 1569.02 837.653 1571.79 Q834.724 1574.56 834.279 1579.59 L855.158 1579.56 Z\" fill=\"#000000\" fill-rule=\"evenodd\" fill-opacity=\"1\" /><path clip-path=\"url(#clip880)\" d=\"M886.828 1582.64 Q879.73 1582.64 876.993 1584.27 Q874.255 1585.89 874.255 1589.81 Q874.255 1592.92 876.292 1594.77 Q878.361 1596.59 881.894 1596.59 Q886.764 1596.59 889.692 1593.15 Q892.652 1589.68 892.652 1583.95 L892.652 1582.64 L886.828 1582.64 M898.509 1580.23 L898.509 1600.56 L892.652 1600.56 L892.652 1595.15 Q890.647 1598.4 887.655 1599.96 Q884.663 1601.49 880.335 1601.49 Q874.86 1601.49 871.614 1598.43 Q868.399 1595.34 868.399 1590.19 Q868.399 1584.17 872.409 1581.12 Q876.452 1578.06 884.441 1578.06 L892.652 1578.06 L892.652 1577.49 Q892.652 1573.45 889.979 1571.25 Q887.337 1569.02 882.531 1569.02 Q879.475 1569.02 876.579 1569.75 Q873.682 1570.49 871.009 1571.95 L871.009 1566.54 Q874.224 1565.3 877.247 1564.69 Q880.271 1564.06 883.136 1564.06 Q890.87 1564.06 894.689 1568.07 Q898.509 1572.08 898.509 1580.23 Z\" fill=\"#000000\" fill-rule=\"evenodd\" fill-opacity=\"1\" /><path clip-path=\"url(#clip880)\" d=\"M931.228 1570.39 Q930.242 1569.82 929.064 1569.56 Q927.918 1569.28 926.518 1569.28 Q921.553 1569.28 918.879 1572.52 Q916.237 1575.74 916.237 1581.79 L916.237 1600.56 L910.349 1600.56 L910.349 1564.92 L916.237 1564.92 L916.237 1570.45 Q918.083 1567.21 921.043 1565.65 Q924.003 1564.06 928.237 1564.06 Q928.841 1564.06 929.573 1564.15 Q930.305 1564.22 931.197 1564.37 L931.228 1570.39 Z\" fill=\"#000000\" fill-rule=\"evenodd\" fill-opacity=\"1\" /><polyline clip-path=\"url(#clip882)\" style=\"stroke:#000000; stroke-linecap:butt; stroke-linejoin:round; stroke-width:2; stroke-opacity:0.1; fill:none\" points=\"\n",
       "  171.565,1443.7 1552.76,1443.7 \n",
       "  \"/>\n",
       "<polyline clip-path=\"url(#clip882)\" style=\"stroke:#000000; stroke-linecap:butt; stroke-linejoin:round; stroke-width:2; stroke-opacity:0.1; fill:none\" points=\"\n",
       "  171.565,1210.96 1552.76,1210.96 \n",
       "  \"/>\n",
       "<polyline clip-path=\"url(#clip882)\" style=\"stroke:#000000; stroke-linecap:butt; stroke-linejoin:round; stroke-width:2; stroke-opacity:0.1; fill:none\" points=\"\n",
       "  171.565,978.215 1552.76,978.215 \n",
       "  \"/>\n",
       "<polyline clip-path=\"url(#clip882)\" style=\"stroke:#000000; stroke-linecap:butt; stroke-linejoin:round; stroke-width:2; stroke-opacity:0.1; fill:none\" points=\"\n",
       "  171.565,745.472 1552.76,745.472 \n",
       "  \"/>\n",
       "<polyline clip-path=\"url(#clip882)\" style=\"stroke:#000000; stroke-linecap:butt; stroke-linejoin:round; stroke-width:2; stroke-opacity:0.1; fill:none\" points=\"\n",
       "  171.565,512.729 1552.76,512.729 \n",
       "  \"/>\n",
       "<polyline clip-path=\"url(#clip882)\" style=\"stroke:#000000; stroke-linecap:butt; stroke-linejoin:round; stroke-width:2; stroke-opacity:0.1; fill:none\" points=\"\n",
       "  171.565,279.987 1552.76,279.987 \n",
       "  \"/>\n",
       "<polyline clip-path=\"url(#clip882)\" style=\"stroke:#000000; stroke-linecap:butt; stroke-linejoin:round; stroke-width:2; stroke-opacity:0.1; fill:none\" points=\"\n",
       "  171.565,47.2441 1552.76,47.2441 \n",
       "  \"/>\n",
       "<polyline clip-path=\"url(#clip880)\" style=\"stroke:#000000; stroke-linecap:butt; stroke-linejoin:round; stroke-width:4; stroke-opacity:1; fill:none\" points=\"\n",
       "  171.565,1443.7 171.565,47.2441 \n",
       "  \"/>\n",
       "<polyline clip-path=\"url(#clip880)\" style=\"stroke:#000000; stroke-linecap:butt; stroke-linejoin:round; stroke-width:4; stroke-opacity:1; fill:none\" points=\"\n",
       "  171.565,1443.7 190.463,1443.7 \n",
       "  \"/>\n",
       "<polyline clip-path=\"url(#clip880)\" style=\"stroke:#000000; stroke-linecap:butt; stroke-linejoin:round; stroke-width:4; stroke-opacity:1; fill:none\" points=\"\n",
       "  171.565,1210.96 190.463,1210.96 \n",
       "  \"/>\n",
       "<polyline clip-path=\"url(#clip880)\" style=\"stroke:#000000; stroke-linecap:butt; stroke-linejoin:round; stroke-width:4; stroke-opacity:1; fill:none\" points=\"\n",
       "  171.565,978.215 190.463,978.215 \n",
       "  \"/>\n",
       "<polyline clip-path=\"url(#clip880)\" style=\"stroke:#000000; stroke-linecap:butt; stroke-linejoin:round; stroke-width:4; stroke-opacity:1; fill:none\" points=\"\n",
       "  171.565,745.472 190.463,745.472 \n",
       "  \"/>\n",
       "<polyline clip-path=\"url(#clip880)\" style=\"stroke:#000000; stroke-linecap:butt; stroke-linejoin:round; stroke-width:4; stroke-opacity:1; fill:none\" points=\"\n",
       "  171.565,512.729 190.463,512.729 \n",
       "  \"/>\n",
       "<polyline clip-path=\"url(#clip880)\" style=\"stroke:#000000; stroke-linecap:butt; stroke-linejoin:round; stroke-width:4; stroke-opacity:1; fill:none\" points=\"\n",
       "  171.565,279.987 190.463,279.987 \n",
       "  \"/>\n",
       "<polyline clip-path=\"url(#clip880)\" style=\"stroke:#000000; stroke-linecap:butt; stroke-linejoin:round; stroke-width:4; stroke-opacity:1; fill:none\" points=\"\n",
       "  171.565,47.2441 190.463,47.2441 \n",
       "  \"/>\n",
       "<path clip-path=\"url(#clip880)\" d=\"M111.621 1429.5 Q108.01 1429.5 106.181 1433.06 Q104.375 1436.6 104.375 1443.73 Q104.375 1450.84 106.181 1454.41 Q108.01 1457.95 111.621 1457.95 Q115.255 1457.95 117.061 1454.41 Q118.889 1450.84 118.889 1443.73 Q118.889 1436.6 117.061 1433.06 Q115.255 1429.5 111.621 1429.5 M111.621 1425.79 Q117.431 1425.79 120.487 1430.4 Q123.565 1434.98 123.565 1443.73 Q123.565 1452.46 120.487 1457.07 Q117.431 1461.65 111.621 1461.65 Q105.811 1461.65 102.732 1457.07 Q99.6764 1452.46 99.6764 1443.73 Q99.6764 1434.98 102.732 1430.4 Q105.811 1425.79 111.621 1425.79 Z\" fill=\"#000000\" fill-rule=\"evenodd\" fill-opacity=\"1\" /><path clip-path=\"url(#clip880)\" d=\"M103.658 1224.3 L111.297 1224.3 L111.297 1197.94 L102.987 1199.6 L102.987 1195.34 L111.25 1193.68 L115.926 1193.68 L115.926 1224.3 L123.565 1224.3 L123.565 1228.24 L103.658 1228.24 L103.658 1224.3 Z\" fill=\"#000000\" fill-rule=\"evenodd\" fill-opacity=\"1\" /><path clip-path=\"url(#clip880)\" d=\"M107.246 991.559 L123.565 991.559 L123.565 995.495 L101.621 995.495 L101.621 991.559 Q104.283 988.805 108.866 984.175 Q113.473 979.522 114.653 978.18 Q116.899 975.657 117.778 973.921 Q118.681 972.161 118.681 970.472 Q118.681 967.717 116.737 965.981 Q114.815 964.245 111.713 964.245 Q109.514 964.245 107.061 965.009 Q104.63 965.773 101.852 967.323 L101.852 962.601 Q104.676 961.467 107.13 960.888 Q109.584 960.31 111.621 960.31 Q116.991 960.31 120.186 962.995 Q123.38 965.68 123.38 970.171 Q123.38 972.3 122.57 974.222 Q121.783 976.12 119.676 978.712 Q119.098 979.384 115.996 982.601 Q112.894 985.796 107.246 991.559 Z\" fill=\"#000000\" fill-rule=\"evenodd\" fill-opacity=\"1\" /><path clip-path=\"url(#clip880)\" d=\"M116.436 744.118 Q119.792 744.835 121.667 747.104 Q123.565 749.372 123.565 752.706 Q123.565 757.821 120.047 760.622 Q116.528 763.423 110.047 763.423 Q107.871 763.423 105.556 762.983 Q103.264 762.567 100.811 761.71 L100.811 757.196 Q102.755 758.331 105.07 758.909 Q107.385 759.488 109.908 759.488 Q114.306 759.488 116.598 757.752 Q118.912 756.016 118.912 752.706 Q118.912 749.65 116.76 747.937 Q114.63 746.201 110.811 746.201 L106.783 746.201 L106.783 742.359 L110.996 742.359 Q114.445 742.359 116.274 740.993 Q118.102 739.604 118.102 737.011 Q118.102 734.349 116.204 732.937 Q114.329 731.502 110.811 731.502 Q108.889 731.502 106.69 731.919 Q104.491 732.335 101.852 733.215 L101.852 729.048 Q104.514 728.308 106.829 727.937 Q109.167 727.567 111.227 727.567 Q116.551 727.567 119.653 729.998 Q122.755 732.405 122.755 736.525 Q122.755 739.396 121.112 741.386 Q119.468 743.354 116.436 744.118 Z\" fill=\"#000000\" fill-rule=\"evenodd\" fill-opacity=\"1\" /><path clip-path=\"url(#clip880)\" d=\"M113.982 499.523 L102.176 517.972 L113.982 517.972 L113.982 499.523 M112.755 495.449 L118.635 495.449 L118.635 517.972 L123.565 517.972 L123.565 521.861 L118.635 521.861 L118.635 530.009 L113.982 530.009 L113.982 521.861 L98.3802 521.861 L98.3802 517.347 L112.755 495.449 Z\" fill=\"#000000\" fill-rule=\"evenodd\" fill-opacity=\"1\" /><path clip-path=\"url(#clip880)\" d=\"M102.663 262.707 L121.019 262.707 L121.019 266.642 L106.945 266.642 L106.945 275.114 Q107.963 274.767 108.982 274.605 Q110 274.42 111.019 274.42 Q116.806 274.42 120.186 277.591 Q123.565 280.762 123.565 286.179 Q123.565 291.757 120.093 294.859 Q116.621 297.938 110.301 297.938 Q108.125 297.938 105.857 297.568 Q103.612 297.197 101.204 296.457 L101.204 291.757 Q103.288 292.892 105.51 293.447 Q107.732 294.003 110.209 294.003 Q114.213 294.003 116.551 291.896 Q118.889 289.79 118.889 286.179 Q118.889 282.568 116.551 280.461 Q114.213 278.355 110.209 278.355 Q108.334 278.355 106.459 278.771 Q104.607 279.188 102.663 280.068 L102.663 262.707 Z\" fill=\"#000000\" fill-rule=\"evenodd\" fill-opacity=\"1\" /><path clip-path=\"url(#clip880)\" d=\"M112.037 45.3807 Q108.889 45.3807 107.038 47.5334 Q105.209 49.6862 105.209 53.4362 Q105.209 57.163 107.038 59.3389 Q108.889 61.4917 112.037 61.4917 Q115.186 61.4917 117.014 59.3389 Q118.866 57.163 118.866 53.4362 Q118.866 49.6862 117.014 47.5334 Q115.186 45.3807 112.037 45.3807 M121.32 30.728 L121.32 34.9872 Q119.561 34.1539 117.755 33.7141 Q115.973 33.2743 114.213 33.2743 Q109.584 33.2743 107.13 36.3992 Q104.7 39.5242 104.352 45.8436 Q105.718 43.8298 107.778 42.765 Q109.838 41.677 112.315 41.677 Q117.524 41.677 120.533 44.8483 Q123.565 47.9964 123.565 53.4362 Q123.565 58.7602 120.417 61.9778 Q117.269 65.1954 112.037 65.1954 Q106.042 65.1954 102.871 60.6121 Q99.6996 56.0056 99.6996 47.2788 Q99.6996 39.0844 103.588 34.2233 Q107.477 29.3391 114.028 29.3391 Q115.787 29.3391 117.57 29.6863 Q119.375 30.0335 121.32 30.728 Z\" fill=\"#000000\" fill-rule=\"evenodd\" fill-opacity=\"1\" /><path clip-path=\"url(#clip880)\" d=\"M-11.3958 1017.32 L-11.3958 1007.74 L20.9419 995.612 L-11.3958 983.422 L-11.3958 973.842 L36.1242 973.842 L36.1242 980.112 L-5.60305 980.112 L26.9894 992.366 L26.9894 998.827 L-5.60305 1011.08 L36.1242 1011.08 L36.1242 1017.32 L-11.3958 1017.32 Z\" fill=\"#000000\" fill-rule=\"evenodd\" fill-opacity=\"1\" /><path clip-path=\"url(#clip880)\" d=\"M18.2047 945.132 Q18.2047 952.23 19.8279 954.967 Q21.4512 957.705 25.3661 957.705 Q28.4853 957.705 30.3314 955.668 Q32.1456 953.599 32.1456 950.066 Q32.1456 945.196 28.7081 942.268 Q25.2388 939.308 19.5097 939.308 L18.2047 939.308 L18.2047 945.132 M15.7857 933.451 L36.1242 933.451 L36.1242 939.308 L30.7133 939.308 Q33.9598 941.313 35.5194 944.305 Q37.0472 947.297 37.0472 951.625 Q37.0472 957.1 33.9916 960.346 Q30.9043 963.561 25.7481 963.561 Q19.7325 963.561 16.6769 959.551 Q13.6214 955.508 13.6214 947.519 L13.6214 939.308 L13.0485 939.308 Q9.00625 939.308 6.81008 941.981 Q4.58208 944.623 4.58208 949.429 Q4.58208 952.485 5.31414 955.381 Q6.04619 958.278 7.51031 960.951 L2.09946 960.951 Q0.858143 957.736 0.253401 954.713 Q-0.38317 951.689 -0.38317 948.824 Q-0.38317 941.09 3.62723 937.271 Q7.63762 933.451 15.7857 933.451 Z\" fill=\"#000000\" fill-rule=\"evenodd\" fill-opacity=\"1\" /><path clip-path=\"url(#clip880)\" d=\"M5.95071 900.732 Q5.37779 901.718 5.12317 902.896 Q4.83671 904.042 4.83671 905.442 Q4.83671 910.407 8.08322 913.081 Q11.2979 915.723 17.3453 915.723 L36.1242 915.723 L36.1242 921.611 L0.4762 921.611 L0.4762 915.723 L6.01437 915.723 Q2.76785 913.877 1.20826 910.917 Q-0.38317 907.957 -0.38317 903.723 Q-0.38317 903.119 -0.287684 902.387 Q-0.224027 901.655 -0.0648847 900.763 L5.95071 900.732 Z\" fill=\"#000000\" fill-rule=\"evenodd\" fill-opacity=\"1\" /><path clip-path=\"url(#clip880)\" d=\"M-13.401 894.811 L-13.401 888.923 L15.8494 888.923 L0.4762 871.449 L0.4762 863.97 L17.1544 882.876 L36.1242 863.174 L36.1242 870.813 L18.7139 888.923 L36.1242 888.923 L36.1242 894.811 L-13.401 894.811 Z\" fill=\"#000000\" fill-rule=\"evenodd\" fill-opacity=\"1\" /><path clip-path=\"url(#clip880)\" d=\"M16.8361 828.672 L19.7006 828.672 L19.7006 855.599 Q25.7481 855.217 28.9309 851.97 Q32.0819 848.692 32.0819 842.867 Q32.0819 839.493 31.2544 836.342 Q30.4269 833.16 28.7718 830.04 L34.3099 830.04 Q35.6467 833.191 36.347 836.502 Q37.0472 839.812 37.0472 843.217 Q37.0472 851.747 32.0819 856.745 Q27.1167 861.71 18.6503 861.71 Q9.89745 861.71 4.77305 856.999 Q-0.38317 852.257 -0.38317 844.236 Q-0.38317 837.043 4.2638 832.873 Q8.87893 828.672 16.8361 828.672 M15.1173 834.528 Q10.3112 834.592 7.44665 837.234 Q4.58208 839.844 4.58208 844.172 Q4.58208 849.074 7.35116 852.034 Q10.1202 854.962 15.1492 855.408 L15.1173 834.528 Z\" fill=\"#000000\" fill-rule=\"evenodd\" fill-opacity=\"1\" /><path clip-path=\"url(#clip880)\" d=\"M-9.64527 813.267 L0.4762 813.267 L0.4762 801.204 L5.02768 801.204 L5.02768 813.267 L24.3794 813.267 Q28.7399 813.267 29.9813 812.089 Q31.2226 810.88 31.2226 807.219 L31.2226 801.204 L36.1242 801.204 L36.1242 807.219 Q36.1242 813.999 33.6097 816.577 Q31.0634 819.155 24.3794 819.155 L5.02768 819.155 L5.02768 823.452 L0.4762 823.452 L0.4762 819.155 L-9.64527 819.155 L-9.64527 813.267 Z\" fill=\"#000000\" fill-rule=\"evenodd\" fill-opacity=\"1\" /><path clip-path=\"url(#clip880)\" d=\"M-7.73556 736.942 L-0.956084 736.942 Q-3.97979 740.188 -5.47574 743.881 Q-6.97168 747.541 -6.97168 751.679 Q-6.97168 759.827 -1.9746 764.155 Q2.99065 768.484 12.4119 768.484 Q21.8013 768.484 26.7984 764.155 Q31.7636 759.827 31.7636 751.679 Q31.7636 747.541 30.2677 743.881 Q28.7718 740.188 25.7481 736.942 L32.4639 736.942 Q34.7555 740.316 35.9014 744.103 Q37.0472 747.859 37.0472 752.06 Q37.0472 762.85 30.4587 769.057 Q23.8383 775.263 12.4119 775.263 Q0.953628 775.263 -5.63488 769.057 Q-12.2552 762.85 -12.2552 752.06 Q-12.2552 747.795 -11.1094 744.04 Q-9.99539 740.252 -7.73556 736.942 Z\" fill=\"#000000\" fill-rule=\"evenodd\" fill-opacity=\"1\" /><path clip-path=\"url(#clip880)\" d=\"M18.2047 711.065 Q18.2047 718.163 19.8279 720.9 Q21.4512 723.638 25.3661 723.638 Q28.4853 723.638 30.3314 721.601 Q32.1456 719.532 32.1456 715.999 Q32.1456 711.129 28.7081 708.201 Q25.2388 705.241 19.5097 705.241 L18.2047 705.241 L18.2047 711.065 M15.7857 699.384 L36.1242 699.384 L36.1242 705.241 L30.7133 705.241 Q33.9598 707.246 35.5194 710.238 Q37.0472 713.23 37.0472 717.558 Q37.0472 723.033 33.9916 726.279 Q30.9043 729.494 25.7481 729.494 Q19.7325 729.494 16.6769 725.484 Q13.6214 721.441 13.6214 713.452 L13.6214 705.241 L13.0485 705.241 Q9.00625 705.241 6.81008 707.914 Q4.58208 710.556 4.58208 715.362 Q4.58208 718.418 5.31414 721.314 Q6.04619 724.211 7.51031 726.884 L2.09946 726.884 Q0.858143 723.669 0.253401 720.646 Q-0.38317 717.622 -0.38317 714.757 Q-0.38317 707.023 3.62723 703.204 Q7.63762 699.384 15.7857 699.384 Z\" fill=\"#000000\" fill-rule=\"evenodd\" fill-opacity=\"1\" /><path clip-path=\"url(#clip880)\" d=\"M30.777 681.656 L49.6831 681.656 L49.6831 687.544 L0.4762 687.544 L0.4762 681.656 L5.88705 681.656 Q2.7042 679.81 1.17643 677.009 Q-0.38317 674.176 -0.38317 670.261 Q-0.38317 663.768 4.77305 659.726 Q9.92927 655.652 18.332 655.652 Q26.7347 655.652 31.891 659.726 Q37.0472 663.768 37.0472 670.261 Q37.0472 674.176 35.5194 677.009 Q33.9598 679.81 30.777 681.656 M18.332 661.731 Q11.8708 661.731 8.21053 664.405 Q4.51842 667.046 4.51842 671.693 Q4.51842 676.34 8.21053 679.014 Q11.8708 681.656 18.332 681.656 Q24.7932 681.656 28.4853 679.014 Q32.1456 676.34 32.1456 671.693 Q32.1456 667.046 28.4853 664.405 Q24.7932 661.731 18.332 661.731 Z\" fill=\"#000000\" fill-rule=\"evenodd\" fill-opacity=\"1\" /><path clip-path=\"url(#clip880)\" d=\"M-13.3374 611.156 Q-6.01682 615.421 1.1446 617.489 Q8.30602 619.558 15.6584 619.558 Q23.0108 619.558 30.2359 617.489 Q37.4291 615.389 44.7179 611.156 L44.7179 616.248 Q37.2382 621.022 30.0131 623.41 Q22.788 625.765 15.6584 625.765 Q8.56065 625.765 1.3674 623.41 Q-5.82585 621.054 -13.3374 616.248 L-13.3374 611.156 Z\" fill=\"#000000\" fill-rule=\"evenodd\" fill-opacity=\"1\" /><path clip-path=\"url(#clip880)\" d=\"M-11.3958 599.538 L-11.3958 589.958 L20.9419 577.831 L-11.3958 565.641 L-11.3958 556.06 L36.1242 556.06 L36.1242 562.331 L-5.60305 562.331 L26.9894 574.585 L26.9894 581.046 L-5.60305 593.3 L36.1242 593.3 L36.1242 599.538 L-11.3958 599.538 Z\" fill=\"#000000\" fill-rule=\"evenodd\" fill-opacity=\"1\" /><path clip-path=\"url(#clip880)\" d=\"M-11.3958 543.297 L-11.3958 533.717 L20.9419 521.59 L-11.3958 509.4 L-11.3958 499.819 L36.1242 499.819 L36.1242 506.09 L-5.60305 506.09 L26.9894 518.344 L26.9894 524.805 L-5.60305 537.059 L36.1242 537.059 L36.1242 543.297 L-11.3958 543.297 Z\" fill=\"#000000\" fill-rule=\"evenodd\" fill-opacity=\"1\" /><path clip-path=\"url(#clip880)\" d=\"M-13.3374 488.234 L-13.3374 483.141 Q-5.82585 478.367 1.3674 476.012 Q8.56065 473.624 15.6584 473.624 Q22.788 473.624 30.0131 476.012 Q37.2382 478.367 44.7179 483.141 L44.7179 488.234 Q37.4291 484.001 30.2359 481.932 Q23.0108 479.831 15.6584 479.831 Q8.30602 479.831 1.1446 481.932 Q-6.01682 484.001 -13.3374 488.234 Z\" fill=\"#000000\" fill-rule=\"evenodd\" fill-opacity=\"1\" /><path clip-path=\"url(#clip882)\" d=\"\n",
       "M247.533 373.084 L247.533 489.455 L452.409 489.455 L452.409 373.084 L247.533 373.084 L247.533 373.084  Z\n",
       "  \" fill=\"#0000ff\" fill-rule=\"evenodd\" fill-opacity=\"1\"/>\n",
       "<polyline clip-path=\"url(#clip882)\" style=\"stroke:#000000; stroke-linecap:butt; stroke-linejoin:round; stroke-width:4; stroke-opacity:1; fill:none\" points=\"\n",
       "  247.533,373.084 247.533,489.455 452.409,489.455 452.409,373.084 247.533,373.084 \n",
       "  \"/>\n",
       "<path clip-path=\"url(#clip882)\" d=\"\n",
       "M503.628 361.447 L503.628 559.278 L708.504 559.278 L708.504 361.447 L503.628 361.447 L503.628 361.447  Z\n",
       "  \" fill=\"#0000ff\" fill-rule=\"evenodd\" fill-opacity=\"1\"/>\n",
       "<polyline clip-path=\"url(#clip882)\" style=\"stroke:#000000; stroke-linecap:butt; stroke-linejoin:round; stroke-width:4; stroke-opacity:1; fill:none\" points=\"\n",
       "  503.628,361.447 503.628,559.278 708.504,559.278 708.504,361.447 503.628,361.447 \n",
       "  \"/>\n",
       "<path clip-path=\"url(#clip882)\" d=\"\n",
       "M759.723 326.535 L759.723 675.649 L964.598 675.649 L964.598 326.535 L759.723 326.535 L759.723 326.535  Z\n",
       "  \" fill=\"#0000ff\" fill-rule=\"evenodd\" fill-opacity=\"1\"/>\n",
       "<polyline clip-path=\"url(#clip882)\" style=\"stroke:#000000; stroke-linecap:butt; stroke-linejoin:round; stroke-width:4; stroke-opacity:1; fill:none\" points=\"\n",
       "  759.723,326.535 759.723,675.649 964.598,675.649 964.598,326.535 759.723,326.535 \n",
       "  \"/>\n",
       "<path clip-path=\"url(#clip882)\" d=\"\n",
       "M1015.82 210.164 L1015.82 652.375 L1220.69 652.375 L1220.69 210.164 L1015.82 210.164 L1015.82 210.164  Z\n",
       "  \" fill=\"#0000ff\" fill-rule=\"evenodd\" fill-opacity=\"1\"/>\n",
       "<polyline clip-path=\"url(#clip882)\" style=\"stroke:#000000; stroke-linecap:butt; stroke-linejoin:round; stroke-width:4; stroke-opacity:1; fill:none\" points=\"\n",
       "  1015.82,210.164 1015.82,652.375 1220.69,652.375 1220.69,210.164 1015.82,210.164 \n",
       "  \"/>\n",
       "<path clip-path=\"url(#clip882)\" d=\"\n",
       "M1271.91 70.5184 L1271.91 559.278 L1476.79 559.278 L1476.79 70.5184 L1271.91 70.5184 L1271.91 70.5184  Z\n",
       "  \" fill=\"#0000ff\" fill-rule=\"evenodd\" fill-opacity=\"1\"/>\n",
       "<polyline clip-path=\"url(#clip882)\" style=\"stroke:#000000; stroke-linecap:butt; stroke-linejoin:round; stroke-width:4; stroke-opacity:1; fill:none\" points=\"\n",
       "  1271.91,70.5184 1271.91,559.278 1476.79,559.278 1476.79,70.5184 1271.91,70.5184 \n",
       "  \"/>\n",
       "<circle clip-path=\"url(#clip882)\" style=\"fill:#009af9; stroke:none; fill-opacity:0\" cx=\"349.971\" cy=\"373.084\" r=\"2\"/>\n",
       "<circle clip-path=\"url(#clip882)\" style=\"fill:#009af9; stroke:none; fill-opacity:0\" cx=\"606.066\" cy=\"361.447\" r=\"2\"/>\n",
       "<circle clip-path=\"url(#clip882)\" style=\"fill:#009af9; stroke:none; fill-opacity:0\" cx=\"862.161\" cy=\"326.535\" r=\"2\"/>\n",
       "<circle clip-path=\"url(#clip882)\" style=\"fill:#009af9; stroke:none; fill-opacity:0\" cx=\"1118.26\" cy=\"210.164\" r=\"2\"/>\n",
       "<circle clip-path=\"url(#clip882)\" style=\"fill:#009af9; stroke:none; fill-opacity:0\" cx=\"1374.35\" cy=\"70.5184\" r=\"2\"/>\n",
       "<path clip-path=\"url(#clip882)\" d=\"\n",
       "M247.533 489.455 L247.533 512.729 L452.409 512.729 L452.409 489.455 L247.533 489.455 L247.533 489.455  Z\n",
       "  \" fill=\"#008000\" fill-rule=\"evenodd\" fill-opacity=\"1\"/>\n",
       "<polyline clip-path=\"url(#clip882)\" style=\"stroke:#000000; stroke-linecap:butt; stroke-linejoin:round; stroke-width:4; stroke-opacity:1; fill:none\" points=\"\n",
       "  247.533,489.455 247.533,512.729 452.409,512.729 452.409,489.455 247.533,489.455 \n",
       "  \"/>\n",
       "<path clip-path=\"url(#clip882)\" d=\"\n",
       "M503.628 559.278 L503.628 675.649 L708.504 675.649 L708.504 559.278 L503.628 559.278 L503.628 559.278  Z\n",
       "  \" fill=\"#008000\" fill-rule=\"evenodd\" fill-opacity=\"1\"/>\n",
       "<polyline clip-path=\"url(#clip882)\" style=\"stroke:#000000; stroke-linecap:butt; stroke-linejoin:round; stroke-width:4; stroke-opacity:1; fill:none\" points=\"\n",
       "  503.628,559.278 503.628,675.649 708.504,675.649 708.504,559.278 503.628,559.278 \n",
       "  \"/>\n",
       "<path clip-path=\"url(#clip882)\" d=\"\n",
       "M759.723 675.649 L759.723 954.94 L964.598 954.94 L964.598 675.649 L759.723 675.649 L759.723 675.649  Z\n",
       "  \" fill=\"#008000\" fill-rule=\"evenodd\" fill-opacity=\"1\"/>\n",
       "<polyline clip-path=\"url(#clip882)\" style=\"stroke:#000000; stroke-linecap:butt; stroke-linejoin:round; stroke-width:4; stroke-opacity:1; fill:none\" points=\"\n",
       "  759.723,675.649 759.723,954.94 964.598,954.94 964.598,675.649 759.723,675.649 \n",
       "  \"/>\n",
       "<path clip-path=\"url(#clip882)\" d=\"\n",
       "M1015.82 652.375 L1015.82 1094.59 L1220.69 1094.59 L1220.69 652.375 L1015.82 652.375 L1015.82 652.375  Z\n",
       "  \" fill=\"#008000\" fill-rule=\"evenodd\" fill-opacity=\"1\"/>\n",
       "<polyline clip-path=\"url(#clip882)\" style=\"stroke:#000000; stroke-linecap:butt; stroke-linejoin:round; stroke-width:4; stroke-opacity:1; fill:none\" points=\"\n",
       "  1015.82,652.375 1015.82,1094.59 1220.69,1094.59 1220.69,652.375 1015.82,652.375 \n",
       "  \"/>\n",
       "<path clip-path=\"url(#clip882)\" d=\"\n",
       "M1271.91 559.278 L1271.91 1373.88 L1476.79 1373.88 L1476.79 559.278 L1271.91 559.278 L1271.91 559.278  Z\n",
       "  \" fill=\"#008000\" fill-rule=\"evenodd\" fill-opacity=\"1\"/>\n",
       "<polyline clip-path=\"url(#clip882)\" style=\"stroke:#000000; stroke-linecap:butt; stroke-linejoin:round; stroke-width:4; stroke-opacity:1; fill:none\" points=\"\n",
       "  1271.91,559.278 1271.91,1373.88 1476.79,1373.88 1476.79,559.278 1271.91,559.278 \n",
       "  \"/>\n",
       "<circle clip-path=\"url(#clip882)\" style=\"fill:#e26f46; stroke:none; fill-opacity:0\" cx=\"349.971\" cy=\"489.455\" r=\"2\"/>\n",
       "<circle clip-path=\"url(#clip882)\" style=\"fill:#e26f46; stroke:none; fill-opacity:0\" cx=\"606.066\" cy=\"559.278\" r=\"2\"/>\n",
       "<circle clip-path=\"url(#clip882)\" style=\"fill:#e26f46; stroke:none; fill-opacity:0\" cx=\"862.161\" cy=\"675.649\" r=\"2\"/>\n",
       "<circle clip-path=\"url(#clip882)\" style=\"fill:#e26f46; stroke:none; fill-opacity:0\" cx=\"1118.26\" cy=\"652.375\" r=\"2\"/>\n",
       "<circle clip-path=\"url(#clip882)\" style=\"fill:#e26f46; stroke:none; fill-opacity:0\" cx=\"1374.35\" cy=\"559.278\" r=\"2\"/>\n",
       "<path clip-path=\"url(#clip882)\" d=\"\n",
       "M247.533 512.729 L247.533 1443.7 L452.409 1443.7 L452.409 512.729 L247.533 512.729 L247.533 512.729  Z\n",
       "  \" fill=\"#ff0000\" fill-rule=\"evenodd\" fill-opacity=\"1\"/>\n",
       "<polyline clip-path=\"url(#clip882)\" style=\"stroke:#000000; stroke-linecap:butt; stroke-linejoin:round; stroke-width:4; stroke-opacity:1; fill:none\" points=\"\n",
       "  247.533,512.729 247.533,1443.7 452.409,1443.7 452.409,512.729 247.533,512.729 \n",
       "  \"/>\n",
       "<path clip-path=\"url(#clip882)\" d=\"\n",
       "M503.628 675.649 L503.628 1443.7 L708.504 1443.7 L708.504 675.649 L503.628 675.649 L503.628 675.649  Z\n",
       "  \" fill=\"#ff0000\" fill-rule=\"evenodd\" fill-opacity=\"1\"/>\n",
       "<polyline clip-path=\"url(#clip882)\" style=\"stroke:#000000; stroke-linecap:butt; stroke-linejoin:round; stroke-width:4; stroke-opacity:1; fill:none\" points=\"\n",
       "  503.628,675.649 503.628,1443.7 708.504,1443.7 708.504,675.649 503.628,675.649 \n",
       "  \"/>\n",
       "<path clip-path=\"url(#clip882)\" d=\"\n",
       "M759.723 954.94 L759.723 1443.7 L964.598 1443.7 L964.598 954.94 L759.723 954.94 L759.723 954.94  Z\n",
       "  \" fill=\"#ff0000\" fill-rule=\"evenodd\" fill-opacity=\"1\"/>\n",
       "<polyline clip-path=\"url(#clip882)\" style=\"stroke:#000000; stroke-linecap:butt; stroke-linejoin:round; stroke-width:4; stroke-opacity:1; fill:none\" points=\"\n",
       "  759.723,954.94 759.723,1443.7 964.598,1443.7 964.598,954.94 759.723,954.94 \n",
       "  \"/>\n",
       "<path clip-path=\"url(#clip882)\" d=\"\n",
       "M1015.82 1094.59 L1015.82 1443.7 L1220.69 1443.7 L1220.69 1094.59 L1015.82 1094.59 L1015.82 1094.59  Z\n",
       "  \" fill=\"#ff0000\" fill-rule=\"evenodd\" fill-opacity=\"1\"/>\n",
       "<polyline clip-path=\"url(#clip882)\" style=\"stroke:#000000; stroke-linecap:butt; stroke-linejoin:round; stroke-width:4; stroke-opacity:1; fill:none\" points=\"\n",
       "  1015.82,1094.59 1015.82,1443.7 1220.69,1443.7 1220.69,1094.59 1015.82,1094.59 \n",
       "  \"/>\n",
       "<path clip-path=\"url(#clip882)\" d=\"\n",
       "M1271.91 1373.88 L1271.91 1443.7 L1476.79 1443.7 L1476.79 1373.88 L1271.91 1373.88 L1271.91 1373.88  Z\n",
       "  \" fill=\"#ff0000\" fill-rule=\"evenodd\" fill-opacity=\"1\"/>\n",
       "<polyline clip-path=\"url(#clip882)\" style=\"stroke:#000000; stroke-linecap:butt; stroke-linejoin:round; stroke-width:4; stroke-opacity:1; fill:none\" points=\"\n",
       "  1271.91,1373.88 1271.91,1443.7 1476.79,1443.7 1476.79,1373.88 1271.91,1373.88 \n",
       "  \"/>\n",
       "<circle clip-path=\"url(#clip882)\" style=\"fill:#3da44d; stroke:none; fill-opacity:0\" cx=\"349.971\" cy=\"512.729\" r=\"2\"/>\n",
       "<circle clip-path=\"url(#clip882)\" style=\"fill:#3da44d; stroke:none; fill-opacity:0\" cx=\"606.066\" cy=\"675.649\" r=\"2\"/>\n",
       "<circle clip-path=\"url(#clip882)\" style=\"fill:#3da44d; stroke:none; fill-opacity:0\" cx=\"862.161\" cy=\"954.94\" r=\"2\"/>\n",
       "<circle clip-path=\"url(#clip882)\" style=\"fill:#3da44d; stroke:none; fill-opacity:0\" cx=\"1118.26\" cy=\"1094.59\" r=\"2\"/>\n",
       "<circle clip-path=\"url(#clip882)\" style=\"fill:#3da44d; stroke:none; fill-opacity:0\" cx=\"1374.35\" cy=\"1373.88\" r=\"2\"/>\n",
       "<path clip-path=\"url(#clip880)\" d=\"\n",
       "M217.605 301.153 L402.737 301.153 L402.737 93.7926 L217.605 93.7926  Z\n",
       "  \" fill=\"#ffffff\" fill-rule=\"evenodd\" fill-opacity=\"1\"/>\n",
       "<polyline clip-path=\"url(#clip880)\" style=\"stroke:#000000; stroke-linecap:butt; stroke-linejoin:round; stroke-width:4; stroke-opacity:1; fill:none\" points=\"\n",
       "  217.605,301.153 402.737,301.153 402.737,93.7926 217.605,93.7926 217.605,301.153 \n",
       "  \"/>\n",
       "<path clip-path=\"url(#clip880)\" d=\"\n",
       "M232.951 166.369 L325.031 166.369 L325.031 124.897 L232.951 124.897 L232.951 166.369  Z\n",
       "  \" fill=\"#0000ff\" fill-rule=\"evenodd\" fill-opacity=\"1\"/>\n",
       "<polyline clip-path=\"url(#clip880)\" style=\"stroke:#000000; stroke-linecap:butt; stroke-linejoin:round; stroke-width:4; stroke-opacity:1; fill:none\" points=\"\n",
       "  232.951,166.369 325.031,166.369 325.031,124.897 232.951,124.897 232.951,166.369 \n",
       "  \"/>\n",
       "<path clip-path=\"url(#clip880)\" d=\"M356.211 132.959 L349.868 150.158 L362.576 150.158 L356.211 132.959 M353.572 128.353 L358.873 128.353 L372.044 162.913 L367.183 162.913 L364.035 154.047 L348.456 154.047 L345.308 162.913 L340.377 162.913 L353.572 128.353 Z\" fill=\"#000000\" fill-rule=\"evenodd\" fill-opacity=\"1\" /><path clip-path=\"url(#clip880)\" d=\"\n",
       "M232.951 218.209 L325.031 218.209 L325.031 176.737 L232.951 176.737 L232.951 218.209  Z\n",
       "  \" fill=\"#008000\" fill-rule=\"evenodd\" fill-opacity=\"1\"/>\n",
       "<polyline clip-path=\"url(#clip880)\" style=\"stroke:#000000; stroke-linecap:butt; stroke-linejoin:round; stroke-width:4; stroke-opacity:1; fill:none\" points=\"\n",
       "  232.951,218.209 325.031,218.209 325.031,176.737 232.951,176.737 232.951,218.209 \n",
       "  \"/>\n",
       "<path clip-path=\"url(#clip880)\" d=\"M368.248 182.855 L368.248 187.785 Q365.887 185.586 363.201 184.498 Q360.539 183.41 357.53 183.41 Q351.604 183.41 348.456 187.044 Q345.308 190.656 345.308 197.507 Q345.308 204.336 348.456 207.97 Q351.604 211.581 357.53 211.581 Q360.539 211.581 363.201 210.493 Q365.887 209.405 368.248 207.206 L368.248 212.091 Q365.794 213.757 363.039 214.591 Q360.308 215.424 357.252 215.424 Q349.405 215.424 344.891 210.632 Q340.377 205.817 340.377 197.507 Q340.377 189.174 344.891 184.382 Q349.405 179.568 357.252 179.568 Q360.354 179.568 363.086 180.401 Q365.84 181.211 368.248 182.855 Z\" fill=\"#000000\" fill-rule=\"evenodd\" fill-opacity=\"1\" /><path clip-path=\"url(#clip880)\" d=\"\n",
       "M232.951 270.049 L325.031 270.049 L325.031 228.577 L232.951 228.577 L232.951 270.049  Z\n",
       "  \" fill=\"#ff0000\" fill-rule=\"evenodd\" fill-opacity=\"1\"/>\n",
       "<polyline clip-path=\"url(#clip880)\" style=\"stroke:#000000; stroke-linecap:butt; stroke-linejoin:round; stroke-width:4; stroke-opacity:1; fill:none\" points=\"\n",
       "  232.951,270.049 325.031,270.049 325.031,228.577 232.951,228.577 232.951,270.049 \n",
       "  \"/>\n",
       "<path clip-path=\"url(#clip880)\" d=\"M345.053 250.088 L345.053 262.75 L352.553 262.75 Q356.326 262.75 358.132 261.199 Q359.961 259.625 359.961 256.407 Q359.961 253.167 358.132 251.639 Q356.326 250.088 352.553 250.088 L345.053 250.088 M345.053 235.875 L345.053 246.292 L351.975 246.292 Q355.4 246.292 357.067 245.019 Q358.757 243.722 358.757 241.083 Q358.757 238.468 357.067 237.171 Q355.4 235.875 351.975 235.875 L345.053 235.875 M340.377 232.033 L352.322 232.033 Q357.669 232.033 360.562 234.255 Q363.456 236.477 363.456 240.574 Q363.456 243.746 361.975 245.621 Q360.493 247.495 357.623 247.958 Q361.072 248.699 362.97 251.06 Q364.891 253.398 364.891 256.917 Q364.891 261.546 361.743 264.069 Q358.595 266.593 352.785 266.593 L340.377 266.593 L340.377 232.033 Z\" fill=\"#000000\" fill-rule=\"evenodd\" fill-opacity=\"1\" /><path clip-path=\"url(#clip880)\" d=\"\n",
       "M1771.57 1443.7 L3152.76 1443.7 L3152.76 47.2441 L1771.57 47.2441  Z\n",
       "  \" fill=\"#ffffff\" fill-rule=\"evenodd\" fill-opacity=\"1\"/>\n",
       "<defs>\n",
       "  <clipPath id=\"clip883\">\n",
       "    <rect x=\"1771\" y=\"47\" width=\"1382\" height=\"1397\"/>\n",
       "  </clipPath>\n",
       "</defs>\n",
       "<polyline clip-path=\"url(#clip883)\" style=\"stroke:#000000; stroke-linecap:butt; stroke-linejoin:round; stroke-width:2; stroke-opacity:0.1; fill:none\" points=\"\n",
       "  1946.73,1443.7 1946.73,47.2441 \n",
       "  \"/>\n",
       "<polyline clip-path=\"url(#clip883)\" style=\"stroke:#000000; stroke-linecap:butt; stroke-linejoin:round; stroke-width:2; stroke-opacity:0.1; fill:none\" points=\"\n",
       "  2204.44,1443.7 2204.44,47.2441 \n",
       "  \"/>\n",
       "<polyline clip-path=\"url(#clip883)\" style=\"stroke:#000000; stroke-linecap:butt; stroke-linejoin:round; stroke-width:2; stroke-opacity:0.1; fill:none\" points=\"\n",
       "  2462.16,1443.7 2462.16,47.2441 \n",
       "  \"/>\n",
       "<polyline clip-path=\"url(#clip883)\" style=\"stroke:#000000; stroke-linecap:butt; stroke-linejoin:round; stroke-width:2; stroke-opacity:0.1; fill:none\" points=\"\n",
       "  2719.88,1443.7 2719.88,47.2441 \n",
       "  \"/>\n",
       "<polyline clip-path=\"url(#clip883)\" style=\"stroke:#000000; stroke-linecap:butt; stroke-linejoin:round; stroke-width:2; stroke-opacity:0.1; fill:none\" points=\"\n",
       "  2977.59,1443.7 2977.59,47.2441 \n",
       "  \"/>\n",
       "<polyline clip-path=\"url(#clip880)\" style=\"stroke:#000000; stroke-linecap:butt; stroke-linejoin:round; stroke-width:4; stroke-opacity:1; fill:none\" points=\"\n",
       "  1771.57,1443.7 3152.76,1443.7 \n",
       "  \"/>\n",
       "<polyline clip-path=\"url(#clip880)\" style=\"stroke:#000000; stroke-linecap:butt; stroke-linejoin:round; stroke-width:4; stroke-opacity:1; fill:none\" points=\"\n",
       "  1946.73,1443.7 1946.73,1424.8 \n",
       "  \"/>\n",
       "<polyline clip-path=\"url(#clip880)\" style=\"stroke:#000000; stroke-linecap:butt; stroke-linejoin:round; stroke-width:4; stroke-opacity:1; fill:none\" points=\"\n",
       "  2204.44,1443.7 2204.44,1424.8 \n",
       "  \"/>\n",
       "<polyline clip-path=\"url(#clip880)\" style=\"stroke:#000000; stroke-linecap:butt; stroke-linejoin:round; stroke-width:4; stroke-opacity:1; fill:none\" points=\"\n",
       "  2462.16,1443.7 2462.16,1424.8 \n",
       "  \"/>\n",
       "<polyline clip-path=\"url(#clip880)\" style=\"stroke:#000000; stroke-linecap:butt; stroke-linejoin:round; stroke-width:4; stroke-opacity:1; fill:none\" points=\"\n",
       "  2719.88,1443.7 2719.88,1424.8 \n",
       "  \"/>\n",
       "<polyline clip-path=\"url(#clip880)\" style=\"stroke:#000000; stroke-linecap:butt; stroke-linejoin:round; stroke-width:4; stroke-opacity:1; fill:none\" points=\"\n",
       "  2977.59,1443.7 2977.59,1424.8 \n",
       "  \"/>\n",
       "<path clip-path=\"url(#clip880)\" d=\"M1896.14 1508.56 L1912.46 1508.56 L1912.46 1512.5 L1890.51 1512.5 L1890.51 1508.56 Q1893.18 1505.81 1897.76 1501.18 Q1902.37 1496.53 1903.55 1495.19 Q1905.79 1492.66 1906.67 1490.93 Q1907.57 1489.17 1907.57 1487.48 Q1907.57 1484.72 1905.63 1482.99 Q1903.71 1481.25 1900.61 1481.25 Q1898.41 1481.25 1895.95 1482.01 Q1893.52 1482.78 1890.75 1484.33 L1890.75 1479.61 Q1893.57 1478.47 1896.02 1477.89 Q1898.48 1477.31 1900.51 1477.31 Q1905.88 1477.31 1909.08 1480 Q1912.27 1482.69 1912.27 1487.18 Q1912.27 1489.31 1911.46 1491.23 Q1910.68 1493.12 1908.57 1495.72 Q1907.99 1496.39 1904.89 1499.61 Q1901.79 1502.8 1896.14 1508.56 Z\" fill=\"#000000\" fill-rule=\"evenodd\" fill-opacity=\"1\" /><path clip-path=\"url(#clip880)\" d=\"M1932.27 1481.02 Q1928.66 1481.02 1926.83 1484.58 Q1925.03 1488.12 1925.03 1495.25 Q1925.03 1502.36 1926.83 1505.93 Q1928.66 1509.47 1932.27 1509.47 Q1935.91 1509.47 1937.71 1505.93 Q1939.54 1502.36 1939.54 1495.25 Q1939.54 1488.12 1937.71 1484.58 Q1935.91 1481.02 1932.27 1481.02 M1932.27 1477.31 Q1938.08 1477.31 1941.14 1481.92 Q1944.22 1486.5 1944.22 1495.25 Q1944.22 1503.98 1941.14 1508.59 Q1938.08 1513.17 1932.27 1513.17 Q1926.46 1513.17 1923.38 1508.59 Q1920.33 1503.98 1920.33 1495.25 Q1920.33 1486.5 1923.38 1481.92 Q1926.46 1477.31 1932.27 1477.31 Z\" fill=\"#000000\" fill-rule=\"evenodd\" fill-opacity=\"1\" /><path clip-path=\"url(#clip880)\" d=\"M1953.25 1508.56 L1960.88 1508.56 L1960.88 1482.2 L1952.57 1483.87 L1952.57 1479.61 L1960.84 1477.94 L1965.51 1477.94 L1965.51 1508.56 L1973.15 1508.56 L1973.15 1512.5 L1953.25 1512.5 L1953.25 1508.56 Z\" fill=\"#000000\" fill-rule=\"evenodd\" fill-opacity=\"1\" /><path clip-path=\"url(#clip880)\" d=\"M1986.62 1508.56 L2002.94 1508.56 L2002.94 1512.5 L1981 1512.5 L1981 1508.56 Q1983.66 1505.81 1988.25 1501.18 Q1992.85 1496.53 1994.03 1495.19 Q1996.28 1492.66 1997.16 1490.93 Q1998.06 1489.17 1998.06 1487.48 Q1998.06 1484.72 1996.12 1482.99 Q1994.19 1481.25 1991.09 1481.25 Q1988.89 1481.25 1986.44 1482.01 Q1984.01 1482.78 1981.23 1484.33 L1981.23 1479.61 Q1984.06 1478.47 1986.51 1477.89 Q1988.96 1477.31 1991 1477.31 Q1996.37 1477.31 1999.56 1480 Q2002.76 1482.69 2002.76 1487.18 Q2002.76 1489.31 2001.95 1491.23 Q2001.16 1493.12 1999.06 1495.72 Q1998.48 1496.39 1995.37 1499.61 Q1992.27 1502.8 1986.62 1508.56 Z\" fill=\"#000000\" fill-rule=\"evenodd\" fill-opacity=\"1\" /><path clip-path=\"url(#clip880)\" d=\"M2153.38 1508.56 L2169.7 1508.56 L2169.7 1512.5 L2147.76 1512.5 L2147.76 1508.56 Q2150.42 1505.81 2155 1501.18 Q2159.61 1496.53 2160.79 1495.19 Q2163.03 1492.66 2163.91 1490.93 Q2164.82 1489.17 2164.82 1487.48 Q2164.82 1484.72 2162.87 1482.99 Q2160.95 1481.25 2157.85 1481.25 Q2155.65 1481.25 2153.2 1482.01 Q2150.76 1482.78 2147.99 1484.33 L2147.99 1479.61 Q2150.81 1478.47 2153.26 1477.89 Q2155.72 1477.31 2157.76 1477.31 Q2163.13 1477.31 2166.32 1480 Q2169.51 1482.69 2169.51 1487.18 Q2169.51 1489.31 2168.7 1491.23 Q2167.92 1493.12 2165.81 1495.72 Q2165.23 1496.39 2162.13 1499.61 Q2159.03 1502.8 2153.38 1508.56 Z\" fill=\"#000000\" fill-rule=\"evenodd\" fill-opacity=\"1\" /><path clip-path=\"url(#clip880)\" d=\"M2189.51 1481.02 Q2185.9 1481.02 2184.07 1484.58 Q2182.27 1488.12 2182.27 1495.25 Q2182.27 1502.36 2184.07 1505.93 Q2185.9 1509.47 2189.51 1509.47 Q2193.15 1509.47 2194.95 1505.93 Q2196.78 1502.36 2196.78 1495.25 Q2196.78 1488.12 2194.95 1484.58 Q2193.15 1481.02 2189.51 1481.02 M2189.51 1477.31 Q2195.32 1477.31 2198.38 1481.92 Q2201.46 1486.5 2201.46 1495.25 Q2201.46 1503.98 2198.38 1508.59 Q2195.32 1513.17 2189.51 1513.17 Q2183.7 1513.17 2180.63 1508.59 Q2177.57 1503.98 2177.57 1495.25 Q2177.57 1486.5 2180.63 1481.92 Q2183.7 1477.31 2189.51 1477.31 Z\" fill=\"#000000\" fill-rule=\"evenodd\" fill-opacity=\"1\" /><path clip-path=\"url(#clip880)\" d=\"M2210.49 1508.56 L2218.13 1508.56 L2218.13 1482.2 L2209.82 1483.87 L2209.82 1479.61 L2218.08 1477.94 L2222.76 1477.94 L2222.76 1508.56 L2230.39 1508.56 L2230.39 1512.5 L2210.49 1512.5 L2210.49 1508.56 Z\" fill=\"#000000\" fill-rule=\"evenodd\" fill-opacity=\"1\" /><path clip-path=\"url(#clip880)\" d=\"M2254 1493.87 Q2257.36 1494.58 2259.24 1496.85 Q2261.13 1499.12 2261.13 1502.45 Q2261.13 1507.57 2257.62 1510.37 Q2254.1 1513.17 2247.62 1513.17 Q2245.44 1513.17 2243.13 1512.73 Q2240.83 1512.31 2238.38 1511.46 L2238.38 1506.94 Q2240.32 1508.08 2242.64 1508.66 Q2244.95 1509.24 2247.48 1509.24 Q2251.88 1509.24 2254.17 1507.5 Q2256.48 1505.76 2256.48 1502.45 Q2256.48 1499.4 2254.33 1497.69 Q2252.2 1495.95 2248.38 1495.95 L2244.35 1495.95 L2244.35 1492.11 L2248.57 1492.11 Q2252.01 1492.11 2253.84 1490.74 Q2255.67 1489.35 2255.67 1486.76 Q2255.67 1484.1 2253.77 1482.69 Q2251.9 1481.25 2248.38 1481.25 Q2246.46 1481.25 2244.26 1481.67 Q2242.06 1482.08 2239.42 1482.96 L2239.42 1478.8 Q2242.08 1478.06 2244.4 1477.69 Q2246.74 1477.31 2248.8 1477.31 Q2254.12 1477.31 2257.22 1479.75 Q2260.32 1482.15 2260.32 1486.27 Q2260.32 1489.14 2258.68 1491.13 Q2257.04 1493.1 2254 1493.87 Z\" fill=\"#000000\" fill-rule=\"evenodd\" fill-opacity=\"1\" /><path clip-path=\"url(#clip880)\" d=\"M2410.53 1508.56 L2426.85 1508.56 L2426.85 1512.5 L2404.9 1512.5 L2404.9 1508.56 Q2407.57 1505.81 2412.15 1501.18 Q2416.76 1496.53 2417.94 1495.19 Q2420.18 1492.66 2421.06 1490.93 Q2421.96 1489.17 2421.96 1487.48 Q2421.96 1484.72 2420.02 1482.99 Q2418.1 1481.25 2415 1481.25 Q2412.8 1481.25 2410.34 1482.01 Q2407.91 1482.78 2405.14 1484.33 L2405.14 1479.61 Q2407.96 1478.47 2410.41 1477.89 Q2412.87 1477.31 2414.9 1477.31 Q2420.27 1477.31 2423.47 1480 Q2426.66 1482.69 2426.66 1487.18 Q2426.66 1489.31 2425.85 1491.23 Q2425.07 1493.12 2422.96 1495.72 Q2422.38 1496.39 2419.28 1499.61 Q2416.18 1502.8 2410.53 1508.56 Z\" fill=\"#000000\" fill-rule=\"evenodd\" fill-opacity=\"1\" /><path clip-path=\"url(#clip880)\" d=\"M2446.66 1481.02 Q2443.05 1481.02 2441.22 1484.58 Q2439.42 1488.12 2439.42 1495.25 Q2439.42 1502.36 2441.22 1505.93 Q2443.05 1509.47 2446.66 1509.47 Q2450.3 1509.47 2452.1 1505.93 Q2453.93 1502.36 2453.93 1495.25 Q2453.93 1488.12 2452.1 1484.58 Q2450.3 1481.02 2446.66 1481.02 M2446.66 1477.31 Q2452.47 1477.31 2455.53 1481.92 Q2458.61 1486.5 2458.61 1495.25 Q2458.61 1503.98 2455.53 1508.59 Q2452.47 1513.17 2446.66 1513.17 Q2440.85 1513.17 2437.77 1508.59 Q2434.72 1503.98 2434.72 1495.25 Q2434.72 1486.5 2437.77 1481.92 Q2440.85 1477.31 2446.66 1477.31 Z\" fill=\"#000000\" fill-rule=\"evenodd\" fill-opacity=\"1\" /><path clip-path=\"url(#clip880)\" d=\"M2467.64 1508.56 L2475.27 1508.56 L2475.27 1482.2 L2466.96 1483.87 L2466.96 1479.61 L2475.23 1477.94 L2479.9 1477.94 L2479.9 1508.56 L2487.54 1508.56 L2487.54 1512.5 L2467.64 1512.5 L2467.64 1508.56 Z\" fill=\"#000000\" fill-rule=\"evenodd\" fill-opacity=\"1\" /><path clip-path=\"url(#clip880)\" d=\"M2509.83 1482.01 L2498.03 1500.46 L2509.83 1500.46 L2509.83 1482.01 M2508.61 1477.94 L2514.49 1477.94 L2514.49 1500.46 L2519.42 1500.46 L2519.42 1504.35 L2514.49 1504.35 L2514.49 1512.5 L2509.83 1512.5 L2509.83 1504.35 L2494.23 1504.35 L2494.23 1499.84 L2508.61 1477.94 Z\" fill=\"#000000\" fill-rule=\"evenodd\" fill-opacity=\"1\" /><path clip-path=\"url(#clip880)\" d=\"M2668.99 1508.56 L2685.3 1508.56 L2685.3 1512.5 L2663.36 1512.5 L2663.36 1508.56 Q2666.02 1505.81 2670.61 1501.18 Q2675.21 1496.53 2676.39 1495.19 Q2678.64 1492.66 2679.52 1490.93 Q2680.42 1489.17 2680.42 1487.48 Q2680.42 1484.72 2678.48 1482.99 Q2676.55 1481.25 2673.45 1481.25 Q2671.25 1481.25 2668.8 1482.01 Q2666.37 1482.78 2663.59 1484.33 L2663.59 1479.61 Q2666.42 1478.47 2668.87 1477.89 Q2671.32 1477.31 2673.36 1477.31 Q2678.73 1477.31 2681.92 1480 Q2685.12 1482.69 2685.12 1487.18 Q2685.12 1489.31 2684.31 1491.23 Q2683.52 1493.12 2681.42 1495.72 Q2680.84 1496.39 2677.74 1499.61 Q2674.63 1502.8 2668.99 1508.56 Z\" fill=\"#000000\" fill-rule=\"evenodd\" fill-opacity=\"1\" /><path clip-path=\"url(#clip880)\" d=\"M2705.12 1481.02 Q2701.51 1481.02 2699.68 1484.58 Q2697.87 1488.12 2697.87 1495.25 Q2697.87 1502.36 2699.68 1505.93 Q2701.51 1509.47 2705.12 1509.47 Q2708.75 1509.47 2710.56 1505.93 Q2712.39 1502.36 2712.39 1495.25 Q2712.39 1488.12 2710.56 1484.58 Q2708.75 1481.02 2705.12 1481.02 M2705.12 1477.31 Q2710.93 1477.31 2713.98 1481.92 Q2717.06 1486.5 2717.06 1495.25 Q2717.06 1503.98 2713.98 1508.59 Q2710.93 1513.17 2705.12 1513.17 Q2699.31 1513.17 2696.23 1508.59 Q2693.17 1503.98 2693.17 1495.25 Q2693.17 1486.5 2696.23 1481.92 Q2699.31 1477.31 2705.12 1477.31 Z\" fill=\"#000000\" fill-rule=\"evenodd\" fill-opacity=\"1\" /><path clip-path=\"url(#clip880)\" d=\"M2726.09 1508.56 L2733.73 1508.56 L2733.73 1482.2 L2725.42 1483.87 L2725.42 1479.61 L2733.68 1477.94 L2738.36 1477.94 L2738.36 1508.56 L2746 1508.56 L2746 1512.5 L2726.09 1512.5 L2726.09 1508.56 Z\" fill=\"#000000\" fill-rule=\"evenodd\" fill-opacity=\"1\" /><path clip-path=\"url(#clip880)\" d=\"M2755.49 1477.94 L2773.85 1477.94 L2773.85 1481.88 L2759.77 1481.88 L2759.77 1490.35 Q2760.79 1490 2761.81 1489.84 Q2762.83 1489.65 2763.85 1489.65 Q2769.63 1489.65 2773.01 1492.82 Q2776.39 1496 2776.39 1501.41 Q2776.39 1506.99 2772.92 1510.09 Q2769.45 1513.17 2763.13 1513.17 Q2760.95 1513.17 2758.68 1512.8 Q2756.44 1512.43 2754.03 1511.69 L2754.03 1506.99 Q2756.11 1508.12 2758.34 1508.68 Q2760.56 1509.24 2763.04 1509.24 Q2767.04 1509.24 2769.38 1507.13 Q2771.72 1505.02 2771.72 1501.41 Q2771.72 1497.8 2769.38 1495.69 Q2767.04 1493.59 2763.04 1493.59 Q2761.16 1493.59 2759.29 1494 Q2757.43 1494.42 2755.49 1495.3 L2755.49 1477.94 Z\" fill=\"#000000\" fill-rule=\"evenodd\" fill-opacity=\"1\" /><path clip-path=\"url(#clip880)\" d=\"M2926.12 1508.56 L2942.44 1508.56 L2942.44 1512.5 L2920.5 1512.5 L2920.5 1508.56 Q2923.16 1505.81 2927.74 1501.18 Q2932.35 1496.53 2933.53 1495.19 Q2935.77 1492.66 2936.65 1490.93 Q2937.56 1489.17 2937.56 1487.48 Q2937.56 1484.72 2935.61 1482.99 Q2933.69 1481.25 2930.59 1481.25 Q2928.39 1481.25 2925.94 1482.01 Q2923.51 1482.78 2920.73 1484.33 L2920.73 1479.61 Q2923.55 1478.47 2926.01 1477.89 Q2928.46 1477.31 2930.5 1477.31 Q2935.87 1477.31 2939.06 1480 Q2942.26 1482.69 2942.26 1487.18 Q2942.26 1489.31 2941.45 1491.23 Q2940.66 1493.12 2938.55 1495.72 Q2937.97 1496.39 2934.87 1499.61 Q2931.77 1502.8 2926.12 1508.56 Z\" fill=\"#000000\" fill-rule=\"evenodd\" fill-opacity=\"1\" /><path clip-path=\"url(#clip880)\" d=\"M2962.26 1481.02 Q2958.65 1481.02 2956.82 1484.58 Q2955.01 1488.12 2955.01 1495.25 Q2955.01 1502.36 2956.82 1505.93 Q2958.65 1509.47 2962.26 1509.47 Q2965.89 1509.47 2967.7 1505.93 Q2969.52 1502.36 2969.52 1495.25 Q2969.52 1488.12 2967.7 1484.58 Q2965.89 1481.02 2962.26 1481.02 M2962.26 1477.31 Q2968.07 1477.31 2971.12 1481.92 Q2974.2 1486.5 2974.2 1495.25 Q2974.2 1503.98 2971.12 1508.59 Q2968.07 1513.17 2962.26 1513.17 Q2956.45 1513.17 2953.37 1508.59 Q2950.31 1503.98 2950.31 1495.25 Q2950.31 1486.5 2953.37 1481.92 Q2956.45 1477.31 2962.26 1477.31 Z\" fill=\"#000000\" fill-rule=\"evenodd\" fill-opacity=\"1\" /><path clip-path=\"url(#clip880)\" d=\"M2983.23 1508.56 L2990.87 1508.56 L2990.87 1482.2 L2982.56 1483.87 L2982.56 1479.61 L2990.82 1477.94 L2995.5 1477.94 L2995.5 1508.56 L3003.14 1508.56 L3003.14 1512.5 L2983.23 1512.5 L2983.23 1508.56 Z\" fill=\"#000000\" fill-rule=\"evenodd\" fill-opacity=\"1\" /><path clip-path=\"url(#clip880)\" d=\"M3023.16 1493.36 Q3020.01 1493.36 3018.16 1495.51 Q3016.33 1497.66 3016.33 1501.41 Q3016.33 1505.14 3018.16 1507.31 Q3020.01 1509.47 3023.16 1509.47 Q3026.31 1509.47 3028.14 1507.31 Q3029.99 1505.14 3029.99 1501.41 Q3029.99 1497.66 3028.14 1495.51 Q3026.31 1493.36 3023.16 1493.36 M3032.44 1478.7 L3032.44 1482.96 Q3030.68 1482.13 3028.88 1481.69 Q3027.09 1481.25 3025.33 1481.25 Q3020.7 1481.25 3018.25 1484.37 Q3015.82 1487.5 3015.47 1493.82 Q3016.84 1491.81 3018.9 1490.74 Q3020.96 1489.65 3023.44 1489.65 Q3028.64 1489.65 3031.65 1492.82 Q3034.69 1495.97 3034.69 1501.41 Q3034.69 1506.74 3031.54 1509.95 Q3028.39 1513.17 3023.16 1513.17 Q3017.16 1513.17 3013.99 1508.59 Q3010.82 1503.98 3010.82 1495.25 Q3010.82 1487.06 3014.71 1482.2 Q3018.6 1477.31 3025.15 1477.31 Q3026.91 1477.31 3028.69 1477.66 Q3030.5 1478.01 3032.44 1478.7 Z\" fill=\"#000000\" fill-rule=\"evenodd\" fill-opacity=\"1\" /><path clip-path=\"url(#clip880)\" d=\"M2393.09 1553.04 L2400 1553.04 L2413.18 1572.59 L2426.26 1553.04 L2433.16 1553.04 L2416.36 1577.93 L2416.36 1600.56 L2409.9 1600.56 L2409.9 1577.93 L2393.09 1553.04 Z\" fill=\"#000000\" fill-rule=\"evenodd\" fill-opacity=\"1\" /><path clip-path=\"url(#clip880)\" d=\"M2461.01 1581.28 L2461.01 1584.14 L2434.09 1584.14 Q2434.47 1590.19 2437.72 1593.37 Q2440.99 1596.52 2446.82 1596.52 Q2450.19 1596.52 2453.34 1595.69 Q2456.53 1594.87 2459.65 1593.21 L2459.65 1598.75 Q2456.5 1600.09 2453.18 1600.79 Q2449.87 1601.49 2446.47 1601.49 Q2437.94 1601.49 2432.94 1596.52 Q2427.98 1591.56 2427.98 1583.09 Q2427.98 1574.34 2432.69 1569.21 Q2437.43 1564.06 2445.45 1564.06 Q2452.64 1564.06 2456.81 1568.7 Q2461.01 1573.32 2461.01 1581.28 M2455.16 1579.56 Q2455.09 1574.75 2452.45 1571.89 Q2449.84 1569.02 2445.51 1569.02 Q2440.61 1569.02 2437.65 1571.79 Q2434.72 1574.56 2434.28 1579.59 L2455.16 1579.56 Z\" fill=\"#000000\" fill-rule=\"evenodd\" fill-opacity=\"1\" /><path clip-path=\"url(#clip880)\" d=\"M2486.83 1582.64 Q2479.73 1582.64 2476.99 1584.27 Q2474.26 1585.89 2474.26 1589.81 Q2474.26 1592.92 2476.29 1594.77 Q2478.36 1596.59 2481.89 1596.59 Q2486.76 1596.59 2489.69 1593.15 Q2492.65 1589.68 2492.65 1583.95 L2492.65 1582.64 L2486.83 1582.64 M2498.51 1580.23 L2498.51 1600.56 L2492.65 1600.56 L2492.65 1595.15 Q2490.65 1598.4 2487.66 1599.96 Q2484.66 1601.49 2480.33 1601.49 Q2474.86 1601.49 2471.61 1598.43 Q2468.4 1595.34 2468.4 1590.19 Q2468.4 1584.17 2472.41 1581.12 Q2476.45 1578.06 2484.44 1578.06 L2492.65 1578.06 L2492.65 1577.49 Q2492.65 1573.45 2489.98 1571.25 Q2487.34 1569.02 2482.53 1569.02 Q2479.48 1569.02 2476.58 1569.75 Q2473.68 1570.49 2471.01 1571.95 L2471.01 1566.54 Q2474.22 1565.3 2477.25 1564.69 Q2480.27 1564.06 2483.14 1564.06 Q2490.87 1564.06 2494.69 1568.07 Q2498.51 1572.08 2498.51 1580.23 Z\" fill=\"#000000\" fill-rule=\"evenodd\" fill-opacity=\"1\" /><path clip-path=\"url(#clip880)\" d=\"M2531.23 1570.39 Q2530.24 1569.82 2529.06 1569.56 Q2527.92 1569.28 2526.52 1569.28 Q2521.55 1569.28 2518.88 1572.52 Q2516.24 1575.74 2516.24 1581.79 L2516.24 1600.56 L2510.35 1600.56 L2510.35 1564.92 L2516.24 1564.92 L2516.24 1570.45 Q2518.08 1567.21 2521.04 1565.65 Q2524 1564.06 2528.24 1564.06 Q2528.84 1564.06 2529.57 1564.15 Q2530.31 1564.22 2531.2 1564.37 L2531.23 1570.39 Z\" fill=\"#000000\" fill-rule=\"evenodd\" fill-opacity=\"1\" /><polyline clip-path=\"url(#clip883)\" style=\"stroke:#000000; stroke-linecap:butt; stroke-linejoin:round; stroke-width:2; stroke-opacity:0.1; fill:none\" points=\"\n",
       "  1771.57,1443.7 3152.76,1443.7 \n",
       "  \"/>\n",
       "<polyline clip-path=\"url(#clip883)\" style=\"stroke:#000000; stroke-linecap:butt; stroke-linejoin:round; stroke-width:2; stroke-opacity:0.1; fill:none\" points=\"\n",
       "  1771.57,1210.96 3152.76,1210.96 \n",
       "  \"/>\n",
       "<polyline clip-path=\"url(#clip883)\" style=\"stroke:#000000; stroke-linecap:butt; stroke-linejoin:round; stroke-width:2; stroke-opacity:0.1; fill:none\" points=\"\n",
       "  1771.57,978.215 3152.76,978.215 \n",
       "  \"/>\n",
       "<polyline clip-path=\"url(#clip883)\" style=\"stroke:#000000; stroke-linecap:butt; stroke-linejoin:round; stroke-width:2; stroke-opacity:0.1; fill:none\" points=\"\n",
       "  1771.57,745.472 3152.76,745.472 \n",
       "  \"/>\n",
       "<polyline clip-path=\"url(#clip883)\" style=\"stroke:#000000; stroke-linecap:butt; stroke-linejoin:round; stroke-width:2; stroke-opacity:0.1; fill:none\" points=\"\n",
       "  1771.57,512.729 3152.76,512.729 \n",
       "  \"/>\n",
       "<polyline clip-path=\"url(#clip883)\" style=\"stroke:#000000; stroke-linecap:butt; stroke-linejoin:round; stroke-width:2; stroke-opacity:0.1; fill:none\" points=\"\n",
       "  1771.57,279.987 3152.76,279.987 \n",
       "  \"/>\n",
       "<polyline clip-path=\"url(#clip883)\" style=\"stroke:#000000; stroke-linecap:butt; stroke-linejoin:round; stroke-width:2; stroke-opacity:0.1; fill:none\" points=\"\n",
       "  1771.57,47.2441 3152.76,47.2441 \n",
       "  \"/>\n",
       "<polyline clip-path=\"url(#clip880)\" style=\"stroke:#000000; stroke-linecap:butt; stroke-linejoin:round; stroke-width:4; stroke-opacity:1; fill:none\" points=\"\n",
       "  1771.57,1443.7 1771.57,47.2441 \n",
       "  \"/>\n",
       "<polyline clip-path=\"url(#clip880)\" style=\"stroke:#000000; stroke-linecap:butt; stroke-linejoin:round; stroke-width:4; stroke-opacity:1; fill:none\" points=\"\n",
       "  1771.57,1443.7 1790.46,1443.7 \n",
       "  \"/>\n",
       "<polyline clip-path=\"url(#clip880)\" style=\"stroke:#000000; stroke-linecap:butt; stroke-linejoin:round; stroke-width:4; stroke-opacity:1; fill:none\" points=\"\n",
       "  1771.57,1210.96 1790.46,1210.96 \n",
       "  \"/>\n",
       "<polyline clip-path=\"url(#clip880)\" style=\"stroke:#000000; stroke-linecap:butt; stroke-linejoin:round; stroke-width:4; stroke-opacity:1; fill:none\" points=\"\n",
       "  1771.57,978.215 1790.46,978.215 \n",
       "  \"/>\n",
       "<polyline clip-path=\"url(#clip880)\" style=\"stroke:#000000; stroke-linecap:butt; stroke-linejoin:round; stroke-width:4; stroke-opacity:1; fill:none\" points=\"\n",
       "  1771.57,745.472 1790.46,745.472 \n",
       "  \"/>\n",
       "<polyline clip-path=\"url(#clip880)\" style=\"stroke:#000000; stroke-linecap:butt; stroke-linejoin:round; stroke-width:4; stroke-opacity:1; fill:none\" points=\"\n",
       "  1771.57,512.729 1790.46,512.729 \n",
       "  \"/>\n",
       "<polyline clip-path=\"url(#clip880)\" style=\"stroke:#000000; stroke-linecap:butt; stroke-linejoin:round; stroke-width:4; stroke-opacity:1; fill:none\" points=\"\n",
       "  1771.57,279.987 1790.46,279.987 \n",
       "  \"/>\n",
       "<polyline clip-path=\"url(#clip880)\" style=\"stroke:#000000; stroke-linecap:butt; stroke-linejoin:round; stroke-width:4; stroke-opacity:1; fill:none\" points=\"\n",
       "  1771.57,47.2441 1790.46,47.2441 \n",
       "  \"/>\n",
       "<path clip-path=\"url(#clip880)\" d=\"M1711.62 1429.5 Q1708.01 1429.5 1706.18 1433.06 Q1704.38 1436.6 1704.38 1443.73 Q1704.38 1450.84 1706.18 1454.41 Q1708.01 1457.95 1711.62 1457.95 Q1715.26 1457.95 1717.06 1454.41 Q1718.89 1450.84 1718.89 1443.73 Q1718.89 1436.6 1717.06 1433.06 Q1715.26 1429.5 1711.62 1429.5 M1711.62 1425.79 Q1717.43 1425.79 1720.49 1430.4 Q1723.57 1434.98 1723.57 1443.73 Q1723.57 1452.46 1720.49 1457.07 Q1717.43 1461.65 1711.62 1461.65 Q1705.81 1461.65 1702.73 1457.07 Q1699.68 1452.46 1699.68 1443.73 Q1699.68 1434.98 1702.73 1430.4 Q1705.81 1425.79 1711.62 1425.79 Z\" fill=\"#000000\" fill-rule=\"evenodd\" fill-opacity=\"1\" /><path clip-path=\"url(#clip880)\" d=\"M1703.66 1224.3 L1711.3 1224.3 L1711.3 1197.94 L1702.99 1199.6 L1702.99 1195.34 L1711.25 1193.68 L1715.93 1193.68 L1715.93 1224.3 L1723.57 1224.3 L1723.57 1228.24 L1703.66 1228.24 L1703.66 1224.3 Z\" fill=\"#000000\" fill-rule=\"evenodd\" fill-opacity=\"1\" /><path clip-path=\"url(#clip880)\" d=\"M1707.25 991.559 L1723.57 991.559 L1723.57 995.495 L1701.62 995.495 L1701.62 991.559 Q1704.28 988.805 1708.87 984.175 Q1713.47 979.522 1714.65 978.18 Q1716.9 975.657 1717.78 973.921 Q1718.68 972.161 1718.68 970.472 Q1718.68 967.717 1716.74 965.981 Q1714.82 964.245 1711.71 964.245 Q1709.51 964.245 1707.06 965.009 Q1704.63 965.773 1701.85 967.323 L1701.85 962.601 Q1704.68 961.467 1707.13 960.888 Q1709.58 960.31 1711.62 960.31 Q1716.99 960.31 1720.19 962.995 Q1723.38 965.68 1723.38 970.171 Q1723.38 972.3 1722.57 974.222 Q1721.78 976.12 1719.68 978.712 Q1719.1 979.384 1716 982.601 Q1712.89 985.796 1707.25 991.559 Z\" fill=\"#000000\" fill-rule=\"evenodd\" fill-opacity=\"1\" /><path clip-path=\"url(#clip880)\" d=\"M1716.44 744.118 Q1719.79 744.835 1721.67 747.104 Q1723.57 749.372 1723.57 752.706 Q1723.57 757.821 1720.05 760.622 Q1716.53 763.423 1710.05 763.423 Q1707.87 763.423 1705.56 762.983 Q1703.26 762.567 1700.81 761.71 L1700.81 757.196 Q1702.76 758.331 1705.07 758.909 Q1707.38 759.488 1709.91 759.488 Q1714.31 759.488 1716.6 757.752 Q1718.91 756.016 1718.91 752.706 Q1718.91 749.65 1716.76 747.937 Q1714.63 746.201 1710.81 746.201 L1706.78 746.201 L1706.78 742.359 L1711 742.359 Q1714.44 742.359 1716.27 740.993 Q1718.1 739.604 1718.1 737.011 Q1718.1 734.349 1716.2 732.937 Q1714.33 731.502 1710.81 731.502 Q1708.89 731.502 1706.69 731.919 Q1704.49 732.335 1701.85 733.215 L1701.85 729.048 Q1704.51 728.308 1706.83 727.937 Q1709.17 727.567 1711.23 727.567 Q1716.55 727.567 1719.65 729.998 Q1722.76 732.405 1722.76 736.525 Q1722.76 739.396 1721.11 741.386 Q1719.47 743.354 1716.44 744.118 Z\" fill=\"#000000\" fill-rule=\"evenodd\" fill-opacity=\"1\" /><path clip-path=\"url(#clip880)\" d=\"M1713.98 499.523 L1702.18 517.972 L1713.98 517.972 L1713.98 499.523 M1712.76 495.449 L1718.63 495.449 L1718.63 517.972 L1723.57 517.972 L1723.57 521.861 L1718.63 521.861 L1718.63 530.009 L1713.98 530.009 L1713.98 521.861 L1698.38 521.861 L1698.38 517.347 L1712.76 495.449 Z\" fill=\"#000000\" fill-rule=\"evenodd\" fill-opacity=\"1\" /><path clip-path=\"url(#clip880)\" d=\"M1702.66 262.707 L1721.02 262.707 L1721.02 266.642 L1706.94 266.642 L1706.94 275.114 Q1707.96 274.767 1708.98 274.605 Q1710 274.42 1711.02 274.42 Q1716.81 274.42 1720.19 277.591 Q1723.57 280.762 1723.57 286.179 Q1723.57 291.757 1720.09 294.859 Q1716.62 297.938 1710.3 297.938 Q1708.13 297.938 1705.86 297.568 Q1703.61 297.197 1701.2 296.457 L1701.2 291.757 Q1703.29 292.892 1705.51 293.447 Q1707.73 294.003 1710.21 294.003 Q1714.21 294.003 1716.55 291.896 Q1718.89 289.79 1718.89 286.179 Q1718.89 282.568 1716.55 280.461 Q1714.21 278.355 1710.21 278.355 Q1708.33 278.355 1706.46 278.771 Q1704.61 279.188 1702.66 280.068 L1702.66 262.707 Z\" fill=\"#000000\" fill-rule=\"evenodd\" fill-opacity=\"1\" /><path clip-path=\"url(#clip880)\" d=\"M1712.04 45.3807 Q1708.89 45.3807 1707.04 47.5334 Q1705.21 49.6862 1705.21 53.4362 Q1705.21 57.163 1707.04 59.3389 Q1708.89 61.4917 1712.04 61.4917 Q1715.19 61.4917 1717.01 59.3389 Q1718.87 57.163 1718.87 53.4362 Q1718.87 49.6862 1717.01 47.5334 Q1715.19 45.3807 1712.04 45.3807 M1721.32 30.728 L1721.32 34.9872 Q1719.56 34.1539 1717.76 33.7141 Q1715.97 33.2743 1714.21 33.2743 Q1709.58 33.2743 1707.13 36.3992 Q1704.7 39.5242 1704.35 45.8436 Q1705.72 43.8298 1707.78 42.765 Q1709.84 41.677 1712.32 41.677 Q1717.52 41.677 1720.53 44.8483 Q1723.57 47.9964 1723.57 53.4362 Q1723.57 58.7602 1720.42 61.9778 Q1717.27 65.1954 1712.04 65.1954 Q1706.04 65.1954 1702.87 60.6121 Q1699.7 56.0056 1699.7 47.2788 Q1699.7 39.0844 1703.59 34.2233 Q1707.48 29.3391 1714.03 29.3391 Q1715.79 29.3391 1717.57 29.6863 Q1719.38 30.0335 1721.32 30.728 Z\" fill=\"#000000\" fill-rule=\"evenodd\" fill-opacity=\"1\" /><path clip-path=\"url(#clip880)\" d=\"M1588.6 1017.32 L1588.6 1007.74 L1620.94 995.612 L1588.6 983.422 L1588.6 973.842 L1636.12 973.842 L1636.12 980.112 L1594.4 980.112 L1626.99 992.366 L1626.99 998.827 L1594.4 1011.08 L1636.12 1011.08 L1636.12 1017.32 L1588.6 1017.32 Z\" fill=\"#000000\" fill-rule=\"evenodd\" fill-opacity=\"1\" /><path clip-path=\"url(#clip880)\" d=\"M1618.2 945.132 Q1618.2 952.23 1619.83 954.967 Q1621.45 957.705 1625.37 957.705 Q1628.49 957.705 1630.33 955.668 Q1632.15 953.599 1632.15 950.066 Q1632.15 945.196 1628.71 942.268 Q1625.24 939.308 1619.51 939.308 L1618.2 939.308 L1618.2 945.132 M1615.79 933.451 L1636.12 933.451 L1636.12 939.308 L1630.71 939.308 Q1633.96 941.313 1635.52 944.305 Q1637.05 947.297 1637.05 951.625 Q1637.05 957.1 1633.99 960.346 Q1630.9 963.561 1625.75 963.561 Q1619.73 963.561 1616.68 959.551 Q1613.62 955.508 1613.62 947.519 L1613.62 939.308 L1613.05 939.308 Q1609.01 939.308 1606.81 941.981 Q1604.58 944.623 1604.58 949.429 Q1604.58 952.485 1605.31 955.381 Q1606.05 958.278 1607.51 960.951 L1602.1 960.951 Q1600.86 957.736 1600.25 954.713 Q1599.62 951.689 1599.62 948.824 Q1599.62 941.09 1603.63 937.271 Q1607.64 933.451 1615.79 933.451 Z\" fill=\"#000000\" fill-rule=\"evenodd\" fill-opacity=\"1\" /><path clip-path=\"url(#clip880)\" d=\"M1605.95 900.732 Q1605.38 901.718 1605.12 902.896 Q1604.84 904.042 1604.84 905.442 Q1604.84 910.407 1608.08 913.081 Q1611.3 915.723 1617.35 915.723 L1636.12 915.723 L1636.12 921.611 L1600.48 921.611 L1600.48 915.723 L1606.01 915.723 Q1602.77 913.877 1601.21 910.917 Q1599.62 907.957 1599.62 903.723 Q1599.62 903.119 1599.71 902.387 Q1599.78 901.655 1599.94 900.763 L1605.95 900.732 Z\" fill=\"#000000\" fill-rule=\"evenodd\" fill-opacity=\"1\" /><path clip-path=\"url(#clip880)\" d=\"M1586.6 894.811 L1586.6 888.923 L1615.85 888.923 L1600.48 871.449 L1600.48 863.97 L1617.15 882.876 L1636.12 863.174 L1636.12 870.813 L1618.71 888.923 L1636.12 888.923 L1636.12 894.811 L1586.6 894.811 Z\" fill=\"#000000\" fill-rule=\"evenodd\" fill-opacity=\"1\" /><path clip-path=\"url(#clip880)\" d=\"M1616.84 828.672 L1619.7 828.672 L1619.7 855.599 Q1625.75 855.217 1628.93 851.97 Q1632.08 848.692 1632.08 842.867 Q1632.08 839.493 1631.25 836.342 Q1630.43 833.16 1628.77 830.04 L1634.31 830.04 Q1635.65 833.191 1636.35 836.502 Q1637.05 839.812 1637.05 843.217 Q1637.05 851.747 1632.08 856.745 Q1627.12 861.71 1618.65 861.71 Q1609.9 861.71 1604.77 856.999 Q1599.62 852.257 1599.62 844.236 Q1599.62 837.043 1604.26 832.873 Q1608.88 828.672 1616.84 828.672 M1615.12 834.528 Q1610.31 834.592 1607.45 837.234 Q1604.58 839.844 1604.58 844.172 Q1604.58 849.074 1607.35 852.034 Q1610.12 854.962 1615.15 855.408 L1615.12 834.528 Z\" fill=\"#000000\" fill-rule=\"evenodd\" fill-opacity=\"1\" /><path clip-path=\"url(#clip880)\" d=\"M1590.35 813.267 L1600.48 813.267 L1600.48 801.204 L1605.03 801.204 L1605.03 813.267 L1624.38 813.267 Q1628.74 813.267 1629.98 812.089 Q1631.22 810.88 1631.22 807.219 L1631.22 801.204 L1636.12 801.204 L1636.12 807.219 Q1636.12 813.999 1633.61 816.577 Q1631.06 819.155 1624.38 819.155 L1605.03 819.155 L1605.03 823.452 L1600.48 823.452 L1600.48 819.155 L1590.35 819.155 L1590.35 813.267 Z\" fill=\"#000000\" fill-rule=\"evenodd\" fill-opacity=\"1\" /><path clip-path=\"url(#clip880)\" d=\"M1592.26 736.942 L1599.04 736.942 Q1596.02 740.188 1594.52 743.881 Q1593.03 747.541 1593.03 751.679 Q1593.03 759.827 1598.03 764.155 Q1602.99 768.484 1612.41 768.484 Q1621.8 768.484 1626.8 764.155 Q1631.76 759.827 1631.76 751.679 Q1631.76 747.541 1630.27 743.881 Q1628.77 740.188 1625.75 736.942 L1632.46 736.942 Q1634.76 740.316 1635.9 744.103 Q1637.05 747.859 1637.05 752.06 Q1637.05 762.85 1630.46 769.057 Q1623.84 775.263 1612.41 775.263 Q1600.95 775.263 1594.37 769.057 Q1587.74 762.85 1587.74 752.06 Q1587.74 747.795 1588.89 744.04 Q1590 740.252 1592.26 736.942 Z\" fill=\"#000000\" fill-rule=\"evenodd\" fill-opacity=\"1\" /><path clip-path=\"url(#clip880)\" d=\"M1618.2 711.065 Q1618.2 718.163 1619.83 720.9 Q1621.45 723.638 1625.37 723.638 Q1628.49 723.638 1630.33 721.601 Q1632.15 719.532 1632.15 715.999 Q1632.15 711.129 1628.71 708.201 Q1625.24 705.241 1619.51 705.241 L1618.2 705.241 L1618.2 711.065 M1615.79 699.384 L1636.12 699.384 L1636.12 705.241 L1630.71 705.241 Q1633.96 707.246 1635.52 710.238 Q1637.05 713.23 1637.05 717.558 Q1637.05 723.033 1633.99 726.279 Q1630.9 729.494 1625.75 729.494 Q1619.73 729.494 1616.68 725.484 Q1613.62 721.441 1613.62 713.452 L1613.62 705.241 L1613.05 705.241 Q1609.01 705.241 1606.81 707.914 Q1604.58 710.556 1604.58 715.362 Q1604.58 718.418 1605.31 721.314 Q1606.05 724.211 1607.51 726.884 L1602.1 726.884 Q1600.86 723.669 1600.25 720.646 Q1599.62 717.622 1599.62 714.757 Q1599.62 707.023 1603.63 703.204 Q1607.64 699.384 1615.79 699.384 Z\" fill=\"#000000\" fill-rule=\"evenodd\" fill-opacity=\"1\" /><path clip-path=\"url(#clip880)\" d=\"M1630.78 681.656 L1649.68 681.656 L1649.68 687.544 L1600.48 687.544 L1600.48 681.656 L1605.89 681.656 Q1602.7 679.81 1601.18 677.009 Q1599.62 674.176 1599.62 670.261 Q1599.62 663.768 1604.77 659.726 Q1609.93 655.652 1618.33 655.652 Q1626.73 655.652 1631.89 659.726 Q1637.05 663.768 1637.05 670.261 Q1637.05 674.176 1635.52 677.009 Q1633.96 679.81 1630.78 681.656 M1618.33 661.731 Q1611.87 661.731 1608.21 664.405 Q1604.52 667.046 1604.52 671.693 Q1604.52 676.34 1608.21 679.014 Q1611.87 681.656 1618.33 681.656 Q1624.79 681.656 1628.49 679.014 Q1632.15 676.34 1632.15 671.693 Q1632.15 667.046 1628.49 664.405 Q1624.79 661.731 1618.33 661.731 Z\" fill=\"#000000\" fill-rule=\"evenodd\" fill-opacity=\"1\" /><path clip-path=\"url(#clip880)\" d=\"M1586.66 611.156 Q1593.98 615.421 1601.14 617.489 Q1608.31 619.558 1615.66 619.558 Q1623.01 619.558 1630.24 617.489 Q1637.43 615.389 1644.72 611.156 L1644.72 616.248 Q1637.24 621.022 1630.01 623.41 Q1622.79 625.765 1615.66 625.765 Q1608.56 625.765 1601.37 623.41 Q1594.17 621.054 1586.66 616.248 L1586.66 611.156 Z\" fill=\"#000000\" fill-rule=\"evenodd\" fill-opacity=\"1\" /><path clip-path=\"url(#clip880)\" d=\"M1588.6 599.538 L1588.6 589.958 L1620.94 577.831 L1588.6 565.641 L1588.6 556.06 L1636.12 556.06 L1636.12 562.331 L1594.4 562.331 L1626.99 574.585 L1626.99 581.046 L1594.4 593.3 L1636.12 593.3 L1636.12 599.538 L1588.6 599.538 Z\" fill=\"#000000\" fill-rule=\"evenodd\" fill-opacity=\"1\" /><path clip-path=\"url(#clip880)\" d=\"M1588.6 543.297 L1588.6 533.717 L1620.94 521.59 L1588.6 509.4 L1588.6 499.819 L1636.12 499.819 L1636.12 506.09 L1594.4 506.09 L1626.99 518.344 L1626.99 524.805 L1594.4 537.059 L1636.12 537.059 L1636.12 543.297 L1588.6 543.297 Z\" fill=\"#000000\" fill-rule=\"evenodd\" fill-opacity=\"1\" /><path clip-path=\"url(#clip880)\" d=\"M1586.66 488.234 L1586.66 483.141 Q1594.17 478.367 1601.37 476.012 Q1608.56 473.624 1615.66 473.624 Q1622.79 473.624 1630.01 476.012 Q1637.24 478.367 1644.72 483.141 L1644.72 488.234 Q1637.43 484.001 1630.24 481.932 Q1623.01 479.831 1615.66 479.831 Q1608.31 479.831 1601.14 481.932 Q1593.98 484.001 1586.66 488.234 Z\" fill=\"#000000\" fill-rule=\"evenodd\" fill-opacity=\"1\" /><path clip-path=\"url(#clip883)\" d=\"\n",
       "M1843.64 1327.33 L1843.64 1443.7 L1912.37 1443.7 L1912.37 1327.33 L1843.64 1327.33 L1843.64 1327.33  Z\n",
       "  \" fill=\"#0000ff\" fill-rule=\"evenodd\" fill-opacity=\"1\"/>\n",
       "<polyline clip-path=\"url(#clip883)\" style=\"stroke:#000000; stroke-linecap:butt; stroke-linejoin:round; stroke-width:4; stroke-opacity:1; fill:none\" points=\"\n",
       "  1843.64,1327.33 1843.64,1443.7 1912.37,1443.7 1912.37,1327.33 1843.64,1327.33 \n",
       "  \"/>\n",
       "<path clip-path=\"url(#clip883)\" d=\"\n",
       "M2101.36 1245.87 L2101.36 1443.7 L2170.08 1443.7 L2170.08 1245.87 L2101.36 1245.87 L2101.36 1245.87  Z\n",
       "  \" fill=\"#0000ff\" fill-rule=\"evenodd\" fill-opacity=\"1\"/>\n",
       "<polyline clip-path=\"url(#clip883)\" style=\"stroke:#000000; stroke-linecap:butt; stroke-linejoin:round; stroke-width:4; stroke-opacity:1; fill:none\" points=\"\n",
       "  2101.36,1245.87 2101.36,1443.7 2170.08,1443.7 2170.08,1245.87 2101.36,1245.87 \n",
       "  \"/>\n",
       "<path clip-path=\"url(#clip883)\" d=\"\n",
       "M2359.07 1094.59 L2359.07 1443.7 L2427.8 1443.7 L2427.8 1094.59 L2359.07 1094.59 L2359.07 1094.59  Z\n",
       "  \" fill=\"#0000ff\" fill-rule=\"evenodd\" fill-opacity=\"1\"/>\n",
       "<polyline clip-path=\"url(#clip883)\" style=\"stroke:#000000; stroke-linecap:butt; stroke-linejoin:round; stroke-width:4; stroke-opacity:1; fill:none\" points=\"\n",
       "  2359.07,1094.59 2359.07,1443.7 2427.8,1443.7 2427.8,1094.59 2359.07,1094.59 \n",
       "  \"/>\n",
       "<path clip-path=\"url(#clip883)\" d=\"\n",
       "M2616.79 1001.49 L2616.79 1443.7 L2685.51 1443.7 L2685.51 1001.49 L2616.79 1001.49 L2616.79 1001.49  Z\n",
       "  \" fill=\"#0000ff\" fill-rule=\"evenodd\" fill-opacity=\"1\"/>\n",
       "<polyline clip-path=\"url(#clip883)\" style=\"stroke:#000000; stroke-linecap:butt; stroke-linejoin:round; stroke-width:4; stroke-opacity:1; fill:none\" points=\"\n",
       "  2616.79,1001.49 2616.79,1443.7 2685.51,1443.7 2685.51,1001.49 2616.79,1001.49 \n",
       "  \"/>\n",
       "<path clip-path=\"url(#clip883)\" d=\"\n",
       "M2874.51 954.94 L2874.51 1443.7 L2943.23 1443.7 L2943.23 954.94 L2874.51 954.94 L2874.51 954.94  Z\n",
       "  \" fill=\"#0000ff\" fill-rule=\"evenodd\" fill-opacity=\"1\"/>\n",
       "<polyline clip-path=\"url(#clip883)\" style=\"stroke:#000000; stroke-linecap:butt; stroke-linejoin:round; stroke-width:4; stroke-opacity:1; fill:none\" points=\"\n",
       "  2874.51,954.94 2874.51,1443.7 2943.23,1443.7 2943.23,954.94 2874.51,954.94 \n",
       "  \"/>\n",
       "<circle clip-path=\"url(#clip883)\" style=\"fill:#009af9; stroke:none; fill-opacity:0\" cx=\"1878.01\" cy=\"1327.33\" r=\"2\"/>\n",
       "<circle clip-path=\"url(#clip883)\" style=\"fill:#009af9; stroke:none; fill-opacity:0\" cx=\"2135.72\" cy=\"1245.87\" r=\"2\"/>\n",
       "<circle clip-path=\"url(#clip883)\" style=\"fill:#009af9; stroke:none; fill-opacity:0\" cx=\"2393.44\" cy=\"1094.59\" r=\"2\"/>\n",
       "<circle clip-path=\"url(#clip883)\" style=\"fill:#009af9; stroke:none; fill-opacity:0\" cx=\"2651.15\" cy=\"1001.49\" r=\"2\"/>\n",
       "<circle clip-path=\"url(#clip883)\" style=\"fill:#009af9; stroke:none; fill-opacity:0\" cx=\"2908.87\" cy=\"954.94\" r=\"2\"/>\n",
       "<path clip-path=\"url(#clip883)\" d=\"\n",
       "M1912.37 1420.43 L1912.37 1443.7 L1981.09 1443.7 L1981.09 1420.43 L1912.37 1420.43 L1912.37 1420.43  Z\n",
       "  \" fill=\"#008000\" fill-rule=\"evenodd\" fill-opacity=\"1\"/>\n",
       "<polyline clip-path=\"url(#clip883)\" style=\"stroke:#000000; stroke-linecap:butt; stroke-linejoin:round; stroke-width:4; stroke-opacity:1; fill:none\" points=\"\n",
       "  1912.37,1420.43 1912.37,1443.7 1981.09,1443.7 1981.09,1420.43 1912.37,1420.43 \n",
       "  \"/>\n",
       "<path clip-path=\"url(#clip883)\" d=\"\n",
       "M2170.08 1327.33 L2170.08 1443.7 L2238.81 1443.7 L2238.81 1327.33 L2170.08 1327.33 L2170.08 1327.33  Z\n",
       "  \" fill=\"#008000\" fill-rule=\"evenodd\" fill-opacity=\"1\"/>\n",
       "<polyline clip-path=\"url(#clip883)\" style=\"stroke:#000000; stroke-linecap:butt; stroke-linejoin:round; stroke-width:4; stroke-opacity:1; fill:none\" points=\"\n",
       "  2170.08,1327.33 2170.08,1443.7 2238.81,1443.7 2238.81,1327.33 2170.08,1327.33 \n",
       "  \"/>\n",
       "<path clip-path=\"url(#clip883)\" d=\"\n",
       "M2427.8 1164.41 L2427.8 1443.7 L2496.52 1443.7 L2496.52 1164.41 L2427.8 1164.41 L2427.8 1164.41  Z\n",
       "  \" fill=\"#008000\" fill-rule=\"evenodd\" fill-opacity=\"1\"/>\n",
       "<polyline clip-path=\"url(#clip883)\" style=\"stroke:#000000; stroke-linecap:butt; stroke-linejoin:round; stroke-width:4; stroke-opacity:1; fill:none\" points=\"\n",
       "  2427.8,1164.41 2427.8,1443.7 2496.52,1443.7 2496.52,1164.41 2427.8,1164.41 \n",
       "  \"/>\n",
       "<path clip-path=\"url(#clip883)\" d=\"\n",
       "M2685.51 1001.49 L2685.51 1443.7 L2754.24 1443.7 L2754.24 1001.49 L2685.51 1001.49 L2685.51 1001.49  Z\n",
       "  \" fill=\"#008000\" fill-rule=\"evenodd\" fill-opacity=\"1\"/>\n",
       "<polyline clip-path=\"url(#clip883)\" style=\"stroke:#000000; stroke-linecap:butt; stroke-linejoin:round; stroke-width:4; stroke-opacity:1; fill:none\" points=\"\n",
       "  2685.51,1001.49 2685.51,1443.7 2754.24,1443.7 2754.24,1001.49 2685.51,1001.49 \n",
       "  \"/>\n",
       "<path clip-path=\"url(#clip883)\" d=\"\n",
       "M2943.23 629.101 L2943.23 1443.7 L3011.95 1443.7 L3011.95 629.101 L2943.23 629.101 L2943.23 629.101  Z\n",
       "  \" fill=\"#008000\" fill-rule=\"evenodd\" fill-opacity=\"1\"/>\n",
       "<polyline clip-path=\"url(#clip883)\" style=\"stroke:#000000; stroke-linecap:butt; stroke-linejoin:round; stroke-width:4; stroke-opacity:1; fill:none\" points=\"\n",
       "  2943.23,629.101 2943.23,1443.7 3011.95,1443.7 3011.95,629.101 2943.23,629.101 \n",
       "  \"/>\n",
       "<circle clip-path=\"url(#clip883)\" style=\"fill:#e26f46; stroke:none; fill-opacity:0\" cx=\"1946.73\" cy=\"1420.43\" r=\"2\"/>\n",
       "<circle clip-path=\"url(#clip883)\" style=\"fill:#e26f46; stroke:none; fill-opacity:0\" cx=\"2204.44\" cy=\"1327.33\" r=\"2\"/>\n",
       "<circle clip-path=\"url(#clip883)\" style=\"fill:#e26f46; stroke:none; fill-opacity:0\" cx=\"2462.16\" cy=\"1164.41\" r=\"2\"/>\n",
       "<circle clip-path=\"url(#clip883)\" style=\"fill:#e26f46; stroke:none; fill-opacity:0\" cx=\"2719.88\" cy=\"1001.49\" r=\"2\"/>\n",
       "<circle clip-path=\"url(#clip883)\" style=\"fill:#e26f46; stroke:none; fill-opacity:0\" cx=\"2977.59\" cy=\"629.101\" r=\"2\"/>\n",
       "<path clip-path=\"url(#clip883)\" d=\"\n",
       "M1981.09 512.729 L1981.09 1443.7 L2049.82 1443.7 L2049.82 512.729 L1981.09 512.729 L1981.09 512.729  Z\n",
       "  \" fill=\"#ff0000\" fill-rule=\"evenodd\" fill-opacity=\"1\"/>\n",
       "<polyline clip-path=\"url(#clip883)\" style=\"stroke:#000000; stroke-linecap:butt; stroke-linejoin:round; stroke-width:4; stroke-opacity:1; fill:none\" points=\"\n",
       "  1981.09,512.729 1981.09,1443.7 2049.82,1443.7 2049.82,512.729 1981.09,512.729 \n",
       "  \"/>\n",
       "<path clip-path=\"url(#clip883)\" d=\"\n",
       "M2238.81 675.649 L2238.81 1443.7 L2307.53 1443.7 L2307.53 675.649 L2238.81 675.649 L2238.81 675.649  Z\n",
       "  \" fill=\"#ff0000\" fill-rule=\"evenodd\" fill-opacity=\"1\"/>\n",
       "<polyline clip-path=\"url(#clip883)\" style=\"stroke:#000000; stroke-linecap:butt; stroke-linejoin:round; stroke-width:4; stroke-opacity:1; fill:none\" points=\"\n",
       "  2238.81,675.649 2238.81,1443.7 2307.53,1443.7 2307.53,675.649 2238.81,675.649 \n",
       "  \"/>\n",
       "<path clip-path=\"url(#clip883)\" d=\"\n",
       "M2496.52 954.94 L2496.52 1443.7 L2565.25 1443.7 L2565.25 954.94 L2496.52 954.94 L2496.52 954.94  Z\n",
       "  \" fill=\"#ff0000\" fill-rule=\"evenodd\" fill-opacity=\"1\"/>\n",
       "<polyline clip-path=\"url(#clip883)\" style=\"stroke:#000000; stroke-linecap:butt; stroke-linejoin:round; stroke-width:4; stroke-opacity:1; fill:none\" points=\"\n",
       "  2496.52,954.94 2496.52,1443.7 2565.25,1443.7 2565.25,954.94 2496.52,954.94 \n",
       "  \"/>\n",
       "<path clip-path=\"url(#clip883)\" d=\"\n",
       "M2754.24 1094.59 L2754.24 1443.7 L2822.96 1443.7 L2822.96 1094.59 L2754.24 1094.59 L2754.24 1094.59  Z\n",
       "  \" fill=\"#ff0000\" fill-rule=\"evenodd\" fill-opacity=\"1\"/>\n",
       "<polyline clip-path=\"url(#clip883)\" style=\"stroke:#000000; stroke-linecap:butt; stroke-linejoin:round; stroke-width:4; stroke-opacity:1; fill:none\" points=\"\n",
       "  2754.24,1094.59 2754.24,1443.7 2822.96,1443.7 2822.96,1094.59 2754.24,1094.59 \n",
       "  \"/>\n",
       "<path clip-path=\"url(#clip883)\" d=\"\n",
       "M3011.95 1373.88 L3011.95 1443.7 L3080.68 1443.7 L3080.68 1373.88 L3011.95 1373.88 L3011.95 1373.88  Z\n",
       "  \" fill=\"#ff0000\" fill-rule=\"evenodd\" fill-opacity=\"1\"/>\n",
       "<polyline clip-path=\"url(#clip883)\" style=\"stroke:#000000; stroke-linecap:butt; stroke-linejoin:round; stroke-width:4; stroke-opacity:1; fill:none\" points=\"\n",
       "  3011.95,1373.88 3011.95,1443.7 3080.68,1443.7 3080.68,1373.88 3011.95,1373.88 \n",
       "  \"/>\n",
       "<circle clip-path=\"url(#clip883)\" style=\"fill:#3da44d; stroke:none; fill-opacity:0\" cx=\"2015.45\" cy=\"512.729\" r=\"2\"/>\n",
       "<circle clip-path=\"url(#clip883)\" style=\"fill:#3da44d; stroke:none; fill-opacity:0\" cx=\"2273.17\" cy=\"675.649\" r=\"2\"/>\n",
       "<circle clip-path=\"url(#clip883)\" style=\"fill:#3da44d; stroke:none; fill-opacity:0\" cx=\"2530.88\" cy=\"954.94\" r=\"2\"/>\n",
       "<circle clip-path=\"url(#clip883)\" style=\"fill:#3da44d; stroke:none; fill-opacity:0\" cx=\"2788.6\" cy=\"1094.59\" r=\"2\"/>\n",
       "<circle clip-path=\"url(#clip883)\" style=\"fill:#3da44d; stroke:none; fill-opacity:0\" cx=\"3046.32\" cy=\"1373.88\" r=\"2\"/>\n",
       "<path clip-path=\"url(#clip880)\" d=\"\n",
       "M1817.6 301.153 L2002.74 301.153 L2002.74 93.7926 L1817.6 93.7926  Z\n",
       "  \" fill=\"#ffffff\" fill-rule=\"evenodd\" fill-opacity=\"1\"/>\n",
       "<polyline clip-path=\"url(#clip880)\" style=\"stroke:#000000; stroke-linecap:butt; stroke-linejoin:round; stroke-width:4; stroke-opacity:1; fill:none\" points=\"\n",
       "  1817.6,301.153 2002.74,301.153 2002.74,93.7926 1817.6,93.7926 1817.6,301.153 \n",
       "  \"/>\n",
       "<path clip-path=\"url(#clip880)\" d=\"\n",
       "M1832.95 166.369 L1925.03 166.369 L1925.03 124.897 L1832.95 124.897 L1832.95 166.369  Z\n",
       "  \" fill=\"#0000ff\" fill-rule=\"evenodd\" fill-opacity=\"1\"/>\n",
       "<polyline clip-path=\"url(#clip880)\" style=\"stroke:#000000; stroke-linecap:butt; stroke-linejoin:round; stroke-width:4; stroke-opacity:1; fill:none\" points=\"\n",
       "  1832.95,166.369 1925.03,166.369 1925.03,124.897 1832.95,124.897 1832.95,166.369 \n",
       "  \"/>\n",
       "<path clip-path=\"url(#clip880)\" d=\"M1956.21 132.959 L1949.87 150.158 L1962.58 150.158 L1956.21 132.959 M1953.57 128.353 L1958.87 128.353 L1972.04 162.913 L1967.18 162.913 L1964.03 154.047 L1948.46 154.047 L1945.31 162.913 L1940.38 162.913 L1953.57 128.353 Z\" fill=\"#000000\" fill-rule=\"evenodd\" fill-opacity=\"1\" /><path clip-path=\"url(#clip880)\" d=\"\n",
       "M1832.95 218.209 L1925.03 218.209 L1925.03 176.737 L1832.95 176.737 L1832.95 218.209  Z\n",
       "  \" fill=\"#008000\" fill-rule=\"evenodd\" fill-opacity=\"1\"/>\n",
       "<polyline clip-path=\"url(#clip880)\" style=\"stroke:#000000; stroke-linecap:butt; stroke-linejoin:round; stroke-width:4; stroke-opacity:1; fill:none\" points=\"\n",
       "  1832.95,218.209 1925.03,218.209 1925.03,176.737 1832.95,176.737 1832.95,218.209 \n",
       "  \"/>\n",
       "<path clip-path=\"url(#clip880)\" d=\"M1968.25 182.855 L1968.25 187.785 Q1965.89 185.586 1963.2 184.498 Q1960.54 183.41 1957.53 183.41 Q1951.6 183.41 1948.46 187.044 Q1945.31 190.656 1945.31 197.507 Q1945.31 204.336 1948.46 207.97 Q1951.6 211.581 1957.53 211.581 Q1960.54 211.581 1963.2 210.493 Q1965.89 209.405 1968.25 207.206 L1968.25 212.091 Q1965.79 213.757 1963.04 214.591 Q1960.31 215.424 1957.25 215.424 Q1949.41 215.424 1944.89 210.632 Q1940.38 205.817 1940.38 197.507 Q1940.38 189.174 1944.89 184.382 Q1949.41 179.568 1957.25 179.568 Q1960.35 179.568 1963.09 180.401 Q1965.84 181.211 1968.25 182.855 Z\" fill=\"#000000\" fill-rule=\"evenodd\" fill-opacity=\"1\" /><path clip-path=\"url(#clip880)\" d=\"\n",
       "M1832.95 270.049 L1925.03 270.049 L1925.03 228.577 L1832.95 228.577 L1832.95 270.049  Z\n",
       "  \" fill=\"#ff0000\" fill-rule=\"evenodd\" fill-opacity=\"1\"/>\n",
       "<polyline clip-path=\"url(#clip880)\" style=\"stroke:#000000; stroke-linecap:butt; stroke-linejoin:round; stroke-width:4; stroke-opacity:1; fill:none\" points=\"\n",
       "  1832.95,270.049 1925.03,270.049 1925.03,228.577 1832.95,228.577 1832.95,270.049 \n",
       "  \"/>\n",
       "<path clip-path=\"url(#clip880)\" d=\"M1945.05 250.088 L1945.05 262.75 L1952.55 262.75 Q1956.33 262.75 1958.13 261.199 Q1959.96 259.625 1959.96 256.407 Q1959.96 253.167 1958.13 251.639 Q1956.33 250.088 1952.55 250.088 L1945.05 250.088 M1945.05 235.875 L1945.05 246.292 L1951.97 246.292 Q1955.4 246.292 1957.07 245.019 Q1958.76 243.722 1958.76 241.083 Q1958.76 238.468 1957.07 237.171 Q1955.4 235.875 1951.97 235.875 L1945.05 235.875 M1940.38 232.033 L1952.32 232.033 Q1957.67 232.033 1960.56 234.255 Q1963.46 236.477 1963.46 240.574 Q1963.46 243.746 1961.97 245.621 Q1960.49 247.495 1957.62 247.958 Q1961.07 248.699 1962.97 251.06 Q1964.89 253.398 1964.89 256.917 Q1964.89 261.546 1961.74 264.069 Q1958.59 266.593 1952.78 266.593 L1940.38 266.593 L1940.38 232.033 Z\" fill=\"#000000\" fill-rule=\"evenodd\" fill-opacity=\"1\" /></svg>\n"
      ]
     },
     "execution_count": 127,
     "metadata": {},
     "output_type": "execute_result"
    }
   ],
   "source": [
    "using CSV, CategoricalArrays, StatsPlots#; pyplot()\n",
    "\n",
    "df = CSV.read(\"../data/companyData.csv\",DataFrame)\n",
    "years = levels(df.Year)\n",
    "data  = reshape(df.MarketCap, 5, 3)\n",
    "\n",
    "p1 = groupedbar(years, data, bar_position=:stack)\n",
    "p2 = groupedbar(years, data, bar_position=:dodge)\n",
    "plot(p1, p2, bar_width=0.7, fill=[:blue :red :green], label=[\"A\" \"B\" \"C\"], \n",
    "\tylims=(0,6), xlabel=\"Year\", ylabel=\"Market Cap (MM)\", \n",
    "\tlegend=:topleft, size=(800,400))"
   ]
  },
  {
   "cell_type": "code",
   "execution_count": 129,
   "metadata": {},
   "outputs": [
    {
     "data": {
      "text/plain": [
       "5-element Vector{Int64}:\n",
       " 2012\n",
       " 2013\n",
       " 2014\n",
       " 2015\n",
       " 2016"
      ]
     },
     "execution_count": 129,
     "metadata": {},
     "output_type": "execute_result"
    }
   ],
   "source": [
    "levels(df.Year)"
   ]
  },
  {
   "cell_type": "code",
   "execution_count": 130,
   "metadata": {},
   "outputs": [
    {
     "data": {
      "text/plain": [
       "5×3 Matrix{Float64}:\n",
       " 0.5   0.1  4.0\n",
       " 0.85  0.5  3.3\n",
       " 1.5   1.2  2.1\n",
       " 1.9   1.9  1.5\n",
       " 2.1   3.5  0.3"
      ]
     },
     "execution_count": 130,
     "metadata": {},
     "output_type": "execute_result"
    }
   ],
   "source": [
    "data  = reshape(df.MarketCap, 5, 3)\n"
   ]
  },
  {
   "cell_type": "code",
   "execution_count": 131,
   "metadata": {},
   "outputs": [
    {
     "data": {
      "text/plain": [
       "3-element Dictionaries.Dictionary{String1, Int64}\n",
       " \"A\" │ 5\n",
       " \"B\" │ 5\n",
       " \"C\" │ 5"
      ]
     },
     "execution_count": 131,
     "metadata": {},
     "output_type": "execute_result"
    }
   ],
   "source": [
    "grp_counts = groupcount(df.Type)"
   ]
  },
  {
   "cell_type": "code",
   "execution_count": 134,
   "metadata": {},
   "outputs": [
    {
     "data": {
      "text/html": [
       "<div class=\"data-frame\"><p>34,857 rows × 21 columns (omitted printing of 14 columns)</p><table class=\"data-frame\"><thead><tr><th></th><th>Suburb</th><th>Address</th><th>Rooms</th><th>Type</th><th>Price</th><th>Method</th><th>SellerG</th></tr><tr><th></th><th title=\"String31\">String31</th><th title=\"String31\">String31</th><th title=\"Int64\">Int64</th><th title=\"String1\">String1</th><th title=\"String15\">String15</th><th title=\"String3\">String3</th><th title=\"String31\">String31</th></tr></thead><tbody><tr><th>1</th><td>Abbotsford</td><td>68 Studley St</td><td>2</td><td>h</td><td></td><td>SS</td><td>Jellis</td></tr><tr><th>2</th><td>Abbotsford</td><td>85 Turner St</td><td>2</td><td>h</td><td>1480000</td><td>S</td><td>Biggin</td></tr><tr><th>3</th><td>Abbotsford</td><td>25 Bloomburg St</td><td>2</td><td>h</td><td>1035000</td><td>S</td><td>Biggin</td></tr><tr><th>4</th><td>Abbotsford</td><td>18/659 Victoria St</td><td>3</td><td>u</td><td></td><td>VB</td><td>Rounds</td></tr><tr><th>5</th><td>Abbotsford</td><td>5 Charles St</td><td>3</td><td>h</td><td>1465000</td><td>SP</td><td>Biggin</td></tr><tr><th>6</th><td>Abbotsford</td><td>40 Federation La</td><td>3</td><td>h</td><td>850000</td><td>PI</td><td>Biggin</td></tr><tr><th>7</th><td>Abbotsford</td><td>55a Park St</td><td>4</td><td>h</td><td>1600000</td><td>VB</td><td>Nelson</td></tr><tr><th>8</th><td>Abbotsford</td><td>16 Maugie St</td><td>4</td><td>h</td><td></td><td>SN</td><td>Nelson</td></tr><tr><th>9</th><td>Abbotsford</td><td>53 Turner St</td><td>2</td><td>h</td><td></td><td>S</td><td>Biggin</td></tr><tr><th>10</th><td>Abbotsford</td><td>99 Turner St</td><td>2</td><td>h</td><td></td><td>S</td><td>Collins</td></tr><tr><th>11</th><td>Abbotsford</td><td>129 Charles St</td><td>2</td><td>h</td><td>941000</td><td>S</td><td>Jellis</td></tr><tr><th>12</th><td>Abbotsford</td><td>124 Yarra St</td><td>3</td><td>h</td><td>1876000</td><td>S</td><td>Nelson</td></tr><tr><th>13</th><td>Abbotsford</td><td>121/56 Nicholson St</td><td>2</td><td>u</td><td></td><td>PI</td><td>Biggin</td></tr><tr><th>14</th><td>Abbotsford</td><td>17 Raphael St</td><td>4</td><td>h</td><td></td><td>W</td><td>Biggin</td></tr><tr><th>15</th><td>Abbotsford</td><td>98 Charles St</td><td>2</td><td>h</td><td>1636000</td><td>S</td><td>Nelson</td></tr><tr><th>16</th><td>Abbotsford</td><td>217 Langridge St</td><td>3</td><td>h</td><td>1000000</td><td>S</td><td>Jellis</td></tr><tr><th>17</th><td>Abbotsford</td><td>18a Mollison St</td><td>2</td><td>t</td><td>745000</td><td>S</td><td>Jellis</td></tr><tr><th>18</th><td>Abbotsford</td><td>6/241 Nicholson St</td><td>1</td><td>u</td><td>300000</td><td>S</td><td>Biggin</td></tr><tr><th>19</th><td>Abbotsford</td><td>10 Valiant St</td><td>2</td><td>h</td><td>1097000</td><td>S</td><td>Biggin</td></tr><tr><th>20</th><td>Abbotsford</td><td>403/609 Victoria St</td><td>2</td><td>u</td><td>542000</td><td>S</td><td>Dingle</td></tr><tr><th>21</th><td>Abbotsford</td><td>2 Rich St</td><td>2</td><td>h</td><td></td><td>SP</td><td>Biggin</td></tr><tr><th>22</th><td>Abbotsford</td><td>25/84 Trenerry Cr</td><td>2</td><td>u</td><td>760000</td><td>SP</td><td>Biggin</td></tr><tr><th>23</th><td>Abbotsford</td><td>106/119 Turner St</td><td>1</td><td>u</td><td>481000</td><td>SP</td><td>Purplebricks</td></tr><tr><th>24</th><td>Abbotsford</td><td>411/8 Grosvenor St</td><td>2</td><td>u</td><td>700000</td><td>VB</td><td>Jellis</td></tr><tr><th>25</th><td>Abbotsford</td><td>40 Nicholson St</td><td>3</td><td>h</td><td>1350000</td><td>VB</td><td>Nelson</td></tr><tr><th>26</th><td>Abbotsford</td><td>123/56 Nicholson St</td><td>2</td><td>u</td><td>750000</td><td>S</td><td>Biggin</td></tr><tr><th>27</th><td>Abbotsford</td><td>22 Park St</td><td>4</td><td>h</td><td>1985000</td><td>S</td><td>Biggin</td></tr><tr><th>28</th><td>Abbotsford</td><td>13/84 Trenerry Cr</td><td>1</td><td>u</td><td>500000</td><td>S</td><td>Biggin</td></tr><tr><th>29</th><td>Abbotsford</td><td>45 William St</td><td>2</td><td>h</td><td>1172500</td><td>S</td><td>Biggin</td></tr><tr><th>30</th><td>Abbotsford</td><td>7/20 Abbotsford St</td><td>1</td><td>u</td><td>441000</td><td>SP</td><td>Greg</td></tr><tr><th>&vellip;</th><td>&vellip;</td><td>&vellip;</td><td>&vellip;</td><td>&vellip;</td><td>&vellip;</td><td>&vellip;</td><td>&vellip;</td></tr></tbody></table></div>"
      ],
      "text/latex": [
       "\\begin{tabular}{r|cccccccc}\n",
       "\t& Suburb & Address & Rooms & Type & Price & Method & SellerG & \\\\\n",
       "\t\\hline\n",
       "\t& String31 & String31 & Int64 & String1 & String15 & String3 & String31 & \\\\\n",
       "\t\\hline\n",
       "\t1 & Abbotsford & 68 Studley St & 2 & h &  & SS & Jellis & $\\dots$ \\\\\n",
       "\t2 & Abbotsford & 85 Turner St & 2 & h & 1480000 & S & Biggin & $\\dots$ \\\\\n",
       "\t3 & Abbotsford & 25 Bloomburg St & 2 & h & 1035000 & S & Biggin & $\\dots$ \\\\\n",
       "\t4 & Abbotsford & 18/659 Victoria St & 3 & u &  & VB & Rounds & $\\dots$ \\\\\n",
       "\t5 & Abbotsford & 5 Charles St & 3 & h & 1465000 & SP & Biggin & $\\dots$ \\\\\n",
       "\t6 & Abbotsford & 40 Federation La & 3 & h & 850000 & PI & Biggin & $\\dots$ \\\\\n",
       "\t7 & Abbotsford & 55a Park St & 4 & h & 1600000 & VB & Nelson & $\\dots$ \\\\\n",
       "\t8 & Abbotsford & 16 Maugie St & 4 & h &  & SN & Nelson & $\\dots$ \\\\\n",
       "\t9 & Abbotsford & 53 Turner St & 2 & h &  & S & Biggin & $\\dots$ \\\\\n",
       "\t10 & Abbotsford & 99 Turner St & 2 & h &  & S & Collins & $\\dots$ \\\\\n",
       "\t11 & Abbotsford & 129 Charles St & 2 & h & 941000 & S & Jellis & $\\dots$ \\\\\n",
       "\t12 & Abbotsford & 124 Yarra St & 3 & h & 1876000 & S & Nelson & $\\dots$ \\\\\n",
       "\t13 & Abbotsford & 121/56 Nicholson St & 2 & u &  & PI & Biggin & $\\dots$ \\\\\n",
       "\t14 & Abbotsford & 17 Raphael St & 4 & h &  & W & Biggin & $\\dots$ \\\\\n",
       "\t15 & Abbotsford & 98 Charles St & 2 & h & 1636000 & S & Nelson & $\\dots$ \\\\\n",
       "\t16 & Abbotsford & 217 Langridge St & 3 & h & 1000000 & S & Jellis & $\\dots$ \\\\\n",
       "\t17 & Abbotsford & 18a Mollison St & 2 & t & 745000 & S & Jellis & $\\dots$ \\\\\n",
       "\t18 & Abbotsford & 6/241 Nicholson St & 1 & u & 300000 & S & Biggin & $\\dots$ \\\\\n",
       "\t19 & Abbotsford & 10 Valiant St & 2 & h & 1097000 & S & Biggin & $\\dots$ \\\\\n",
       "\t20 & Abbotsford & 403/609 Victoria St & 2 & u & 542000 & S & Dingle & $\\dots$ \\\\\n",
       "\t21 & Abbotsford & 2 Rich St & 2 & h &  & SP & Biggin & $\\dots$ \\\\\n",
       "\t22 & Abbotsford & 25/84 Trenerry Cr & 2 & u & 760000 & SP & Biggin & $\\dots$ \\\\\n",
       "\t23 & Abbotsford & 106/119 Turner St & 1 & u & 481000 & SP & Purplebricks & $\\dots$ \\\\\n",
       "\t24 & Abbotsford & 411/8 Grosvenor St & 2 & u & 700000 & VB & Jellis & $\\dots$ \\\\\n",
       "\t25 & Abbotsford & 40 Nicholson St & 3 & h & 1350000 & VB & Nelson & $\\dots$ \\\\\n",
       "\t26 & Abbotsford & 123/56 Nicholson St & 2 & u & 750000 & S & Biggin & $\\dots$ \\\\\n",
       "\t27 & Abbotsford & 22 Park St & 4 & h & 1985000 & S & Biggin & $\\dots$ \\\\\n",
       "\t28 & Abbotsford & 13/84 Trenerry Cr & 1 & u & 500000 & S & Biggin & $\\dots$ \\\\\n",
       "\t29 & Abbotsford & 45 William St & 2 & h & 1172500 & S & Biggin & $\\dots$ \\\\\n",
       "\t30 & Abbotsford & 7/20 Abbotsford St & 1 & u & 441000 & SP & Greg & $\\dots$ \\\\\n",
       "\t$\\dots$ & $\\dots$ & $\\dots$ & $\\dots$ & $\\dots$ & $\\dots$ & $\\dots$ & $\\dots$ &  \\\\\n",
       "\\end{tabular}\n"
      ],
      "text/plain": [
       "\u001b[1m34857×21 DataFrame\u001b[0m\n",
       "\u001b[1m   Row \u001b[0m│\u001b[1m Suburb             \u001b[0m\u001b[1m Address             \u001b[0m\u001b[1m Rooms \u001b[0m\u001b[1m Type    \u001b[0m\u001b[1m Price    \u001b[0m\u001b[1m Me\u001b[0m ⋯\n",
       "\u001b[1m       \u001b[0m│\u001b[90m String31           \u001b[0m\u001b[90m String31            \u001b[0m\u001b[90m Int64 \u001b[0m\u001b[90m String1 \u001b[0m\u001b[90m String15 \u001b[0m\u001b[90m St\u001b[0m ⋯\n",
       "───────┼────────────────────────────────────────────────────────────────────────\n",
       "     1 │ Abbotsford          68 Studley St            2  h                  SS ⋯\n",
       "     2 │ Abbotsford          85 Turner St             2  h        1480000   S\n",
       "     3 │ Abbotsford          25 Bloomburg St          2  h        1035000   S\n",
       "     4 │ Abbotsford          18/659 Victoria St       3  u                  VB\n",
       "     5 │ Abbotsford          5 Charles St             3  h        1465000   SP ⋯\n",
       "     6 │ Abbotsford          40 Federation La         3  h        850000    PI\n",
       "     7 │ Abbotsford          55a Park St              4  h        1600000   VB\n",
       "     8 │ Abbotsford          16 Maugie St             4  h                  SN\n",
       "     9 │ Abbotsford          53 Turner St             2  h                  S  ⋯\n",
       "    10 │ Abbotsford          99 Turner St             2  h                  S\n",
       "    11 │ Abbotsford          129 Charles St           2  h        941000    S\n",
       "   ⋮   │         ⋮                    ⋮             ⋮       ⋮        ⋮         ⋱\n",
       " 34848 │ Wollert             27 Birchmore Rd          3  h        500000    PI\n",
       " 34849 │ Wollert             16 Gunther Wy            4  h        621000    S  ⋯\n",
       " 34850 │ Wollert             35 Kingscote Wy          3  h        570000    SP\n",
       " 34851 │ Wollert             15 Rockgarden Wy         3  h                  SP\n",
       " 34852 │ Yarraville          78 Bayview Rd            3  h        1101000   S\n",
       " 34853 │ Yarraville          13 Burns St              4  h        1480000   PI ⋯\n",
       " 34854 │ Yarraville          29A Murray St            2  h        888000    SP\n",
       " 34855 │ Yarraville          147A Severn St           2  t        705000    S\n",
       " 34856 │ Yarraville          12/37 Stephen St         3  h        1140000   SP\n",
       " 34857 │ Yarraville          3 Tarrengower St         2  h        1020000   PI ⋯\n",
       "\u001b[36m                                               16 columns and 34836 rows omitted\u001b[0m"
      ]
     },
     "execution_count": 134,
     "metadata": {},
     "output_type": "execute_result"
    }
   ],
   "source": [
    "df = CSV.read(\"../data/Melbourne_housing_FULL.csv\", DataFrame,missingstring = [\"N/A\", \"#N/A\"])"
   ]
  },
  {
   "cell_type": "code",
   "execution_count": 135,
   "metadata": {},
   "outputs": [
    {
     "data": {
      "text/plain": [
       "3-element Dictionaries.Dictionary{String1, Int64}\n",
       " \"h\" │ 23980\n",
       " \"u\" │ 7297\n",
       " \"t\" │ 3580"
      ]
     },
     "execution_count": 135,
     "metadata": {},
     "output_type": "execute_result"
    }
   ],
   "source": [
    "grp_counts = groupcount(df.Type)"
   ]
  },
  {
   "cell_type": "code",
   "execution_count": 136,
   "metadata": {},
   "outputs": [
    {
     "data": {
      "text/plain": [
       "3-element Dictionaries.Indices{String1}\n",
       " \"h\"\n",
       " \"u\"\n",
       " \"t\""
      ]
     },
     "execution_count": 136,
     "metadata": {},
     "output_type": "execute_result"
    }
   ],
   "source": [
    "house_types = keys(grp_counts)"
   ]
  },
  {
   "cell_type": "code",
   "execution_count": 138,
   "metadata": {},
   "outputs": [
    {
     "data": {
      "text/plain": [
       "3580"
      ]
     },
     "execution_count": 138,
     "metadata": {},
     "output_type": "execute_result"
    }
   ],
   "source": [
    "grp_counts[\"t\"]"
   ]
  },
  {
   "cell_type": "code",
   "execution_count": 140,
   "metadata": {},
   "outputs": [
    {
     "data": {
      "text/plain": [
       "3-element Vector{Int64}:\n",
       " 23980\n",
       "  7297\n",
       "  3580"
      ]
     },
     "execution_count": 140,
     "metadata": {},
     "output_type": "execute_result"
    }
   ],
   "source": [
    "freqs = [grp_counts[k] for k in house_types]"
   ]
  },
  {
   "cell_type": "code",
   "execution_count": 142,
   "metadata": {},
   "outputs": [
    {
     "name": "stdout",
     "output_type": "stream",
     "text": [
      "search: \u001b[0m\u001b[1mb\u001b[22m\u001b[0m\u001b[1ma\u001b[22m\u001b[0m\u001b[1mr\u001b[22m \u001b[0m\u001b[1mb\u001b[22m\u001b[0m\u001b[1ma\u001b[22m\u001b[0m\u001b[1mr\u001b[22mh \u001b[0m\u001b[1mb\u001b[22m\u001b[0m\u001b[1ma\u001b[22m\u001b[0m\u001b[1mr\u001b[22m! \u001b[0m\u001b[1mb\u001b[22m\u001b[0m\u001b[1ma\u001b[22m\u001b[0m\u001b[1mr\u001b[22mh! \u001b[0m\u001b[1mb\u001b[22m\u001b[0m\u001b[1ma\u001b[22m\u001b[0m\u001b[1mr\u001b[22mhist \u001b[0m\u001b[1mb\u001b[22m\u001b[0m\u001b[1ma\u001b[22m\u001b[0m\u001b[1mr\u001b[22mhist! \u001b[0m\u001b[1mb\u001b[22m\u001b[0m\u001b[1ma\u001b[22m\u001b[0m\u001b[1mr\u001b[22memodule Su\u001b[0m\u001b[1mb\u001b[22m\u001b[0m\u001b[1mA\u001b[22m\u001b[0m\u001b[1mr\u001b[22mray Glo\u001b[0m\u001b[1mb\u001b[22m\u001b[0m\u001b[1ma\u001b[22ml\u001b[0m\u001b[1mR\u001b[22mef\n",
      "\n"
     ]
    },
    {
     "data": {
      "text/latex": [
       "\\begin{verbatim}\n",
       "bar(x,y)\n",
       "bar!(x,y)\n",
       "\\end{verbatim}\n",
       "Make a bar plot of y vs x.\n",
       "\n",
       "\\section{Arguments}\n",
       "\\begin{itemize}\n",
       "\\item \\texttt{bar\\_position}: Symbol.  Choose from \\texttt{:overlay} (default),                  \\texttt{:stack}.  (warning: May not be implemented fully)\n",
       "\n",
       "\n",
       "\\item \\texttt{bar\\_width}: nothing or Number. Width of bars in data               coordinates. When nothing, chooses based on x (or y when               \\texttt{orientation = :h}).\n",
       "\n",
       "\n",
       "\\item \\texttt{bar\\_edges}: Bool.  Align bars to edges (true), or centers               (the default)?\n",
       "\n",
       "\n",
       "\\item \\texttt{orientation}: Symbol.  Horizontal or vertical orientation                 for bar types.  Values \\texttt{:h}, \\texttt{:hor},                 \\texttt{:horizontal} correspond to horizontal (sideways,                 anchored to y-axis), and \\texttt{:v}, \\texttt{:vert}, and                 \\texttt{:vertical} correspond to vertical (the default).\n",
       "\n",
       "\\end{itemize}\n",
       "\\section{Examples}\n",
       "\\begin{verbatim}\n",
       "julia> bar([1,2,3],[4,5,6],fillcolor=[:red,:green,:blue],fillalpha=[0.2,0.4,0.6])\n",
       "julia> bar([(1,4),(2,5),(3,6)])\n",
       "\\end{verbatim}\n"
      ],
      "text/markdown": [
       "```\n",
       "bar(x,y)\n",
       "bar!(x,y)\n",
       "```\n",
       "\n",
       "Make a bar plot of y vs x.\n",
       "\n",
       "# Arguments\n",
       "\n",
       "  * `bar_position`: Symbol.  Choose from `:overlay` (default),                  `:stack`.  (warning: May not be implemented fully)\n",
       "  * `bar_width`: nothing or Number. Width of bars in data               coordinates. When nothing, chooses based on x (or y when               `orientation = :h`).\n",
       "  * `bar_edges`: Bool.  Align bars to edges (true), or centers               (the default)?\n",
       "  * `orientation`: Symbol.  Horizontal or vertical orientation                 for bar types.  Values `:h`, `:hor`,                 `:horizontal` correspond to horizontal (sideways,                 anchored to y-axis), and `:v`, `:vert`, and                 `:vertical` correspond to vertical (the default).\n",
       "\n",
       "# Examples\n",
       "\n",
       "```julia-repl\n",
       "julia> bar([1,2,3],[4,5,6],fillcolor=[:red,:green,:blue],fillalpha=[0.2,0.4,0.6])\n",
       "julia> bar([(1,4),(2,5),(3,6)])\n",
       "```\n"
      ],
      "text/plain": [
       "\u001b[36m  bar(x,y)\u001b[39m\n",
       "\u001b[36m  bar!(x,y)\u001b[39m\n",
       "\n",
       "  Make a bar plot of y vs x.\n",
       "\n",
       "\u001b[1m  Arguments\u001b[22m\n",
       "\u001b[1m  ≡≡≡≡≡≡≡≡≡≡≡\u001b[22m\n",
       "\n",
       "    •  \u001b[36mbar_position\u001b[39m: Symbol. Choose from \u001b[36m:overlay\u001b[39m (default), \u001b[36m:stack\u001b[39m.\n",
       "       (warning: May not be implemented fully)\n",
       "\n",
       "    •  \u001b[36mbar_width\u001b[39m: nothing or Number. Width of bars in data coordinates. When\n",
       "       nothing, chooses based on x (or y when \u001b[36morientation = :h\u001b[39m).\n",
       "\n",
       "    •  \u001b[36mbar_edges\u001b[39m: Bool. Align bars to edges (true), or centers (the default)?\n",
       "\n",
       "    •  \u001b[36morientation\u001b[39m: Symbol. Horizontal or vertical orientation for bar types.\n",
       "       Values \u001b[36m:h\u001b[39m, \u001b[36m:hor\u001b[39m, \u001b[36m:horizontal\u001b[39m correspond to horizontal (sideways,\n",
       "       anchored to y-axis), and \u001b[36m:v\u001b[39m, \u001b[36m:vert\u001b[39m, and \u001b[36m:vertical\u001b[39m correspond to\n",
       "       vertical (the default).\n",
       "\n",
       "\u001b[1m  Examples\u001b[22m\n",
       "\u001b[1m  ≡≡≡≡≡≡≡≡≡≡\u001b[22m\n",
       "\n",
       "\u001b[36m  julia> bar([1,2,3],[4,5,6],fillcolor=[:red,:green,:blue],fillalpha=[0.2,0.4,0.6])\u001b[39m\n",
       "\u001b[36m  julia> bar([(1,4),(2,5),(3,6)])\u001b[39m"
      ]
     },
     "execution_count": 142,
     "metadata": {},
     "output_type": "execute_result"
    }
   ],
   "source": [
    "?bar"
   ]
  },
  {
   "cell_type": "code",
   "execution_count": 147,
   "metadata": {},
   "outputs": [
    {
     "data": {
      "text/plain": [
       "1×3 Matrix{String1}:\n",
       " \"h\"  \"u\"  \"t\""
      ]
     },
     "execution_count": 147,
     "metadata": {},
     "output_type": "execute_result"
    }
   ],
   "source": [
    "hcat(house_types...)"
   ]
  },
  {
   "cell_type": "code",
   "execution_count": 149,
   "metadata": {},
   "outputs": [
    {
     "ename": "ErrorException",
     "evalue": "Unknown ticks type in get_ticks: String1",
     "output_type": "error",
     "traceback": [
      "Unknown ticks type in get_ticks: String1",
      "",
      "Stacktrace:",
      "  [1] error(s::String)",
      "    @ Base ./error.jl:33",
      "  [2] get_ticks(::String1, ::Vector{Float64}, ::Vector{Any}, ::Tuple{Float64, Float64}, ::Vararg{Any, N} where N)",
      "    @ Plots ~/.julia/packages/Plots/5kcBO/src/axes.jl:336",
      "  [3] get_ticks(sp::Plots.Subplot{Plots.GRBackend}, axis::Plots.Axis; update::Bool)",
      "    @ Plots ~/.julia/packages/Plots/5kcBO/src/axes.jl:241",
      "  [4] get_ticks",
      "    @ ~/.julia/packages/Plots/5kcBO/src/axes.jl:224 [inlined]",
      "  [5] _update_min_padding!(sp::Plots.Subplot{Plots.GRBackend})",
      "    @ Plots ~/.julia/packages/Plots/5kcBO/src/backends/gr.jl:887",
      "  [6] iterate",
      "    @ ./generator.jl:47 [inlined]",
      "  [7] _collect(c::Matrix{AbstractLayout}, itr::Base.Generator{Matrix{AbstractLayout}, typeof(Plots._update_min_padding!)}, #unused#::Base.EltypeUnknown, isz::Base.HasShape{2})",
      "    @ Base ./array.jl:691",
      "  [8] collect_similar",
      "    @ ./array.jl:606 [inlined]",
      "  [9] map",
      "    @ ./abstractarray.jl:2294 [inlined]",
      " [10] _update_min_padding!(layout::Plots.GridLayout)",
      "    @ Plots ~/.julia/packages/Plots/5kcBO/src/layouts.jl:287",
      " [11] prepare_output(plt::Plots.Plot{Plots.GRBackend})",
      "    @ Plots ~/.julia/packages/Plots/5kcBO/src/plot.jl:224",
      " [12] show(io::IOBuffer, m::MIME{Symbol(\"image/svg+xml\")}, plt::Plots.Plot{Plots.GRBackend})",
      "    @ Plots ~/.julia/packages/Plots/5kcBO/src/output.jl:212",
      " [13] sprint(::Function, ::MIME{Symbol(\"image/svg+xml\")}, ::Vararg{Any, N} where N; context::Nothing, sizehint::Int64)",
      "    @ Base ./strings/io.jl:105",
      " [14] sprint",
      "    @ ./strings/io.jl:101 [inlined]",
      " [15] _ijulia_display_dict(plt::Plots.Plot{Plots.GRBackend})",
      "    @ Plots ~/.julia/packages/Plots/5kcBO/src/ijulia.jl:47",
      " [16] display_dict(plt::Plots.Plot{Plots.GRBackend})",
      "    @ Plots ~/.julia/packages/Plots/5kcBO/src/init.jl:93",
      " [17] #invokelatest#2",
      "    @ ./essentials.jl:708 [inlined]",
      " [18] invokelatest",
      "    @ ./essentials.jl:706 [inlined]",
      " [19] execute_request(socket::ZMQ.Socket, msg::IJulia.Msg)",
      "    @ IJulia ~/.julia/packages/IJulia/e8kqU/src/execute_request.jl:112",
      " [20] #invokelatest#2",
      "    @ ./essentials.jl:708 [inlined]",
      " [21] invokelatest",
      "    @ ./essentials.jl:706 [inlined]",
      " [22] eventloop(socket::ZMQ.Socket)",
      "    @ IJulia ~/.julia/packages/IJulia/e8kqU/src/eventloop.jl:8",
      " [23] (::IJulia.var\"#15#18\")()",
      "    @ IJulia ./task.jl:406"
     ]
    }
   ],
   "source": [
    "bar([1,2,3], freqs, ticks=hcat(house_types...))"
   ]
  },
  {
   "cell_type": "markdown",
   "metadata": {},
   "source": [
    "https://github.com/h-Klok/StatsWithJuliaBook/blob/master/4_chapter/barPlots.jl"
   ]
  },
  {
   "cell_type": "code",
   "execution_count": 155,
   "metadata": {},
   "outputs": [
    {
     "data": {
      "text/plain": [
       "27247-element Vector{Float64}:\n",
       "      1.48e6\n",
       "      1.035e6\n",
       "      1.465e6\n",
       " 850000.0\n",
       "      1.6e6\n",
       " 941000.0\n",
       "      1.876e6\n",
       "      1.636e6\n",
       "      1.0e6\n",
       " 745000.0\n",
       " 300000.0\n",
       "      1.097e6\n",
       " 542000.0\n",
       "      ⋮\n",
       " 830000.0\n",
       " 440000.0\n",
       " 630000.0\n",
       " 500000.0\n",
       " 621000.0\n",
       " 570000.0\n",
       "      1.101e6\n",
       "      1.48e6\n",
       " 888000.0\n",
       " 705000.0\n",
       "      1.14e6\n",
       "      1.02e6"
      ]
     },
     "execution_count": 155,
     "metadata": {},
     "output_type": "execute_result"
    }
   ],
   "source": [
    "prices = parse.(Float64, filter((x)->length(x)>0, skipmissing(df.Price)))"
   ]
  },
  {
   "cell_type": "code",
   "execution_count": 160,
   "metadata": {},
   "outputs": [
    {
     "data": {
      "image/svg+xml": [
       "<?xml version=\"1.0\" encoding=\"utf-8\"?>\n",
       "<svg xmlns=\"http://www.w3.org/2000/svg\" xmlns:xlink=\"http://www.w3.org/1999/xlink\" width=\"600\" height=\"400\" viewBox=\"0 0 2400 1600\">\n",
       "<defs>\n",
       "  <clipPath id=\"clip160\">\n",
       "    <rect x=\"0\" y=\"0\" width=\"2400\" height=\"1600\"/>\n",
       "  </clipPath>\n",
       "</defs>\n",
       "<path clip-path=\"url(#clip160)\" d=\"\n",
       "M0 1600 L2400 1600 L2400 0 L0 0  Z\n",
       "  \" fill=\"#ffffff\" fill-rule=\"evenodd\" fill-opacity=\"1\"/>\n",
       "<defs>\n",
       "  <clipPath id=\"clip161\">\n",
       "    <rect x=\"480\" y=\"0\" width=\"1681\" height=\"1600\"/>\n",
       "  </clipPath>\n",
       "</defs>\n",
       "<path clip-path=\"url(#clip160)\" d=\"\n",
       "M335.381 1474.16 L2352.76 1474.16 L2352.76 47.2441 L335.381 47.2441  Z\n",
       "  \" fill=\"#ffffff\" fill-rule=\"evenodd\" fill-opacity=\"1\"/>\n",
       "<defs>\n",
       "  <clipPath id=\"clip162\">\n",
       "    <rect x=\"335\" y=\"47\" width=\"2018\" height=\"1428\"/>\n",
       "  </clipPath>\n",
       "</defs>\n",
       "<polyline clip-path=\"url(#clip162)\" style=\"stroke:#000000; stroke-linecap:butt; stroke-linejoin:round; stroke-width:2; stroke-opacity:0.1; fill:none\" points=\"\n",
       "  469.25,1474.16 469.25,47.2441 \n",
       "  \"/>\n",
       "<polyline clip-path=\"url(#clip162)\" style=\"stroke:#000000; stroke-linecap:butt; stroke-linejoin:round; stroke-width:2; stroke-opacity:0.1; fill:none\" points=\"\n",
       "  1038.24,1474.16 1038.24,47.2441 \n",
       "  \"/>\n",
       "<polyline clip-path=\"url(#clip162)\" style=\"stroke:#000000; stroke-linecap:butt; stroke-linejoin:round; stroke-width:2; stroke-opacity:0.1; fill:none\" points=\"\n",
       "  1607.22,1474.16 1607.22,47.2441 \n",
       "  \"/>\n",
       "<polyline clip-path=\"url(#clip162)\" style=\"stroke:#000000; stroke-linecap:butt; stroke-linejoin:round; stroke-width:2; stroke-opacity:0.1; fill:none\" points=\"\n",
       "  2176.21,1474.16 2176.21,47.2441 \n",
       "  \"/>\n",
       "<polyline clip-path=\"url(#clip160)\" style=\"stroke:#000000; stroke-linecap:butt; stroke-linejoin:round; stroke-width:4; stroke-opacity:1; fill:none\" points=\"\n",
       "  335.381,1474.16 2352.76,1474.16 \n",
       "  \"/>\n",
       "<polyline clip-path=\"url(#clip160)\" style=\"stroke:#000000; stroke-linecap:butt; stroke-linejoin:round; stroke-width:4; stroke-opacity:1; fill:none\" points=\"\n",
       "  469.25,1474.16 469.25,1455.27 \n",
       "  \"/>\n",
       "<polyline clip-path=\"url(#clip160)\" style=\"stroke:#000000; stroke-linecap:butt; stroke-linejoin:round; stroke-width:4; stroke-opacity:1; fill:none\" points=\"\n",
       "  1038.24,1474.16 1038.24,1455.27 \n",
       "  \"/>\n",
       "<polyline clip-path=\"url(#clip160)\" style=\"stroke:#000000; stroke-linecap:butt; stroke-linejoin:round; stroke-width:4; stroke-opacity:1; fill:none\" points=\"\n",
       "  1607.22,1474.16 1607.22,1455.27 \n",
       "  \"/>\n",
       "<polyline clip-path=\"url(#clip160)\" style=\"stroke:#000000; stroke-linecap:butt; stroke-linejoin:round; stroke-width:4; stroke-opacity:1; fill:none\" points=\"\n",
       "  2176.21,1474.16 2176.21,1455.27 \n",
       "  \"/>\n",
       "<path clip-path=\"url(#clip160)\" d=\"M469.25 1505.08 Q465.639 1505.08 463.81 1508.65 Q462.005 1512.19 462.005 1519.32 Q462.005 1526.43 463.81 1529.99 Q465.639 1533.53 469.25 1533.53 Q472.884 1533.53 474.69 1529.99 Q476.519 1526.43 476.519 1519.32 Q476.519 1512.19 474.69 1508.65 Q472.884 1505.08 469.25 1505.08 M469.25 1501.38 Q475.06 1501.38 478.116 1505.99 Q481.194 1510.57 481.194 1519.32 Q481.194 1528.05 478.116 1532.65 Q475.06 1537.24 469.25 1537.24 Q463.44 1537.24 460.361 1532.65 Q457.306 1528.05 457.306 1519.32 Q457.306 1510.57 460.361 1505.99 Q463.44 1501.38 469.25 1501.38 Z\" fill=\"#000000\" fill-rule=\"evenodd\" fill-opacity=\"1\" /><path clip-path=\"url(#clip160)\" d=\"M945.672 1548.29 L953.311 1548.29 L953.311 1521.92 L945.001 1523.59 L945.001 1519.33 L953.265 1517.66 L957.941 1517.66 L957.941 1548.29 L965.579 1548.29 L965.579 1552.22 L945.672 1552.22 L945.672 1548.29 Z\" fill=\"#000000\" fill-rule=\"evenodd\" fill-opacity=\"1\" /><path clip-path=\"url(#clip160)\" d=\"M975.024 1546.35 L979.908 1546.35 L979.908 1552.22 L975.024 1552.22 L975.024 1546.35 Z\" fill=\"#000000\" fill-rule=\"evenodd\" fill-opacity=\"1\" /><path clip-path=\"url(#clip160)\" d=\"M1000.09 1520.74 Q996.482 1520.74 994.653 1524.31 Q992.848 1527.85 992.848 1534.98 Q992.848 1542.09 994.653 1545.65 Q996.482 1549.19 1000.09 1549.19 Q1003.73 1549.19 1005.53 1545.65 Q1007.36 1542.09 1007.36 1534.98 Q1007.36 1527.85 1005.53 1524.31 Q1003.73 1520.74 1000.09 1520.74 M1000.09 1517.04 Q1005.9 1517.04 1008.96 1521.65 Q1012.04 1526.23 1012.04 1534.98 Q1012.04 1543.71 1008.96 1548.31 Q1005.9 1552.9 1000.09 1552.9 Q994.283 1552.9 991.204 1548.31 Q988.149 1543.71 988.149 1534.98 Q988.149 1526.23 991.204 1521.65 Q994.283 1517.04 1000.09 1517.04 Z\" fill=\"#000000\" fill-rule=\"evenodd\" fill-opacity=\"1\" /><path clip-path=\"url(#clip160)\" d=\"M1048.43 1526.76 L1037.85 1537.39 L1048.43 1547.97 L1045.67 1550.77 L1035.05 1540.14 L1024.42 1550.77 L1021.69 1547.97 L1032.25 1537.39 L1021.69 1526.76 L1024.42 1523.96 L1035.05 1534.59 L1045.67 1523.96 L1048.43 1526.76 Z\" fill=\"#000000\" fill-rule=\"evenodd\" fill-opacity=\"1\" /><path clip-path=\"url(#clip160)\" d=\"M1060.79 1548.29 L1068.43 1548.29 L1068.43 1521.92 L1060.12 1523.59 L1060.12 1519.33 L1068.38 1517.66 L1073.06 1517.66 L1073.06 1548.29 L1080.69 1548.29 L1080.69 1552.22 L1060.79 1552.22 L1060.79 1548.29 Z\" fill=\"#000000\" fill-rule=\"evenodd\" fill-opacity=\"1\" /><path clip-path=\"url(#clip160)\" d=\"M1100.14 1520.74 Q1096.53 1520.74 1094.7 1524.31 Q1092.89 1527.85 1092.89 1534.98 Q1092.89 1542.09 1094.7 1545.65 Q1096.53 1549.19 1100.14 1549.19 Q1103.77 1549.19 1105.58 1545.65 Q1107.41 1542.09 1107.41 1534.98 Q1107.41 1527.85 1105.58 1524.31 Q1103.77 1520.74 1100.14 1520.74 M1100.14 1517.04 Q1105.95 1517.04 1109 1521.65 Q1112.08 1526.23 1112.08 1534.98 Q1112.08 1543.71 1109 1548.31 Q1105.95 1552.9 1100.14 1552.9 Q1094.33 1552.9 1091.25 1548.31 Q1088.19 1543.71 1088.19 1534.98 Q1088.19 1526.23 1091.25 1521.65 Q1094.33 1517.04 1100.14 1517.04 Z\" fill=\"#000000\" fill-rule=\"evenodd\" fill-opacity=\"1\" /><path clip-path=\"url(#clip160)\" d=\"M1122.11 1509.26 Q1119.55 1509.26 1118.05 1511.01 Q1116.56 1512.76 1116.56 1515.81 Q1116.56 1518.83 1118.05 1520.6 Q1119.55 1522.35 1122.11 1522.35 Q1124.67 1522.35 1126.15 1520.6 Q1127.66 1518.83 1127.66 1515.81 Q1127.66 1512.76 1126.15 1511.01 Q1124.67 1509.26 1122.11 1509.26 M1129.65 1497.35 L1129.65 1500.82 Q1128.22 1500.14 1126.75 1499.78 Q1125.31 1499.42 1123.88 1499.42 Q1120.11 1499.42 1118.12 1501.96 Q1116.15 1504.5 1115.86 1509.64 Q1116.97 1508 1118.65 1507.13 Q1120.32 1506.25 1122.33 1506.25 Q1126.57 1506.25 1129.01 1508.83 Q1131.47 1511.39 1131.47 1515.81 Q1131.47 1520.13 1128.92 1522.75 Q1126.36 1525.36 1122.11 1525.36 Q1117.24 1525.36 1114.66 1521.64 Q1112.08 1517.89 1112.08 1510.8 Q1112.08 1504.14 1115.24 1500.19 Q1118.4 1496.23 1123.73 1496.23 Q1125.15 1496.23 1126.6 1496.51 Q1128.07 1496.79 1129.65 1497.35 Z\" fill=\"#000000\" fill-rule=\"evenodd\" fill-opacity=\"1\" /><path clip-path=\"url(#clip160)\" d=\"M1518.75 1548.29 L1535.06 1548.29 L1535.06 1552.22 L1513.12 1552.22 L1513.12 1548.29 Q1515.78 1545.53 1520.37 1540.91 Q1524.97 1536.25 1526.15 1534.91 Q1528.4 1532.39 1529.28 1530.65 Q1530.18 1528.89 1530.18 1527.2 Q1530.18 1524.45 1528.24 1522.71 Q1526.31 1520.97 1523.21 1520.97 Q1521.01 1520.97 1518.56 1521.74 Q1516.13 1522.5 1513.35 1524.05 L1513.35 1519.33 Q1516.18 1518.2 1518.63 1517.62 Q1521.08 1517.04 1523.12 1517.04 Q1528.49 1517.04 1531.68 1519.72 Q1534.88 1522.41 1534.88 1526.9 Q1534.88 1529.03 1534.07 1530.95 Q1533.28 1532.85 1531.18 1535.44 Q1530.6 1536.11 1527.5 1539.33 Q1524.39 1542.53 1518.75 1548.29 Z\" fill=\"#000000\" fill-rule=\"evenodd\" fill-opacity=\"1\" /><path clip-path=\"url(#clip160)\" d=\"M1544.88 1546.35 L1549.76 1546.35 L1549.76 1552.22 L1544.88 1552.22 L1544.88 1546.35 Z\" fill=\"#000000\" fill-rule=\"evenodd\" fill-opacity=\"1\" /><path clip-path=\"url(#clip160)\" d=\"M1569.95 1520.74 Q1566.34 1520.74 1564.51 1524.31 Q1562.7 1527.85 1562.7 1534.98 Q1562.7 1542.09 1564.51 1545.65 Q1566.34 1549.19 1569.95 1549.19 Q1573.58 1549.19 1575.39 1545.65 Q1577.22 1542.09 1577.22 1534.98 Q1577.22 1527.85 1575.39 1524.31 Q1573.58 1520.74 1569.95 1520.74 M1569.95 1517.04 Q1575.76 1517.04 1578.81 1521.65 Q1581.89 1526.23 1581.89 1534.98 Q1581.89 1543.71 1578.81 1548.31 Q1575.76 1552.9 1569.95 1552.9 Q1564.14 1552.9 1561.06 1548.31 Q1558 1543.71 1558 1534.98 Q1558 1526.23 1561.06 1521.65 Q1564.14 1517.04 1569.95 1517.04 Z\" fill=\"#000000\" fill-rule=\"evenodd\" fill-opacity=\"1\" /><path clip-path=\"url(#clip160)\" d=\"M1618.28 1526.76 L1607.7 1537.39 L1618.28 1547.97 L1615.53 1550.77 L1604.9 1540.14 L1594.28 1550.77 L1591.55 1547.97 L1602.1 1537.39 L1591.55 1526.76 L1594.28 1523.96 L1604.9 1534.59 L1615.53 1523.96 L1618.28 1526.76 Z\" fill=\"#000000\" fill-rule=\"evenodd\" fill-opacity=\"1\" /><path clip-path=\"url(#clip160)\" d=\"M1630.64 1548.29 L1638.28 1548.29 L1638.28 1521.92 L1629.97 1523.59 L1629.97 1519.33 L1638.24 1517.66 L1642.91 1517.66 L1642.91 1548.29 L1650.55 1548.29 L1650.55 1552.22 L1630.64 1552.22 L1630.64 1548.29 Z\" fill=\"#000000\" fill-rule=\"evenodd\" fill-opacity=\"1\" /><path clip-path=\"url(#clip160)\" d=\"M1669.99 1520.74 Q1666.38 1520.74 1664.55 1524.31 Q1662.75 1527.85 1662.75 1534.98 Q1662.75 1542.09 1664.55 1545.65 Q1666.38 1549.19 1669.99 1549.19 Q1673.63 1549.19 1675.43 1545.65 Q1677.26 1542.09 1677.26 1534.98 Q1677.26 1527.85 1675.43 1524.31 Q1673.63 1520.74 1669.99 1520.74 M1669.99 1517.04 Q1675.8 1517.04 1678.86 1521.65 Q1681.94 1526.23 1681.94 1534.98 Q1681.94 1543.71 1678.86 1548.31 Q1675.8 1552.9 1669.99 1552.9 Q1664.18 1552.9 1661.11 1548.31 Q1658.05 1543.71 1658.05 1534.98 Q1658.05 1526.23 1661.11 1521.65 Q1664.18 1517.04 1669.99 1517.04 Z\" fill=\"#000000\" fill-rule=\"evenodd\" fill-opacity=\"1\" /><path clip-path=\"url(#clip160)\" d=\"M1691.96 1509.26 Q1689.41 1509.26 1687.9 1511.01 Q1686.42 1512.76 1686.42 1515.81 Q1686.42 1518.83 1687.9 1520.6 Q1689.41 1522.35 1691.96 1522.35 Q1694.52 1522.35 1696.01 1520.6 Q1697.51 1518.83 1697.51 1515.81 Q1697.51 1512.76 1696.01 1511.01 Q1694.52 1509.26 1691.96 1509.26 M1699.51 1497.35 L1699.51 1500.82 Q1698.08 1500.14 1696.61 1499.78 Q1695.16 1499.42 1693.73 1499.42 Q1689.97 1499.42 1687.98 1501.96 Q1686 1504.5 1685.72 1509.64 Q1686.83 1508 1688.5 1507.13 Q1690.18 1506.25 1692.19 1506.25 Q1696.42 1506.25 1698.87 1508.83 Q1701.33 1511.39 1701.33 1515.81 Q1701.33 1520.13 1698.77 1522.75 Q1696.21 1525.36 1691.96 1525.36 Q1687.09 1525.36 1684.52 1521.64 Q1681.94 1517.89 1681.94 1510.8 Q1681.94 1504.14 1685.1 1500.19 Q1688.26 1496.23 1693.58 1496.23 Q1695.01 1496.23 1696.46 1496.51 Q1697.93 1496.79 1699.51 1497.35 Z\" fill=\"#000000\" fill-rule=\"evenodd\" fill-opacity=\"1\" /><path clip-path=\"url(#clip160)\" d=\"M2097.8 1533.59 Q2101.16 1534.31 2103.03 1536.58 Q2104.93 1538.85 2104.93 1542.18 Q2104.93 1547.29 2101.41 1550.1 Q2097.89 1552.9 2091.41 1552.9 Q2089.24 1552.9 2086.92 1552.46 Q2084.63 1552.04 2082.18 1551.18 L2082.18 1546.67 Q2084.12 1547.8 2086.44 1548.38 Q2088.75 1548.96 2091.27 1548.96 Q2095.67 1548.96 2097.96 1547.22 Q2100.28 1545.49 2100.28 1542.18 Q2100.28 1539.12 2098.13 1537.41 Q2096 1535.67 2092.18 1535.67 L2088.15 1535.67 L2088.15 1531.83 L2092.36 1531.83 Q2095.81 1531.83 2097.64 1530.47 Q2099.47 1529.08 2099.47 1526.48 Q2099.47 1523.82 2097.57 1522.41 Q2095.7 1520.97 2092.18 1520.97 Q2090.26 1520.97 2088.06 1521.39 Q2085.86 1521.81 2083.22 1522.69 L2083.22 1518.52 Q2085.88 1517.78 2088.2 1517.41 Q2090.53 1517.04 2092.59 1517.04 Q2097.92 1517.04 2101.02 1519.47 Q2104.12 1521.88 2104.12 1526 Q2104.12 1528.87 2102.48 1530.86 Q2100.83 1532.83 2097.8 1533.59 Z\" fill=\"#000000\" fill-rule=\"evenodd\" fill-opacity=\"1\" /><path clip-path=\"url(#clip160)\" d=\"M2113.8 1546.35 L2118.68 1546.35 L2118.68 1552.22 L2113.8 1552.22 L2113.8 1546.35 Z\" fill=\"#000000\" fill-rule=\"evenodd\" fill-opacity=\"1\" /><path clip-path=\"url(#clip160)\" d=\"M2138.87 1520.74 Q2135.26 1520.74 2133.43 1524.31 Q2131.62 1527.85 2131.62 1534.98 Q2131.62 1542.09 2133.43 1545.65 Q2135.26 1549.19 2138.87 1549.19 Q2142.5 1549.19 2144.31 1545.65 Q2146.14 1542.09 2146.14 1534.98 Q2146.14 1527.85 2144.31 1524.31 Q2142.5 1520.74 2138.87 1520.74 M2138.87 1517.04 Q2144.68 1517.04 2147.73 1521.65 Q2150.81 1526.23 2150.81 1534.98 Q2150.81 1543.71 2147.73 1548.31 Q2144.68 1552.9 2138.87 1552.9 Q2133.06 1552.9 2129.98 1548.31 Q2126.92 1543.71 2126.92 1534.98 Q2126.92 1526.23 2129.98 1521.65 Q2133.06 1517.04 2138.87 1517.04 Z\" fill=\"#000000\" fill-rule=\"evenodd\" fill-opacity=\"1\" /><path clip-path=\"url(#clip160)\" d=\"M2187.2 1526.76 L2176.62 1537.39 L2187.2 1547.97 L2184.45 1550.77 L2173.82 1540.14 L2163.2 1550.77 L2160.46 1547.97 L2171.02 1537.39 L2160.46 1526.76 L2163.2 1523.96 L2173.82 1534.59 L2184.45 1523.96 L2187.2 1526.76 Z\" fill=\"#000000\" fill-rule=\"evenodd\" fill-opacity=\"1\" /><path clip-path=\"url(#clip160)\" d=\"M2199.56 1548.29 L2207.2 1548.29 L2207.2 1521.92 L2198.89 1523.59 L2198.89 1519.33 L2207.15 1517.66 L2211.83 1517.66 L2211.83 1548.29 L2219.47 1548.29 L2219.47 1552.22 L2199.56 1552.22 L2199.56 1548.29 Z\" fill=\"#000000\" fill-rule=\"evenodd\" fill-opacity=\"1\" /><path clip-path=\"url(#clip160)\" d=\"M2238.91 1520.74 Q2235.3 1520.74 2233.47 1524.31 Q2231.67 1527.85 2231.67 1534.98 Q2231.67 1542.09 2233.47 1545.65 Q2235.3 1549.19 2238.91 1549.19 Q2242.55 1549.19 2244.35 1545.65 Q2246.18 1542.09 2246.18 1534.98 Q2246.18 1527.85 2244.35 1524.31 Q2242.55 1520.74 2238.91 1520.74 M2238.91 1517.04 Q2244.72 1517.04 2247.78 1521.65 Q2250.86 1526.23 2250.86 1534.98 Q2250.86 1543.71 2247.78 1548.31 Q2244.72 1552.9 2238.91 1552.9 Q2233.1 1552.9 2230.02 1548.31 Q2226.97 1543.71 2226.97 1534.98 Q2226.97 1526.23 2230.02 1521.65 Q2233.1 1517.04 2238.91 1517.04 Z\" fill=\"#000000\" fill-rule=\"evenodd\" fill-opacity=\"1\" /><path clip-path=\"url(#clip160)\" d=\"M2260.88 1509.26 Q2258.32 1509.26 2256.82 1511.01 Q2255.33 1512.76 2255.33 1515.81 Q2255.33 1518.83 2256.82 1520.6 Q2258.32 1522.35 2260.88 1522.35 Q2263.44 1522.35 2264.92 1520.6 Q2266.43 1518.83 2266.43 1515.81 Q2266.43 1512.76 2264.92 1511.01 Q2263.44 1509.26 2260.88 1509.26 M2268.42 1497.35 L2268.42 1500.82 Q2266.99 1500.14 2265.53 1499.78 Q2264.08 1499.42 2262.65 1499.42 Q2258.89 1499.42 2256.89 1501.96 Q2254.92 1504.5 2254.64 1509.64 Q2255.75 1508 2257.42 1507.13 Q2259.09 1506.25 2261.11 1506.25 Q2265.34 1506.25 2267.78 1508.83 Q2270.25 1511.39 2270.25 1515.81 Q2270.25 1520.13 2267.69 1522.75 Q2265.13 1525.36 2260.88 1525.36 Q2256.01 1525.36 2253.43 1521.64 Q2250.86 1517.89 2250.86 1510.8 Q2250.86 1504.14 2254.02 1500.19 Q2257.18 1496.23 2262.5 1496.23 Q2263.93 1496.23 2265.38 1496.51 Q2266.84 1496.79 2268.42 1497.35 Z\" fill=\"#000000\" fill-rule=\"evenodd\" fill-opacity=\"1\" /><polyline clip-path=\"url(#clip162)\" style=\"stroke:#000000; stroke-linecap:butt; stroke-linejoin:round; stroke-width:2; stroke-opacity:0.1; fill:none\" points=\"\n",
       "  335.381,1433.78 2352.76,1433.78 \n",
       "  \"/>\n",
       "<polyline clip-path=\"url(#clip162)\" style=\"stroke:#000000; stroke-linecap:butt; stroke-linejoin:round; stroke-width:2; stroke-opacity:0.1; fill:none\" points=\"\n",
       "  335.381,1141.11 2352.76,1141.11 \n",
       "  \"/>\n",
       "<polyline clip-path=\"url(#clip162)\" style=\"stroke:#000000; stroke-linecap:butt; stroke-linejoin:round; stroke-width:2; stroke-opacity:0.1; fill:none\" points=\"\n",
       "  335.381,848.439 2352.76,848.439 \n",
       "  \"/>\n",
       "<polyline clip-path=\"url(#clip162)\" style=\"stroke:#000000; stroke-linecap:butt; stroke-linejoin:round; stroke-width:2; stroke-opacity:0.1; fill:none\" points=\"\n",
       "  335.381,555.768 2352.76,555.768 \n",
       "  \"/>\n",
       "<polyline clip-path=\"url(#clip162)\" style=\"stroke:#000000; stroke-linecap:butt; stroke-linejoin:round; stroke-width:2; stroke-opacity:0.1; fill:none\" points=\"\n",
       "  335.381,263.097 2352.76,263.097 \n",
       "  \"/>\n",
       "<polyline clip-path=\"url(#clip160)\" style=\"stroke:#000000; stroke-linecap:butt; stroke-linejoin:round; stroke-width:4; stroke-opacity:1; fill:none\" points=\"\n",
       "  335.381,1474.16 335.381,47.2441 \n",
       "  \"/>\n",
       "<polyline clip-path=\"url(#clip160)\" style=\"stroke:#000000; stroke-linecap:butt; stroke-linejoin:round; stroke-width:4; stroke-opacity:1; fill:none\" points=\"\n",
       "  335.381,1433.78 354.278,1433.78 \n",
       "  \"/>\n",
       "<polyline clip-path=\"url(#clip160)\" style=\"stroke:#000000; stroke-linecap:butt; stroke-linejoin:round; stroke-width:4; stroke-opacity:1; fill:none\" points=\"\n",
       "  335.381,1141.11 354.278,1141.11 \n",
       "  \"/>\n",
       "<polyline clip-path=\"url(#clip160)\" style=\"stroke:#000000; stroke-linecap:butt; stroke-linejoin:round; stroke-width:4; stroke-opacity:1; fill:none\" points=\"\n",
       "  335.381,848.439 354.278,848.439 \n",
       "  \"/>\n",
       "<polyline clip-path=\"url(#clip160)\" style=\"stroke:#000000; stroke-linecap:butt; stroke-linejoin:round; stroke-width:4; stroke-opacity:1; fill:none\" points=\"\n",
       "  335.381,555.768 354.278,555.768 \n",
       "  \"/>\n",
       "<polyline clip-path=\"url(#clip160)\" style=\"stroke:#000000; stroke-linecap:butt; stroke-linejoin:round; stroke-width:4; stroke-opacity:1; fill:none\" points=\"\n",
       "  335.381,263.097 354.278,263.097 \n",
       "  \"/>\n",
       "<path clip-path=\"url(#clip160)\" d=\"M287.436 1419.58 Q283.825 1419.58 281.996 1423.14 Q280.191 1426.69 280.191 1433.82 Q280.191 1440.92 281.996 1444.49 Q283.825 1448.03 287.436 1448.03 Q291.07 1448.03 292.876 1444.49 Q294.705 1440.92 294.705 1433.82 Q294.705 1426.69 292.876 1423.14 Q291.07 1419.58 287.436 1419.58 M287.436 1415.88 Q293.246 1415.88 296.302 1420.48 Q299.381 1425.07 299.381 1433.82 Q299.381 1442.54 296.302 1447.15 Q293.246 1451.73 287.436 1451.73 Q281.626 1451.73 278.547 1447.15 Q275.492 1442.54 275.492 1433.82 Q275.492 1425.07 278.547 1420.48 Q281.626 1415.88 287.436 1415.88 Z\" fill=\"#000000\" fill-rule=\"evenodd\" fill-opacity=\"1\" /><path clip-path=\"url(#clip160)\" d=\"M56.6171 1160.9 L72.9365 1160.9 L72.9365 1164.84 L50.9921 1164.84 L50.9921 1160.9 Q53.6541 1158.15 58.2375 1153.52 Q62.8439 1148.87 64.0245 1147.52 Q66.2698 1145 67.1494 1143.26 Q68.0522 1141.5 68.0522 1139.81 Q68.0522 1137.06 66.1078 1135.32 Q64.1865 1133.59 61.0847 1133.59 Q58.8856 1133.59 56.4319 1134.35 Q54.0014 1135.12 51.2236 1136.67 L51.2236 1131.94 Q54.0477 1130.81 56.5014 1130.23 Q58.955 1129.65 60.9921 1129.65 Q66.3624 1129.65 69.5568 1132.34 Q72.7513 1135.02 72.7513 1139.51 Q72.7513 1141.64 71.9411 1143.56 Q71.1541 1145.46 69.0476 1148.05 Q68.4689 1148.73 65.367 1151.94 Q62.2652 1155.14 56.6171 1160.9 Z\" fill=\"#000000\" fill-rule=\"evenodd\" fill-opacity=\"1\" /><path clip-path=\"url(#clip160)\" d=\"M82.7512 1158.96 L87.6354 1158.96 L87.6354 1164.84 L82.7512 1164.84 L82.7512 1158.96 Z\" fill=\"#000000\" fill-rule=\"evenodd\" fill-opacity=\"1\" /><path clip-path=\"url(#clip160)\" d=\"M97.8669 1130.28 L116.223 1130.28 L116.223 1134.21 L102.149 1134.21 L102.149 1142.68 Q103.168 1142.34 104.186 1142.18 Q105.205 1141.99 106.223 1141.99 Q112.01 1141.99 115.39 1145.16 Q118.77 1148.33 118.77 1153.75 Q118.77 1159.33 115.297 1162.43 Q111.825 1165.51 105.506 1165.51 Q103.33 1165.51 101.061 1165.14 Q98.8159 1164.77 96.4085 1164.03 L96.4085 1159.33 Q98.4919 1160.46 100.714 1161.02 Q102.936 1161.57 105.413 1161.57 Q109.418 1161.57 111.756 1159.47 Q114.094 1157.36 114.094 1153.75 Q114.094 1150.14 111.756 1148.03 Q109.418 1145.93 105.413 1145.93 Q103.538 1145.93 101.663 1146.34 Q99.8113 1146.76 97.8669 1147.64 L97.8669 1130.28 Z\" fill=\"#000000\" fill-rule=\"evenodd\" fill-opacity=\"1\" /><path clip-path=\"url(#clip160)\" d=\"M137.982 1133.36 Q134.371 1133.36 132.543 1136.92 Q130.737 1140.46 130.737 1147.59 Q130.737 1154.7 132.543 1158.26 Q134.371 1161.8 137.982 1161.8 Q141.617 1161.8 143.422 1158.26 Q145.251 1154.7 145.251 1147.59 Q145.251 1140.46 143.422 1136.92 Q141.617 1133.36 137.982 1133.36 M137.982 1129.65 Q143.793 1129.65 146.848 1134.26 Q149.927 1138.84 149.927 1147.59 Q149.927 1156.32 146.848 1160.93 Q143.793 1165.51 137.982 1165.51 Q132.172 1165.51 129.094 1160.93 Q126.038 1156.32 126.038 1147.59 Q126.038 1138.84 129.094 1134.26 Q132.172 1129.65 137.982 1129.65 Z\" fill=\"#000000\" fill-rule=\"evenodd\" fill-opacity=\"1\" /><path clip-path=\"url(#clip160)\" d=\"M186.315 1139.37 L175.737 1150 L186.315 1160.58 L183.561 1163.38 L172.936 1152.75 L162.311 1163.38 L159.58 1160.58 L170.135 1150 L159.58 1139.37 L162.311 1136.57 L172.936 1147.2 L183.561 1136.57 L186.315 1139.37 Z\" fill=\"#000000\" fill-rule=\"evenodd\" fill-opacity=\"1\" /><path clip-path=\"url(#clip160)\" d=\"M198.677 1160.9 L206.315 1160.9 L206.315 1134.54 L198.005 1136.2 L198.005 1131.94 L206.269 1130.28 L210.945 1130.28 L210.945 1160.9 L218.584 1160.9 L218.584 1164.84 L198.677 1164.84 L198.677 1160.9 Z\" fill=\"#000000\" fill-rule=\"evenodd\" fill-opacity=\"1\" /><path clip-path=\"url(#clip160)\" d=\"M238.028 1133.36 Q234.417 1133.36 232.588 1136.92 Q230.783 1140.46 230.783 1147.59 Q230.783 1154.7 232.588 1158.26 Q234.417 1161.8 238.028 1161.8 Q241.662 1161.8 243.468 1158.26 Q245.297 1154.7 245.297 1147.59 Q245.297 1140.46 243.468 1136.92 Q241.662 1133.36 238.028 1133.36 M238.028 1129.65 Q243.838 1129.65 246.894 1134.26 Q249.973 1138.84 249.973 1147.59 Q249.973 1156.32 246.894 1160.93 Q243.838 1165.51 238.028 1165.51 Q232.218 1165.51 229.139 1160.93 Q226.084 1156.32 226.084 1147.59 Q226.084 1138.84 229.139 1134.26 Q232.218 1129.65 238.028 1129.65 Z\" fill=\"#000000\" fill-rule=\"evenodd\" fill-opacity=\"1\" /><path clip-path=\"url(#clip160)\" d=\"M249.973 1123.75 L274.084 1123.75 L274.084 1126.95 L249.973 1126.95 L249.973 1123.75 Z\" fill=\"#000000\" fill-rule=\"evenodd\" fill-opacity=\"1\" /><path clip-path=\"url(#clip160)\" d=\"M281.325 1109.35 L299.381 1109.35 L299.381 1110.96 L289.187 1137.43 L285.218 1137.43 L294.81 1112.54 L281.325 1112.54 L281.325 1109.35 Z\" fill=\"#000000\" fill-rule=\"evenodd\" fill-opacity=\"1\" /><path clip-path=\"url(#clip160)\" d=\"M52.6356 837.606 L70.992 837.606 L70.992 841.542 L56.918 841.542 L56.918 850.014 Q57.9365 849.667 58.955 849.505 Q59.9736 849.319 60.9921 849.319 Q66.7791 849.319 70.1587 852.491 Q73.5383 855.662 73.5383 861.079 Q73.5383 866.657 70.0661 869.759 Q66.5939 872.838 60.2745 872.838 Q58.0986 872.838 55.8301 872.467 Q53.5847 872.097 51.1773 871.356 L51.1773 866.657 Q53.2606 867.791 55.4828 868.347 Q57.7051 868.903 60.1819 868.903 Q64.1865 868.903 66.5245 866.796 Q68.8624 864.69 68.8624 861.079 Q68.8624 857.467 66.5245 855.361 Q64.1865 853.255 60.1819 853.255 Q58.3069 853.255 56.4319 853.671 Q54.5801 854.088 52.6356 854.967 L52.6356 837.606 Z\" fill=\"#000000\" fill-rule=\"evenodd\" fill-opacity=\"1\" /><path clip-path=\"url(#clip160)\" d=\"M82.7512 866.287 L87.6354 866.287 L87.6354 872.166 L82.7512 872.166 L82.7512 866.287 Z\" fill=\"#000000\" fill-rule=\"evenodd\" fill-opacity=\"1\" /><path clip-path=\"url(#clip160)\" d=\"M107.821 840.685 Q104.209 840.685 102.381 844.25 Q100.575 847.792 100.575 854.921 Q100.575 862.028 102.381 865.592 Q104.209 869.134 107.821 869.134 Q111.455 869.134 113.26 865.592 Q115.089 862.028 115.089 854.921 Q115.089 847.792 113.26 844.25 Q111.455 840.685 107.821 840.685 M107.821 836.981 Q113.631 836.981 116.686 841.588 Q119.765 846.171 119.765 854.921 Q119.765 863.648 116.686 868.254 Q113.631 872.838 107.821 872.838 Q102.01 872.838 98.9317 868.254 Q95.8761 863.648 95.8761 854.921 Q95.8761 846.171 98.9317 841.588 Q102.01 836.981 107.821 836.981 Z\" fill=\"#000000\" fill-rule=\"evenodd\" fill-opacity=\"1\" /><path clip-path=\"url(#clip160)\" d=\"M137.982 840.685 Q134.371 840.685 132.543 844.25 Q130.737 847.792 130.737 854.921 Q130.737 862.028 132.543 865.592 Q134.371 869.134 137.982 869.134 Q141.617 869.134 143.422 865.592 Q145.251 862.028 145.251 854.921 Q145.251 847.792 143.422 844.25 Q141.617 840.685 137.982 840.685 M137.982 836.981 Q143.793 836.981 146.848 841.588 Q149.927 846.171 149.927 854.921 Q149.927 863.648 146.848 868.254 Q143.793 872.838 137.982 872.838 Q132.172 872.838 129.094 868.254 Q126.038 863.648 126.038 854.921 Q126.038 846.171 129.094 841.588 Q132.172 836.981 137.982 836.981 Z\" fill=\"#000000\" fill-rule=\"evenodd\" fill-opacity=\"1\" /><path clip-path=\"url(#clip160)\" d=\"M186.315 846.704 L175.737 857.329 L186.315 867.907 L183.561 870.708 L172.936 860.083 L162.311 870.708 L159.58 867.907 L170.135 857.329 L159.58 846.704 L162.311 843.903 L172.936 854.528 L183.561 843.903 L186.315 846.704 Z\" fill=\"#000000\" fill-rule=\"evenodd\" fill-opacity=\"1\" /><path clip-path=\"url(#clip160)\" d=\"M198.677 868.231 L206.315 868.231 L206.315 841.866 L198.005 843.532 L198.005 839.273 L206.269 837.606 L210.945 837.606 L210.945 868.231 L218.584 868.231 L218.584 872.166 L198.677 872.166 L198.677 868.231 Z\" fill=\"#000000\" fill-rule=\"evenodd\" fill-opacity=\"1\" /><path clip-path=\"url(#clip160)\" d=\"M238.028 840.685 Q234.417 840.685 232.588 844.25 Q230.783 847.792 230.783 854.921 Q230.783 862.028 232.588 865.592 Q234.417 869.134 238.028 869.134 Q241.662 869.134 243.468 865.592 Q245.297 862.028 245.297 854.921 Q245.297 847.792 243.468 844.25 Q241.662 840.685 238.028 840.685 M238.028 836.981 Q243.838 836.981 246.894 841.588 Q249.973 846.171 249.973 854.921 Q249.973 863.648 246.894 868.254 Q243.838 872.838 238.028 872.838 Q232.218 872.838 229.139 868.254 Q226.084 863.648 226.084 854.921 Q226.084 846.171 229.139 841.588 Q232.218 836.981 238.028 836.981 Z\" fill=\"#000000\" fill-rule=\"evenodd\" fill-opacity=\"1\" /><path clip-path=\"url(#clip160)\" d=\"M249.973 831.083 L274.084 831.083 L274.084 834.28 L249.973 834.28 L249.973 831.083 Z\" fill=\"#000000\" fill-rule=\"evenodd\" fill-opacity=\"1\" /><path clip-path=\"url(#clip160)\" d=\"M281.325 816.676 L299.381 816.676 L299.381 818.294 L289.187 844.756 L285.218 844.756 L294.81 819.873 L281.325 819.873 L281.325 816.676 Z\" fill=\"#000000\" fill-rule=\"evenodd\" fill-opacity=\"1\" /><path clip-path=\"url(#clip160)\" d=\"M51.4088 544.936 L73.6309 544.936 L73.6309 546.926 L61.0847 579.496 L56.2004 579.496 L68.0059 548.871 L51.4088 548.871 L51.4088 544.936 Z\" fill=\"#000000\" fill-rule=\"evenodd\" fill-opacity=\"1\" /><path clip-path=\"url(#clip160)\" d=\"M82.7512 573.616 L87.6354 573.616 L87.6354 579.496 L82.7512 579.496 L82.7512 573.616 Z\" fill=\"#000000\" fill-rule=\"evenodd\" fill-opacity=\"1\" /><path clip-path=\"url(#clip160)\" d=\"M97.8669 544.936 L116.223 544.936 L116.223 548.871 L102.149 548.871 L102.149 557.343 Q103.168 556.996 104.186 556.834 Q105.205 556.649 106.223 556.649 Q112.01 556.649 115.39 559.82 Q118.77 562.991 118.77 568.408 Q118.77 573.986 115.297 577.088 Q111.825 580.167 105.506 580.167 Q103.33 580.167 101.061 579.797 Q98.8159 579.426 96.4085 578.685 L96.4085 573.986 Q98.4919 575.121 100.714 575.676 Q102.936 576.232 105.413 576.232 Q109.418 576.232 111.756 574.125 Q114.094 572.019 114.094 568.408 Q114.094 564.797 111.756 562.69 Q109.418 560.584 105.413 560.584 Q103.538 560.584 101.663 561 Q99.8113 561.417 97.8669 562.297 L97.8669 544.936 Z\" fill=\"#000000\" fill-rule=\"evenodd\" fill-opacity=\"1\" /><path clip-path=\"url(#clip160)\" d=\"M137.982 548.014 Q134.371 548.014 132.543 551.579 Q130.737 555.121 130.737 562.25 Q130.737 569.357 132.543 572.922 Q134.371 576.463 137.982 576.463 Q141.617 576.463 143.422 572.922 Q145.251 569.357 145.251 562.25 Q145.251 555.121 143.422 551.579 Q141.617 548.014 137.982 548.014 M137.982 544.311 Q143.793 544.311 146.848 548.917 Q149.927 553.5 149.927 562.25 Q149.927 570.977 146.848 575.584 Q143.793 580.167 137.982 580.167 Q132.172 580.167 129.094 575.584 Q126.038 570.977 126.038 562.25 Q126.038 553.5 129.094 548.917 Q132.172 544.311 137.982 544.311 Z\" fill=\"#000000\" fill-rule=\"evenodd\" fill-opacity=\"1\" /><path clip-path=\"url(#clip160)\" d=\"M186.315 554.033 L175.737 564.658 L186.315 575.236 L183.561 578.037 L172.936 567.412 L162.311 578.037 L159.58 575.236 L170.135 564.658 L159.58 554.033 L162.311 551.232 L172.936 561.857 L183.561 551.232 L186.315 554.033 Z\" fill=\"#000000\" fill-rule=\"evenodd\" fill-opacity=\"1\" /><path clip-path=\"url(#clip160)\" d=\"M198.677 575.56 L206.315 575.56 L206.315 549.195 L198.005 550.862 L198.005 546.602 L206.269 544.936 L210.945 544.936 L210.945 575.56 L218.584 575.56 L218.584 579.496 L198.677 579.496 L198.677 575.56 Z\" fill=\"#000000\" fill-rule=\"evenodd\" fill-opacity=\"1\" /><path clip-path=\"url(#clip160)\" d=\"M238.028 548.014 Q234.417 548.014 232.588 551.579 Q230.783 555.121 230.783 562.25 Q230.783 569.357 232.588 572.922 Q234.417 576.463 238.028 576.463 Q241.662 576.463 243.468 572.922 Q245.297 569.357 245.297 562.25 Q245.297 555.121 243.468 551.579 Q241.662 548.014 238.028 548.014 M238.028 544.311 Q243.838 544.311 246.894 548.917 Q249.973 553.5 249.973 562.25 Q249.973 570.977 246.894 575.584 Q243.838 580.167 238.028 580.167 Q232.218 580.167 229.139 575.584 Q226.084 570.977 226.084 562.25 Q226.084 553.5 229.139 548.917 Q232.218 544.311 238.028 544.311 Z\" fill=\"#000000\" fill-rule=\"evenodd\" fill-opacity=\"1\" /><path clip-path=\"url(#clip160)\" d=\"M249.973 538.412 L274.084 538.412 L274.084 541.609 L249.973 541.609 L249.973 538.412 Z\" fill=\"#000000\" fill-rule=\"evenodd\" fill-opacity=\"1\" /><path clip-path=\"url(#clip160)\" d=\"M281.325 524.005 L299.381 524.005 L299.381 525.623 L289.187 552.085 L285.218 552.085 L294.81 527.203 L281.325 527.203 L281.325 524.005 Z\" fill=\"#000000\" fill-rule=\"evenodd\" fill-opacity=\"1\" /><path clip-path=\"url(#clip160)\" d=\"M52.5344 282.89 L60.1732 282.89 L60.1732 256.524 L51.8631 258.191 L51.8631 253.932 L60.1269 252.265 L64.8028 252.265 L64.8028 282.89 L72.4417 282.89 L72.4417 286.825 L52.5344 286.825 L52.5344 282.89 Z\" fill=\"#000000\" fill-rule=\"evenodd\" fill-opacity=\"1\" /><path clip-path=\"url(#clip160)\" d=\"M81.8861 280.945 L86.7703 280.945 L86.7703 286.825 L81.8861 286.825 L81.8861 280.945 Z\" fill=\"#000000\" fill-rule=\"evenodd\" fill-opacity=\"1\" /><path clip-path=\"url(#clip160)\" d=\"M106.955 255.344 Q103.344 255.344 101.516 258.908 Q99.71 262.45 99.71 269.58 Q99.71 276.686 101.516 280.251 Q103.344 283.792 106.955 283.792 Q110.59 283.792 112.395 280.251 Q114.224 276.686 114.224 269.58 Q114.224 262.45 112.395 258.908 Q110.59 255.344 106.955 255.344 M106.955 251.64 Q112.766 251.64 115.821 256.246 Q118.9 260.83 118.9 269.58 Q118.9 278.306 115.821 282.913 Q112.766 287.496 106.955 287.496 Q101.145 287.496 98.0665 282.913 Q95.011 278.306 95.011 269.58 Q95.011 260.83 98.0665 256.246 Q101.145 251.64 106.955 251.64 Z\" fill=\"#000000\" fill-rule=\"evenodd\" fill-opacity=\"1\" /><path clip-path=\"url(#clip160)\" d=\"M137.117 255.344 Q133.506 255.344 131.677 258.908 Q129.872 262.45 129.872 269.58 Q129.872 276.686 131.677 280.251 Q133.506 283.792 137.117 283.792 Q140.751 283.792 142.557 280.251 Q144.386 276.686 144.386 269.58 Q144.386 262.45 142.557 258.908 Q140.751 255.344 137.117 255.344 M137.117 251.64 Q142.927 251.64 145.983 256.246 Q149.062 260.83 149.062 269.58 Q149.062 278.306 145.983 282.913 Q142.927 287.496 137.117 287.496 Q131.307 287.496 128.228 282.913 Q125.173 278.306 125.173 269.58 Q125.173 260.83 128.228 256.246 Q131.307 251.64 137.117 251.64 Z\" fill=\"#000000\" fill-rule=\"evenodd\" fill-opacity=\"1\" /><path clip-path=\"url(#clip160)\" d=\"M185.45 261.362 L174.872 271.987 L185.45 282.566 L182.696 285.367 L172.071 274.742 L161.446 285.367 L158.714 282.566 L169.27 271.987 L158.714 261.362 L161.446 258.561 L172.071 269.186 L182.696 258.561 L185.45 261.362 Z\" fill=\"#000000\" fill-rule=\"evenodd\" fill-opacity=\"1\" /><path clip-path=\"url(#clip160)\" d=\"M197.811 282.89 L205.45 282.89 L205.45 256.524 L197.14 258.191 L197.14 253.932 L205.404 252.265 L210.08 252.265 L210.08 282.89 L217.719 282.89 L217.719 286.825 L197.811 286.825 L197.811 282.89 Z\" fill=\"#000000\" fill-rule=\"evenodd\" fill-opacity=\"1\" /><path clip-path=\"url(#clip160)\" d=\"M237.163 255.344 Q233.552 255.344 231.723 258.908 Q229.918 262.45 229.918 269.58 Q229.918 276.686 231.723 280.251 Q233.552 283.792 237.163 283.792 Q240.797 283.792 242.603 280.251 Q244.431 276.686 244.431 269.58 Q244.431 262.45 242.603 258.908 Q240.797 255.344 237.163 255.344 M237.163 251.64 Q242.973 251.64 246.029 256.246 Q249.107 260.83 249.107 269.58 Q249.107 278.306 246.029 282.913 Q242.973 287.496 237.163 287.496 Q231.353 287.496 228.274 282.913 Q225.219 278.306 225.219 269.58 Q225.219 260.83 228.274 256.246 Q231.353 251.64 237.163 251.64 Z\" fill=\"#000000\" fill-rule=\"evenodd\" fill-opacity=\"1\" /><path clip-path=\"url(#clip160)\" d=\"M249.107 245.741 L273.219 245.741 L273.219 248.939 L249.107 248.939 L249.107 245.741 Z\" fill=\"#000000\" fill-rule=\"evenodd\" fill-opacity=\"1\" /><path clip-path=\"url(#clip160)\" d=\"M290.014 243.86 Q287.456 243.86 285.952 245.61 Q284.466 247.359 284.466 250.406 Q284.466 253.434 285.952 255.202 Q287.456 256.951 290.014 256.951 Q292.572 256.951 294.058 255.202 Q295.563 253.434 295.563 250.406 Q295.563 247.359 294.058 245.61 Q292.572 243.86 290.014 243.86 M297.556 231.955 L297.556 235.416 Q296.127 234.739 294.66 234.381 Q293.212 234.024 291.782 234.024 Q288.021 234.024 286.027 236.563 Q284.052 239.102 283.77 244.237 Q284.88 242.6 286.554 241.735 Q288.228 240.851 290.24 240.851 Q294.472 240.851 296.917 243.428 Q299.381 245.986 299.381 250.406 Q299.381 254.731 296.823 257.346 Q294.265 259.96 290.014 259.96 Q285.143 259.96 282.566 256.236 Q279.99 252.493 279.99 245.403 Q279.99 238.745 283.149 234.795 Q286.309 230.827 291.632 230.827 Q293.061 230.827 294.509 231.109 Q295.976 231.391 297.556 231.955 Z\" fill=\"#000000\" fill-rule=\"evenodd\" fill-opacity=\"1\" /><polyline clip-path=\"url(#clip162)\" style=\"stroke:#009af9; stroke-linecap:butt; stroke-linejoin:round; stroke-width:4; stroke-opacity:1; fill:none\" points=\"\n",
       "  392.476,1433.78 402.04,1433.78 411.604,1433.78 421.167,1433.78 430.731,1433.77 440.295,1433.76 449.859,1433.72 459.422,1433.66 468.986,1433.56 478.55,1433.38 \n",
       "  488.113,1433.11 497.677,1432.7 507.241,1432.11 516.805,1431.26 526.368,1430 535.932,1428.1 545.496,1425.16 555.06,1420.61 564.623,1413.69 574.187,1403.47 \n",
       "  583.751,1388.99 593.315,1369.34 602.878,1343.86 612.442,1312.23 622.006,1274.47 631.57,1230.9 641.133,1181.96 650.697,1128.17 660.261,1070.04 669.825,1008.11 \n",
       "  679.388,943.036 688.952,875.593 698.516,806.74 708.08,737.584 717.643,669.327 727.207,603.156 736.771,540.057 746.334,480.56 755.898,424.569 765.462,371.421 \n",
       "  775.026,320.264 784.589,270.671 794.153,223.186 803.717,179.49 813.281,142.042 822.844,113.331 832.408,95.0601 841.972,87.6286 851.536,90.0631 861.099,100.386 \n",
       "  870.663,116.22 880.227,135.384 889.791,156.306 899.354,178.15 908.918,200.693 918.482,224.046 928.046,248.389 937.609,273.833 947.173,300.474 956.737,328.545 \n",
       "  966.3,358.516 975.864,391 985.428,426.511 994.992,465.209 1004.56,506.805 1014.12,550.628 1023.68,595.726 1033.25,640.891 1042.81,684.62 1052.37,725.171 \n",
       "  1061.94,760.85 1071.5,790.4 1081.07,813.299 1090.63,829.733 1100.19,840.323 1109.76,845.835 1119.32,847.105 1128.88,845.169 1138.45,841.372 1148.01,837.268 \n",
       "  1157.58,834.306 1167.14,833.512 1176.7,835.412 1186.27,840.218 1195.83,848.091 1205.39,859.233 1214.96,873.748 1224.52,891.404 1234.09,911.531 1243.65,933.163 \n",
       "  1253.21,955.299 1262.78,977.124 1272.34,998.069 1281.9,1017.78 1291.47,1036.07 1301.03,1052.98 1310.6,1068.72 1320.16,1083.56 1329.72,1097.6 1339.29,1110.59 \n",
       "  1348.85,1122.06 1358.41,1131.52 1367.98,1138.87 1377.54,1144.45 1387.11,1148.99 1396.67,1153.25 1406.23,1157.81 1415.8,1162.95 1425.36,1168.73 1434.92,1175.12 \n",
       "  1444.49,1182.02 1454.05,1189.24 1463.61,1196.53 1473.18,1203.6 1482.74,1210.26 1492.31,1216.46 1501.87,1222.32 1511.43,1227.98 1521,1233.61 1530.56,1239.4 \n",
       "  1540.12,1245.53 1549.69,1252.16 1559.25,1259.34 1568.82,1267.02 1578.38,1275.07 1587.94,1283.38 1597.51,1291.91 1607.07,1300.63 1616.63,1309.36 1626.2,1317.71 \n",
       "  1635.76,1325.19 1645.33,1331.37 1654.89,1336.05 1664.45,1339.26 1674.02,1341.19 1683.58,1342.04 1693.14,1342.02 1702.71,1341.41 1712.27,1340.61 1721.84,1340.05 \n",
       "  1731.4,1340.12 1740.96,1340.98 1750.53,1342.55 1760.09,1344.61 1769.65,1346.9 1779.22,1349.23 1788.78,1351.53 1798.35,1353.78 1807.91,1356.07 1817.47,1358.5 \n",
       "  1827.04,1361.21 1836.6,1364.24 1846.16,1367.55 1855.73,1370.94 1865.29,1374.12 1874.86,1376.83 1884.42,1378.91 1893.98,1380.34 1903.55,1381.23 1913.11,1381.73 \n",
       "  1922.67,1382.03 1932.24,1382.31 1941.8,1382.75 1951.37,1383.49 1960.93,1384.6 1970.49,1386.01 1980.06,1387.57 1989.62,1389.03 1999.18,1390.21 2008.75,1390.98 \n",
       "  2018.31,1391.35 2027.88,1391.38 2037.44,1391.26 2047,1391.19 2056.57,1391.42 2066.13,1392.11 2075.69,1393.33 2085.26,1395 2094.82,1397.01 2104.39,1399.27 \n",
       "  2113.95,1401.77 2123.51,1404.59 2133.08,1407.8 2142.64,1411.39 2152.2,1415.23 2161.77,1419.09 2171.33,1422.71 2180.9,1425.87 2190.46,1428.43 2200.02,1430.38 \n",
       "  2209.59,1431.75 2219.15,1432.64 2228.71,1433.19 2238.28,1433.49 2247.84,1433.65 2257.41,1433.73 2266.97,1433.76 2276.53,1433.77 2286.1,1433.78 2295.66,1433.78 \n",
       "  \n",
       "  \"/>\n",
       "<path clip-path=\"url(#clip160)\" d=\"\n",
       "M2008.93 198.488 L2285.51 198.488 L2285.51 94.8081 L2008.93 94.8081  Z\n",
       "  \" fill=\"#ffffff\" fill-rule=\"evenodd\" fill-opacity=\"1\"/>\n",
       "<polyline clip-path=\"url(#clip160)\" style=\"stroke:#000000; stroke-linecap:butt; stroke-linejoin:round; stroke-width:4; stroke-opacity:1; fill:none\" points=\"\n",
       "  2008.93,198.488 2285.51,198.488 2285.51,94.8081 2008.93,94.8081 2008.93,198.488 \n",
       "  \"/>\n",
       "<polyline clip-path=\"url(#clip160)\" style=\"stroke:#009af9; stroke-linecap:butt; stroke-linejoin:round; stroke-width:4; stroke-opacity:1; fill:none\" points=\"\n",
       "  2031.34,146.648 2165.83,146.648 \n",
       "  \"/>\n",
       "<path clip-path=\"url(#clip160)\" d=\"M2202.09 166.336 Q2200.29 170.965 2198.57 172.377 Q2196.86 173.789 2193.99 173.789 L2190.59 173.789 L2190.59 170.224 L2193.09 170.224 Q2194.85 170.224 2195.82 169.391 Q2196.79 168.558 2197.97 165.456 L2198.74 163.511 L2188.25 138.002 L2192.76 138.002 L2200.86 158.28 L2208.97 138.002 L2213.48 138.002 L2202.09 166.336 Z\" fill=\"#000000\" fill-rule=\"evenodd\" fill-opacity=\"1\" /><path clip-path=\"url(#clip160)\" d=\"M2220.77 159.993 L2228.41 159.993 L2228.41 133.627 L2220.1 135.294 L2220.1 131.035 L2228.36 129.368 L2233.04 129.368 L2233.04 159.993 L2240.68 159.993 L2240.68 163.928 L2220.77 163.928 L2220.77 159.993 Z\" fill=\"#000000\" fill-rule=\"evenodd\" fill-opacity=\"1\" /></svg>\n"
      ]
     },
     "execution_count": 160,
     "metadata": {},
     "output_type": "execute_result"
    }
   ],
   "source": [
    "density(filter((x)->x<3*10^6, prices))"
   ]
  },
  {
   "cell_type": "code",
   "execution_count": 161,
   "metadata": {},
   "outputs": [
    {
     "data": {
      "image/svg+xml": [
       "<?xml version=\"1.0\" encoding=\"utf-8\"?>\n",
       "<svg xmlns=\"http://www.w3.org/2000/svg\" xmlns:xlink=\"http://www.w3.org/1999/xlink\" width=\"600\" height=\"400\" viewBox=\"0 0 2400 1600\">\n",
       "<defs>\n",
       "  <clipPath id=\"clip200\">\n",
       "    <rect x=\"0\" y=\"0\" width=\"2400\" height=\"1600\"/>\n",
       "  </clipPath>\n",
       "</defs>\n",
       "<path clip-path=\"url(#clip200)\" d=\"\n",
       "M0 1600 L2400 1600 L2400 0 L0 0  Z\n",
       "  \" fill=\"#ffffff\" fill-rule=\"evenodd\" fill-opacity=\"1\"/>\n",
       "<defs>\n",
       "  <clipPath id=\"clip201\">\n",
       "    <rect x=\"480\" y=\"0\" width=\"1681\" height=\"1600\"/>\n",
       "  </clipPath>\n",
       "</defs>\n",
       "<path clip-path=\"url(#clip200)\" d=\"\n",
       "M335.381 1474.16 L2352.76 1474.16 L2352.76 47.2441 L335.381 47.2441  Z\n",
       "  \" fill=\"#ffffff\" fill-rule=\"evenodd\" fill-opacity=\"1\"/>\n",
       "<defs>\n",
       "  <clipPath id=\"clip202\">\n",
       "    <rect x=\"335\" y=\"47\" width=\"2018\" height=\"1428\"/>\n",
       "  </clipPath>\n",
       "</defs>\n",
       "<polyline clip-path=\"url(#clip202)\" style=\"stroke:#000000; stroke-linecap:butt; stroke-linejoin:round; stroke-width:2; stroke-opacity:0.1; fill:none\" points=\"\n",
       "  416.313,1474.16 416.313,47.2441 \n",
       "  \"/>\n",
       "<polyline clip-path=\"url(#clip202)\" style=\"stroke:#000000; stroke-linecap:butt; stroke-linejoin:round; stroke-width:2; stroke-opacity:0.1; fill:none\" points=\"\n",
       "  827.37,1474.16 827.37,47.2441 \n",
       "  \"/>\n",
       "<polyline clip-path=\"url(#clip202)\" style=\"stroke:#000000; stroke-linecap:butt; stroke-linejoin:round; stroke-width:2; stroke-opacity:0.1; fill:none\" points=\"\n",
       "  1238.43,1474.16 1238.43,47.2441 \n",
       "  \"/>\n",
       "<polyline clip-path=\"url(#clip202)\" style=\"stroke:#000000; stroke-linecap:butt; stroke-linejoin:round; stroke-width:2; stroke-opacity:0.1; fill:none\" points=\"\n",
       "  1649.48,1474.16 1649.48,47.2441 \n",
       "  \"/>\n",
       "<polyline clip-path=\"url(#clip202)\" style=\"stroke:#000000; stroke-linecap:butt; stroke-linejoin:round; stroke-width:2; stroke-opacity:0.1; fill:none\" points=\"\n",
       "  2060.54,1474.16 2060.54,47.2441 \n",
       "  \"/>\n",
       "<polyline clip-path=\"url(#clip200)\" style=\"stroke:#000000; stroke-linecap:butt; stroke-linejoin:round; stroke-width:4; stroke-opacity:1; fill:none\" points=\"\n",
       "  335.381,1474.16 2352.76,1474.16 \n",
       "  \"/>\n",
       "<polyline clip-path=\"url(#clip200)\" style=\"stroke:#000000; stroke-linecap:butt; stroke-linejoin:round; stroke-width:4; stroke-opacity:1; fill:none\" points=\"\n",
       "  416.313,1474.16 416.313,1455.27 \n",
       "  \"/>\n",
       "<polyline clip-path=\"url(#clip200)\" style=\"stroke:#000000; stroke-linecap:butt; stroke-linejoin:round; stroke-width:4; stroke-opacity:1; fill:none\" points=\"\n",
       "  827.37,1474.16 827.37,1455.27 \n",
       "  \"/>\n",
       "<polyline clip-path=\"url(#clip200)\" style=\"stroke:#000000; stroke-linecap:butt; stroke-linejoin:round; stroke-width:4; stroke-opacity:1; fill:none\" points=\"\n",
       "  1238.43,1474.16 1238.43,1455.27 \n",
       "  \"/>\n",
       "<polyline clip-path=\"url(#clip200)\" style=\"stroke:#000000; stroke-linecap:butt; stroke-linejoin:round; stroke-width:4; stroke-opacity:1; fill:none\" points=\"\n",
       "  1649.48,1474.16 1649.48,1455.27 \n",
       "  \"/>\n",
       "<polyline clip-path=\"url(#clip200)\" style=\"stroke:#000000; stroke-linecap:butt; stroke-linejoin:round; stroke-width:4; stroke-opacity:1; fill:none\" points=\"\n",
       "  2060.54,1474.16 2060.54,1455.27 \n",
       "  \"/>\n",
       "<path clip-path=\"url(#clip200)\" d=\"M416.313 1505.08 Q412.702 1505.08 410.873 1508.65 Q409.068 1512.19 409.068 1519.32 Q409.068 1526.43 410.873 1529.99 Q412.702 1533.53 416.313 1533.53 Q419.947 1533.53 421.753 1529.99 Q423.582 1526.43 423.582 1519.32 Q423.582 1512.19 421.753 1508.65 Q419.947 1505.08 416.313 1505.08 M416.313 1501.38 Q422.123 1501.38 425.179 1505.99 Q428.257 1510.57 428.257 1519.32 Q428.257 1528.05 425.179 1532.65 Q422.123 1537.24 416.313 1537.24 Q410.503 1537.24 407.424 1532.65 Q404.369 1528.05 404.369 1519.32 Q404.369 1510.57 407.424 1505.99 Q410.503 1501.38 416.313 1501.38 Z\" fill=\"#000000\" fill-rule=\"evenodd\" fill-opacity=\"1\" /><path clip-path=\"url(#clip200)\" d=\"M723.809 1548.29 L740.129 1548.29 L740.129 1552.22 L718.184 1552.22 L718.184 1548.29 Q720.846 1545.53 725.43 1540.91 Q730.036 1536.25 731.217 1534.91 Q733.462 1532.39 734.342 1530.65 Q735.244 1528.89 735.244 1527.2 Q735.244 1524.45 733.3 1522.71 Q731.379 1520.97 728.277 1520.97 Q726.078 1520.97 723.624 1521.74 Q721.193 1522.5 718.416 1524.05 L718.416 1519.33 Q721.24 1518.2 723.693 1517.62 Q726.147 1517.04 728.184 1517.04 Q733.555 1517.04 736.749 1519.72 Q739.943 1522.41 739.943 1526.9 Q739.943 1529.03 739.133 1530.95 Q738.346 1532.85 736.24 1535.44 Q735.661 1536.11 732.559 1539.33 Q729.457 1542.53 723.809 1548.29 Z\" fill=\"#000000\" fill-rule=\"evenodd\" fill-opacity=\"1\" /><path clip-path=\"url(#clip200)\" d=\"M749.943 1546.35 L754.828 1546.35 L754.828 1552.22 L749.943 1552.22 L749.943 1546.35 Z\" fill=\"#000000\" fill-rule=\"evenodd\" fill-opacity=\"1\" /><path clip-path=\"url(#clip200)\" d=\"M765.059 1517.66 L783.415 1517.66 L783.415 1521.6 L769.341 1521.6 L769.341 1530.07 Q770.36 1529.72 771.378 1529.56 Q772.397 1529.38 773.415 1529.38 Q779.202 1529.38 782.582 1532.55 Q785.962 1535.72 785.962 1541.14 Q785.962 1546.72 782.489 1549.82 Q779.017 1552.9 772.698 1552.9 Q770.522 1552.9 768.253 1552.53 Q766.008 1552.16 763.601 1551.41 L763.601 1546.72 Q765.684 1547.85 767.906 1548.41 Q770.128 1548.96 772.605 1548.96 Q776.61 1548.96 778.948 1546.85 Q781.286 1544.75 781.286 1541.14 Q781.286 1537.53 778.948 1535.42 Q776.61 1533.31 772.605 1533.31 Q770.73 1533.31 768.855 1533.73 Q767.003 1534.15 765.059 1535.03 L765.059 1517.66 Z\" fill=\"#000000\" fill-rule=\"evenodd\" fill-opacity=\"1\" /><path clip-path=\"url(#clip200)\" d=\"M805.174 1520.74 Q801.563 1520.74 799.735 1524.31 Q797.929 1527.85 797.929 1534.98 Q797.929 1542.09 799.735 1545.65 Q801.563 1549.19 805.174 1549.19 Q808.809 1549.19 810.614 1545.65 Q812.443 1542.09 812.443 1534.98 Q812.443 1527.85 810.614 1524.31 Q808.809 1520.74 805.174 1520.74 M805.174 1517.04 Q810.985 1517.04 814.04 1521.65 Q817.119 1526.23 817.119 1534.98 Q817.119 1543.71 814.04 1548.31 Q810.985 1552.9 805.174 1552.9 Q799.364 1552.9 796.286 1548.31 Q793.23 1543.71 793.23 1534.98 Q793.23 1526.23 796.286 1521.65 Q799.364 1517.04 805.174 1517.04 Z\" fill=\"#000000\" fill-rule=\"evenodd\" fill-opacity=\"1\" /><path clip-path=\"url(#clip200)\" d=\"M853.508 1526.76 L842.929 1537.39 L853.508 1547.97 L850.753 1550.77 L840.128 1540.14 L829.503 1550.77 L826.772 1547.97 L837.327 1537.39 L826.772 1526.76 L829.503 1523.96 L840.128 1534.59 L850.753 1523.96 L853.508 1526.76 Z\" fill=\"#000000\" fill-rule=\"evenodd\" fill-opacity=\"1\" /><path clip-path=\"url(#clip200)\" d=\"M865.869 1548.29 L873.507 1548.29 L873.507 1521.92 L865.197 1523.59 L865.197 1519.33 L873.461 1517.66 L878.137 1517.66 L878.137 1548.29 L885.776 1548.29 L885.776 1552.22 L865.869 1552.22 L865.869 1548.29 Z\" fill=\"#000000\" fill-rule=\"evenodd\" fill-opacity=\"1\" /><path clip-path=\"url(#clip200)\" d=\"M905.22 1520.74 Q901.609 1520.74 899.78 1524.31 Q897.975 1527.85 897.975 1534.98 Q897.975 1542.09 899.78 1545.65 Q901.609 1549.19 905.22 1549.19 Q908.854 1549.19 910.66 1545.65 Q912.489 1542.09 912.489 1534.98 Q912.489 1527.85 910.66 1524.31 Q908.854 1520.74 905.22 1520.74 M905.22 1517.04 Q911.03 1517.04 914.086 1521.65 Q917.165 1526.23 917.165 1534.98 Q917.165 1543.71 914.086 1548.31 Q911.03 1552.9 905.22 1552.9 Q899.41 1552.9 896.331 1548.31 Q893.276 1543.71 893.276 1534.98 Q893.276 1526.23 896.331 1521.65 Q899.41 1517.04 905.22 1517.04 Z\" fill=\"#000000\" fill-rule=\"evenodd\" fill-opacity=\"1\" /><path clip-path=\"url(#clip200)\" d=\"M927.189 1509.26 Q924.631 1509.26 923.127 1511.01 Q921.641 1512.76 921.641 1515.81 Q921.641 1518.83 923.127 1520.6 Q924.631 1522.35 927.189 1522.35 Q929.747 1522.35 931.233 1520.6 Q932.737 1518.83 932.737 1515.81 Q932.737 1512.76 931.233 1511.01 Q929.747 1509.26 927.189 1509.26 M934.731 1497.35 L934.731 1500.82 Q933.302 1500.14 931.835 1499.78 Q930.386 1499.42 928.957 1499.42 Q925.196 1499.42 923.202 1501.96 Q921.227 1504.5 920.945 1509.64 Q922.055 1508 923.729 1507.13 Q925.402 1506.25 927.415 1506.25 Q931.647 1506.25 934.092 1508.83 Q936.555 1511.39 936.555 1515.81 Q936.555 1520.13 933.998 1522.75 Q931.44 1525.36 927.189 1525.36 Q922.318 1525.36 919.741 1521.64 Q917.165 1517.89 917.165 1510.8 Q917.165 1504.14 920.324 1500.19 Q923.484 1496.23 928.807 1496.23 Q930.236 1496.23 931.684 1496.51 Q933.151 1496.79 934.731 1497.35 Z\" fill=\"#000000\" fill-rule=\"evenodd\" fill-opacity=\"1\" /><path clip-path=\"url(#clip200)\" d=\"M1130.79 1517.66 L1149.15 1517.66 L1149.15 1521.6 L1135.07 1521.6 L1135.07 1530.07 Q1136.09 1529.72 1137.11 1529.56 Q1138.13 1529.38 1139.15 1529.38 Q1144.94 1529.38 1148.31 1532.55 Q1151.69 1535.72 1151.69 1541.14 Q1151.69 1546.72 1148.22 1549.82 Q1144.75 1552.9 1138.43 1552.9 Q1136.25 1552.9 1133.99 1552.53 Q1131.74 1552.16 1129.33 1551.41 L1129.33 1546.72 Q1131.42 1547.85 1133.64 1548.41 Q1135.86 1548.96 1138.34 1548.96 Q1142.34 1548.96 1144.68 1546.85 Q1147.02 1544.75 1147.02 1541.14 Q1147.02 1537.53 1144.68 1535.42 Q1142.34 1533.31 1138.34 1533.31 Q1136.46 1533.31 1134.59 1533.73 Q1132.74 1534.15 1130.79 1535.03 L1130.79 1517.66 Z\" fill=\"#000000\" fill-rule=\"evenodd\" fill-opacity=\"1\" /><path clip-path=\"url(#clip200)\" d=\"M1160.91 1546.35 L1165.79 1546.35 L1165.79 1552.22 L1160.91 1552.22 L1160.91 1546.35 Z\" fill=\"#000000\" fill-rule=\"evenodd\" fill-opacity=\"1\" /><path clip-path=\"url(#clip200)\" d=\"M1185.98 1520.74 Q1182.37 1520.74 1180.54 1524.31 Q1178.73 1527.85 1178.73 1534.98 Q1178.73 1542.09 1180.54 1545.65 Q1182.37 1549.19 1185.98 1549.19 Q1189.61 1549.19 1191.42 1545.65 Q1193.25 1542.09 1193.25 1534.98 Q1193.25 1527.85 1191.42 1524.31 Q1189.61 1520.74 1185.98 1520.74 M1185.98 1517.04 Q1191.79 1517.04 1194.84 1521.65 Q1197.92 1526.23 1197.92 1534.98 Q1197.92 1543.71 1194.84 1548.31 Q1191.79 1552.9 1185.98 1552.9 Q1180.17 1552.9 1177.09 1548.31 Q1174.03 1543.71 1174.03 1534.98 Q1174.03 1526.23 1177.09 1521.65 Q1180.17 1517.04 1185.98 1517.04 Z\" fill=\"#000000\" fill-rule=\"evenodd\" fill-opacity=\"1\" /><path clip-path=\"url(#clip200)\" d=\"M1216.14 1520.74 Q1212.53 1520.74 1210.7 1524.31 Q1208.89 1527.85 1208.89 1534.98 Q1208.89 1542.09 1210.7 1545.65 Q1212.53 1549.19 1216.14 1549.19 Q1219.77 1549.19 1221.58 1545.65 Q1223.41 1542.09 1223.41 1534.98 Q1223.41 1527.85 1221.58 1524.31 Q1219.77 1520.74 1216.14 1520.74 M1216.14 1517.04 Q1221.95 1517.04 1225 1521.65 Q1228.08 1526.23 1228.08 1534.98 Q1228.08 1543.71 1225 1548.31 Q1221.95 1552.9 1216.14 1552.9 Q1210.33 1552.9 1207.25 1548.31 Q1204.19 1543.71 1204.19 1534.98 Q1204.19 1526.23 1207.25 1521.65 Q1210.33 1517.04 1216.14 1517.04 Z\" fill=\"#000000\" fill-rule=\"evenodd\" fill-opacity=\"1\" /><path clip-path=\"url(#clip200)\" d=\"M1264.47 1526.76 L1253.89 1537.39 L1264.47 1547.97 L1261.72 1550.77 L1251.09 1540.14 L1240.47 1550.77 L1237.74 1547.97 L1248.29 1537.39 L1237.74 1526.76 L1240.47 1523.96 L1251.09 1534.59 L1261.72 1523.96 L1264.47 1526.76 Z\" fill=\"#000000\" fill-rule=\"evenodd\" fill-opacity=\"1\" /><path clip-path=\"url(#clip200)\" d=\"M1276.83 1548.29 L1284.47 1548.29 L1284.47 1521.92 L1276.16 1523.59 L1276.16 1519.33 L1284.43 1517.66 L1289.1 1517.66 L1289.1 1548.29 L1296.74 1548.29 L1296.74 1552.22 L1276.83 1552.22 L1276.83 1548.29 Z\" fill=\"#000000\" fill-rule=\"evenodd\" fill-opacity=\"1\" /><path clip-path=\"url(#clip200)\" d=\"M1316.18 1520.74 Q1312.57 1520.74 1310.74 1524.31 Q1308.94 1527.85 1308.94 1534.98 Q1308.94 1542.09 1310.74 1545.65 Q1312.57 1549.19 1316.18 1549.19 Q1319.82 1549.19 1321.62 1545.65 Q1323.45 1542.09 1323.45 1534.98 Q1323.45 1527.85 1321.62 1524.31 Q1319.82 1520.74 1316.18 1520.74 M1316.18 1517.04 Q1321.99 1517.04 1325.05 1521.65 Q1328.13 1526.23 1328.13 1534.98 Q1328.13 1543.71 1325.05 1548.31 Q1321.99 1552.9 1316.18 1552.9 Q1310.37 1552.9 1307.3 1548.31 Q1304.24 1543.71 1304.24 1534.98 Q1304.24 1526.23 1307.3 1521.65 Q1310.37 1517.04 1316.18 1517.04 Z\" fill=\"#000000\" fill-rule=\"evenodd\" fill-opacity=\"1\" /><path clip-path=\"url(#clip200)\" d=\"M1338.15 1509.26 Q1335.6 1509.26 1334.09 1511.01 Q1332.61 1512.76 1332.61 1515.81 Q1332.61 1518.83 1334.09 1520.6 Q1335.6 1522.35 1338.15 1522.35 Q1340.71 1522.35 1342.2 1520.6 Q1343.7 1518.83 1343.7 1515.81 Q1343.7 1512.76 1342.2 1511.01 Q1340.71 1509.26 1338.15 1509.26 M1345.7 1497.35 L1345.7 1500.82 Q1344.27 1500.14 1342.8 1499.78 Q1341.35 1499.42 1339.92 1499.42 Q1336.16 1499.42 1334.17 1501.96 Q1332.19 1504.5 1331.91 1509.64 Q1333.02 1508 1334.69 1507.13 Q1336.37 1506.25 1338.38 1506.25 Q1342.61 1506.25 1345.06 1508.83 Q1347.52 1511.39 1347.52 1515.81 Q1347.52 1520.13 1344.96 1522.75 Q1342.4 1525.36 1338.15 1525.36 Q1333.28 1525.36 1330.71 1521.64 Q1328.13 1517.89 1328.13 1510.8 Q1328.13 1504.14 1331.29 1500.19 Q1334.45 1496.23 1339.77 1496.23 Q1341.2 1496.23 1342.65 1496.51 Q1344.12 1496.79 1345.7 1497.35 Z\" fill=\"#000000\" fill-rule=\"evenodd\" fill-opacity=\"1\" /><path clip-path=\"url(#clip200)\" d=\"M1540.51 1517.66 L1562.73 1517.66 L1562.73 1519.66 L1550.18 1552.22 L1545.3 1552.22 L1557.1 1521.6 L1540.51 1521.6 L1540.51 1517.66 Z\" fill=\"#000000\" fill-rule=\"evenodd\" fill-opacity=\"1\" /><path clip-path=\"url(#clip200)\" d=\"M1571.85 1546.35 L1576.73 1546.35 L1576.73 1552.22 L1571.85 1552.22 L1571.85 1546.35 Z\" fill=\"#000000\" fill-rule=\"evenodd\" fill-opacity=\"1\" /><path clip-path=\"url(#clip200)\" d=\"M1586.96 1517.66 L1605.32 1517.66 L1605.32 1521.6 L1591.25 1521.6 L1591.25 1530.07 Q1592.27 1529.72 1593.28 1529.56 Q1594.3 1529.38 1595.32 1529.38 Q1601.11 1529.38 1604.49 1532.55 Q1607.87 1535.72 1607.87 1541.14 Q1607.87 1546.72 1604.39 1549.82 Q1600.92 1552.9 1594.6 1552.9 Q1592.43 1552.9 1590.16 1552.53 Q1587.91 1552.16 1585.51 1551.41 L1585.51 1546.72 Q1587.59 1547.85 1589.81 1548.41 Q1592.03 1548.96 1594.51 1548.96 Q1598.52 1548.96 1600.85 1546.85 Q1603.19 1544.75 1603.19 1541.14 Q1603.19 1537.53 1600.85 1535.42 Q1598.52 1533.31 1594.51 1533.31 Q1592.64 1533.31 1590.76 1533.73 Q1588.91 1534.15 1586.96 1535.03 L1586.96 1517.66 Z\" fill=\"#000000\" fill-rule=\"evenodd\" fill-opacity=\"1\" /><path clip-path=\"url(#clip200)\" d=\"M1627.08 1520.74 Q1623.47 1520.74 1621.64 1524.31 Q1619.83 1527.85 1619.83 1534.98 Q1619.83 1542.09 1621.64 1545.65 Q1623.47 1549.19 1627.08 1549.19 Q1630.71 1549.19 1632.52 1545.65 Q1634.35 1542.09 1634.35 1534.98 Q1634.35 1527.85 1632.52 1524.31 Q1630.71 1520.74 1627.08 1520.74 M1627.08 1517.04 Q1632.89 1517.04 1635.95 1521.65 Q1639.02 1526.23 1639.02 1534.98 Q1639.02 1543.71 1635.95 1548.31 Q1632.89 1552.9 1627.08 1552.9 Q1621.27 1552.9 1618.19 1548.31 Q1615.14 1543.71 1615.14 1534.98 Q1615.14 1526.23 1618.19 1521.65 Q1621.27 1517.04 1627.08 1517.04 Z\" fill=\"#000000\" fill-rule=\"evenodd\" fill-opacity=\"1\" /><path clip-path=\"url(#clip200)\" d=\"M1675.41 1526.76 L1664.83 1537.39 L1675.41 1547.97 L1672.66 1550.77 L1662.03 1540.14 L1651.41 1550.77 L1648.68 1547.97 L1659.23 1537.39 L1648.68 1526.76 L1651.41 1523.96 L1662.03 1534.59 L1672.66 1523.96 L1675.41 1526.76 Z\" fill=\"#000000\" fill-rule=\"evenodd\" fill-opacity=\"1\" /><path clip-path=\"url(#clip200)\" d=\"M1687.77 1548.29 L1695.41 1548.29 L1695.41 1521.92 L1687.1 1523.59 L1687.1 1519.33 L1695.37 1517.66 L1700.04 1517.66 L1700.04 1548.29 L1707.68 1548.29 L1707.68 1552.22 L1687.77 1552.22 L1687.77 1548.29 Z\" fill=\"#000000\" fill-rule=\"evenodd\" fill-opacity=\"1\" /><path clip-path=\"url(#clip200)\" d=\"M1727.13 1520.74 Q1723.51 1520.74 1721.69 1524.31 Q1719.88 1527.85 1719.88 1534.98 Q1719.88 1542.09 1721.69 1545.65 Q1723.51 1549.19 1727.13 1549.19 Q1730.76 1549.19 1732.57 1545.65 Q1734.39 1542.09 1734.39 1534.98 Q1734.39 1527.85 1732.57 1524.31 Q1730.76 1520.74 1727.13 1520.74 M1727.13 1517.04 Q1732.94 1517.04 1735.99 1521.65 Q1739.07 1526.23 1739.07 1534.98 Q1739.07 1543.71 1735.99 1548.31 Q1732.94 1552.9 1727.13 1552.9 Q1721.32 1552.9 1718.24 1548.31 Q1715.18 1543.71 1715.18 1534.98 Q1715.18 1526.23 1718.24 1521.65 Q1721.32 1517.04 1727.13 1517.04 Z\" fill=\"#000000\" fill-rule=\"evenodd\" fill-opacity=\"1\" /><path clip-path=\"url(#clip200)\" d=\"M1749.09 1509.26 Q1746.54 1509.26 1745.03 1511.01 Q1743.55 1512.76 1743.55 1515.81 Q1743.55 1518.83 1745.03 1520.6 Q1746.54 1522.35 1749.09 1522.35 Q1751.65 1522.35 1753.14 1520.6 Q1754.64 1518.83 1754.64 1515.81 Q1754.64 1512.76 1753.14 1511.01 Q1751.65 1509.26 1749.09 1509.26 M1756.64 1497.35 L1756.64 1500.82 Q1755.21 1500.14 1753.74 1499.78 Q1752.29 1499.42 1750.86 1499.42 Q1747.1 1499.42 1745.11 1501.96 Q1743.13 1504.5 1742.85 1509.64 Q1743.96 1508 1745.63 1507.13 Q1747.31 1506.25 1749.32 1506.25 Q1753.55 1506.25 1756 1508.83 Q1758.46 1511.39 1758.46 1515.81 Q1758.46 1520.13 1755.9 1522.75 Q1753.34 1525.36 1749.09 1525.36 Q1744.22 1525.36 1741.65 1521.64 Q1739.07 1517.89 1739.07 1510.8 Q1739.07 1504.14 1742.23 1500.19 Q1745.39 1496.23 1750.71 1496.23 Q1752.14 1496.23 1753.59 1496.51 Q1755.06 1496.79 1756.64 1497.35 Z\" fill=\"#000000\" fill-rule=\"evenodd\" fill-opacity=\"1\" /><path clip-path=\"url(#clip200)\" d=\"M1953.56 1548.29 L1961.2 1548.29 L1961.2 1521.92 L1952.89 1523.59 L1952.89 1519.33 L1961.15 1517.66 L1965.83 1517.66 L1965.83 1548.29 L1973.47 1548.29 L1973.47 1552.22 L1953.56 1552.22 L1953.56 1548.29 Z\" fill=\"#000000\" fill-rule=\"evenodd\" fill-opacity=\"1\" /><path clip-path=\"url(#clip200)\" d=\"M1982.91 1546.35 L1987.8 1546.35 L1987.8 1552.22 L1982.91 1552.22 L1982.91 1546.35 Z\" fill=\"#000000\" fill-rule=\"evenodd\" fill-opacity=\"1\" /><path clip-path=\"url(#clip200)\" d=\"M2007.98 1520.74 Q2004.37 1520.74 2002.54 1524.31 Q2000.74 1527.85 2000.74 1534.98 Q2000.74 1542.09 2002.54 1545.65 Q2004.37 1549.19 2007.98 1549.19 Q2011.62 1549.19 2013.42 1545.65 Q2015.25 1542.09 2015.25 1534.98 Q2015.25 1527.85 2013.42 1524.31 Q2011.62 1520.74 2007.98 1520.74 M2007.98 1517.04 Q2013.79 1517.04 2016.85 1521.65 Q2019.93 1526.23 2019.93 1534.98 Q2019.93 1543.71 2016.85 1548.31 Q2013.79 1552.9 2007.98 1552.9 Q2002.17 1552.9 1999.09 1548.31 Q1996.04 1543.71 1996.04 1534.98 Q1996.04 1526.23 1999.09 1521.65 Q2002.17 1517.04 2007.98 1517.04 Z\" fill=\"#000000\" fill-rule=\"evenodd\" fill-opacity=\"1\" /><path clip-path=\"url(#clip200)\" d=\"M2038.14 1520.74 Q2034.53 1520.74 2032.7 1524.31 Q2030.9 1527.85 2030.9 1534.98 Q2030.9 1542.09 2032.7 1545.65 Q2034.53 1549.19 2038.14 1549.19 Q2041.78 1549.19 2043.58 1545.65 Q2045.41 1542.09 2045.41 1534.98 Q2045.41 1527.85 2043.58 1524.31 Q2041.78 1520.74 2038.14 1520.74 M2038.14 1517.04 Q2043.95 1517.04 2047.01 1521.65 Q2050.09 1526.23 2050.09 1534.98 Q2050.09 1543.71 2047.01 1548.31 Q2043.95 1552.9 2038.14 1552.9 Q2032.33 1552.9 2029.26 1548.31 Q2026.2 1543.71 2026.2 1534.98 Q2026.2 1526.23 2029.26 1521.65 Q2032.33 1517.04 2038.14 1517.04 Z\" fill=\"#000000\" fill-rule=\"evenodd\" fill-opacity=\"1\" /><path clip-path=\"url(#clip200)\" d=\"M2086.48 1526.76 L2075.9 1537.39 L2086.48 1547.97 L2083.72 1550.77 L2073.1 1540.14 L2062.47 1550.77 L2059.74 1547.97 L2070.3 1537.39 L2059.74 1526.76 L2062.47 1523.96 L2073.1 1534.59 L2083.72 1523.96 L2086.48 1526.76 Z\" fill=\"#000000\" fill-rule=\"evenodd\" fill-opacity=\"1\" /><path clip-path=\"url(#clip200)\" d=\"M2098.84 1548.29 L2106.48 1548.29 L2106.48 1521.92 L2098.17 1523.59 L2098.17 1519.33 L2106.43 1517.66 L2111.11 1517.66 L2111.11 1548.29 L2118.75 1548.29 L2118.75 1552.22 L2098.84 1552.22 L2098.84 1548.29 Z\" fill=\"#000000\" fill-rule=\"evenodd\" fill-opacity=\"1\" /><path clip-path=\"url(#clip200)\" d=\"M2138.19 1520.74 Q2134.58 1520.74 2132.75 1524.31 Q2130.94 1527.85 2130.94 1534.98 Q2130.94 1542.09 2132.75 1545.65 Q2134.58 1549.19 2138.19 1549.19 Q2141.82 1549.19 2143.63 1545.65 Q2145.46 1542.09 2145.46 1534.98 Q2145.46 1527.85 2143.63 1524.31 Q2141.82 1520.74 2138.19 1520.74 M2138.19 1517.04 Q2144 1517.04 2147.06 1521.65 Q2150.13 1526.23 2150.13 1534.98 Q2150.13 1543.71 2147.06 1548.31 Q2144 1552.9 2138.19 1552.9 Q2132.38 1552.9 2129.3 1548.31 Q2126.25 1543.71 2126.25 1534.98 Q2126.25 1526.23 2129.3 1521.65 Q2132.38 1517.04 2138.19 1517.04 Z\" fill=\"#000000\" fill-rule=\"evenodd\" fill-opacity=\"1\" /><path clip-path=\"url(#clip200)\" d=\"M2150.13 1496.73 L2168.19 1496.73 L2168.19 1498.35 L2158 1524.81 L2154.03 1524.81 L2163.62 1499.93 L2150.13 1499.93 L2150.13 1496.73 Z\" fill=\"#000000\" fill-rule=\"evenodd\" fill-opacity=\"1\" /><polyline clip-path=\"url(#clip202)\" style=\"stroke:#000000; stroke-linecap:butt; stroke-linejoin:round; stroke-width:2; stroke-opacity:0.1; fill:none\" points=\"\n",
       "  335.381,1433.78 2352.76,1433.78 \n",
       "  \"/>\n",
       "<polyline clip-path=\"url(#clip202)\" style=\"stroke:#000000; stroke-linecap:butt; stroke-linejoin:round; stroke-width:2; stroke-opacity:0.1; fill:none\" points=\"\n",
       "  335.381,1133.27 2352.76,1133.27 \n",
       "  \"/>\n",
       "<polyline clip-path=\"url(#clip202)\" style=\"stroke:#000000; stroke-linecap:butt; stroke-linejoin:round; stroke-width:2; stroke-opacity:0.1; fill:none\" points=\"\n",
       "  335.381,832.768 2352.76,832.768 \n",
       "  \"/>\n",
       "<polyline clip-path=\"url(#clip202)\" style=\"stroke:#000000; stroke-linecap:butt; stroke-linejoin:round; stroke-width:2; stroke-opacity:0.1; fill:none\" points=\"\n",
       "  335.381,532.261 2352.76,532.261 \n",
       "  \"/>\n",
       "<polyline clip-path=\"url(#clip202)\" style=\"stroke:#000000; stroke-linecap:butt; stroke-linejoin:round; stroke-width:2; stroke-opacity:0.1; fill:none\" points=\"\n",
       "  335.381,231.755 2352.76,231.755 \n",
       "  \"/>\n",
       "<polyline clip-path=\"url(#clip200)\" style=\"stroke:#000000; stroke-linecap:butt; stroke-linejoin:round; stroke-width:4; stroke-opacity:1; fill:none\" points=\"\n",
       "  335.381,1474.16 335.381,47.2441 \n",
       "  \"/>\n",
       "<polyline clip-path=\"url(#clip200)\" style=\"stroke:#000000; stroke-linecap:butt; stroke-linejoin:round; stroke-width:4; stroke-opacity:1; fill:none\" points=\"\n",
       "  335.381,1433.78 354.278,1433.78 \n",
       "  \"/>\n",
       "<polyline clip-path=\"url(#clip200)\" style=\"stroke:#000000; stroke-linecap:butt; stroke-linejoin:round; stroke-width:4; stroke-opacity:1; fill:none\" points=\"\n",
       "  335.381,1133.27 354.278,1133.27 \n",
       "  \"/>\n",
       "<polyline clip-path=\"url(#clip200)\" style=\"stroke:#000000; stroke-linecap:butt; stroke-linejoin:round; stroke-width:4; stroke-opacity:1; fill:none\" points=\"\n",
       "  335.381,832.768 354.278,832.768 \n",
       "  \"/>\n",
       "<polyline clip-path=\"url(#clip200)\" style=\"stroke:#000000; stroke-linecap:butt; stroke-linejoin:round; stroke-width:4; stroke-opacity:1; fill:none\" points=\"\n",
       "  335.381,532.261 354.278,532.261 \n",
       "  \"/>\n",
       "<polyline clip-path=\"url(#clip200)\" style=\"stroke:#000000; stroke-linecap:butt; stroke-linejoin:round; stroke-width:4; stroke-opacity:1; fill:none\" points=\"\n",
       "  335.381,231.755 354.278,231.755 \n",
       "  \"/>\n",
       "<path clip-path=\"url(#clip200)\" d=\"M287.436 1419.58 Q283.825 1419.58 281.996 1423.14 Q280.191 1426.69 280.191 1433.81 Q280.191 1440.92 281.996 1444.49 Q283.825 1448.03 287.436 1448.03 Q291.07 1448.03 292.876 1444.49 Q294.705 1440.92 294.705 1433.81 Q294.705 1426.69 292.876 1423.14 Q291.07 1419.58 287.436 1419.58 M287.436 1415.88 Q293.246 1415.88 296.302 1420.48 Q299.381 1425.06 299.381 1433.81 Q299.381 1442.54 296.302 1447.15 Q293.246 1451.73 287.436 1451.73 Q281.626 1451.73 278.547 1447.15 Q275.492 1442.54 275.492 1433.81 Q275.492 1425.06 278.547 1420.48 Q281.626 1415.88 287.436 1415.88 Z\" fill=\"#000000\" fill-rule=\"evenodd\" fill-opacity=\"1\" /><path clip-path=\"url(#clip200)\" d=\"M56.6171 1153.07 L72.9365 1153.07 L72.9365 1157 L50.9921 1157 L50.9921 1153.07 Q53.6541 1150.31 58.2375 1145.68 Q62.8439 1141.03 64.0245 1139.69 Q66.2698 1137.16 67.1494 1135.43 Q68.0522 1133.67 68.0522 1131.98 Q68.0522 1129.22 66.1078 1127.49 Q64.1865 1125.75 61.0847 1125.75 Q58.8856 1125.75 56.4319 1126.52 Q54.0014 1127.28 51.2236 1128.83 L51.2236 1124.11 Q54.0477 1122.97 56.5014 1122.4 Q58.955 1121.82 60.9921 1121.82 Q66.3624 1121.82 69.5568 1124.5 Q72.7513 1127.19 72.7513 1131.68 Q72.7513 1133.81 71.9411 1135.73 Q71.1541 1137.63 69.0476 1140.22 Q68.4689 1140.89 65.367 1144.11 Q62.2652 1147.3 56.6171 1153.07 Z\" fill=\"#000000\" fill-rule=\"evenodd\" fill-opacity=\"1\" /><path clip-path=\"url(#clip200)\" d=\"M82.7512 1151.12 L87.6354 1151.12 L87.6354 1157 L82.7512 1157 L82.7512 1151.12 Z\" fill=\"#000000\" fill-rule=\"evenodd\" fill-opacity=\"1\" /><path clip-path=\"url(#clip200)\" d=\"M97.8669 1122.44 L116.223 1122.44 L116.223 1126.38 L102.149 1126.38 L102.149 1134.85 Q103.168 1134.5 104.186 1134.34 Q105.205 1134.15 106.223 1134.15 Q112.01 1134.15 115.39 1137.33 Q118.77 1140.5 118.77 1145.91 Q118.77 1151.49 115.297 1154.59 Q111.825 1157.67 105.506 1157.67 Q103.33 1157.67 101.061 1157.3 Q98.8159 1156.93 96.4085 1156.19 L96.4085 1151.49 Q98.4919 1152.63 100.714 1153.18 Q102.936 1153.74 105.413 1153.74 Q109.418 1153.74 111.756 1151.63 Q114.094 1149.52 114.094 1145.91 Q114.094 1142.3 111.756 1140.2 Q109.418 1138.09 105.413 1138.09 Q103.538 1138.09 101.663 1138.51 Q99.8113 1138.92 97.8669 1139.8 L97.8669 1122.44 Z\" fill=\"#000000\" fill-rule=\"evenodd\" fill-opacity=\"1\" /><path clip-path=\"url(#clip200)\" d=\"M137.982 1125.52 Q134.371 1125.52 132.543 1129.08 Q130.737 1132.63 130.737 1139.76 Q130.737 1146.86 132.543 1150.43 Q134.371 1153.97 137.982 1153.97 Q141.617 1153.97 143.422 1150.43 Q145.251 1146.86 145.251 1139.76 Q145.251 1132.63 143.422 1129.08 Q141.617 1125.52 137.982 1125.52 M137.982 1121.82 Q143.793 1121.82 146.848 1126.42 Q149.927 1131.01 149.927 1139.76 Q149.927 1148.48 146.848 1153.09 Q143.793 1157.67 137.982 1157.67 Q132.172 1157.67 129.094 1153.09 Q126.038 1148.48 126.038 1139.76 Q126.038 1131.01 129.094 1126.42 Q132.172 1121.82 137.982 1121.82 Z\" fill=\"#000000\" fill-rule=\"evenodd\" fill-opacity=\"1\" /><path clip-path=\"url(#clip200)\" d=\"M186.315 1131.54 L175.737 1142.16 L186.315 1152.74 L183.561 1155.54 L172.936 1144.92 L162.311 1155.54 L159.58 1152.74 L170.135 1142.16 L159.58 1131.54 L162.311 1128.74 L172.936 1139.36 L183.561 1128.74 L186.315 1131.54 Z\" fill=\"#000000\" fill-rule=\"evenodd\" fill-opacity=\"1\" /><path clip-path=\"url(#clip200)\" d=\"M198.677 1153.07 L206.315 1153.07 L206.315 1126.7 L198.005 1128.37 L198.005 1124.11 L206.269 1122.44 L210.945 1122.44 L210.945 1153.07 L218.584 1153.07 L218.584 1157 L198.677 1157 L198.677 1153.07 Z\" fill=\"#000000\" fill-rule=\"evenodd\" fill-opacity=\"1\" /><path clip-path=\"url(#clip200)\" d=\"M238.028 1125.52 Q234.417 1125.52 232.588 1129.08 Q230.783 1132.63 230.783 1139.76 Q230.783 1146.86 232.588 1150.43 Q234.417 1153.97 238.028 1153.97 Q241.662 1153.97 243.468 1150.43 Q245.297 1146.86 245.297 1139.76 Q245.297 1132.63 243.468 1129.08 Q241.662 1125.52 238.028 1125.52 M238.028 1121.82 Q243.838 1121.82 246.894 1126.42 Q249.973 1131.01 249.973 1139.76 Q249.973 1148.48 246.894 1153.09 Q243.838 1157.67 238.028 1157.67 Q232.218 1157.67 229.139 1153.09 Q226.084 1148.48 226.084 1139.76 Q226.084 1131.01 229.139 1126.42 Q232.218 1121.82 238.028 1121.82 Z\" fill=\"#000000\" fill-rule=\"evenodd\" fill-opacity=\"1\" /><path clip-path=\"url(#clip200)\" d=\"M249.973 1115.92 L274.084 1115.92 L274.084 1119.12 L249.973 1119.12 L249.973 1115.92 Z\" fill=\"#000000\" fill-rule=\"evenodd\" fill-opacity=\"1\" /><path clip-path=\"url(#clip200)\" d=\"M281.325 1101.51 L299.381 1101.51 L299.381 1103.13 L289.187 1129.59 L285.218 1129.59 L294.81 1104.71 L281.325 1104.71 L281.325 1101.51 Z\" fill=\"#000000\" fill-rule=\"evenodd\" fill-opacity=\"1\" /><path clip-path=\"url(#clip200)\" d=\"M52.6356 821.935 L70.992 821.935 L70.992 825.87 L56.918 825.87 L56.918 834.342 Q57.9365 833.995 58.955 833.833 Q59.9736 833.648 60.9921 833.648 Q66.7791 833.648 70.1587 836.819 Q73.5383 839.991 73.5383 845.407 Q73.5383 850.986 70.0661 854.088 Q66.5939 857.166 60.2745 857.166 Q58.0986 857.166 55.8301 856.796 Q53.5847 856.426 51.1773 855.685 L51.1773 850.986 Q53.2606 852.12 55.4828 852.676 Q57.7051 853.231 60.1819 853.231 Q64.1865 853.231 66.5245 851.125 Q68.8624 849.018 68.8624 845.407 Q68.8624 841.796 66.5245 839.69 Q64.1865 837.583 60.1819 837.583 Q58.3069 837.583 56.4319 838 Q54.5801 838.417 52.6356 839.296 L52.6356 821.935 Z\" fill=\"#000000\" fill-rule=\"evenodd\" fill-opacity=\"1\" /><path clip-path=\"url(#clip200)\" d=\"M82.7512 850.616 L87.6354 850.616 L87.6354 856.495 L82.7512 856.495 L82.7512 850.616 Z\" fill=\"#000000\" fill-rule=\"evenodd\" fill-opacity=\"1\" /><path clip-path=\"url(#clip200)\" d=\"M107.821 825.014 Q104.209 825.014 102.381 828.579 Q100.575 832.12 100.575 839.25 Q100.575 846.356 102.381 849.921 Q104.209 853.463 107.821 853.463 Q111.455 853.463 113.26 849.921 Q115.089 846.356 115.089 839.25 Q115.089 832.12 113.26 828.579 Q111.455 825.014 107.821 825.014 M107.821 821.31 Q113.631 821.31 116.686 825.917 Q119.765 830.5 119.765 839.25 Q119.765 847.977 116.686 852.583 Q113.631 857.166 107.821 857.166 Q102.01 857.166 98.9317 852.583 Q95.8761 847.977 95.8761 839.25 Q95.8761 830.5 98.9317 825.917 Q102.01 821.31 107.821 821.31 Z\" fill=\"#000000\" fill-rule=\"evenodd\" fill-opacity=\"1\" /><path clip-path=\"url(#clip200)\" d=\"M137.982 825.014 Q134.371 825.014 132.543 828.579 Q130.737 832.12 130.737 839.25 Q130.737 846.356 132.543 849.921 Q134.371 853.463 137.982 853.463 Q141.617 853.463 143.422 849.921 Q145.251 846.356 145.251 839.25 Q145.251 832.12 143.422 828.579 Q141.617 825.014 137.982 825.014 M137.982 821.31 Q143.793 821.31 146.848 825.917 Q149.927 830.5 149.927 839.25 Q149.927 847.977 146.848 852.583 Q143.793 857.166 137.982 857.166 Q132.172 857.166 129.094 852.583 Q126.038 847.977 126.038 839.25 Q126.038 830.5 129.094 825.917 Q132.172 821.31 137.982 821.31 Z\" fill=\"#000000\" fill-rule=\"evenodd\" fill-opacity=\"1\" /><path clip-path=\"url(#clip200)\" d=\"M186.315 831.032 L175.737 841.657 L186.315 852.236 L183.561 855.037 L172.936 844.412 L162.311 855.037 L159.58 852.236 L170.135 841.657 L159.58 831.032 L162.311 828.231 L172.936 838.856 L183.561 828.231 L186.315 831.032 Z\" fill=\"#000000\" fill-rule=\"evenodd\" fill-opacity=\"1\" /><path clip-path=\"url(#clip200)\" d=\"M198.677 852.56 L206.315 852.56 L206.315 826.194 L198.005 827.861 L198.005 823.602 L206.269 821.935 L210.945 821.935 L210.945 852.56 L218.584 852.56 L218.584 856.495 L198.677 856.495 L198.677 852.56 Z\" fill=\"#000000\" fill-rule=\"evenodd\" fill-opacity=\"1\" /><path clip-path=\"url(#clip200)\" d=\"M238.028 825.014 Q234.417 825.014 232.588 828.579 Q230.783 832.12 230.783 839.25 Q230.783 846.356 232.588 849.921 Q234.417 853.463 238.028 853.463 Q241.662 853.463 243.468 849.921 Q245.297 846.356 245.297 839.25 Q245.297 832.12 243.468 828.579 Q241.662 825.014 238.028 825.014 M238.028 821.31 Q243.838 821.31 246.894 825.917 Q249.973 830.5 249.973 839.25 Q249.973 847.977 246.894 852.583 Q243.838 857.166 238.028 857.166 Q232.218 857.166 229.139 852.583 Q226.084 847.977 226.084 839.25 Q226.084 830.5 229.139 825.917 Q232.218 821.31 238.028 821.31 Z\" fill=\"#000000\" fill-rule=\"evenodd\" fill-opacity=\"1\" /><path clip-path=\"url(#clip200)\" d=\"M249.973 815.411 L274.084 815.411 L274.084 818.609 L249.973 818.609 L249.973 815.411 Z\" fill=\"#000000\" fill-rule=\"evenodd\" fill-opacity=\"1\" /><path clip-path=\"url(#clip200)\" d=\"M281.325 801.005 L299.381 801.005 L299.381 802.622 L289.187 829.085 L285.218 829.085 L294.81 804.202 L281.325 804.202 L281.325 801.005 Z\" fill=\"#000000\" fill-rule=\"evenodd\" fill-opacity=\"1\" /><path clip-path=\"url(#clip200)\" d=\"M51.4088 521.429 L73.6309 521.429 L73.6309 523.42 L61.0847 555.989 L56.2004 555.989 L68.0059 525.364 L51.4088 525.364 L51.4088 521.429 Z\" fill=\"#000000\" fill-rule=\"evenodd\" fill-opacity=\"1\" /><path clip-path=\"url(#clip200)\" d=\"M82.7512 550.109 L87.6354 550.109 L87.6354 555.989 L82.7512 555.989 L82.7512 550.109 Z\" fill=\"#000000\" fill-rule=\"evenodd\" fill-opacity=\"1\" /><path clip-path=\"url(#clip200)\" d=\"M97.8669 521.429 L116.223 521.429 L116.223 525.364 L102.149 525.364 L102.149 533.836 Q103.168 533.489 104.186 533.327 Q105.205 533.142 106.223 533.142 Q112.01 533.142 115.39 536.313 Q118.77 539.484 118.77 544.901 Q118.77 550.48 115.297 553.581 Q111.825 556.66 105.506 556.66 Q103.33 556.66 101.061 556.29 Q98.8159 555.919 96.4085 555.179 L96.4085 550.48 Q98.4919 551.614 100.714 552.169 Q102.936 552.725 105.413 552.725 Q109.418 552.725 111.756 550.618 Q114.094 548.512 114.094 544.901 Q114.094 541.29 111.756 539.183 Q109.418 537.077 105.413 537.077 Q103.538 537.077 101.663 537.494 Q99.8113 537.91 97.8669 538.79 L97.8669 521.429 Z\" fill=\"#000000\" fill-rule=\"evenodd\" fill-opacity=\"1\" /><path clip-path=\"url(#clip200)\" d=\"M137.982 524.508 Q134.371 524.508 132.543 528.072 Q130.737 531.614 130.737 538.744 Q130.737 545.85 132.543 549.415 Q134.371 552.956 137.982 552.956 Q141.617 552.956 143.422 549.415 Q145.251 545.85 145.251 538.744 Q145.251 531.614 143.422 528.072 Q141.617 524.508 137.982 524.508 M137.982 520.804 Q143.793 520.804 146.848 525.41 Q149.927 529.994 149.927 538.744 Q149.927 547.47 146.848 552.077 Q143.793 556.66 137.982 556.66 Q132.172 556.66 129.094 552.077 Q126.038 547.47 126.038 538.744 Q126.038 529.994 129.094 525.41 Q132.172 520.804 137.982 520.804 Z\" fill=\"#000000\" fill-rule=\"evenodd\" fill-opacity=\"1\" /><path clip-path=\"url(#clip200)\" d=\"M186.315 530.526 L175.737 541.151 L186.315 551.73 L183.561 554.531 L172.936 543.906 L162.311 554.531 L159.58 551.73 L170.135 541.151 L159.58 530.526 L162.311 527.725 L172.936 538.35 L183.561 527.725 L186.315 530.526 Z\" fill=\"#000000\" fill-rule=\"evenodd\" fill-opacity=\"1\" /><path clip-path=\"url(#clip200)\" d=\"M198.677 552.054 L206.315 552.054 L206.315 525.688 L198.005 527.355 L198.005 523.095 L206.269 521.429 L210.945 521.429 L210.945 552.054 L218.584 552.054 L218.584 555.989 L198.677 555.989 L198.677 552.054 Z\" fill=\"#000000\" fill-rule=\"evenodd\" fill-opacity=\"1\" /><path clip-path=\"url(#clip200)\" d=\"M238.028 524.508 Q234.417 524.508 232.588 528.072 Q230.783 531.614 230.783 538.744 Q230.783 545.85 232.588 549.415 Q234.417 552.956 238.028 552.956 Q241.662 552.956 243.468 549.415 Q245.297 545.85 245.297 538.744 Q245.297 531.614 243.468 528.072 Q241.662 524.508 238.028 524.508 M238.028 520.804 Q243.838 520.804 246.894 525.41 Q249.973 529.994 249.973 538.744 Q249.973 547.47 246.894 552.077 Q243.838 556.66 238.028 556.66 Q232.218 556.66 229.139 552.077 Q226.084 547.47 226.084 538.744 Q226.084 529.994 229.139 525.41 Q232.218 520.804 238.028 520.804 Z\" fill=\"#000000\" fill-rule=\"evenodd\" fill-opacity=\"1\" /><path clip-path=\"url(#clip200)\" d=\"M249.973 514.905 L274.084 514.905 L274.084 518.103 L249.973 518.103 L249.973 514.905 Z\" fill=\"#000000\" fill-rule=\"evenodd\" fill-opacity=\"1\" /><path clip-path=\"url(#clip200)\" d=\"M281.325 500.498 L299.381 500.498 L299.381 502.116 L289.187 528.578 L285.218 528.578 L294.81 503.696 L281.325 503.696 L281.325 500.498 Z\" fill=\"#000000\" fill-rule=\"evenodd\" fill-opacity=\"1\" /><path clip-path=\"url(#clip200)\" d=\"M52.5344 251.547 L60.1732 251.547 L60.1732 225.182 L51.8631 226.848 L51.8631 222.589 L60.1269 220.923 L64.8028 220.923 L64.8028 251.547 L72.4417 251.547 L72.4417 255.483 L52.5344 255.483 L52.5344 251.547 Z\" fill=\"#000000\" fill-rule=\"evenodd\" fill-opacity=\"1\" /><path clip-path=\"url(#clip200)\" d=\"M81.8861 249.603 L86.7703 249.603 L86.7703 255.483 L81.8861 255.483 L81.8861 249.603 Z\" fill=\"#000000\" fill-rule=\"evenodd\" fill-opacity=\"1\" /><path clip-path=\"url(#clip200)\" d=\"M106.955 224.001 Q103.344 224.001 101.516 227.566 Q99.71 231.108 99.71 238.237 Q99.71 245.344 101.516 248.908 Q103.344 252.45 106.955 252.45 Q110.59 252.45 112.395 248.908 Q114.224 245.344 114.224 238.237 Q114.224 231.108 112.395 227.566 Q110.59 224.001 106.955 224.001 M106.955 220.298 Q112.766 220.298 115.821 224.904 Q118.9 229.487 118.9 238.237 Q118.9 246.964 115.821 251.571 Q112.766 256.154 106.955 256.154 Q101.145 256.154 98.0665 251.571 Q95.011 246.964 95.011 238.237 Q95.011 229.487 98.0665 224.904 Q101.145 220.298 106.955 220.298 Z\" fill=\"#000000\" fill-rule=\"evenodd\" fill-opacity=\"1\" /><path clip-path=\"url(#clip200)\" d=\"M137.117 224.001 Q133.506 224.001 131.677 227.566 Q129.872 231.108 129.872 238.237 Q129.872 245.344 131.677 248.908 Q133.506 252.45 137.117 252.45 Q140.751 252.45 142.557 248.908 Q144.386 245.344 144.386 238.237 Q144.386 231.108 142.557 227.566 Q140.751 224.001 137.117 224.001 M137.117 220.298 Q142.927 220.298 145.983 224.904 Q149.062 229.487 149.062 238.237 Q149.062 246.964 145.983 251.571 Q142.927 256.154 137.117 256.154 Q131.307 256.154 128.228 251.571 Q125.173 246.964 125.173 238.237 Q125.173 229.487 128.228 224.904 Q131.307 220.298 137.117 220.298 Z\" fill=\"#000000\" fill-rule=\"evenodd\" fill-opacity=\"1\" /><path clip-path=\"url(#clip200)\" d=\"M185.45 230.02 L174.872 240.645 L185.45 251.223 L182.696 254.024 L172.071 243.399 L161.446 254.024 L158.714 251.223 L169.27 240.645 L158.714 230.02 L161.446 227.219 L172.071 237.844 L182.696 227.219 L185.45 230.02 Z\" fill=\"#000000\" fill-rule=\"evenodd\" fill-opacity=\"1\" /><path clip-path=\"url(#clip200)\" d=\"M197.811 251.547 L205.45 251.547 L205.45 225.182 L197.14 226.848 L197.14 222.589 L205.404 220.923 L210.08 220.923 L210.08 251.547 L217.719 251.547 L217.719 255.483 L197.811 255.483 L197.811 251.547 Z\" fill=\"#000000\" fill-rule=\"evenodd\" fill-opacity=\"1\" /><path clip-path=\"url(#clip200)\" d=\"M237.163 224.001 Q233.552 224.001 231.723 227.566 Q229.918 231.108 229.918 238.237 Q229.918 245.344 231.723 248.908 Q233.552 252.45 237.163 252.45 Q240.797 252.45 242.603 248.908 Q244.431 245.344 244.431 238.237 Q244.431 231.108 242.603 227.566 Q240.797 224.001 237.163 224.001 M237.163 220.298 Q242.973 220.298 246.029 224.904 Q249.107 229.487 249.107 238.237 Q249.107 246.964 246.029 251.571 Q242.973 256.154 237.163 256.154 Q231.353 256.154 228.274 251.571 Q225.219 246.964 225.219 238.237 Q225.219 229.487 228.274 224.904 Q231.353 220.298 237.163 220.298 Z\" fill=\"#000000\" fill-rule=\"evenodd\" fill-opacity=\"1\" /><path clip-path=\"url(#clip200)\" d=\"M249.107 214.399 L273.219 214.399 L273.219 217.596 L249.107 217.596 L249.107 214.399 Z\" fill=\"#000000\" fill-rule=\"evenodd\" fill-opacity=\"1\" /><path clip-path=\"url(#clip200)\" d=\"M290.014 212.518 Q287.456 212.518 285.952 214.267 Q284.466 216.016 284.466 219.063 Q284.466 222.091 285.952 223.859 Q287.456 225.608 290.014 225.608 Q292.572 225.608 294.058 223.859 Q295.563 222.091 295.563 219.063 Q295.563 216.016 294.058 214.267 Q292.572 212.518 290.014 212.518 M297.556 200.613 L297.556 204.073 Q296.127 203.396 294.66 203.039 Q293.212 202.682 291.782 202.682 Q288.021 202.682 286.027 205.221 Q284.052 207.76 283.77 212.894 Q284.88 211.258 286.554 210.393 Q288.228 209.509 290.24 209.509 Q294.472 209.509 296.917 212.086 Q299.381 214.643 299.381 219.063 Q299.381 223.389 296.823 226.003 Q294.265 228.618 290.014 228.618 Q285.143 228.618 282.566 224.894 Q279.99 221.151 279.99 214.06 Q279.99 207.402 283.149 203.453 Q286.309 199.484 291.632 199.484 Q293.061 199.484 294.509 199.766 Q295.976 200.049 297.556 200.613 Z\" fill=\"#000000\" fill-rule=\"evenodd\" fill-opacity=\"1\" /><polyline clip-path=\"url(#clip202)\" style=\"stroke:#009af9; stroke-linecap:butt; stroke-linejoin:round; stroke-width:4; stroke-opacity:1; fill:none\" points=\"\n",
       "  392.476,1433.78 402.04,1433.78 411.604,1433.65 421.167,1433 430.731,1430.23 440.295,1418.87 449.859,1378.2 459.422,1279.67 468.986,1114.17 478.55,899.178 \n",
       "  488.113,664.812 497.677,448.877 507.241,267.551 516.805,130.662 526.368,87.6286 535.932,132.417 545.496,210.64 555.06,299.318 564.623,407.139 574.187,550.426 \n",
       "  583.751,697.778 593.315,801.382 602.878,838.778 612.442,832.399 622.006,833.902 631.57,869.855 641.133,938.511 650.697,1009.98 660.261,1069.65 669.825,1114.23 \n",
       "  679.388,1139.63 688.952,1158.96 698.516,1181.14 708.08,1206.2 717.643,1227.2 727.207,1247.78 736.771,1273.2 746.334,1301.93 755.898,1328.53 765.462,1339.77 \n",
       "  775.026,1340.34 784.589,1341.69 794.153,1347.21 803.717,1355.74 813.281,1366.02 822.844,1376.23 832.408,1380.79 841.972,1382.62 851.536,1386.26 861.099,1389.75 \n",
       "  870.663,1391.21 880.227,1393.37 889.791,1399.04 899.354,1404.11 908.918,1407.38 918.482,1411.36 928.046,1414.29 937.609,1414.95 947.173,1414.52 956.737,1415.56 \n",
       "  966.3,1417.99 975.864,1420.64 985.428,1422.76 994.992,1422.86 1004.56,1422.15 1014.12,1422.37 1023.68,1422.84 1033.25,1422.79 1042.81,1422.91 1052.37,1424.17 \n",
       "  1061.94,1425.62 1071.5,1426.46 1081.07,1427.46 1090.63,1429.05 1100.19,1430.3 1109.76,1430.24 1119.32,1429.88 1128.88,1430.11 1138.45,1430.59 1148.01,1430.11 \n",
       "  1157.58,1429.1 1167.14,1429.41 1176.7,1429.93 1186.27,1430.05 1195.83,1430.42 1205.39,1431.26 1214.96,1432.15 1224.52,1432.24 1234.09,1431.38 1243.65,1430.45 \n",
       "  1253.21,1430.53 1262.78,1431.28 1272.34,1431.79 1281.9,1432.27 1291.47,1432.69 1301.03,1432.59 1310.6,1431.79 1320.16,1431.06 1329.72,1431.3 1339.29,1431.86 \n",
       "  1348.85,1432.19 1358.41,1432.39 1367.98,1432.76 1377.54,1433.19 1387.11,1433.3 1396.67,1433.19 1406.23,1433.11 1415.8,1433.16 1425.36,1433.23 1434.92,1433.13 \n",
       "  1444.49,1432.88 1454.05,1432.74 1463.61,1432.6 1473.18,1432.52 1482.74,1432.66 1492.31,1433 1501.87,1433.3 1511.43,1433.55 1521,1433.61 1530.56,1433.52 \n",
       "  1540.12,1433.54 1549.69,1433.62 1559.25,1433.56 1568.82,1433.49 1578.38,1433.62 1587.94,1433.75 1597.51,1433.78 1607.07,1433.78 1616.63,1433.78 1626.2,1433.78 \n",
       "  1635.76,1433.78 1645.33,1433.78 1654.89,1433.74 1664.45,1433.6 1674.02,1433.48 1683.58,1433.59 1693.14,1433.74 1702.71,1433.77 1712.27,1433.74 1721.84,1433.6 \n",
       "  1731.4,1433.48 1740.96,1433.59 1750.53,1433.74 1760.09,1433.78 1769.65,1433.78 1779.22,1433.78 1788.78,1433.78 1798.35,1433.78 1807.91,1433.78 1817.47,1433.78 \n",
       "  1827.04,1433.78 1836.6,1433.78 1846.16,1433.78 1855.73,1433.78 1865.29,1433.78 1874.86,1433.75 1884.42,1433.63 1893.98,1433.5 1903.55,1433.57 1913.11,1433.71 \n",
       "  1922.67,1433.77 1932.24,1433.78 1941.8,1433.78 1951.37,1433.78 1960.93,1433.78 1970.49,1433.78 1980.06,1433.78 1989.62,1433.78 1999.18,1433.78 2008.75,1433.78 \n",
       "  2018.31,1433.78 2027.88,1433.78 2037.44,1433.78 2047,1433.78 2056.57,1433.78 2066.13,1433.78 2075.69,1433.78 2085.26,1433.78 2094.82,1433.78 2104.39,1433.78 \n",
       "  2113.95,1433.78 2123.51,1433.78 2133.08,1433.78 2142.64,1433.78 2152.2,1433.78 2161.77,1433.78 2171.33,1433.78 2180.9,1433.78 2190.46,1433.78 2200.02,1433.78 \n",
       "  2209.59,1433.78 2219.15,1433.78 2228.71,1433.78 2238.28,1433.74 2247.84,1433.6 2257.41,1433.48 2266.97,1433.59 2276.53,1433.74 2286.1,1433.77 2295.66,1433.78 \n",
       "  \n",
       "  \"/>\n",
       "<path clip-path=\"url(#clip200)\" d=\"\n",
       "M2008.93 198.488 L2285.51 198.488 L2285.51 94.8081 L2008.93 94.8081  Z\n",
       "  \" fill=\"#ffffff\" fill-rule=\"evenodd\" fill-opacity=\"1\"/>\n",
       "<polyline clip-path=\"url(#clip200)\" style=\"stroke:#000000; stroke-linecap:butt; stroke-linejoin:round; stroke-width:4; stroke-opacity:1; fill:none\" points=\"\n",
       "  2008.93,198.488 2285.51,198.488 2285.51,94.8081 2008.93,94.8081 2008.93,198.488 \n",
       "  \"/>\n",
       "<polyline clip-path=\"url(#clip200)\" style=\"stroke:#009af9; stroke-linecap:butt; stroke-linejoin:round; stroke-width:4; stroke-opacity:1; fill:none\" points=\"\n",
       "  2031.34,146.648 2165.83,146.648 \n",
       "  \"/>\n",
       "<path clip-path=\"url(#clip200)\" d=\"M2202.09 166.336 Q2200.29 170.965 2198.57 172.377 Q2196.86 173.789 2193.99 173.789 L2190.59 173.789 L2190.59 170.224 L2193.09 170.224 Q2194.85 170.224 2195.82 169.391 Q2196.79 168.558 2197.97 165.456 L2198.74 163.511 L2188.25 138.002 L2192.76 138.002 L2200.86 158.28 L2208.97 138.002 L2213.48 138.002 L2202.09 166.336 Z\" fill=\"#000000\" fill-rule=\"evenodd\" fill-opacity=\"1\" /><path clip-path=\"url(#clip200)\" d=\"M2220.77 159.993 L2228.41 159.993 L2228.41 133.627 L2220.1 135.294 L2220.1 131.035 L2228.36 129.368 L2233.04 129.368 L2233.04 159.993 L2240.68 159.993 L2240.68 163.928 L2220.77 163.928 L2220.77 159.993 Z\" fill=\"#000000\" fill-rule=\"evenodd\" fill-opacity=\"1\" /></svg>\n"
      ]
     },
     "execution_count": 161,
     "metadata": {},
     "output_type": "execute_result"
    }
   ],
   "source": [
    "density(prices)"
   ]
  },
  {
   "cell_type": "code",
   "execution_count": 163,
   "metadata": {},
   "outputs": [
    {
     "data": {
      "image/svg+xml": [
       "<?xml version=\"1.0\" encoding=\"utf-8\"?>\n",
       "<svg xmlns=\"http://www.w3.org/2000/svg\" xmlns:xlink=\"http://www.w3.org/1999/xlink\" width=\"600\" height=\"400\" viewBox=\"0 0 2400 1600\">\n",
       "<defs>\n",
       "  <clipPath id=\"clip280\">\n",
       "    <rect x=\"0\" y=\"0\" width=\"2400\" height=\"1600\"/>\n",
       "  </clipPath>\n",
       "</defs>\n",
       "<path clip-path=\"url(#clip280)\" d=\"\n",
       "M0 1600 L2400 1600 L2400 0 L0 0  Z\n",
       "  \" fill=\"#ffffff\" fill-rule=\"evenodd\" fill-opacity=\"1\"/>\n",
       "<defs>\n",
       "  <clipPath id=\"clip281\">\n",
       "    <rect x=\"480\" y=\"0\" width=\"1681\" height=\"1600\"/>\n",
       "  </clipPath>\n",
       "</defs>\n",
       "<path clip-path=\"url(#clip280)\" d=\"\n",
       "M335.381 1474.16 L2352.76 1474.16 L2352.76 47.2441 L335.381 47.2441  Z\n",
       "  \" fill=\"#ffffff\" fill-rule=\"evenodd\" fill-opacity=\"1\"/>\n",
       "<defs>\n",
       "  <clipPath id=\"clip282\">\n",
       "    <rect x=\"335\" y=\"47\" width=\"2018\" height=\"1428\"/>\n",
       "  </clipPath>\n",
       "</defs>\n",
       "<polyline clip-path=\"url(#clip282)\" style=\"stroke:#000000; stroke-linecap:butt; stroke-linejoin:round; stroke-width:2; stroke-opacity:0.1; fill:none\" points=\"\n",
       "  335.381,1474.16 335.381,47.2441 \n",
       "  \"/>\n",
       "<polyline clip-path=\"url(#clip282)\" style=\"stroke:#000000; stroke-linecap:butt; stroke-linejoin:round; stroke-width:2; stroke-opacity:0.1; fill:none\" points=\"\n",
       "  1007.84,1474.16 1007.84,47.2441 \n",
       "  \"/>\n",
       "<polyline clip-path=\"url(#clip282)\" style=\"stroke:#000000; stroke-linecap:butt; stroke-linejoin:round; stroke-width:2; stroke-opacity:0.1; fill:none\" points=\"\n",
       "  1680.3,1474.16 1680.3,47.2441 \n",
       "  \"/>\n",
       "<polyline clip-path=\"url(#clip282)\" style=\"stroke:#000000; stroke-linecap:butt; stroke-linejoin:round; stroke-width:2; stroke-opacity:0.1; fill:none\" points=\"\n",
       "  2352.76,1474.16 2352.76,47.2441 \n",
       "  \"/>\n",
       "<polyline clip-path=\"url(#clip280)\" style=\"stroke:#000000; stroke-linecap:butt; stroke-linejoin:round; stroke-width:4; stroke-opacity:1; fill:none\" points=\"\n",
       "  335.381,1474.16 2352.76,1474.16 \n",
       "  \"/>\n",
       "<polyline clip-path=\"url(#clip280)\" style=\"stroke:#000000; stroke-linecap:butt; stroke-linejoin:round; stroke-width:4; stroke-opacity:1; fill:none\" points=\"\n",
       "  335.381,1474.16 335.381,1455.27 \n",
       "  \"/>\n",
       "<polyline clip-path=\"url(#clip280)\" style=\"stroke:#000000; stroke-linecap:butt; stroke-linejoin:round; stroke-width:4; stroke-opacity:1; fill:none\" points=\"\n",
       "  1007.84,1474.16 1007.84,1455.27 \n",
       "  \"/>\n",
       "<polyline clip-path=\"url(#clip280)\" style=\"stroke:#000000; stroke-linecap:butt; stroke-linejoin:round; stroke-width:4; stroke-opacity:1; fill:none\" points=\"\n",
       "  1680.3,1474.16 1680.3,1455.27 \n",
       "  \"/>\n",
       "<polyline clip-path=\"url(#clip280)\" style=\"stroke:#000000; stroke-linecap:butt; stroke-linejoin:round; stroke-width:4; stroke-opacity:1; fill:none\" points=\"\n",
       "  2352.76,1474.16 2352.76,1455.27 \n",
       "  \"/>\n",
       "<path clip-path=\"url(#clip280)\" d=\"M335.381 1505.08 Q331.769 1505.08 329.941 1508.65 Q328.135 1512.19 328.135 1519.32 Q328.135 1526.43 329.941 1529.99 Q331.769 1533.53 335.381 1533.53 Q339.015 1533.53 340.82 1529.99 Q342.649 1526.43 342.649 1519.32 Q342.649 1512.19 340.82 1508.65 Q339.015 1505.08 335.381 1505.08 M335.381 1501.38 Q341.191 1501.38 344.246 1505.99 Q347.325 1510.57 347.325 1519.32 Q347.325 1528.05 344.246 1532.65 Q341.191 1537.24 335.381 1537.24 Q329.57 1537.24 326.492 1532.65 Q323.436 1528.05 323.436 1519.32 Q323.436 1510.57 326.492 1505.99 Q329.57 1501.38 335.381 1501.38 Z\" fill=\"#000000\" fill-rule=\"evenodd\" fill-opacity=\"1\" /><path clip-path=\"url(#clip280)\" d=\"M915.274 1548.29 L922.913 1548.29 L922.913 1521.92 L914.602 1523.59 L914.602 1519.33 L922.866 1517.66 L927.542 1517.66 L927.542 1548.29 L935.181 1548.29 L935.181 1552.22 L915.274 1552.22 L915.274 1548.29 Z\" fill=\"#000000\" fill-rule=\"evenodd\" fill-opacity=\"1\" /><path clip-path=\"url(#clip280)\" d=\"M944.625 1546.35 L949.51 1546.35 L949.51 1552.22 L944.625 1552.22 L944.625 1546.35 Z\" fill=\"#000000\" fill-rule=\"evenodd\" fill-opacity=\"1\" /><path clip-path=\"url(#clip280)\" d=\"M969.695 1520.74 Q966.084 1520.74 964.255 1524.31 Q962.449 1527.85 962.449 1534.98 Q962.449 1542.09 964.255 1545.65 Q966.084 1549.19 969.695 1549.19 Q973.329 1549.19 975.134 1545.65 Q976.963 1542.09 976.963 1534.98 Q976.963 1527.85 975.134 1524.31 Q973.329 1520.74 969.695 1520.74 M969.695 1517.04 Q975.505 1517.04 978.56 1521.65 Q981.639 1526.23 981.639 1534.98 Q981.639 1543.71 978.56 1548.31 Q975.505 1552.9 969.695 1552.9 Q963.885 1552.9 960.806 1548.31 Q957.75 1543.71 957.75 1534.98 Q957.75 1526.23 960.806 1521.65 Q963.885 1517.04 969.695 1517.04 Z\" fill=\"#000000\" fill-rule=\"evenodd\" fill-opacity=\"1\" /><path clip-path=\"url(#clip280)\" d=\"M1018.03 1526.76 L1007.45 1537.39 L1018.03 1547.97 L1015.27 1550.77 L1004.65 1540.14 L994.023 1550.77 L991.292 1547.97 L1001.85 1537.39 L991.292 1526.76 L994.023 1523.96 L1004.65 1534.59 L1015.27 1523.96 L1018.03 1526.76 Z\" fill=\"#000000\" fill-rule=\"evenodd\" fill-opacity=\"1\" /><path clip-path=\"url(#clip280)\" d=\"M1030.39 1548.29 L1038.03 1548.29 L1038.03 1521.92 L1029.72 1523.59 L1029.72 1519.33 L1037.98 1517.66 L1042.66 1517.66 L1042.66 1548.29 L1050.3 1548.29 L1050.3 1552.22 L1030.39 1552.22 L1030.39 1548.29 Z\" fill=\"#000000\" fill-rule=\"evenodd\" fill-opacity=\"1\" /><path clip-path=\"url(#clip280)\" d=\"M1069.74 1520.74 Q1066.13 1520.74 1064.3 1524.31 Q1062.5 1527.85 1062.5 1534.98 Q1062.5 1542.09 1064.3 1545.65 Q1066.13 1549.19 1069.74 1549.19 Q1073.37 1549.19 1075.18 1545.65 Q1077.01 1542.09 1077.01 1534.98 Q1077.01 1527.85 1075.18 1524.31 Q1073.37 1520.74 1069.74 1520.74 M1069.74 1517.04 Q1075.55 1517.04 1078.61 1521.65 Q1081.68 1526.23 1081.68 1534.98 Q1081.68 1543.71 1078.61 1548.31 Q1075.55 1552.9 1069.74 1552.9 Q1063.93 1552.9 1060.85 1548.31 Q1057.8 1543.71 1057.8 1534.98 Q1057.8 1526.23 1060.85 1521.65 Q1063.93 1517.04 1069.74 1517.04 Z\" fill=\"#000000\" fill-rule=\"evenodd\" fill-opacity=\"1\" /><path clip-path=\"url(#clip280)\" d=\"M1091.71 1509.26 Q1089.15 1509.26 1087.65 1511.01 Q1086.16 1512.76 1086.16 1515.81 Q1086.16 1518.83 1087.65 1520.6 Q1089.15 1522.35 1091.71 1522.35 Q1094.27 1522.35 1095.75 1520.6 Q1097.26 1518.83 1097.26 1515.81 Q1097.26 1512.76 1095.75 1511.01 Q1094.27 1509.26 1091.71 1509.26 M1099.25 1497.35 L1099.25 1500.82 Q1097.82 1500.14 1096.35 1499.78 Q1094.91 1499.42 1093.48 1499.42 Q1089.72 1499.42 1087.72 1501.96 Q1085.75 1504.5 1085.47 1509.64 Q1086.57 1508 1088.25 1507.13 Q1089.92 1506.25 1091.94 1506.25 Q1096.17 1506.25 1098.61 1508.83 Q1101.08 1511.39 1101.08 1515.81 Q1101.08 1520.13 1098.52 1522.75 Q1095.96 1525.36 1091.71 1525.36 Q1086.84 1525.36 1084.26 1521.64 Q1081.68 1517.89 1081.68 1510.8 Q1081.68 1504.14 1084.84 1500.19 Q1088 1496.23 1093.33 1496.23 Q1094.76 1496.23 1096.2 1496.51 Q1097.67 1496.79 1099.25 1497.35 Z\" fill=\"#000000\" fill-rule=\"evenodd\" fill-opacity=\"1\" /><path clip-path=\"url(#clip280)\" d=\"M1591.82 1548.29 L1608.14 1548.29 L1608.14 1552.22 L1586.19 1552.22 L1586.19 1548.29 Q1588.85 1545.53 1593.44 1540.91 Q1598.04 1536.25 1599.23 1534.91 Q1601.47 1532.39 1602.35 1530.65 Q1603.25 1528.89 1603.25 1527.2 Q1603.25 1524.45 1601.31 1522.71 Q1599.39 1520.97 1596.29 1520.97 Q1594.09 1520.97 1591.63 1521.74 Q1589.2 1522.5 1586.42 1524.05 L1586.42 1519.33 Q1589.25 1518.2 1591.7 1517.62 Q1594.16 1517.04 1596.19 1517.04 Q1601.56 1517.04 1604.76 1519.72 Q1607.95 1522.41 1607.95 1526.9 Q1607.95 1529.03 1607.14 1530.95 Q1606.35 1532.85 1604.25 1535.44 Q1603.67 1536.11 1600.57 1539.33 Q1597.47 1542.53 1591.82 1548.29 Z\" fill=\"#000000\" fill-rule=\"evenodd\" fill-opacity=\"1\" /><path clip-path=\"url(#clip280)\" d=\"M1617.95 1546.35 L1622.84 1546.35 L1622.84 1552.22 L1617.95 1552.22 L1617.95 1546.35 Z\" fill=\"#000000\" fill-rule=\"evenodd\" fill-opacity=\"1\" /><path clip-path=\"url(#clip280)\" d=\"M1643.02 1520.74 Q1639.41 1520.74 1637.58 1524.31 Q1635.78 1527.85 1635.78 1534.98 Q1635.78 1542.09 1637.58 1545.65 Q1639.41 1549.19 1643.02 1549.19 Q1646.66 1549.19 1648.46 1545.65 Q1650.29 1542.09 1650.29 1534.98 Q1650.29 1527.85 1648.46 1524.31 Q1646.66 1520.74 1643.02 1520.74 M1643.02 1517.04 Q1648.83 1517.04 1651.89 1521.65 Q1654.97 1526.23 1654.97 1534.98 Q1654.97 1543.71 1651.89 1548.31 Q1648.83 1552.9 1643.02 1552.9 Q1637.21 1552.9 1634.13 1548.31 Q1631.08 1543.71 1631.08 1534.98 Q1631.08 1526.23 1634.13 1521.65 Q1637.21 1517.04 1643.02 1517.04 Z\" fill=\"#000000\" fill-rule=\"evenodd\" fill-opacity=\"1\" /><path clip-path=\"url(#clip280)\" d=\"M1691.35 1526.76 L1680.78 1537.39 L1691.35 1547.97 L1688.6 1550.77 L1677.97 1540.14 L1667.35 1550.77 L1664.62 1547.97 L1675.17 1537.39 L1664.62 1526.76 L1667.35 1523.96 L1677.97 1534.59 L1688.6 1523.96 L1691.35 1526.76 Z\" fill=\"#000000\" fill-rule=\"evenodd\" fill-opacity=\"1\" /><path clip-path=\"url(#clip280)\" d=\"M1703.72 1548.29 L1711.35 1548.29 L1711.35 1521.92 L1703.04 1523.59 L1703.04 1519.33 L1711.31 1517.66 L1715.98 1517.66 L1715.98 1548.29 L1723.62 1548.29 L1723.62 1552.22 L1703.72 1552.22 L1703.72 1548.29 Z\" fill=\"#000000\" fill-rule=\"evenodd\" fill-opacity=\"1\" /><path clip-path=\"url(#clip280)\" d=\"M1743.07 1520.74 Q1739.46 1520.74 1737.63 1524.31 Q1735.82 1527.85 1735.82 1534.98 Q1735.82 1542.09 1737.63 1545.65 Q1739.46 1549.19 1743.07 1549.19 Q1746.7 1549.19 1748.51 1545.65 Q1750.34 1542.09 1750.34 1534.98 Q1750.34 1527.85 1748.51 1524.31 Q1746.7 1520.74 1743.07 1520.74 M1743.07 1517.04 Q1748.88 1517.04 1751.93 1521.65 Q1755.01 1526.23 1755.01 1534.98 Q1755.01 1543.71 1751.93 1548.31 Q1748.88 1552.9 1743.07 1552.9 Q1737.26 1552.9 1734.18 1548.31 Q1731.12 1543.71 1731.12 1534.98 Q1731.12 1526.23 1734.18 1521.65 Q1737.26 1517.04 1743.07 1517.04 Z\" fill=\"#000000\" fill-rule=\"evenodd\" fill-opacity=\"1\" /><path clip-path=\"url(#clip280)\" d=\"M1765.04 1509.26 Q1762.48 1509.26 1760.97 1511.01 Q1759.49 1512.76 1759.49 1515.81 Q1759.49 1518.83 1760.97 1520.6 Q1762.48 1522.35 1765.04 1522.35 Q1767.59 1522.35 1769.08 1520.6 Q1770.58 1518.83 1770.58 1515.81 Q1770.58 1512.76 1769.08 1511.01 Q1767.59 1509.26 1765.04 1509.26 M1772.58 1497.35 L1772.58 1500.82 Q1771.15 1500.14 1769.68 1499.78 Q1768.23 1499.42 1766.8 1499.42 Q1763.04 1499.42 1761.05 1501.96 Q1759.07 1504.5 1758.79 1509.64 Q1759.9 1508 1761.58 1507.13 Q1763.25 1506.25 1765.26 1506.25 Q1769.49 1506.25 1771.94 1508.83 Q1774.4 1511.39 1774.4 1515.81 Q1774.4 1520.13 1771.84 1522.75 Q1769.29 1525.36 1765.04 1525.36 Q1760.16 1525.36 1757.59 1521.64 Q1755.01 1517.89 1755.01 1510.8 Q1755.01 1504.14 1758.17 1500.19 Q1761.33 1496.23 1766.65 1496.23 Q1768.08 1496.23 1769.53 1496.51 Q1771 1496.79 1772.58 1497.35 Z\" fill=\"#000000\" fill-rule=\"evenodd\" fill-opacity=\"1\" /><path clip-path=\"url(#clip280)\" d=\"M2274.35 1533.59 Q2277.7 1534.31 2279.58 1536.58 Q2281.48 1538.85 2281.48 1542.18 Q2281.48 1547.29 2277.96 1550.1 Q2274.44 1552.9 2267.96 1552.9 Q2265.78 1552.9 2263.47 1552.46 Q2261.17 1552.04 2258.72 1551.18 L2258.72 1546.67 Q2260.67 1547.8 2262.98 1548.38 Q2265.29 1548.96 2267.82 1548.96 Q2272.22 1548.96 2274.51 1547.22 Q2276.82 1545.49 2276.82 1542.18 Q2276.82 1539.12 2274.67 1537.41 Q2272.54 1535.67 2268.72 1535.67 L2264.69 1535.67 L2264.69 1531.83 L2268.91 1531.83 Q2272.35 1531.83 2274.18 1530.47 Q2276.01 1529.08 2276.01 1526.48 Q2276.01 1523.82 2274.11 1522.41 Q2272.24 1520.97 2268.72 1520.97 Q2266.8 1520.97 2264.6 1521.39 Q2262.4 1521.81 2259.76 1522.69 L2259.76 1518.52 Q2262.42 1517.78 2264.74 1517.41 Q2267.08 1517.04 2269.14 1517.04 Q2274.46 1517.04 2277.56 1519.47 Q2280.67 1521.88 2280.67 1526 Q2280.67 1528.87 2279.02 1530.86 Q2277.38 1532.83 2274.35 1533.59 Z\" fill=\"#000000\" fill-rule=\"evenodd\" fill-opacity=\"1\" /><path clip-path=\"url(#clip280)\" d=\"M2290.34 1546.35 L2295.23 1546.35 L2295.23 1552.22 L2290.34 1552.22 L2290.34 1546.35 Z\" fill=\"#000000\" fill-rule=\"evenodd\" fill-opacity=\"1\" /><path clip-path=\"url(#clip280)\" d=\"M2315.41 1520.74 Q2311.8 1520.74 2309.97 1524.31 Q2308.16 1527.85 2308.16 1534.98 Q2308.16 1542.09 2309.97 1545.65 Q2311.8 1549.19 2315.41 1549.19 Q2319.04 1549.19 2320.85 1545.65 Q2322.68 1542.09 2322.68 1534.98 Q2322.68 1527.85 2320.85 1524.31 Q2319.04 1520.74 2315.41 1520.74 M2315.41 1517.04 Q2321.22 1517.04 2324.28 1521.65 Q2327.35 1526.23 2327.35 1534.98 Q2327.35 1543.71 2324.28 1548.31 Q2321.22 1552.9 2315.41 1552.9 Q2309.6 1552.9 2306.52 1548.31 Q2303.47 1543.71 2303.47 1534.98 Q2303.47 1526.23 2306.52 1521.65 Q2309.6 1517.04 2315.41 1517.04 Z\" fill=\"#000000\" fill-rule=\"evenodd\" fill-opacity=\"1\" /><path clip-path=\"url(#clip280)\" d=\"M2363.74 1526.76 L2353.16 1537.39 L2363.74 1547.97 L2360.99 1550.77 L2350.36 1540.14 L2339.74 1550.77 L2337.01 1547.97 L2347.56 1537.39 L2337.01 1526.76 L2339.74 1523.96 L2350.36 1534.59 L2360.99 1523.96 L2363.74 1526.76 Z\" fill=\"#000000\" fill-rule=\"evenodd\" fill-opacity=\"1\" /><path clip-path=\"url(#clip280)\" d=\"M2376.1 1548.29 L2383.74 1548.29 L2383.74 1521.92 L2375.43 1523.59 L2375.43 1519.33 L2383.7 1517.66 L2388.37 1517.66 L2388.37 1548.29 L2396.01 1548.29 L2396.01 1552.22 L2376.1 1552.22 L2376.1 1548.29 Z\" fill=\"#000000\" fill-rule=\"evenodd\" fill-opacity=\"1\" /><path clip-path=\"url(#clip280)\" d=\"M2415.46 1520.74 Q2411.84 1520.74 2410.02 1524.31 Q2408.21 1527.85 2408.21 1534.98 Q2408.21 1542.09 2410.02 1545.65 Q2411.84 1549.19 2415.46 1549.19 Q2419.09 1549.19 2420.9 1545.65 Q2422.72 1542.09 2422.72 1534.98 Q2422.72 1527.85 2420.9 1524.31 Q2419.09 1520.74 2415.46 1520.74 M2415.46 1517.04 Q2421.27 1517.04 2424.32 1521.65 Q2427.4 1526.23 2427.4 1534.98 Q2427.4 1543.71 2424.32 1548.31 Q2421.27 1552.9 2415.46 1552.9 Q2409.65 1552.9 2406.57 1548.31 Q2403.51 1543.71 2403.51 1534.98 Q2403.51 1526.23 2406.57 1521.65 Q2409.65 1517.04 2415.46 1517.04 Z\" fill=\"#000000\" fill-rule=\"evenodd\" fill-opacity=\"1\" /><path clip-path=\"url(#clip280)\" d=\"M2437.42 1509.26 Q2434.87 1509.26 2433.36 1511.01 Q2431.88 1512.76 2431.88 1515.81 Q2431.88 1518.83 2433.36 1520.6 Q2434.87 1522.35 2437.42 1522.35 Q2439.98 1522.35 2441.47 1520.6 Q2442.97 1518.83 2442.97 1515.81 Q2442.97 1512.76 2441.47 1511.01 Q2439.98 1509.26 2437.42 1509.26 M2444.97 1497.35 L2444.97 1500.82 Q2443.54 1500.14 2442.07 1499.78 Q2440.62 1499.42 2439.19 1499.42 Q2435.43 1499.42 2433.44 1501.96 Q2431.46 1504.5 2431.18 1509.64 Q2432.29 1508 2433.96 1507.13 Q2435.64 1506.25 2437.65 1506.25 Q2441.88 1506.25 2444.33 1508.83 Q2446.79 1511.39 2446.79 1515.81 Q2446.79 1520.13 2444.23 1522.75 Q2441.68 1525.36 2437.42 1525.36 Q2432.55 1525.36 2429.98 1521.64 Q2427.4 1517.89 2427.4 1510.8 Q2427.4 1504.14 2430.56 1500.19 Q2433.72 1496.23 2439.04 1496.23 Q2440.47 1496.23 2441.92 1496.51 Q2443.39 1496.79 2444.97 1497.35 Z\" fill=\"#000000\" fill-rule=\"evenodd\" fill-opacity=\"1\" /><polyline clip-path=\"url(#clip282)\" style=\"stroke:#000000; stroke-linecap:butt; stroke-linejoin:round; stroke-width:2; stroke-opacity:0.1; fill:none\" points=\"\n",
       "  335.381,1433.78 2352.76,1433.78 \n",
       "  \"/>\n",
       "<polyline clip-path=\"url(#clip282)\" style=\"stroke:#000000; stroke-linecap:butt; stroke-linejoin:round; stroke-width:2; stroke-opacity:0.1; fill:none\" points=\"\n",
       "  335.381,1133.27 2352.76,1133.27 \n",
       "  \"/>\n",
       "<polyline clip-path=\"url(#clip282)\" style=\"stroke:#000000; stroke-linecap:butt; stroke-linejoin:round; stroke-width:2; stroke-opacity:0.1; fill:none\" points=\"\n",
       "  335.381,832.768 2352.76,832.768 \n",
       "  \"/>\n",
       "<polyline clip-path=\"url(#clip282)\" style=\"stroke:#000000; stroke-linecap:butt; stroke-linejoin:round; stroke-width:2; stroke-opacity:0.1; fill:none\" points=\"\n",
       "  335.381,532.261 2352.76,532.261 \n",
       "  \"/>\n",
       "<polyline clip-path=\"url(#clip282)\" style=\"stroke:#000000; stroke-linecap:butt; stroke-linejoin:round; stroke-width:2; stroke-opacity:0.1; fill:none\" points=\"\n",
       "  335.381,231.755 2352.76,231.755 \n",
       "  \"/>\n",
       "<polyline clip-path=\"url(#clip280)\" style=\"stroke:#000000; stroke-linecap:butt; stroke-linejoin:round; stroke-width:4; stroke-opacity:1; fill:none\" points=\"\n",
       "  335.381,1474.16 335.381,47.2441 \n",
       "  \"/>\n",
       "<polyline clip-path=\"url(#clip280)\" style=\"stroke:#000000; stroke-linecap:butt; stroke-linejoin:round; stroke-width:4; stroke-opacity:1; fill:none\" points=\"\n",
       "  335.381,1433.78 354.278,1433.78 \n",
       "  \"/>\n",
       "<polyline clip-path=\"url(#clip280)\" style=\"stroke:#000000; stroke-linecap:butt; stroke-linejoin:round; stroke-width:4; stroke-opacity:1; fill:none\" points=\"\n",
       "  335.381,1133.27 354.278,1133.27 \n",
       "  \"/>\n",
       "<polyline clip-path=\"url(#clip280)\" style=\"stroke:#000000; stroke-linecap:butt; stroke-linejoin:round; stroke-width:4; stroke-opacity:1; fill:none\" points=\"\n",
       "  335.381,832.768 354.278,832.768 \n",
       "  \"/>\n",
       "<polyline clip-path=\"url(#clip280)\" style=\"stroke:#000000; stroke-linecap:butt; stroke-linejoin:round; stroke-width:4; stroke-opacity:1; fill:none\" points=\"\n",
       "  335.381,532.261 354.278,532.261 \n",
       "  \"/>\n",
       "<polyline clip-path=\"url(#clip280)\" style=\"stroke:#000000; stroke-linecap:butt; stroke-linejoin:round; stroke-width:4; stroke-opacity:1; fill:none\" points=\"\n",
       "  335.381,231.755 354.278,231.755 \n",
       "  \"/>\n",
       "<path clip-path=\"url(#clip280)\" d=\"M287.436 1419.58 Q283.825 1419.58 281.996 1423.14 Q280.191 1426.69 280.191 1433.81 Q280.191 1440.92 281.996 1444.49 Q283.825 1448.03 287.436 1448.03 Q291.07 1448.03 292.876 1444.49 Q294.705 1440.92 294.705 1433.81 Q294.705 1426.69 292.876 1423.14 Q291.07 1419.58 287.436 1419.58 M287.436 1415.88 Q293.246 1415.88 296.302 1420.48 Q299.381 1425.06 299.381 1433.81 Q299.381 1442.54 296.302 1447.15 Q293.246 1451.73 287.436 1451.73 Q281.626 1451.73 278.547 1447.15 Q275.492 1442.54 275.492 1433.81 Q275.492 1425.06 278.547 1420.48 Q281.626 1415.88 287.436 1415.88 Z\" fill=\"#000000\" fill-rule=\"evenodd\" fill-opacity=\"1\" /><path clip-path=\"url(#clip280)\" d=\"M56.6171 1153.07 L72.9365 1153.07 L72.9365 1157 L50.9921 1157 L50.9921 1153.07 Q53.6541 1150.31 58.2375 1145.68 Q62.8439 1141.03 64.0245 1139.69 Q66.2698 1137.16 67.1494 1135.43 Q68.0522 1133.67 68.0522 1131.98 Q68.0522 1129.22 66.1078 1127.49 Q64.1865 1125.75 61.0847 1125.75 Q58.8856 1125.75 56.4319 1126.52 Q54.0014 1127.28 51.2236 1128.83 L51.2236 1124.11 Q54.0477 1122.97 56.5014 1122.4 Q58.955 1121.82 60.9921 1121.82 Q66.3624 1121.82 69.5568 1124.5 Q72.7513 1127.19 72.7513 1131.68 Q72.7513 1133.81 71.9411 1135.73 Q71.1541 1137.63 69.0476 1140.22 Q68.4689 1140.89 65.367 1144.11 Q62.2652 1147.3 56.6171 1153.07 Z\" fill=\"#000000\" fill-rule=\"evenodd\" fill-opacity=\"1\" /><path clip-path=\"url(#clip280)\" d=\"M82.7512 1151.12 L87.6354 1151.12 L87.6354 1157 L82.7512 1157 L82.7512 1151.12 Z\" fill=\"#000000\" fill-rule=\"evenodd\" fill-opacity=\"1\" /><path clip-path=\"url(#clip280)\" d=\"M97.8669 1122.44 L116.223 1122.44 L116.223 1126.38 L102.149 1126.38 L102.149 1134.85 Q103.168 1134.5 104.186 1134.34 Q105.205 1134.15 106.223 1134.15 Q112.01 1134.15 115.39 1137.33 Q118.77 1140.5 118.77 1145.91 Q118.77 1151.49 115.297 1154.59 Q111.825 1157.67 105.506 1157.67 Q103.33 1157.67 101.061 1157.3 Q98.8159 1156.93 96.4085 1156.19 L96.4085 1151.49 Q98.4919 1152.63 100.714 1153.18 Q102.936 1153.74 105.413 1153.74 Q109.418 1153.74 111.756 1151.63 Q114.094 1149.52 114.094 1145.91 Q114.094 1142.3 111.756 1140.2 Q109.418 1138.09 105.413 1138.09 Q103.538 1138.09 101.663 1138.51 Q99.8113 1138.92 97.8669 1139.8 L97.8669 1122.44 Z\" fill=\"#000000\" fill-rule=\"evenodd\" fill-opacity=\"1\" /><path clip-path=\"url(#clip280)\" d=\"M137.982 1125.52 Q134.371 1125.52 132.543 1129.08 Q130.737 1132.63 130.737 1139.76 Q130.737 1146.86 132.543 1150.43 Q134.371 1153.97 137.982 1153.97 Q141.617 1153.97 143.422 1150.43 Q145.251 1146.86 145.251 1139.76 Q145.251 1132.63 143.422 1129.08 Q141.617 1125.52 137.982 1125.52 M137.982 1121.82 Q143.793 1121.82 146.848 1126.42 Q149.927 1131.01 149.927 1139.76 Q149.927 1148.48 146.848 1153.09 Q143.793 1157.67 137.982 1157.67 Q132.172 1157.67 129.094 1153.09 Q126.038 1148.48 126.038 1139.76 Q126.038 1131.01 129.094 1126.42 Q132.172 1121.82 137.982 1121.82 Z\" fill=\"#000000\" fill-rule=\"evenodd\" fill-opacity=\"1\" /><path clip-path=\"url(#clip280)\" d=\"M186.315 1131.54 L175.737 1142.16 L186.315 1152.74 L183.561 1155.54 L172.936 1144.92 L162.311 1155.54 L159.58 1152.74 L170.135 1142.16 L159.58 1131.54 L162.311 1128.74 L172.936 1139.36 L183.561 1128.74 L186.315 1131.54 Z\" fill=\"#000000\" fill-rule=\"evenodd\" fill-opacity=\"1\" /><path clip-path=\"url(#clip280)\" d=\"M198.677 1153.07 L206.315 1153.07 L206.315 1126.7 L198.005 1128.37 L198.005 1124.11 L206.269 1122.44 L210.945 1122.44 L210.945 1153.07 L218.584 1153.07 L218.584 1157 L198.677 1157 L198.677 1153.07 Z\" fill=\"#000000\" fill-rule=\"evenodd\" fill-opacity=\"1\" /><path clip-path=\"url(#clip280)\" d=\"M238.028 1125.52 Q234.417 1125.52 232.588 1129.08 Q230.783 1132.63 230.783 1139.76 Q230.783 1146.86 232.588 1150.43 Q234.417 1153.97 238.028 1153.97 Q241.662 1153.97 243.468 1150.43 Q245.297 1146.86 245.297 1139.76 Q245.297 1132.63 243.468 1129.08 Q241.662 1125.52 238.028 1125.52 M238.028 1121.82 Q243.838 1121.82 246.894 1126.42 Q249.973 1131.01 249.973 1139.76 Q249.973 1148.48 246.894 1153.09 Q243.838 1157.67 238.028 1157.67 Q232.218 1157.67 229.139 1153.09 Q226.084 1148.48 226.084 1139.76 Q226.084 1131.01 229.139 1126.42 Q232.218 1121.82 238.028 1121.82 Z\" fill=\"#000000\" fill-rule=\"evenodd\" fill-opacity=\"1\" /><path clip-path=\"url(#clip280)\" d=\"M249.973 1115.92 L274.084 1115.92 L274.084 1119.12 L249.973 1119.12 L249.973 1115.92 Z\" fill=\"#000000\" fill-rule=\"evenodd\" fill-opacity=\"1\" /><path clip-path=\"url(#clip280)\" d=\"M281.325 1101.51 L299.381 1101.51 L299.381 1103.13 L289.187 1129.59 L285.218 1129.59 L294.81 1104.71 L281.325 1104.71 L281.325 1101.51 Z\" fill=\"#000000\" fill-rule=\"evenodd\" fill-opacity=\"1\" /><path clip-path=\"url(#clip280)\" d=\"M52.6356 821.935 L70.992 821.935 L70.992 825.87 L56.918 825.87 L56.918 834.342 Q57.9365 833.995 58.955 833.833 Q59.9736 833.648 60.9921 833.648 Q66.7791 833.648 70.1587 836.819 Q73.5383 839.991 73.5383 845.407 Q73.5383 850.986 70.0661 854.088 Q66.5939 857.166 60.2745 857.166 Q58.0986 857.166 55.8301 856.796 Q53.5847 856.426 51.1773 855.685 L51.1773 850.986 Q53.2606 852.12 55.4828 852.676 Q57.7051 853.231 60.1819 853.231 Q64.1865 853.231 66.5245 851.125 Q68.8624 849.018 68.8624 845.407 Q68.8624 841.796 66.5245 839.69 Q64.1865 837.583 60.1819 837.583 Q58.3069 837.583 56.4319 838 Q54.5801 838.417 52.6356 839.296 L52.6356 821.935 Z\" fill=\"#000000\" fill-rule=\"evenodd\" fill-opacity=\"1\" /><path clip-path=\"url(#clip280)\" d=\"M82.7512 850.616 L87.6354 850.616 L87.6354 856.495 L82.7512 856.495 L82.7512 850.616 Z\" fill=\"#000000\" fill-rule=\"evenodd\" fill-opacity=\"1\" /><path clip-path=\"url(#clip280)\" d=\"M107.821 825.014 Q104.209 825.014 102.381 828.579 Q100.575 832.12 100.575 839.25 Q100.575 846.356 102.381 849.921 Q104.209 853.463 107.821 853.463 Q111.455 853.463 113.26 849.921 Q115.089 846.356 115.089 839.25 Q115.089 832.12 113.26 828.579 Q111.455 825.014 107.821 825.014 M107.821 821.31 Q113.631 821.31 116.686 825.917 Q119.765 830.5 119.765 839.25 Q119.765 847.977 116.686 852.583 Q113.631 857.166 107.821 857.166 Q102.01 857.166 98.9317 852.583 Q95.8761 847.977 95.8761 839.25 Q95.8761 830.5 98.9317 825.917 Q102.01 821.31 107.821 821.31 Z\" fill=\"#000000\" fill-rule=\"evenodd\" fill-opacity=\"1\" /><path clip-path=\"url(#clip280)\" d=\"M137.982 825.014 Q134.371 825.014 132.543 828.579 Q130.737 832.12 130.737 839.25 Q130.737 846.356 132.543 849.921 Q134.371 853.463 137.982 853.463 Q141.617 853.463 143.422 849.921 Q145.251 846.356 145.251 839.25 Q145.251 832.12 143.422 828.579 Q141.617 825.014 137.982 825.014 M137.982 821.31 Q143.793 821.31 146.848 825.917 Q149.927 830.5 149.927 839.25 Q149.927 847.977 146.848 852.583 Q143.793 857.166 137.982 857.166 Q132.172 857.166 129.094 852.583 Q126.038 847.977 126.038 839.25 Q126.038 830.5 129.094 825.917 Q132.172 821.31 137.982 821.31 Z\" fill=\"#000000\" fill-rule=\"evenodd\" fill-opacity=\"1\" /><path clip-path=\"url(#clip280)\" d=\"M186.315 831.032 L175.737 841.657 L186.315 852.236 L183.561 855.037 L172.936 844.412 L162.311 855.037 L159.58 852.236 L170.135 841.657 L159.58 831.032 L162.311 828.231 L172.936 838.856 L183.561 828.231 L186.315 831.032 Z\" fill=\"#000000\" fill-rule=\"evenodd\" fill-opacity=\"1\" /><path clip-path=\"url(#clip280)\" d=\"M198.677 852.56 L206.315 852.56 L206.315 826.194 L198.005 827.861 L198.005 823.602 L206.269 821.935 L210.945 821.935 L210.945 852.56 L218.584 852.56 L218.584 856.495 L198.677 856.495 L198.677 852.56 Z\" fill=\"#000000\" fill-rule=\"evenodd\" fill-opacity=\"1\" /><path clip-path=\"url(#clip280)\" d=\"M238.028 825.014 Q234.417 825.014 232.588 828.579 Q230.783 832.12 230.783 839.25 Q230.783 846.356 232.588 849.921 Q234.417 853.463 238.028 853.463 Q241.662 853.463 243.468 849.921 Q245.297 846.356 245.297 839.25 Q245.297 832.12 243.468 828.579 Q241.662 825.014 238.028 825.014 M238.028 821.31 Q243.838 821.31 246.894 825.917 Q249.973 830.5 249.973 839.25 Q249.973 847.977 246.894 852.583 Q243.838 857.166 238.028 857.166 Q232.218 857.166 229.139 852.583 Q226.084 847.977 226.084 839.25 Q226.084 830.5 229.139 825.917 Q232.218 821.31 238.028 821.31 Z\" fill=\"#000000\" fill-rule=\"evenodd\" fill-opacity=\"1\" /><path clip-path=\"url(#clip280)\" d=\"M249.973 815.411 L274.084 815.411 L274.084 818.609 L249.973 818.609 L249.973 815.411 Z\" fill=\"#000000\" fill-rule=\"evenodd\" fill-opacity=\"1\" /><path clip-path=\"url(#clip280)\" d=\"M281.325 801.005 L299.381 801.005 L299.381 802.622 L289.187 829.085 L285.218 829.085 L294.81 804.202 L281.325 804.202 L281.325 801.005 Z\" fill=\"#000000\" fill-rule=\"evenodd\" fill-opacity=\"1\" /><path clip-path=\"url(#clip280)\" d=\"M51.4088 521.429 L73.6309 521.429 L73.6309 523.42 L61.0847 555.989 L56.2004 555.989 L68.0059 525.364 L51.4088 525.364 L51.4088 521.429 Z\" fill=\"#000000\" fill-rule=\"evenodd\" fill-opacity=\"1\" /><path clip-path=\"url(#clip280)\" d=\"M82.7512 550.109 L87.6354 550.109 L87.6354 555.989 L82.7512 555.989 L82.7512 550.109 Z\" fill=\"#000000\" fill-rule=\"evenodd\" fill-opacity=\"1\" /><path clip-path=\"url(#clip280)\" d=\"M97.8669 521.429 L116.223 521.429 L116.223 525.364 L102.149 525.364 L102.149 533.836 Q103.168 533.489 104.186 533.327 Q105.205 533.142 106.223 533.142 Q112.01 533.142 115.39 536.313 Q118.77 539.484 118.77 544.901 Q118.77 550.48 115.297 553.581 Q111.825 556.66 105.506 556.66 Q103.33 556.66 101.061 556.29 Q98.8159 555.919 96.4085 555.179 L96.4085 550.48 Q98.4919 551.614 100.714 552.169 Q102.936 552.725 105.413 552.725 Q109.418 552.725 111.756 550.618 Q114.094 548.512 114.094 544.901 Q114.094 541.29 111.756 539.183 Q109.418 537.077 105.413 537.077 Q103.538 537.077 101.663 537.494 Q99.8113 537.91 97.8669 538.79 L97.8669 521.429 Z\" fill=\"#000000\" fill-rule=\"evenodd\" fill-opacity=\"1\" /><path clip-path=\"url(#clip280)\" d=\"M137.982 524.508 Q134.371 524.508 132.543 528.072 Q130.737 531.614 130.737 538.744 Q130.737 545.85 132.543 549.415 Q134.371 552.956 137.982 552.956 Q141.617 552.956 143.422 549.415 Q145.251 545.85 145.251 538.744 Q145.251 531.614 143.422 528.072 Q141.617 524.508 137.982 524.508 M137.982 520.804 Q143.793 520.804 146.848 525.41 Q149.927 529.994 149.927 538.744 Q149.927 547.47 146.848 552.077 Q143.793 556.66 137.982 556.66 Q132.172 556.66 129.094 552.077 Q126.038 547.47 126.038 538.744 Q126.038 529.994 129.094 525.41 Q132.172 520.804 137.982 520.804 Z\" fill=\"#000000\" fill-rule=\"evenodd\" fill-opacity=\"1\" /><path clip-path=\"url(#clip280)\" d=\"M186.315 530.526 L175.737 541.151 L186.315 551.73 L183.561 554.531 L172.936 543.906 L162.311 554.531 L159.58 551.73 L170.135 541.151 L159.58 530.526 L162.311 527.725 L172.936 538.35 L183.561 527.725 L186.315 530.526 Z\" fill=\"#000000\" fill-rule=\"evenodd\" fill-opacity=\"1\" /><path clip-path=\"url(#clip280)\" d=\"M198.677 552.054 L206.315 552.054 L206.315 525.688 L198.005 527.355 L198.005 523.095 L206.269 521.429 L210.945 521.429 L210.945 552.054 L218.584 552.054 L218.584 555.989 L198.677 555.989 L198.677 552.054 Z\" fill=\"#000000\" fill-rule=\"evenodd\" fill-opacity=\"1\" /><path clip-path=\"url(#clip280)\" d=\"M238.028 524.508 Q234.417 524.508 232.588 528.072 Q230.783 531.614 230.783 538.744 Q230.783 545.85 232.588 549.415 Q234.417 552.956 238.028 552.956 Q241.662 552.956 243.468 549.415 Q245.297 545.85 245.297 538.744 Q245.297 531.614 243.468 528.072 Q241.662 524.508 238.028 524.508 M238.028 520.804 Q243.838 520.804 246.894 525.41 Q249.973 529.994 249.973 538.744 Q249.973 547.47 246.894 552.077 Q243.838 556.66 238.028 556.66 Q232.218 556.66 229.139 552.077 Q226.084 547.47 226.084 538.744 Q226.084 529.994 229.139 525.41 Q232.218 520.804 238.028 520.804 Z\" fill=\"#000000\" fill-rule=\"evenodd\" fill-opacity=\"1\" /><path clip-path=\"url(#clip280)\" d=\"M249.973 514.905 L274.084 514.905 L274.084 518.103 L249.973 518.103 L249.973 514.905 Z\" fill=\"#000000\" fill-rule=\"evenodd\" fill-opacity=\"1\" /><path clip-path=\"url(#clip280)\" d=\"M281.325 500.498 L299.381 500.498 L299.381 502.116 L289.187 528.578 L285.218 528.578 L294.81 503.696 L281.325 503.696 L281.325 500.498 Z\" fill=\"#000000\" fill-rule=\"evenodd\" fill-opacity=\"1\" /><path clip-path=\"url(#clip280)\" d=\"M52.5344 251.547 L60.1732 251.547 L60.1732 225.182 L51.8631 226.848 L51.8631 222.589 L60.1269 220.923 L64.8028 220.923 L64.8028 251.547 L72.4417 251.547 L72.4417 255.483 L52.5344 255.483 L52.5344 251.547 Z\" fill=\"#000000\" fill-rule=\"evenodd\" fill-opacity=\"1\" /><path clip-path=\"url(#clip280)\" d=\"M81.8861 249.603 L86.7703 249.603 L86.7703 255.483 L81.8861 255.483 L81.8861 249.603 Z\" fill=\"#000000\" fill-rule=\"evenodd\" fill-opacity=\"1\" /><path clip-path=\"url(#clip280)\" d=\"M106.955 224.001 Q103.344 224.001 101.516 227.566 Q99.71 231.108 99.71 238.237 Q99.71 245.344 101.516 248.908 Q103.344 252.45 106.955 252.45 Q110.59 252.45 112.395 248.908 Q114.224 245.344 114.224 238.237 Q114.224 231.108 112.395 227.566 Q110.59 224.001 106.955 224.001 M106.955 220.298 Q112.766 220.298 115.821 224.904 Q118.9 229.487 118.9 238.237 Q118.9 246.964 115.821 251.571 Q112.766 256.154 106.955 256.154 Q101.145 256.154 98.0665 251.571 Q95.011 246.964 95.011 238.237 Q95.011 229.487 98.0665 224.904 Q101.145 220.298 106.955 220.298 Z\" fill=\"#000000\" fill-rule=\"evenodd\" fill-opacity=\"1\" /><path clip-path=\"url(#clip280)\" d=\"M137.117 224.001 Q133.506 224.001 131.677 227.566 Q129.872 231.108 129.872 238.237 Q129.872 245.344 131.677 248.908 Q133.506 252.45 137.117 252.45 Q140.751 252.45 142.557 248.908 Q144.386 245.344 144.386 238.237 Q144.386 231.108 142.557 227.566 Q140.751 224.001 137.117 224.001 M137.117 220.298 Q142.927 220.298 145.983 224.904 Q149.062 229.487 149.062 238.237 Q149.062 246.964 145.983 251.571 Q142.927 256.154 137.117 256.154 Q131.307 256.154 128.228 251.571 Q125.173 246.964 125.173 238.237 Q125.173 229.487 128.228 224.904 Q131.307 220.298 137.117 220.298 Z\" fill=\"#000000\" fill-rule=\"evenodd\" fill-opacity=\"1\" /><path clip-path=\"url(#clip280)\" d=\"M185.45 230.02 L174.872 240.645 L185.45 251.223 L182.696 254.024 L172.071 243.399 L161.446 254.024 L158.714 251.223 L169.27 240.645 L158.714 230.02 L161.446 227.219 L172.071 237.844 L182.696 227.219 L185.45 230.02 Z\" fill=\"#000000\" fill-rule=\"evenodd\" fill-opacity=\"1\" /><path clip-path=\"url(#clip280)\" d=\"M197.811 251.547 L205.45 251.547 L205.45 225.182 L197.14 226.848 L197.14 222.589 L205.404 220.923 L210.08 220.923 L210.08 251.547 L217.719 251.547 L217.719 255.483 L197.811 255.483 L197.811 251.547 Z\" fill=\"#000000\" fill-rule=\"evenodd\" fill-opacity=\"1\" /><path clip-path=\"url(#clip280)\" d=\"M237.163 224.001 Q233.552 224.001 231.723 227.566 Q229.918 231.108 229.918 238.237 Q229.918 245.344 231.723 248.908 Q233.552 252.45 237.163 252.45 Q240.797 252.45 242.603 248.908 Q244.431 245.344 244.431 238.237 Q244.431 231.108 242.603 227.566 Q240.797 224.001 237.163 224.001 M237.163 220.298 Q242.973 220.298 246.029 224.904 Q249.107 229.487 249.107 238.237 Q249.107 246.964 246.029 251.571 Q242.973 256.154 237.163 256.154 Q231.353 256.154 228.274 251.571 Q225.219 246.964 225.219 238.237 Q225.219 229.487 228.274 224.904 Q231.353 220.298 237.163 220.298 Z\" fill=\"#000000\" fill-rule=\"evenodd\" fill-opacity=\"1\" /><path clip-path=\"url(#clip280)\" d=\"M249.107 214.399 L273.219 214.399 L273.219 217.596 L249.107 217.596 L249.107 214.399 Z\" fill=\"#000000\" fill-rule=\"evenodd\" fill-opacity=\"1\" /><path clip-path=\"url(#clip280)\" d=\"M290.014 212.518 Q287.456 212.518 285.952 214.267 Q284.466 216.016 284.466 219.063 Q284.466 222.091 285.952 223.859 Q287.456 225.608 290.014 225.608 Q292.572 225.608 294.058 223.859 Q295.563 222.091 295.563 219.063 Q295.563 216.016 294.058 214.267 Q292.572 212.518 290.014 212.518 M297.556 200.613 L297.556 204.073 Q296.127 203.396 294.66 203.039 Q293.212 202.682 291.782 202.682 Q288.021 202.682 286.027 205.221 Q284.052 207.76 283.77 212.894 Q284.88 211.258 286.554 210.393 Q288.228 209.509 290.24 209.509 Q294.472 209.509 296.917 212.086 Q299.381 214.643 299.381 219.063 Q299.381 223.389 296.823 226.003 Q294.265 228.618 290.014 228.618 Q285.143 228.618 282.566 224.894 Q279.99 221.151 279.99 214.06 Q279.99 207.402 283.149 203.453 Q286.309 199.484 291.632 199.484 Q293.061 199.484 294.509 199.766 Q295.976 200.049 297.556 200.613 Z\" fill=\"#000000\" fill-rule=\"evenodd\" fill-opacity=\"1\" /><polyline clip-path=\"url(#clip282)\" style=\"stroke:#009af9; stroke-linecap:butt; stroke-linejoin:round; stroke-width:4; stroke-opacity:1; fill:none\" points=\"\n",
       "  237.892,1433.78 277.006,1433.78 316.12,1433.65 355.234,1433 394.348,1430.23 433.461,1418.87 472.575,1378.2 511.689,1279.67 550.803,1114.17 589.917,899.178 \n",
       "  629.031,664.812 668.145,448.877 707.259,267.551 746.373,130.662 785.487,87.6286 824.601,132.417 863.715,210.64 902.829,299.318 941.943,407.139 981.056,550.426 \n",
       "  1020.17,697.778 1059.28,801.382 1098.4,838.778 1137.51,832.399 1176.63,833.902 1215.74,869.855 1254.85,938.511 1293.97,1009.98 1333.08,1069.65 1372.2,1114.23 \n",
       "  1411.31,1139.63 1450.42,1158.96 1489.54,1181.14 1528.65,1206.2 1567.77,1227.2 1606.88,1247.78 1645.99,1273.2 1685.11,1301.93 1724.22,1328.53 1763.33,1339.77 \n",
       "  1802.45,1340.34 1841.56,1341.69 1880.68,1347.21 1919.79,1355.74 1958.9,1366.02 1998.02,1376.23 2037.13,1380.79 2076.25,1382.62 2115.36,1386.26 2154.47,1389.75 \n",
       "  2193.59,1391.21 2232.7,1393.37 2271.82,1399.04 2310.93,1404.11 2350.04,1407.38 2389.16,1411.36 2428.27,1414.29 2467.39,1414.95 2506.5,1414.52 2545.61,1415.56 \n",
       "  2584.73,1417.99 2623.84,1420.64 2662.96,1422.76 2702.07,1422.86 2741.18,1422.15 2780.3,1422.37 2819.41,1422.84 2858.52,1422.79 2897.64,1422.91 2936.75,1424.17 \n",
       "  2975.87,1425.62 3014.98,1426.46 3054.09,1427.46 3093.21,1429.05 3132.32,1430.3 3171.44,1430.24 3210.55,1429.88 3249.66,1430.11 3288.78,1430.59 3327.89,1430.11 \n",
       "  3367.01,1429.1 3406.12,1429.41 3445.23,1429.93 3484.35,1430.05 3523.46,1430.42 3562.58,1431.26 3601.69,1432.15 3640.8,1432.24 3679.92,1431.38 3719.03,1430.45 \n",
       "  3758.15,1430.53 3797.26,1431.28 3836.37,1431.79 3875.49,1432.27 3914.6,1432.69 3953.71,1432.59 3992.83,1431.79 4031.94,1431.06 4071.06,1431.3 4110.17,1431.86 \n",
       "  4149.28,1432.19 4188.4,1432.39 4227.51,1432.76 4266.63,1433.19 4305.74,1433.3 4344.85,1433.19 4383.97,1433.11 4423.08,1433.16 4462.2,1433.23 4501.31,1433.13 \n",
       "  4540.42,1432.88 4579.54,1432.74 4618.65,1432.6 4657.77,1432.52 4696.88,1432.66 4735.99,1433 4775.11,1433.3 4814.22,1433.55 4853.33,1433.61 4892.45,1433.52 \n",
       "  4931.56,1433.54 4970.68,1433.62 5009.79,1433.56 5048.9,1433.49 5088.02,1433.62 5127.13,1433.75 5166.25,1433.78 5205.36,1433.78 5244.47,1433.78 5283.59,1433.78 \n",
       "  5322.7,1433.78 5361.82,1433.78 5400.93,1433.74 5440.04,1433.6 5479.16,1433.48 5518.27,1433.59 5557.39,1433.74 5596.5,1433.77 5635.61,1433.74 5674.73,1433.6 \n",
       "  5713.84,1433.48 5752.96,1433.59 5792.07,1433.74 5831.18,1433.78 5870.3,1433.78 5909.41,1433.78 5948.52,1433.78 5987.64,1433.78 6026.75,1433.78 6065.87,1433.78 \n",
       "  6104.98,1433.78 6144.09,1433.78 6183.21,1433.78 6222.32,1433.78 6261.44,1433.78 6300.55,1433.75 6339.66,1433.63 6378.78,1433.5 6417.89,1433.57 6457.01,1433.71 \n",
       "  6496.12,1433.77 6535.23,1433.78 6574.35,1433.78 6613.46,1433.78 6652.58,1433.78 6691.69,1433.78 6730.8,1433.78 6769.92,1433.78 6809.03,1433.78 6848.15,1433.78 \n",
       "  6887.26,1433.78 6926.37,1433.78 6965.49,1433.78 7004.6,1433.78 7043.71,1433.78 7082.83,1433.78 7121.94,1433.78 7161.06,1433.78 7200.17,1433.78 7239.28,1433.78 \n",
       "  7278.4,1433.78 7317.51,1433.78 7356.63,1433.78 7395.74,1433.78 7434.85,1433.78 7473.97,1433.78 7513.08,1433.78 7552.2,1433.78 7591.31,1433.78 7630.42,1433.78 \n",
       "  7669.54,1433.78 7708.65,1433.78 7747.77,1433.78 7786.88,1433.74 7825.99,1433.6 7865.11,1433.48 7904.22,1433.59 7943.34,1433.74 7982.45,1433.77 8021.56,1433.78 \n",
       "  \n",
       "  \"/>\n",
       "<path clip-path=\"url(#clip280)\" d=\"\n",
       "M2008.93 198.488 L2285.51 198.488 L2285.51 94.8081 L2008.93 94.8081  Z\n",
       "  \" fill=\"#ffffff\" fill-rule=\"evenodd\" fill-opacity=\"1\"/>\n",
       "<polyline clip-path=\"url(#clip280)\" style=\"stroke:#000000; stroke-linecap:butt; stroke-linejoin:round; stroke-width:4; stroke-opacity:1; fill:none\" points=\"\n",
       "  2008.93,198.488 2285.51,198.488 2285.51,94.8081 2008.93,94.8081 2008.93,198.488 \n",
       "  \"/>\n",
       "<polyline clip-path=\"url(#clip280)\" style=\"stroke:#009af9; stroke-linecap:butt; stroke-linejoin:round; stroke-width:4; stroke-opacity:1; fill:none\" points=\"\n",
       "  2031.34,146.648 2165.83,146.648 \n",
       "  \"/>\n",
       "<path clip-path=\"url(#clip280)\" d=\"M2202.09 166.336 Q2200.29 170.965 2198.57 172.377 Q2196.86 173.789 2193.99 173.789 L2190.59 173.789 L2190.59 170.224 L2193.09 170.224 Q2194.85 170.224 2195.82 169.391 Q2196.79 168.558 2197.97 165.456 L2198.74 163.511 L2188.25 138.002 L2192.76 138.002 L2200.86 158.28 L2208.97 138.002 L2213.48 138.002 L2202.09 166.336 Z\" fill=\"#000000\" fill-rule=\"evenodd\" fill-opacity=\"1\" /><path clip-path=\"url(#clip280)\" d=\"M2220.77 159.993 L2228.41 159.993 L2228.41 133.627 L2220.1 135.294 L2220.1 131.035 L2228.36 129.368 L2233.04 129.368 L2233.04 159.993 L2240.68 159.993 L2240.68 163.928 L2220.77 163.928 L2220.77 159.993 Z\" fill=\"#000000\" fill-rule=\"evenodd\" fill-opacity=\"1\" /></svg>\n"
      ]
     },
     "execution_count": 163,
     "metadata": {},
     "output_type": "execute_result"
    }
   ],
   "source": [
    "density(prices,xlim=(0,3*10^6))"
   ]
  },
  {
   "cell_type": "code",
   "execution_count": null,
   "metadata": {},
   "outputs": [],
   "source": []
  }
 ],
 "metadata": {
  "kernelspec": {
   "display_name": "Julia 1.6.0",
   "language": "julia",
   "name": "julia-1.6"
  },
  "language_info": {
   "file_extension": ".jl",
   "mimetype": "application/julia",
   "name": "julia",
   "version": "1.6.0"
  }
 },
 "nbformat": 4,
 "nbformat_minor": 4
}
