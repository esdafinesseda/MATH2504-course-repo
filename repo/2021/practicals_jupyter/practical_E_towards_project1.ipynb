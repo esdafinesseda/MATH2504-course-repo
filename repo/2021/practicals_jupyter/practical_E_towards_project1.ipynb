{
 "cells": [
  {
   "cell_type": "markdown",
   "metadata": {},
   "source": [
    "# [MATH2504 Programming of Simulation, Analysis, and Learning Systems at The University of Queensland](https://courses.smp.uq.edu.au/MATH2504/)\n",
    "\n",
    "## Semester 2, 2021\n",
    "\n",
    "# Practical E: Towards project 1"
   ]
  },
  {
   "cell_type": "markdown",
   "metadata": {},
   "source": [
    "Note that we use the [GitHub repo](https://github.com/yoninazarathy/2504_2021_project1) for the base [project](https://courses.smp.uq.edu.au/MATH2504/assessment_html/project1.html)."
   ]
  },
  {
   "cell_type": "code",
   "execution_count": 1,
   "metadata": {},
   "outputs": [
    {
     "name": "stderr",
     "output_type": "stream",
     "text": [
      "\u001b[32m\u001b[1m  Activating\u001b[22m\u001b[39m environment at `~/git/mine/2504_2021_project1/Project.toml`\n"
     ]
    }
   ],
   "source": [
    "using Pkg;\n",
    "# To be able to run this, have the project repository \"next to\" the course materials repository\n",
    "cd(\"../../2504_2021_project1\");\n",
    "Pkg.activate(\".\");\n",
    "# Pkg.instantiate();\n",
    "include(\"poly_factorization_project.jl\");"
   ]
  },
  {
   "cell_type": "markdown",
   "metadata": {},
   "source": [
    "# We'll create a rational function type which is a ratio of two polynomials.\n",
    "\n",
    "$$\n",
    "r(x) = \\frac{p(x)}{q(x)}.\n",
    "$$\n",
    "\n",
    "Ideally such a functon would allow a representation where any joint factors are cancelled out. However we won't get to this. \n",
    "\n",
    "The purpuse of creating such a type is to get a feel for what it is like to create another type that uses the `Polynomial` type."
   ]
  },
  {
   "cell_type": "code",
   "execution_count": 2,
   "metadata": {},
   "outputs": [],
   "source": [
    "struct RationalFunction\n",
    "    numerator::Polynomial\n",
    "    denominator::Polynomial\n",
    "end"
   ]
  },
  {
   "cell_type": "code",
   "execution_count": 3,
   "metadata": {},
   "outputs": [
    {
     "name": "stdout",
     "output_type": "stream",
     "text": [
      "r1 = RationalFunction(5⋅x^2 + -3⋅x^1 + 4⋅x^0, 6⋅x^4 + -2⋅x^1 + 5⋅x^0)\n",
      "r2 = RationalFunction(-3⋅x^1 + 4⋅x^0, 2⋅x^2 + -2⋅x^1 + 5⋅x^0)\n"
     ]
    }
   ],
   "source": [
    "x = x_poly()\n",
    "r1 = RationalFunction(5x^2-3x+4, 6x^4-2x+5)\n",
    "r2 = RationalFunction(-3x+4, 2x^2-2x+5)\n",
    "\n",
    "@show r1\n",
    "@show r2;"
   ]
  },
  {
   "cell_type": "markdown",
   "metadata": {},
   "source": [
    "# We can create a `show` method"
   ]
  },
  {
   "cell_type": "code",
   "execution_count": 4,
   "metadata": {},
   "outputs": [],
   "source": [
    "import Base: show"
   ]
  },
  {
   "cell_type": "code",
   "execution_count": 5,
   "metadata": {},
   "outputs": [
    {
     "data": {
      "text/plain": [
       "show (generic function with 308 methods)"
      ]
     },
     "execution_count": 5,
     "metadata": {},
     "output_type": "execute_result"
    }
   ],
   "source": [
    "function show(io::IO, r::RationalFunction) \n",
    "    println(io, r.numerator)\n",
    "    num_chars = max(length(string(r.numerator)),length(string(r.denominator)))\n",
    "    println(io,\"-\"^num_chars)\n",
    "    println(io,r.denominator)\n",
    "end"
   ]
  },
  {
   "cell_type": "code",
   "execution_count": 6,
   "metadata": {},
   "outputs": [
    {
     "data": {
      "text/plain": [
       "5⋅x^2 + -3⋅x^1 + 4⋅x^0\n",
       "----------------------\n",
       "6⋅x^4 + -2⋅x^1 + 5⋅x^0\n"
      ]
     },
     "execution_count": 6,
     "metadata": {},
     "output_type": "execute_result"
    }
   ],
   "source": [
    "r1"
   ]
  },
  {
   "cell_type": "code",
   "execution_count": 7,
   "metadata": {},
   "outputs": [
    {
     "data": {
      "text/plain": [
       "-3⋅x^1 + 4⋅x^0\n",
       "----------------------\n",
       "2⋅x^2 + -2⋅x^1 + 5⋅x^0\n"
      ]
     },
     "execution_count": 7,
     "metadata": {},
     "output_type": "execute_result"
    }
   ],
   "source": [
    "r2"
   ]
  },
  {
   "cell_type": "markdown",
   "metadata": {},
   "source": [
    "# We can allow multiplication"
   ]
  },
  {
   "cell_type": "code",
   "execution_count": 8,
   "metadata": {},
   "outputs": [],
   "source": [
    "import Base: *"
   ]
  },
  {
   "cell_type": "code",
   "execution_count": 9,
   "metadata": {},
   "outputs": [
    {
     "data": {
      "text/plain": [
       "* (generic function with 425 methods)"
      ]
     },
     "execution_count": 9,
     "metadata": {},
     "output_type": "execute_result"
    }
   ],
   "source": [
    "*(rf1::RationalFunction, rf2::RationalFunction) =\n",
    "         RationalFunction(rf1.numerator * rf2.numerator, rf1.denominator * rf2.denominator)"
   ]
  },
  {
   "cell_type": "code",
   "execution_count": 10,
   "metadata": {},
   "outputs": [
    {
     "data": {
      "text/plain": [
       "-15⋅x^3 + 29⋅x^2 + -24⋅x^1 + 16⋅x^0\n",
       "--------------------------------------------------------------\n",
       "12⋅x^6 + -12⋅x^5 + 30⋅x^4 + -4⋅x^3 + 14⋅x^2 + -20⋅x^1 + 25⋅x^0\n"
      ]
     },
     "execution_count": 10,
     "metadata": {},
     "output_type": "execute_result"
    }
   ],
   "source": [
    "r1*r2"
   ]
  },
  {
   "cell_type": "markdown",
   "metadata": {},
   "source": [
    "# We can create a derivative function"
   ]
  },
  {
   "cell_type": "code",
   "execution_count": 11,
   "metadata": {},
   "outputs": [
    {
     "data": {
      "text/plain": [
       "derivative (generic function with 3 methods)"
      ]
     },
     "execution_count": 11,
     "metadata": {},
     "output_type": "execute_result"
    }
   ],
   "source": [
    "function derivative(r::RationalFunction)\n",
    "    n = r.numerator\n",
    "    d = r.denominator\n",
    "    \n",
    "    #The quoutient rule for derivative\n",
    "    RationalFunction(derivative(n)*d - n*derivative(d) , d^2)\n",
    "end"
   ]
  },
  {
   "cell_type": "code",
   "execution_count": 12,
   "metadata": {},
   "outputs": [
    {
     "data": {
      "text/plain": [
       "-60⋅x^5 + 54⋅x^4 + -96⋅x^3 + -10⋅x^2 + 50⋅x^1 + -7⋅x^0\n",
       "------------------------------------------------------\n",
       "36⋅x^8 + -24⋅x^5 + 60⋅x^4 + 4⋅x^2 + -20⋅x^1 + 25⋅x^0\n"
      ]
     },
     "execution_count": 12,
     "metadata": {},
     "output_type": "execute_result"
    }
   ],
   "source": [
    "derivative(r1)"
   ]
  },
  {
   "cell_type": "markdown",
   "metadata": {},
   "source": [
    "# Adding two rational types"
   ]
  },
  {
   "cell_type": "code",
   "execution_count": 13,
   "metadata": {},
   "outputs": [],
   "source": [
    "import Base: +"
   ]
  },
  {
   "cell_type": "code",
   "execution_count": 14,
   "metadata": {},
   "outputs": [
    {
     "data": {
      "text/plain": [
       "+ (generic function with 278 methods)"
      ]
     },
     "execution_count": 14,
     "metadata": {},
     "output_type": "execute_result"
    }
   ],
   "source": [
    "function +(rf1::RationalFunction, rf2::RationalFunction)\n",
    "    # a/b + c/d\n",
    "    a, b = rf1.numerator, rf1.denominator\n",
    "    c, d = rf2.numerator, rf2.denominator\n",
    "    common = b*d\n",
    "    return RationalFunction(a*d + c*b, common)\n",
    "end"
   ]
  },
  {
   "cell_type": "code",
   "execution_count": 15,
   "metadata": {},
   "outputs": [
    {
     "data": {
      "text/plain": [
       "-18⋅x^5 + 34⋅x^4 + -16⋅x^3 + 45⋅x^2 + -46⋅x^1 + 40⋅x^0\n",
       "--------------------------------------------------------------\n",
       "12⋅x^6 + -12⋅x^5 + 30⋅x^4 + -4⋅x^3 + 14⋅x^2 + -20⋅x^1 + 25⋅x^0\n"
      ]
     },
     "execution_count": 15,
     "metadata": {},
     "output_type": "execute_result"
    }
   ],
   "source": [
    "r1+r2"
   ]
  },
  {
   "cell_type": "code",
   "execution_count": 16,
   "metadata": {},
   "outputs": [
    {
     "data": {
      "text/plain": [
       "4⋅x^2 + 1⋅x^1\n",
       "-------------\n",
       "1⋅x^3\n"
      ]
     },
     "execution_count": 16,
     "metadata": {},
     "output_type": "execute_result"
    }
   ],
   "source": [
    "RationalFunction(1+x,x^2) + RationalFunction(3*one(Polynomial),x)"
   ]
  },
  {
   "cell_type": "markdown",
   "metadata": {},
   "source": [
    "# Some sanity check"
   ]
  },
  {
   "cell_type": "code",
   "execution_count": 17,
   "metadata": {},
   "outputs": [
    {
     "data": {
      "text/plain": [
       "540⋅x^8 + -1752⋅x^7 + 2934⋅x^6 + -4044⋅x^5 + 3026⋅x^4 + -1512⋅x^3 + -1177⋅x^2 + 1002⋅x^1 + -280⋅x^0\n",
       "-----------------------------------------------------------------------------------------------------------------------------------------------\n",
       "144⋅x^12 + -288⋅x^11 + 864⋅x^10 + -816⋅x^9 + 1332⋅x^8 + -1056⋅x^7 + 1936⋅x^6 + -1912⋅x^5 + 1856⋅x^4 + -760⋅x^3 + 1100⋅x^2 + -1000⋅x^1 + 625⋅x^0\n"
      ]
     },
     "execution_count": 17,
     "metadata": {},
     "output_type": "execute_result"
    }
   ],
   "source": [
    "prod_der_A = derivative(r1*r2)"
   ]
  },
  {
   "cell_type": "code",
   "execution_count": 18,
   "metadata": {},
   "outputs": [
    {
     "data": {
      "text/plain": [
       "6480⋅x^14 + -27504⋅x^13 + 72432⋅x^12 + -138456⋅x^11 + 187428⋅x^10 + -222840⋅x^9 + 200592⋅x^8 + -190412⋅x^7 + 151948⋅x^6 + -144660⋅x^5 + 77004⋅x^4 + 888⋅x^3 + -53385⋅x^2 + 30650⋅x^1 + -7000⋅x^0\n",
       "---------------------------------------------------------------------------------------------------------------------------------------------------------------------------------------------------------------------------------------------------------\n",
       "1728⋅x^18 + -5184⋅x^17 + 18144⋅x^16 + -29376⋅x^15 + 54864⋅x^14 + -63504⋅x^13 + 100584⋅x^12 + -119088⋅x^11 + 164088⋅x^10 + -158320⋅x^9 + 167172⋅x^8 + -147312⋅x^7 + 168164⋅x^6 + -137460⋅x^5 + 99750⋅x^4 + -57500⋅x^3 + 56250⋅x^2 + -37500⋅x^1 + 15625⋅x^0\n"
      ]
     },
     "execution_count": 18,
     "metadata": {},
     "output_type": "execute_result"
    }
   ],
   "source": [
    "prod_der_B = r1*derivative(r2) + derivative(r1)*r2"
   ]
  },
  {
   "cell_type": "markdown",
   "metadata": {},
   "source": [
    "Why are these different?"
   ]
  },
  {
   "cell_type": "code",
   "execution_count": 19,
   "metadata": {},
   "outputs": [
    {
     "data": {
      "text/plain": [
       "evaluate (generic function with 3 methods)"
      ]
     },
     "execution_count": 19,
     "metadata": {},
     "output_type": "execute_result"
    }
   ],
   "source": [
    "function evaluate(r::RationalFunction, x::T) where T <: Number\n",
    "    evaluate(r.numerator,x) // evaluate(r.denominator,x)\n",
    "end"
   ]
  },
  {
   "cell_type": "code",
   "execution_count": 20,
   "metadata": {},
   "outputs": [
    {
     "data": {
      "text/plain": [
       "18//97"
      ]
     },
     "execution_count": 20,
     "metadata": {},
     "output_type": "execute_result"
    }
   ],
   "source": [
    "evaluate(r1,2)"
   ]
  },
  {
   "cell_type": "code",
   "execution_count": 21,
   "metadata": {},
   "outputs": [
    {
     "data": {
      "text/plain": [
       "-3555//207089 - 11193//207089*im"
      ]
     },
     "execution_count": 21,
     "metadata": {},
     "output_type": "execute_result"
    }
   ],
   "source": [
    "evaluate(r1, 2+3im)"
   ]
  },
  {
   "cell_type": "markdown",
   "metadata": {},
   "source": [
    "As you can see... they aren't different:"
   ]
  },
  {
   "cell_type": "code",
   "execution_count": 22,
   "metadata": {},
   "outputs": [
    {
     "data": {
      "text/plain": [
       "(632//84681, 632//84681)"
      ]
     },
     "execution_count": 22,
     "metadata": {},
     "output_type": "execute_result"
    }
   ],
   "source": [
    "evaluate(prod_der_A,2), evaluate(prod_der_B,2)"
   ]
  },
  {
   "cell_type": "markdown",
   "metadata": {},
   "source": [
    "# Some operations that modify the polynomials"
   ]
  },
  {
   "cell_type": "markdown",
   "metadata": {},
   "source": [
    "Say we wanted (for some obscure reason) to only have the polynomials with even absolute coefficients. That is, whenever there is a coefficient of the form $n$ for $nx^k$ then we must transform it to be `abs(2*(n ÷ 2))`."
   ]
  },
  {
   "cell_type": "code",
   "execution_count": 23,
   "metadata": {},
   "outputs": [
    {
     "data": {
      "text/plain": [
       "clean (generic function with 1 method)"
      ]
     },
     "execution_count": 23,
     "metadata": {},
     "output_type": "execute_result"
    }
   ],
   "source": [
    "clean(n::Int) = abs(2*(n÷2)) #\\div + [TAB]"
   ]
  },
  {
   "cell_type": "code",
   "execution_count": 24,
   "metadata": {},
   "outputs": [
    {
     "name": "stdout",
     "output_type": "stream",
     "text": [
      "[(-5, 4), (-4, 4), (-3, 2), (-2, 2), (-1, 0), (0, 0), (1, 0), (2, 2), (3, 2), (4, 4), (5, 4)]\n"
     ]
    }
   ],
   "source": [
    "[(n, clean(n)) for n=-5:5] |> println"
   ]
  },
  {
   "cell_type": "code",
   "execution_count": 25,
   "metadata": {},
   "outputs": [
    {
     "data": {
      "text/plain": [
       "clean (generic function with 2 methods)"
      ]
     },
     "execution_count": 25,
     "metadata": {},
     "output_type": "execute_result"
    }
   ],
   "source": [
    "clean(t::Term) = Term(clean(t.coeff),t.degree)"
   ]
  },
  {
   "cell_type": "code",
   "execution_count": 26,
   "metadata": {},
   "outputs": [
    {
     "data": {
      "text/plain": [
       "1⋅x^3"
      ]
     },
     "execution_count": 26,
     "metadata": {},
     "output_type": "execute_result"
    }
   ],
   "source": [
    "Term(1,3)"
   ]
  },
  {
   "cell_type": "code",
   "execution_count": 27,
   "metadata": {},
   "outputs": [
    {
     "data": {
      "text/plain": [
       "0⋅x^0"
      ]
     },
     "execution_count": 27,
     "metadata": {},
     "output_type": "execute_result"
    }
   ],
   "source": [
    "clean(ans)"
   ]
  },
  {
   "cell_type": "code",
   "execution_count": 28,
   "metadata": {},
   "outputs": [
    {
     "data": {
      "text/plain": [
       "true"
      ]
     },
     "execution_count": 28,
     "metadata": {},
     "output_type": "execute_result"
    }
   ],
   "source": [
    "iszero(ans)"
   ]
  },
  {
   "cell_type": "code",
   "execution_count": 29,
   "metadata": {},
   "outputs": [
    {
     "data": {
      "text/plain": [
       "clean (generic function with 3 methods)"
      ]
     },
     "execution_count": 29,
     "metadata": {},
     "output_type": "execute_result"
    }
   ],
   "source": [
    "function clean(p::Polynomial)\n",
    "    p_out = Polynomial()\n",
    "    terms = extract_all!(deepcopy(p).terms) #Extract all terms from heap of the polynomial\n",
    "    for t in terms\n",
    "        clean_t = clean(t)\n",
    "        !iszero(clean_t) && push!(p_out,clean(t))\n",
    "    end\n",
    "    return p_out\n",
    "end"
   ]
  },
  {
   "cell_type": "code",
   "execution_count": 30,
   "metadata": {},
   "outputs": [
    {
     "data": {
      "text/plain": [
       "1⋅x^50 + 11⋅x^8 + 46⋅x^6 + 36⋅x^5 + 82⋅x^4 + 69⋅x^2 + 46⋅x^1 + 53⋅x^0"
      ]
     },
     "execution_count": 30,
     "metadata": {},
     "output_type": "execute_result"
    }
   ],
   "source": [
    "using Random; Random.seed!(0)\n",
    "p = rand(Polynomial) + 1x^50"
   ]
  },
  {
   "cell_type": "code",
   "execution_count": 31,
   "metadata": {},
   "outputs": [
    {
     "data": {
      "text/plain": [
       "10⋅x^8 + 46⋅x^6 + 36⋅x^5 + 82⋅x^4 + 68⋅x^2 + 46⋅x^1 + 52⋅x^0"
      ]
     },
     "execution_count": 31,
     "metadata": {},
     "output_type": "execute_result"
    }
   ],
   "source": [
    "clean(p)"
   ]
  },
  {
   "cell_type": "markdown",
   "metadata": {},
   "source": [
    "Say now we wanted to do this to the `RationalFunction` type:"
   ]
  },
  {
   "cell_type": "code",
   "execution_count": 32,
   "metadata": {},
   "outputs": [
    {
     "data": {
      "text/plain": [
       "clean (generic function with 4 methods)"
      ]
     },
     "execution_count": 32,
     "metadata": {},
     "output_type": "execute_result"
    }
   ],
   "source": [
    "clean(r::RationalFunction) = RationalFunction(clean(r.numerator), clean(r.denominator))"
   ]
  },
  {
   "cell_type": "code",
   "execution_count": 33,
   "metadata": {},
   "outputs": [
    {
     "data": {
      "text/plain": [
       "5⋅x^2 + -3⋅x^1 + 4⋅x^0\n",
       "----------------------\n",
       "6⋅x^4 + -2⋅x^1 + 5⋅x^0\n"
      ]
     },
     "execution_count": 33,
     "metadata": {},
     "output_type": "execute_result"
    }
   ],
   "source": [
    "r1"
   ]
  },
  {
   "cell_type": "code",
   "execution_count": 34,
   "metadata": {},
   "outputs": [
    {
     "data": {
      "text/plain": [
       "4⋅x^2 + 2⋅x^1 + 4⋅x^0\n",
       "---------------------\n",
       "6⋅x^4 + 2⋅x^1 + 4⋅x^0\n"
      ]
     },
     "execution_count": 34,
     "metadata": {},
     "output_type": "execute_result"
    }
   ],
   "source": [
    "clean(r1)"
   ]
  }
 ],
 "metadata": {
  "kernelspec": {
   "display_name": "Julia 1.6.0",
   "language": "julia",
   "name": "julia-1.6"
  },
  "language_info": {
   "file_extension": ".jl",
   "mimetype": "application/julia",
   "name": "julia",
   "version": "1.6.0"
  }
 },
 "nbformat": 4,
 "nbformat_minor": 4
}
