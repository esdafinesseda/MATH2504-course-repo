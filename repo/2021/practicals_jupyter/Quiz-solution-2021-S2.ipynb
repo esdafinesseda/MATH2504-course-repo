{
 "cells": [
  {
   "cell_type": "markdown",
   "metadata": {},
   "source": [
    "# Solution to MATH2504 Quiz, S2, 2021"
   ]
  },
  {
   "cell_type": "markdown",
   "metadata": {},
   "source": [
    "See: https://courses.smp.uq.edu.au/MATH2504/quiz/actual_quiz_2021.pdf"
   ]
  },
  {
   "cell_type": "markdown",
   "metadata": {},
   "source": [
    "# Question 1 Solution"
   ]
  },
  {
   "cell_type": "markdown",
   "metadata": {},
   "source": [
    "**1a:**\n",
    "```\n",
    "level == 0\n",
    "```"
   ]
  },
  {
   "cell_type": "markdown",
   "metadata": {},
   "source": [
    "**1b:** If the function ends up returning `true` it means that every opening bracket has a closing bracket and then for a string of even length $n$ you'll have at most $n/2$ closing brackets. This means that line 8 is executed at most $n/2$ times.\n",
    "\n",
    "If the function ends up returning `false` it is still not possible to have the line be called for more than $n/2$ times because if we return from line $10$ we end up with a closing bracket that does not have an opening bracket."
   ]
  },
  {
   "cell_type": "markdown",
   "metadata": {},
   "source": [
    "**1c:**\n",
    "\n",
    "Line 1: ```max_level(str::String)```\n",
    "\n",
    "Line 2: `level, max_l = 0, 0`  (other names are clearly possible for `max_l`)\n",
    "\n",
    "Line 6: `(level > max_l) && (max_l = level)`\n",
    "\n",
    "Line 10: `level < 0 && return -1`\n",
    "\n",
    "Line 12: `return level == 0 ? max_l : -1` (other syntax also possible in this line)"
   ]
  },
  {
   "cell_type": "markdown",
   "metadata": {},
   "source": [
    "# Question 2 Solution"
   ]
  },
  {
   "cell_type": "markdown",
   "metadata": {},
   "source": [
    "**2a:**"
   ]
  },
  {
   "cell_type": "markdown",
   "metadata": {},
   "source": [
    "This modification does not require any consideration of the actual content of lines 5--7. We only need to see that `i` was $1,9,17,25,\\ldots,57$ and now it is $1,2,\\ldots,8$. So whereever we had `i` replace it by `8*(i-1)+1`. Hence line 5 should be changed to\n",
    "```\n",
    "c = Char((x & mask) >> (8*(i-1))  )\n",
    "```"
   ]
  },
  {
   "cell_type": "markdown",
   "metadata": {},
   "source": [
    "**2b:**"
   ]
  },
  {
   "cell_type": "markdown",
   "metadata": {},
   "source": [
    "A sensible idea is to keep the mask in place.\n",
    "Line 5: `c = Char((x >> (i-1)) & mask)`\n",
    "\n",
    "Line 6: The same.\n",
    "\n",
    "Line 7: leave empty."
   ]
  },
  {
   "cell_type": "markdown",
   "metadata": {},
   "source": [
    "An *alternative* solution that is valid simply replaces line 7 with `mask *= 256`."
   ]
  },
  {
   "cell_type": "markdown",
   "metadata": {},
   "source": [
    "# Question 3 Solution"
   ]
  },
  {
   "cell_type": "markdown",
   "metadata": {},
   "source": [
    "**3a:**\n",
    "Line 5 should be `n==1 && return A[1,1]` (or `A[1]` instead of `A[1,1]`)."
   ]
  },
  {
   "cell_type": "markdown",
   "metadata": {},
   "source": [
    "**3b**: For a matrix of size $n\\times n$ with $n>1$ (a power of 2) you will call it $T(n)$ times and \n",
    "\n",
    "$$\n",
    "T(n) = 4T(n/2)+1.\n",
    "$$\n",
    "\n",
    "For a matrix of size $1 \\times 1$ you will call it once. So $T(1) = 1$. \n",
    "\n",
    "So $T(2) = 4T(1)+1 = 4+1 = 5$.\n",
    "\n",
    "And $T(4) = 4 T(2)+1 = 4\\times (4 + 1) + 1$ = 16+4+1.\n",
    "\n",
    "And $T(8) = 4 (16+4+1)+1 = 64 + 16 + 4 + 1$.\n",
    "\n",
    "This geometric series is \n",
    "\n",
    "$$\n",
    "T(n) = \\sum_{i=0}^{\\log_2(n)} 4^i = \\frac{4^{\\log_2(n)+1}-1}{4-1} = \\frac{1}{3}\\Big(4^{\\log_2(n)+1}-1\\Big).\n",
    "$$"
   ]
  },
  {
   "cell_type": "markdown",
   "metadata": {},
   "source": [
    "Note that the geometric sum expression can be obtained by thinking at the evaluation tree without considering the recurrence relation directly."
   ]
  }
 ],
 "metadata": {
  "kernelspec": {
   "display_name": "Julia 1.6.0",
   "language": "julia",
   "name": "julia-1.6"
  },
  "language_info": {
   "file_extension": ".jl",
   "mimetype": "application/julia",
   "name": "julia",
   "version": "1.6.0"
  }
 },
 "nbformat": 4,
 "nbformat_minor": 4
}
