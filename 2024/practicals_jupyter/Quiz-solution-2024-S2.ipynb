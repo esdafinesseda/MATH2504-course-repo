{
 "cells": [
  {
   "cell_type": "markdown",
   "metadata": {},
   "source": [
    "# Solution to MATH2504 Quiz, S2, 2024"
   ]
  },
  {
   "cell_type": "markdown",
   "metadata": {},
   "source": [
    "See: https://courses.smp.uq.edu.au/MATH2504/2024/quiz/actual_quiz_2024.pdf"
   ]
  },
  {
   "cell_type": "markdown",
   "metadata": {},
   "source": [
    "# Question 1 Solution"
   ]
  },
  {
   "cell_type": "markdown",
   "metadata": {},
   "source": [
    "**1a:**\n",
    "The answer is `8`. A common mistake was to answer `16`. Answers of `16` got 4 out of the 12 points.\n"
   ]
  },
  {
   "cell_type": "markdown",
   "metadata": {},
   "source": [
    "**1b:** "
   ]
  },
  {
   "cell_type": "code",
   "execution_count": 12,
   "metadata": {},
   "outputs": [
    {
     "data": {
      "text/plain": [
       "\"0000000010101011\""
      ]
     },
     "execution_count": 12,
     "metadata": {},
     "output_type": "execute_result"
    }
   ],
   "source": [
    "bitstring(0x00ab)"
   ]
  },
  {
   "cell_type": "code",
   "execution_count": 13,
   "metadata": {},
   "outputs": [
    {
     "data": {
      "text/plain": [
       "\"0000000011001101\""
      ]
     },
     "execution_count": 13,
     "metadata": {},
     "output_type": "execute_result"
    }
   ],
   "source": [
    "bitstring(0x00cd)"
   ]
  },
  {
   "cell_type": "code",
   "execution_count": 14,
   "metadata": {},
   "outputs": [
    {
     "data": {
      "text/plain": [
       "0x0089"
      ]
     },
     "execution_count": 14,
     "metadata": {},
     "output_type": "execute_result"
    }
   ],
   "source": [
    "0b0000000010001001 #merge bit by bit (visually)"
   ]
  },
  {
   "cell_type": "markdown",
   "metadata": {},
   "source": [
    "So the answer is `0x0089`"
   ]
  },
  {
   "cell_type": "markdown",
   "metadata": {},
   "source": [
    "**1c:** "
   ]
  },
  {
   "cell_type": "code",
   "execution_count": 15,
   "metadata": {},
   "outputs": [],
   "source": [
    "merge_bits(x1::UInt16, x2::UInt16) = (x1 & 0x5555) | (x2 & 0xAAAA);"
   ]
  },
  {
   "cell_type": "markdown",
   "metadata": {},
   "source": [
    "So the answer is `0x5555` and `0xAAAA`"
   ]
  },
  {
   "cell_type": "markdown",
   "metadata": {},
   "source": [
    "# Question 2 Solution"
   ]
  },
  {
   "cell_type": "markdown",
   "metadata": {},
   "source": [
    "**2a:**\n",
    "`n==0` should be `k==0`"
   ]
  },
  {
   "cell_type": "markdown",
   "metadata": {},
   "source": [
    "So function should be:"
   ]
  },
  {
   "cell_type": "code",
   "execution_count": 18,
   "metadata": {},
   "outputs": [],
   "source": [
    "function bin_coef(n::Int, k::Int)\n",
    "    k > n && error(\"k must not be greater than n\")\n",
    "    (k == 0 || k == n) && return 1\n",
    "    return bin_coef(n - 1, k - 1) + bin_coef(n - 1, k)\n",
    "end;"
   ]
  },
  {
   "cell_type": "markdown",
   "metadata": {},
   "source": [
    "**2b:**"
   ]
  },
  {
   "cell_type": "code",
   "execution_count": 19,
   "metadata": {},
   "outputs": [
    {
     "data": {
      "text/plain": [
       "2047"
      ]
     },
     "execution_count": 19,
     "metadata": {},
     "output_type": "execute_result"
    }
   ],
   "source": [
    "sum([sum([bin_coef(n,k) for k in 0:n]) for n in 0:10])"
   ]
  },
  {
   "cell_type": "markdown",
   "metadata": {},
   "source": [
    "**2c:**\n",
    "The answer is 5."
   ]
  },
  {
   "cell_type": "code",
   "execution_count": 26,
   "metadata": {},
   "outputs": [
    {
     "name": "stdout",
     "output_type": "stream",
     "text": [
      "hey (3, 2)\n",
      "hey (2, 1)\n",
      "hey (1, 0)\n",
      "hey (1, 1)\n",
      "hey (2, 2)\n"
     ]
    }
   ],
   "source": [
    "function bin_coef(n::Int, k::Int)\n",
    "    println(\"hey $((n, k))\")\n",
    "    (k == 0 || k == n) && return 1\n",
    "    return bin_coef(n - 1, k - 1) + bin_coef(n - 1, k)\n",
    "end\n",
    "bin_coef(3,2);"
   ]
  },
  {
   "cell_type": "markdown",
   "metadata": {},
   "source": [
    "# Question 3 Solution"
   ]
  },
  {
   "cell_type": "markdown",
   "metadata": {},
   "source": [
    "**3a:**\n",
    "\n",
    "Line `7` should have `false` instead of `true`.\n",
    "\n",
    "Line `10` should have `true` instead of `false`."
   ]
  },
  {
   "cell_type": "markdown",
   "metadata": {},
   "source": [
    "**3b**: \n",
    "\n",
    "Would return `false`.\n",
    "\n",
    "To return `true` change `A[2,2]` to be an entry in the range `5,6,7,8`."
   ]
  },
  {
   "cell_type": "markdown",
   "metadata": {},
   "source": [
    "**3c**: \n",
    "The answer is `true`. The input matrix is an outer product of two monotonic vectors which is thus monotonic.\n",
    "\n",
    "Some may get confused and think that `[1,2,3]*[10,20,20]'` is an inner-product and hence a scalar. In this case -6 points (although in practice the function won't  work. Also, some thought the product is `[10, 40, 60]` in which case `-6` points."
   ]
  }
 ],
 "metadata": {
  "kernelspec": {
   "display_name": "Julia 1.10.4",
   "language": "julia",
   "name": "julia-1.10"
  },
  "language_info": {
   "file_extension": ".jl",
   "mimetype": "application/julia",
   "name": "julia",
   "version": "1.10.4"
  }
 },
 "nbformat": 4,
 "nbformat_minor": 4
}
