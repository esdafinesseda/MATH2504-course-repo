{
 "cells": [
  {
   "cell_type": "code",
   "execution_count": 6,
   "id": "01d7eb21-f9e8-4e72-a378-2a71b040dbaa",
   "metadata": {},
   "outputs": [
    {
     "name": "stdout",
     "output_type": "stream",
     "text": [
      "Let me tell you about my favorite number: 1\n",
      "Let me tell you about my favorite number: 2\n",
      "Let me tell you about my favorite number: 3\n",
      "Let me tell you about my favorite number: 4\n",
      "Let me tell you about my favorite number: 5\n"
     ]
    }
   ],
   "source": [
    "for i in 1:5\n",
    "    print(\"Let me tell you about my favorite number: \")\n",
    "    println(i)\n",
    "end"
   ]
  },
  {
   "cell_type": "markdown",
   "id": "be721bfc-c35f-436b-9f6c-ccc79de4bb1f",
   "metadata": {},
   "source": [
    "This is text in Markdown. Markdown can do things like lists:\n",
    "\n",
    "* Julia\n",
    "* Python\n",
    "* Javascript\n",
    "\n",
    "Markdown can do headings.\n",
    "\n",
    "# Top heading\n",
    "\n",
    "dsfasdfasdf\n",
    "\n",
    "fdsasdfsadf\n",
    "## Less important heading\n",
    "\n",
    "asdfasdfasdf\n",
    "\n",
    "### even more less important heading\n",
    "\n",
    "$ \\int_0^\\infty \\frac{1}{x} dx $"
   ]
  },
  {
   "cell_type": "code",
   "execution_count": 7,
   "id": "cba65928-292d-4277-8044-49626c610524",
   "metadata": {},
   "outputs": [
    {
     "data": {
      "text/plain": [
       "1"
      ]
     },
     "execution_count": 7,
     "metadata": {},
     "output_type": "execute_result"
    }
   ],
   "source": [
    "x = 1"
   ]
  },
  {
   "cell_type": "code",
   "execution_count": 8,
   "id": "353bcdaa-285d-4eae-bc8f-65f47907b87a",
   "metadata": {},
   "outputs": [
    {
     "data": {
      "text/plain": [
       "2"
      ]
     },
     "execution_count": 8,
     "metadata": {},
     "output_type": "execute_result"
    }
   ],
   "source": [
    "y = 2"
   ]
  },
  {
   "cell_type": "markdown",
   "id": "69c58a60-6c91-4c73-bd5d-20be7537c7db",
   "metadata": {},
   "source": [
    "My favorite reciprocal is $ \\frac{1}{x}$."
   ]
  },
  {
   "cell_type": "markdown",
   "id": "a2fbb412-78b4-4bab-b9ab-95df2f801a4d",
   "metadata": {},
   "source": [
    "$$\n",
    "\\frac{1}{x}\n",
    "$$"
   ]
  },
  {
   "cell_type": "markdown",
   "id": "9f7d2290-7193-48ce-b55e-10fc250a148c",
   "metadata": {},
   "source": [
    "<html>\n",
    "      <ul>\n",
    "        <li><b><a href=\"lectures_html/lecture-unit-1.html\">Unit 1- Hello World Bootcamp</a>:</b> Getting your basic programs to run. Variables, arithmetic, logical statements, conditionals, iteration, functions, scope.  </li>\n",
    "        <li><b><a href=\"lectures_html/lecture-unit-2.html\">Unit 2- Basics</a>: </b>Basics of computation, arrays and similar structures, strings, input and output, the Julia language, Jupyter notebooks, REPL (command line), and markdown. </li>\n",
    "        <li><b><a href=\"lectures_html/lecture-unit-3.html\">Unit 3 - On Algorithms and more</a>:</b> Sorting algorithms and their analysis. Quantifying performance via empirical measurement. Quantifying performance via mathematical analysis. Compilation steps. Memory organization. Representation of variables and quantities in memory. Additional tools: Unix command line, Git and GitHub like systems, IDEs (Integrated Development Environments). </li>\n",
    "        <li><b><a href=\"lectures_html/lecture-unit-4.html\">Unit 4 - On data files, and basic numerics</a>:</b> Standard file formats (e.g. CSV, JSON), reading and writing to files, web input, basic plotting with Julia, basic descriptive statistics and statistical plotting with Julia, representation of floating point numbers, numerical inaccuracy issue (e.g. numerical derivatives), solutions of ODEs using standard methods, basic matrix operations and performance considerations, usage of third party packages and the Julia package manager. Usage of language features for dealing with special structures (e.g. sparsity). Further profiling and debugging tools and the basic usage of a debugger. </li>\n",
    "        <li><b><a href=\"lectures_html/lecture-unit-5.html\">Unit 5 - More language features for software architecture</a>:</b> Julia types and multiple dispatch, defining structures and designing types. </li>\n",
    "        <li><b><a href=\"https://github.com/yoninazarathy/ProgrammingCourse-with-Julia-SimulationAnalysisAndLearningSystems/blob/main/lectures_jupyter/unit_6.ipynb\">Unit 6 - Computer algebra systems and symbolic computation</a>:</b> Background from elementary number theory, p-addic lifting, Chinese remainder techniques, rational reconstruction, polynomial arithmetic, interpolation, GCD and Euclid's algorithm, factoring mod p, Zipple's algorithm, further symbolic computation applications. </li>\n",
    "        <li><b><a href=\"lectures_html/lecture-unit-7.html\">Unit 7 - Monte Carlo and discrete event simulation</a>:</b> Pseudorandom number generators, from uniform distributions to any distribution, basic Monte Carlo based statistical analysis, discrete event simulation modelling, discrete event simulation engines. Modular software design, with modules and namespace control. Additional language features including meta-programming and further understanding of the compilation process. More on type inference and performance implications.</li>\n",
    "        <li><b><a href=\"lectures_html/lecture-unit-8.html\">Unit 8 - Working with heterogenous datasets</a>:</b> Dataframes and data  and more on memory management. Exploratory data analysis and visualization. Further language features. More on design principles of packages and interfaces. </li>\n",
    "      </ul>\n",
    "      </html>"
   ]
  },
  {
   "cell_type": "code",
   "execution_count": null,
   "id": "b416ebe8-0680-4655-a693-a47d3d6ecd4f",
   "metadata": {},
   "outputs": [],
   "source": []
  }
 ],
 "metadata": {
  "kernelspec": {
   "display_name": "Julia 1.10.4",
   "language": "julia",
   "name": "julia-1.10"
  },
  "language_info": {
   "file_extension": ".jl",
   "mimetype": "application/julia",
   "name": "julia",
   "version": "1.10.4"
  }
 },
 "nbformat": 4,
 "nbformat_minor": 5
}
